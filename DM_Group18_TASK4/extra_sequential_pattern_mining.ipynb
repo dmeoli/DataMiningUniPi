{
 "cells": [
  {
   "cell_type": "markdown",
   "metadata": {},
   "source": [
    "# Task 4 extra: Sequential Pattern Mining"
   ]
  },
  {
   "cell_type": "code",
   "execution_count": 1,
   "metadata": {},
   "outputs": [],
   "source": [
    "import copy\n",
    "import pandas as pd\n",
    "from operator import neg\n",
    "from itertools import groupby\n",
    "from collections import defaultdict"
   ]
  },
  {
   "cell_type": "markdown",
   "metadata": {},
   "source": [
    "## PrefixSpan: Sequential Pattern Mining by Pattern-Growth"
   ]
  },
  {
   "cell_type": "code",
   "execution_count": 2,
   "metadata": {},
   "outputs": [],
   "source": [
    "dataset = [\n",
    "    # sequence: list of events\n",
    "    [['a'], ['a', 'b', 'c'], ['a', 'c'], ['c']],  # event: [list of strings]\n",
    "    [['a'], ['c'], ['b', 'c']], \n",
    "    [['a', 'b'], ['d'], ['c'], ['b'], ['c']], \n",
    "    [['a'], ['c'], ['b'], ['c']]\n",
    "]"
   ]
  },
  {
   "cell_type": "code",
   "execution_count": 3,
   "metadata": {},
   "outputs": [],
   "source": [
    "def is_subsequence(main_sequence, subsequence):\n",
    "    \"\"\"\n",
    "    Recursive method that checks if `subsequence` is a subsequence of `main_sequence`\n",
    "    \"\"\"\n",
    "\n",
    "    def is_subsequence_recursive(subsequence_clone, start=0):\n",
    "        \"\"\"\n",
    "        Function for the recursive call of is_subsequence\n",
    "        \"\"\"\n",
    "        # check if empty: end of recursion, all itemsets have been found\n",
    "        if not subsequence_clone:\n",
    "            return True\n",
    "        # retrieves element of the subsequence and removes is from subsequence \n",
    "        first_elem = set(subsequence_clone.pop(0))\n",
    "        # search for the first itemset...\n",
    "        for i in range(start, len(main_sequence)):\n",
    "            if set(main_sequence[i]).issuperset(first_elem):\n",
    "                # and recurse\n",
    "                return is_subsequence_recursive(subsequence_clone, i + 1)\n",
    "        return False\n",
    "\n",
    "    return is_subsequence_recursive(subsequence.copy()) # start recursion"
   ]
  },
  {
   "cell_type": "code",
   "execution_count": 4,
   "metadata": {},
   "outputs": [],
   "source": [
    "sequence = [['a'], ['b', 'c'], ['d'], ['a', 'e']]"
   ]
  },
  {
   "cell_type": "code",
   "execution_count": 5,
   "metadata": {
    "collapsed": false,
    "jupyter": {
     "outputs_hidden": false
    }
   },
   "outputs": [
    {
     "data": {
      "text/plain": [
       "True"
      ]
     },
     "execution_count": 5,
     "metadata": {},
     "output_type": "execute_result"
    }
   ],
   "source": [
    "is_subsequence(sequence, [['a'], ['b', 'c'], ['e']])"
   ]
  },
  {
   "cell_type": "code",
   "execution_count": 6,
   "metadata": {
    "collapsed": false,
    "jupyter": {
     "outputs_hidden": false
    }
   },
   "outputs": [
    {
     "data": {
      "text/plain": [
       "False"
      ]
     },
     "execution_count": 6,
     "metadata": {},
     "output_type": "execute_result"
    }
   ],
   "source": [
    "is_subsequence(sequence, [['a'], ['b', 'd']])"
   ]
  },
  {
   "cell_type": "code",
   "execution_count": 7,
   "metadata": {},
   "outputs": [],
   "source": [
    "def project_sequence(sequence, prefix, new_event):\n",
    "    \"\"\"\n",
    "    Projects a sequence according to a given prefix\n",
    "\n",
    "    Args:\n",
    "        sequence: the sequence the projection is built from\n",
    "        prefix: the prefix that is searched for in the sequence\n",
    "        new_event: if set to True, the first itemset is ignored\n",
    "    Returns:\n",
    "        If the sequence does not contain the prefix, then None.\n",
    "        Otherwise, a new sequence starting from the position of the prefix, including the itemset that includes the prefix\n",
    "    \"\"\"\n",
    "    result = None\n",
    "    for i, itemset in enumerate(sequence):\n",
    "        if result is None:\n",
    "            if not new_event or i > 0:\n",
    "                if all(x in itemset for x in prefix):\n",
    "                    result = [list(itemset)]\n",
    "        else:\n",
    "            result.append(copy.copy(itemset))\n",
    "    return result"
   ]
  },
  {
   "cell_type": "code",
   "execution_count": 8,
   "metadata": {
    "collapsed": false,
    "jupyter": {
     "outputs_hidden": false
    }
   },
   "outputs": [
    {
     "data": {
      "text/plain": [
       "[['b', 'c'], ['a', 'c'], ['c']]"
      ]
     },
     "execution_count": 8,
     "metadata": {},
     "output_type": "execute_result"
    }
   ],
   "source": [
    "sequence = [['a'], ['b', 'c'], ['a', 'c'], ['c']]\n",
    "project_sequence(sequence, ['b'], False)"
   ]
  },
  {
   "cell_type": "code",
   "execution_count": 9,
   "metadata": {
    "collapsed": false,
    "jupyter": {
     "outputs_hidden": false
    }
   },
   "outputs": [
    {
     "data": {
      "text/plain": [
       "[['a', 'c'], ['c']]"
      ]
     },
     "execution_count": 9,
     "metadata": {},
     "output_type": "execute_result"
    }
   ],
   "source": [
    "project_sequence(sequence, ['a', 'c'], False)"
   ]
  },
  {
   "cell_type": "code",
   "execution_count": 10,
   "metadata": {
    "collapsed": false,
    "jupyter": {
     "outputs_hidden": false
    }
   },
   "outputs": [
    {
     "data": {
      "text/plain": [
       "[['a'], ['b', 'c'], ['a', 'c'], ['c']]"
      ]
     },
     "execution_count": 10,
     "metadata": {},
     "output_type": "execute_result"
    }
   ],
   "source": [
    "project_sequence(sequence, ['a'], False)"
   ]
  },
  {
   "cell_type": "code",
   "execution_count": 11,
   "metadata": {
    "collapsed": false,
    "jupyter": {
     "outputs_hidden": false
    }
   },
   "outputs": [
    {
     "data": {
      "text/plain": [
       "[['a', 'c'], ['c']]"
      ]
     },
     "execution_count": 11,
     "metadata": {},
     "output_type": "execute_result"
    }
   ],
   "source": [
    "project_sequence(sequence, ['a'], True)"
   ]
  },
  {
   "cell_type": "code",
   "execution_count": 12,
   "metadata": {},
   "outputs": [],
   "source": [
    "def project_dataset(dataset, prefix, new_event):\n",
    "    \"\"\"\n",
    "    Projects a dataset according to a given prefix\n",
    "\n",
    "    Args:\n",
    "        dataset: the dataset the projection is built from\n",
    "        prefix: the prefix that is searched for in the sequence\n",
    "        new_event: if set to True, the first itemset is ignored\n",
    "    Returns:\n",
    "        A (potentially empty) list of sequences\n",
    "    \"\"\"\n",
    "    projected_db = []\n",
    "    for sequence in dataset:\n",
    "        seq_proj = project_sequence(sequence, prefix, new_event)\n",
    "        if not seq_proj is None:\n",
    "            projected_db.append(seq_proj)\n",
    "    return projected_db"
   ]
  },
  {
   "cell_type": "code",
   "execution_count": 13,
   "metadata": {
    "collapsed": false,
    "jupyter": {
     "outputs_hidden": false
    }
   },
   "outputs": [
    {
     "data": {
      "text/plain": [
       "[[['a', 'b', 'c'], ['a', 'c'], ['c']],\n",
       " [['c'], ['b', 'c']],\n",
       " [['c'], ['b'], ['c']],\n",
       " [['c'], ['b'], ['c']]]"
      ]
     },
     "execution_count": 13,
     "metadata": {},
     "output_type": "execute_result"
    }
   ],
   "source": [
    "project_dataset(dataset, ['c'], False)"
   ]
  },
  {
   "cell_type": "code",
   "execution_count": 14,
   "metadata": {},
   "outputs": [],
   "source": [
    "def sequence_length(sequence):\n",
    "    \"\"\"\n",
    "    Computes the length of the sequence (sum of the length of the contained itemsets)\n",
    "    \"\"\"\n",
    "    return sum(len(i) for i in sequence)"
   ]
  },
  {
   "cell_type": "code",
   "execution_count": 15,
   "metadata": {
    "collapsed": false,
    "jupyter": {
     "outputs_hidden": false
    }
   },
   "outputs": [
    {
     "data": {
      "text/plain": [
       "7"
      ]
     },
     "execution_count": 15,
     "metadata": {},
     "output_type": "execute_result"
    }
   ],
   "source": [
    "sequence_length([['a'], ['b', 'c'], ['a'], ['b', 'c', 'd']])"
   ]
  },
  {
   "cell_type": "code",
   "execution_count": 16,
   "metadata": {},
   "outputs": [],
   "source": [
    "def generate_items(dataset):\n",
    "    \"\"\"\n",
    "    Generates a list of all items that are contained in a dataset\n",
    "    \"\"\"\n",
    "    return sorted(set([item for sequence in dataset for event in sequence for item in even]))\n",
    "\n",
    "def generate_item_supports(dataset, ignore_first_event=False, prefix=[]):\n",
    "    \"\"\"\n",
    "    Computes a defaultdict that maps each item in the dataset to its support\n",
    "    \"\"\"\n",
    "    result = defaultdict(int)\n",
    "    for sequence in dataset:\n",
    "        if ignore_first_event:\n",
    "            sequence = sequence[1:]\n",
    "        cooccurring_items = set()\n",
    "        for itemset in sequence:\n",
    "            if all(x in itemset for x in prefix):\n",
    "                for item in itemset:\n",
    "                    if not item in prefix:\n",
    "                        cooccurring_items.add(item)\n",
    "        for item in cooccurring_items:\n",
    "            result[item] += 1\n",
    "    return sorted(result.items())"
   ]
  },
  {
   "cell_type": "code",
   "execution_count": 17,
   "metadata": {},
   "outputs": [],
   "source": [
    "def prefix_span(dataset, min_sup):\n",
    "    \"\"\"\n",
    "    The PrefixSpan algorithm. Computes the frequent sequences in a seqeunce dataset.\n",
    "\n",
    "    Args:\n",
    "        dataset: a list of sequences, for which the frequent (sub-)sequences are computed\n",
    "        min_sup: the minimum support that makes a sequence frequent\n",
    "    Returns:\n",
    "        A list of tuples (s, c), where s is a frequent sequence, and c is the count for that sequence\n",
    "    \"\"\"\n",
    "    \n",
    "    def prefix_span__recursive(dataset, min_sup, prev_prefixes=[]):\n",
    "        result = []\n",
    "\n",
    "        # add a new item to the last element (==same time)\n",
    "        item_count_same_event = generate_item_supports(dataset, False, prefix=prev_prefixes[-1])\n",
    "        for item, count in item_count_same_event:\n",
    "            if count >= min_sup and item > prev_prefixes[-1][-1]:\n",
    "                new_prefix = copy.deepcopy(prev_prefixes)\n",
    "                new_prefix[-1].append(item)\n",
    "                result.append((new_prefix, count))\n",
    "                result.extend(prefix_span__recursive(project_dataset(dataset, new_prefix[-1], False), min_sup, new_prefix))\n",
    "\n",
    "        # add a new event to the prefix\n",
    "        item_count_subsequent_events = generate_item_supports(dataset, True)\n",
    "        for item, count in item_count_subsequent_events:\n",
    "            if count >= min_sup:\n",
    "                new_prefix = copy.deepcopy(prev_prefixes)\n",
    "                new_prefix.append([item])\n",
    "                result.append((new_prefix, count))\n",
    "                result.extend(prefix_span__recursive(project_dataset(dataset, [item], True), min_sup, new_prefix))\n",
    "        return result\n",
    "    \n",
    "    result = []\n",
    "    item_counts = generate_item_supports(dataset)\n",
    "    min_sup *= len(dataset)\n",
    "    for item, count in item_counts:\n",
    "        if count >= min_sup:\n",
    "            new_prefix = [[item]]\n",
    "            result.append((new_prefix, count))\n",
    "            result.extend(prefix_span__recursive(project_dataset(dataset, [item], False), min_sup, new_prefix))\n",
    "    result.sort(key=lambda tup: (tup[1], neg(sequence_length(tup[0]))), reverse=True)\n",
    "    return result"
   ]
  },
  {
   "cell_type": "code",
   "execution_count": 18,
   "metadata": {
    "collapsed": false,
    "jupyter": {
     "outputs_hidden": false
    }
   },
   "outputs": [
    {
     "data": {
      "text/plain": [
       "[([['a']], 4),\n",
       " ([['b']], 4),\n",
       " ([['c']], 4),\n",
       " ([['a'], ['b']], 4),\n",
       " ([['a'], ['c']], 4),\n",
       " ([['c'], ['c']], 4),\n",
       " ([['a'], ['c'], ['c']], 4),\n",
       " ([['b'], ['c']], 3),\n",
       " ([['c'], ['b']], 3),\n",
       " ([['a'], ['b'], ['c']], 3),\n",
       " ([['a'], ['c'], ['b']], 3),\n",
       " ([['a', 'b']], 2),\n",
       " ([['b', 'c']], 2),\n",
       " ([['a', 'b'], ['c']], 2),\n",
       " ([['a'], ['b', 'c']], 2),\n",
       " ([['b'], ['c'], ['c']], 2),\n",
       " ([['c'], ['b'], ['c']], 2),\n",
       " ([['a', 'b'], ['c'], ['c']], 2),\n",
       " ([['a'], ['c'], ['b'], ['c']], 2)]"
      ]
     },
     "execution_count": 18,
     "metadata": {},
     "output_type": "execute_result"
    }
   ],
   "source": [
    "prefix_span(dataset, min_sup=0.5)"
   ]
  },
  {
   "cell_type": "code",
   "execution_count": 19,
   "metadata": {},
   "outputs": [],
   "source": [
    "def filter_closed(result):\n",
    "    \"\"\"\n",
    "    Given a list of all frequent sequences and their counts, compute the set of closed frequent sequence\n",
    "    \"\"\"\n",
    "    for supersequence, count_seq in copy.deepcopy(result):\n",
    "        for subsequence, count_subseq in copy.deepcopy(result):\n",
    "            if is_subsequence(supersequence, subsequence) and count_seq == count_subseq and subsequence != supersequence:\n",
    "                result.remove((subsequence, count_subseq))"
   ]
  },
  {
   "cell_type": "code",
   "execution_count": 20,
   "metadata": {
    "collapsed": false,
    "jupyter": {
     "outputs_hidden": false
    }
   },
   "outputs": [
    {
     "data": {
      "text/plain": [
       "[([['a'], ['b']], 4),\n",
       " ([['a'], ['c'], ['c']], 4),\n",
       " ([['a'], ['b'], ['c']], 3),\n",
       " ([['a'], ['c'], ['b']], 3),\n",
       " ([['a'], ['b', 'c']], 2),\n",
       " ([['a', 'b'], ['c'], ['c']], 2),\n",
       " ([['a'], ['c'], ['b'], ['c']], 2)]"
      ]
     },
     "execution_count": 20,
     "metadata": {},
     "output_type": "execute_result"
    }
   ],
   "source": [
    "result = prefix_span(dataset, min_sup=0.5)\n",
    "filter_closed(result)\n",
    "result"
   ]
  },
  {
   "cell_type": "code",
   "execution_count": 21,
   "metadata": {},
   "outputs": [],
   "source": [
    "def filter_maximal(result):\n",
    "    \"\"\"\n",
    "    Given a list of all frequent sequences and their counts, compute the set of maximal frequent sequence\n",
    "    \"\"\"\n",
    "    for supersequence, count_seq in copy.deepcopy(result):\n",
    "        for subsequence, count_subseq in copy.deepcopy(result):\n",
    "            if is_subsequence(supersequence, subsequence) and subsequence != supersequence:\n",
    "                result.remove((subsequence, count_subseq))"
   ]
  },
  {
   "cell_type": "code",
   "execution_count": 22,
   "metadata": {
    "collapsed": false,
    "jupyter": {
     "outputs_hidden": false
    }
   },
   "outputs": [
    {
     "data": {
      "text/plain": [
       "[([['a'], ['b', 'c']], 2),\n",
       " ([['a', 'b'], ['c'], ['c']], 2),\n",
       " ([['a'], ['c'], ['b'], ['c']], 2)]"
      ]
     },
     "execution_count": 22,
     "metadata": {},
     "output_type": "execute_result"
    }
   ],
   "source": [
    "result = prefix_span(dataset, min_sup=0.5)\n",
    "filter_maximal(result)\n",
    "result"
   ]
  },
  {
   "cell_type": "markdown",
   "metadata": {},
   "source": [
    "## Loading the new Customer Supermarket dataset"
   ]
  },
  {
   "cell_type": "code",
   "execution_count": 23,
   "metadata": {},
   "outputs": [
    {
     "data": {
      "text/html": [
       "<div>\n",
       "<style scoped>\n",
       "    .dataframe tbody tr th:only-of-type {\n",
       "        vertical-align: middle;\n",
       "    }\n",
       "\n",
       "    .dataframe tbody tr th {\n",
       "        vertical-align: top;\n",
       "    }\n",
       "\n",
       "    .dataframe thead th {\n",
       "        text-align: right;\n",
       "    }\n",
       "</style>\n",
       "<table border=\"1\" class=\"dataframe\">\n",
       "  <thead>\n",
       "    <tr style=\"text-align: right;\">\n",
       "      <th></th>\n",
       "      <th>BasketID</th>\n",
       "      <th>BasketDate</th>\n",
       "      <th>Sale</th>\n",
       "      <th>CustomerID</th>\n",
       "      <th>ProdID</th>\n",
       "      <th>ProdDescr</th>\n",
       "      <th>Qta</th>\n",
       "      <th>TotSale</th>\n",
       "    </tr>\n",
       "  </thead>\n",
       "  <tbody>\n",
       "    <tr>\n",
       "      <th>0</th>\n",
       "      <td>539993</td>\n",
       "      <td>2011-04-01 10:00:00</td>\n",
       "      <td>1.95</td>\n",
       "      <td>13313.0</td>\n",
       "      <td>22386</td>\n",
       "      <td>JUMBO BAG PINK POLKADOT</td>\n",
       "      <td>10</td>\n",
       "      <td>19.50</td>\n",
       "    </tr>\n",
       "    <tr>\n",
       "      <th>1</th>\n",
       "      <td>539993</td>\n",
       "      <td>2011-04-01 10:00:00</td>\n",
       "      <td>0.42</td>\n",
       "      <td>13313.0</td>\n",
       "      <td>21499</td>\n",
       "      <td>BLUE POLKADOT WRAP</td>\n",
       "      <td>25</td>\n",
       "      <td>10.50</td>\n",
       "    </tr>\n",
       "    <tr>\n",
       "      <th>2</th>\n",
       "      <td>539993</td>\n",
       "      <td>2011-04-01 10:00:00</td>\n",
       "      <td>0.42</td>\n",
       "      <td>13313.0</td>\n",
       "      <td>21498</td>\n",
       "      <td>RED RETROSPOT WRAP</td>\n",
       "      <td>25</td>\n",
       "      <td>10.50</td>\n",
       "    </tr>\n",
       "    <tr>\n",
       "      <th>3</th>\n",
       "      <td>539993</td>\n",
       "      <td>2011-04-01 10:00:00</td>\n",
       "      <td>2.10</td>\n",
       "      <td>13313.0</td>\n",
       "      <td>22379</td>\n",
       "      <td>RECYCLING BAG RETROSPOT</td>\n",
       "      <td>5</td>\n",
       "      <td>10.50</td>\n",
       "    </tr>\n",
       "    <tr>\n",
       "      <th>4</th>\n",
       "      <td>539993</td>\n",
       "      <td>2011-04-01 10:00:00</td>\n",
       "      <td>1.25</td>\n",
       "      <td>13313.0</td>\n",
       "      <td>20718</td>\n",
       "      <td>RED RETROSPOT SHOPPER BAG</td>\n",
       "      <td>10</td>\n",
       "      <td>12.50</td>\n",
       "    </tr>\n",
       "    <tr>\n",
       "      <th>...</th>\n",
       "      <td>...</td>\n",
       "      <td>...</td>\n",
       "      <td>...</td>\n",
       "      <td>...</td>\n",
       "      <td>...</td>\n",
       "      <td>...</td>\n",
       "      <td>...</td>\n",
       "      <td>...</td>\n",
       "    </tr>\n",
       "    <tr>\n",
       "      <th>363571</th>\n",
       "      <td>581587</td>\n",
       "      <td>2011-09-12 12:50:00</td>\n",
       "      <td>0.85</td>\n",
       "      <td>12680.0</td>\n",
       "      <td>22613</td>\n",
       "      <td>PACK OF SPACEBOY NAPKINS</td>\n",
       "      <td>12</td>\n",
       "      <td>10.20</td>\n",
       "    </tr>\n",
       "    <tr>\n",
       "      <th>363572</th>\n",
       "      <td>581587</td>\n",
       "      <td>2011-09-12 12:50:00</td>\n",
       "      <td>2.10</td>\n",
       "      <td>12680.0</td>\n",
       "      <td>22899</td>\n",
       "      <td>CHILDRENS APRON DOLLY GIRL</td>\n",
       "      <td>6</td>\n",
       "      <td>12.60</td>\n",
       "    </tr>\n",
       "    <tr>\n",
       "      <th>363573</th>\n",
       "      <td>581587</td>\n",
       "      <td>2011-09-12 12:50:00</td>\n",
       "      <td>4.15</td>\n",
       "      <td>12680.0</td>\n",
       "      <td>23254</td>\n",
       "      <td>CHILDRENS CUTLERY DOLLY GIRL</td>\n",
       "      <td>4</td>\n",
       "      <td>16.60</td>\n",
       "    </tr>\n",
       "    <tr>\n",
       "      <th>363574</th>\n",
       "      <td>581587</td>\n",
       "      <td>2011-09-12 12:50:00</td>\n",
       "      <td>4.15</td>\n",
       "      <td>12680.0</td>\n",
       "      <td>23255</td>\n",
       "      <td>CHILDRENS CUTLERY CIRCUS PARADE</td>\n",
       "      <td>4</td>\n",
       "      <td>16.60</td>\n",
       "    </tr>\n",
       "    <tr>\n",
       "      <th>363575</th>\n",
       "      <td>581587</td>\n",
       "      <td>2011-09-12 12:50:00</td>\n",
       "      <td>4.95</td>\n",
       "      <td>12680.0</td>\n",
       "      <td>22138</td>\n",
       "      <td>BAKING SET PIECE RETROSPOT</td>\n",
       "      <td>3</td>\n",
       "      <td>14.85</td>\n",
       "    </tr>\n",
       "  </tbody>\n",
       "</table>\n",
       "<p>363576 rows × 8 columns</p>\n",
       "</div>"
      ],
      "text/plain": [
       "        BasketID           BasketDate  Sale  CustomerID ProdID  \\\n",
       "0         539993  2011-04-01 10:00:00  1.95     13313.0  22386   \n",
       "1         539993  2011-04-01 10:00:00  0.42     13313.0  21499   \n",
       "2         539993  2011-04-01 10:00:00  0.42     13313.0  21498   \n",
       "3         539993  2011-04-01 10:00:00  2.10     13313.0  22379   \n",
       "4         539993  2011-04-01 10:00:00  1.25     13313.0  20718   \n",
       "...          ...                  ...   ...         ...    ...   \n",
       "363571    581587  2011-09-12 12:50:00  0.85     12680.0  22613   \n",
       "363572    581587  2011-09-12 12:50:00  2.10     12680.0  22899   \n",
       "363573    581587  2011-09-12 12:50:00  4.15     12680.0  23254   \n",
       "363574    581587  2011-09-12 12:50:00  4.15     12680.0  23255   \n",
       "363575    581587  2011-09-12 12:50:00  4.95     12680.0  22138   \n",
       "\n",
       "                              ProdDescr  Qta  TotSale  \n",
       "0               JUMBO BAG PINK POLKADOT   10    19.50  \n",
       "1                    BLUE POLKADOT WRAP   25    10.50  \n",
       "2                    RED RETROSPOT WRAP   25    10.50  \n",
       "3               RECYCLING BAG RETROSPOT    5    10.50  \n",
       "4             RED RETROSPOT SHOPPER BAG   10    12.50  \n",
       "...                                 ...  ...      ...  \n",
       "363571         PACK OF SPACEBOY NAPKINS   12    10.20  \n",
       "363572       CHILDRENS APRON DOLLY GIRL    6    12.60  \n",
       "363573     CHILDRENS CUTLERY DOLLY GIRL    4    16.60  \n",
       "363574  CHILDRENS CUTLERY CIRCUS PARADE    4    16.60  \n",
       "363575       BAKING SET PIECE RETROSPOT    3    14.85  \n",
       "\n",
       "[363576 rows x 8 columns]"
      ]
     },
     "execution_count": 23,
     "metadata": {},
     "output_type": "execute_result"
    }
   ],
   "source": [
    "df = pd.read_csv('../dataset/new_customer_supermarket.csv', sep='\\t', index_col=0)\n",
    "df"
   ]
  },
  {
   "cell_type": "code",
   "execution_count": 24,
   "metadata": {},
   "outputs": [
    {
     "data": {
      "text/plain": [
       "BasketID        int64\n",
       "BasketDate     object\n",
       "Sale          float64\n",
       "CustomerID    float64\n",
       "ProdID         object\n",
       "ProdDescr      object\n",
       "Qta             int64\n",
       "TotSale       float64\n",
       "dtype: object"
      ]
     },
     "execution_count": 24,
     "metadata": {},
     "output_type": "execute_result"
    }
   ],
   "source": [
    "df.dtypes"
   ]
  },
  {
   "cell_type": "code",
   "execution_count": 25,
   "metadata": {},
   "outputs": [],
   "source": [
    "df = df.astype({'BasketDate': 'datetime64',\n",
    "                'BasketID': 'object',\n",
    "                'CustomerID': 'object'})"
   ]
  },
  {
   "cell_type": "markdown",
   "metadata": {},
   "source": [
    "## Data Modeling"
   ]
  },
  {
   "cell_type": "raw",
   "metadata": {},
   "source": [
    "dataset = [\n",
    "    # customer: sequence of baskets\n",
    "    [['item_x', 'item_y', 'item_z', etc.],  # basket: [list of products]\n",
    "     ['item_p', 'item_q', 'item_r', etc.], \n",
    "     [etc.]], \n",
    "    etc.\n",
    "]"
   ]
  },
  {
   "cell_type": "code",
   "execution_count": 26,
   "metadata": {},
   "outputs": [
    {
     "data": {
      "text/plain": [
       "[[['PACK OF SPACEBOY CAKE CASES',\n",
       "   'TEA TIME OVEN GLOVE',\n",
       "   'RED RETROSPOT OVEN GLOVE',\n",
       "   'RED RETROSPOT OVEN GLOVE DOUBLE',\n",
       "   'SET RED RETROSPOT TEA TOWELS',\n",
       "   'REGENCY CAKESTAND TIER',\n",
       "   'TOOTHPASTE TUBE PEN',\n",
       "   'MINI LADLE LOVE HEART RED',\n",
       "   'CHOCOLATE CALCULATOR',\n",
       "   'SET OF TINS VINTAGE BATHROOM',\n",
       "   'RED TOADSTOOL LED NIGHT LIGHT',\n",
       "   'DOG PICTURE PLAYING CARDS',\n",
       "   'BOX OF ASSORTED COLOUR TEASPOONS',\n",
       "   'TEATIME FAIRY CAKE CASES',\n",
       "   'PACK OF MUSHROOM CAKE CASES',\n",
       "   'SMALL HEART MEASURING SPOONS',\n",
       "   'SWEETHEART FAIRY CAKE CASES',\n",
       "   'BLUE NEW BAROQUE CANDLESTICK CANDLE',\n",
       "   'BLACK CANDELABRA TLIGHT HOLDER',\n",
       "   'WOODLAND CHARLOTTE BAG',\n",
       "   'AIRLINE BAG VINTAGE JET SET BROWN',\n",
       "   'AIRLINE BAG VINTAGE JET SET WHITE',\n",
       "   'PINK NEW BAROQUECANDLESTICK CANDLE',\n",
       "   'ALARM CLOCK BAKELIKE CHOCOLATE',\n",
       "   'ALARM CLOCK BAKELIKE GREEN',\n",
       "   'ALARM CLOCK BAKELIKE RED',\n",
       "   'ALARM CLOCK BAKELIKE PINK',\n",
       "   'ALARM CLOCK BAKELIKE ORANGE',\n",
       "   'SANDWICH BATH SPONGE'],\n",
       "  ['SWEETHEART FAIRY CAKE CASES',\n",
       "   'RED REFECTORY CLOCK',\n",
       "   'VINTAGE HEADS AND TAILS CARD GAME',\n",
       "   'DOG PICTURE PLAYING CARDS',\n",
       "   'REGENCY MILK JUG PINK',\n",
       "   'REGENCY CAKESTAND TIER',\n",
       "   'PACK OF DINOSAUR CAKE CASES',\n",
       "   'TEATIME FAIRY CAKE CASES',\n",
       "   'TEA TIME OVEN GLOVE',\n",
       "   'REVOLVER WOODEN RULER',\n",
       "   'TRIPLE HOOK ANTIQUE IVORY ROSE',\n",
       "   'SET HEART SHAPE PETIT FOUR CASES',\n",
       "   'AIRLINE BAG VINTAGE JET SET BROWN',\n",
       "   'SINGLE ANTIQUE ROSE HOOK IVORY',\n",
       "   'SET OF VINTAGE LEAF CAKE CASES',\n",
       "   'AIRLINE BAG VINTAGE JET SET WHITE',\n",
       "   'AIRLINE BAG VINTAGE JET SET RED',\n",
       "   'AIRLINE BAG VINTAGE WORLD CHAMPION',\n",
       "   'WOODLAND DESIGN COTTON TOTE BAG',\n",
       "   'WOODLAND CHARLOTTE BAG',\n",
       "   'ALARM CLOCK BAKELIKE RED',\n",
       "   'AIRLINE BAG VINTAGE TOKYO'],\n",
       "  ['SET OF TINS VINTAGE BATHROOM',\n",
       "   'GIFT BAG PSYCHEDELIC APPLES',\n",
       "   'SMALL FOLDING SCISSORPOINTED EDGE',\n",
       "   'SHEET OF CAT STICKERS',\n",
       "   'SHEET OF DOG STICKERS',\n",
       "   'RED TOADSTOOL LED NIGHT LIGHT',\n",
       "   'ROSES REGENCY TEACUP AND SAUCER',\n",
       "   'REGENCY CAKESTAND TIER',\n",
       "   'RED RETROSPOT OVEN GLOVE DOUBLE',\n",
       "   'PACK OF DINOSAUR CAKE CASES',\n",
       "   'LARGE HEART MEASURING SPOONS',\n",
       "   'RED DRAWER KNOB ACRYLIC EDWARDIAN',\n",
       "   'WATERING CAN PINK BUNNY',\n",
       "   'TREASURE ISLAND BOOK BOX',\n",
       "   'HOLIDAY FUN LUDO',\n",
       "   'VINTAGE HEADS AND TAILS CARD GAME',\n",
       "   'RED RETROSPOT PURSE',\n",
       "   'AIRLINE BAG VINTAGE JET SET BROWN',\n",
       "   'AIRLINE BAG VINTAGE TOKYO',\n",
       "   'AIRLINE BAG VINTAGE JET SET RED',\n",
       "   'AIRLINE BAG VINTAGE JET SET WHITE',\n",
       "   'SMALL HEART MEASURING SPOONS',\n",
       "   'ICE CREAM SUNDAE LIP GLOSS',\n",
       "   'MINI PAINT SET VINTAGE'],\n",
       "  ['PINK GOOSE FEATHER TREE',\n",
       "   'MINI PLAYING CARDS DOLLY GIRL',\n",
       "   'MINI PLAYING CARDS SPACEBOY',\n",
       "   'CHRISTMAS TABLE SILVER CANDLE SPIKE',\n",
       "   'WOODLAND CHARLOTTE BAG',\n",
       "   'CLASSIC CHROME BICYCLE BELL',\n",
       "   'RED TOADSTOOL LED NIGHT LIGHT',\n",
       "   'PINK NEW BAROQUECANDLESTICK CANDLE',\n",
       "   'BOOM BOX SPEAKER BOYS',\n",
       "   'BICYCLE PUNCTURE REPAIR KIT',\n",
       "   'RABBIT NIGHT LIGHT'],\n",
       "  ['ALARM CLOCK BAKELIKE RED',\n",
       "   'FEATHER PENCOAL BLACK',\n",
       "   'DOG PICTURE PLAYING CARDS',\n",
       "   'SMALL HEART MEASURING SPOONS',\n",
       "   'TRIPLE HOOK ANTIQUE IVORY ROSE',\n",
       "   'ALARM CLOCK BAKELIKE CHOCOLATE',\n",
       "   'NAMASTE SWAGAT INCENSE',\n",
       "   'VICTORIAN SEWING KIT',\n",
       "   'AIRLINE BAG VINTAGE JET SET BROWN',\n",
       "   'REGENCY TEA PLATE ROSES',\n",
       "   'REGENCY MILK JUG PINK',\n",
       "   'REGENCY SUGAR BOWL GREEN',\n",
       "   'REGENCY TEAPOT ROSES',\n",
       "   'REGENCY TEA PLATE PINK',\n",
       "   'REGENCY TEA PLATE GREEN',\n",
       "   'REGENCY TEA STRAINER',\n",
       "   'RABBIT NIGHT LIGHT',\n",
       "   'AIRLINE BAG VINTAGE TOKYO'],\n",
       "  ['ALARM CLOCK BAKELIKE GREEN',\n",
       "   'ALARM CLOCK BAKELIKE RED',\n",
       "   'PACK OF MUSHROOM CAKE CASES',\n",
       "   'PACK OF SPACEBOY CAKE CASES',\n",
       "   'SET OF VINTAGE LEAF CAKE CASES',\n",
       "   'LARGE HEART MEASURING SPOONS',\n",
       "   'SWEETHEART FAIRY CAKE CASES',\n",
       "   'SMALL HEART MEASURING SPOONS',\n",
       "   'WOODLAND CHARLOTTE BAG',\n",
       "   'FOOD CONTAINER SET LOVE HEART',\n",
       "   'ALARM CLOCK BAKELIKE PINK',\n",
       "   'TEATIME FAIRY CAKE CASES',\n",
       "   'ALARM CLOCK BAKELIKE CHOCOLATE',\n",
       "   'REGENCY TEA STRAINER',\n",
       "   'PANTRY HOOK TEA STRAINER',\n",
       "   'DOG PICTURE PLAYING CARDS',\n",
       "   'GREEN REGENCY TEACUP AND SAUCER',\n",
       "   'PINK REGENCY TEACUP AND SAUCER',\n",
       "   'TEA TIME OVEN GLOVE',\n",
       "   'TEA TIME KITCHEN APRON',\n",
       "   'TEA TIME DES TEA COSY',\n",
       "   'REGENCY TEAPOT ROSES',\n",
       "   'REGENCY CAKESTAND TIER',\n",
       "   'CHRISTMAS METAL TAGS ASSORTED',\n",
       "   'BIRDCAGE DECORATION TEALIGHT HOLDER',\n",
       "   'AIRLINE BAG VINTAGE JET SET RED',\n",
       "   'AIRLINE BAG VINTAGE TOKYO',\n",
       "   'AIRLINE BAG VINTAGE JET SET BROWN',\n",
       "   'AIRLINE BAG VINTAGE WORLD CHAMPION',\n",
       "   'MADRAS NOTEBOOK MEDIUM',\n",
       "   'PINK GOOSE FEATHER TREE',\n",
       "   'MINI LIGHTS WOODLAND MUSHROOMS',\n",
       "   'RED TOADSTOOL LED NIGHT LIGHT',\n",
       "   'ROSES REGENCY TEACUP AND SAUCER',\n",
       "   'RABBIT NIGHT LIGHT',\n",
       "   'MINI PLAYING CARDS DOLLY GIRL',\n",
       "   'WOODEN SCHOOL COLOURING SET',\n",
       "   'MINI PLAYING CARDS SPACEBOY',\n",
       "   'MINI PAINT SET VINTAGE',\n",
       "   'TRADITIONAL KNITTING NANCY',\n",
       "   'TRIPLE HOOK ANTIQUE IVORY ROSE',\n",
       "   'PANTRY HOOK SPATULA',\n",
       "   'PANTRY HOOK BALLOON WHISK',\n",
       "   'REVOLVER WOODEN RULER',\n",
       "   'PLAYING CARDS KEEP CALM CARRY ON',\n",
       "   'TREASURE ISLAND BOOK BOX',\n",
       "   'VINTAGE HEADS AND TAILS CARD GAME']]]"
      ]
     },
     "execution_count": 26,
     "metadata": {},
     "output_type": "execute_result"
    }
   ],
   "source": [
    "df.sort_values('BasketDate', inplace=True)\n",
    "baskets_sequences = df.groupby('CustomerID').apply(\n",
    "    lambda customer: customer.groupby('BasketDate')['ProdDescr'].apply(\n",
    "        lambda prods: list(prod[0] for prod in groupby(prods))))  # remove consecutive duplicate products from baskets\n",
    "baskets_sequences = baskets_sequences.groupby('CustomerID').apply(list).tolist()\n",
    "baskets_sequences[:1]"
   ]
  },
  {
   "cell_type": "code",
   "execution_count": 27,
   "metadata": {},
   "outputs": [
    {
     "name": "stdout",
     "output_type": "stream",
     "text": [
      "CPU times: user 11.4 s, sys: 3.16 ms, total: 11.4 s\n",
      "Wall time: 11.4 s\n"
     ]
    },
    {
     "data": {
      "text/plain": [
       "[([['WHITE HANGING HEART TLIGHT HOLDER'],\n",
       "   ['WHITE HANGING HEART TLIGHT HOLDER']],\n",
       "  368),\n",
       " ([['GREEN REGENCY TEACUP AND SAUCER', 'ROSES REGENCY TEACUP AND SAUCER']],\n",
       "  303),\n",
       " ([['JUMBO BAG RED RETROSPOT'], ['JUMBO BAG RED RETROSPOT']], 302),\n",
       " ([['REGENCY CAKESTAND TIER'], ['REGENCY CAKESTAND TIER']], 298),\n",
       " ([['GREEN REGENCY TEACUP AND SAUCER', 'PINK REGENCY TEACUP AND SAUCER']],\n",
       "  281),\n",
       " ([['PAPER CHAIN KIT CHRISTMAS', 'PAPER CHAIN KIT VINTAGE CHRISTMAS']], 278),\n",
       " ([['ASSORTED COLOUR BIRD ORNAMENT'], ['ASSORTED COLOUR BIRD ORNAMENT']], 275),\n",
       " ([['PARTY BUNTING'], ['PARTY BUNTING']], 273),\n",
       " ([['LUNCH BAG RED RETROSPOT'], ['LUNCH BAG RED RETROSPOT']], 266),\n",
       " ([['PINK REGENCY TEACUP AND SAUCER', 'ROSES REGENCY TEACUP AND SAUCER']],\n",
       "  255),\n",
       " ([['GARDENERS KNEELING PAD CUP OF TEA', 'GARDENERS KNEELING PAD KEEP CALM']],\n",
       "  254),\n",
       " ([['REGENCY CAKESTAND TIER', 'ROSES REGENCY TEACUP AND SAUCER']], 254),\n",
       " ([['RED HANGING HEART TLIGHT HOLDER', 'WHITE HANGING HEART TLIGHT HOLDER']],\n",
       "  253),\n",
       " ([['LUNCH BAG PINK POLKADOT', 'LUNCH BAG RED RETROSPOT']], 248),\n",
       " ([['HEART OF WICKER LARGE', 'HEART OF WICKER SMALL']], 244),\n",
       " ([['LUNCH BAG CARS BLUE', 'LUNCH BAG RED RETROSPOT']], 244),\n",
       " ([['PARTY BUNTING', 'SPOTTY BUNTING']], 244),\n",
       " ([['JUMBO BAG PINK POLKADOT', 'JUMBO BAG RED RETROSPOT']], 243),\n",
       " ([['LUNCH BAG BLACK SKULL', 'LUNCH BAG RED RETROSPOT']], 242),\n",
       " ([['WOODEN HEART CHRISTMAS SCANDINAVIAN',\n",
       "    'WOODEN STAR CHRISTMAS SCANDINAVIAN']],\n",
       "  240),\n",
       " ([['LUNCH BAG RED RETROSPOT', 'LUNCH BAG SUKI DESIGN']], 239),\n",
       " ([['LUNCH BAG CARS BLUE', 'LUNCH BAG SUKI DESIGN']], 238),\n",
       " ([['GREEN REGENCY TEACUP AND SAUCER',\n",
       "    'PINK REGENCY TEACUP AND SAUCER',\n",
       "    'ROSES REGENCY TEACUP AND SAUCER']],\n",
       "  238),\n",
       " ([['LUNCH BAG CARS BLUE', 'LUNCH BAG PINK POLKADOT']], 236),\n",
       " ([['GREEN REGENCY TEACUP AND SAUCER', 'REGENCY CAKESTAND TIER']], 235),\n",
       " ([['LUNCH BAG RED RETROSPOT', 'LUNCH BAG SPACEBOY DESIGN']], 234),\n",
       " ([['WOODEN FRAME ANTIQUE WHITE', 'WOODEN PICTURE FRAME WHITE FINISH']], 234),\n",
       " ([['ALARM CLOCK BAKELIKE GREEN', 'ALARM CLOCK BAKELIKE RED']], 231),\n",
       " ([['BAKING SET PIECE RETROSPOT', 'BAKING SET SPACEBOY DESIGN']], 230),\n",
       " ([['LUNCH BAG BLACK SKULL', 'LUNCH BAG PINK POLKADOT']], 228),\n",
       " ([['LUNCH BAG SPACEBOY DESIGN', 'LUNCH BAG SUKI DESIGN']], 228),\n",
       " ([['PACK OF PINK PAISLEY CAKE CASES', 'PACK OF RETROSPOT CAKE CASES']], 224),\n",
       " ([['LUNCH BAG BLACK SKULL'], ['LUNCH BAG BLACK SKULL']], 221),\n",
       " ([['LUNCH BAG CARS BLUE', 'LUNCH BAG SPACEBOY DESIGN']], 217),\n",
       " ([['LUNCH BAG SUKI DESIGN'], ['LUNCH BAG SUKI DESIGN']], 217),\n",
       " ([['SET OF CAKE TINS PANTRY DESIGN'], ['SET OF CAKE TINS PANTRY DESIGN']],\n",
       "  217),\n",
       " ([['LUNCH BAG BLACK SKULL', 'LUNCH BAG SUKI DESIGN']], 216),\n",
       " ([['LUNCH BAG SPACEBOY DESIGN', 'LUNCH BAG WOODLAND']], 216),\n",
       " ([['SET OF CAKE TINS PANTRY DESIGN', 'SET OF SPICE TINS PANTRY DESIGN']],\n",
       "  213),\n",
       " ([['PACK OF RETROSPOT CAKE CASES', 'TEATIME FAIRY CAKE CASES']], 212)]"
      ]
     },
     "execution_count": 27,
     "metadata": {},
     "output_type": "execute_result"
    }
   ],
   "source": [
    "%time freq_patterns = prefix_span(baskets_sequences, min_sup=0.05)\n",
    "list(filter(lambda freq_pattern: sequence_length(freq_pattern[0]) >= 2, freq_patterns))"
   ]
  }
 ],
 "metadata": {
  "kernelspec": {
   "display_name": "Python 3",
   "language": "python",
   "name": "python3"
  },
  "language_info": {
   "codemirror_mode": {
    "name": "ipython",
    "version": 3
   },
   "file_extension": ".py",
   "mimetype": "text/x-python",
   "name": "python",
   "nbconvert_exporter": "python",
   "pygments_lexer": "ipython3",
   "version": "3.8.6"
  }
 },
 "nbformat": 4,
 "nbformat_minor": 4
}
