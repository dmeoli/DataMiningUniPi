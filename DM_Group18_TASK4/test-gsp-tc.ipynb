{
 "cells": [
  {
   "cell_type": "code",
   "execution_count": 135,
   "metadata": {},
   "outputs": [],
   "source": [
    "import copy"
   ]
  },
  {
   "cell_type": "code",
   "execution_count": 136,
   "metadata": {},
   "outputs": [],
   "source": [
    "def generateDirectContSubseq(sequence):\n",
    "    result = []\n",
    "    # First element\n",
    "    \n",
    "    \n",
    "    # Middle elements\n",
    "    for i, itemset in enumerate(sequence[1:-1]):\n",
    "        if (len(itemset) == 1):\n",
    "            sequenceClone = copy.deepcopy(sequence)\n",
    "            sequenceClone.pop(i)\n",
    "            result.append(sequenceClone)\n",
    "        else:\n",
    "            for j in range(len(itemset)):\n",
    "                sequenceClone = copy.deepcopy(sequence)\n",
    "                sequenceClone[i].pop(j)\n",
    "                result.append(sequenceClone)\n",
    "                \n",
    "    # Last element\n",
    "    return result"
   ]
  },
  {
   "cell_type": "code",
   "execution_count": 137,
   "metadata": {},
   "outputs": [
    {
     "name": "stdout",
     "output_type": "stream",
     "text": [
      "True\n",
      "True\n",
      "True\n",
      "False\n",
      "False\n"
     ]
    }
   ],
   "source": [
    "def isContSubseq(mseq, sseq):\n",
    "    i = 0\n",
    "    for j in range(len(mseq)):\n",
    "        if set(mseq[j]).issuperset(set(sseq[i])):\n",
    "            i += 1\n",
    "            # Special case if cseq is a sequence of one element\n",
    "            if i == len(sseq):\n",
    "                print(i, '==', len(sseq))\n",
    "                return True\n",
    "            for itemset in mseq[j+1 :]:\n",
    "                if set(itemset).issuperset(set(sseq[i])):\n",
    "                    i += 1\n",
    "                else:\n",
    "                    i = 0\n",
    "                    break\n",
    "                if i == len(sseq):\n",
    "                    return True\n",
    "    return False\n",
    "\n",
    "print(isContSubseq([[1], [2, 3]], [[1], [2]]))\n",
    "print(isContSubseq([[1, 2], [2], [3]], [[1], [2]]))\n",
    "print(isContSubseq([[3, 4], [1, 2], [2, 3], [4]], [[1], [2]]))\n",
    "print(isContSubseq([[1], [3], [2]], [[1], [2]]))\n",
    "print(isContSubseq([[1, 2], [1], [3], [2]], [[1], [2]]))"
   ]
  },
  {
   "cell_type": "code",
   "execution_count": 138,
   "metadata": {},
   "outputs": [],
   "source": [
    "from gsp_tc import *"
   ]
  },
  {
   "cell_type": "code",
   "execution_count": 139,
   "metadata": {},
   "outputs": [
    {
     "name": "stdout",
     "output_type": "stream",
     "text": [
      "True\n",
      "True\n",
      "False\n"
     ]
    }
   ],
   "source": [
    "# Test isSubsequence:\n",
    "# accept: mainSequence, subSequence\n",
    "# mainSequence = [([...], t), ... , ([...], t)]\n",
    "# subSeq = [[...], ... , [...]]\n",
    "# return: True if subSequence is a subsequence of mainSequence\n",
    "mainseq = [([1, 2, 3], 1), ([1, 4], 2), ([3], 5)]\n",
    "subseq1 = [[1, 3], [4]] # True\n",
    "subseq2 = [[2], [3]] # True\n",
    "subseq3 = [[4], [5]] # False\n",
    "print(isSubsequence(mainseq, subseq1))\n",
    "print(isSubsequence(mainseq, subseq2))\n",
    "print(isSubsequence(mainseq, subseq3))"
   ]
  },
  {
   "cell_type": "code",
   "execution_count": 140,
   "metadata": {},
   "outputs": [
    {
     "name": "stdout",
     "output_type": "stream",
     "text": [
      "3\n",
      "4\n",
      "3\n",
      "3\n"
     ]
    }
   ],
   "source": [
    "# Test countFreq:\n",
    "# accept: sequence, dataset\n",
    "# sequence = [[...], ... , [...]]\n",
    "# dataset = [ [([...], t), ... , ([...], t)], ... ,  [([...], t), ... , ([...], t)]]\n",
    "dataset = [[([1, 2, 4], 1), ([2, 3], 2), ([5], 3)], \n",
    "           [([1, 2], 1), ([2, 3, 4], 2)], \n",
    "           [([1, 2], 1), ([2, 3, 4], 2), ([2, 4, 5], 3)], \n",
    "           [([2], 1), ([3, 4], 2), ([4, 5], 3)], \n",
    "           [([1, 3], 1), ([2, 4, 5], 2)]]\n",
    "seq1 = [[1, 2]]\n",
    "seq2 = [[3], [5]]\n",
    "seq3 = [[2], [2, 3]]\n",
    "seq4 = [[1, 2], [2, 3]]\n",
    "print(countFreq(seq1, dataset))\n",
    "print(countFreq(seq2, dataset))\n",
    "print(countFreq(seq3, dataset))\n",
    "print(countFreq(seq4, dataset))"
   ]
  },
  {
   "cell_type": "code",
   "execution_count": 147,
   "metadata": {},
   "outputs": [
    {
     "ename": "TypeError",
     "evalue": "'int' object is not iterable",
     "output_type": "error",
     "traceback": [
      "\u001b[1;31m---------------------------------------------------------------------------\u001b[0m",
      "\u001b[1;31mTypeError\u001b[0m                                 Traceback (most recent call last)",
      "\u001b[1;32m<ipython-input-147-594a1ae9cf67>\u001b[0m in \u001b[0;36m<module>\u001b[1;34m\u001b[0m\n\u001b[0;32m     10\u001b[0m \u001b[0mcand4\u001b[0m \u001b[1;33m=\u001b[0m \u001b[1;33m[\u001b[0m\u001b[1;33m[\u001b[0m\u001b[1;36m2\u001b[0m\u001b[1;33m,\u001b[0m \u001b[1;36m3\u001b[0m\u001b[1;33m]\u001b[0m\u001b[1;33m,\u001b[0m \u001b[1;33m[\u001b[0m\u001b[1;36m2\u001b[0m\u001b[1;33m,\u001b[0m \u001b[1;36m3\u001b[0m\u001b[1;33m]\u001b[0m\u001b[1;33m,\u001b[0m \u001b[1;33m[\u001b[0m\u001b[1;36m4\u001b[0m\u001b[1;33m]\u001b[0m\u001b[1;33m,\u001b[0m \u001b[1;33m[\u001b[0m\u001b[1;36m2\u001b[0m\u001b[1;33m,\u001b[0m \u001b[1;36m4\u001b[0m\u001b[1;33m]\u001b[0m\u001b[1;33m]\u001b[0m \u001b[1;31m# no merge\u001b[0m\u001b[1;33m\u001b[0m\u001b[1;33m\u001b[0m\u001b[0m\n\u001b[0;32m     11\u001b[0m \u001b[1;33m\u001b[0m\u001b[0m\n\u001b[1;32m---> 12\u001b[1;33m \u001b[0mprint\u001b[0m\u001b[1;33m(\u001b[0m\u001b[0mgenerateCandidatesForPair\u001b[0m\u001b[1;33m(\u001b[0m\u001b[0mcand1\u001b[0m\u001b[1;33m,\u001b[0m \u001b[0mcand2\u001b[0m\u001b[1;33m)\u001b[0m\u001b[1;33m)\u001b[0m\u001b[1;33m\u001b[0m\u001b[1;33m\u001b[0m\u001b[0m\n\u001b[0m\u001b[0;32m     13\u001b[0m \u001b[0mprint\u001b[0m\u001b[1;33m(\u001b[0m\u001b[0mgenerateCandidatesForPair\u001b[0m\u001b[1;33m(\u001b[0m\u001b[0mcand1\u001b[0m\u001b[1;33m,\u001b[0m \u001b[0mcand3\u001b[0m\u001b[1;33m)\u001b[0m\u001b[1;33m)\u001b[0m\u001b[1;33m\u001b[0m\u001b[1;33m\u001b[0m\u001b[0m\n\u001b[0;32m     14\u001b[0m \u001b[0mprint\u001b[0m\u001b[1;33m(\u001b[0m\u001b[0mgenerateCandidatesForPair\u001b[0m\u001b[1;33m(\u001b[0m\u001b[0mcand1\u001b[0m\u001b[1;33m,\u001b[0m \u001b[0mcand4\u001b[0m\u001b[1;33m)\u001b[0m\u001b[1;33m)\u001b[0m\u001b[1;33m\u001b[0m\u001b[1;33m\u001b[0m\u001b[0m\n",
      "\u001b[1;32m~\\Documents\\uni\\data-mini\\prj\\4\\gsp_tc.py\u001b[0m in \u001b[0;36mgenerateCandidatesForPair\u001b[1;34m(cand1, cand2)\u001b[0m\n\u001b[0;32m     98\u001b[0m         \u001b[0mnewCandidate\u001b[0m \u001b[1;33m=\u001b[0m \u001b[0mcopy\u001b[0m\u001b[1;33m.\u001b[0m\u001b[0mdeepcopy\u001b[0m\u001b[1;33m(\u001b[0m\u001b[0mcand1\u001b[0m\u001b[1;33m)\u001b[0m\u001b[1;33m\u001b[0m\u001b[1;33m\u001b[0m\u001b[0m\n\u001b[0;32m     99\u001b[0m         \u001b[1;32mif\u001b[0m \u001b[1;33m(\u001b[0m\u001b[0mlen\u001b[0m\u001b[1;33m(\u001b[0m\u001b[0mcand2\u001b[0m\u001b[1;33m[\u001b[0m\u001b[1;33m-\u001b[0m\u001b[1;36m1\u001b[0m\u001b[1;33m]\u001b[0m\u001b[1;33m)\u001b[0m \u001b[1;33m==\u001b[0m \u001b[1;36m1\u001b[0m\u001b[1;33m)\u001b[0m\u001b[1;33m:\u001b[0m\u001b[1;33m\u001b[0m\u001b[1;33m\u001b[0m\u001b[0m\n\u001b[1;32m--> 100\u001b[1;33m             \u001b[0mnewCandidate\u001b[0m\u001b[1;33m.\u001b[0m\u001b[0mappend\u001b[0m\u001b[1;33m(\u001b[0m\u001b[0mcand2\u001b[0m\u001b[1;33m[\u001b[0m\u001b[1;33m-\u001b[0m\u001b[1;36m1\u001b[0m\u001b[1;33m]\u001b[0m\u001b[1;33m)\u001b[0m\u001b[1;33m\u001b[0m\u001b[1;33m\u001b[0m\u001b[0m\n\u001b[0m\u001b[0;32m    101\u001b[0m         \u001b[1;32melse\u001b[0m\u001b[1;33m:\u001b[0m\u001b[1;33m\u001b[0m\u001b[1;33m\u001b[0m\u001b[0m\n\u001b[0;32m    102\u001b[0m             \u001b[0mnewCandidate\u001b[0m\u001b[1;33m[\u001b[0m\u001b[1;33m-\u001b[0m\u001b[1;36m1\u001b[0m\u001b[1;33m]\u001b[0m\u001b[1;33m.\u001b[0m\u001b[0mextend\u001b[0m\u001b[1;33m(\u001b[0m\u001b[1;33m[\u001b[0m\u001b[0mcand2\u001b[0m\u001b[1;33m[\u001b[0m\u001b[1;33m-\u001b[0m\u001b[1;36m1\u001b[0m\u001b[1;33m]\u001b[0m\u001b[1;33m[\u001b[0m\u001b[1;33m-\u001b[0m\u001b[1;36m1\u001b[0m\u001b[1;33m]\u001b[0m\u001b[1;33m]\u001b[0m\u001b[1;33m)\u001b[0m \u001b[1;31m# ATTENZIONE A QUESTA MODIFICA\u001b[0m\u001b[1;33m\u001b[0m\u001b[1;33m\u001b[0m\u001b[0m\n",
      "\u001b[1;31mTypeError\u001b[0m: 'int' object is not iterable"
     ]
    }
   ],
   "source": [
    "from gsp_tc import *\n",
    "# Test generateCandidatesForPair:\n",
    "# accept: cand1, cand2\n",
    "# cand1 = [[...], ... , [...]]\n",
    "# cand2 = [[...], ... , [...]]\n",
    "# return: the merged sequence\n",
    "cand1 = [[1, 2, 3], [2, 3], [4], [1, 4]]\n",
    "cand2 = [[2, 3], [2, 3], [4], [1, 4, 5]] # merge result [[1, 2, 3], [2, 3], [4], [1, 4, 5]]\n",
    "cand3 = [[2, 3], [2, 3], [4], [1, 4], [5]] # merge result [[1, 2, 3], [2, 3], [4], [1, 4], [5]]\n",
    "cand4 = [[2, 3], [2, 3], [4], [2, 4]] # no merge\n",
    "\n",
    "print(generateCandidatesForPair(cand1, cand2))\n",
    "print(generateCandidatesForPair(cand1, cand3))\n",
    "print(generateCandidatesForPair(cand1, cand4))"
   ]
  },
  {
   "cell_type": "code",
   "execution_count": 142,
   "metadata": {},
   "outputs": [
    {
     "name": "stdout",
     "output_type": "stream",
     "text": [
      "7\n"
     ]
    }
   ],
   "source": [
    "# Test sequenceSize:\n",
    "# accept: sequence\n",
    "# cand1 = [[...], ... , [...]]\n",
    "# return: number of items\n",
    "seq = [[2], [1, 2, 3, 4], [3, 4]]\n",
    "print(sequenceSize(seq))"
   ]
  },
  {
   "cell_type": "code",
   "execution_count": 143,
   "metadata": {},
   "outputs": [
    {
     "name": "stdout",
     "output_type": "stream",
     "text": [
      "True\n",
      "True\n",
      "True\n",
      "False\n",
      "False\n"
     ]
    }
   ],
   "source": [
    "# Test supports:\n",
    "# accept: mseq, cseq, maxspan, mingap, maxgap\n",
    "# mseq = [([...], t), ... , ([...], t)]\n",
    "# cseq = [[...], ... , [...]]\n",
    "# maxpsan = pos int\n",
    "# mingap = pos int\n",
    "# maxgap = pos int\n",
    "# return: number of items\n",
    "mseq = [([1, 3], 1), ([3, 4], 2), ([4], 3), ([5], 4), ([6, 7], 5), ([8], 6)]\n",
    "seq1 = [[3], [4]]\n",
    "seq2 = [[3], [6]]\n",
    "seq3 = [[6], [8]]\n",
    "seq4 = [[1, 3], [6]]\n",
    "seq5 = [[1], [3], [8]]\n",
    "print(supports(mseq, seq1, 100, 0, 3))\n",
    "print(supports(mseq, seq2, 100, 0, 3))\n",
    "print(supports(mseq, seq3, 100, 0, 3))\n",
    "print(supports(mseq, seq4, 100, 0, 3))\n",
    "print(supports(mseq, seq5, 100, 0, 3))"
   ]
  }
 ],
 "metadata": {
  "kernelspec": {
   "display_name": "Python 3",
   "language": "python",
   "name": "python3"
  },
  "language_info": {
   "codemirror_mode": {
    "name": "ipython",
    "version": 3
   },
   "file_extension": ".py",
   "mimetype": "text/x-python",
   "name": "python",
   "nbconvert_exporter": "python",
   "pygments_lexer": "ipython3",
   "version": "3.8.3"
  }
 },
 "nbformat": 4,
 "nbformat_minor": 4
}
