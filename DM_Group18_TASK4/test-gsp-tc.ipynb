{
 "cells": [
  {
   "cell_type": "code",
   "execution_count": 1,
   "metadata": {},
   "outputs": [],
   "source": [
    "from gsp_tc import *"
   ]
  },
  {
   "cell_type": "code",
   "execution_count": 2,
   "metadata": {},
   "outputs": [
    {
     "name": "stdout",
     "output_type": "stream",
     "text": [
      "True\n",
      "True\n",
      "True\n",
      "False\n",
      "False\n"
     ]
    }
   ],
   "source": [
    "# Test isContSubseq:\n",
    "# accept: mseq, sseq\n",
    "# mainSequence = [[...], ... , [...]]\n",
    "# subSeq = [[...], ... , [...]]\n",
    "# return: True if sseq is a contigous subsequence of mseq\n",
    "\n",
    "print(isContSubseq([[1], [2, 3]], [[1], [2]]))\n",
    "print(isContSubseq([[1, 2], [2], [3]], [[1], [2]]))\n",
    "print(isContSubseq([[3, 4], [1, 2], [2, 3], [4]], [[1], [2]]))\n",
    "print(isContSubseq([[1], [3], [2]], [[1], [2]]))\n",
    "print(isContSubseq([[1, 2], [1], [3], [2]], [[1], [2]]))"
   ]
  },
  {
   "cell_type": "code",
   "execution_count": 3,
   "metadata": {},
   "outputs": [
    {
     "name": "stdout",
     "output_type": "stream",
     "text": [
      "[[2, 3], [4], [5]] True\n",
      "[[1], [3], [4], [5]] True\n",
      "[[1], [2], [4], [5]] True\n",
      "[[1], [2, 3], [4]] True\n"
     ]
    }
   ],
   "source": [
    "# Test generateDirectContSubseq:\n",
    "# accept: sequence\n",
    "# sequence = [[...], ... , [...]]\n",
    "# return: The list of all contigous (k-1)-subsequence of sequence\n",
    "seq1 = [[1], [2, 3], [4], [5]]\n",
    "results = generateDirectContSubseq(seq1)\n",
    "for res in results:\n",
    "    print(res, isContSubseq(seq1, res))"
   ]
  },
  {
   "cell_type": "code",
   "execution_count": 4,
   "metadata": {},
   "outputs": [
    {
     "name": "stdout",
     "output_type": "stream",
     "text": [
      "True\n",
      "True\n",
      "False\n"
     ]
    }
   ],
   "source": [
    "# Test isSubsequence:\n",
    "# accept: mainSequence, subSequence\n",
    "# mainSequence = [([...], t), ... , ([...], t)]\n",
    "# subSeq = [[...], ... , [...]]\n",
    "# return: True if subSequence is a subsequence of mainSequence\n",
    "mainseq = [([1, 2, 3], 1), ([1, 4], 2), ([3], 5)]\n",
    "subseq1 = [[1, 3], [4]] # True\n",
    "subseq2 = [[2], [3]] # True\n",
    "subseq3 = [[4], [5]] # False\n",
    "print(isSubsequence(mainseq, subseq1))\n",
    "print(isSubsequence(mainseq, subseq2))\n",
    "print(isSubsequence(mainseq, subseq3))"
   ]
  },
  {
   "cell_type": "code",
   "execution_count": 5,
   "metadata": {},
   "outputs": [
    {
     "name": "stdout",
     "output_type": "stream",
     "text": [
      "3\n",
      "4\n",
      "3\n",
      "3\n"
     ]
    }
   ],
   "source": [
    "# Test countFreq:\n",
    "# accept: sequence, dataset\n",
    "# sequence = [[...], ... , [...]]\n",
    "# dataset = [ [([...], t), ... , ([...], t)], ... ,  [([...], t), ... , ([...], t)]]\n",
    "dataset = [[([1, 2, 4], 1), ([2, 3], 2), ([5], 3)], \n",
    "           [([1, 2], 1), ([2, 3, 4], 2)], \n",
    "           [([1, 2], 1), ([2, 3, 4], 2), ([2, 4, 5], 3)], \n",
    "           [([2], 1), ([3, 4], 2), ([4, 5], 3)], \n",
    "           [([1, 3], 1), ([2, 4, 5], 2)]]\n",
    "seq1 = [[1, 2]]\n",
    "seq2 = [[3], [5]]\n",
    "seq3 = [[2], [2, 3]]\n",
    "seq4 = [[1, 2], [2, 3]]\n",
    "print(countFreq(seq1, dataset))\n",
    "print(countFreq(seq2, dataset))\n",
    "print(countFreq(seq3, dataset))\n",
    "print(countFreq(seq4, dataset))"
   ]
  },
  {
   "cell_type": "code",
   "execution_count": 6,
   "metadata": {},
   "outputs": [
    {
     "name": "stdout",
     "output_type": "stream",
     "text": [
      "[[1, 2, 3], [2, 3], [4], [1, 4, 5]]\n",
      "[[1, 2, 3], [2, 3], [4], [1, 4], [5]]\n",
      "[]\n"
     ]
    }
   ],
   "source": [
    "# Test generateCandidatesForPair:\n",
    "# accept: cand1, cand2\n",
    "# cand1 = [[...], ... , [...]]\n",
    "# cand2 = [[...], ... , [...]]\n",
    "# return: the merged sequence\n",
    "cand1 = [[1, 2, 3], [2, 3], [4], [1, 4]]\n",
    "cand2 = [[2, 3], [2, 3], [4], [1, 4, 5]] # merge result [[1, 2, 3], [2, 3], [4], [1, 4, 5]]\n",
    "cand3 = [[2, 3], [2, 3], [4], [1, 4], [5]] # merge result [[1, 2, 3], [2, 3], [4], [1, 4], [5]]\n",
    "cand4 = [[2, 3], [2, 3], [4], [2, 4]] # no merge\n",
    "\n",
    "print(generateCandidatesForPair(cand1, cand2))\n",
    "print(generateCandidatesForPair(cand1, cand3))\n",
    "print(generateCandidatesForPair(cand1, cand4))"
   ]
  },
  {
   "cell_type": "code",
   "execution_count": 7,
   "metadata": {},
   "outputs": [
    {
     "name": "stdout",
     "output_type": "stream",
     "text": [
      "7\n"
     ]
    }
   ],
   "source": [
    "# Test sequenceSize:\n",
    "# accept: sequence\n",
    "# cand1 = [[...], ... , [...]]\n",
    "# return: number of items\n",
    "seq = [[2], [1, 2, 3, 4], [3, 4]]\n",
    "print(sequenceSize(seq))"
   ]
  },
  {
   "cell_type": "code",
   "execution_count": 8,
   "metadata": {},
   "outputs": [
    {
     "name": "stdout",
     "output_type": "stream",
     "text": [
      "True\n",
      "True\n",
      "True\n",
      "False\n",
      "False\n"
     ]
    }
   ],
   "source": [
    "# Test supports:\n",
    "# accept: mseq, cseq, maxspan, mingap, maxgap\n",
    "# mseq = [([...], t), ... , ([...], t)]\n",
    "# cseq = [[...], ... , [...]]\n",
    "# maxpsan = pos int\n",
    "# mingap = pos int\n",
    "# maxgap = pos int\n",
    "# return: number of items\n",
    "mseq = [([1, 3], 1), ([3, 4], 2), ([4], 3), ([5], 4), ([6, 7], 5), ([8], 6)]\n",
    "seq1 = [[3], [4]]\n",
    "seq2 = [[3], [6]]\n",
    "seq3 = [[6], [8]]\n",
    "seq4 = [[1, 3], [6]]\n",
    "seq5 = [[1], [3], [8]]\n",
    "print(supports(mseq, seq1, 100, 0, 3))\n",
    "print(supports(mseq, seq2, 100, 0, 3))\n",
    "print(supports(mseq, seq3, 100, 0, 3))\n",
    "print(supports(mseq, seq4, 100, 0, 3))\n",
    "print(supports(mseq, seq5, 100, 0, 3))"
   ]
  },
  {
   "cell_type": "markdown",
   "metadata": {},
   "source": [
    "# Test"
   ]
  },
  {
   "cell_type": "code",
   "execution_count": 9,
   "metadata": {},
   "outputs": [],
   "source": [
    "dataset = [\n",
    "        [(['a'], 1), (['a', 'b', 'c'], 2), (['a', 'c'], 3), (['c'], 4)],\n",
    "        [(['a'], 1), (['c'], 2), (['b', 'c'], 3)],\n",
    "        [(['a', 'b'], 1), (['d'], 2), (['c'], 3), (['b'], 4), (['c'], 5)],\n",
    "        [(['a'], 1), (['c'], 2), (['b'], 3), (['c'], 4)]\n",
    "    ]"
   ]
  },
  {
   "cell_type": "code",
   "execution_count": 15,
   "metadata": {},
   "outputs": [
    {
     "name": "stdout",
     "output_type": "stream",
     "text": [
      "([['a']], 4)\n",
      "([['b']], 4)\n",
      "([['c']], 4)\n",
      "([['a', 'b']], 2)\n",
      "([['b', 'c']], 2)\n",
      "([['a'], ['b']], 4)\n",
      "([['a'], ['c']], 4)\n",
      "([['b'], ['c']], 3)\n",
      "([['c'], ['b']], 3)\n",
      "([['c'], ['c']], 4)\n",
      "([['a'], ['b'], ['c']], 3)\n",
      "([['a'], ['b', 'c']], 2)\n",
      "([['a'], ['c'], ['b']], 3)\n",
      "([['a'], ['c'], ['c']], 4)\n",
      "([['a', 'b'], ['c']], 2)\n",
      "([['b'], ['c'], ['c']], 2)\n",
      "([['c'], ['b'], ['c']], 2)\n",
      "([['a'], ['c'], ['b'], ['c']], 2)\n",
      "([['a', 'b'], ['c'], ['c']], 2)\n",
      "19\n"
     ]
    }
   ],
   "source": [
    "frequent_pattern = apriori_tc(dataset) # minsup = 0.5 (default)\n",
    "for seq in frequent_pattern:\n",
    "    print(seq)\n",
    "print(len(frequent_pattern))"
   ]
  },
  {
   "cell_type": "code",
   "execution_count": 16,
   "metadata": {},
   "outputs": [
    {
     "name": "stdout",
     "output_type": "stream",
     "text": [
      "([['a']], 4)\n",
      "([['b']], 4)\n",
      "([['c']], 4)\n",
      "([['a', 'b']], 2)\n",
      "([['b', 'c']], 2)\n",
      "([['a'], ['b']], 4)\n",
      "([['a'], ['c']], 4)\n",
      "([['b'], ['c']], 3)\n",
      "([['c'], ['b']], 3)\n",
      "([['c'], ['c']], 4)\n",
      "([['a'], ['b'], ['c']], 2)\n",
      "([['a'], ['b', 'c']], 2)\n",
      "([['a'], ['c'], ['b']], 3)\n",
      "([['a'], ['c'], ['c']], 3)\n",
      "([['a', 'b'], ['c']], 2)\n",
      "([['c'], ['b'], ['c']], 2)\n",
      "16\n"
     ]
    }
   ],
   "source": [
    "frequent_pattern = apriori_tc(dataset, maxspan=3)\n",
    "for seq in frequent_pattern:\n",
    "    print(seq)\n",
    "print(len(frequent_pattern))"
   ]
  },
  {
   "cell_type": "code",
   "execution_count": 19,
   "metadata": {},
   "outputs": [
    {
     "name": "stdout",
     "output_type": "stream",
     "text": [
      "([['a']], 4)\n",
      "([['b']], 4)\n",
      "([['c']], 4)\n",
      "([['a', 'b']], 2)\n",
      "([['b', 'c']], 2)\n",
      "([['a'], ['b']], 3)\n",
      "([['a'], ['c']], 4)\n",
      "([['b'], ['c']], 3)\n",
      "([['c'], ['b']], 3)\n",
      "([['c'], ['c']], 4)\n",
      "([['a'], ['b', 'c']], 2)\n",
      "([['a'], ['c'], ['b']], 2)\n",
      "([['a'], ['c'], ['c']], 2)\n",
      "([['a', 'b'], ['c']], 2)\n",
      "([['c'], ['b'], ['c']], 2)\n",
      "15\n"
     ]
    }
   ],
   "source": [
    "frequent_pattern = apriori_tc(dataset, maxgap=2)\n",
    "for seq in frequent_pattern:\n",
    "    print(seq)\n",
    "print(len(frequent_pattern))"
   ]
  },
  {
   "cell_type": "code",
   "execution_count": 18,
   "metadata": {},
   "outputs": [
    {
     "name": "stdout",
     "output_type": "stream",
     "text": [
      "([['a']], 4)\n",
      "([['b']], 4)\n",
      "([['c']], 4)\n",
      "([['a', 'b']], 2)\n",
      "([['b', 'c']], 2)\n",
      "([['a'], ['b']], 3)\n",
      "([['a'], ['c']], 4)\n",
      "([['b'], ['c']], 2)\n",
      "([['c'], ['c']], 3)\n",
      "([['a'], ['b'], ['c']], 2)\n",
      "([['a'], ['c'], ['c']], 2)\n",
      "([['a', 'b'], ['c']], 2)\n",
      "12\n"
     ]
    }
   ],
   "source": [
    "frequent_pattern = apriori_tc(dataset, mingap=1)\n",
    "for seq in frequent_pattern:\n",
    "    print(seq)\n",
    "print(len(frequent_pattern))"
   ]
  },
  {
   "cell_type": "code",
   "execution_count": 22,
   "metadata": {},
   "outputs": [
    {
     "name": "stdout",
     "output_type": "stream",
     "text": [
      "([['a']], 4)\n",
      "([['b']], 4)\n",
      "([['c']], 4)\n",
      "([['a', 'b']], 2)\n",
      "([['b', 'c']], 2)\n",
      "([['a'], ['b']], 3)\n",
      "([['a'], ['c']], 4)\n",
      "([['b'], ['c']], 3)\n",
      "([['c'], ['b']], 3)\n",
      "([['c'], ['c']], 4)\n",
      "([['a'], ['b', 'c']], 2)\n",
      "([['a'], ['c'], ['b']], 2)\n",
      "([['a'], ['c'], ['c']], 2)\n",
      "([['a', 'b'], ['c']], 2)\n",
      "([['c'], ['b'], ['c']], 2)\n",
      "15\n"
     ]
    }
   ],
   "source": [
    "frequent_pattern = apriori_tc(dataset, maxspan = 3, maxgap = 2, mingap=0)\n",
    "for seq in frequent_pattern:\n",
    "    print(seq)\n",
    "print(len(frequent_pattern))"
   ]
  },
  {
   "cell_type": "code",
   "execution_count": 23,
   "metadata": {},
   "outputs": [
    {
     "name": "stdout",
     "output_type": "stream",
     "text": [
      "([['a']], 4)\n",
      "([['b']], 4)\n",
      "([['c']], 4)\n",
      "([['a', 'b']], 2)\n",
      "([['b', 'c']], 2)\n",
      "([['a'], ['b']], 2)\n",
      "([['a'], ['c']], 3)\n",
      "([['b'], ['c']], 2)\n",
      "([['c'], ['c']], 3)\n",
      "([['a', 'b'], ['c']], 2)\n",
      "10\n"
     ]
    }
   ],
   "source": [
    "frequent_pattern = apriori_tc(dataset, maxspan = 3, maxgap = 2, mingap=1)\n",
    "for seq in frequent_pattern:\n",
    "    print(seq)\n",
    "print(len(frequent_pattern))"
   ]
  }
 ],
 "metadata": {
  "kernelspec": {
   "display_name": "Python 3",
   "language": "python",
   "name": "python3"
  },
  "language_info": {
   "codemirror_mode": {
    "name": "ipython",
    "version": 3
   },
   "file_extension": ".py",
   "mimetype": "text/x-python",
   "name": "python",
   "nbconvert_exporter": "python",
   "pygments_lexer": "ipython3",
   "version": "3.8.3"
  }
 },
 "nbformat": 4,
 "nbformat_minor": 4
}
