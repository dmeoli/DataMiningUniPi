{
 "cells": [
  {
   "cell_type": "markdown",
   "metadata": {},
   "source": [
    "# Task 4: Sequential Pattern Mining"
   ]
  },
  {
   "cell_type": "code",
   "execution_count": 107,
   "metadata": {},
   "outputs": [],
   "source": [
    "import numpy as np\n",
    "import pandas as pd\n",
    "import copy"
   ]
  },
  {
   "cell_type": "markdown",
   "metadata": {},
   "source": [
    "## Loading the new dataset"
   ]
  },
  {
   "cell_type": "code",
   "execution_count": 108,
   "metadata": {},
   "outputs": [
    {
     "data": {
      "text/html": [
       "<div>\n",
       "<style scoped>\n",
       "    .dataframe tbody tr th:only-of-type {\n",
       "        vertical-align: middle;\n",
       "    }\n",
       "\n",
       "    .dataframe tbody tr th {\n",
       "        vertical-align: top;\n",
       "    }\n",
       "\n",
       "    .dataframe thead th {\n",
       "        text-align: right;\n",
       "    }\n",
       "</style>\n",
       "<table border=\"1\" class=\"dataframe\">\n",
       "  <thead>\n",
       "    <tr style=\"text-align: right;\">\n",
       "      <th></th>\n",
       "      <th>BasketID</th>\n",
       "      <th>BasketDate</th>\n",
       "      <th>Sale</th>\n",
       "      <th>CustomerID</th>\n",
       "      <th>ProdID</th>\n",
       "      <th>ProdDescr</th>\n",
       "      <th>Qta</th>\n",
       "      <th>TotSale</th>\n",
       "    </tr>\n",
       "  </thead>\n",
       "  <tbody>\n",
       "    <tr>\n",
       "      <th>0</th>\n",
       "      <td>539993</td>\n",
       "      <td>2011-04-01 10:00:00</td>\n",
       "      <td>1.95</td>\n",
       "      <td>13313.0</td>\n",
       "      <td>22386</td>\n",
       "      <td>JUMBO BAG PINK POLKADOT</td>\n",
       "      <td>10</td>\n",
       "      <td>19.50</td>\n",
       "    </tr>\n",
       "    <tr>\n",
       "      <th>1</th>\n",
       "      <td>539993</td>\n",
       "      <td>2011-04-01 10:00:00</td>\n",
       "      <td>0.42</td>\n",
       "      <td>13313.0</td>\n",
       "      <td>21499</td>\n",
       "      <td>BLUE POLKADOT WRAP</td>\n",
       "      <td>25</td>\n",
       "      <td>10.50</td>\n",
       "    </tr>\n",
       "    <tr>\n",
       "      <th>2</th>\n",
       "      <td>539993</td>\n",
       "      <td>2011-04-01 10:00:00</td>\n",
       "      <td>0.42</td>\n",
       "      <td>13313.0</td>\n",
       "      <td>21498</td>\n",
       "      <td>RED RETROSPOT WRAP</td>\n",
       "      <td>25</td>\n",
       "      <td>10.50</td>\n",
       "    </tr>\n",
       "    <tr>\n",
       "      <th>3</th>\n",
       "      <td>539993</td>\n",
       "      <td>2011-04-01 10:00:00</td>\n",
       "      <td>2.10</td>\n",
       "      <td>13313.0</td>\n",
       "      <td>22379</td>\n",
       "      <td>RECYCLING BAG RETROSPOT</td>\n",
       "      <td>5</td>\n",
       "      <td>10.50</td>\n",
       "    </tr>\n",
       "    <tr>\n",
       "      <th>4</th>\n",
       "      <td>539993</td>\n",
       "      <td>2011-04-01 10:00:00</td>\n",
       "      <td>1.25</td>\n",
       "      <td>13313.0</td>\n",
       "      <td>20718</td>\n",
       "      <td>RED RETROSPOT SHOPPER BAG</td>\n",
       "      <td>10</td>\n",
       "      <td>12.50</td>\n",
       "    </tr>\n",
       "    <tr>\n",
       "      <th>...</th>\n",
       "      <td>...</td>\n",
       "      <td>...</td>\n",
       "      <td>...</td>\n",
       "      <td>...</td>\n",
       "      <td>...</td>\n",
       "      <td>...</td>\n",
       "      <td>...</td>\n",
       "      <td>...</td>\n",
       "    </tr>\n",
       "    <tr>\n",
       "      <th>363572</th>\n",
       "      <td>581587</td>\n",
       "      <td>2011-09-12 12:50:00</td>\n",
       "      <td>0.85</td>\n",
       "      <td>12680.0</td>\n",
       "      <td>22613</td>\n",
       "      <td>PACK OF SPACEBOY NAPKINS</td>\n",
       "      <td>12</td>\n",
       "      <td>10.20</td>\n",
       "    </tr>\n",
       "    <tr>\n",
       "      <th>363573</th>\n",
       "      <td>581587</td>\n",
       "      <td>2011-09-12 12:50:00</td>\n",
       "      <td>2.10</td>\n",
       "      <td>12680.0</td>\n",
       "      <td>22899</td>\n",
       "      <td>CHILDRENS APRON DOLLY GIRL</td>\n",
       "      <td>6</td>\n",
       "      <td>12.60</td>\n",
       "    </tr>\n",
       "    <tr>\n",
       "      <th>363574</th>\n",
       "      <td>581587</td>\n",
       "      <td>2011-09-12 12:50:00</td>\n",
       "      <td>4.15</td>\n",
       "      <td>12680.0</td>\n",
       "      <td>23254</td>\n",
       "      <td>CHILDRENS CUTLERY DOLLY GIRL</td>\n",
       "      <td>4</td>\n",
       "      <td>16.60</td>\n",
       "    </tr>\n",
       "    <tr>\n",
       "      <th>363575</th>\n",
       "      <td>581587</td>\n",
       "      <td>2011-09-12 12:50:00</td>\n",
       "      <td>4.15</td>\n",
       "      <td>12680.0</td>\n",
       "      <td>23255</td>\n",
       "      <td>CHILDRENS CUTLERY CIRCUS PARADE</td>\n",
       "      <td>4</td>\n",
       "      <td>16.60</td>\n",
       "    </tr>\n",
       "    <tr>\n",
       "      <th>363576</th>\n",
       "      <td>581587</td>\n",
       "      <td>2011-09-12 12:50:00</td>\n",
       "      <td>4.95</td>\n",
       "      <td>12680.0</td>\n",
       "      <td>22138</td>\n",
       "      <td>BAKING SET PIECE RETROSPOT</td>\n",
       "      <td>3</td>\n",
       "      <td>14.85</td>\n",
       "    </tr>\n",
       "  </tbody>\n",
       "</table>\n",
       "<p>363577 rows × 8 columns</p>\n",
       "</div>"
      ],
      "text/plain": [
       "        BasketID           BasketDate  Sale  CustomerID ProdID  \\\n",
       "0         539993  2011-04-01 10:00:00  1.95     13313.0  22386   \n",
       "1         539993  2011-04-01 10:00:00  0.42     13313.0  21499   \n",
       "2         539993  2011-04-01 10:00:00  0.42     13313.0  21498   \n",
       "3         539993  2011-04-01 10:00:00  2.10     13313.0  22379   \n",
       "4         539993  2011-04-01 10:00:00  1.25     13313.0  20718   \n",
       "...          ...                  ...   ...         ...    ...   \n",
       "363572    581587  2011-09-12 12:50:00  0.85     12680.0  22613   \n",
       "363573    581587  2011-09-12 12:50:00  2.10     12680.0  22899   \n",
       "363574    581587  2011-09-12 12:50:00  4.15     12680.0  23254   \n",
       "363575    581587  2011-09-12 12:50:00  4.15     12680.0  23255   \n",
       "363576    581587  2011-09-12 12:50:00  4.95     12680.0  22138   \n",
       "\n",
       "                              ProdDescr  Qta  TotSale  \n",
       "0               JUMBO BAG PINK POLKADOT   10    19.50  \n",
       "1                    BLUE POLKADOT WRAP   25    10.50  \n",
       "2                    RED RETROSPOT WRAP   25    10.50  \n",
       "3               RECYCLING BAG RETROSPOT    5    10.50  \n",
       "4             RED RETROSPOT SHOPPER BAG   10    12.50  \n",
       "...                                 ...  ...      ...  \n",
       "363572         PACK OF SPACEBOY NAPKINS   12    10.20  \n",
       "363573       CHILDRENS APRON DOLLY GIRL    6    12.60  \n",
       "363574     CHILDRENS CUTLERY DOLLY GIRL    4    16.60  \n",
       "363575  CHILDRENS CUTLERY CIRCUS PARADE    4    16.60  \n",
       "363576       BAKING SET PIECE RETROSPOT    3    14.85  \n",
       "\n",
       "[363577 rows x 8 columns]"
      ]
     },
     "execution_count": 108,
     "metadata": {},
     "output_type": "execute_result"
    }
   ],
   "source": [
    "df = pd.read_csv('../dataset/new_customer_supermarket.csv', sep='\\t', index_col=0)\n",
    "df"
   ]
  },
  {
   "cell_type": "code",
   "execution_count": 109,
   "metadata": {},
   "outputs": [
    {
     "data": {
      "text/plain": [
       "BasketID        int64\n",
       "BasketDate     object\n",
       "Sale          float64\n",
       "CustomerID    float64\n",
       "ProdID         object\n",
       "ProdDescr      object\n",
       "Qta             int64\n",
       "TotSale       float64\n",
       "dtype: object"
      ]
     },
     "execution_count": 109,
     "metadata": {},
     "output_type": "execute_result"
    }
   ],
   "source": [
    "df.dtypes"
   ]
  },
  {
   "cell_type": "code",
   "execution_count": 110,
   "metadata": {},
   "outputs": [],
   "source": [
    "df = df.astype({'BasketDate': 'datetime64',\n",
    "                'BasketID': 'object',\n",
    "                'CustomerID': 'object'})"
   ]
  },
  {
   "cell_type": "code",
   "execution_count": 111,
   "metadata": {},
   "outputs": [
    {
     "data": {
      "text/plain": [
       "3678"
      ]
     },
     "execution_count": 111,
     "metadata": {},
     "output_type": "execute_result"
    }
   ],
   "source": [
    "df['ProdDescr'].nunique()"
   ]
  },
  {
   "cell_type": "code",
   "execution_count": 112,
   "metadata": {},
   "outputs": [],
   "source": [
    "import webcolors\n",
    "from nltk.corpus import stopwords\n",
    "from nltk import word_tokenize\n",
    "from nltk.stem import WordNetLemmatizer\n",
    "\n",
    "lemmatizer = WordNetLemmatizer()\n",
    "stop_words = set(stopwords.words('english'))\n",
    "colors = webcolors.CSS3_NAMES_TO_HEX.keys()\n",
    "\n",
    "def lemmatize_descr(descr):\n",
    "    return ' '.join(lemmatizer.lemmatize(token) for token in word_tokenize(descr.lower()) \n",
    "                    if not token in stop_words and \n",
    "                    not any(color in token for color in colors) and \n",
    "                    len(token) >= 3).upper()"
   ]
  },
  {
   "cell_type": "code",
   "execution_count": 113,
   "metadata": {},
   "outputs": [
    {
     "data": {
      "text/html": [
       "<div>\n",
       "<style scoped>\n",
       "    .dataframe tbody tr th:only-of-type {\n",
       "        vertical-align: middle;\n",
       "    }\n",
       "\n",
       "    .dataframe tbody tr th {\n",
       "        vertical-align: top;\n",
       "    }\n",
       "\n",
       "    .dataframe thead th {\n",
       "        text-align: right;\n",
       "    }\n",
       "</style>\n",
       "<table border=\"1\" class=\"dataframe\">\n",
       "  <thead>\n",
       "    <tr style=\"text-align: right;\">\n",
       "      <th></th>\n",
       "      <th>BasketID</th>\n",
       "      <th>BasketDate</th>\n",
       "      <th>Sale</th>\n",
       "      <th>CustomerID</th>\n",
       "      <th>ProdID</th>\n",
       "      <th>ProdDescr</th>\n",
       "      <th>Qta</th>\n",
       "      <th>TotSale</th>\n",
       "    </tr>\n",
       "  </thead>\n",
       "  <tbody>\n",
       "    <tr>\n",
       "      <th>0</th>\n",
       "      <td>539993</td>\n",
       "      <td>2011-04-01 10:00:00</td>\n",
       "      <td>1.95</td>\n",
       "      <td>13313</td>\n",
       "      <td>22386</td>\n",
       "      <td>JUMBO BAG POLKADOT</td>\n",
       "      <td>10</td>\n",
       "      <td>19.50</td>\n",
       "    </tr>\n",
       "    <tr>\n",
       "      <th>1</th>\n",
       "      <td>539993</td>\n",
       "      <td>2011-04-01 10:00:00</td>\n",
       "      <td>0.42</td>\n",
       "      <td>13313</td>\n",
       "      <td>21499</td>\n",
       "      <td>POLKADOT WRAP</td>\n",
       "      <td>25</td>\n",
       "      <td>10.50</td>\n",
       "    </tr>\n",
       "    <tr>\n",
       "      <th>2</th>\n",
       "      <td>539993</td>\n",
       "      <td>2011-04-01 10:00:00</td>\n",
       "      <td>0.42</td>\n",
       "      <td>13313</td>\n",
       "      <td>21498</td>\n",
       "      <td>RETROSPOT WRAP</td>\n",
       "      <td>25</td>\n",
       "      <td>10.50</td>\n",
       "    </tr>\n",
       "    <tr>\n",
       "      <th>3</th>\n",
       "      <td>539993</td>\n",
       "      <td>2011-04-01 10:00:00</td>\n",
       "      <td>2.10</td>\n",
       "      <td>13313</td>\n",
       "      <td>22379</td>\n",
       "      <td>RECYCLING BAG RETROSPOT</td>\n",
       "      <td>5</td>\n",
       "      <td>10.50</td>\n",
       "    </tr>\n",
       "    <tr>\n",
       "      <th>4</th>\n",
       "      <td>539993</td>\n",
       "      <td>2011-04-01 10:00:00</td>\n",
       "      <td>1.25</td>\n",
       "      <td>13313</td>\n",
       "      <td>20718</td>\n",
       "      <td>RETROSPOT SHOPPER BAG</td>\n",
       "      <td>10</td>\n",
       "      <td>12.50</td>\n",
       "    </tr>\n",
       "    <tr>\n",
       "      <th>...</th>\n",
       "      <td>...</td>\n",
       "      <td>...</td>\n",
       "      <td>...</td>\n",
       "      <td>...</td>\n",
       "      <td>...</td>\n",
       "      <td>...</td>\n",
       "      <td>...</td>\n",
       "      <td>...</td>\n",
       "    </tr>\n",
       "    <tr>\n",
       "      <th>363572</th>\n",
       "      <td>581587</td>\n",
       "      <td>2011-09-12 12:50:00</td>\n",
       "      <td>0.85</td>\n",
       "      <td>12680</td>\n",
       "      <td>22613</td>\n",
       "      <td>PACK SPACEBOY NAPKIN</td>\n",
       "      <td>12</td>\n",
       "      <td>10.20</td>\n",
       "    </tr>\n",
       "    <tr>\n",
       "      <th>363573</th>\n",
       "      <td>581587</td>\n",
       "      <td>2011-09-12 12:50:00</td>\n",
       "      <td>2.10</td>\n",
       "      <td>12680</td>\n",
       "      <td>22899</td>\n",
       "      <td>CHILDRENS APRON DOLLY GIRL</td>\n",
       "      <td>6</td>\n",
       "      <td>12.60</td>\n",
       "    </tr>\n",
       "    <tr>\n",
       "      <th>363574</th>\n",
       "      <td>581587</td>\n",
       "      <td>2011-09-12 12:50:00</td>\n",
       "      <td>4.15</td>\n",
       "      <td>12680</td>\n",
       "      <td>23254</td>\n",
       "      <td>CHILDRENS CUTLERY DOLLY GIRL</td>\n",
       "      <td>4</td>\n",
       "      <td>16.60</td>\n",
       "    </tr>\n",
       "    <tr>\n",
       "      <th>363575</th>\n",
       "      <td>581587</td>\n",
       "      <td>2011-09-12 12:50:00</td>\n",
       "      <td>4.15</td>\n",
       "      <td>12680</td>\n",
       "      <td>23255</td>\n",
       "      <td>CHILDRENS CUTLERY CIRCUS PARADE</td>\n",
       "      <td>4</td>\n",
       "      <td>16.60</td>\n",
       "    </tr>\n",
       "    <tr>\n",
       "      <th>363576</th>\n",
       "      <td>581587</td>\n",
       "      <td>2011-09-12 12:50:00</td>\n",
       "      <td>4.95</td>\n",
       "      <td>12680</td>\n",
       "      <td>22138</td>\n",
       "      <td>BAKING SET PIECE RETROSPOT</td>\n",
       "      <td>3</td>\n",
       "      <td>14.85</td>\n",
       "    </tr>\n",
       "  </tbody>\n",
       "</table>\n",
       "<p>363577 rows × 8 columns</p>\n",
       "</div>"
      ],
      "text/plain": [
       "       BasketID          BasketDate  Sale CustomerID ProdID  \\\n",
       "0        539993 2011-04-01 10:00:00  1.95      13313  22386   \n",
       "1        539993 2011-04-01 10:00:00  0.42      13313  21499   \n",
       "2        539993 2011-04-01 10:00:00  0.42      13313  21498   \n",
       "3        539993 2011-04-01 10:00:00  2.10      13313  22379   \n",
       "4        539993 2011-04-01 10:00:00  1.25      13313  20718   \n",
       "...         ...                 ...   ...        ...    ...   \n",
       "363572   581587 2011-09-12 12:50:00  0.85      12680  22613   \n",
       "363573   581587 2011-09-12 12:50:00  2.10      12680  22899   \n",
       "363574   581587 2011-09-12 12:50:00  4.15      12680  23254   \n",
       "363575   581587 2011-09-12 12:50:00  4.15      12680  23255   \n",
       "363576   581587 2011-09-12 12:50:00  4.95      12680  22138   \n",
       "\n",
       "                              ProdDescr  Qta  TotSale  \n",
       "0                    JUMBO BAG POLKADOT   10    19.50  \n",
       "1                         POLKADOT WRAP   25    10.50  \n",
       "2                        RETROSPOT WRAP   25    10.50  \n",
       "3               RECYCLING BAG RETROSPOT    5    10.50  \n",
       "4                 RETROSPOT SHOPPER BAG   10    12.50  \n",
       "...                                 ...  ...      ...  \n",
       "363572             PACK SPACEBOY NAPKIN   12    10.20  \n",
       "363573       CHILDRENS APRON DOLLY GIRL    6    12.60  \n",
       "363574     CHILDRENS CUTLERY DOLLY GIRL    4    16.60  \n",
       "363575  CHILDRENS CUTLERY CIRCUS PARADE    4    16.60  \n",
       "363576       BAKING SET PIECE RETROSPOT    3    14.85  \n",
       "\n",
       "[363577 rows x 8 columns]"
      ]
     },
     "execution_count": 113,
     "metadata": {},
     "output_type": "execute_result"
    }
   ],
   "source": [
    "df['ProdDescr'] = df['ProdDescr'].apply(lemmatize_descr)\n",
    "df"
   ]
  },
  {
   "cell_type": "code",
   "execution_count": 114,
   "metadata": {},
   "outputs": [
    {
     "data": {
      "text/plain": [
       "3259"
      ]
     },
     "execution_count": 114,
     "metadata": {},
     "output_type": "execute_result"
    }
   ],
   "source": [
    "df['ProdDescr'].nunique()"
   ]
  },
  {
   "cell_type": "markdown",
   "metadata": {},
   "source": [
    "## AprioriAll"
   ]
  },
  {
   "cell_type": "code",
   "execution_count": 31,
   "metadata": {},
   "outputs": [],
   "source": [
    "dataset = [\n",
    "    # sequence: list of events\n",
    "    [['a'], ['a', 'b', 'c'], ['a', 'c'], ['c']],  # event: {timestamp : list of strings} or [list of strings]\n",
    "    [['a'], ['c'], ['b', 'c']], \n",
    "    [['a', 'b'], ['d'], ['c'], ['b'], ['c']], \n",
    "    [['a'], ['c'], ['b'], ['c']]\n",
    "]"
   ]
  },
  {
   "cell_type": "code",
   "execution_count": 161,
   "metadata": {},
   "outputs": [],
   "source": [
    "dataset = [\n",
    "    # sequence: list of events\n",
    "    {1: ['a'],  # event: {timestamp : list of strings} or [list of strings]\n",
    "     2: ['a', 'b', 'c'], \n",
    "     3: ['a', 'c'], \n",
    "     4: ['c']}, \n",
    "    {1: ['a'], \n",
    "     2: ['c'], \n",
    "     3: ['b', 'c']}, \n",
    "    {1: ['a', 'b'], \n",
    "     2: ['d'], \n",
    "     3: ['c'], \n",
    "     4: ['b'], \n",
    "     5: ['c']}, \n",
    "    {1: ['a'], \n",
    "     2: ['c'], \n",
    "     3: ['b'], \n",
    "     4: ['c']}\n",
    "]"
   ]
  },
  {
   "cell_type": "code",
   "execution_count": 23,
   "metadata": {},
   "outputs": [],
   "source": [
    "\"\"\"\n",
    "Recursive method that checks if `subsequence` is a subsequence of `main_sequence`\n",
    "\"\"\"\n",
    "def is_subsequence(main_sequence, subsequence):\n",
    "    \n",
    "    \"\"\"\n",
    "    Function for the recursive call of is_subsequence\n",
    "    \"\"\"\n",
    "    def is_subsequence_recursive(subsequence_clone, start=0):\n",
    "        # check if empty: end of recursion, all itemsets have been found\n",
    "        if not subsequence_clone:\n",
    "            return True\n",
    "        # retrieves element of the subsequence and removes is from subsequence \n",
    "        first_elem = set(subsequence_clone.pop(0))\n",
    "        # search for the first itemset...\n",
    "        for i in range(start, len(main_sequence)):\n",
    "            if set(main_sequence[i]).issuperset(first_elem):\n",
    "                # and recurse\n",
    "                return is_subsequence_recursive(subsequence_clone, i + 1)\n",
    "        return False\n",
    "\n",
    "    return is_subsequence_recursive(subsequence.copy()) # start recursion"
   ]
  },
  {
   "cell_type": "code",
   "execution_count": 24,
   "metadata": {},
   "outputs": [],
   "source": [
    "sequence = [['a'], ['b', 'c'], ['d'], ['a', 'e']]"
   ]
  },
  {
   "cell_type": "code",
   "execution_count": 25,
   "metadata": {
    "collapsed": false,
    "jupyter": {
     "outputs_hidden": false
    }
   },
   "outputs": [
    {
     "data": {
      "text/plain": [
       "True"
      ]
     },
     "execution_count": 25,
     "metadata": {},
     "output_type": "execute_result"
    }
   ],
   "source": [
    "is_subsequence(sequence, [['a'], ['b', 'c'], ['e']])"
   ]
  },
  {
   "cell_type": "code",
   "execution_count": 26,
   "metadata": {
    "collapsed": false,
    "jupyter": {
     "outputs_hidden": false
    }
   },
   "outputs": [
    {
     "data": {
      "text/plain": [
       "False"
      ]
     },
     "execution_count": 26,
     "metadata": {},
     "output_type": "execute_result"
    }
   ],
   "source": [
    "is_subsequence(sequence, [['a'], ['b', 'd']])"
   ]
  },
  {
   "cell_type": "code",
   "execution_count": 27,
   "metadata": {},
   "outputs": [],
   "source": [
    "\"\"\"\n",
    "Computes the length of the sequence (sum of the length of the contained itemsets)\n",
    "\"\"\"\n",
    "def sequence_length(sequence):\n",
    "    return sum(len(i) for i in sequence)"
   ]
  },
  {
   "cell_type": "code",
   "execution_count": 28,
   "metadata": {
    "collapsed": false,
    "jupyter": {
     "outputs_hidden": false
    }
   },
   "outputs": [
    {
     "data": {
      "text/plain": [
       "7"
      ]
     },
     "execution_count": 28,
     "metadata": {},
     "output_type": "execute_result"
    }
   ],
   "source": [
    "sequence_length([['a'], ['b', 'c'], ['a'], ['b', 'c', 'd']])"
   ]
  },
  {
   "cell_type": "code",
   "execution_count": 165,
   "metadata": {},
   "outputs": [],
   "source": [
    "\"\"\"\n",
    "Computes the support of a sequence in a dataset provided time constraints\n",
    "\"\"\"\n",
    "def count_support(dataset, cand_seq, max_span=np.inf, min_gap=1, max_gap=np.inf):\n",
    "    if isinstance(cand_seq, dict):\n",
    "        return sum(1 for idx, seq in enumerate(dataset) \n",
    "                   if min_gap < sorted(seq.keys())[idx + 1] - sorted(seq.keys())[idx] <= max_gap \n",
    "                   and sorted(seq.keys())[-1] - sorted(seq.keys())[0] <= max_span \n",
    "                   and is_subsequence(seq.values(), cand_seq))\n",
    "    else:\n",
    "        return sum(1 for seq in dataset\n",
    "                   if is_subsequence(list(seq.values()) if isinstance(seq, dict) else seq, cand_seq))"
   ]
  },
  {
   "cell_type": "code",
   "execution_count": 133,
   "metadata": {
    "collapsed": false,
    "jupyter": {
     "outputs_hidden": false
    }
   },
   "outputs": [
    {
     "data": {
      "text/plain": [
       "4"
      ]
     },
     "execution_count": 133,
     "metadata": {},
     "output_type": "execute_result"
    }
   ],
   "source": [
    "count_support(dataset, [['b']])"
   ]
  },
  {
   "cell_type": "code",
   "execution_count": 129,
   "metadata": {
    "collapsed": false,
    "jupyter": {
     "outputs_hidden": false
    }
   },
   "outputs": [
    {
     "data": {
      "text/plain": [
       "2"
      ]
     },
     "execution_count": 129,
     "metadata": {},
     "output_type": "execute_result"
    }
   ],
   "source": [
    "count_support(dataset, [['a'], ['b', 'c']])"
   ]
  },
  {
   "cell_type": "code",
   "execution_count": 40,
   "metadata": {},
   "outputs": [],
   "source": [
    "\"\"\"\n",
    "Generates one candidate of length k from two candidates of length (k-1)\n",
    "\"\"\"\n",
    "def gen_cands_for_pair(cand1, cand2):\n",
    "    cand1_clone = copy.deepcopy(cand1)\n",
    "    cand2_clone = copy.deepcopy(cand2)\n",
    "    # drop the leftmost item from cand1:\n",
    "    if len(cand1[0]) == 1:\n",
    "        cand1_clone.pop(0)\n",
    "    else:\n",
    "        cand1_clone[0] = cand1_clone[0][1:]\n",
    "    # drop the rightmost item from cand2:\n",
    "    if len(cand2[-1]) == 1:\n",
    "        cand2_clone.pop(-1)\n",
    "    else:\n",
    "        cand2_clone[-1] = cand2_clone[-1][:-1]\n",
    "    \n",
    "    # if the result is not the same, then we dont need to join\n",
    "    if not cand1_clone == cand2_clone:\n",
    "        return []\n",
    "    else:\n",
    "        new_cand = copy.deepcopy(cand1)\n",
    "        if len(cand2[-1]) == 1:\n",
    "            new_cand.append(cand2[-1])\n",
    "        else:\n",
    "            new_cand[-1].extend(cand2[-1][-1])\n",
    "        return new_cand"
   ]
  },
  {
   "cell_type": "code",
   "execution_count": 41,
   "metadata": {
    "collapsed": false,
    "jupyter": {
     "outputs_hidden": false
    }
   },
   "outputs": [
    {
     "data": {
      "text/plain": [
       "[['a'], ['b', 'c'], ['d', 'e']]"
      ]
     },
     "execution_count": 41,
     "metadata": {},
     "output_type": "execute_result"
    }
   ],
   "source": [
    "candA = [['a'], ['b', 'c'], ['d']]\n",
    "candB = [['b', 'c'], ['d', 'e']]\n",
    "gen_cands_for_pair(candA, candB)"
   ]
  },
  {
   "cell_type": "code",
   "execution_count": 42,
   "metadata": {
    "collapsed": false,
    "jupyter": {
     "outputs_hidden": false
    }
   },
   "outputs": [
    {
     "data": {
      "text/plain": [
       "[['a'], ['b', 'c'], ['d'], ['e']]"
      ]
     },
     "execution_count": 42,
     "metadata": {},
     "output_type": "execute_result"
    }
   ],
   "source": [
    "candA = [['a'], ['b', 'c'], ['d']]\n",
    "candC = [['b', 'c'], ['d'], ['e']]\n",
    "gen_cands_for_pair(candA, candC)"
   ]
  },
  {
   "cell_type": "code",
   "execution_count": 43,
   "metadata": {
    "collapsed": false,
    "jupyter": {
     "outputs_hidden": false
    }
   },
   "outputs": [
    {
     "data": {
      "text/plain": [
       "[]"
      ]
     },
     "execution_count": 43,
     "metadata": {},
     "output_type": "execute_result"
    }
   ],
   "source": [
    "candA = [['a'], ['b', 'c'], ['d']]\n",
    "candD = [['a'], ['b', 'c'], ['e']]\n",
    "gen_cands_for_pair(candA, candD)"
   ]
  },
  {
   "cell_type": "code",
   "execution_count": 44,
   "metadata": {},
   "outputs": [],
   "source": [
    "\"\"\"\n",
    "Generates the set of candidates of length k from the set of frequent sequences with length (k-1)\n",
    "\"\"\"\n",
    "def gen_cands(last_lvl_cands):\n",
    "    k = sequence_length(last_lvl_cands[0]) + 1\n",
    "    if k == 2:\n",
    "        flat_short_cands = [item for sublist2 in last_lvl_cands for sublist1 in sublist2 for item in sublist1]\n",
    "        result = [[[a, b]] for a in flat_short_cands for b in flat_short_cands if b > a]\n",
    "        result.extend([[[a], [b]] for a in flat_short_cands for b in flat_short_cands])\n",
    "        return result\n",
    "    else:\n",
    "        cands = []\n",
    "        for i in range(0, len(last_lvl_cands)):\n",
    "            for j in range(0, len(last_lvl_cands)):\n",
    "                new_cand = gen_cands_for_pair(last_lvl_cands[i], last_lvl_cands[j])\n",
    "                if not new_cand == []:\n",
    "                    cands.append(new_cand)\n",
    "        cands.sort()\n",
    "        return cands"
   ]
  },
  {
   "cell_type": "markdown",
   "metadata": {},
   "source": [
    "Lets assume we know the frequent sequences of level 2:"
   ]
  },
  {
   "cell_type": "code",
   "execution_count": 45,
   "metadata": {},
   "outputs": [],
   "source": [
    "last_lvl_freq_patterns = [\n",
    "    [['a', 'b']], \n",
    "    [['b', 'c']], \n",
    "    [['a'], ['b']], \n",
    "    [['a'], ['c']], \n",
    "    [['b'], ['c']], \n",
    "    [['c'], ['b']], \n",
    "    [['c'], ['c']]\n",
    "]"
   ]
  },
  {
   "cell_type": "markdown",
   "metadata": {},
   "source": [
    "Then we can compute the generate candidates for level 3:"
   ]
  },
  {
   "cell_type": "code",
   "execution_count": 46,
   "metadata": {
    "collapsed": false,
    "jupyter": {
     "outputs_hidden": false
    }
   },
   "outputs": [
    {
     "data": {
      "text/plain": [
       "[[['a'], ['b'], ['c']],\n",
       " [['a'], ['b', 'c']],\n",
       " [['a'], ['c'], ['b']],\n",
       " [['a'], ['c'], ['c']],\n",
       " [['a', 'b'], ['c']],\n",
       " [['a', 'b', 'c']],\n",
       " [['b'], ['c'], ['b']],\n",
       " [['b'], ['c'], ['c']],\n",
       " [['b', 'c'], ['b']],\n",
       " [['b', 'c'], ['c']],\n",
       " [['c'], ['b'], ['c']],\n",
       " [['c'], ['b', 'c']],\n",
       " [['c'], ['c'], ['b']],\n",
       " [['c'], ['c'], ['c']]]"
      ]
     },
     "execution_count": 46,
     "metadata": {},
     "output_type": "execute_result"
    }
   ],
   "source": [
    "new_cands = gen_cands(last_lvl_freq_patterns)\n",
    "new_cands"
   ]
  },
  {
   "cell_type": "code",
   "execution_count": 47,
   "metadata": {},
   "outputs": [],
   "source": [
    "\"\"\"\n",
    "Computes all direct subsequence for a given sequence.\n",
    "A direct subsequence is any sequence that originates from deleting exactly one item from any event in the original sequence.\n",
    "\"\"\"\n",
    "def gen_direct_subsequences(sequence):\n",
    "    result = []\n",
    "    for i, itemset in enumerate(sequence):\n",
    "        if len(itemset) == 1:\n",
    "            seq_clone = copy.deepcopy(sequence)\n",
    "            seq_clone.pop(i)\n",
    "            result.append(seq_clone)\n",
    "        else:\n",
    "            for j in range(len(itemset)):\n",
    "                seq_clone = copy.deepcopy(sequence)\n",
    "                seq_clone[i].pop(j)\n",
    "                result.append(seq_clone)\n",
    "    return result\n",
    "\n",
    "\"\"\"\n",
    "Prunes the set of candidates generated for length k given all frequent sequence of level (k-1)\n",
    "\"\"\"\n",
    "def prune_cands(cands_last_lvl, cands_gen):\n",
    "    return [cand for cand in cands_gen if all(x in cands_last_lvl for x in gen_direct_subsequences(cand))]"
   ]
  },
  {
   "cell_type": "markdown",
   "metadata": {},
   "source": [
    "We apply this on example dataset:"
   ]
  },
  {
   "cell_type": "code",
   "execution_count": 48,
   "metadata": {
    "collapsed": false,
    "jupyter": {
     "outputs_hidden": false
    }
   },
   "outputs": [
    {
     "data": {
      "text/plain": [
       "[[['a'], ['b'], ['c']],\n",
       " [['a'], ['b', 'c']],\n",
       " [['a'], ['c'], ['b']],\n",
       " [['a'], ['c'], ['c']],\n",
       " [['a', 'b'], ['c']],\n",
       " [['b'], ['c'], ['c']],\n",
       " [['b', 'c'], ['c']],\n",
       " [['c'], ['b'], ['c']],\n",
       " [['c'], ['b', 'c']],\n",
       " [['c'], ['c'], ['b']],\n",
       " [['c'], ['c'], ['c']]]"
      ]
     },
     "execution_count": 48,
     "metadata": {},
     "output_type": "execute_result"
    }
   ],
   "source": [
    "cands_pruned = prune_cands(last_lvl_freq_patterns, new_cands)\n",
    "cands_pruned"
   ]
  },
  {
   "cell_type": "code",
   "execution_count": 62,
   "metadata": {
    "collapsed": false,
    "jupyter": {
     "outputs_hidden": false
    }
   },
   "outputs": [],
   "source": [
    "def check_cands(dataset, cands_pruned, min_sup, max_span=np.inf, min_gap=1, max_gap=np.inf):\n",
    "    if isinstance(cands_pruned, dict):\n",
    "        cands_counts = [(s, count_support(dataset, s, t, max_span, min_gap, max_gap)) for s, t in cands_pruned]\n",
    "    else:\n",
    "        cands_counts = [(s, count_support(dataset, s)) for s in cands_pruned]\n",
    "    return [(i, count) for i, count in cands_counts if count >= min_sup]"
   ]
  },
  {
   "cell_type": "code",
   "execution_count": 63,
   "metadata": {},
   "outputs": [
    {
     "data": {
      "text/plain": [
       "[([['a'], ['b'], ['c']], 3),\n",
       " ([['a'], ['b', 'c']], 2),\n",
       " ([['a'], ['c'], ['b']], 3),\n",
       " ([['a'], ['c'], ['c']], 4),\n",
       " ([['a', 'b'], ['c']], 2),\n",
       " ([['b'], ['c'], ['c']], 2),\n",
       " ([['c'], ['b'], ['c']], 2)]"
      ]
     },
     "execution_count": 63,
     "metadata": {},
     "output_type": "execute_result"
    }
   ],
   "source": [
    "result_lvl = check_cands(dataset, cands_pruned, 2)\n",
    "result_lvl"
   ]
  },
  {
   "cell_type": "code",
   "execution_count": 166,
   "metadata": {
    "collapsed": false,
    "jupyter": {
     "outputs_hidden": false
    }
   },
   "outputs": [],
   "source": [
    "\"\"\"\n",
    "The AprioriAll algorithm with time constraints. Computes the frequent sequences in a seqeunce dataset.\n",
    "\n",
    "Args:\n",
    "    dataset: a list of sequences, for which the frequent (sub-)sequences are computed\n",
    "    min_sup: the minimum support that makes a sequence frequent\n",
    "    max_span: this constraint specifies the maximum allowed time difference in days between the latest \n",
    "              and the earliest occurrences of events in the entire sequence\n",
    "    min_gap: this constraint specifies the minimum allowed time difference in days between the latest \n",
    "             and the earliest element of the pattern instance\n",
    "    max_gap: this constraint specifies the maximum allowed time difference in days between the latest \n",
    "             and the earliest element of the pattern instance\n",
    "    verbose: if True, additional informations on the mining process are printed (i.e., results \n",
    "             for each level if is True, candidates generated and pruned at each level otherwise)\n",
    "\n",
    "Returns:\n",
    "    A list of tuples (s, c), where s is a frequent sequence and c is the count for that sequence\n",
    "\"\"\"\n",
    "def aprioriall(dataset, min_sup, max_span=np.inf, min_gap=1, max_gap=np.inf, verbose=False):\n",
    "    overall = []\n",
    "    items = sorted(set([item for sequence in dataset \n",
    "                        for event in (sequence.values() if isinstance(sequence, dict) else sequence)\n",
    "                        for item in event]))\n",
    "    single_item_sequences = [[[item]] for item in items]\n",
    "    single_item_counts = [(s, count_support(dataset, s)) for s in single_item_sequences]\n",
    "    single_item_counts = [(i, count) for i, count in single_item_counts if count >= min_sup]\n",
    "    overall.append(single_item_counts)\n",
    "    if verbose > 0:\n",
    "        print('Result, lvl 1: ' + str(overall[0]))\n",
    "    k = 1\n",
    "    while True:\n",
    "        if not overall[k - 1]:\n",
    "            break\n",
    "        # 1. candidate generation\n",
    "        cands_last_lvl = [x[0] for x in overall[k - 1]]\n",
    "        cands_gen = gen_cands(cands_last_lvl)\n",
    "        # 2. candidate pruning (using a \"containsall\" subsequences)\n",
    "        cands_pruned = prune_cands(cands_last_lvl, cands_gen)\n",
    "        # 3. candidate checking\n",
    "        result_lvl = check_cands(dataset, cands_pruned, min_sup, max_span, min_gap, max_gap)\n",
    "        if verbose > 0:\n",
    "            print('Result, lvl ' + str(k + 1) + ': ' + str(result_lvl))\n",
    "            if verbose > 1:\n",
    "                print('Candidates generated, lvl ' + str(k + 1) + ': ' + str(cands_gen))\n",
    "                print('Candidates pruned, lvl ' + str(k + 1) + ': ' + str(cands_pruned))\n",
    "        overall.append(result_lvl)\n",
    "        k += 1\n",
    "    # \"flatten\" overall\n",
    "    overall = overall[:-1]\n",
    "    overall = [item for sublist in overall for item in sublist]\n",
    "    overall.sort(key=lambda tup: tup[1], reverse=True)\n",
    "    return overall"
   ]
  },
  {
   "cell_type": "code",
   "execution_count": 167,
   "metadata": {
    "collapsed": false,
    "jupyter": {
     "outputs_hidden": false
    }
   },
   "outputs": [
    {
     "name": "stdout",
     "output_type": "stream",
     "text": [
      "Result, lvl 1: [([['a']], 4), ([['b']], 4), ([['c']], 4)]\n",
      "Result, lvl 2: [([['a', 'b']], 2), ([['b', 'c']], 2), ([['a'], ['b']], 4), ([['a'], ['c']], 4), ([['b'], ['c']], 3), ([['c'], ['b']], 3), ([['c'], ['c']], 4)]\n",
      "Candidates generated, lvl 2: [[['a', 'b']], [['a', 'c']], [['b', 'c']], [['a'], ['a']], [['a'], ['b']], [['a'], ['c']], [['b'], ['a']], [['b'], ['b']], [['b'], ['c']], [['c'], ['a']], [['c'], ['b']], [['c'], ['c']]]\n",
      "Candidates pruned, lvl 2: [[['a', 'b']], [['a', 'c']], [['b', 'c']], [['a'], ['a']], [['a'], ['b']], [['a'], ['c']], [['b'], ['a']], [['b'], ['b']], [['b'], ['c']], [['c'], ['a']], [['c'], ['b']], [['c'], ['c']]]\n",
      "Result, lvl 3: [([['a'], ['b'], ['c']], 3), ([['a'], ['b', 'c']], 2), ([['a'], ['c'], ['b']], 3), ([['a'], ['c'], ['c']], 4), ([['a', 'b'], ['c']], 2), ([['b'], ['c'], ['c']], 2), ([['c'], ['b'], ['c']], 2)]\n",
      "Candidates generated, lvl 3: [[['a'], ['b'], ['c']], [['a'], ['b', 'c']], [['a'], ['c'], ['b']], [['a'], ['c'], ['c']], [['a', 'b'], ['c']], [['a', 'b', 'c']], [['b'], ['c'], ['b']], [['b'], ['c'], ['c']], [['b', 'c'], ['b']], [['b', 'c'], ['c']], [['c'], ['b'], ['c']], [['c'], ['b', 'c']], [['c'], ['c'], ['b']], [['c'], ['c'], ['c']]]\n",
      "Candidates pruned, lvl 3: [[['a'], ['b'], ['c']], [['a'], ['b', 'c']], [['a'], ['c'], ['b']], [['a'], ['c'], ['c']], [['a', 'b'], ['c']], [['b'], ['c'], ['c']], [['b', 'c'], ['c']], [['c'], ['b'], ['c']], [['c'], ['b', 'c']], [['c'], ['c'], ['b']], [['c'], ['c'], ['c']]]\n",
      "Result, lvl 4: [([['a'], ['c'], ['b'], ['c']], 2), ([['a', 'b'], ['c'], ['c']], 2)]\n",
      "Candidates generated, lvl 4: [[['a'], ['b'], ['c'], ['c']], [['a'], ['c'], ['b'], ['c']], [['a', 'b'], ['c'], ['c']], [['c'], ['b'], ['c'], ['c']]]\n",
      "Candidates pruned, lvl 4: [[['a'], ['b'], ['c'], ['c']], [['a'], ['c'], ['b'], ['c']], [['a', 'b'], ['c'], ['c']]]\n",
      "Result, lvl 5: []\n",
      "Candidates generated, lvl 5: []\n",
      "Candidates pruned, lvl 5: []\n"
     ]
    },
    {
     "data": {
      "text/plain": [
       "[([['a']], 4),\n",
       " ([['b']], 4),\n",
       " ([['c']], 4),\n",
       " ([['a'], ['b']], 4),\n",
       " ([['a'], ['c']], 4),\n",
       " ([['c'], ['c']], 4),\n",
       " ([['a'], ['c'], ['c']], 4),\n",
       " ([['b'], ['c']], 3),\n",
       " ([['c'], ['b']], 3),\n",
       " ([['a'], ['b'], ['c']], 3),\n",
       " ([['a'], ['c'], ['b']], 3),\n",
       " ([['a', 'b']], 2),\n",
       " ([['b', 'c']], 2),\n",
       " ([['a'], ['b', 'c']], 2),\n",
       " ([['a', 'b'], ['c']], 2),\n",
       " ([['b'], ['c'], ['c']], 2),\n",
       " ([['c'], ['b'], ['c']], 2),\n",
       " ([['a'], ['c'], ['b'], ['c']], 2),\n",
       " ([['a', 'b'], ['c'], ['c']], 2)]"
      ]
     },
     "execution_count": 167,
     "metadata": {},
     "output_type": "execute_result"
    }
   ],
   "source": [
    "aprioriall(dataset, min_sup=2, verbose=2)"
   ]
  },
  {
   "cell_type": "code",
   "execution_count": 168,
   "metadata": {},
   "outputs": [],
   "source": [
    "\"\"\"\n",
    "Given a list of all frequent sequences and their counts, compute the set of closed frequent sequence\n",
    "\"\"\"\n",
    "def filter_closed(result):\n",
    "    for supersequence, count_seq in copy.deepcopy(result):\n",
    "        for subsequence, count_subseq in copy.deepcopy(result):\n",
    "            if is_subsequence(supersequence, subsequence) and count_seq == count_subseq and subsequence != supersequence:\n",
    "                result.remove((subsequence, count_subseq))"
   ]
  },
  {
   "cell_type": "code",
   "execution_count": 169,
   "metadata": {},
   "outputs": [
    {
     "data": {
      "text/plain": [
       "[([['a'], ['b']], 4),\n",
       " ([['a'], ['c'], ['c']], 4),\n",
       " ([['a'], ['b'], ['c']], 3),\n",
       " ([['a'], ['c'], ['b']], 3),\n",
       " ([['a'], ['b', 'c']], 2),\n",
       " ([['a'], ['c'], ['b'], ['c']], 2),\n",
       " ([['a', 'b'], ['c'], ['c']], 2)]"
      ]
     },
     "execution_count": 169,
     "metadata": {},
     "output_type": "execute_result"
    }
   ],
   "source": [
    "result = aprioriall(dataset, min_sup=2, verbose=False)\n",
    "filter_closed(result)\n",
    "result"
   ]
  },
  {
   "cell_type": "code",
   "execution_count": 170,
   "metadata": {},
   "outputs": [],
   "source": [
    "\"\"\"\n",
    "Given a list of all frequent sequences and their counts, compute the set of maximal frequent sequence\n",
    "\"\"\"\n",
    "def filter_maximal(result):\n",
    "    for supersequence, count_seq in copy.deepcopy(result):\n",
    "        for subsequence, count_subseq in copy.deepcopy(result):\n",
    "            if is_subsequence(supersequence, subsequence) and subsequence != supersequence:\n",
    "                result.remove((subsequence, count_subseq))"
   ]
  },
  {
   "cell_type": "code",
   "execution_count": 171,
   "metadata": {},
   "outputs": [
    {
     "data": {
      "text/plain": [
       "[([['a'], ['b', 'c']], 2),\n",
       " ([['a'], ['c'], ['b'], ['c']], 2),\n",
       " ([['a', 'b'], ['c'], ['c']], 2)]"
      ]
     },
     "execution_count": 171,
     "metadata": {},
     "output_type": "execute_result"
    }
   ],
   "source": [
    "result = aprioriall(dataset, min_sup=2, verbose=False)\n",
    "filter_maximal(result)\n",
    "result"
   ]
  },
  {
   "cell_type": "markdown",
   "metadata": {},
   "source": [
    "### Supermarket dataset"
   ]
  },
  {
   "cell_type": "raw",
   "metadata": {},
   "source": [
    "dataset = [\n",
    "    # customer: sequence of baskets\n",
    "    {1 : ['item_x', 'item_y', 'item_z', etc.],  # basket {day of the year : list of products}\n",
    "     2 : ['item_p', 'item_q', 'item_r', etc.], \n",
    "     3 : [etc.]}, \n",
    "    etc.\n",
    "]"
   ]
  },
  {
   "cell_type": "code",
   "execution_count": 172,
   "metadata": {},
   "outputs": [
    {
     "data": {
      "text/html": [
       "<div>\n",
       "<style scoped>\n",
       "    .dataframe tbody tr th:only-of-type {\n",
       "        vertical-align: middle;\n",
       "    }\n",
       "\n",
       "    .dataframe tbody tr th {\n",
       "        vertical-align: top;\n",
       "    }\n",
       "\n",
       "    .dataframe thead th {\n",
       "        text-align: right;\n",
       "    }\n",
       "</style>\n",
       "<table border=\"1\" class=\"dataframe\">\n",
       "  <thead>\n",
       "    <tr style=\"text-align: right;\">\n",
       "      <th></th>\n",
       "      <th>BasketID</th>\n",
       "      <th>BasketDate</th>\n",
       "      <th>Sale</th>\n",
       "      <th>CustomerID</th>\n",
       "      <th>ProdID</th>\n",
       "      <th>ProdDescr</th>\n",
       "      <th>Qta</th>\n",
       "      <th>TotSale</th>\n",
       "      <th>BasketDayOfYear</th>\n",
       "    </tr>\n",
       "  </thead>\n",
       "  <tbody>\n",
       "    <tr>\n",
       "      <th>20766</th>\n",
       "      <td>542776</td>\n",
       "      <td>2011-01-02 08:23:00</td>\n",
       "      <td>2.95</td>\n",
       "      <td>15240</td>\n",
       "      <td>22083</td>\n",
       "      <td>PAPER CHAIN KIT RETROSPOT</td>\n",
       "      <td>12</td>\n",
       "      <td>35.40</td>\n",
       "      <td>2</td>\n",
       "    </tr>\n",
       "    <tr>\n",
       "      <th>20765</th>\n",
       "      <td>542776</td>\n",
       "      <td>2011-01-02 08:23:00</td>\n",
       "      <td>4.65</td>\n",
       "      <td>15240</td>\n",
       "      <td>22835</td>\n",
       "      <td>HOT WATER BOTTLE POORLY</td>\n",
       "      <td>4</td>\n",
       "      <td>18.60</td>\n",
       "      <td>2</td>\n",
       "    </tr>\n",
       "    <tr>\n",
       "      <th>20764</th>\n",
       "      <td>542776</td>\n",
       "      <td>2011-01-02 08:23:00</td>\n",
       "      <td>10.95</td>\n",
       "      <td>15240</td>\n",
       "      <td>21843</td>\n",
       "      <td>RETROSPOT CAKE</td>\n",
       "      <td>1</td>\n",
       "      <td>10.95</td>\n",
       "      <td>2</td>\n",
       "    </tr>\n",
       "    <tr>\n",
       "      <th>20756</th>\n",
       "      <td>542776</td>\n",
       "      <td>2011-01-02 08:23:00</td>\n",
       "      <td>1.25</td>\n",
       "      <td>15240</td>\n",
       "      <td>21671</td>\n",
       "      <td>SPOT CERAMIC DRAWER KNOB</td>\n",
       "      <td>48</td>\n",
       "      <td>60.00</td>\n",
       "      <td>2</td>\n",
       "    </tr>\n",
       "    <tr>\n",
       "      <th>20757</th>\n",
       "      <td>542776</td>\n",
       "      <td>2011-01-02 08:23:00</td>\n",
       "      <td>1.25</td>\n",
       "      <td>15240</td>\n",
       "      <td>21668</td>\n",
       "      <td>STRIPE CERAMIC DRAWER KNOB</td>\n",
       "      <td>12</td>\n",
       "      <td>15.00</td>\n",
       "      <td>2</td>\n",
       "    </tr>\n",
       "    <tr>\n",
       "      <th>...</th>\n",
       "      <td>...</td>\n",
       "      <td>...</td>\n",
       "      <td>...</td>\n",
       "      <td>...</td>\n",
       "      <td>...</td>\n",
       "      <td>...</td>\n",
       "      <td>...</td>\n",
       "      <td>...</td>\n",
       "      <td>...</td>\n",
       "    </tr>\n",
       "    <tr>\n",
       "      <th>254280</th>\n",
       "      <td>570876</td>\n",
       "      <td>2011-12-10 17:19:00</td>\n",
       "      <td>1.55</td>\n",
       "      <td>16085</td>\n",
       "      <td>46000M</td>\n",
       "      <td>POLYESTER FILLER PAD</td>\n",
       "      <td>1</td>\n",
       "      <td>1.55</td>\n",
       "      <td>344</td>\n",
       "    </tr>\n",
       "    <tr>\n",
       "      <th>254288</th>\n",
       "      <td>570876</td>\n",
       "      <td>2011-12-10 17:19:00</td>\n",
       "      <td>9.95</td>\n",
       "      <td>16085</td>\n",
       "      <td>23397</td>\n",
       "      <td>FOOT STOOL HOME SWEET HOME</td>\n",
       "      <td>1</td>\n",
       "      <td>9.95</td>\n",
       "      <td>344</td>\n",
       "    </tr>\n",
       "    <tr>\n",
       "      <th>254289</th>\n",
       "      <td>570876</td>\n",
       "      <td>2011-12-10 17:19:00</td>\n",
       "      <td>2.95</td>\n",
       "      <td>16085</td>\n",
       "      <td>22470</td>\n",
       "      <td>HEART WICKER LARGE</td>\n",
       "      <td>3</td>\n",
       "      <td>8.85</td>\n",
       "      <td>344</td>\n",
       "    </tr>\n",
       "    <tr>\n",
       "      <th>254292</th>\n",
       "      <td>570876</td>\n",
       "      <td>2011-12-10 17:19:00</td>\n",
       "      <td>3.75</td>\n",
       "      <td>16085</td>\n",
       "      <td>23083</td>\n",
       "      <td>SET PAPER TABLE LANTERN STAR</td>\n",
       "      <td>2</td>\n",
       "      <td>7.50</td>\n",
       "      <td>344</td>\n",
       "    </tr>\n",
       "    <tr>\n",
       "      <th>254285</th>\n",
       "      <td>570876</td>\n",
       "      <td>2011-12-10 17:19:00</td>\n",
       "      <td>1.45</td>\n",
       "      <td>16085</td>\n",
       "      <td>22644</td>\n",
       "      <td>CERAMIC CHERRY CAKE MONEY BANK</td>\n",
       "      <td>1</td>\n",
       "      <td>1.45</td>\n",
       "      <td>344</td>\n",
       "    </tr>\n",
       "  </tbody>\n",
       "</table>\n",
       "<p>363577 rows × 9 columns</p>\n",
       "</div>"
      ],
      "text/plain": [
       "       BasketID          BasketDate   Sale CustomerID  ProdID  \\\n",
       "20766    542776 2011-01-02 08:23:00   2.95      15240   22083   \n",
       "20765    542776 2011-01-02 08:23:00   4.65      15240   22835   \n",
       "20764    542776 2011-01-02 08:23:00  10.95      15240   21843   \n",
       "20756    542776 2011-01-02 08:23:00   1.25      15240   21671   \n",
       "20757    542776 2011-01-02 08:23:00   1.25      15240   21668   \n",
       "...         ...                 ...    ...        ...     ...   \n",
       "254280   570876 2011-12-10 17:19:00   1.55      16085  46000M   \n",
       "254288   570876 2011-12-10 17:19:00   9.95      16085   23397   \n",
       "254289   570876 2011-12-10 17:19:00   2.95      16085   22470   \n",
       "254292   570876 2011-12-10 17:19:00   3.75      16085   23083   \n",
       "254285   570876 2011-12-10 17:19:00   1.45      16085   22644   \n",
       "\n",
       "                             ProdDescr  Qta  TotSale  BasketDayOfYear  \n",
       "20766        PAPER CHAIN KIT RETROSPOT   12    35.40                2  \n",
       "20765          HOT WATER BOTTLE POORLY    4    18.60                2  \n",
       "20764                   RETROSPOT CAKE    1    10.95                2  \n",
       "20756         SPOT CERAMIC DRAWER KNOB   48    60.00                2  \n",
       "20757       STRIPE CERAMIC DRAWER KNOB   12    15.00                2  \n",
       "...                                ...  ...      ...              ...  \n",
       "254280            POLYESTER FILLER PAD    1     1.55              344  \n",
       "254288      FOOT STOOL HOME SWEET HOME    1     9.95              344  \n",
       "254289              HEART WICKER LARGE    3     8.85              344  \n",
       "254292    SET PAPER TABLE LANTERN STAR    2     7.50              344  \n",
       "254285  CERAMIC CHERRY CAKE MONEY BANK    1     1.45              344  \n",
       "\n",
       "[363577 rows x 9 columns]"
      ]
     },
     "execution_count": 172,
     "metadata": {},
     "output_type": "execute_result"
    }
   ],
   "source": [
    "df.sort_values('BasketDate', inplace=True)\n",
    "df['BasketDayOfYear'] = df['BasketDate'].dt.dayofyear\n",
    "df"
   ]
  },
  {
   "cell_type": "code",
   "execution_count": 173,
   "metadata": {},
   "outputs": [
    {
     "data": {
      "text/plain": [
       "CustomerID\n",
       "12347.0    {26: ['PACK MUSHROOM CAKE CASE', 'BOX ASSORTED...\n",
       "12348.0    {25: ['PACK SKULL TISSUE', 'PACK PAISLEY TISSU...\n",
       "12349.0    {325: ['VINTAGE DOILY DELUXE SEWING KIT', 'ENA...\n",
       "12350.0    {33: ['CALCULATOR', 'PLASTER TIN SPACEBOY', 'U...\n",
       "12352.0    {3: ['DELUXE SEWING KIT', 'BAKING SET PIECE RE...\n",
       "                                 ...                        \n",
       "18280.0    {184: ['KING CHOICE TEA CADDY', 'ALARM CLOCK B...\n",
       "18281.0    {340: ['ROBOT BIRTHDAY CARD', 'PENNY FARTHING ...\n",
       "18282.0    {43: ['REGENCY TIER', 'REGENCY MILK JUG', 'REG...\n",
       "18283.0    {23: ['PLASTER TIN SPACEBOY', 'EIGHT PIECE SNA...\n",
       "18287.0    {142: ['GINGHAM CAT SCARF', 'STRAWBERRY BATH S...\n",
       "Length: 4206, dtype: object"
      ]
     },
     "execution_count": 173,
     "metadata": {},
     "output_type": "execute_result"
    }
   ],
   "source": [
    "baskets_sequences = df.groupby('CustomerID').apply(lambda customer: customer.groupby('BasketDayOfYear')['ProdDescr'].apply(list).to_dict())\n",
    "baskets_sequences"
   ]
  },
  {
   "cell_type": "code",
   "execution_count": 174,
   "metadata": {},
   "outputs": [
    {
     "data": {
      "text/plain": [
       "[{26: ['PACK MUSHROOM CAKE CASE',\n",
       "   'BOX ASSORTED COLOUR TEASPOON',\n",
       "   'CALCULATOR',\n",
       "   'TOOTHPASTE TUBE PEN',\n",
       "   'SET TIN VINTAGE BATHROOM',\n",
       "   'TOADSTOOL LED NIGHT LIGHT',\n",
       "   'ALARM CLOCK BAKELIKE',\n",
       "   'ALARM CLOCK BAKELIKE',\n",
       "   'AIRLINE BAG VINTAGE JET SET',\n",
       "   'SANDWICH BATH SPONGE',\n",
       "   'MINI LADLE LOVE HEART',\n",
       "   'REGENCY TIER',\n",
       "   'DOG PICTURE PLAYING CARD',\n",
       "   'ALARM CLOCK BAKELIKE',\n",
       "   'SMALL HEART MEASURING SPOON',\n",
       "   'RETROSPOT OVEN GLOVE DOUBLE',\n",
       "   'PACK SPACEBOY CAKE CASE',\n",
       "   'RETROSPOT OVEN GLOVE',\n",
       "   'TEATIME FAIRY CAKE CASE',\n",
       "   'TEA TIME OVEN GLOVE',\n",
       "   'NEW BAROQUE CANDLESTICK CANDLE',\n",
       "   'SWEETHEART FAIRY CAKE CASE',\n",
       "   'AIRLINE BAG VINTAGE JET SET',\n",
       "   'WOODLAND CHARLOTTE BAG',\n",
       "   'CANDELABRA TLIGHT HOLDER',\n",
       "   'SET RETROSPOT TEA TOWEL',\n",
       "   'NEW BAROQUECANDLESTICK CANDLE',\n",
       "   'ALARM CLOCK BAKELIKE',\n",
       "   'ALARM CLOCK BAKELIKE'],\n",
       "  39: ['AIRLINE BAG VINTAGE WORLD CHAMPION',\n",
       "   'TRIPLE HOOK ANTIQUE ROSE',\n",
       "   'ALARM CLOCK BAKELIKE',\n",
       "   'WOODLAND CHARLOTTE BAG',\n",
       "   'WOODLAND DESIGN COTTON TOTE BAG',\n",
       "   'SET HEART SHAPE PETIT FOUR CASE',\n",
       "   'AIRLINE BAG VINTAGE TOKYO',\n",
       "   'AIRLINE BAG VINTAGE JET SET',\n",
       "   'SET VINTAGE LEAF CAKE CASE',\n",
       "   'AIRLINE BAG VINTAGE JET SET',\n",
       "   'AIRLINE BAG VINTAGE JET SET',\n",
       "   'REGENCY MILK JUG',\n",
       "   'SINGLE ANTIQUE ROSE HOOK',\n",
       "   'SWEETHEART FAIRY CAKE CASE',\n",
       "   'PACK DINOSAUR CAKE CASE',\n",
       "   'REGENCY TIER',\n",
       "   'TEATIME FAIRY CAKE CASE',\n",
       "   'DOG PICTURE PLAYING CARD',\n",
       "   'REVOLVER WOODEN RULER',\n",
       "   'REFECTORY CLOCK',\n",
       "   'TEA TIME OVEN GLOVE',\n",
       "   'VINTAGE HEAD TAIL CARD GAME'],\n",
       "  185: ['ICE CREAM SUNDAE LIP GLOSS',\n",
       "   'RETROSPOT OVEN GLOVE DOUBLE',\n",
       "   'REGENCY TIER',\n",
       "   'SHEET DOG STICKER',\n",
       "   'TOADSTOOL LED NIGHT LIGHT',\n",
       "   'MINI PAINT SET VINTAGE',\n",
       "   'PACK DINOSAUR CAKE CASE',\n",
       "   'LARGE HEART MEASURING SPOON',\n",
       "   'SHEET CAT STICKER',\n",
       "   'SMALL HEART MEASURING SPOON',\n",
       "   'ROSE REGENCY TEACUP SAUCER',\n",
       "   'DRAWER KNOB ACRYLIC EDWARDIAN',\n",
       "   'RETROSPOT PURSE',\n",
       "   'HOLIDAY FUN LUDO',\n",
       "   'TREASURE ISLAND BOOK BOX',\n",
       "   'SET TIN VINTAGE BATHROOM',\n",
       "   'WATERING BUNNY',\n",
       "   'VINTAGE HEAD TAIL CARD GAME',\n",
       "   'AIRLINE BAG VINTAGE JET SET',\n",
       "   'GIFT BAG PSYCHEDELIC APPLE',\n",
       "   'AIRLINE BAG VINTAGE JET SET',\n",
       "   'AIRLINE BAG VINTAGE TOKYO',\n",
       "   'AIRLINE BAG VINTAGE JET SET',\n",
       "   'SMALL FOLDING SCISSORPOINTED EDGE'],\n",
       "  193: ['BOOM BOX SPEAKER BOY',\n",
       "   'WOODLAND CHARLOTTE BAG',\n",
       "   'CLASSIC CHROME BICYCLE BELL',\n",
       "   'BICYCLE PUNCTURE REPAIR KIT',\n",
       "   'NEW BAROQUECANDLESTICK CANDLE',\n",
       "   'MINI PLAYING CARD DOLLY GIRL',\n",
       "   'RABBIT NIGHT LIGHT',\n",
       "   'GOOSE FEATHER TREE',\n",
       "   'CHRISTMAS TABLE CANDLE SPIKE',\n",
       "   'MINI PLAYING CARD SPACEBOY',\n",
       "   'TOADSTOOL LED NIGHT LIGHT'],\n",
       "  249: ['REGENCY MILK JUG',\n",
       "   'AIRLINE BAG VINTAGE JET SET',\n",
       "   'VICTORIAN SEWING KIT',\n",
       "   'REGENCY TEA STRAINER',\n",
       "   'REGENCY TEA PLATE',\n",
       "   'REGENCY TEA PLATE',\n",
       "   'REGENCY TEAPOT ROSE',\n",
       "   'REGENCY SUGAR BOWL',\n",
       "   'AIRLINE BAG VINTAGE TOKYO',\n",
       "   'RABBIT NIGHT LIGHT',\n",
       "   'TRIPLE HOOK ANTIQUE ROSE',\n",
       "   'REGENCY TEA PLATE ROSE',\n",
       "   'ALARM CLOCK BAKELIKE',\n",
       "   'SMALL HEART MEASURING SPOON',\n",
       "   'DOG PICTURE PLAYING CARD',\n",
       "   'FEATHER PENCOAL',\n",
       "   'NAMASTE SWAGAT INCENSE',\n",
       "   'ALARM CLOCK BAKELIKE'],\n",
       "  304: ['MINI PLAYING CARD DOLLY GIRL',\n",
       "   'MINI PAINT SET VINTAGE',\n",
       "   'TRADITIONAL KNITTING NANCY',\n",
       "   'AIRLINE BAG VINTAGE JET SET',\n",
       "   'PANTRY HOOK TEA STRAINER',\n",
       "   'ROSE REGENCY TEACUP SAUCER',\n",
       "   'ALARM CLOCK BAKELIKE',\n",
       "   'ALARM CLOCK BAKELIKE',\n",
       "   'WOODEN SCHOOL COLOURING SET',\n",
       "   'SMALL HEART MEASURING SPOON',\n",
       "   'PACK MUSHROOM CAKE CASE',\n",
       "   'PACK SPACEBOY CAKE CASE',\n",
       "   'SET VINTAGE LEAF CAKE CASE',\n",
       "   'TEATIME FAIRY CAKE CASE',\n",
       "   'PANTRY HOOK BALLOON WHISK',\n",
       "   'SWEETHEART FAIRY CAKE CASE',\n",
       "   'LARGE HEART MEASURING SPOON',\n",
       "   'WOODLAND CHARLOTTE BAG',\n",
       "   'REGENCY TEA STRAINER',\n",
       "   'FOOD CONTAINER SET LOVE HEART',\n",
       "   'REVOLVER WOODEN RULER',\n",
       "   'CHRISTMAS METAL TAG ASSORTED',\n",
       "   'PLAYING CARD KEEP CALM CARRY',\n",
       "   'ALARM CLOCK BAKELIKE',\n",
       "   'VINTAGE HEAD TAIL CARD GAME',\n",
       "   'MINI LIGHT WOODLAND MUSHROOM',\n",
       "   'GOOSE FEATHER TREE',\n",
       "   'MADRAS NOTEBOOK MEDIUM',\n",
       "   'AIRLINE BAG VINTAGE WORLD CHAMPION',\n",
       "   'AIRLINE BAG VINTAGE JET SET',\n",
       "   'AIRLINE BAG VINTAGE TOKYO',\n",
       "   'TRIPLE HOOK ANTIQUE ROSE',\n",
       "   'PANTRY HOOK SPATULA',\n",
       "   'BIRDCAGE DECORATION HOLDER',\n",
       "   'REGENCY TIER',\n",
       "   'ALARM CLOCK BAKELIKE',\n",
       "   'TEA TIME DE TEA COSY',\n",
       "   'TEA TIME KITCHEN APRON',\n",
       "   'TEA TIME OVEN GLOVE',\n",
       "   'MINI PLAYING CARD SPACEBOY',\n",
       "   'REGENCY TEACUP SAUCER',\n",
       "   'REGENCY TEACUP SAUCER',\n",
       "   'DOG PICTURE PLAYING CARD',\n",
       "   'RABBIT NIGHT LIGHT',\n",
       "   'TOADSTOOL LED NIGHT LIGHT',\n",
       "   'TREASURE ISLAND BOOK BOX',\n",
       "   'REGENCY TEAPOT ROSE']}]"
      ]
     },
     "execution_count": 174,
     "metadata": {},
     "output_type": "execute_result"
    }
   ],
   "source": [
    "baskets_sequences = baskets_sequences.tolist()\n",
    "baskets_sequences[:1]"
   ]
  },
  {
   "cell_type": "code",
   "execution_count": null,
   "metadata": {},
   "outputs": [],
   "source": [
    "result = aprioriall(baskets_sequences, min_sup=200, max_span=np.inf, min_gap=1, max_gap=np.inf, verbose=False)\n",
    "filter_closed(result)\n",
    "result"
   ]
  },
  {
   "cell_type": "code",
   "execution_count": null,
   "metadata": {},
   "outputs": [],
   "source": [
    "result = aprioriall(baskets_sequences, min_sup=200, max_span=np.inf, min_gap=1, max_gap=np.inf, verbose=False)\n",
    "filter_maximal(result)\n",
    "result"
   ]
  }
 ],
 "metadata": {
  "kernelspec": {
   "display_name": "Python 3",
   "language": "python",
   "name": "python3"
  },
  "language_info": {
   "codemirror_mode": {
    "name": "ipython",
    "version": 3
   },
   "file_extension": ".py",
   "mimetype": "text/x-python",
   "name": "python",
   "nbconvert_exporter": "python",
   "pygments_lexer": "ipython3",
   "version": "3.8.6"
  }
 },
 "nbformat": 4,
 "nbformat_minor": 4
}
