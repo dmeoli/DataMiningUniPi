{
 "cells": [
  {
   "cell_type": "markdown",
   "metadata": {},
   "source": [
    "# Task 4: Sequential Pattern Mining"
   ]
  },
  {
   "cell_type": "code",
   "execution_count": 55,
   "metadata": {},
   "outputs": [],
   "source": [
    "import numpy as np\n",
    "import pandas as pd\n",
    "import copy"
   ]
  },
  {
   "cell_type": "markdown",
   "metadata": {},
   "source": [
    "## Generalized Sequential Pattern (GSP) Mining"
   ]
  },
  {
   "cell_type": "code",
   "execution_count": 5,
   "metadata": {},
   "outputs": [],
   "source": [
    "dataset = [\n",
    "    # sequence: list of events\n",
    "    [['a'], ['a', 'b', 'c'], ['a', 'c'], ['c']],  # event: {timestamp : list of strings} or [list of strings]\n",
    "    [['a'], ['c'], ['b', 'c']], \n",
    "    [['a', 'b'], ['d'], ['c'], ['b'], ['c']], \n",
    "    [['a'], ['c'], ['b'], ['c']]\n",
    "]"
   ]
  },
  {
   "cell_type": "code",
   "execution_count": 6,
   "metadata": {},
   "outputs": [],
   "source": [
    "dataset = [\n",
    "    # sequence: list of events\n",
    "    {1: ['a'],  # event: {timestamp : list of strings} or [list of strings]\n",
    "     2: ['a', 'b', 'c'], \n",
    "     3: ['a', 'c'], \n",
    "     4: ['c']}, \n",
    "    {1: ['a'], \n",
    "     2: ['c'], \n",
    "     3: ['b', 'c']}, \n",
    "    {1: ['a', 'b'], \n",
    "     2: ['d'], \n",
    "     3: ['c'], \n",
    "     4: ['b'], \n",
    "     5: ['c']}, \n",
    "    {1: ['a'], \n",
    "     2: ['c'], \n",
    "     3: ['b'], \n",
    "     4: ['c']}\n",
    "]"
   ]
  },
  {
   "cell_type": "code",
   "execution_count": 7,
   "metadata": {},
   "outputs": [],
   "source": [
    "def is_subsequence(main_sequence, subsequence):\n",
    "    \"\"\"\n",
    "    Recursive method that checks if `subsequence` is a subsequence of `main_sequence`\n",
    "    \"\"\"\n",
    "\n",
    "    def is_subsequence_recursive(subsequence_clone, start=0):\n",
    "        \"\"\"\n",
    "        Function for the recursive call of is_subsequence\n",
    "        \"\"\"\n",
    "        # check if empty: end of recursion, all itemsets have been found\n",
    "        if not subsequence_clone:\n",
    "            return True\n",
    "        # retrieves element of the subsequence and removes is from subsequence \n",
    "        first_elem = set(subsequence_clone.pop(0))\n",
    "        # search for the first itemset...\n",
    "        for i in range(start, len(main_sequence)):\n",
    "            if set(main_sequence[i]).issuperset(first_elem):\n",
    "                # and recurse\n",
    "                return is_subsequence_recursive(subsequence_clone, i + 1)\n",
    "        return False\n",
    "\n",
    "    return is_subsequence_recursive(subsequence.copy()) # start recursion"
   ]
  },
  {
   "cell_type": "code",
   "execution_count": 8,
   "metadata": {},
   "outputs": [],
   "source": [
    "sequence = [['a'], ['b', 'c'], ['d'], ['a', 'e']]"
   ]
  },
  {
   "cell_type": "code",
   "execution_count": 9,
   "metadata": {
    "collapsed": false,
    "jupyter": {
     "outputs_hidden": false
    }
   },
   "outputs": [
    {
     "data": {
      "text/plain": [
       "True"
      ]
     },
     "execution_count": 9,
     "metadata": {},
     "output_type": "execute_result"
    }
   ],
   "source": [
    "is_subsequence(sequence, [['a'], ['b', 'c'], ['e']])"
   ]
  },
  {
   "cell_type": "code",
   "execution_count": 10,
   "metadata": {
    "collapsed": false,
    "jupyter": {
     "outputs_hidden": false
    }
   },
   "outputs": [
    {
     "data": {
      "text/plain": [
       "False"
      ]
     },
     "execution_count": 10,
     "metadata": {},
     "output_type": "execute_result"
    }
   ],
   "source": [
    "is_subsequence(sequence, [['a'], ['b', 'd']])"
   ]
  },
  {
   "cell_type": "code",
   "execution_count": 11,
   "metadata": {},
   "outputs": [],
   "source": [
    "def sequence_length(sequence):\n",
    "    \"\"\"\n",
    "    Computes the length of the sequence (sum of the length of the contained itemsets)\n",
    "    \"\"\"\n",
    "    return sum(len(i) for i in sequence)"
   ]
  },
  {
   "cell_type": "code",
   "execution_count": 12,
   "metadata": {
    "collapsed": false,
    "jupyter": {
     "outputs_hidden": false
    }
   },
   "outputs": [
    {
     "data": {
      "text/plain": [
       "7"
      ]
     },
     "execution_count": 12,
     "metadata": {},
     "output_type": "execute_result"
    }
   ],
   "source": [
    "sequence_length([['a'], ['b', 'c'], ['a'], ['b', 'c', 'd']])"
   ]
  },
  {
   "cell_type": "code",
   "execution_count": 66,
   "metadata": {},
   "outputs": [],
   "source": [
    "def count_support(dataset, cand_seq, max_span=np.inf, min_gap=0, max_gap=np.inf):\n",
    "    \"\"\"\n",
    "    Computes the support of a sequence in a dataset provided time constraints\n",
    "    \"\"\"\n",
    "    if isinstance(dataset[0], dict):\n",
    "        return sum(1 for seq in dataset if is_subsequence(list(seq.values()), cand_seq)) / len(dataset)\n",
    "    else:\n",
    "        return sum(1 for seq in dataset if is_subsequence(seq, cand_seq)) / len(dataset)"
   ]
  },
  {
   "cell_type": "code",
   "execution_count": 67,
   "metadata": {
    "collapsed": false,
    "jupyter": {
     "outputs_hidden": false
    }
   },
   "outputs": [
    {
     "data": {
      "text/plain": [
       "1.0"
      ]
     },
     "execution_count": 67,
     "metadata": {},
     "output_type": "execute_result"
    }
   ],
   "source": [
    "count_support(dataset, [['b']])"
   ]
  },
  {
   "cell_type": "code",
   "execution_count": 68,
   "metadata": {
    "collapsed": false,
    "jupyter": {
     "outputs_hidden": false
    }
   },
   "outputs": [
    {
     "data": {
      "text/plain": [
       "0.5"
      ]
     },
     "execution_count": 68,
     "metadata": {},
     "output_type": "execute_result"
    }
   ],
   "source": [
    "count_support(dataset, [['a'], ['b', 'c']])"
   ]
  },
  {
   "cell_type": "code",
   "execution_count": 16,
   "metadata": {},
   "outputs": [],
   "source": [
    "def gen_cands_for_pair(cand1, cand2):\n",
    "    \"\"\"\n",
    "    Generates one candidate of length k from two candidates of length (k-1)\n",
    "    \"\"\"\n",
    "    cand1_clone = copy.deepcopy(cand1)\n",
    "    cand2_clone = copy.deepcopy(cand2)\n",
    "    # drop the leftmost item from cand1:\n",
    "    if len(cand1[0]) == 1:\n",
    "        cand1_clone.pop(0)\n",
    "    else:\n",
    "        cand1_clone[0] = cand1_clone[0][1:]\n",
    "    # drop the rightmost item from cand2:\n",
    "    if len(cand2[-1]) == 1:\n",
    "        cand2_clone.pop(-1)\n",
    "    else:\n",
    "        cand2_clone[-1] = cand2_clone[-1][:-1]\n",
    "    \n",
    "    # if the result is not the same, then we dont need to join\n",
    "    if not cand1_clone == cand2_clone:\n",
    "        return []\n",
    "    else:\n",
    "        new_cand = copy.deepcopy(cand1)\n",
    "        if len(cand2[-1]) == 1:\n",
    "            new_cand.append(cand2[-1])\n",
    "        else:\n",
    "            new_cand[-1].extend(cand2[-1][-1])\n",
    "        return new_cand"
   ]
  },
  {
   "cell_type": "code",
   "execution_count": 17,
   "metadata": {
    "collapsed": false,
    "jupyter": {
     "outputs_hidden": false
    }
   },
   "outputs": [
    {
     "data": {
      "text/plain": [
       "[['a'], ['b', 'c'], ['d', 'e']]"
      ]
     },
     "execution_count": 17,
     "metadata": {},
     "output_type": "execute_result"
    }
   ],
   "source": [
    "candA = [['a'], ['b', 'c'], ['d']]\n",
    "candB = [['b', 'c'], ['d', 'e']]\n",
    "gen_cands_for_pair(candA, candB)"
   ]
  },
  {
   "cell_type": "code",
   "execution_count": 18,
   "metadata": {
    "collapsed": false,
    "jupyter": {
     "outputs_hidden": false
    }
   },
   "outputs": [
    {
     "data": {
      "text/plain": [
       "[['a'], ['b', 'c'], ['d'], ['e']]"
      ]
     },
     "execution_count": 18,
     "metadata": {},
     "output_type": "execute_result"
    }
   ],
   "source": [
    "candA = [['a'], ['b', 'c'], ['d']]\n",
    "candC = [['b', 'c'], ['d'], ['e']]\n",
    "gen_cands_for_pair(candA, candC)"
   ]
  },
  {
   "cell_type": "code",
   "execution_count": 19,
   "metadata": {
    "collapsed": false,
    "jupyter": {
     "outputs_hidden": false
    }
   },
   "outputs": [
    {
     "data": {
      "text/plain": [
       "[]"
      ]
     },
     "execution_count": 19,
     "metadata": {},
     "output_type": "execute_result"
    }
   ],
   "source": [
    "candA = [['a'], ['b', 'c'], ['d']]\n",
    "candD = [['a'], ['b', 'c'], ['e']]\n",
    "gen_cands_for_pair(candA, candD)"
   ]
  },
  {
   "cell_type": "code",
   "execution_count": 20,
   "metadata": {},
   "outputs": [],
   "source": [
    "def gen_cands(last_lvl_cands):\n",
    "    \"\"\"\n",
    "    Generates the set of candidates of length k from the set of frequent sequences with length (k-1)\n",
    "    \"\"\"\n",
    "    k = sequence_length(last_lvl_cands[0]) + 1\n",
    "    if k == 2:\n",
    "        flat_short_cands = [item for sublist2 in last_lvl_cands for sublist1 in sublist2 for item in sublist1]\n",
    "        result = [[[a, b]] for a in flat_short_cands for b in flat_short_cands if b > a]\n",
    "        result.extend([[[a], [b]] for a in flat_short_cands for b in flat_short_cands])\n",
    "        return result\n",
    "    else:\n",
    "        cands = []\n",
    "        for i in range(0, len(last_lvl_cands)):\n",
    "            for j in range(0, len(last_lvl_cands)):\n",
    "                new_cand = gen_cands_for_pair(last_lvl_cands[i], last_lvl_cands[j])\n",
    "                if not new_cand == []:\n",
    "                    cands.append(new_cand)\n",
    "        cands.sort()\n",
    "        return cands"
   ]
  },
  {
   "cell_type": "markdown",
   "metadata": {},
   "source": [
    "Lets assume we know the frequent sequences of level 2:"
   ]
  },
  {
   "cell_type": "code",
   "execution_count": 21,
   "metadata": {},
   "outputs": [],
   "source": [
    "last_lvl_freq_patterns = [\n",
    "    [['a', 'b']], \n",
    "    [['b', 'c']], \n",
    "    [['a'], ['b']], \n",
    "    [['a'], ['c']], \n",
    "    [['b'], ['c']], \n",
    "    [['c'], ['b']], \n",
    "    [['c'], ['c']]\n",
    "]"
   ]
  },
  {
   "cell_type": "markdown",
   "metadata": {},
   "source": [
    "Then we can compute the generate candidates for level 3:"
   ]
  },
  {
   "cell_type": "code",
   "execution_count": 22,
   "metadata": {
    "collapsed": false,
    "jupyter": {
     "outputs_hidden": false
    }
   },
   "outputs": [
    {
     "data": {
      "text/plain": [
       "[[['a'], ['b'], ['c']],\n",
       " [['a'], ['b', 'c']],\n",
       " [['a'], ['c'], ['b']],\n",
       " [['a'], ['c'], ['c']],\n",
       " [['a', 'b'], ['c']],\n",
       " [['a', 'b', 'c']],\n",
       " [['b'], ['c'], ['b']],\n",
       " [['b'], ['c'], ['c']],\n",
       " [['b', 'c'], ['b']],\n",
       " [['b', 'c'], ['c']],\n",
       " [['c'], ['b'], ['c']],\n",
       " [['c'], ['b', 'c']],\n",
       " [['c'], ['c'], ['b']],\n",
       " [['c'], ['c'], ['c']]]"
      ]
     },
     "execution_count": 22,
     "metadata": {},
     "output_type": "execute_result"
    }
   ],
   "source": [
    "new_cands = gen_cands(last_lvl_freq_patterns)\n",
    "new_cands"
   ]
  },
  {
   "cell_type": "code",
   "execution_count": 23,
   "metadata": {},
   "outputs": [],
   "source": [
    "def gen_direct_subsequences(sequence):\n",
    "    \"\"\"\n",
    "    Computes all direct subsequence for a given sequence.\n",
    "    A direct subsequence is any sequence that originates from deleting exactly one item from any event in the original sequence.\n",
    "    \"\"\"\n",
    "    result = []\n",
    "    for i, itemset in enumerate(sequence):\n",
    "        if len(itemset) == 1:\n",
    "            seq_clone = copy.deepcopy(sequence)\n",
    "            seq_clone.pop(i)\n",
    "            result.append(seq_clone)\n",
    "        else:\n",
    "            for j in range(len(itemset)):\n",
    "                seq_clone = copy.deepcopy(sequence)\n",
    "                seq_clone[i].pop(j)\n",
    "                result.append(seq_clone)\n",
    "    return result\n",
    "\n",
    "def prune_cands(last_lvl_cands, cands_gen):\n",
    "    \"\"\"\n",
    "    Prunes the set of candidates generated for length k given all frequent sequence of level (k-1)\n",
    "    \"\"\"\n",
    "    return [cand for cand in cands_gen if all(x in last_lvl_cands for x in gen_direct_subsequences(cand))]"
   ]
  },
  {
   "cell_type": "markdown",
   "metadata": {},
   "source": [
    "We apply this on example dataset:"
   ]
  },
  {
   "cell_type": "code",
   "execution_count": 24,
   "metadata": {
    "collapsed": false,
    "jupyter": {
     "outputs_hidden": false
    }
   },
   "outputs": [
    {
     "data": {
      "text/plain": [
       "[[['a'], ['b'], ['c']],\n",
       " [['a'], ['b', 'c']],\n",
       " [['a'], ['c'], ['b']],\n",
       " [['a'], ['c'], ['c']],\n",
       " [['a', 'b'], ['c']],\n",
       " [['b'], ['c'], ['c']],\n",
       " [['b', 'c'], ['c']],\n",
       " [['c'], ['b'], ['c']],\n",
       " [['c'], ['b', 'c']],\n",
       " [['c'], ['c'], ['b']],\n",
       " [['c'], ['c'], ['c']]]"
      ]
     },
     "execution_count": 24,
     "metadata": {},
     "output_type": "execute_result"
    }
   ],
   "source": [
    "cands_pruned = prune_cands(last_lvl_freq_patterns, new_cands)\n",
    "cands_pruned"
   ]
  },
  {
   "cell_type": "code",
   "execution_count": 69,
   "metadata": {
    "collapsed": false,
    "jupyter": {
     "outputs_hidden": false
    }
   },
   "outputs": [
    {
     "data": {
      "text/plain": [
       "[([['a'], ['b'], ['c']], 0.75),\n",
       " ([['a'], ['b', 'c']], 0.5),\n",
       " ([['a'], ['c'], ['b']], 0.75),\n",
       " ([['a'], ['c'], ['c']], 1.0),\n",
       " ([['a', 'b'], ['c']], 0.5),\n",
       " ([['b'], ['c'], ['c']], 0.5),\n",
       " ([['c'], ['b'], ['c']], 0.5)]"
      ]
     },
     "execution_count": 69,
     "metadata": {},
     "output_type": "execute_result"
    }
   ],
   "source": [
    "min_sup = 0.5\n",
    "cands_counts = [(s, count_support(dataset, s)) for s in cands_pruned]\n",
    "result_lvl = [(i, count) for i, count in cands_counts if count >= min_sup]\n",
    "result_lvl"
   ]
  },
  {
   "cell_type": "code",
   "execution_count": 171,
   "metadata": {
    "collapsed": false,
    "jupyter": {
     "outputs_hidden": false
    }
   },
   "outputs": [],
   "source": [
    "def gsp(dataset, min_sup, max_span=np.inf, min_gap=0, max_gap=np.inf, verbose=False):\n",
    "    \"\"\"\n",
    "    The Generalized Sequential Pattern (GSP) algorithm with time constraints. \n",
    "    Computes the frequent sequences in a sequence dataset.\n",
    "\n",
    "    Args:\n",
    "        dataset: a list of sequences, for which the frequent (sub-)sequences are computed\n",
    "        min_sup: the minimum support that makes a sequence frequent\n",
    "        max_span: this constraint specifies the maximum allowed time difference in days between the latest \n",
    "                  and the earliest occurrences of events in the entire sequence\n",
    "        min_gap: this constraint specifies the minimum allowed time difference in days between the latest \n",
    "                 and the earliest element of the pattern instance\n",
    "        max_gap: this constraint specifies the maximum allowed time difference in days between the latest \n",
    "                 and the earliest element of the pattern instance\n",
    "        verbose: if True, additional information on the mining process are printed (i.e., results \n",
    "                 for each level if is 1, candidates generated and pruned at each level if is 2)\n",
    "\n",
    "    Returns:\n",
    "        A list of tuples (s, c), where s is a frequent sequence and c is the count for that sequence\n",
    "    \"\"\"\n",
    "    overall = []\n",
    "    # make the first pass over the sequence database D to yield all the 1-element frequent subsequences\n",
    "    items = sorted(set([item for sequence in dataset\n",
    "                        for event in (sequence.values() if isinstance(sequence, dict) else sequence)\n",
    "                        for item in event]))\n",
    "    single_item_sequences = [[[item]] for item in items]\n",
    "    single_item_counts = [(s, count_support(dataset, s)) for s in single_item_sequences]\n",
    "    single_item_counts = [(i, count) for i, count in single_item_counts if count >= min_sup]\n",
    "    overall.append(single_item_counts)\n",
    "    if verbose > 0:\n",
    "        print('Result, lvl 1: ' + str(overall[0]))\n",
    "    k = 1\n",
    "    while overall[k - 1]:\n",
    "        # 1. candidate generation: merge pairs of frequent subsequences found in the \n",
    "        # (k-1)th pass to generate candidate sequences that contain k items \n",
    "        last_lvl_cands = [x[0] for x in overall[k - 1]]\n",
    "        cands_gen = gen_cands(last_lvl_cands)\n",
    "        # 2. candidate pruning: prune candidate k-sequences that contain infrequent \n",
    "        # (contiguous) (k-1)-subsequences (Apriori principle)\n",
    "        cands_pruned = prune_cands(last_lvl_cands, cands_gen)\n",
    "        # 3. support counting: make a new pass over the sequence database D to find \n",
    "        # the support for these candidate sequences\n",
    "        cands_counts = [(s, count_support(dataset, s, max_span, min_gap, max_gap)) for s in cands_pruned]\n",
    "        # 4. candidate elimination: eliminate candidate k-sequences whose actual \n",
    "        # support is less than `minsup`\n",
    "        result_lvl = [(i, count) for i, count in cands_counts if count >= min_sup]\n",
    "        if verbose > 0:\n",
    "            print('Result, lvl ' + str(k + 1) + ': ' + str(result_lvl))\n",
    "            if verbose > 1:\n",
    "                print('Candidates generated, lvl ' + str(k + 1) + ': ' + str(cands_gen))\n",
    "                print('Candidates pruned, lvl ' + str(k + 1) + ': ' + str(cands_pruned))\n",
    "        overall.append(result_lvl)\n",
    "        k += 1\n",
    "    # \"flatten\" overall\n",
    "    overall = overall[:-1]\n",
    "    overall = [item for sublist in overall for item in sublist]\n",
    "    overall.sort(key=lambda tup: tup[1], reverse=True)\n",
    "    return overall"
   ]
  },
  {
   "cell_type": "code",
   "execution_count": 172,
   "metadata": {
    "collapsed": false,
    "jupyter": {
     "outputs_hidden": false
    }
   },
   "outputs": [
    {
     "name": "stdout",
     "output_type": "stream",
     "text": [
      "Result, lvl 1: [([['a']], 1.0), ([['b']], 1.0), ([['c']], 1.0)]\n",
      "Result, lvl 2: [([['a', 'b']], 0.5), ([['b', 'c']], 0.5), ([['a'], ['b']], 1.0), ([['a'], ['c']], 1.0), ([['b'], ['c']], 0.75), ([['c'], ['b']], 0.75), ([['c'], ['c']], 1.0)]\n",
      "Candidates generated, lvl 2: [[['a', 'b']], [['a', 'c']], [['b', 'c']], [['a'], ['a']], [['a'], ['b']], [['a'], ['c']], [['b'], ['a']], [['b'], ['b']], [['b'], ['c']], [['c'], ['a']], [['c'], ['b']], [['c'], ['c']]]\n",
      "Candidates pruned, lvl 2: [[['a', 'b']], [['a', 'c']], [['b', 'c']], [['a'], ['a']], [['a'], ['b']], [['a'], ['c']], [['b'], ['a']], [['b'], ['b']], [['b'], ['c']], [['c'], ['a']], [['c'], ['b']], [['c'], ['c']]]\n",
      "Result, lvl 3: [([['a'], ['b'], ['c']], 0.75), ([['a'], ['b', 'c']], 0.5), ([['a'], ['c'], ['b']], 0.75), ([['a'], ['c'], ['c']], 1.0), ([['a', 'b'], ['c']], 0.5), ([['b'], ['c'], ['c']], 0.5), ([['c'], ['b'], ['c']], 0.5)]\n",
      "Candidates generated, lvl 3: [[['a'], ['b'], ['c']], [['a'], ['b', 'c']], [['a'], ['c'], ['b']], [['a'], ['c'], ['c']], [['a', 'b'], ['c']], [['a', 'b', 'c']], [['b'], ['c'], ['b']], [['b'], ['c'], ['c']], [['b', 'c'], ['b']], [['b', 'c'], ['c']], [['c'], ['b'], ['c']], [['c'], ['b', 'c']], [['c'], ['c'], ['b']], [['c'], ['c'], ['c']]]\n",
      "Candidates pruned, lvl 3: [[['a'], ['b'], ['c']], [['a'], ['b', 'c']], [['a'], ['c'], ['b']], [['a'], ['c'], ['c']], [['a', 'b'], ['c']], [['b'], ['c'], ['c']], [['b', 'c'], ['c']], [['c'], ['b'], ['c']], [['c'], ['b', 'c']], [['c'], ['c'], ['b']], [['c'], ['c'], ['c']]]\n",
      "Result, lvl 4: [([['a'], ['c'], ['b'], ['c']], 0.5), ([['a', 'b'], ['c'], ['c']], 0.5)]\n",
      "Candidates generated, lvl 4: [[['a'], ['b'], ['c'], ['c']], [['a'], ['c'], ['b'], ['c']], [['a', 'b'], ['c'], ['c']], [['c'], ['b'], ['c'], ['c']]]\n",
      "Candidates pruned, lvl 4: [[['a'], ['b'], ['c'], ['c']], [['a'], ['c'], ['b'], ['c']], [['a', 'b'], ['c'], ['c']]]\n",
      "Result, lvl 5: []\n",
      "Candidates generated, lvl 5: []\n",
      "Candidates pruned, lvl 5: []\n"
     ]
    },
    {
     "data": {
      "text/plain": [
       "[([['a']], 1.0),\n",
       " ([['b']], 1.0),\n",
       " ([['c']], 1.0),\n",
       " ([['a'], ['b']], 1.0),\n",
       " ([['a'], ['c']], 1.0),\n",
       " ([['c'], ['c']], 1.0),\n",
       " ([['a'], ['c'], ['c']], 1.0),\n",
       " ([['b'], ['c']], 0.75),\n",
       " ([['c'], ['b']], 0.75),\n",
       " ([['a'], ['b'], ['c']], 0.75),\n",
       " ([['a'], ['c'], ['b']], 0.75),\n",
       " ([['a', 'b']], 0.5),\n",
       " ([['b', 'c']], 0.5),\n",
       " ([['a'], ['b', 'c']], 0.5),\n",
       " ([['a', 'b'], ['c']], 0.5),\n",
       " ([['b'], ['c'], ['c']], 0.5),\n",
       " ([['c'], ['b'], ['c']], 0.5),\n",
       " ([['a'], ['c'], ['b'], ['c']], 0.5),\n",
       " ([['a', 'b'], ['c'], ['c']], 0.5)]"
      ]
     },
     "execution_count": 172,
     "metadata": {},
     "output_type": "execute_result"
    }
   ],
   "source": [
    "gsp(dataset, min_sup=0.5, verbose=2)"
   ]
  },
  {
   "cell_type": "markdown",
   "metadata": {},
   "source": [
    "## Loading the new Customer Supermarket dataset"
   ]
  },
  {
   "cell_type": "code",
   "execution_count": 219,
   "metadata": {},
   "outputs": [
    {
     "data": {
      "text/html": [
       "<div>\n",
       "<style scoped>\n",
       "    .dataframe tbody tr th:only-of-type {\n",
       "        vertical-align: middle;\n",
       "    }\n",
       "\n",
       "    .dataframe tbody tr th {\n",
       "        vertical-align: top;\n",
       "    }\n",
       "\n",
       "    .dataframe thead th {\n",
       "        text-align: right;\n",
       "    }\n",
       "</style>\n",
       "<table border=\"1\" class=\"dataframe\">\n",
       "  <thead>\n",
       "    <tr style=\"text-align: right;\">\n",
       "      <th></th>\n",
       "      <th>BasketID</th>\n",
       "      <th>BasketDate</th>\n",
       "      <th>Sale</th>\n",
       "      <th>CustomerID</th>\n",
       "      <th>ProdID</th>\n",
       "      <th>ProdDescr</th>\n",
       "      <th>Qta</th>\n",
       "      <th>TotSale</th>\n",
       "    </tr>\n",
       "  </thead>\n",
       "  <tbody>\n",
       "    <tr>\n",
       "      <th>0</th>\n",
       "      <td>539993</td>\n",
       "      <td>2011-04-01 10:00:00</td>\n",
       "      <td>1.95</td>\n",
       "      <td>13313.0</td>\n",
       "      <td>22386</td>\n",
       "      <td>JUMBO BAG PINK POLKADOT</td>\n",
       "      <td>10</td>\n",
       "      <td>19.50</td>\n",
       "    </tr>\n",
       "    <tr>\n",
       "      <th>1</th>\n",
       "      <td>539993</td>\n",
       "      <td>2011-04-01 10:00:00</td>\n",
       "      <td>0.42</td>\n",
       "      <td>13313.0</td>\n",
       "      <td>21499</td>\n",
       "      <td>BLUE POLKADOT WRAP</td>\n",
       "      <td>25</td>\n",
       "      <td>10.50</td>\n",
       "    </tr>\n",
       "    <tr>\n",
       "      <th>2</th>\n",
       "      <td>539993</td>\n",
       "      <td>2011-04-01 10:00:00</td>\n",
       "      <td>0.42</td>\n",
       "      <td>13313.0</td>\n",
       "      <td>21498</td>\n",
       "      <td>RED RETROSPOT WRAP</td>\n",
       "      <td>25</td>\n",
       "      <td>10.50</td>\n",
       "    </tr>\n",
       "    <tr>\n",
       "      <th>3</th>\n",
       "      <td>539993</td>\n",
       "      <td>2011-04-01 10:00:00</td>\n",
       "      <td>2.10</td>\n",
       "      <td>13313.0</td>\n",
       "      <td>22379</td>\n",
       "      <td>RECYCLING BAG RETROSPOT</td>\n",
       "      <td>5</td>\n",
       "      <td>10.50</td>\n",
       "    </tr>\n",
       "    <tr>\n",
       "      <th>4</th>\n",
       "      <td>539993</td>\n",
       "      <td>2011-04-01 10:00:00</td>\n",
       "      <td>1.25</td>\n",
       "      <td>13313.0</td>\n",
       "      <td>20718</td>\n",
       "      <td>RED RETROSPOT SHOPPER BAG</td>\n",
       "      <td>10</td>\n",
       "      <td>12.50</td>\n",
       "    </tr>\n",
       "    <tr>\n",
       "      <th>...</th>\n",
       "      <td>...</td>\n",
       "      <td>...</td>\n",
       "      <td>...</td>\n",
       "      <td>...</td>\n",
       "      <td>...</td>\n",
       "      <td>...</td>\n",
       "      <td>...</td>\n",
       "      <td>...</td>\n",
       "    </tr>\n",
       "    <tr>\n",
       "      <th>363572</th>\n",
       "      <td>581587</td>\n",
       "      <td>2011-09-12 12:50:00</td>\n",
       "      <td>0.85</td>\n",
       "      <td>12680.0</td>\n",
       "      <td>22613</td>\n",
       "      <td>PACK OF SPACEBOY NAPKINS</td>\n",
       "      <td>12</td>\n",
       "      <td>10.20</td>\n",
       "    </tr>\n",
       "    <tr>\n",
       "      <th>363573</th>\n",
       "      <td>581587</td>\n",
       "      <td>2011-09-12 12:50:00</td>\n",
       "      <td>2.10</td>\n",
       "      <td>12680.0</td>\n",
       "      <td>22899</td>\n",
       "      <td>CHILDRENS APRON DOLLY GIRL</td>\n",
       "      <td>6</td>\n",
       "      <td>12.60</td>\n",
       "    </tr>\n",
       "    <tr>\n",
       "      <th>363574</th>\n",
       "      <td>581587</td>\n",
       "      <td>2011-09-12 12:50:00</td>\n",
       "      <td>4.15</td>\n",
       "      <td>12680.0</td>\n",
       "      <td>23254</td>\n",
       "      <td>CHILDRENS CUTLERY DOLLY GIRL</td>\n",
       "      <td>4</td>\n",
       "      <td>16.60</td>\n",
       "    </tr>\n",
       "    <tr>\n",
       "      <th>363575</th>\n",
       "      <td>581587</td>\n",
       "      <td>2011-09-12 12:50:00</td>\n",
       "      <td>4.15</td>\n",
       "      <td>12680.0</td>\n",
       "      <td>23255</td>\n",
       "      <td>CHILDRENS CUTLERY CIRCUS PARADE</td>\n",
       "      <td>4</td>\n",
       "      <td>16.60</td>\n",
       "    </tr>\n",
       "    <tr>\n",
       "      <th>363576</th>\n",
       "      <td>581587</td>\n",
       "      <td>2011-09-12 12:50:00</td>\n",
       "      <td>4.95</td>\n",
       "      <td>12680.0</td>\n",
       "      <td>22138</td>\n",
       "      <td>BAKING SET PIECE RETROSPOT</td>\n",
       "      <td>3</td>\n",
       "      <td>14.85</td>\n",
       "    </tr>\n",
       "  </tbody>\n",
       "</table>\n",
       "<p>363577 rows × 8 columns</p>\n",
       "</div>"
      ],
      "text/plain": [
       "        BasketID           BasketDate  Sale  CustomerID ProdID  \\\n",
       "0         539993  2011-04-01 10:00:00  1.95     13313.0  22386   \n",
       "1         539993  2011-04-01 10:00:00  0.42     13313.0  21499   \n",
       "2         539993  2011-04-01 10:00:00  0.42     13313.0  21498   \n",
       "3         539993  2011-04-01 10:00:00  2.10     13313.0  22379   \n",
       "4         539993  2011-04-01 10:00:00  1.25     13313.0  20718   \n",
       "...          ...                  ...   ...         ...    ...   \n",
       "363572    581587  2011-09-12 12:50:00  0.85     12680.0  22613   \n",
       "363573    581587  2011-09-12 12:50:00  2.10     12680.0  22899   \n",
       "363574    581587  2011-09-12 12:50:00  4.15     12680.0  23254   \n",
       "363575    581587  2011-09-12 12:50:00  4.15     12680.0  23255   \n",
       "363576    581587  2011-09-12 12:50:00  4.95     12680.0  22138   \n",
       "\n",
       "                              ProdDescr  Qta  TotSale  \n",
       "0               JUMBO BAG PINK POLKADOT   10    19.50  \n",
       "1                    BLUE POLKADOT WRAP   25    10.50  \n",
       "2                    RED RETROSPOT WRAP   25    10.50  \n",
       "3               RECYCLING BAG RETROSPOT    5    10.50  \n",
       "4             RED RETROSPOT SHOPPER BAG   10    12.50  \n",
       "...                                 ...  ...      ...  \n",
       "363572         PACK OF SPACEBOY NAPKINS   12    10.20  \n",
       "363573       CHILDRENS APRON DOLLY GIRL    6    12.60  \n",
       "363574     CHILDRENS CUTLERY DOLLY GIRL    4    16.60  \n",
       "363575  CHILDRENS CUTLERY CIRCUS PARADE    4    16.60  \n",
       "363576       BAKING SET PIECE RETROSPOT    3    14.85  \n",
       "\n",
       "[363577 rows x 8 columns]"
      ]
     },
     "execution_count": 219,
     "metadata": {},
     "output_type": "execute_result"
    }
   ],
   "source": [
    "df = pd.read_csv('../dataset/new_customer_supermarket.csv', sep='\\t', index_col=0)\n",
    "df"
   ]
  },
  {
   "cell_type": "code",
   "execution_count": 220,
   "metadata": {},
   "outputs": [
    {
     "data": {
      "text/plain": [
       "BasketID        int64\n",
       "BasketDate     object\n",
       "Sale          float64\n",
       "CustomerID    float64\n",
       "ProdID         object\n",
       "ProdDescr      object\n",
       "Qta             int64\n",
       "TotSale       float64\n",
       "dtype: object"
      ]
     },
     "execution_count": 220,
     "metadata": {},
     "output_type": "execute_result"
    }
   ],
   "source": [
    "df.dtypes"
   ]
  },
  {
   "cell_type": "code",
   "execution_count": 221,
   "metadata": {},
   "outputs": [],
   "source": [
    "df = df.astype({'BasketDate': 'datetime64',\n",
    "                'BasketID': 'object',\n",
    "                'CustomerID': 'object'})"
   ]
  },
  {
   "cell_type": "markdown",
   "metadata": {},
   "source": [
    "## Data Modeling"
   ]
  },
  {
   "cell_type": "raw",
   "metadata": {},
   "source": [
    "dataset = [\n",
    "    # customer: sequence of baskets\n",
    "    {1 : ['item_x', 'item_y', 'item_z', etc.],  # basket {day of the year : list of products}\n",
    "     2 : ['item_p', 'item_q', 'item_r', etc.], \n",
    "     3 : [etc.]}, \n",
    "    etc.\n",
    "]"
   ]
  },
  {
   "cell_type": "code",
   "execution_count": 222,
   "metadata": {},
   "outputs": [
    {
     "data": {
      "text/html": [
       "<div>\n",
       "<style scoped>\n",
       "    .dataframe tbody tr th:only-of-type {\n",
       "        vertical-align: middle;\n",
       "    }\n",
       "\n",
       "    .dataframe tbody tr th {\n",
       "        vertical-align: top;\n",
       "    }\n",
       "\n",
       "    .dataframe thead th {\n",
       "        text-align: right;\n",
       "    }\n",
       "</style>\n",
       "<table border=\"1\" class=\"dataframe\">\n",
       "  <thead>\n",
       "    <tr style=\"text-align: right;\">\n",
       "      <th></th>\n",
       "      <th>BasketID</th>\n",
       "      <th>BasketDate</th>\n",
       "      <th>Sale</th>\n",
       "      <th>CustomerID</th>\n",
       "      <th>ProdID</th>\n",
       "      <th>ProdDescr</th>\n",
       "      <th>Qta</th>\n",
       "      <th>TotSale</th>\n",
       "      <th>BasketDayOfYear</th>\n",
       "    </tr>\n",
       "  </thead>\n",
       "  <tbody>\n",
       "    <tr>\n",
       "      <th>20767</th>\n",
       "      <td>542776</td>\n",
       "      <td>2011-01-02 08:23:00</td>\n",
       "      <td>0.30</td>\n",
       "      <td>15240</td>\n",
       "      <td>17021</td>\n",
       "      <td>NAMASTE SWAGAT INCENSE</td>\n",
       "      <td>36</td>\n",
       "      <td>10.80</td>\n",
       "      <td>2</td>\n",
       "    </tr>\n",
       "    <tr>\n",
       "      <th>20769</th>\n",
       "      <td>542776</td>\n",
       "      <td>2011-01-02 08:23:00</td>\n",
       "      <td>4.95</td>\n",
       "      <td>15240</td>\n",
       "      <td>21485</td>\n",
       "      <td>RETROSPOT HEART HOT WATER BOTTLE</td>\n",
       "      <td>3</td>\n",
       "      <td>14.85</td>\n",
       "      <td>2</td>\n",
       "    </tr>\n",
       "    <tr>\n",
       "      <th>20768</th>\n",
       "      <td>542776</td>\n",
       "      <td>2011-01-02 08:23:00</td>\n",
       "      <td>3.75</td>\n",
       "      <td>15240</td>\n",
       "      <td>21218</td>\n",
       "      <td>RED SPOTTY BISCUIT TIN</td>\n",
       "      <td>5</td>\n",
       "      <td>18.75</td>\n",
       "      <td>2</td>\n",
       "    </tr>\n",
       "    <tr>\n",
       "      <th>20766</th>\n",
       "      <td>542776</td>\n",
       "      <td>2011-01-02 08:23:00</td>\n",
       "      <td>2.95</td>\n",
       "      <td>15240</td>\n",
       "      <td>22083</td>\n",
       "      <td>PAPER CHAIN KIT RETROSPOT</td>\n",
       "      <td>12</td>\n",
       "      <td>35.40</td>\n",
       "      <td>2</td>\n",
       "    </tr>\n",
       "    <tr>\n",
       "      <th>20765</th>\n",
       "      <td>542776</td>\n",
       "      <td>2011-01-02 08:23:00</td>\n",
       "      <td>4.65</td>\n",
       "      <td>15240</td>\n",
       "      <td>22835</td>\n",
       "      <td>HOT WATER BOTTLE I AM SO POORLY</td>\n",
       "      <td>4</td>\n",
       "      <td>18.60</td>\n",
       "      <td>2</td>\n",
       "    </tr>\n",
       "    <tr>\n",
       "      <th>...</th>\n",
       "      <td>...</td>\n",
       "      <td>...</td>\n",
       "      <td>...</td>\n",
       "      <td>...</td>\n",
       "      <td>...</td>\n",
       "      <td>...</td>\n",
       "      <td>...</td>\n",
       "      <td>...</td>\n",
       "      <td>...</td>\n",
       "    </tr>\n",
       "    <tr>\n",
       "      <th>254281</th>\n",
       "      <td>570876</td>\n",
       "      <td>2011-12-10 17:19:00</td>\n",
       "      <td>3.75</td>\n",
       "      <td>16085</td>\n",
       "      <td>23394</td>\n",
       "      <td>POSTE FRANCE CUSHION COVER</td>\n",
       "      <td>1</td>\n",
       "      <td>3.75</td>\n",
       "      <td>344</td>\n",
       "    </tr>\n",
       "    <tr>\n",
       "      <th>254280</th>\n",
       "      <td>570876</td>\n",
       "      <td>2011-12-10 17:19:00</td>\n",
       "      <td>1.55</td>\n",
       "      <td>16085</td>\n",
       "      <td>46000M</td>\n",
       "      <td>POLYESTER FILLER PAD</td>\n",
       "      <td>1</td>\n",
       "      <td>1.55</td>\n",
       "      <td>344</td>\n",
       "    </tr>\n",
       "    <tr>\n",
       "      <th>254279</th>\n",
       "      <td>570876</td>\n",
       "      <td>2011-12-10 17:19:00</td>\n",
       "      <td>1.45</td>\n",
       "      <td>16085</td>\n",
       "      <td>46000S</td>\n",
       "      <td>POLYESTER FILLER PAD</td>\n",
       "      <td>1</td>\n",
       "      <td>1.45</td>\n",
       "      <td>344</td>\n",
       "    </tr>\n",
       "    <tr>\n",
       "      <th>254291</th>\n",
       "      <td>570876</td>\n",
       "      <td>2011-12-10 17:19:00</td>\n",
       "      <td>1.65</td>\n",
       "      <td>16085</td>\n",
       "      <td>22469</td>\n",
       "      <td>HEART OF WICKER SMALL</td>\n",
       "      <td>3</td>\n",
       "      <td>4.95</td>\n",
       "      <td>344</td>\n",
       "    </tr>\n",
       "    <tr>\n",
       "      <th>254282</th>\n",
       "      <td>570876</td>\n",
       "      <td>2011-12-10 17:19:00</td>\n",
       "      <td>3.75</td>\n",
       "      <td>16085</td>\n",
       "      <td>23396</td>\n",
       "      <td>LE JARDIN BOTANIQUE CUSHION COVER</td>\n",
       "      <td>1</td>\n",
       "      <td>3.75</td>\n",
       "      <td>344</td>\n",
       "    </tr>\n",
       "  </tbody>\n",
       "</table>\n",
       "<p>363577 rows × 9 columns</p>\n",
       "</div>"
      ],
      "text/plain": [
       "       BasketID          BasketDate  Sale CustomerID  ProdID  \\\n",
       "20767    542776 2011-01-02 08:23:00  0.30      15240   17021   \n",
       "20769    542776 2011-01-02 08:23:00  4.95      15240   21485   \n",
       "20768    542776 2011-01-02 08:23:00  3.75      15240   21218   \n",
       "20766    542776 2011-01-02 08:23:00  2.95      15240   22083   \n",
       "20765    542776 2011-01-02 08:23:00  4.65      15240   22835   \n",
       "...         ...                 ...   ...        ...     ...   \n",
       "254281   570876 2011-12-10 17:19:00  3.75      16085   23394   \n",
       "254280   570876 2011-12-10 17:19:00  1.55      16085  46000M   \n",
       "254279   570876 2011-12-10 17:19:00  1.45      16085  46000S   \n",
       "254291   570876 2011-12-10 17:19:00  1.65      16085   22469   \n",
       "254282   570876 2011-12-10 17:19:00  3.75      16085   23396   \n",
       "\n",
       "                                ProdDescr  Qta  TotSale  BasketDayOfYear  \n",
       "20767              NAMASTE SWAGAT INCENSE   36    10.80                2  \n",
       "20769    RETROSPOT HEART HOT WATER BOTTLE    3    14.85                2  \n",
       "20768              RED SPOTTY BISCUIT TIN    5    18.75                2  \n",
       "20766           PAPER CHAIN KIT RETROSPOT   12    35.40                2  \n",
       "20765     HOT WATER BOTTLE I AM SO POORLY    4    18.60                2  \n",
       "...                                   ...  ...      ...              ...  \n",
       "254281         POSTE FRANCE CUSHION COVER    1     3.75              344  \n",
       "254280               POLYESTER FILLER PAD    1     1.55              344  \n",
       "254279               POLYESTER FILLER PAD    1     1.45              344  \n",
       "254291              HEART OF WICKER SMALL    3     4.95              344  \n",
       "254282  LE JARDIN BOTANIQUE CUSHION COVER    1     3.75              344  \n",
       "\n",
       "[363577 rows x 9 columns]"
      ]
     },
     "execution_count": 222,
     "metadata": {},
     "output_type": "execute_result"
    }
   ],
   "source": [
    "df.sort_values('BasketDate', inplace=True)\n",
    "df['BasketDayOfYear'] = df['BasketDate'].dt.dayofyear\n",
    "df"
   ]
  },
  {
   "cell_type": "code",
   "execution_count": 223,
   "metadata": {},
   "outputs": [],
   "source": [
    "baskets_sequences = df[['CustomerID', 'BasketDayOfYear', 'ProdDescr']]\n",
    "baskets_sequences = baskets_sequences.loc[(baskets_sequences.CustomerID != baskets_sequences.CustomerID.shift()) | \n",
    "                                          (baskets_sequences.BasketDayOfYear != baskets_sequences.BasketDayOfYear.shift()) | \n",
    "                                          (baskets_sequences.ProdDescr != baskets_sequences.ProdDescr.shift())] # remove consecutive duplicate products from baskets\n",
    "baskets_sequences.to_csv('./rapidminer/customer_supermarket.csv', sep='\\t', index=False)"
   ]
  },
  {
   "cell_type": "code",
   "execution_count": 224,
   "metadata": {},
   "outputs": [
    {
     "data": {
      "text/plain": [
       "CustomerID\n",
       "12347.0    {26: ['PACK OF SPACEBOY CAKE CASES', 'TEA TIME...\n",
       "12348.0    {25: ['PACK OF SKULL TISSUES', 'MULTI HEARTS S...\n",
       "12349.0    {325: ['PANTRY CHOPPING BOARD', 'SMALL WHITE R...\n",
       "12350.0    {33: ['BLUE POLKADOT PASSPORT COVER', 'RED HAR...\n",
       "12352.0    {3: ['DELUXE SEWING KIT', 'PINK HEART SHAPE EG...\n",
       "                                 ...                        \n",
       "18280.0    {184: ['SET OF ROUND TINS CAMEMBERT', 'KINGS C...\n",
       "18281.0    {340: ['ROBOT BIRTHDAY CARD', 'CARD CIRCUS PAR...\n",
       "18282.0    {43: ['REGENCY SUGAR BOWL GREEN', 'CARD CHRIST...\n",
       "18283.0    {23: ['BLUE PIECE POLKADOT CUTLERY SET', 'TEA ...\n",
       "18287.0    {142: ['SET SPRING FLOWER DECORATION', 'CERAMI...\n",
       "Length: 4206, dtype: object"
      ]
     },
     "execution_count": 224,
     "metadata": {},
     "output_type": "execute_result"
    }
   ],
   "source": [
    "baskets_sequences = df.groupby('CustomerID').apply(lambda customer: customer.groupby('BasketDayOfYear')['ProdDescr'].apply(list).to_dict())\n",
    "baskets_sequences"
   ]
  },
  {
   "cell_type": "code",
   "execution_count": 225,
   "metadata": {},
   "outputs": [
    {
     "data": {
      "text/plain": [
       "[{26: ['PACK OF SPACEBOY CAKE CASES',\n",
       "   'TEA TIME OVEN GLOVE',\n",
       "   'RED RETROSPOT OVEN GLOVE',\n",
       "   'RED RETROSPOT OVEN GLOVE DOUBLE',\n",
       "   'SET RED RETROSPOT TEA TOWELS',\n",
       "   'REGENCY CAKESTAND TIER',\n",
       "   'TOOTHPASTE TUBE PEN',\n",
       "   'MINI LADLE LOVE HEART RED',\n",
       "   'CHOCOLATE CALCULATOR',\n",
       "   'SET OF TINS VINTAGE BATHROOM',\n",
       "   'RED TOADSTOOL LED NIGHT LIGHT',\n",
       "   'DOG PICTURE PLAYING CARDS',\n",
       "   'BOX OF ASSORTED COLOUR TEASPOONS',\n",
       "   'TEATIME FAIRY CAKE CASES',\n",
       "   'PACK OF MUSHROOM CAKE CASES',\n",
       "   'SMALL HEART MEASURING SPOONS',\n",
       "   'SWEETHEART FAIRY CAKE CASES',\n",
       "   'BLUE NEW BAROQUE CANDLESTICK CANDLE',\n",
       "   'BLACK CANDELABRA TLIGHT HOLDER',\n",
       "   'WOODLAND CHARLOTTE BAG',\n",
       "   'AIRLINE BAG VINTAGE JET SET BROWN',\n",
       "   'AIRLINE BAG VINTAGE JET SET WHITE',\n",
       "   'PINK NEW BAROQUECANDLESTICK CANDLE',\n",
       "   'ALARM CLOCK BAKELIKE CHOCOLATE',\n",
       "   'ALARM CLOCK BAKELIKE GREEN',\n",
       "   'ALARM CLOCK BAKELIKE RED',\n",
       "   'ALARM CLOCK BAKELIKE PINK',\n",
       "   'ALARM CLOCK BAKELIKE ORANGE',\n",
       "   'SANDWICH BATH SPONGE'],\n",
       "  39: ['SWEETHEART FAIRY CAKE CASES',\n",
       "   'RED REFECTORY CLOCK',\n",
       "   'VINTAGE HEADS AND TAILS CARD GAME',\n",
       "   'DOG PICTURE PLAYING CARDS',\n",
       "   'REGENCY MILK JUG PINK',\n",
       "   'REGENCY CAKESTAND TIER',\n",
       "   'PACK OF DINOSAUR CAKE CASES',\n",
       "   'TEATIME FAIRY CAKE CASES',\n",
       "   'TEA TIME OVEN GLOVE',\n",
       "   'REVOLVER WOODEN RULER',\n",
       "   'TRIPLE HOOK ANTIQUE IVORY ROSE',\n",
       "   'SET HEART SHAPE PETIT FOUR CASES',\n",
       "   'AIRLINE BAG VINTAGE JET SET BROWN',\n",
       "   'SINGLE ANTIQUE ROSE HOOK IVORY',\n",
       "   'SET OF VINTAGE LEAF CAKE CASES',\n",
       "   'AIRLINE BAG VINTAGE JET SET WHITE',\n",
       "   'AIRLINE BAG VINTAGE JET SET RED',\n",
       "   'AIRLINE BAG VINTAGE WORLD CHAMPION',\n",
       "   'WOODLAND DESIGN COTTON TOTE BAG',\n",
       "   'WOODLAND CHARLOTTE BAG',\n",
       "   'ALARM CLOCK BAKELIKE RED',\n",
       "   'AIRLINE BAG VINTAGE TOKYO'],\n",
       "  185: ['SET OF TINS VINTAGE BATHROOM',\n",
       "   'GIFT BAG PSYCHEDELIC APPLES',\n",
       "   'SMALL FOLDING SCISSORPOINTED EDGE',\n",
       "   'SHEET OF CAT STICKERS',\n",
       "   'SHEET OF DOG STICKERS',\n",
       "   'RED TOADSTOOL LED NIGHT LIGHT',\n",
       "   'ROSES REGENCY TEACUP AND SAUCER',\n",
       "   'REGENCY CAKESTAND TIER',\n",
       "   'RED RETROSPOT OVEN GLOVE DOUBLE',\n",
       "   'PACK OF DINOSAUR CAKE CASES',\n",
       "   'LARGE HEART MEASURING SPOONS',\n",
       "   'RED DRAWER KNOB ACRYLIC EDWARDIAN',\n",
       "   'WATERING CAN PINK BUNNY',\n",
       "   'TREASURE ISLAND BOOK BOX',\n",
       "   'HOLIDAY FUN LUDO',\n",
       "   'VINTAGE HEADS AND TAILS CARD GAME',\n",
       "   'RED RETROSPOT PURSE',\n",
       "   'AIRLINE BAG VINTAGE JET SET BROWN',\n",
       "   'AIRLINE BAG VINTAGE TOKYO',\n",
       "   'AIRLINE BAG VINTAGE JET SET RED',\n",
       "   'AIRLINE BAG VINTAGE JET SET WHITE',\n",
       "   'SMALL HEART MEASURING SPOONS',\n",
       "   'ICE CREAM SUNDAE LIP GLOSS',\n",
       "   'MINI PAINT SET VINTAGE'],\n",
       "  193: ['PINK GOOSE FEATHER TREE',\n",
       "   'MINI PLAYING CARDS DOLLY GIRL',\n",
       "   'MINI PLAYING CARDS SPACEBOY',\n",
       "   'CHRISTMAS TABLE SILVER CANDLE SPIKE',\n",
       "   'WOODLAND CHARLOTTE BAG',\n",
       "   'CLASSIC CHROME BICYCLE BELL',\n",
       "   'RED TOADSTOOL LED NIGHT LIGHT',\n",
       "   'PINK NEW BAROQUECANDLESTICK CANDLE',\n",
       "   'BOOM BOX SPEAKER BOYS',\n",
       "   'BICYCLE PUNCTURE REPAIR KIT',\n",
       "   'RABBIT NIGHT LIGHT'],\n",
       "  249: ['ALARM CLOCK BAKELIKE RED',\n",
       "   'FEATHER PENCOAL BLACK',\n",
       "   'DOG PICTURE PLAYING CARDS',\n",
       "   'SMALL HEART MEASURING SPOONS',\n",
       "   'TRIPLE HOOK ANTIQUE IVORY ROSE',\n",
       "   'ALARM CLOCK BAKELIKE CHOCOLATE',\n",
       "   'NAMASTE SWAGAT INCENSE',\n",
       "   'VICTORIAN SEWING KIT',\n",
       "   'AIRLINE BAG VINTAGE JET SET BROWN',\n",
       "   'REGENCY TEA PLATE ROSES',\n",
       "   'REGENCY MILK JUG PINK',\n",
       "   'REGENCY SUGAR BOWL GREEN',\n",
       "   'REGENCY TEAPOT ROSES',\n",
       "   'REGENCY TEA PLATE PINK',\n",
       "   'REGENCY TEA PLATE GREEN',\n",
       "   'REGENCY TEA STRAINER',\n",
       "   'RABBIT NIGHT LIGHT',\n",
       "   'AIRLINE BAG VINTAGE TOKYO'],\n",
       "  304: ['ALARM CLOCK BAKELIKE GREEN',\n",
       "   'ALARM CLOCK BAKELIKE RED',\n",
       "   'PACK OF MUSHROOM CAKE CASES',\n",
       "   'PACK OF SPACEBOY CAKE CASES',\n",
       "   'SET OF VINTAGE LEAF CAKE CASES',\n",
       "   'LARGE HEART MEASURING SPOONS',\n",
       "   'SWEETHEART FAIRY CAKE CASES',\n",
       "   'SMALL HEART MEASURING SPOONS',\n",
       "   'WOODLAND CHARLOTTE BAG',\n",
       "   'FOOD CONTAINER SET LOVE HEART',\n",
       "   'ALARM CLOCK BAKELIKE PINK',\n",
       "   'TEATIME FAIRY CAKE CASES',\n",
       "   'ALARM CLOCK BAKELIKE CHOCOLATE',\n",
       "   'REGENCY TEA STRAINER',\n",
       "   'PANTRY HOOK TEA STRAINER',\n",
       "   'DOG PICTURE PLAYING CARDS',\n",
       "   'GREEN REGENCY TEACUP AND SAUCER',\n",
       "   'PINK REGENCY TEACUP AND SAUCER',\n",
       "   'TEA TIME OVEN GLOVE',\n",
       "   'TEA TIME KITCHEN APRON',\n",
       "   'TEA TIME DES TEA COSY',\n",
       "   'REGENCY TEAPOT ROSES',\n",
       "   'REGENCY CAKESTAND TIER',\n",
       "   'CHRISTMAS METAL TAGS ASSORTED',\n",
       "   'BIRDCAGE DECORATION TEALIGHT HOLDER',\n",
       "   'AIRLINE BAG VINTAGE JET SET RED',\n",
       "   'AIRLINE BAG VINTAGE TOKYO',\n",
       "   'AIRLINE BAG VINTAGE JET SET BROWN',\n",
       "   'AIRLINE BAG VINTAGE WORLD CHAMPION',\n",
       "   'MADRAS NOTEBOOK MEDIUM',\n",
       "   'PINK GOOSE FEATHER TREE',\n",
       "   'MINI LIGHTS WOODLAND MUSHROOMS',\n",
       "   'RED TOADSTOOL LED NIGHT LIGHT',\n",
       "   'ROSES REGENCY TEACUP AND SAUCER',\n",
       "   'RABBIT NIGHT LIGHT',\n",
       "   'MINI PLAYING CARDS DOLLY GIRL',\n",
       "   'WOODEN SCHOOL COLOURING SET',\n",
       "   'MINI PLAYING CARDS SPACEBOY',\n",
       "   'MINI PAINT SET VINTAGE',\n",
       "   'TRADITIONAL KNITTING NANCY',\n",
       "   'TRIPLE HOOK ANTIQUE IVORY ROSE',\n",
       "   'PANTRY HOOK SPATULA',\n",
       "   'PANTRY HOOK BALLOON WHISK',\n",
       "   'REVOLVER WOODEN RULER',\n",
       "   'PLAYING CARDS KEEP CALM CARRY ON',\n",
       "   'TREASURE ISLAND BOOK BOX',\n",
       "   'VINTAGE HEADS AND TAILS CARD GAME']}]"
      ]
     },
     "execution_count": 225,
     "metadata": {},
     "output_type": "execute_result"
    }
   ],
   "source": [
    "baskets_sequences = baskets_sequences.tolist()\n",
    "baskets_sequences[:1]"
   ]
  },
  {
   "cell_type": "markdown",
   "metadata": {},
   "source": [
    "Assuming no timing constraints:"
   ]
  },
  {
   "cell_type": "code",
   "execution_count": 180,
   "metadata": {},
   "outputs": [
    {
     "data": {
      "text/plain": [
       "[([['WHITE HANGING HEART TLIGHT HOLDER'],\n",
       "   ['WHITE HANGING HEART TLIGHT HOLDER']],\n",
       "  0.08701854493580599),\n",
       " ([['GREEN REGENCY TEACUP AND SAUCER', 'ROSES REGENCY TEACUP AND SAUCER']],\n",
       "  0.07227769852591535),\n",
       " ([['JUMBO BAG RED RETROSPOT'], ['JUMBO BAG RED RETROSPOT']],\n",
       "  0.07156443176414645),\n",
       " ([['REGENCY CAKESTAND TIER'], ['REGENCY CAKESTAND TIER']],\n",
       "  0.07013789824060865),\n",
       " ([['GREEN REGENCY TEACUP AND SAUCER', 'PINK REGENCY TEACUP AND SAUCER']],\n",
       "  0.06704707560627675),\n",
       " ([['PAPER CHAIN KIT CHRISTMAS', 'PAPER CHAIN KIT VINTAGE CHRISTMAS']],\n",
       "  0.06657156443176415),\n",
       " ([['ASSORTED COLOUR BIRD ORNAMENT'], ['ASSORTED COLOUR BIRD ORNAMENT']],\n",
       "  0.06514503090822635),\n",
       " ([['PARTY BUNTING'], ['PARTY BUNTING']], 0.06466951973371374),\n",
       " ([['LUNCH BAG RED RETROSPOT'], ['LUNCH BAG RED RETROSPOT']],\n",
       "  0.06324298621017593),\n",
       " ([['PINK REGENCY TEACUP AND SAUCER', 'ROSES REGENCY TEACUP AND SAUCER']],\n",
       "  0.060865430337612936),\n",
       " ([['GARDENERS KNEELING PAD CUP OF TEA', 'GARDENERS KNEELING PAD KEEP CALM']],\n",
       "  0.06038991916310033),\n",
       " ([['RED HANGING HEART TLIGHT HOLDER', 'WHITE HANGING HEART TLIGHT HOLDER']],\n",
       "  0.06038991916310033),\n",
       " ([['REGENCY CAKESTAND TIER', 'ROSES REGENCY TEACUP AND SAUCER']],\n",
       "  0.06038991916310033),\n",
       " ([['LUNCH BAG PINK POLKADOT', 'LUNCH BAG RED RETROSPOT']],\n",
       "  0.05896338563956253),\n",
       " ([['HEART OF WICKER LARGE', 'HEART OF WICKER SMALL']], 0.05872563005230623),\n",
       " ([['LUNCH BAG CARS BLUE', 'LUNCH BAG RED RETROSPOT']], 0.058250118877793626),\n",
       " ([['PARTY BUNTING', 'SPOTTY BUNTING']], 0.058250118877793626),\n",
       " ([['JUMBO BAG PINK POLKADOT', 'JUMBO BAG RED RETROSPOT']],\n",
       "  0.05801236329053733),\n",
       " ([['LUNCH BAG BLACK SKULL', 'LUNCH BAG RED RETROSPOT']],\n",
       "  0.057536852116024724),\n",
       " ([['WOODEN HEART CHRISTMAS SCANDINAVIAN',\n",
       "    'WOODEN STAR CHRISTMAS SCANDINAVIAN']],\n",
       "  0.05706134094151213),\n",
       " ([['LUNCH BAG RED RETROSPOT', 'LUNCH BAG SUKI DESIGN']], 0.05682358535425582),\n",
       " ([['LUNCH BAG CARS BLUE', 'LUNCH BAG SUKI DESIGN']], 0.056585829766999524),\n",
       " ([['GREEN REGENCY TEACUP AND SAUCER', 'REGENCY CAKESTAND TIER']],\n",
       "  0.05611031859248693),\n",
       " ([['LUNCH BAG CARS BLUE', 'LUNCH BAG PINK POLKADOT']], 0.05611031859248693),\n",
       " ([['LUNCH BAG RED RETROSPOT', 'LUNCH BAG SPACEBOY DESIGN']],\n",
       "  0.05563480741797432),\n",
       " ([['WOODEN FRAME ANTIQUE WHITE', 'WOODEN PICTURE FRAME WHITE FINISH']],\n",
       "  0.05563480741797432),\n",
       " ([['ALARM CLOCK BAKELIKE GREEN', 'ALARM CLOCK BAKELIKE RED']],\n",
       "  0.05492154065620542),\n",
       " ([['BAKING SET PIECE RETROSPOT', 'BAKING SET SPACEBOY DESIGN']],\n",
       "  0.05492154065620542),\n",
       " ([['LUNCH BAG BLACK SKULL', 'LUNCH BAG PINK POLKADOT']], 0.05420827389443652),\n",
       " ([['LUNCH BAG SPACEBOY DESIGN', 'LUNCH BAG SUKI DESIGN']],\n",
       "  0.05420827389443652),\n",
       " ([['PACK OF PINK PAISLEY CAKE CASES', 'PACK OF RETROSPOT CAKE CASES']],\n",
       "  0.05325725154541132),\n",
       " ([['LUNCH BAG BLACK SKULL'], ['LUNCH BAG BLACK SKULL']], 0.05230622919638612),\n",
       " ([['LUNCH BAG CARS BLUE', 'LUNCH BAG SPACEBOY DESIGN']],\n",
       "  0.051592962434617216),\n",
       " ([['LUNCH BAG SUKI DESIGN'], ['LUNCH BAG SUKI DESIGN']],\n",
       "  0.051592962434617216),\n",
       " ([['LUNCH BAG BLACK SKULL', 'LUNCH BAG SUKI DESIGN']], 0.05135520684736091),\n",
       " ([['LUNCH BAG SPACEBOY DESIGN', 'LUNCH BAG WOODLAND']], 0.05135520684736091),\n",
       " ([['SET OF CAKE TINS PANTRY DESIGN'], ['SET OF CAKE TINS PANTRY DESIGN']],\n",
       "  0.05111745126010461),\n",
       " ([['SET OF CAKE TINS PANTRY DESIGN', 'SET OF SPICE TINS PANTRY DESIGN']],\n",
       "  0.050879695672848314),\n",
       " ([['JUMBO BAG RED RETROSPOT', 'LUNCH BAG RED RETROSPOT']],\n",
       "  0.05064194008559201),\n",
       " ([['PACK OF RETROSPOT CAKE CASES', 'TEATIME FAIRY CAKE CASES']],\n",
       "  0.05040418449833571),\n",
       " ([['DOLLY GIRL LUNCH BOX', 'SPACEBOY LUNCH BOX']], 0.05016642891107941)]"
      ]
     },
     "execution_count": 180,
     "metadata": {},
     "output_type": "execute_result"
    }
   ],
   "source": [
    "result_set = gsp(baskets_sequences, min_sup=0.05, max_span=np.inf, min_gap=0, max_gap=np.inf, verbose=False)\n",
    "list(filter(lambda freq_pattern: sequence_length(freq_pattern[0]) >= 2, result_set))"
   ]
  },
  {
   "cell_type": "markdown",
   "metadata": {},
   "source": [
    "RapidMiner frequent patterns:"
   ]
  },
  {
   "cell_type": "raw",
   "metadata": {},
   "source": [
    "0.087: <WHITE HANGING HEART TLIGHT HOLDER> <WHITE HANGING HEART TLIGHT HOLDER>\n",
    "0.073: <ROSES REGENCY TEACUP AND SAUCER, GREEN REGENCY TEACUP AND SAUCER>\n",
    "0.073: <REGENCY CAKESTAND TIER, ROSES REGENCY TEACUP AND SAUCER>\n",
    "0.072: <JUMBO BAG RED RETROSPOT> <JUMBO BAG RED RETROSPOT>\n",
    "0.071: <PARTY BUNTING, SPOTTY BUNTING>\n",
    "0.071: <LUNCH BAG RED RETROSPOT, LUNCH BAG CARS BLUE>\n",
    "0.070: <REGENCY CAKESTAND TIER> <REGENCY CAKESTAND TIER>\n",
    "0.070: <REGENCY CAKESTAND TIER, SET OF REGENCY CAKE TINS>\n",
    "0.070: <GREEN REGENCY TEACUP AND SAUCER, PINK REGENCY TEACUP AND SAUCER>\n",
    "0.069: <LUNCH BAG SPACEBOY DESIGN, LUNCH BAG RED RETROSPOT>\n",
    "0.069: <LUNCH BAG RED RETROSPOT, LUNCH BAG BLACK SKULL>\n",
    "0.068: <WHITE HANGING HEART TLIGHT HOLDER, RED HANGING HEART TLIGHT HOLDER>\n",
    "0.068: <PAPER CHAIN KIT CHRISTMAS, PAPER CHAIN KIT VINTAGE CHRISTMAS>\n",
    "0.068: <LUNCH BAG RED RETROSPOT, LUNCH BAG PINK POLKADOT>\n",
    "0.067: <REGENCY CAKESTAND TIER, GREEN REGENCY TEACUP AND SAUCER>\n",
    "0.066: <LUNCH BAG SUKI DESIGN, LUNCH BAG CARS BLUE>\n",
    "0.066: <LUNCH BAG PINK POLKADOT, LUNCH BAG CARS BLUE>\n",
    "0.065: <PARTY BUNTING> <PARTY BUNTING>\n",
    "0.065: <LUNCH BAG SPACEBOY DESIGN, LUNCH BAG SUKI DESIGN>\n",
    "0.065: <LUNCH BAG SPACEBOY DESIGN, LUNCH BAG CARS BLUE>\n",
    "0.065: <LUNCH BAG RED RETROSPOT, LUNCH BAG SUKI DESIGN>\n",
    "0.065: <JUMBO BAG RED RETROSPOT, JUMBO BAG PINK POLKADOT>\n",
    "0.065: <ASSORTED COLOUR BIRD ORNAMENT> <ASSORTED COLOUR BIRD ORNAMENT>\n",
    "0.064: <WOODEN FRAME ANTIQUE WHITE, WOODEN PICTURE FRAME WHITE FINISH>\n",
    "0.064: <REGENCY CAKESTAND TIER, PARTY BUNTING>\n",
    "0.064: <LUNCH BAG BLACK SKULL, LUNCH BAG PINK POLKADOT>\n",
    "0.064: <HEART OF WICKER SMALL, HEART OF WICKER LARGE>\n",
    "0.063: <SET OF SPICE TINS PANTRY DESIGN, SET OF CAKE TINS PANTRY DESIGN>\n",
    "0.063: <ROSES REGENCY TEACUP AND SAUCER, PINK REGENCY TEACUP AND SAUCER>\n",
    "0.063: <LUNCH BAG RED RETROSPOT> <LUNCH BAG RED RETROSPOT>\n",
    "0.063: <JUMBO BAG RED RETROSPOT, LUNCH BAG RED RETROSPOT>\n",
    "0.063: <GARDENERS KNEELING PAD KEEP CALM, GARDENERS KNEELING PAD CUP OF TEA>\n",
    "0.062: <LUNCH BAG SUKI DESIGN, LUNCH BAG BLACK SKULL>\n",
    "0.061: <ROSES REGENCY TEACUP AND SAUCER, GREEN REGENCY TEACUP AND SAUCER, PINK REGENCY TEACUP AND SAUCER>\n",
    "0.061: <LUNCH BAG SPACEBOY DESIGN, LUNCH BAG BLACK SKULL>\n",
    "0.061: <LUNCH BAG BLACK SKULL, LUNCH BAG CARS BLUE>\n",
    "0.060: <SET OF CAKE TINS PANTRY DESIGN, RECIPE BOX PANTRY YELLOW DESIGN>\n",
    "0.060: <REGENCY CAKESTAND TIER, PINK REGENCY TEACUP AND SAUCER>\n",
    "0.060: <PACK OF RETROSPOT CAKE CASES, PACK OF PINK PAISLEY CAKE CASES>\n",
    "0.060: <LUNCH BAG SPACEBOY DESIGN, LUNCH BAG WOODLAND>\n",
    "0.060: <ALARM CLOCK BAKELIKE GREEN, ALARM CLOCK BAKELIKE RED>\n",
    "0.059: <WHITE HANGING HEART TLIGHT HOLDER, REGENCY CAKESTAND TIER>\n",
    "0.059: <PACK OF RETROSPOT CAKE CASES, TEATIME FAIRY CAKE CASES>\n",
    "0.059: <LUNCH BAG RED RETROSPOT, LUNCH BAG APPLE DESIGN>\n",
    "0.059: <JUMBO BAG RED RETROSPOT, JUMBO BAG APPLES>\n",
    "0.058: <WOODEN HEART CHRISTMAS SCANDINAVIAN, WOODEN STAR CHRISTMAS SCANDINAVIAN>\n",
    "0.058: <WHITE HANGING HEART TLIGHT HOLDER, PARTY BUNTING>\n",
    "0.058: <WHITE HANGING HEART TLIGHT HOLDER, HEART OF WICKER LARGE>\n",
    "0.058: <REGENCY CAKESTAND TIER, ROSES REGENCY TEACUP AND SAUCER, GREEN REGENCY TEACUP AND SAUCER>\n",
    "0.058: <LUNCH BAG SPACEBOY DESIGN, LUNCH BAG PINK POLKADOT>\n",
    "0.058: <LUNCH BAG RED RETROSPOT, LUNCH BAG WOODLAND>\n",
    "0.058: <JUMBO BAG RED RETROSPOT, JUMBO BAG ALPHABET>\n",
    "0.057: <REGENCY CAKESTAND TIER, SET OF CAKE TINS PANTRY DESIGN>\n",
    "0.057: <REGENCY CAKESTAND TIER, GREEN REGENCY TEACUP AND SAUCER, PINK REGENCY TEACUP AND SAUCER>\n",
    "0.057: <HEART OF WICKER SMALL, WHITE HANGING HEART TLIGHT HOLDER>\n",
    "0.057: <BAKING SET SPACEBOY DESIGN, BAKING SET PIECE RETROSPOT>\n",
    "0.056: <SET OF CAKE TINS PANTRY DESIGN, JAM MAKING SET WITH JARS>\n",
    "0.056: <LUNCH BAG SUKI DESIGN, LUNCH BAG PINK POLKADOT>\n",
    "0.056: <JUMBO BAG RED RETROSPOT, JUMBO BAG VINTAGE DOILY>\n",
    "0.056: <JUMBO BAG RED RETROSPOT, JUMBO BAG STRAWBERRY>\n",
    "0.055: <REGENCY CAKESTAND TIER, ASSORTED COLOUR BIRD ORNAMENT>\n",
    "0.055: <LUNCH BAG CARS BLUE, LUNCH BAG APPLE DESIGN>\n",
    "0.054: <WHITE HANGING HEART TLIGHT HOLDER, NATURAL SLATE HEART CHALKBOARD>\n",
    "0.054: <LUNCH BAG CARS BLUE, LUNCH BAG WOODLAND>\n",
    "0.054: <LUNCH BAG CARS BLUE, LUNCH BAG ALPHABET DESIGN>\n",
    "0.054: <JUMBO BAG RED RETROSPOT, LUNCH BAG PINK POLKADOT>\n",
    "0.054: <JAM MAKING SET PRINTED, JAM MAKING SET WITH JARS>\n",
    "0.053: <WHITE HANGING HEART TLIGHT HOLDER, ASSORTED COLOUR BIRD ORNAMENT>\n",
    "0.053: <SMALL WHITE HEART OF WICKER, LARGE WHITE HEART OF WICKER>\n",
    "0.053: <REGENCY CAKESTAND TIER, ROSES REGENCY TEACUP AND SAUCER, PINK REGENCY TEACUP AND SAUCER>\n",
    "0.053: <LUNCH BAG SUKI DESIGN, LUNCH BAG APPLE DESIGN>\n",
    "0.053: <LUNCH BAG SPACEBOY DESIGN, LUNCH BAG DOLLY GIRL DESIGN>\n",
    "0.053: <LUNCH BAG SPACEBOY DESIGN, LUNCH BAG APPLE DESIGN>\n",
    "0.053: <LUNCH BAG SPACEBOY DESIGN, LUNCH BAG ALPHABET DESIGN>\n",
    "0.053: <LUNCH BAG RED RETROSPOT, LUNCH BAG ALPHABET DESIGN>\n",
    "0.053: <LUNCH BAG ALPHABET DESIGN, LUNCH BAG APPLE DESIGN>\n",
    "0.053: <JUMBO BAG RED RETROSPOT, JUMBO BAG VINTAGE LEAF>\n",
    "0.052: <SET OF CAKE TINS PANTRY DESIGN, SET OF TEA COFFEE SUGAR TINS PANTRY>\n",
    "0.052: <SET OF CAKE TINS PANTRY DESIGN, SET OF REGENCY CAKE TINS>\n",
    "0.052: <LUNCH BAG SUKI DESIGN> <LUNCH BAG SUKI DESIGN>\n",
    "0.052: <LUNCH BAG BLACK SKULL> <LUNCH BAG BLACK SKULL>\n",
    "0.052: <LUNCH BAG BLACK SKULL, LUNCH BAG ALPHABET DESIGN>\n",
    "0.052: <JUMBO BAG RED RETROSPOT, JUMBO BAG CHRISTMAS>\n",
    "0.052: <JUMBO BAG RED RETROSPOT, JUMBO BAG BAROQUE BLACK WHITE>\n",
    "0.052: <ALARM CLOCK BAKELIKE RED, ALARM CLOCK BAKELIKE PINK>\n",
    "0.051: <SPACEBOY LUNCH BOX, DOLLY GIRL LUNCH BOX>\n",
    "0.051: <SET OF CAKE TINS PANTRY DESIGN> <SET OF CAKE TINS PANTRY DESIGN>\n",
    "0.051: <REGENCY CAKESTAND TIER, ROSES REGENCY TEACUP AND SAUCER, GREEN REGENCY TEACUP AND SAUCER, PINK REGENCY TEACUP AND SAUCER>\n",
    "0.051: <LUNCH BAG SUKI DESIGN, LUNCH BAG ALPHABET DESIGN>\n",
    "0.051: <LUNCH BAG SPACEBOY DESIGN, LUNCH BAG RED RETROSPOT, LUNCH BAG CARS BLUE>\n",
    "0.051: <LUNCH BAG RED RETROSPOT, LUNCH BAG SUKI DESIGN, LUNCH BAG CARS BLUE>\n",
    "0.051: <LUNCH BAG RED RETROSPOT, LUNCH BAG PINK POLKADOT, LUNCH BAG CARS BLUE>\n",
    "0.051: <LUNCH BAG RED RETROSPOT, LUNCH BAG BLACK SKULL, LUNCH BAG PINK POLKADOT>\n",
    "0.051: <LUNCH BAG BLACK SKULL, LUNCH BAG WOODLAND>\n",
    "0.051: <LUNCH BAG BLACK SKULL, LUNCH BAG APPLE DESIGN>\n",
    "0.051: <JUMBO BAG RED RETROSPOT, JUMBO STORAGE BAG SUKI>\n",
    "0.051: <JUMBO BAG RED RETROSPOT, JUMBO SHOPPER VINTAGE RED PAISLEY>\n",
    "0.051: <HEART OF WICKER SMALL, SMALL WHITE HEART OF WICKER>\n",
    "0.050: <RETROSPOT TEA SET CERAMIC PC, BAKING SET PIECE RETROSPOT>\n",
    "0.050: <LUNCH BAG PINK POLKADOT, LUNCH BAG APPLE DESIGN>"
   ]
  },
  {
   "cell_type": "markdown",
   "metadata": {},
   "source": [
    "Assuming timing constraints:"
   ]
  },
  {
   "cell_type": "code",
   "execution_count": null,
   "metadata": {},
   "outputs": [],
   "source": [
    "result_set = gsp(baskets_sequences, \n",
    "                 min_sup=0.05, \n",
    "                 max_span=30,  # the overall duration of the pattern instance must be at most of 1 month\n",
    "                 min_gap=1,  # each element of the pattern instance must be at least 1 day after the previous one\n",
    "                 max_gap=7,  # each element of the pattern instance must be at most 1 week after the previous one\n",
    "                 verbose=False)\n",
    "list(filter(lambda freq_pattern: sequence_length(freq_pattern[0]) >= 2, result_set))"
   ]
  }
 ],
 "metadata": {
  "kernelspec": {
   "display_name": "Python 3",
   "language": "python",
   "name": "python3"
  },
  "language_info": {
   "codemirror_mode": {
    "name": "ipython",
    "version": 3
   },
   "file_extension": ".py",
   "mimetype": "text/x-python",
   "name": "python",
   "nbconvert_exporter": "python",
   "pygments_lexer": "ipython3",
   "version": "3.8.6"
  }
 },
 "nbformat": 4,
 "nbformat_minor": 4
}
