{
 "cells": [
  {
   "cell_type": "markdown",
   "metadata": {},
   "source": [
    "# Task 3: Predictive Analysis"
   ]
  },
  {
   "cell_type": "code",
   "execution_count": 7,
   "metadata": {},
   "outputs": [],
   "source": [
    "import numpy as np\n",
    "import pandas as pd\n",
    "import matplotlib.pyplot as plt\n",
    "from sklearn.metrics import accuracy_score\n",
    "from sklearn.model_selection import train_test_split, GridSearchCV, learning_curve"
   ]
  },
  {
   "cell_type": "code",
   "execution_count": 8,
   "metadata": {},
   "outputs": [
    {
     "data": {
      "text/html": [
       "<div>\n",
       "<style scoped>\n",
       "    .dataframe tbody tr th:only-of-type {\n",
       "        vertical-align: middle;\n",
       "    }\n",
       "\n",
       "    .dataframe tbody tr th {\n",
       "        vertical-align: top;\n",
       "    }\n",
       "\n",
       "    .dataframe thead th {\n",
       "        text-align: right;\n",
       "    }\n",
       "</style>\n",
       "<table border=\"1\" class=\"dataframe\">\n",
       "  <thead>\n",
       "    <tr style=\"text-align: right;\">\n",
       "      <th></th>\n",
       "      <th>I</th>\n",
       "      <th>Iu</th>\n",
       "      <th>Imax</th>\n",
       "      <th>E</th>\n",
       "      <th>Savg</th>\n",
       "      <th>R</th>\n",
       "      <th>F</th>\n",
       "      <th>M</th>\n",
       "      <th>label</th>\n",
       "    </tr>\n",
       "    <tr>\n",
       "      <th>CustomerID</th>\n",
       "      <th></th>\n",
       "      <th></th>\n",
       "      <th></th>\n",
       "      <th></th>\n",
       "      <th></th>\n",
       "      <th></th>\n",
       "      <th></th>\n",
       "      <th></th>\n",
       "      <th></th>\n",
       "    </tr>\n",
       "  </thead>\n",
       "  <tbody>\n",
       "    <tr>\n",
       "      <th>12747.0</th>\n",
       "      <td>0.781294</td>\n",
       "      <td>0.179243</td>\n",
       "      <td>0.010851</td>\n",
       "      <td>0.640492</td>\n",
       "      <td>0.521052</td>\n",
       "      <td>-0.495949</td>\n",
       "      <td>0.647544</td>\n",
       "      <td>1.350495</td>\n",
       "      <td>medium</td>\n",
       "    </tr>\n",
       "    <tr>\n",
       "      <th>12748.0</th>\n",
       "      <td>2.973640</td>\n",
       "      <td>3.219346</td>\n",
       "      <td>2.040581</td>\n",
       "      <td>0.469773</td>\n",
       "      <td>-0.756206</td>\n",
       "      <td>-1.674081</td>\n",
       "      <td>3.484271</td>\n",
       "      <td>2.976379</td>\n",
       "      <td>medium</td>\n",
       "    </tr>\n",
       "    <tr>\n",
       "      <th>12749.0</th>\n",
       "      <td>1.001305</td>\n",
       "      <td>1.331669</td>\n",
       "      <td>1.313557</td>\n",
       "      <td>0.530165</td>\n",
       "      <td>1.478730</td>\n",
       "      <td>-0.495949</td>\n",
       "      <td>1.262206</td>\n",
       "      <td>1.434270</td>\n",
       "      <td>medium</td>\n",
       "    </tr>\n",
       "    <tr>\n",
       "      <th>12820.0</th>\n",
       "      <td>0.497275</td>\n",
       "      <td>0.461147</td>\n",
       "      <td>0.168180</td>\n",
       "      <td>0.194257</td>\n",
       "      <td>-0.169440</td>\n",
       "      <td>-0.040022</td>\n",
       "      <td>0.344508</td>\n",
       "      <td>0.288842</td>\n",
       "      <td>high</td>\n",
       "    </tr>\n",
       "    <tr>\n",
       "      <th>12821.0</th>\n",
       "      <td>-1.220257</td>\n",
       "      <td>-1.355695</td>\n",
       "      <td>-1.062497</td>\n",
       "      <td>-0.668670</td>\n",
       "      <td>-1.461621</td>\n",
       "      <td>0.475504</td>\n",
       "      <td>-1.388044</td>\n",
       "      <td>-1.591474</td>\n",
       "      <td>low</td>\n",
       "    </tr>\n",
       "    <tr>\n",
       "      <th>...</th>\n",
       "      <td>...</td>\n",
       "      <td>...</td>\n",
       "      <td>...</td>\n",
       "      <td>...</td>\n",
       "      <td>...</td>\n",
       "      <td>...</td>\n",
       "      <td>...</td>\n",
       "      <td>...</td>\n",
       "      <td>...</td>\n",
       "    </tr>\n",
       "    <tr>\n",
       "      <th>18280.0</th>\n",
       "      <td>-1.545456</td>\n",
       "      <td>-0.936801</td>\n",
       "      <td>-1.497962</td>\n",
       "      <td>-0.728760</td>\n",
       "      <td>-0.537751</td>\n",
       "      <td>0.823325</td>\n",
       "      <td>-1.000854</td>\n",
       "      <td>-1.050842</td>\n",
       "      <td>low</td>\n",
       "    </tr>\n",
       "    <tr>\n",
       "      <th>18281.0</th>\n",
       "      <td>-1.411263</td>\n",
       "      <td>-1.229286</td>\n",
       "      <td>-1.318268</td>\n",
       "      <td>-0.732228</td>\n",
       "      <td>-1.651965</td>\n",
       "      <td>-1.674081</td>\n",
       "      <td>-1.271203</td>\n",
       "      <td>-1.702860</td>\n",
       "      <td>low</td>\n",
       "    </tr>\n",
       "    <tr>\n",
       "      <th>18282.0</th>\n",
       "      <td>-0.972606</td>\n",
       "      <td>-0.787292</td>\n",
       "      <td>-1.062497</td>\n",
       "      <td>0.054425</td>\n",
       "      <td>-1.529306</td>\n",
       "      <td>1.027723</td>\n",
       "      <td>-0.862659</td>\n",
       "      <td>-1.069004</td>\n",
       "      <td>low</td>\n",
       "    </tr>\n",
       "    <tr>\n",
       "      <th>18283.0</th>\n",
       "      <td>0.960625</td>\n",
       "      <td>1.741226</td>\n",
       "      <td>0.155987</td>\n",
       "      <td>-0.169709</td>\n",
       "      <td>-1.020505</td>\n",
       "      <td>-1.059716</td>\n",
       "      <td>2.239680</td>\n",
       "      <td>0.914970</td>\n",
       "      <td>medium</td>\n",
       "    </tr>\n",
       "    <tr>\n",
       "      <th>18287.0</th>\n",
       "      <td>1.076485</td>\n",
       "      <td>0.518716</td>\n",
       "      <td>1.548532</td>\n",
       "      <td>0.584366</td>\n",
       "      <td>1.154431</td>\n",
       "      <td>-4.204715</td>\n",
       "      <td>0.474089</td>\n",
       "      <td>0.830265</td>\n",
       "      <td>medium</td>\n",
       "    </tr>\n",
       "  </tbody>\n",
       "</table>\n",
       "<p>3803 rows × 9 columns</p>\n",
       "</div>"
      ],
      "text/plain": [
       "                   I        Iu      Imax         E      Savg         R  \\\n",
       "CustomerID                                                               \n",
       "12747.0     0.781294  0.179243  0.010851  0.640492  0.521052 -0.495949   \n",
       "12748.0     2.973640  3.219346  2.040581  0.469773 -0.756206 -1.674081   \n",
       "12749.0     1.001305  1.331669  1.313557  0.530165  1.478730 -0.495949   \n",
       "12820.0     0.497275  0.461147  0.168180  0.194257 -0.169440 -0.040022   \n",
       "12821.0    -1.220257 -1.355695 -1.062497 -0.668670 -1.461621  0.475504   \n",
       "...              ...       ...       ...       ...       ...       ...   \n",
       "18280.0    -1.545456 -0.936801 -1.497962 -0.728760 -0.537751  0.823325   \n",
       "18281.0    -1.411263 -1.229286 -1.318268 -0.732228 -1.651965 -1.674081   \n",
       "18282.0    -0.972606 -0.787292 -1.062497  0.054425 -1.529306  1.027723   \n",
       "18283.0     0.960625  1.741226  0.155987 -0.169709 -1.020505 -1.059716   \n",
       "18287.0     1.076485  0.518716  1.548532  0.584366  1.154431 -4.204715   \n",
       "\n",
       "                   F         M   label  \n",
       "CustomerID                              \n",
       "12747.0     0.647544  1.350495  medium  \n",
       "12748.0     3.484271  2.976379  medium  \n",
       "12749.0     1.262206  1.434270  medium  \n",
       "12820.0     0.344508  0.288842    high  \n",
       "12821.0    -1.388044 -1.591474     low  \n",
       "...              ...       ...     ...  \n",
       "18280.0    -1.000854 -1.050842     low  \n",
       "18281.0    -1.271203 -1.702860     low  \n",
       "18282.0    -0.862659 -1.069004     low  \n",
       "18283.0     2.239680  0.914970  medium  \n",
       "18287.0     0.474089  0.830265  medium  \n",
       "\n",
       "[3803 rows x 9 columns]"
      ]
     },
     "execution_count": 8,
     "metadata": {},
     "output_type": "execute_result"
    }
   ],
   "source": [
    "customer_profile = pd.read_csv('../dataset/customer_profile_kmeans.csv', sep='\\t', index_col=0)\n",
    "customer_profile"
   ]
  },
  {
   "cell_type": "code",
   "execution_count": 9,
   "metadata": {},
   "outputs": [],
   "source": [
    "customer_profile = customer_profile.to_numpy()"
   ]
  },
  {
   "cell_type": "code",
   "execution_count": 10,
   "metadata": {},
   "outputs": [],
   "source": [
    "def plot_learning_curve(estimator, X, y, scorer='accuracy', cv=5, train_sizes=np.linspace(.1, 1.0, 5), \n",
    "                        shuffle=False, random_state=None):\n",
    "\n",
    "    train_sizes, train_scores, test_scores = learning_curve(estimator, X, y, train_sizes=train_sizes, cv=cv,\n",
    "                                                            scoring=scorer, n_jobs=-1, shuffle=shuffle,\n",
    "                                                            random_state=random_state)\n",
    "\n",
    "    mean_train_score = np.mean(train_scores, axis=1)\n",
    "    std_train_score = np.std(train_scores, axis=1)\n",
    "    mean_test_score = np.mean(test_scores, axis=1)\n",
    "    std_test_score = np.std(test_scores, axis=1)\n",
    "\n",
    "    plt.title(str(estimator.__class__.__name__) + ' learning curve')\n",
    "    plt.xlabel('training set size')\n",
    "    plt.ylabel('score')\n",
    "\n",
    "    plt.plot(train_sizes, mean_train_score, label='train score', color='navy', marker='.', lw=2)\n",
    "    plt.fill_between(train_sizes, mean_train_score + std_train_score,\n",
    "                     mean_train_score - std_train_score, color='navy', alpha=0.2)\n",
    "    plt.plot(train_sizes, mean_test_score, label='cross-validation score', color='darkorange', marker='.', lw=2)\n",
    "    plt.fill_between(train_sizes, mean_test_score + std_test_score,\n",
    "                     mean_test_score - std_test_score, color='darkorange', alpha=0.2)\n",
    "\n",
    "    plt.legend().get_frame().set_facecolor('white')\n",
    "    plt.show()\n",
    "    \n",
    "def highlight_equal(s, value, column):\n",
    "    is_max = pd.Series(data=False, index=s.index)\n",
    "    is_max[column] = s.loc[column] == value\n",
    "    return ['background-color: lightyellow' if is_max.any() else '' for v in is_max]"
   ]
  },
  {
   "cell_type": "markdown",
   "metadata": {},
   "source": [
    "## SVC"
   ]
  },
  {
   "cell_type": "code",
   "execution_count": 11,
   "metadata": {},
   "outputs": [],
   "source": [
    "from sklearn.svm import SVC"
   ]
  },
  {
   "cell_type": "code",
   "execution_count": 12,
   "metadata": {},
   "outputs": [
    {
     "name": "stdout",
     "output_type": "stream",
     "text": [
      "Fitting 5 folds for each of 15 candidates, totalling 75 fits\n"
     ]
    },
    {
     "name": "stderr",
     "output_type": "stream",
     "text": [
      "[Parallel(n_jobs=-1)]: Using backend LokyBackend with 8 concurrent workers.\n",
      "[Parallel(n_jobs=-1)]: Done  52 tasks      | elapsed:    0.7s\n",
      "[Parallel(n_jobs=-1)]: Done  75 out of  75 | elapsed:    0.8s finished\n"
     ]
    }
   ],
   "source": [
    "X, y = customer_profile[:, :-1], customer_profile[:, -1]\n",
    "\n",
    "X_train, X_test, y_train, y_test = train_test_split(X, y, test_size=0.25, stratify=y)\n",
    "\n",
    "tuned_parameters = {'kernel': ('linear', 'poly', 'rbf'),\n",
    "                    'C': (0.1, 1, 10, 100, 1000)}\n",
    "\n",
    "grid = GridSearchCV(SVC(),\n",
    "                    param_grid=tuned_parameters,\n",
    "                    scoring='accuracy',\n",
    "                    cv=5,  # 5 fold cross validation\n",
    "                    n_jobs=-1,  # use all processors\n",
    "                    refit=True,  # refit the best model on the full development set\n",
    "                    return_train_score=True,\n",
    "                    verbose=True).fit(X_train, y_train)"
   ]
  },
  {
   "cell_type": "code",
   "execution_count": 13,
   "metadata": {},
   "outputs": [
    {
     "data": {
      "text/html": [
       "<style  type=\"text/css\" >\n",
       "    #T_876c380c_2b32_11eb_9194_1396418f0ff5row0_col0 {\n",
       "            background-color:  lightyellow;\n",
       "        }    #T_876c380c_2b32_11eb_9194_1396418f0ff5row0_col1 {\n",
       "            background-color:  lightyellow;\n",
       "        }    #T_876c380c_2b32_11eb_9194_1396418f0ff5row0_col2 {\n",
       "            background-color:  lightyellow;\n",
       "        }    #T_876c380c_2b32_11eb_9194_1396418f0ff5row0_col3 {\n",
       "            background-color:  lightyellow;\n",
       "        }</style><table id=\"T_876c380c_2b32_11eb_9194_1396418f0ff5\" ><thead>    <tr>        <th class=\"col_heading level0 col0\" >params</th>        <th class=\"col_heading level0 col1\" >mean_train_score</th>        <th class=\"col_heading level0 col2\" >mean_val_score</th>        <th class=\"col_heading level0 col3\" >rank_val_score</th>    </tr></thead><tbody>\n",
       "                <tr>\n",
       "                                <td id=\"T_876c380c_2b32_11eb_9194_1396418f0ff5row0_col0\" class=\"data row0 col0\" >{'C': 100, 'kernel': 'linear'}</td>\n",
       "                        <td id=\"T_876c380c_2b32_11eb_9194_1396418f0ff5row0_col1\" class=\"data row0 col1\" >0.999123</td>\n",
       "                        <td id=\"T_876c380c_2b32_11eb_9194_1396418f0ff5row0_col2\" class=\"data row0 col2\" >0.997195</td>\n",
       "                        <td id=\"T_876c380c_2b32_11eb_9194_1396418f0ff5row0_col3\" class=\"data row0 col3\" >1</td>\n",
       "            </tr>\n",
       "            <tr>\n",
       "                                <td id=\"T_876c380c_2b32_11eb_9194_1396418f0ff5row1_col0\" class=\"data row1 col0\" >{'C': 1000, 'kernel': 'linear'}</td>\n",
       "                        <td id=\"T_876c380c_2b32_11eb_9194_1396418f0ff5row1_col1\" class=\"data row1 col1\" >0.999825</td>\n",
       "                        <td id=\"T_876c380c_2b32_11eb_9194_1396418f0ff5row1_col2\" class=\"data row1 col2\" >0.997195</td>\n",
       "                        <td id=\"T_876c380c_2b32_11eb_9194_1396418f0ff5row1_col3\" class=\"data row1 col3\" >2</td>\n",
       "            </tr>\n",
       "            <tr>\n",
       "                                <td id=\"T_876c380c_2b32_11eb_9194_1396418f0ff5row2_col0\" class=\"data row2 col0\" >{'C': 10, 'kernel': 'linear'}</td>\n",
       "                        <td id=\"T_876c380c_2b32_11eb_9194_1396418f0ff5row2_col1\" class=\"data row2 col1\" >0.995968</td>\n",
       "                        <td id=\"T_876c380c_2b32_11eb_9194_1396418f0ff5row2_col2\" class=\"data row2 col2\" >0.994041</td>\n",
       "                        <td id=\"T_876c380c_2b32_11eb_9194_1396418f0ff5row2_col3\" class=\"data row2 col3\" >3</td>\n",
       "            </tr>\n",
       "            <tr>\n",
       "                                <td id=\"T_876c380c_2b32_11eb_9194_1396418f0ff5row3_col0\" class=\"data row3 col0\" >{'C': 1, 'kernel': 'linear'}</td>\n",
       "                        <td id=\"T_876c380c_2b32_11eb_9194_1396418f0ff5row3_col1\" class=\"data row3 col1\" >0.994302</td>\n",
       "                        <td id=\"T_876c380c_2b32_11eb_9194_1396418f0ff5row3_col2\" class=\"data row3 col2\" >0.993341</td>\n",
       "                        <td id=\"T_876c380c_2b32_11eb_9194_1396418f0ff5row3_col3\" class=\"data row3 col3\" >4</td>\n",
       "            </tr>\n",
       "            <tr>\n",
       "                                <td id=\"T_876c380c_2b32_11eb_9194_1396418f0ff5row4_col0\" class=\"data row4 col0\" >{'C': 1, 'kernel': 'rbf'}</td>\n",
       "                        <td id=\"T_876c380c_2b32_11eb_9194_1396418f0ff5row4_col1\" class=\"data row4 col1\" >0.994302</td>\n",
       "                        <td id=\"T_876c380c_2b32_11eb_9194_1396418f0ff5row4_col2\" class=\"data row4 col2\" >0.990183</td>\n",
       "                        <td id=\"T_876c380c_2b32_11eb_9194_1396418f0ff5row4_col3\" class=\"data row4 col3\" >5</td>\n",
       "            </tr>\n",
       "            <tr>\n",
       "                                <td id=\"T_876c380c_2b32_11eb_9194_1396418f0ff5row5_col0\" class=\"data row5 col0\" >{'C': 10, 'kernel': 'rbf'}</td>\n",
       "                        <td id=\"T_876c380c_2b32_11eb_9194_1396418f0ff5row5_col1\" class=\"data row5 col1\" >0.996318</td>\n",
       "                        <td id=\"T_876c380c_2b32_11eb_9194_1396418f0ff5row5_col2\" class=\"data row5 col2\" >0.989832</td>\n",
       "                        <td id=\"T_876c380c_2b32_11eb_9194_1396418f0ff5row5_col3\" class=\"data row5 col3\" >6</td>\n",
       "            </tr>\n",
       "            <tr>\n",
       "                                <td id=\"T_876c380c_2b32_11eb_9194_1396418f0ff5row6_col0\" class=\"data row6 col0\" >{'C': 0.1, 'kernel': 'linear'}</td>\n",
       "                        <td id=\"T_876c380c_2b32_11eb_9194_1396418f0ff5row6_col1\" class=\"data row6 col1\" >0.991936</td>\n",
       "                        <td id=\"T_876c380c_2b32_11eb_9194_1396418f0ff5row6_col2\" class=\"data row6 col2\" >0.988433</td>\n",
       "                        <td id=\"T_876c380c_2b32_11eb_9194_1396418f0ff5row6_col3\" class=\"data row6 col3\" >7</td>\n",
       "            </tr>\n",
       "            <tr>\n",
       "                                <td id=\"T_876c380c_2b32_11eb_9194_1396418f0ff5row7_col0\" class=\"data row7 col0\" >{'C': 1000, 'kernel': 'rbf'}</td>\n",
       "                        <td id=\"T_876c380c_2b32_11eb_9194_1396418f0ff5row7_col1\" class=\"data row7 col1\" >1.000000</td>\n",
       "                        <td id=\"T_876c380c_2b32_11eb_9194_1396418f0ff5row7_col2\" class=\"data row7 col2\" >0.988078</td>\n",
       "                        <td id=\"T_876c380c_2b32_11eb_9194_1396418f0ff5row7_col3\" class=\"data row7 col3\" >8</td>\n",
       "            </tr>\n",
       "            <tr>\n",
       "                                <td id=\"T_876c380c_2b32_11eb_9194_1396418f0ff5row8_col0\" class=\"data row8 col0\" >{'C': 100, 'kernel': 'rbf'}</td>\n",
       "                        <td id=\"T_876c380c_2b32_11eb_9194_1396418f0ff5row8_col1\" class=\"data row8 col1\" >0.999123</td>\n",
       "                        <td id=\"T_876c380c_2b32_11eb_9194_1396418f0ff5row8_col2\" class=\"data row8 col2\" >0.986676</td>\n",
       "                        <td id=\"T_876c380c_2b32_11eb_9194_1396418f0ff5row8_col3\" class=\"data row8 col3\" >9</td>\n",
       "            </tr>\n",
       "            <tr>\n",
       "                                <td id=\"T_876c380c_2b32_11eb_9194_1396418f0ff5row9_col0\" class=\"data row9 col0\" >{'C': 1000, 'kernel': 'poly'}</td>\n",
       "                        <td id=\"T_876c380c_2b32_11eb_9194_1396418f0ff5row9_col1\" class=\"data row9 col1\" >0.998597</td>\n",
       "                        <td id=\"T_876c380c_2b32_11eb_9194_1396418f0ff5row9_col2\" class=\"data row9 col2\" >0.985625</td>\n",
       "                        <td id=\"T_876c380c_2b32_11eb_9194_1396418f0ff5row9_col3\" class=\"data row9 col3\" >10</td>\n",
       "            </tr>\n",
       "            <tr>\n",
       "                                <td id=\"T_876c380c_2b32_11eb_9194_1396418f0ff5row10_col0\" class=\"data row10 col0\" >{'C': 100, 'kernel': 'poly'}</td>\n",
       "                        <td id=\"T_876c380c_2b32_11eb_9194_1396418f0ff5row10_col1\" class=\"data row10 col1\" >0.995354</td>\n",
       "                        <td id=\"T_876c380c_2b32_11eb_9194_1396418f0ff5row10_col2\" class=\"data row10 col2\" >0.984925</td>\n",
       "                        <td id=\"T_876c380c_2b32_11eb_9194_1396418f0ff5row10_col3\" class=\"data row10 col3\" >11</td>\n",
       "            </tr>\n",
       "            <tr>\n",
       "                                <td id=\"T_876c380c_2b32_11eb_9194_1396418f0ff5row11_col0\" class=\"data row11 col0\" >{'C': 10, 'kernel': 'poly'}</td>\n",
       "                        <td id=\"T_876c380c_2b32_11eb_9194_1396418f0ff5row11_col1\" class=\"data row11 col1\" >0.986501</td>\n",
       "                        <td id=\"T_876c380c_2b32_11eb_9194_1396418f0ff5row11_col2\" class=\"data row11 col2\" >0.978962</td>\n",
       "                        <td id=\"T_876c380c_2b32_11eb_9194_1396418f0ff5row11_col3\" class=\"data row11 col3\" >12</td>\n",
       "            </tr>\n",
       "            <tr>\n",
       "                                <td id=\"T_876c380c_2b32_11eb_9194_1396418f0ff5row12_col0\" class=\"data row12 col0\" >{'C': 0.1, 'kernel': 'rbf'}</td>\n",
       "                        <td id=\"T_876c380c_2b32_11eb_9194_1396418f0ff5row12_col1\" class=\"data row12 col1\" >0.977647</td>\n",
       "                        <td id=\"T_876c380c_2b32_11eb_9194_1396418f0ff5row12_col2\" class=\"data row12 col2\" >0.973706</td>\n",
       "                        <td id=\"T_876c380c_2b32_11eb_9194_1396418f0ff5row12_col3\" class=\"data row12 col3\" >13</td>\n",
       "            </tr>\n",
       "            <tr>\n",
       "                                <td id=\"T_876c380c_2b32_11eb_9194_1396418f0ff5row13_col0\" class=\"data row13 col0\" >{'C': 1, 'kernel': 'poly'}</td>\n",
       "                        <td id=\"T_876c380c_2b32_11eb_9194_1396418f0ff5row13_col1\" class=\"data row13 col1\" >0.948545</td>\n",
       "                        <td id=\"T_876c380c_2b32_11eb_9194_1396418f0ff5row13_col2\" class=\"data row13 col2\" >0.939340</td>\n",
       "                        <td id=\"T_876c380c_2b32_11eb_9194_1396418f0ff5row13_col3\" class=\"data row13 col3\" >14</td>\n",
       "            </tr>\n",
       "            <tr>\n",
       "                                <td id=\"T_876c380c_2b32_11eb_9194_1396418f0ff5row14_col0\" class=\"data row14 col0\" >{'C': 0.1, 'kernel': 'poly'}</td>\n",
       "                        <td id=\"T_876c380c_2b32_11eb_9194_1396418f0ff5row14_col1\" class=\"data row14 col1\" >0.872195</td>\n",
       "                        <td id=\"T_876c380c_2b32_11eb_9194_1396418f0ff5row14_col2\" class=\"data row14 col2\" >0.869214</td>\n",
       "                        <td id=\"T_876c380c_2b32_11eb_9194_1396418f0ff5row14_col3\" class=\"data row14 col3\" >15</td>\n",
       "            </tr>\n",
       "    </tbody></table>"
      ],
      "text/plain": [
       "<pandas.io.formats.style.Styler at 0x7f45280d49d0>"
      ]
     },
     "execution_count": 13,
     "metadata": {},
     "output_type": "execute_result"
    }
   ],
   "source": [
    "df = pd.DataFrame(grid.cv_results_)[['params', 'mean_train_score', 'mean_test_score', 'rank_test_score']].sort_values(by='rank_test_score')\n",
    "df.rename(columns={'mean_test_score': 'mean_val_score', \n",
    "                   'rank_test_score': 'rank_val_score'}, inplace=True)\n",
    "\n",
    "df.head(15).style.apply(highlight_equal, value=1, column=['rank_val_score'], axis=1).hide_index()"
   ]
  },
  {
   "cell_type": "code",
   "execution_count": 14,
   "metadata": {},
   "outputs": [
    {
     "data": {
      "text/plain": [
       "0.9978969505783386"
      ]
     },
     "execution_count": 14,
     "metadata": {},
     "output_type": "execute_result"
    }
   ],
   "source": [
    "accuracy_score(grid.best_estimator_.predict(X_test), y_test)"
   ]
  },
  {
   "cell_type": "code",
   "execution_count": 15,
   "metadata": {},
   "outputs": [
    {
     "data": {
      "image/png": "[encoded data removed]",
      "text/plain": [
       "<Figure size 432x288 with 1 Axes>"
      ]
     },
     "metadata": {
      "needs_background": "light"
     },
     "output_type": "display_data"
    }
   ],
   "source": [
    "plot_learning_curve(grid.best_estimator_, X, y)"
   ]
  },
  {
   "cell_type": "markdown",
   "metadata": {},
   "source": [
    "## Naive Bayes"
   ]
  },
  {
   "cell_type": "code",
   "execution_count": null,
   "metadata": {},
   "outputs": [],
   "source": []
  },
  {
   "cell_type": "markdown",
   "metadata": {},
   "source": [
    "## Random Forest"
   ]
  },
  {
   "cell_type": "code",
   "execution_count": null,
   "metadata": {},
   "outputs": [],
   "source": []
  },
  {
   "cell_type": "markdown",
   "metadata": {},
   "source": [
    "## Gradient Boosting"
   ]
  },
  {
   "cell_type": "code",
   "execution_count": null,
   "metadata": {},
   "outputs": [],
   "source": []
  },
  {
   "cell_type": "markdown",
   "metadata": {},
   "source": [
    "## Decision Tree"
   ]
  },
  {
   "cell_type": "code",
   "execution_count": null,
   "metadata": {},
   "outputs": [],
   "source": []
  },
  {
   "cell_type": "markdown",
   "metadata": {},
   "source": [
    "## K-Nearest Neighbors"
   ]
  },
  {
   "cell_type": "code",
   "execution_count": null,
   "metadata": {},
   "outputs": [],
   "source": []
  },
  {
   "cell_type": "markdown",
   "metadata": {},
   "source": [
    "## Logistic Regression"
   ]
  },
  {
   "cell_type": "code",
   "execution_count": null,
   "metadata": {},
   "outputs": [],
   "source": []
  }
 ],
 "metadata": {
  "kernelspec": {
   "display_name": "Python 3",
   "language": "python",
   "name": "python3"
  },
  "language_info": {
   "codemirror_mode": {
    "name": "ipython",
    "version": 3
   },
   "file_extension": ".py",
   "mimetype": "text/x-python",
   "name": "python",
   "nbconvert_exporter": "python",
   "pygments_lexer": "ipython3",
   "version": "3.8.6"
  }
 },
 "nbformat": 4,
 "nbformat_minor": 4
}
