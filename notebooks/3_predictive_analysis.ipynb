{
 "cells": [
  {
   "cell_type": "markdown",
   "metadata": {},
   "source": [
    "# Task 3: Predictive Analysis"
   ]
  },
  {
   "cell_type": "code",
   "execution_count": 11,
   "metadata": {},
   "outputs": [],
   "source": [
    "import numpy as np\n",
    "import pandas as pd\n",
    "import matplotlib.pyplot as plt\n",
    "from sklearn.pipeline import Pipeline\n",
    "from sklearn.metrics import accuracy_score\n",
    "from sklearn.preprocessing import StandardScaler\n",
    "from sklearn.model_selection import train_test_split, GridSearchCV, learning_curve"
   ]
  },
  {
   "cell_type": "markdown",
   "metadata": {},
   "source": [
    "## Loading the Customer Profile model"
   ]
  },
  {
   "cell_type": "code",
   "execution_count": 12,
   "metadata": {},
   "outputs": [
    {
     "data": {
      "text/html": [
       "<div>\n",
       "<style scoped>\n",
       "    .dataframe tbody tr th:only-of-type {\n",
       "        vertical-align: middle;\n",
       "    }\n",
       "\n",
       "    .dataframe tbody tr th {\n",
       "        vertical-align: top;\n",
       "    }\n",
       "\n",
       "    .dataframe thead th {\n",
       "        text-align: right;\n",
       "    }\n",
       "</style>\n",
       "<table border=\"1\" class=\"dataframe\">\n",
       "  <thead>\n",
       "    <tr style=\"text-align: right;\">\n",
       "      <th></th>\n",
       "      <th>I</th>\n",
       "      <th>Iu</th>\n",
       "      <th>Imax</th>\n",
       "      <th>E</th>\n",
       "      <th>Savg</th>\n",
       "      <th>R</th>\n",
       "      <th>F</th>\n",
       "      <th>M</th>\n",
       "      <th>cluster</th>\n",
       "    </tr>\n",
       "    <tr>\n",
       "      <th>CustomerID</th>\n",
       "      <th></th>\n",
       "      <th></th>\n",
       "      <th></th>\n",
       "      <th></th>\n",
       "      <th></th>\n",
       "      <th></th>\n",
       "      <th></th>\n",
       "      <th></th>\n",
       "      <th></th>\n",
       "    </tr>\n",
       "  </thead>\n",
       "  <tbody>\n",
       "    <tr>\n",
       "      <th>12347.0</th>\n",
       "      <td>3.330211</td>\n",
       "      <td>1.939519</td>\n",
       "      <td>2.829947</td>\n",
       "      <td>4.239118</td>\n",
       "      <td>2.777935</td>\n",
       "      <td>40</td>\n",
       "      <td>2.178977</td>\n",
       "      <td>3.556087</td>\n",
       "      <td>high</td>\n",
       "    </tr>\n",
       "    <tr>\n",
       "      <th>12348.0</th>\n",
       "      <td>3.035029</td>\n",
       "      <td>0.954243</td>\n",
       "      <td>2.778151</td>\n",
       "      <td>2.550341</td>\n",
       "      <td>2.417438</td>\n",
       "      <td>76</td>\n",
       "      <td>1.041393</td>\n",
       "      <td>2.894560</td>\n",
       "      <td>medium</td>\n",
       "    </tr>\n",
       "    <tr>\n",
       "      <th>12349.0</th>\n",
       "      <td>2.799341</td>\n",
       "      <td>1.857332</td>\n",
       "      <td>2.799341</td>\n",
       "      <td>3.903268</td>\n",
       "      <td>3.163623</td>\n",
       "      <td>19</td>\n",
       "      <td>1.857332</td>\n",
       "      <td>3.163623</td>\n",
       "      <td>high</td>\n",
       "    </tr>\n",
       "    <tr>\n",
       "      <th>12350.0</th>\n",
       "      <td>2.292256</td>\n",
       "      <td>1.204120</td>\n",
       "      <td>2.292256</td>\n",
       "      <td>2.500000</td>\n",
       "      <td>2.468938</td>\n",
       "      <td>311</td>\n",
       "      <td>1.204120</td>\n",
       "      <td>2.468938</td>\n",
       "      <td>medium</td>\n",
       "    </tr>\n",
       "    <tr>\n",
       "      <th>12352.0</th>\n",
       "      <td>2.665581</td>\n",
       "      <td>1.755875</td>\n",
       "      <td>2.096910</td>\n",
       "      <td>3.158366</td>\n",
       "      <td>2.324080</td>\n",
       "      <td>73</td>\n",
       "      <td>1.845098</td>\n",
       "      <td>3.102231</td>\n",
       "      <td>medium</td>\n",
       "    </tr>\n",
       "    <tr>\n",
       "      <th>...</th>\n",
       "      <td>...</td>\n",
       "      <td>...</td>\n",
       "      <td>...</td>\n",
       "      <td>...</td>\n",
       "      <td>...</td>\n",
       "      <td>...</td>\n",
       "      <td>...</td>\n",
       "      <td>...</td>\n",
       "      <td>...</td>\n",
       "    </tr>\n",
       "    <tr>\n",
       "      <th>18280.0</th>\n",
       "      <td>1.653213</td>\n",
       "      <td>1.000000</td>\n",
       "      <td>1.653213</td>\n",
       "      <td>1.846439</td>\n",
       "      <td>2.256718</td>\n",
       "      <td>160</td>\n",
       "      <td>1.000000</td>\n",
       "      <td>2.256718</td>\n",
       "      <td>low</td>\n",
       "    </tr>\n",
       "    <tr>\n",
       "      <th>18281.0</th>\n",
       "      <td>1.732394</td>\n",
       "      <td>0.845098</td>\n",
       "      <td>1.732394</td>\n",
       "      <td>1.842371</td>\n",
       "      <td>1.907519</td>\n",
       "      <td>4</td>\n",
       "      <td>0.845098</td>\n",
       "      <td>1.907519</td>\n",
       "      <td>low</td>\n",
       "    </tr>\n",
       "    <tr>\n",
       "      <th>18282.0</th>\n",
       "      <td>1.991226</td>\n",
       "      <td>1.079181</td>\n",
       "      <td>1.845098</td>\n",
       "      <td>3.022055</td>\n",
       "      <td>1.945961</td>\n",
       "      <td>216</td>\n",
       "      <td>1.079181</td>\n",
       "      <td>2.246991</td>\n",
       "      <td>low</td>\n",
       "    </tr>\n",
       "    <tr>\n",
       "      <th>18283.0</th>\n",
       "      <td>3.131939</td>\n",
       "      <td>2.418301</td>\n",
       "      <td>2.382017</td>\n",
       "      <td>2.627193</td>\n",
       "      <td>2.105421</td>\n",
       "      <td>10</td>\n",
       "      <td>2.856729</td>\n",
       "      <td>3.309541</td>\n",
       "      <td>high</td>\n",
       "    </tr>\n",
       "    <tr>\n",
       "      <th>18287.0</th>\n",
       "      <td>3.200303</td>\n",
       "      <td>1.770852</td>\n",
       "      <td>2.995635</td>\n",
       "      <td>4.198218</td>\n",
       "      <td>2.787054</td>\n",
       "      <td>0</td>\n",
       "      <td>1.845098</td>\n",
       "      <td>3.264175</td>\n",
       "      <td>high</td>\n",
       "    </tr>\n",
       "  </tbody>\n",
       "</table>\n",
       "<p>4206 rows × 9 columns</p>\n",
       "</div>"
      ],
      "text/plain": [
       "                   I        Iu      Imax         E      Savg    R         F  \\\n",
       "CustomerID                                                                    \n",
       "12347.0     3.330211  1.939519  2.829947  4.239118  2.777935   40  2.178977   \n",
       "12348.0     3.035029  0.954243  2.778151  2.550341  2.417438   76  1.041393   \n",
       "12349.0     2.799341  1.857332  2.799341  3.903268  3.163623   19  1.857332   \n",
       "12350.0     2.292256  1.204120  2.292256  2.500000  2.468938  311  1.204120   \n",
       "12352.0     2.665581  1.755875  2.096910  3.158366  2.324080   73  1.845098   \n",
       "...              ...       ...       ...       ...       ...  ...       ...   \n",
       "18280.0     1.653213  1.000000  1.653213  1.846439  2.256718  160  1.000000   \n",
       "18281.0     1.732394  0.845098  1.732394  1.842371  1.907519    4  0.845098   \n",
       "18282.0     1.991226  1.079181  1.845098  3.022055  1.945961  216  1.079181   \n",
       "18283.0     3.131939  2.418301  2.382017  2.627193  2.105421   10  2.856729   \n",
       "18287.0     3.200303  1.770852  2.995635  4.198218  2.787054    0  1.845098   \n",
       "\n",
       "                   M cluster  \n",
       "CustomerID                    \n",
       "12347.0     3.556087    high  \n",
       "12348.0     2.894560  medium  \n",
       "12349.0     3.163623    high  \n",
       "12350.0     2.468938  medium  \n",
       "12352.0     3.102231  medium  \n",
       "...              ...     ...  \n",
       "18280.0     2.256718     low  \n",
       "18281.0     1.907519     low  \n",
       "18282.0     2.246991     low  \n",
       "18283.0     3.309541    high  \n",
       "18287.0     3.264175    high  \n",
       "\n",
       "[4206 rows x 9 columns]"
      ]
     },
     "execution_count": 12,
     "metadata": {},
     "output_type": "execute_result"
    }
   ],
   "source": [
    "customer_profile = pd.read_csv('../dataset/customer_profile_kmeans.csv', sep='\\t', index_col=0)\n",
    "customer_profile"
   ]
  },
  {
   "cell_type": "code",
   "execution_count": 13,
   "metadata": {},
   "outputs": [],
   "source": [
    "customer_profile = customer_profile.to_numpy()"
   ]
  },
  {
   "cell_type": "code",
   "execution_count": 14,
   "metadata": {},
   "outputs": [],
   "source": [
    "def plot_learning_curve(pipeline, X, y, scorer='accuracy', cv=5, train_sizes=np.linspace(.1, 1.0, 5), \n",
    "                        shuffle=False, random_state=None):\n",
    "\n",
    "    train_sizes, train_scores, test_scores = learning_curve(pipeline, X, y, train_sizes=train_sizes, cv=cv,\n",
    "                                                            scoring=scorer, n_jobs=-1, shuffle=shuffle,\n",
    "                                                            random_state=random_state)\n",
    "\n",
    "    mean_train_score = np.mean(train_scores, axis=1)\n",
    "    std_train_score = np.std(train_scores, axis=1)\n",
    "    mean_test_score = np.mean(test_scores, axis=1)\n",
    "    std_test_score = np.std(test_scores, axis=1)\n",
    "\n",
    "    plt.title(str(pipeline['estimator'].__class__.__name__) + ' learning curve')\n",
    "    plt.xlabel('training set size')\n",
    "    plt.ylabel('score')\n",
    "\n",
    "    plt.plot(train_sizes, mean_train_score, label='train score', color='navy', marker='.', lw=2)\n",
    "    plt.fill_between(train_sizes, mean_train_score + std_train_score,\n",
    "                     mean_train_score - std_train_score, color='navy', alpha=0.2)\n",
    "    plt.plot(train_sizes, mean_test_score, label='cross-validation score', color='darkorange', marker='.', lw=2)\n",
    "    plt.fill_between(train_sizes, mean_test_score + std_test_score,\n",
    "                     mean_test_score - std_test_score, color='darkorange', alpha=0.2)\n",
    "\n",
    "    plt.legend().get_frame().set_facecolor('white')\n",
    "    plt.show()\n",
    "    \n",
    "def highlight_equal(s, value, column):\n",
    "    is_max = pd.Series(data=False, index=s.index)\n",
    "    is_max[column] = s.loc[column] == value\n",
    "    return ['background-color: lightyellow' if is_max.any() else '' for v in is_max]"
   ]
  },
  {
   "cell_type": "markdown",
   "metadata": {},
   "source": [
    "## SVC"
   ]
  },
  {
   "cell_type": "code",
   "execution_count": 15,
   "metadata": {},
   "outputs": [],
   "source": [
    "from sklearn.svm import SVC"
   ]
  },
  {
   "cell_type": "code",
   "execution_count": 16,
   "metadata": {},
   "outputs": [
    {
     "name": "stdout",
     "output_type": "stream",
     "text": [
      "Fitting 5 folds for each of 15 candidates, totalling 75 fits\n"
     ]
    },
    {
     "name": "stderr",
     "output_type": "stream",
     "text": [
      "[Parallel(n_jobs=-1)]: Using backend LokyBackend with 8 concurrent workers.\n",
      "[Parallel(n_jobs=-1)]: Done  34 tasks      | elapsed:    1.3s\n",
      "[Parallel(n_jobs=-1)]: Done  60 out of  75 | elapsed:    1.7s remaining:    0.4s\n",
      "[Parallel(n_jobs=-1)]: Done  75 out of  75 | elapsed:    1.7s finished\n"
     ]
    }
   ],
   "source": [
    "X, y = customer_profile[:, :-1], customer_profile[:, -1]\n",
    "\n",
    "X_train, X_test, y_train, y_test = train_test_split(X, y, test_size=0.25, stratify=y)\n",
    "\n",
    "pipeline = Pipeline([('scaler', StandardScaler()), \n",
    "                     ('estimator', SVC())])\n",
    "\n",
    "tuned_parameters = {'estimator__kernel': ('linear', 'poly', 'rbf'),\n",
    "                    'estimator__C': (0.1, 1, 10, 100, 1000)}\n",
    "\n",
    "grid = GridSearchCV(pipeline,\n",
    "                    param_grid=tuned_parameters,\n",
    "                    scoring='accuracy',\n",
    "                    cv=5,  # 5 fold cross validation\n",
    "                    n_jobs=-1,  # use all processors\n",
    "                    refit=True,  # refit the best model on the full development set\n",
    "                    return_train_score=True,\n",
    "                    verbose=True).fit(X_train, y_train)"
   ]
  },
  {
   "cell_type": "code",
   "execution_count": 17,
   "metadata": {},
   "outputs": [
    {
     "data": {
      "text/html": [
       "<style  type=\"text/css\" >\n",
       "    #T_cbd5b0e0_2f1f_11eb_8a8a_fdcf6bc28dferow0_col0 {\n",
       "            background-color:  lightyellow;\n",
       "        }    #T_cbd5b0e0_2f1f_11eb_8a8a_fdcf6bc28dferow0_col1 {\n",
       "            background-color:  lightyellow;\n",
       "        }    #T_cbd5b0e0_2f1f_11eb_8a8a_fdcf6bc28dferow0_col2 {\n",
       "            background-color:  lightyellow;\n",
       "        }    #T_cbd5b0e0_2f1f_11eb_8a8a_fdcf6bc28dferow0_col3 {\n",
       "            background-color:  lightyellow;\n",
       "        }</style><table id=\"T_cbd5b0e0_2f1f_11eb_8a8a_fdcf6bc28dfe\" ><thead>    <tr>        <th class=\"col_heading level0 col0\" >params</th>        <th class=\"col_heading level0 col1\" >mean_train_score</th>        <th class=\"col_heading level0 col2\" >mean_val_score</th>        <th class=\"col_heading level0 col3\" >rank_val_score</th>    </tr></thead><tbody>\n",
       "                <tr>\n",
       "                                <td id=\"T_cbd5b0e0_2f1f_11eb_8a8a_fdcf6bc28dferow0_col0\" class=\"data row0 col0\" >{'estimator__C': 10, 'estimator__kernel': 'linear'}</td>\n",
       "                        <td id=\"T_cbd5b0e0_2f1f_11eb_8a8a_fdcf6bc28dferow0_col1\" class=\"data row0 col1\" >0.998652</td>\n",
       "                        <td id=\"T_cbd5b0e0_2f1f_11eb_8a8a_fdcf6bc28dferow0_col2\" class=\"data row0 col2\" >0.997780</td>\n",
       "                        <td id=\"T_cbd5b0e0_2f1f_11eb_8a8a_fdcf6bc28dferow0_col3\" class=\"data row0 col3\" >1</td>\n",
       "            </tr>\n",
       "            <tr>\n",
       "                                <td id=\"T_cbd5b0e0_2f1f_11eb_8a8a_fdcf6bc28dferow1_col0\" class=\"data row1 col0\" >{'estimator__C': 100, 'estimator__kernel': 'linear'}</td>\n",
       "                        <td id=\"T_cbd5b0e0_2f1f_11eb_8a8a_fdcf6bc28dferow1_col1\" class=\"data row1 col1\" >0.999287</td>\n",
       "                        <td id=\"T_cbd5b0e0_2f1f_11eb_8a8a_fdcf6bc28dferow1_col2\" class=\"data row1 col2\" >0.997462</td>\n",
       "                        <td id=\"T_cbd5b0e0_2f1f_11eb_8a8a_fdcf6bc28dferow1_col3\" class=\"data row1 col3\" >2</td>\n",
       "            </tr>\n",
       "            <tr>\n",
       "                                <td id=\"T_cbd5b0e0_2f1f_11eb_8a8a_fdcf6bc28dferow2_col0\" class=\"data row2 col0\" >{'estimator__C': 1000, 'estimator__kernel': 'linear'}</td>\n",
       "                        <td id=\"T_cbd5b0e0_2f1f_11eb_8a8a_fdcf6bc28dferow2_col1\" class=\"data row2 col1\" >1.000000</td>\n",
       "                        <td id=\"T_cbd5b0e0_2f1f_11eb_8a8a_fdcf6bc28dferow2_col2\" class=\"data row2 col2\" >0.997146</td>\n",
       "                        <td id=\"T_cbd5b0e0_2f1f_11eb_8a8a_fdcf6bc28dferow2_col3\" class=\"data row2 col3\" >3</td>\n",
       "            </tr>\n",
       "            <tr>\n",
       "                                <td id=\"T_cbd5b0e0_2f1f_11eb_8a8a_fdcf6bc28dferow3_col0\" class=\"data row3 col0\" >{'estimator__C': 1, 'estimator__kernel': 'linear'}</td>\n",
       "                        <td id=\"T_cbd5b0e0_2f1f_11eb_8a8a_fdcf6bc28dferow3_col1\" class=\"data row3 col1\" >0.995561</td>\n",
       "                        <td id=\"T_cbd5b0e0_2f1f_11eb_8a8a_fdcf6bc28dferow3_col2\" class=\"data row3 col2\" >0.993656</td>\n",
       "                        <td id=\"T_cbd5b0e0_2f1f_11eb_8a8a_fdcf6bc28dferow3_col3\" class=\"data row3 col3\" >4</td>\n",
       "            </tr>\n",
       "            <tr>\n",
       "                                <td id=\"T_cbd5b0e0_2f1f_11eb_8a8a_fdcf6bc28dferow4_col0\" class=\"data row4 col0\" >{'estimator__C': 1000, 'estimator__kernel': 'rbf'}</td>\n",
       "                        <td id=\"T_cbd5b0e0_2f1f_11eb_8a8a_fdcf6bc28dferow4_col1\" class=\"data row4 col1\" >1.000000</td>\n",
       "                        <td id=\"T_cbd5b0e0_2f1f_11eb_8a8a_fdcf6bc28dferow4_col2\" class=\"data row4 col2\" >0.992707</td>\n",
       "                        <td id=\"T_cbd5b0e0_2f1f_11eb_8a8a_fdcf6bc28dferow4_col3\" class=\"data row4 col3\" >5</td>\n",
       "            </tr>\n",
       "            <tr>\n",
       "                                <td id=\"T_cbd5b0e0_2f1f_11eb_8a8a_fdcf6bc28dferow5_col0\" class=\"data row5 col0\" >{'estimator__C': 100, 'estimator__kernel': 'rbf'}</td>\n",
       "                        <td id=\"T_cbd5b0e0_2f1f_11eb_8a8a_fdcf6bc28dferow5_col1\" class=\"data row5 col1\" >0.999445</td>\n",
       "                        <td id=\"T_cbd5b0e0_2f1f_11eb_8a8a_fdcf6bc28dferow5_col2\" class=\"data row5 col2\" >0.992390</td>\n",
       "                        <td id=\"T_cbd5b0e0_2f1f_11eb_8a8a_fdcf6bc28dferow5_col3\" class=\"data row5 col3\" >6</td>\n",
       "            </tr>\n",
       "            <tr>\n",
       "                                <td id=\"T_cbd5b0e0_2f1f_11eb_8a8a_fdcf6bc28dferow6_col0\" class=\"data row6 col0\" >{'estimator__C': 1, 'estimator__kernel': 'rbf'}</td>\n",
       "                        <td id=\"T_cbd5b0e0_2f1f_11eb_8a8a_fdcf6bc28dferow6_col1\" class=\"data row6 col1\" >0.994531</td>\n",
       "                        <td id=\"T_cbd5b0e0_2f1f_11eb_8a8a_fdcf6bc28dferow6_col2\" class=\"data row6 col2\" >0.992071</td>\n",
       "                        <td id=\"T_cbd5b0e0_2f1f_11eb_8a8a_fdcf6bc28dferow6_col3\" class=\"data row6 col3\" >7</td>\n",
       "            </tr>\n",
       "            <tr>\n",
       "                                <td id=\"T_cbd5b0e0_2f1f_11eb_8a8a_fdcf6bc28dferow7_col0\" class=\"data row7 col0\" >{'estimator__C': 10, 'estimator__kernel': 'rbf'}</td>\n",
       "                        <td id=\"T_cbd5b0e0_2f1f_11eb_8a8a_fdcf6bc28dferow7_col1\" class=\"data row7 col1\" >0.996829</td>\n",
       "                        <td id=\"T_cbd5b0e0_2f1f_11eb_8a8a_fdcf6bc28dferow7_col2\" class=\"data row7 col2\" >0.990485</td>\n",
       "                        <td id=\"T_cbd5b0e0_2f1f_11eb_8a8a_fdcf6bc28dferow7_col3\" class=\"data row7 col3\" >8</td>\n",
       "            </tr>\n",
       "            <tr>\n",
       "                                <td id=\"T_cbd5b0e0_2f1f_11eb_8a8a_fdcf6bc28dferow8_col0\" class=\"data row8 col0\" >{'estimator__C': 0.1, 'estimator__kernel': 'linear'}</td>\n",
       "                        <td id=\"T_cbd5b0e0_2f1f_11eb_8a8a_fdcf6bc28dferow8_col1\" class=\"data row8 col1\" >0.992232</td>\n",
       "                        <td id=\"T_cbd5b0e0_2f1f_11eb_8a8a_fdcf6bc28dferow8_col2\" class=\"data row8 col2\" >0.990485</td>\n",
       "                        <td id=\"T_cbd5b0e0_2f1f_11eb_8a8a_fdcf6bc28dferow8_col3\" class=\"data row8 col3\" >9</td>\n",
       "            </tr>\n",
       "            <tr>\n",
       "                                <td id=\"T_cbd5b0e0_2f1f_11eb_8a8a_fdcf6bc28dferow9_col0\" class=\"data row9 col0\" >{'estimator__C': 100, 'estimator__kernel': 'poly'}</td>\n",
       "                        <td id=\"T_cbd5b0e0_2f1f_11eb_8a8a_fdcf6bc28dferow9_col1\" class=\"data row9 col1\" >0.997226</td>\n",
       "                        <td id=\"T_cbd5b0e0_2f1f_11eb_8a8a_fdcf6bc28dferow9_col2\" class=\"data row9 col2\" >0.989853</td>\n",
       "                        <td id=\"T_cbd5b0e0_2f1f_11eb_8a8a_fdcf6bc28dferow9_col3\" class=\"data row9 col3\" >10</td>\n",
       "            </tr>\n",
       "            <tr>\n",
       "                                <td id=\"T_cbd5b0e0_2f1f_11eb_8a8a_fdcf6bc28dferow10_col0\" class=\"data row10 col0\" >{'estimator__C': 1000, 'estimator__kernel': 'poly'}</td>\n",
       "                        <td id=\"T_cbd5b0e0_2f1f_11eb_8a8a_fdcf6bc28dferow10_col1\" class=\"data row10 col1\" >0.999604</td>\n",
       "                        <td id=\"T_cbd5b0e0_2f1f_11eb_8a8a_fdcf6bc28dferow10_col2\" class=\"data row10 col2\" >0.987952</td>\n",
       "                        <td id=\"T_cbd5b0e0_2f1f_11eb_8a8a_fdcf6bc28dferow10_col3\" class=\"data row10 col3\" >11</td>\n",
       "            </tr>\n",
       "            <tr>\n",
       "                                <td id=\"T_cbd5b0e0_2f1f_11eb_8a8a_fdcf6bc28dferow11_col0\" class=\"data row11 col0\" >{'estimator__C': 10, 'estimator__kernel': 'poly'}</td>\n",
       "                        <td id=\"T_cbd5b0e0_2f1f_11eb_8a8a_fdcf6bc28dferow11_col1\" class=\"data row11 col1\" >0.993025</td>\n",
       "                        <td id=\"T_cbd5b0e0_2f1f_11eb_8a8a_fdcf6bc28dferow11_col2\" class=\"data row11 col2\" >0.986999</td>\n",
       "                        <td id=\"T_cbd5b0e0_2f1f_11eb_8a8a_fdcf6bc28dferow11_col3\" class=\"data row11 col3\" >12</td>\n",
       "            </tr>\n",
       "            <tr>\n",
       "                                <td id=\"T_cbd5b0e0_2f1f_11eb_8a8a_fdcf6bc28dferow12_col0\" class=\"data row12 col0\" >{'estimator__C': 0.1, 'estimator__kernel': 'rbf'}</td>\n",
       "                        <td id=\"T_cbd5b0e0_2f1f_11eb_8a8a_fdcf6bc28dferow12_col1\" class=\"data row12 col1\" >0.987714</td>\n",
       "                        <td id=\"T_cbd5b0e0_2f1f_11eb_8a8a_fdcf6bc28dferow12_col2\" class=\"data row12 col2\" >0.986997</td>\n",
       "                        <td id=\"T_cbd5b0e0_2f1f_11eb_8a8a_fdcf6bc28dferow12_col3\" class=\"data row12 col3\" >13</td>\n",
       "            </tr>\n",
       "            <tr>\n",
       "                                <td id=\"T_cbd5b0e0_2f1f_11eb_8a8a_fdcf6bc28dferow13_col0\" class=\"data row13 col0\" >{'estimator__C': 1, 'estimator__kernel': 'poly'}</td>\n",
       "                        <td id=\"T_cbd5b0e0_2f1f_11eb_8a8a_fdcf6bc28dferow13_col1\" class=\"data row13 col1\" >0.964252</td>\n",
       "                        <td id=\"T_cbd5b0e0_2f1f_11eb_8a8a_fdcf6bc28dferow13_col2\" class=\"data row13 col2\" >0.961316</td>\n",
       "                        <td id=\"T_cbd5b0e0_2f1f_11eb_8a8a_fdcf6bc28dferow13_col3\" class=\"data row13 col3\" >14</td>\n",
       "            </tr>\n",
       "            <tr>\n",
       "                                <td id=\"T_cbd5b0e0_2f1f_11eb_8a8a_fdcf6bc28dferow14_col0\" class=\"data row14 col0\" >{'estimator__C': 0.1, 'estimator__kernel': 'poly'}</td>\n",
       "                        <td id=\"T_cbd5b0e0_2f1f_11eb_8a8a_fdcf6bc28dferow14_col1\" class=\"data row14 col1\" >0.896560</td>\n",
       "                        <td id=\"T_cbd5b0e0_2f1f_11eb_8a8a_fdcf6bc28dferow14_col2\" class=\"data row14 col2\" >0.893464</td>\n",
       "                        <td id=\"T_cbd5b0e0_2f1f_11eb_8a8a_fdcf6bc28dferow14_col3\" class=\"data row14 col3\" >15</td>\n",
       "            </tr>\n",
       "    </tbody></table>"
      ],
      "text/plain": [
       "<pandas.io.formats.style.Styler at 0x7f415aa792b0>"
      ]
     },
     "execution_count": 17,
     "metadata": {},
     "output_type": "execute_result"
    }
   ],
   "source": [
    "df = pd.DataFrame(grid.cv_results_)[['params', 'mean_train_score', 'mean_test_score', 'rank_test_score']].sort_values(by='rank_test_score')\n",
    "df.rename(columns={'mean_test_score': 'mean_val_score', \n",
    "                   'rank_test_score': 'rank_val_score'}, inplace=True)\n",
    "\n",
    "df.head(15).style.apply(highlight_equal, value=1, column=['rank_val_score'], axis=1).hide_index()"
   ]
  },
  {
   "cell_type": "code",
   "execution_count": 18,
   "metadata": {},
   "outputs": [
    {
     "data": {
      "text/plain": [
       "0.9952471482889734"
      ]
     },
     "execution_count": 18,
     "metadata": {},
     "output_type": "execute_result"
    }
   ],
   "source": [
    "accuracy_score(grid.best_estimator_.predict(X_test), y_test)"
   ]
  },
  {
   "cell_type": "code",
   "execution_count": 19,
   "metadata": {},
   "outputs": [
    {
     "data": {
      "image/png": "[encoded data removed]",
      "text/plain": [
       "<Figure size 432x288 with 1 Axes>"
      ]
     },
     "metadata": {
      "needs_background": "light"
     },
     "output_type": "display_data"
    }
   ],
   "source": [
    "plot_learning_curve(grid.best_estimator_, X, y)"
   ]
  },
  {
   "cell_type": "markdown",
   "metadata": {},
   "source": [
    "## Neural Network"
   ]
  },
  {
   "cell_type": "code",
   "execution_count": null,
   "metadata": {},
   "outputs": [],
   "source": []
  },
  {
   "cell_type": "markdown",
   "metadata": {},
   "source": [
    "## Naive Bayes"
   ]
  },
  {
   "cell_type": "code",
   "execution_count": null,
   "metadata": {},
   "outputs": [],
   "source": []
  },
  {
   "cell_type": "markdown",
   "metadata": {},
   "source": [
    "## Random Forest"
   ]
  },
  {
   "cell_type": "code",
   "execution_count": null,
   "metadata": {},
   "outputs": [],
   "source": []
  },
  {
   "cell_type": "markdown",
   "metadata": {},
   "source": [
    "## Decision Tree"
   ]
  },
  {
   "cell_type": "code",
   "execution_count": null,
   "metadata": {},
   "outputs": [],
   "source": []
  },
  {
   "cell_type": "markdown",
   "metadata": {},
   "source": [
    "## K-Nearest Neighbors"
   ]
  },
  {
   "cell_type": "code",
   "execution_count": null,
   "metadata": {},
   "outputs": [],
   "source": []
  }
 ],
 "metadata": {
  "kernelspec": {
   "display_name": "Python 3",
   "language": "python",
   "name": "python3"
  },
  "language_info": {
   "codemirror_mode": {
    "name": "ipython",
    "version": 3
   },
   "file_extension": ".py",
   "mimetype": "text/x-python",
   "name": "python",
   "nbconvert_exporter": "python",
   "pygments_lexer": "ipython3",
   "version": "3.8.6"
  }
 },
 "nbformat": 4,
 "nbformat_minor": 4
}
