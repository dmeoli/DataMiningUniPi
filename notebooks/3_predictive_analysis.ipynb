{
 "cells": [
  {
   "cell_type": "markdown",
   "metadata": {},
   "source": [
    "# Task 3: Predictive Analysis"
   ]
  },
  {
   "cell_type": "code",
   "execution_count": 1,
   "metadata": {},
   "outputs": [],
   "source": [
    "import numpy as np\n",
    "import pandas as pd\n",
    "import matplotlib.pyplot as plt\n",
    "from sklearn.pipeline import Pipeline\n",
    "from sklearn.metrics import accuracy_score\n",
    "from sklearn.preprocessing import StandardScaler\n",
    "from sklearn.model_selection import train_test_split, GridSearchCV, learning_curve"
   ]
  },
  {
   "cell_type": "markdown",
   "metadata": {},
   "source": [
    "## Loading the Customer Profile model"
   ]
  },
  {
   "cell_type": "code",
   "execution_count": 2,
   "metadata": {},
   "outputs": [
    {
     "data": {
      "text/html": [
       "<div>\n",
       "<style scoped>\n",
       "    .dataframe tbody tr th:only-of-type {\n",
       "        vertical-align: middle;\n",
       "    }\n",
       "\n",
       "    .dataframe tbody tr th {\n",
       "        vertical-align: top;\n",
       "    }\n",
       "\n",
       "    .dataframe thead th {\n",
       "        text-align: right;\n",
       "    }\n",
       "</style>\n",
       "<table border=\"1\" class=\"dataframe\">\n",
       "  <thead>\n",
       "    <tr style=\"text-align: right;\">\n",
       "      <th></th>\n",
       "      <th>I</th>\n",
       "      <th>Iu</th>\n",
       "      <th>Imax</th>\n",
       "      <th>E</th>\n",
       "      <th>Savg</th>\n",
       "      <th>R</th>\n",
       "      <th>F</th>\n",
       "      <th>M</th>\n",
       "      <th>cluster</th>\n",
       "    </tr>\n",
       "    <tr>\n",
       "      <th>CustomerID</th>\n",
       "      <th></th>\n",
       "      <th></th>\n",
       "      <th></th>\n",
       "      <th></th>\n",
       "      <th></th>\n",
       "      <th></th>\n",
       "      <th></th>\n",
       "      <th></th>\n",
       "      <th></th>\n",
       "    </tr>\n",
       "  </thead>\n",
       "  <tbody>\n",
       "    <tr>\n",
       "      <th>12347.0</th>\n",
       "      <td>7.668094</td>\n",
       "      <td>4.465908</td>\n",
       "      <td>6.516193</td>\n",
       "      <td>1.467671</td>\n",
       "      <td>6.396432</td>\n",
       "      <td>3.691376</td>\n",
       "      <td>5.017280</td>\n",
       "      <td>8.188192</td>\n",
       "      <td>high</td>\n",
       "    </tr>\n",
       "    <tr>\n",
       "      <th>12348.0</th>\n",
       "      <td>6.988413</td>\n",
       "      <td>2.197225</td>\n",
       "      <td>6.396930</td>\n",
       "      <td>0.974688</td>\n",
       "      <td>5.566358</td>\n",
       "      <td>4.332048</td>\n",
       "      <td>2.397895</td>\n",
       "      <td>6.664970</td>\n",
       "      <td>medium</td>\n",
       "    </tr>\n",
       "    <tr>\n",
       "      <th>12349.0</th>\n",
       "      <td>6.445720</td>\n",
       "      <td>4.276666</td>\n",
       "      <td>6.445720</td>\n",
       "      <td>1.387111</td>\n",
       "      <td>7.284512</td>\n",
       "      <td>2.949688</td>\n",
       "      <td>4.276666</td>\n",
       "      <td>7.284512</td>\n",
       "      <td>high</td>\n",
       "    </tr>\n",
       "    <tr>\n",
       "      <th>12350.0</th>\n",
       "      <td>5.278115</td>\n",
       "      <td>2.772589</td>\n",
       "      <td>5.278115</td>\n",
       "      <td>0.955511</td>\n",
       "      <td>5.684939</td>\n",
       "      <td>5.740114</td>\n",
       "      <td>2.772589</td>\n",
       "      <td>5.684939</td>\n",
       "      <td>medium</td>\n",
       "    </tr>\n",
       "    <tr>\n",
       "      <th>12352.0</th>\n",
       "      <td>6.137727</td>\n",
       "      <td>4.043051</td>\n",
       "      <td>4.828314</td>\n",
       "      <td>1.181226</td>\n",
       "      <td>5.351392</td>\n",
       "      <td>4.291828</td>\n",
       "      <td>4.248495</td>\n",
       "      <td>7.143151</td>\n",
       "      <td>medium</td>\n",
       "    </tr>\n",
       "    <tr>\n",
       "      <th>...</th>\n",
       "      <td>...</td>\n",
       "      <td>...</td>\n",
       "      <td>...</td>\n",
       "      <td>...</td>\n",
       "      <td>...</td>\n",
       "      <td>...</td>\n",
       "      <td>...</td>\n",
       "      <td>...</td>\n",
       "      <td>...</td>\n",
       "    </tr>\n",
       "    <tr>\n",
       "      <th>18280.0</th>\n",
       "      <td>3.806662</td>\n",
       "      <td>2.302585</td>\n",
       "      <td>3.806662</td>\n",
       "      <td>0.666002</td>\n",
       "      <td>5.196285</td>\n",
       "      <td>5.075799</td>\n",
       "      <td>2.302585</td>\n",
       "      <td>5.196285</td>\n",
       "      <td>low</td>\n",
       "    </tr>\n",
       "    <tr>\n",
       "      <th>18281.0</th>\n",
       "      <td>3.988984</td>\n",
       "      <td>1.945910</td>\n",
       "      <td>3.988984</td>\n",
       "      <td>0.663909</td>\n",
       "      <td>4.392224</td>\n",
       "      <td>1.410987</td>\n",
       "      <td>1.945910</td>\n",
       "      <td>4.392224</td>\n",
       "      <td>low</td>\n",
       "    </tr>\n",
       "    <tr>\n",
       "      <th>18282.0</th>\n",
       "      <td>4.584967</td>\n",
       "      <td>2.484907</td>\n",
       "      <td>4.248495</td>\n",
       "      <td>1.138492</td>\n",
       "      <td>4.480740</td>\n",
       "      <td>5.375741</td>\n",
       "      <td>2.484907</td>\n",
       "      <td>5.173887</td>\n",
       "      <td>low</td>\n",
       "    </tr>\n",
       "    <tr>\n",
       "      <th>18283.0</th>\n",
       "      <td>7.211557</td>\n",
       "      <td>5.568345</td>\n",
       "      <td>5.484797</td>\n",
       "      <td>1.003273</td>\n",
       "      <td>4.847910</td>\n",
       "      <td>2.312535</td>\n",
       "      <td>6.577861</td>\n",
       "      <td>7.620499</td>\n",
       "      <td>high</td>\n",
       "    </tr>\n",
       "    <tr>\n",
       "      <th>18287.0</th>\n",
       "      <td>7.368970</td>\n",
       "      <td>4.077537</td>\n",
       "      <td>6.897705</td>\n",
       "      <td>1.458201</td>\n",
       "      <td>6.417429</td>\n",
       "      <td>-2.302585</td>\n",
       "      <td>4.248495</td>\n",
       "      <td>7.516041</td>\n",
       "      <td>high</td>\n",
       "    </tr>\n",
       "  </tbody>\n",
       "</table>\n",
       "<p>4206 rows × 9 columns</p>\n",
       "</div>"
      ],
      "text/plain": [
       "                   I        Iu      Imax         E      Savg         R  \\\n",
       "CustomerID                                                               \n",
       "12347.0     7.668094  4.465908  6.516193  1.467671  6.396432  3.691376   \n",
       "12348.0     6.988413  2.197225  6.396930  0.974688  5.566358  4.332048   \n",
       "12349.0     6.445720  4.276666  6.445720  1.387111  7.284512  2.949688   \n",
       "12350.0     5.278115  2.772589  5.278115  0.955511  5.684939  5.740114   \n",
       "12352.0     6.137727  4.043051  4.828314  1.181226  5.351392  4.291828   \n",
       "...              ...       ...       ...       ...       ...       ...   \n",
       "18280.0     3.806662  2.302585  3.806662  0.666002  5.196285  5.075799   \n",
       "18281.0     3.988984  1.945910  3.988984  0.663909  4.392224  1.410987   \n",
       "18282.0     4.584967  2.484907  4.248495  1.138492  4.480740  5.375741   \n",
       "18283.0     7.211557  5.568345  5.484797  1.003273  4.847910  2.312535   \n",
       "18287.0     7.368970  4.077537  6.897705  1.458201  6.417429 -2.302585   \n",
       "\n",
       "                   F         M cluster  \n",
       "CustomerID                              \n",
       "12347.0     5.017280  8.188192    high  \n",
       "12348.0     2.397895  6.664970  medium  \n",
       "12349.0     4.276666  7.284512    high  \n",
       "12350.0     2.772589  5.684939  medium  \n",
       "12352.0     4.248495  7.143151  medium  \n",
       "...              ...       ...     ...  \n",
       "18280.0     2.302585  5.196285     low  \n",
       "18281.0     1.945910  4.392224     low  \n",
       "18282.0     2.484907  5.173887     low  \n",
       "18283.0     6.577861  7.620499    high  \n",
       "18287.0     4.248495  7.516041    high  \n",
       "\n",
       "[4206 rows x 9 columns]"
      ]
     },
     "execution_count": 2,
     "metadata": {},
     "output_type": "execute_result"
    }
   ],
   "source": [
    "customer_profile = pd.read_csv('../dataset/customer_profile_kmeans.csv', sep='\\t', index_col=0)\n",
    "customer_profile"
   ]
  },
  {
   "cell_type": "code",
   "execution_count": 3,
   "metadata": {},
   "outputs": [],
   "source": [
    "customer_profile = customer_profile.to_numpy()"
   ]
  },
  {
   "cell_type": "code",
   "execution_count": 4,
   "metadata": {},
   "outputs": [],
   "source": [
    "def plot_learning_curve(pipeline, X, y, scorer='accuracy', cv=5, train_sizes=np.linspace(.1, 1.0, 5), \n",
    "                        shuffle=False, random_state=None):\n",
    "\n",
    "    train_sizes, train_scores, test_scores = learning_curve(pipeline, X, y, train_sizes=train_sizes, cv=cv,\n",
    "                                                            scoring=scorer, n_jobs=-1, shuffle=shuffle,\n",
    "                                                            random_state=random_state)\n",
    "\n",
    "    mean_train_score = np.mean(train_scores, axis=1)\n",
    "    std_train_score = np.std(train_scores, axis=1)\n",
    "    mean_test_score = np.mean(test_scores, axis=1)\n",
    "    std_test_score = np.std(test_scores, axis=1)\n",
    "\n",
    "    plt.title(str(pipeline['estimator'].__class__.__name__) + ' learning curve')\n",
    "    plt.xlabel('training set size')\n",
    "    plt.ylabel('score')\n",
    "\n",
    "    plt.plot(train_sizes, mean_train_score, label='train score', color='navy', marker='.', lw=2)\n",
    "    plt.fill_between(train_sizes, mean_train_score + std_train_score,\n",
    "                     mean_train_score - std_train_score, color='navy', alpha=0.2)\n",
    "    plt.plot(train_sizes, mean_test_score, label='cross-validation score', color='darkorange', marker='.', lw=2)\n",
    "    plt.fill_between(train_sizes, mean_test_score + std_test_score,\n",
    "                     mean_test_score - std_test_score, color='darkorange', alpha=0.2)\n",
    "\n",
    "    plt.legend().get_frame().set_facecolor('white')\n",
    "    plt.show()\n",
    "    \n",
    "def highlight_equal(s, value, column):\n",
    "    is_max = pd.Series(data=False, index=s.index)\n",
    "    is_max[column] = s.loc[column] == value\n",
    "    return ['background-color: lightyellow' if is_max.any() else '' for v in is_max]"
   ]
  },
  {
   "cell_type": "markdown",
   "metadata": {},
   "source": [
    "## SVC"
   ]
  },
  {
   "cell_type": "code",
   "execution_count": 5,
   "metadata": {},
   "outputs": [],
   "source": [
    "from sklearn.svm import SVC"
   ]
  },
  {
   "cell_type": "code",
   "execution_count": 7,
   "metadata": {},
   "outputs": [
    {
     "name": "stdout",
     "output_type": "stream",
     "text": [
      "Fitting 5 folds for each of 15 candidates, totalling 75 fits\n"
     ]
    },
    {
     "name": "stderr",
     "output_type": "stream",
     "text": [
      "[Parallel(n_jobs=-1)]: Using backend LokyBackend with 8 concurrent workers.\n",
      "[Parallel(n_jobs=-1)]: Done  34 tasks      | elapsed:    1.3s\n",
      "[Parallel(n_jobs=-1)]: Done  60 out of  75 | elapsed:    1.7s remaining:    0.4s\n",
      "[Parallel(n_jobs=-1)]: Done  75 out of  75 | elapsed:    1.7s finished\n"
     ]
    }
   ],
   "source": [
    "X, y = customer_profile[:, :-1], customer_profile[:, -1]\n",
    "\n",
    "X_train, X_test, y_train, y_test = train_test_split(X, y, test_size=0.25, stratify=y)\n",
    "\n",
    "pipeline = Pipeline([('scaler', StandardScaler()), \n",
    "                     ('estimator', SVC())])\n",
    "\n",
    "tuned_parameters = {'estimator__kernel': ('linear', 'poly', 'rbf'),\n",
    "                    'estimator__C': (0.1, 1, 10, 100, 1000)}\n",
    "\n",
    "grid = GridSearchCV(pipeline,\n",
    "                    param_grid=tuned_parameters,\n",
    "                    scoring='accuracy',\n",
    "                    cv=5,  # 5 fold cross validation\n",
    "                    n_jobs=-1,  # use all processors\n",
    "                    refit=True,  # refit the best model on the full development set\n",
    "                    return_train_score=True,\n",
    "                    verbose=True).fit(X_train, y_train)"
   ]
  },
  {
   "cell_type": "code",
   "execution_count": 8,
   "metadata": {},
   "outputs": [
    {
     "data": {
      "text/html": [
       "<style  type=\"text/css\" >\n",
       "    #T_af55ff38_2e8e_11eb_8a8a_fdcf6bc28dferow0_col0 {\n",
       "            background-color:  lightyellow;\n",
       "        }    #T_af55ff38_2e8e_11eb_8a8a_fdcf6bc28dferow0_col1 {\n",
       "            background-color:  lightyellow;\n",
       "        }    #T_af55ff38_2e8e_11eb_8a8a_fdcf6bc28dferow0_col2 {\n",
       "            background-color:  lightyellow;\n",
       "        }    #T_af55ff38_2e8e_11eb_8a8a_fdcf6bc28dferow0_col3 {\n",
       "            background-color:  lightyellow;\n",
       "        }</style><table id=\"T_af55ff38_2e8e_11eb_8a8a_fdcf6bc28dfe\" ><thead>    <tr>        <th class=\"col_heading level0 col0\" >params</th>        <th class=\"col_heading level0 col1\" >mean_train_score</th>        <th class=\"col_heading level0 col2\" >mean_val_score</th>        <th class=\"col_heading level0 col3\" >rank_val_score</th>    </tr></thead><tbody>\n",
       "                <tr>\n",
       "                                <td id=\"T_af55ff38_2e8e_11eb_8a8a_fdcf6bc28dferow0_col0\" class=\"data row0 col0\" >{'estimator__C': 100, 'estimator__kernel': 'linear'}</td>\n",
       "                        <td id=\"T_af55ff38_2e8e_11eb_8a8a_fdcf6bc28dferow0_col1\" class=\"data row0 col1\" >0.999524</td>\n",
       "                        <td id=\"T_af55ff38_2e8e_11eb_8a8a_fdcf6bc28dferow0_col2\" class=\"data row0 col2\" >0.998098</td>\n",
       "                        <td id=\"T_af55ff38_2e8e_11eb_8a8a_fdcf6bc28dferow0_col3\" class=\"data row0 col3\" >1</td>\n",
       "            </tr>\n",
       "            <tr>\n",
       "                                <td id=\"T_af55ff38_2e8e_11eb_8a8a_fdcf6bc28dferow1_col0\" class=\"data row1 col0\" >{'estimator__C': 1000, 'estimator__kernel': 'linear'}</td>\n",
       "                        <td id=\"T_af55ff38_2e8e_11eb_8a8a_fdcf6bc28dferow1_col1\" class=\"data row1 col1\" >0.999841</td>\n",
       "                        <td id=\"T_af55ff38_2e8e_11eb_8a8a_fdcf6bc28dferow1_col2\" class=\"data row1 col2\" >0.997781</td>\n",
       "                        <td id=\"T_af55ff38_2e8e_11eb_8a8a_fdcf6bc28dferow1_col3\" class=\"data row1 col3\" >2</td>\n",
       "            </tr>\n",
       "            <tr>\n",
       "                                <td id=\"T_af55ff38_2e8e_11eb_8a8a_fdcf6bc28dferow2_col0\" class=\"data row2 col0\" >{'estimator__C': 10, 'estimator__kernel': 'linear'}</td>\n",
       "                        <td id=\"T_af55ff38_2e8e_11eb_8a8a_fdcf6bc28dferow2_col1\" class=\"data row2 col1\" >0.998494</td>\n",
       "                        <td id=\"T_af55ff38_2e8e_11eb_8a8a_fdcf6bc28dferow2_col2\" class=\"data row2 col2\" >0.996196</td>\n",
       "                        <td id=\"T_af55ff38_2e8e_11eb_8a8a_fdcf6bc28dferow2_col3\" class=\"data row2 col3\" >3</td>\n",
       "            </tr>\n",
       "            <tr>\n",
       "                                <td id=\"T_af55ff38_2e8e_11eb_8a8a_fdcf6bc28dferow3_col0\" class=\"data row3 col0\" >{'estimator__C': 1, 'estimator__kernel': 'linear'}</td>\n",
       "                        <td id=\"T_af55ff38_2e8e_11eb_8a8a_fdcf6bc28dferow3_col1\" class=\"data row3 col1\" >0.996909</td>\n",
       "                        <td id=\"T_af55ff38_2e8e_11eb_8a8a_fdcf6bc28dferow3_col2\" class=\"data row3 col2\" >0.993977</td>\n",
       "                        <td id=\"T_af55ff38_2e8e_11eb_8a8a_fdcf6bc28dferow3_col3\" class=\"data row3 col3\" >4</td>\n",
       "            </tr>\n",
       "            <tr>\n",
       "                                <td id=\"T_af55ff38_2e8e_11eb_8a8a_fdcf6bc28dferow4_col0\" class=\"data row4 col0\" >{'estimator__C': 100, 'estimator__kernel': 'rbf'}</td>\n",
       "                        <td id=\"T_af55ff38_2e8e_11eb_8a8a_fdcf6bc28dferow4_col1\" class=\"data row4 col1\" >0.999287</td>\n",
       "                        <td id=\"T_af55ff38_2e8e_11eb_8a8a_fdcf6bc28dferow4_col2\" class=\"data row4 col2\" >0.992391</td>\n",
       "                        <td id=\"T_af55ff38_2e8e_11eb_8a8a_fdcf6bc28dferow4_col3\" class=\"data row4 col3\" >5</td>\n",
       "            </tr>\n",
       "            <tr>\n",
       "                                <td id=\"T_af55ff38_2e8e_11eb_8a8a_fdcf6bc28dferow5_col0\" class=\"data row5 col0\" >{'estimator__C': 1000, 'estimator__kernel': 'rbf'}</td>\n",
       "                        <td id=\"T_af55ff38_2e8e_11eb_8a8a_fdcf6bc28dferow5_col1\" class=\"data row5 col1\" >1.000000</td>\n",
       "                        <td id=\"T_af55ff38_2e8e_11eb_8a8a_fdcf6bc28dferow5_col2\" class=\"data row5 col2\" >0.991123</td>\n",
       "                        <td id=\"T_af55ff38_2e8e_11eb_8a8a_fdcf6bc28dferow5_col3\" class=\"data row5 col3\" >6</td>\n",
       "            </tr>\n",
       "            <tr>\n",
       "                                <td id=\"T_af55ff38_2e8e_11eb_8a8a_fdcf6bc28dferow6_col0\" class=\"data row6 col0\" >{'estimator__C': 100, 'estimator__kernel': 'poly'}</td>\n",
       "                        <td id=\"T_af55ff38_2e8e_11eb_8a8a_fdcf6bc28dferow6_col1\" class=\"data row6 col1\" >0.998256</td>\n",
       "                        <td id=\"T_af55ff38_2e8e_11eb_8a8a_fdcf6bc28dferow6_col2\" class=\"data row6 col2\" >0.990808</td>\n",
       "                        <td id=\"T_af55ff38_2e8e_11eb_8a8a_fdcf6bc28dferow6_col3\" class=\"data row6 col3\" >7</td>\n",
       "            </tr>\n",
       "            <tr>\n",
       "                                <td id=\"T_af55ff38_2e8e_11eb_8a8a_fdcf6bc28dferow7_col0\" class=\"data row7 col0\" >{'estimator__C': 0.1, 'estimator__kernel': 'linear'}</td>\n",
       "                        <td id=\"T_af55ff38_2e8e_11eb_8a8a_fdcf6bc28dferow7_col1\" class=\"data row7 col1\" >0.991915</td>\n",
       "                        <td id=\"T_af55ff38_2e8e_11eb_8a8a_fdcf6bc28dferow7_col2\" class=\"data row7 col2\" >0.990171</td>\n",
       "                        <td id=\"T_af55ff38_2e8e_11eb_8a8a_fdcf6bc28dferow7_col3\" class=\"data row7 col3\" >8</td>\n",
       "            </tr>\n",
       "            <tr>\n",
       "                                <td id=\"T_af55ff38_2e8e_11eb_8a8a_fdcf6bc28dferow8_col0\" class=\"data row8 col0\" >{'estimator__C': 10, 'estimator__kernel': 'rbf'}</td>\n",
       "                        <td id=\"T_af55ff38_2e8e_11eb_8a8a_fdcf6bc28dferow8_col1\" class=\"data row8 col1\" >0.997543</td>\n",
       "                        <td id=\"T_af55ff38_2e8e_11eb_8a8a_fdcf6bc28dferow8_col2\" class=\"data row8 col2\" >0.989538</td>\n",
       "                        <td id=\"T_af55ff38_2e8e_11eb_8a8a_fdcf6bc28dferow8_col3\" class=\"data row8 col3\" >9</td>\n",
       "            </tr>\n",
       "            <tr>\n",
       "                                <td id=\"T_af55ff38_2e8e_11eb_8a8a_fdcf6bc28dferow9_col0\" class=\"data row9 col0\" >{'estimator__C': 1000, 'estimator__kernel': 'poly'}</td>\n",
       "                        <td id=\"T_af55ff38_2e8e_11eb_8a8a_fdcf6bc28dferow9_col1\" class=\"data row9 col1\" >0.999683</td>\n",
       "                        <td id=\"T_af55ff38_2e8e_11eb_8a8a_fdcf6bc28dferow9_col2\" class=\"data row9 col2\" >0.988271</td>\n",
       "                        <td id=\"T_af55ff38_2e8e_11eb_8a8a_fdcf6bc28dferow9_col3\" class=\"data row9 col3\" >10</td>\n",
       "            </tr>\n",
       "            <tr>\n",
       "                                <td id=\"T_af55ff38_2e8e_11eb_8a8a_fdcf6bc28dferow10_col0\" class=\"data row10 col0\" >{'estimator__C': 1, 'estimator__kernel': 'rbf'}</td>\n",
       "                        <td id=\"T_af55ff38_2e8e_11eb_8a8a_fdcf6bc28dferow10_col1\" class=\"data row10 col1\" >0.992074</td>\n",
       "                        <td id=\"T_af55ff38_2e8e_11eb_8a8a_fdcf6bc28dferow10_col2\" class=\"data row10 col2\" >0.986051</td>\n",
       "                        <td id=\"T_af55ff38_2e8e_11eb_8a8a_fdcf6bc28dferow10_col3\" class=\"data row10 col3\" >11</td>\n",
       "            </tr>\n",
       "            <tr>\n",
       "                                <td id=\"T_af55ff38_2e8e_11eb_8a8a_fdcf6bc28dferow11_col0\" class=\"data row11 col0\" >{'estimator__C': 10, 'estimator__kernel': 'poly'}</td>\n",
       "                        <td id=\"T_af55ff38_2e8e_11eb_8a8a_fdcf6bc28dferow11_col1\" class=\"data row11 col1\" >0.988982</td>\n",
       "                        <td id=\"T_af55ff38_2e8e_11eb_8a8a_fdcf6bc28dferow11_col2\" class=\"data row11 col2\" >0.981293</td>\n",
       "                        <td id=\"T_af55ff38_2e8e_11eb_8a8a_fdcf6bc28dferow11_col3\" class=\"data row11 col3\" >12</td>\n",
       "            </tr>\n",
       "            <tr>\n",
       "                                <td id=\"T_af55ff38_2e8e_11eb_8a8a_fdcf6bc28dferow12_col0\" class=\"data row12 col0\" >{'estimator__C': 0.1, 'estimator__kernel': 'rbf'}</td>\n",
       "                        <td id=\"T_af55ff38_2e8e_11eb_8a8a_fdcf6bc28dferow12_col1\" class=\"data row12 col1\" >0.985257</td>\n",
       "                        <td id=\"T_af55ff38_2e8e_11eb_8a8a_fdcf6bc28dferow12_col2\" class=\"data row12 col2\" >0.981292</td>\n",
       "                        <td id=\"T_af55ff38_2e8e_11eb_8a8a_fdcf6bc28dferow12_col3\" class=\"data row12 col3\" >13</td>\n",
       "            </tr>\n",
       "            <tr>\n",
       "                                <td id=\"T_af55ff38_2e8e_11eb_8a8a_fdcf6bc28dferow13_col0\" class=\"data row13 col0\" >{'estimator__C': 1, 'estimator__kernel': 'poly'}</td>\n",
       "                        <td id=\"T_af55ff38_2e8e_11eb_8a8a_fdcf6bc28dferow13_col1\" class=\"data row13 col1\" >0.957356</td>\n",
       "                        <td id=\"T_af55ff38_2e8e_11eb_8a8a_fdcf6bc28dferow13_col2\" class=\"data row13 col2\" >0.951174</td>\n",
       "                        <td id=\"T_af55ff38_2e8e_11eb_8a8a_fdcf6bc28dferow13_col3\" class=\"data row13 col3\" >14</td>\n",
       "            </tr>\n",
       "            <tr>\n",
       "                                <td id=\"T_af55ff38_2e8e_11eb_8a8a_fdcf6bc28dferow14_col0\" class=\"data row14 col0\" >{'estimator__C': 0.1, 'estimator__kernel': 'poly'}</td>\n",
       "                        <td id=\"T_af55ff38_2e8e_11eb_8a8a_fdcf6bc28dferow14_col1\" class=\"data row14 col1\" >0.883481</td>\n",
       "                        <td id=\"T_af55ff38_2e8e_11eb_8a8a_fdcf6bc28dferow14_col2\" class=\"data row14 col2\" >0.880778</td>\n",
       "                        <td id=\"T_af55ff38_2e8e_11eb_8a8a_fdcf6bc28dferow14_col3\" class=\"data row14 col3\" >15</td>\n",
       "            </tr>\n",
       "    </tbody></table>"
      ],
      "text/plain": [
       "<pandas.io.formats.style.Styler at 0x7f41b4556cd0>"
      ]
     },
     "execution_count": 8,
     "metadata": {},
     "output_type": "execute_result"
    }
   ],
   "source": [
    "df = pd.DataFrame(grid.cv_results_)[['params', 'mean_train_score', 'mean_test_score', 'rank_test_score']].sort_values(by='rank_test_score')\n",
    "df.rename(columns={'mean_test_score': 'mean_val_score', \n",
    "                   'rank_test_score': 'rank_val_score'}, inplace=True)\n",
    "\n",
    "df.head(15).style.apply(highlight_equal, value=1, column=['rank_val_score'], axis=1).hide_index()"
   ]
  },
  {
   "cell_type": "code",
   "execution_count": 9,
   "metadata": {},
   "outputs": [
    {
     "data": {
      "text/plain": [
       "0.9952471482889734"
      ]
     },
     "execution_count": 9,
     "metadata": {},
     "output_type": "execute_result"
    }
   ],
   "source": [
    "accuracy_score(grid.best_estimator_.predict(X_test), y_test)"
   ]
  },
  {
   "cell_type": "code",
   "execution_count": 10,
   "metadata": {},
   "outputs": [
    {
     "data": {
      "image/png": "[encoded data removed]",
      "text/plain": [
       "<Figure size 432x288 with 1 Axes>"
      ]
     },
     "metadata": {
      "needs_background": "light"
     },
     "output_type": "display_data"
    }
   ],
   "source": [
    "plot_learning_curve(grid.best_estimator_, X, y)"
   ]
  },
  {
   "cell_type": "markdown",
   "metadata": {},
   "source": [
    "## Naive Bayes"
   ]
  },
  {
   "cell_type": "code",
   "execution_count": null,
   "metadata": {},
   "outputs": [],
   "source": []
  },
  {
   "cell_type": "markdown",
   "metadata": {},
   "source": [
    "## Random Forest"
   ]
  },
  {
   "cell_type": "code",
   "execution_count": null,
   "metadata": {},
   "outputs": [],
   "source": []
  },
  {
   "cell_type": "markdown",
   "metadata": {},
   "source": [
    "## Gradient Boosting"
   ]
  },
  {
   "cell_type": "code",
   "execution_count": null,
   "metadata": {},
   "outputs": [],
   "source": []
  },
  {
   "cell_type": "markdown",
   "metadata": {},
   "source": [
    "## Decision Tree"
   ]
  },
  {
   "cell_type": "code",
   "execution_count": null,
   "metadata": {},
   "outputs": [],
   "source": []
  },
  {
   "cell_type": "markdown",
   "metadata": {},
   "source": [
    "## K-Nearest Neighbors"
   ]
  },
  {
   "cell_type": "code",
   "execution_count": null,
   "metadata": {},
   "outputs": [],
   "source": []
  },
  {
   "cell_type": "markdown",
   "metadata": {},
   "source": [
    "## Logistic Regression"
   ]
  },
  {
   "cell_type": "code",
   "execution_count": null,
   "metadata": {},
   "outputs": [],
   "source": []
  }
 ],
 "metadata": {
  "kernelspec": {
   "display_name": "Python 3",
   "language": "python",
   "name": "python3"
  },
  "language_info": {
   "codemirror_mode": {
    "name": "ipython",
    "version": 3
   },
   "file_extension": ".py",
   "mimetype": "text/x-python",
   "name": "python",
   "nbconvert_exporter": "python",
   "pygments_lexer": "ipython3",
   "version": "3.8.6"
  }
 },
 "nbformat": 4,
 "nbformat_minor": 4
}
