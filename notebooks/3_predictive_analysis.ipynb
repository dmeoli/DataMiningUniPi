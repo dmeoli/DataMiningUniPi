{
 "cells": [
  {
   "cell_type": "markdown",
   "metadata": {},
   "source": [
    "# Task 3: Predictive Analysis"
   ]
  },
  {
   "cell_type": "code",
   "execution_count": 12,
   "metadata": {},
   "outputs": [],
   "source": [
    "import numpy as np\n",
    "import pandas as pd\n",
    "import matplotlib.pyplot as plt\n",
    "from sklearn.metrics import accuracy_score\n",
    "from sklearn.model_selection import train_test_split, GridSearchCV, learning_curve"
   ]
  },
  {
   "cell_type": "code",
   "execution_count": 13,
   "metadata": {},
   "outputs": [
    {
     "data": {
      "text/html": [
       "<div>\n",
       "<style scoped>\n",
       "    .dataframe tbody tr th:only-of-type {\n",
       "        vertical-align: middle;\n",
       "    }\n",
       "\n",
       "    .dataframe tbody tr th {\n",
       "        vertical-align: top;\n",
       "    }\n",
       "\n",
       "    .dataframe thead th {\n",
       "        text-align: right;\n",
       "    }\n",
       "</style>\n",
       "<table border=\"1\" class=\"dataframe\">\n",
       "  <thead>\n",
       "    <tr style=\"text-align: right;\">\n",
       "      <th></th>\n",
       "      <th>I</th>\n",
       "      <th>Iu</th>\n",
       "      <th>Imax</th>\n",
       "      <th>E</th>\n",
       "      <th>Savg</th>\n",
       "      <th>R</th>\n",
       "      <th>F</th>\n",
       "      <th>M</th>\n",
       "      <th>label</th>\n",
       "    </tr>\n",
       "    <tr>\n",
       "      <th>CustomerID</th>\n",
       "      <th></th>\n",
       "      <th></th>\n",
       "      <th></th>\n",
       "      <th></th>\n",
       "      <th></th>\n",
       "      <th></th>\n",
       "      <th></th>\n",
       "      <th></th>\n",
       "      <th></th>\n",
       "    </tr>\n",
       "  </thead>\n",
       "  <tbody>\n",
       "    <tr>\n",
       "      <th>12747.0</th>\n",
       "      <td>0.870894</td>\n",
       "      <td>0.017546</td>\n",
       "      <td>-0.038273</td>\n",
       "      <td>0.554838</td>\n",
       "      <td>0.336561</td>\n",
       "      <td>-0.500054</td>\n",
       "      <td>0.512319</td>\n",
       "      <td>1.268486</td>\n",
       "      <td>low</td>\n",
       "    </tr>\n",
       "    <tr>\n",
       "      <th>12748.0</th>\n",
       "      <td>3.043268</td>\n",
       "      <td>3.259964</td>\n",
       "      <td>2.254020</td>\n",
       "      <td>0.477904</td>\n",
       "      <td>-0.675782</td>\n",
       "      <td>-1.680426</td>\n",
       "      <td>3.536461</td>\n",
       "      <td>2.969024</td>\n",
       "      <td>low</td>\n",
       "    </tr>\n",
       "    <tr>\n",
       "      <th>12749.0</th>\n",
       "      <td>1.207900</td>\n",
       "      <td>1.196320</td>\n",
       "      <td>1.546322</td>\n",
       "      <td>0.487578</td>\n",
       "      <td>1.414379</td>\n",
       "      <td>-0.500054</td>\n",
       "      <td>1.134077</td>\n",
       "      <td>1.463197</td>\n",
       "      <td>low</td>\n",
       "    </tr>\n",
       "    <tr>\n",
       "      <th>12820.0</th>\n",
       "      <td>0.746231</td>\n",
       "      <td>0.533552</td>\n",
       "      <td>0.549481</td>\n",
       "      <td>0.286244</td>\n",
       "      <td>0.292491</td>\n",
       "      <td>-0.043259</td>\n",
       "      <td>0.425503</td>\n",
       "      <td>0.587988</td>\n",
       "      <td>low</td>\n",
       "    </tr>\n",
       "    <tr>\n",
       "      <th>12821.0</th>\n",
       "      <td>-1.026156</td>\n",
       "      <td>-1.441491</td>\n",
       "      <td>-0.802301</td>\n",
       "      <td>-0.908067</td>\n",
       "      <td>-1.156208</td>\n",
       "      <td>0.473247</td>\n",
       "      <td>-1.441955</td>\n",
       "      <td>-1.426696</td>\n",
       "      <td>medium</td>\n",
       "    </tr>\n",
       "    <tr>\n",
       "      <th>...</th>\n",
       "      <td>...</td>\n",
       "      <td>...</td>\n",
       "      <td>...</td>\n",
       "      <td>...</td>\n",
       "      <td>...</td>\n",
       "      <td>...</td>\n",
       "      <td>...</td>\n",
       "      <td>...</td>\n",
       "      <td>...</td>\n",
       "    </tr>\n",
       "    <tr>\n",
       "      <th>18280.0</th>\n",
       "      <td>-1.436179</td>\n",
       "      <td>-1.051384</td>\n",
       "      <td>-1.363713</td>\n",
       "      <td>-1.031709</td>\n",
       "      <td>-0.385789</td>\n",
       "      <td>0.821730</td>\n",
       "      <td>-1.083852</td>\n",
       "      <td>-0.949103</td>\n",
       "      <td>medium</td>\n",
       "    </tr>\n",
       "    <tr>\n",
       "      <th>18281.0</th>\n",
       "      <td>-1.233447</td>\n",
       "      <td>-1.441491</td>\n",
       "      <td>-1.086128</td>\n",
       "      <td>-1.070446</td>\n",
       "      <td>-1.778062</td>\n",
       "      <td>-1.680426</td>\n",
       "      <td>-1.441955</td>\n",
       "      <td>-1.812192</td>\n",
       "      <td>medium</td>\n",
       "    </tr>\n",
       "    <tr>\n",
       "      <th>18282.0</th>\n",
       "      <td>-1.248452</td>\n",
       "      <td>-1.051384</td>\n",
       "      <td>-1.819487</td>\n",
       "      <td>0.028755</td>\n",
       "      <td>-1.535158</td>\n",
       "      <td>1.026516</td>\n",
       "      <td>-1.083852</td>\n",
       "      <td>-1.103305</td>\n",
       "      <td>medium</td>\n",
       "    </tr>\n",
       "    <tr>\n",
       "      <th>18283.0</th>\n",
       "      <td>1.283552</td>\n",
       "      <td>1.831664</td>\n",
       "      <td>0.536392</td>\n",
       "      <td>-0.058990</td>\n",
       "      <td>-0.507053</td>\n",
       "      <td>-1.064892</td>\n",
       "      <td>2.339313</td>\n",
       "      <td>1.208956</td>\n",
       "      <td>low</td>\n",
       "    </tr>\n",
       "    <tr>\n",
       "      <th>18287.0</th>\n",
       "      <td>0.857113</td>\n",
       "      <td>0.400466</td>\n",
       "      <td>1.252043</td>\n",
       "      <td>0.372544</td>\n",
       "      <td>0.717508</td>\n",
       "      <td>-4.215873</td>\n",
       "      <td>0.312420</td>\n",
       "      <td>0.619743</td>\n",
       "      <td>low</td>\n",
       "    </tr>\n",
       "  </tbody>\n",
       "</table>\n",
       "<p>3682 rows × 9 columns</p>\n",
       "</div>"
      ],
      "text/plain": [
       "                   I        Iu      Imax         E      Savg         R  \\\n",
       "CustomerID                                                               \n",
       "12747.0     0.870894  0.017546 -0.038273  0.554838  0.336561 -0.500054   \n",
       "12748.0     3.043268  3.259964  2.254020  0.477904 -0.675782 -1.680426   \n",
       "12749.0     1.207900  1.196320  1.546322  0.487578  1.414379 -0.500054   \n",
       "12820.0     0.746231  0.533552  0.549481  0.286244  0.292491 -0.043259   \n",
       "12821.0    -1.026156 -1.441491 -0.802301 -0.908067 -1.156208  0.473247   \n",
       "...              ...       ...       ...       ...       ...       ...   \n",
       "18280.0    -1.436179 -1.051384 -1.363713 -1.031709 -0.385789  0.821730   \n",
       "18281.0    -1.233447 -1.441491 -1.086128 -1.070446 -1.778062 -1.680426   \n",
       "18282.0    -1.248452 -1.051384 -1.819487  0.028755 -1.535158  1.026516   \n",
       "18283.0     1.283552  1.831664  0.536392 -0.058990 -0.507053 -1.064892   \n",
       "18287.0     0.857113  0.400466  1.252043  0.372544  0.717508 -4.215873   \n",
       "\n",
       "                   F         M   label  \n",
       "CustomerID                              \n",
       "12747.0     0.512319  1.268486     low  \n",
       "12748.0     3.536461  2.969024     low  \n",
       "12749.0     1.134077  1.463197     low  \n",
       "12820.0     0.425503  0.587988     low  \n",
       "12821.0    -1.441955 -1.426696  medium  \n",
       "...              ...       ...     ...  \n",
       "18280.0    -1.083852 -0.949103  medium  \n",
       "18281.0    -1.441955 -1.812192  medium  \n",
       "18282.0    -1.083852 -1.103305  medium  \n",
       "18283.0     2.339313  1.208956     low  \n",
       "18287.0     0.312420  0.619743     low  \n",
       "\n",
       "[3682 rows x 9 columns]"
      ]
     },
     "execution_count": 13,
     "metadata": {},
     "output_type": "execute_result"
    }
   ],
   "source": [
    "customer_profile = pd.read_csv('../dataset/customer_profile_kmeans.csv', sep='\\t', index_col=0)\n",
    "customer_profile"
   ]
  },
  {
   "cell_type": "code",
   "execution_count": 17,
   "metadata": {},
   "outputs": [],
   "source": [
    "customer_profile = customer_profile.to_numpy()"
   ]
  },
  {
   "cell_type": "code",
   "execution_count": 14,
   "metadata": {},
   "outputs": [],
   "source": [
    "def plot_learning_curve(estimator, X, y, scorer='accuracy', cv=5, train_sizes=np.linspace(.1, 1.0, 5), \n",
    "                        shuffle=False, random_state=None):\n",
    "\n",
    "    train_sizes, train_scores, test_scores = learning_curve(estimator, X, y, train_sizes=train_sizes, cv=cv,\n",
    "                                                            scoring=scorer, n_jobs=-1, shuffle=shuffle,\n",
    "                                                            random_state=random_state)\n",
    "\n",
    "    mean_train_score = np.mean(train_scores, axis=1)\n",
    "    std_train_score = np.std(train_scores, axis=1)\n",
    "    mean_test_score = np.mean(test_scores, axis=1)\n",
    "    std_test_score = np.std(test_scores, axis=1)\n",
    "\n",
    "    plt.title(str(estimator.__class__.__name__) + ' learning curve')\n",
    "    plt.xlabel('training set size')\n",
    "    plt.ylabel('score')\n",
    "\n",
    "    plt.plot(train_sizes, mean_train_score, label='train score', color='navy', marker='.', lw=2)\n",
    "    plt.fill_between(train_sizes, mean_train_score + std_train_score,\n",
    "                     mean_train_score - std_train_score, color='navy', alpha=0.2)\n",
    "    plt.plot(train_sizes, mean_test_score, label='cross-validation score', color='darkorange', marker='.', lw=2)\n",
    "    plt.fill_between(train_sizes, mean_test_score + std_test_score,\n",
    "                     mean_test_score - std_test_score, color='darkorange', alpha=0.2)\n",
    "\n",
    "    plt.legend().get_frame().set_facecolor('white')\n",
    "    plt.show()\n",
    "    \n",
    "def highlight_equal(s, value, column):\n",
    "    is_max = pd.Series(data=False, index=s.index)\n",
    "    is_max[column] = s.loc[column] == value\n",
    "    return ['background-color: lightyellow' if is_max.any() else '' for v in is_max]"
   ]
  },
  {
   "cell_type": "markdown",
   "metadata": {},
   "source": [
    "## SVC"
   ]
  },
  {
   "cell_type": "code",
   "execution_count": 15,
   "metadata": {},
   "outputs": [],
   "source": [
    "from sklearn.svm import SVC"
   ]
  },
  {
   "cell_type": "code",
   "execution_count": 18,
   "metadata": {},
   "outputs": [
    {
     "name": "stdout",
     "output_type": "stream",
     "text": [
      "Fitting 5 folds for each of 15 candidates, totalling 75 fits\n"
     ]
    },
    {
     "name": "stderr",
     "output_type": "stream",
     "text": [
      "[Parallel(n_jobs=-1)]: Using backend LokyBackend with 8 concurrent workers.\n",
      "[Parallel(n_jobs=-1)]: Done  34 tasks      | elapsed:    1.6s\n",
      "[Parallel(n_jobs=-1)]: Done  60 out of  75 | elapsed:    2.0s remaining:    0.5s\n",
      "[Parallel(n_jobs=-1)]: Done  75 out of  75 | elapsed:    2.0s finished\n"
     ]
    }
   ],
   "source": [
    "X, y = customer_profile[:, :-1], customer_profile[:, -1]\n",
    "\n",
    "X_train, X_test, y_train, y_test = train_test_split(X, y, test_size=0.25, stratify=y)\n",
    "\n",
    "tuned_parameters = {'kernel': ('linear', 'poly', 'rbf'),\n",
    "                    'C': (0.1, 1, 10, 100, 1000)}\n",
    "\n",
    "grid = GridSearchCV(SVC(),\n",
    "                    param_grid=tuned_parameters,\n",
    "                    scoring='accuracy',\n",
    "                    cv=5,  # 5 fold cross validation\n",
    "                    n_jobs=-1,  # use all processors\n",
    "                    refit=True,  # refit the best model on the full development set\n",
    "                    return_train_score=True,\n",
    "                    verbose=True).fit(X_train, y_train)"
   ]
  },
  {
   "cell_type": "code",
   "execution_count": 19,
   "metadata": {},
   "outputs": [
    {
     "data": {
      "text/html": [
       "<style  type=\"text/css\" >\n",
       "    #T_17c3b0b6_2a83_11eb_9194_1396418f0ff5row0_col0 {\n",
       "            background-color:  lightyellow;\n",
       "        }    #T_17c3b0b6_2a83_11eb_9194_1396418f0ff5row0_col1 {\n",
       "            background-color:  lightyellow;\n",
       "        }    #T_17c3b0b6_2a83_11eb_9194_1396418f0ff5row0_col2 {\n",
       "            background-color:  lightyellow;\n",
       "        }    #T_17c3b0b6_2a83_11eb_9194_1396418f0ff5row0_col3 {\n",
       "            background-color:  lightyellow;\n",
       "        }</style><table id=\"T_17c3b0b6_2a83_11eb_9194_1396418f0ff5\" ><thead>    <tr>        <th class=\"col_heading level0 col0\" >params</th>        <th class=\"col_heading level0 col1\" >mean_train_score</th>        <th class=\"col_heading level0 col2\" >mean_val_score</th>        <th class=\"col_heading level0 col3\" >rank_val_score</th>    </tr></thead><tbody>\n",
       "                <tr>\n",
       "                                <td id=\"T_17c3b0b6_2a83_11eb_9194_1396418f0ff5row0_col0\" class=\"data row0 col0\" >{'C': 100, 'kernel': 'linear'}</td>\n",
       "                        <td id=\"T_17c3b0b6_2a83_11eb_9194_1396418f0ff5row0_col1\" class=\"data row0 col1\" >0.999004</td>\n",
       "                        <td id=\"T_17c3b0b6_2a83_11eb_9194_1396418f0ff5row0_col2\" class=\"data row0 col2\" >0.997102</td>\n",
       "                        <td id=\"T_17c3b0b6_2a83_11eb_9194_1396418f0ff5row0_col3\" class=\"data row0 col3\" >1</td>\n",
       "            </tr>\n",
       "            <tr>\n",
       "                                <td id=\"T_17c3b0b6_2a83_11eb_9194_1396418f0ff5row1_col0\" class=\"data row1 col0\" >{'C': 1000, 'kernel': 'linear'}</td>\n",
       "                        <td id=\"T_17c3b0b6_2a83_11eb_9194_1396418f0ff5row1_col1\" class=\"data row1 col1\" >0.999547</td>\n",
       "                        <td id=\"T_17c3b0b6_2a83_11eb_9194_1396418f0ff5row1_col2\" class=\"data row1 col2\" >0.996739</td>\n",
       "                        <td id=\"T_17c3b0b6_2a83_11eb_9194_1396418f0ff5row1_col3\" class=\"data row1 col3\" >2</td>\n",
       "            </tr>\n",
       "            <tr>\n",
       "                                <td id=\"T_17c3b0b6_2a83_11eb_9194_1396418f0ff5row2_col0\" class=\"data row2 col0\" >{'C': 10, 'kernel': 'linear'}</td>\n",
       "                        <td id=\"T_17c3b0b6_2a83_11eb_9194_1396418f0ff5row2_col1\" class=\"data row2 col1\" >0.997736</td>\n",
       "                        <td id=\"T_17c3b0b6_2a83_11eb_9194_1396418f0ff5row2_col2\" class=\"data row2 col2\" >0.995292</td>\n",
       "                        <td id=\"T_17c3b0b6_2a83_11eb_9194_1396418f0ff5row2_col3\" class=\"data row2 col3\" >3</td>\n",
       "            </tr>\n",
       "            <tr>\n",
       "                                <td id=\"T_17c3b0b6_2a83_11eb_9194_1396418f0ff5row3_col0\" class=\"data row3 col0\" >{'C': 1, 'kernel': 'linear'}</td>\n",
       "                        <td id=\"T_17c3b0b6_2a83_11eb_9194_1396418f0ff5row3_col1\" class=\"data row3 col1\" >0.994386</td>\n",
       "                        <td id=\"T_17c3b0b6_2a83_11eb_9194_1396418f0ff5row3_col2\" class=\"data row3 col2\" >0.992393</td>\n",
       "                        <td id=\"T_17c3b0b6_2a83_11eb_9194_1396418f0ff5row3_col3\" class=\"data row3 col3\" >4</td>\n",
       "            </tr>\n",
       "            <tr>\n",
       "                                <td id=\"T_17c3b0b6_2a83_11eb_9194_1396418f0ff5row4_col0\" class=\"data row4 col0\" >{'C': 0.1, 'kernel': 'linear'}</td>\n",
       "                        <td id=\"T_17c3b0b6_2a83_11eb_9194_1396418f0ff5row4_col1\" class=\"data row4 col1\" >0.991579</td>\n",
       "                        <td id=\"T_17c3b0b6_2a83_11eb_9194_1396418f0ff5row4_col2\" class=\"data row4 col2\" >0.990944</td>\n",
       "                        <td id=\"T_17c3b0b6_2a83_11eb_9194_1396418f0ff5row4_col3\" class=\"data row4 col3\" >5</td>\n",
       "            </tr>\n",
       "            <tr>\n",
       "                                <td id=\"T_17c3b0b6_2a83_11eb_9194_1396418f0ff5row5_col0\" class=\"data row5 col0\" >{'C': 100, 'kernel': 'rbf'}</td>\n",
       "                        <td id=\"T_17c3b0b6_2a83_11eb_9194_1396418f0ff5row5_col1\" class=\"data row5 col1\" >0.999095</td>\n",
       "                        <td id=\"T_17c3b0b6_2a83_11eb_9194_1396418f0ff5row5_col2\" class=\"data row5 col2\" >0.990583</td>\n",
       "                        <td id=\"T_17c3b0b6_2a83_11eb_9194_1396418f0ff5row5_col3\" class=\"data row5 col3\" >6</td>\n",
       "            </tr>\n",
       "            <tr>\n",
       "                                <td id=\"T_17c3b0b6_2a83_11eb_9194_1396418f0ff5row6_col0\" class=\"data row6 col0\" >{'C': 1000, 'kernel': 'poly'}</td>\n",
       "                        <td id=\"T_17c3b0b6_2a83_11eb_9194_1396418f0ff5row6_col1\" class=\"data row6 col1\" >0.998823</td>\n",
       "                        <td id=\"T_17c3b0b6_2a83_11eb_9194_1396418f0ff5row6_col2\" class=\"data row6 col2\" >0.988773</td>\n",
       "                        <td id=\"T_17c3b0b6_2a83_11eb_9194_1396418f0ff5row6_col3\" class=\"data row6 col3\" >7</td>\n",
       "            </tr>\n",
       "            <tr>\n",
       "                                <td id=\"T_17c3b0b6_2a83_11eb_9194_1396418f0ff5row7_col0\" class=\"data row7 col0\" >{'C': 10, 'kernel': 'rbf'}</td>\n",
       "                        <td id=\"T_17c3b0b6_2a83_11eb_9194_1396418f0ff5row7_col1\" class=\"data row7 col1\" >0.995654</td>\n",
       "                        <td id=\"T_17c3b0b6_2a83_11eb_9194_1396418f0ff5row7_col2\" class=\"data row7 col2\" >0.988045</td>\n",
       "                        <td id=\"T_17c3b0b6_2a83_11eb_9194_1396418f0ff5row7_col3\" class=\"data row7 col3\" >8</td>\n",
       "            </tr>\n",
       "            <tr>\n",
       "                                <td id=\"T_17c3b0b6_2a83_11eb_9194_1396418f0ff5row8_col0\" class=\"data row8 col0\" >{'C': 1000, 'kernel': 'rbf'}</td>\n",
       "                        <td id=\"T_17c3b0b6_2a83_11eb_9194_1396418f0ff5row8_col1\" class=\"data row8 col1\" >1.000000</td>\n",
       "                        <td id=\"T_17c3b0b6_2a83_11eb_9194_1396418f0ff5row8_col2\" class=\"data row8 col2\" >0.987686</td>\n",
       "                        <td id=\"T_17c3b0b6_2a83_11eb_9194_1396418f0ff5row8_col3\" class=\"data row8 col3\" >9</td>\n",
       "            </tr>\n",
       "            <tr>\n",
       "                                <td id=\"T_17c3b0b6_2a83_11eb_9194_1396418f0ff5row9_col0\" class=\"data row9 col0\" >{'C': 1, 'kernel': 'rbf'}</td>\n",
       "                        <td id=\"T_17c3b0b6_2a83_11eb_9194_1396418f0ff5row9_col1\" class=\"data row9 col1\" >0.992213</td>\n",
       "                        <td id=\"T_17c3b0b6_2a83_11eb_9194_1396418f0ff5row9_col2\" class=\"data row9 col2\" >0.985873</td>\n",
       "                        <td id=\"T_17c3b0b6_2a83_11eb_9194_1396418f0ff5row9_col3\" class=\"data row9 col3\" >10</td>\n",
       "            </tr>\n",
       "            <tr>\n",
       "                                <td id=\"T_17c3b0b6_2a83_11eb_9194_1396418f0ff5row10_col0\" class=\"data row10 col0\" >{'C': 100, 'kernel': 'poly'}</td>\n",
       "                        <td id=\"T_17c3b0b6_2a83_11eb_9194_1396418f0ff5row10_col1\" class=\"data row10 col1\" >0.995473</td>\n",
       "                        <td id=\"T_17c3b0b6_2a83_11eb_9194_1396418f0ff5row10_col2\" class=\"data row10 col2\" >0.984425</td>\n",
       "                        <td id=\"T_17c3b0b6_2a83_11eb_9194_1396418f0ff5row10_col3\" class=\"data row10 col3\" >11</td>\n",
       "            </tr>\n",
       "            <tr>\n",
       "                                <td id=\"T_17c3b0b6_2a83_11eb_9194_1396418f0ff5row11_col0\" class=\"data row11 col0\" >{'C': 0.1, 'kernel': 'rbf'}</td>\n",
       "                        <td id=\"T_17c3b0b6_2a83_11eb_9194_1396418f0ff5row11_col1\" class=\"data row11 col1\" >0.983067</td>\n",
       "                        <td id=\"T_17c3b0b6_2a83_11eb_9194_1396418f0ff5row11_col2\" class=\"data row11 col2\" >0.984065</td>\n",
       "                        <td id=\"T_17c3b0b6_2a83_11eb_9194_1396418f0ff5row11_col3\" class=\"data row11 col3\" >12</td>\n",
       "            </tr>\n",
       "            <tr>\n",
       "                                <td id=\"T_17c3b0b6_2a83_11eb_9194_1396418f0ff5row12_col0\" class=\"data row12 col0\" >{'C': 10, 'kernel': 'poly'}</td>\n",
       "                        <td id=\"T_17c3b0b6_2a83_11eb_9194_1396418f0ff5row12_col1\" class=\"data row12 col1\" >0.982977</td>\n",
       "                        <td id=\"T_17c3b0b6_2a83_11eb_9194_1396418f0ff5row12_col2\" class=\"data row12 col2\" >0.977543</td>\n",
       "                        <td id=\"T_17c3b0b6_2a83_11eb_9194_1396418f0ff5row12_col3\" class=\"data row12 col3\" >13</td>\n",
       "            </tr>\n",
       "            <tr>\n",
       "                                <td id=\"T_17c3b0b6_2a83_11eb_9194_1396418f0ff5row13_col0\" class=\"data row13 col0\" >{'C': 1, 'kernel': 'poly'}</td>\n",
       "                        <td id=\"T_17c3b0b6_2a83_11eb_9194_1396418f0ff5row13_col1\" class=\"data row13 col1\" >0.960250</td>\n",
       "                        <td id=\"T_17c3b0b6_2a83_11eb_9194_1396418f0ff5row13_col2\" class=\"data row13 col2\" >0.955094</td>\n",
       "                        <td id=\"T_17c3b0b6_2a83_11eb_9194_1396418f0ff5row13_col3\" class=\"data row13 col3\" >14</td>\n",
       "            </tr>\n",
       "            <tr>\n",
       "                                <td id=\"T_17c3b0b6_2a83_11eb_9194_1396418f0ff5row14_col0\" class=\"data row14 col0\" >{'C': 0.1, 'kernel': 'poly'}</td>\n",
       "                        <td id=\"T_17c3b0b6_2a83_11eb_9194_1396418f0ff5row14_col1\" class=\"data row14 col1\" >0.888899</td>\n",
       "                        <td id=\"T_17c3b0b6_2a83_11eb_9194_1396418f0ff5row14_col2\" class=\"data row14 col2\" >0.886998</td>\n",
       "                        <td id=\"T_17c3b0b6_2a83_11eb_9194_1396418f0ff5row14_col3\" class=\"data row14 col3\" >15</td>\n",
       "            </tr>\n",
       "    </tbody></table>"
      ],
      "text/plain": [
       "<pandas.io.formats.style.Styler at 0x7fb159988a90>"
      ]
     },
     "execution_count": 19,
     "metadata": {},
     "output_type": "execute_result"
    }
   ],
   "source": [
    "df = pd.DataFrame(grid.cv_results_)[['params', 'mean_train_score', 'mean_test_score', 'rank_test_score']].sort_values(by='rank_test_score')\n",
    "df.rename(columns={'mean_test_score': 'mean_val_score', \n",
    "                   'rank_test_score': 'rank_val_score'}, inplace=True)\n",
    "\n",
    "df.head(15).style.apply(highlight_equal, value=1, column=['rank_val_score'], axis=1).hide_index()"
   ]
  },
  {
   "cell_type": "code",
   "execution_count": 20,
   "metadata": {},
   "outputs": [
    {
     "data": {
      "text/plain": [
       "0.995656894679696"
      ]
     },
     "execution_count": 20,
     "metadata": {},
     "output_type": "execute_result"
    }
   ],
   "source": [
    "accuracy_score(grid.best_estimator_.predict(X_test), y_test)"
   ]
  },
  {
   "cell_type": "code",
   "execution_count": 21,
   "metadata": {},
   "outputs": [
    {
     "data": {
      "image/png": "[encoded data removed]",
      "text/plain": [
       "<Figure size 432x288 with 1 Axes>"
      ]
     },
     "metadata": {
      "needs_background": "light"
     },
     "output_type": "display_data"
    }
   ],
   "source": [
    "plot_learning_curve(grid.best_estimator_, X, y)"
   ]
  },
  {
   "cell_type": "markdown",
   "metadata": {},
   "source": [
    "## Random Forest"
   ]
  },
  {
   "cell_type": "code",
   "execution_count": null,
   "metadata": {},
   "outputs": [],
   "source": []
  },
  {
   "cell_type": "markdown",
   "metadata": {},
   "source": [
    "## Gradient Boosting"
   ]
  },
  {
   "cell_type": "code",
   "execution_count": null,
   "metadata": {},
   "outputs": [],
   "source": []
  },
  {
   "cell_type": "markdown",
   "metadata": {},
   "source": [
    "## Decision Tree"
   ]
  },
  {
   "cell_type": "code",
   "execution_count": null,
   "metadata": {},
   "outputs": [],
   "source": []
  },
  {
   "cell_type": "markdown",
   "metadata": {},
   "source": [
    "## K-Nearest Neighbors"
   ]
  },
  {
   "cell_type": "code",
   "execution_count": null,
   "metadata": {},
   "outputs": [],
   "source": []
  },
  {
   "cell_type": "markdown",
   "metadata": {},
   "source": [
    "## Logistic Regression"
   ]
  },
  {
   "cell_type": "code",
   "execution_count": null,
   "metadata": {},
   "outputs": [],
   "source": []
  }
 ],
 "metadata": {
  "kernelspec": {
   "display_name": "Python 3",
   "language": "python",
   "name": "python3"
  },
  "language_info": {
   "codemirror_mode": {
    "name": "ipython",
    "version": 3
   },
   "file_extension": ".py",
   "mimetype": "text/x-python",
   "name": "python",
   "nbconvert_exporter": "python",
   "pygments_lexer": "ipython3",
   "version": "3.8.6"
  }
 },
 "nbformat": 4,
 "nbformat_minor": 4
}
