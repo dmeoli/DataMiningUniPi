{
 "cells": [
  {
   "cell_type": "markdown",
   "metadata": {},
   "source": [
    "# Task 3: Predictive Analysis"
   ]
  },
  {
   "cell_type": "code",
   "execution_count": 1,
   "metadata": {},
   "outputs": [],
   "source": [
    "import numpy as np\n",
    "import pandas as pd\n",
    "import matplotlib.pyplot as plt\n",
    "from sklearn.metrics import accuracy_score\n",
    "from sklearn.model_selection import train_test_split, GridSearchCV, learning_curve"
   ]
  },
  {
   "cell_type": "code",
   "execution_count": 2,
   "metadata": {},
   "outputs": [
    {
     "data": {
      "text/html": [
       "<div>\n",
       "<style scoped>\n",
       "    .dataframe tbody tr th:only-of-type {\n",
       "        vertical-align: middle;\n",
       "    }\n",
       "\n",
       "    .dataframe tbody tr th {\n",
       "        vertical-align: top;\n",
       "    }\n",
       "\n",
       "    .dataframe thead th {\n",
       "        text-align: right;\n",
       "    }\n",
       "</style>\n",
       "<table border=\"1\" class=\"dataframe\">\n",
       "  <thead>\n",
       "    <tr style=\"text-align: right;\">\n",
       "      <th></th>\n",
       "      <th>I</th>\n",
       "      <th>Iu</th>\n",
       "      <th>Imax</th>\n",
       "      <th>E</th>\n",
       "      <th>Savg</th>\n",
       "      <th>R</th>\n",
       "      <th>F</th>\n",
       "      <th>M</th>\n",
       "      <th>label</th>\n",
       "    </tr>\n",
       "    <tr>\n",
       "      <th>CustomerID</th>\n",
       "      <th></th>\n",
       "      <th></th>\n",
       "      <th></th>\n",
       "      <th></th>\n",
       "      <th></th>\n",
       "      <th></th>\n",
       "      <th></th>\n",
       "      <th></th>\n",
       "      <th></th>\n",
       "    </tr>\n",
       "  </thead>\n",
       "  <tbody>\n",
       "    <tr>\n",
       "      <th>12347.0</th>\n",
       "      <td>1.260138</td>\n",
       "      <td>0.828935</td>\n",
       "      <td>1.118514</td>\n",
       "      <td>0.596106</td>\n",
       "      <td>1.028455</td>\n",
       "      <td>-0.111631</td>\n",
       "      <td>1.051680</td>\n",
       "      <td>1.329361</td>\n",
       "      <td>high</td>\n",
       "    </tr>\n",
       "    <tr>\n",
       "      <th>12348.0</th>\n",
       "      <td>0.762797</td>\n",
       "      <td>-1.045719</td>\n",
       "      <td>1.002501</td>\n",
       "      <td>-0.234484</td>\n",
       "      <td>-0.078943</td>\n",
       "      <td>0.318693</td>\n",
       "      <td>-0.947196</td>\n",
       "      <td>0.107206</td>\n",
       "      <td>medium</td>\n",
       "    </tr>\n",
       "    <tr>\n",
       "      <th>12349.0</th>\n",
       "      <td>0.365694</td>\n",
       "      <td>0.672561</td>\n",
       "      <td>1.049961</td>\n",
       "      <td>0.460376</td>\n",
       "      <td>2.213237</td>\n",
       "      <td>-0.609805</td>\n",
       "      <td>0.486511</td>\n",
       "      <td>0.604295</td>\n",
       "      <td>high</td>\n",
       "    </tr>\n",
       "    <tr>\n",
       "      <th>12350.0</th>\n",
       "      <td>-0.488674</td>\n",
       "      <td>-0.570285</td>\n",
       "      <td>-0.085825</td>\n",
       "      <td>-0.266793</td>\n",
       "      <td>0.079256</td>\n",
       "      <td>1.264458</td>\n",
       "      <td>-0.661264</td>\n",
       "      <td>-0.679120</td>\n",
       "      <td>medium</td>\n",
       "    </tr>\n",
       "    <tr>\n",
       "      <th>12352.0</th>\n",
       "      <td>0.140328</td>\n",
       "      <td>0.479521</td>\n",
       "      <td>-0.523368</td>\n",
       "      <td>0.113496</td>\n",
       "      <td>-0.365728</td>\n",
       "      <td>0.291678</td>\n",
       "      <td>0.465013</td>\n",
       "      <td>0.490875</td>\n",
       "      <td>medium</td>\n",
       "    </tr>\n",
       "    <tr>\n",
       "      <th>...</th>\n",
       "      <td>...</td>\n",
       "      <td>...</td>\n",
       "      <td>...</td>\n",
       "      <td>...</td>\n",
       "      <td>...</td>\n",
       "      <td>...</td>\n",
       "      <td>...</td>\n",
       "      <td>...</td>\n",
       "      <td>...</td>\n",
       "    </tr>\n",
       "    <tr>\n",
       "      <th>18280.0</th>\n",
       "      <td>-1.565374</td>\n",
       "      <td>-0.958657</td>\n",
       "      <td>-1.517177</td>\n",
       "      <td>-0.754566</td>\n",
       "      <td>-0.572656</td>\n",
       "      <td>0.818253</td>\n",
       "      <td>-1.019928</td>\n",
       "      <td>-1.071192</td>\n",
       "      <td>low</td>\n",
       "    </tr>\n",
       "    <tr>\n",
       "      <th>18281.0</th>\n",
       "      <td>-1.431965</td>\n",
       "      <td>-1.253384</td>\n",
       "      <td>-1.339824</td>\n",
       "      <td>-0.758092</td>\n",
       "      <td>-1.645348</td>\n",
       "      <td>-1.643314</td>\n",
       "      <td>-1.292110</td>\n",
       "      <td>-1.716329</td>\n",
       "      <td>low</td>\n",
       "    </tr>\n",
       "    <tr>\n",
       "      <th>18282.0</th>\n",
       "      <td>-0.995868</td>\n",
       "      <td>-0.808002</td>\n",
       "      <td>-1.087385</td>\n",
       "      <td>0.041496</td>\n",
       "      <td>-1.527260</td>\n",
       "      <td>1.019717</td>\n",
       "      <td>-0.880797</td>\n",
       "      <td>-1.089162</td>\n",
       "      <td>low</td>\n",
       "    </tr>\n",
       "    <tr>\n",
       "      <th>18283.0</th>\n",
       "      <td>0.926077</td>\n",
       "      <td>1.739897</td>\n",
       "      <td>0.115225</td>\n",
       "      <td>-0.186324</td>\n",
       "      <td>-1.037420</td>\n",
       "      <td>-1.037766</td>\n",
       "      <td>2.242574</td>\n",
       "      <td>0.873874</td>\n",
       "      <td>high</td>\n",
       "    </tr>\n",
       "    <tr>\n",
       "      <th>18287.0</th>\n",
       "      <td>1.041261</td>\n",
       "      <td>0.508017</td>\n",
       "      <td>1.489629</td>\n",
       "      <td>0.580150</td>\n",
       "      <td>1.056466</td>\n",
       "      <td>-4.137633</td>\n",
       "      <td>0.465013</td>\n",
       "      <td>0.790062</td>\n",
       "      <td>high</td>\n",
       "    </tr>\n",
       "  </tbody>\n",
       "</table>\n",
       "<p>4206 rows × 9 columns</p>\n",
       "</div>"
      ],
      "text/plain": [
       "                   I        Iu      Imax         E      Savg         R  \\\n",
       "CustomerID                                                               \n",
       "12347.0     1.260138  0.828935  1.118514  0.596106  1.028455 -0.111631   \n",
       "12348.0     0.762797 -1.045719  1.002501 -0.234484 -0.078943  0.318693   \n",
       "12349.0     0.365694  0.672561  1.049961  0.460376  2.213237 -0.609805   \n",
       "12350.0    -0.488674 -0.570285 -0.085825 -0.266793  0.079256  1.264458   \n",
       "12352.0     0.140328  0.479521 -0.523368  0.113496 -0.365728  0.291678   \n",
       "...              ...       ...       ...       ...       ...       ...   \n",
       "18280.0    -1.565374 -0.958657 -1.517177 -0.754566 -0.572656  0.818253   \n",
       "18281.0    -1.431965 -1.253384 -1.339824 -0.758092 -1.645348 -1.643314   \n",
       "18282.0    -0.995868 -0.808002 -1.087385  0.041496 -1.527260  1.019717   \n",
       "18283.0     0.926077  1.739897  0.115225 -0.186324 -1.037420 -1.037766   \n",
       "18287.0     1.041261  0.508017  1.489629  0.580150  1.056466 -4.137633   \n",
       "\n",
       "                   F         M   label  \n",
       "CustomerID                              \n",
       "12347.0     1.051680  1.329361    high  \n",
       "12348.0    -0.947196  0.107206  medium  \n",
       "12349.0     0.486511  0.604295    high  \n",
       "12350.0    -0.661264 -0.679120  medium  \n",
       "12352.0     0.465013  0.490875  medium  \n",
       "...              ...       ...     ...  \n",
       "18280.0    -1.019928 -1.071192     low  \n",
       "18281.0    -1.292110 -1.716329     low  \n",
       "18282.0    -0.880797 -1.089162     low  \n",
       "18283.0     2.242574  0.873874    high  \n",
       "18287.0     0.465013  0.790062    high  \n",
       "\n",
       "[4206 rows x 9 columns]"
      ]
     },
     "execution_count": 2,
     "metadata": {},
     "output_type": "execute_result"
    }
   ],
   "source": [
    "customer_profile = pd.read_csv('../dataset/customer_profile_kmeans.csv', sep='\\t', index_col=0)\n",
    "customer_profile"
   ]
  },
  {
   "cell_type": "code",
   "execution_count": 3,
   "metadata": {},
   "outputs": [],
   "source": [
    "customer_profile = customer_profile.to_numpy()"
   ]
  },
  {
   "cell_type": "code",
   "execution_count": 4,
   "metadata": {},
   "outputs": [],
   "source": [
    "def plot_learning_curve(estimator, X, y, scorer='accuracy', cv=5, train_sizes=np.linspace(.1, 1.0, 5), \n",
    "                        shuffle=False, random_state=None):\n",
    "\n",
    "    train_sizes, train_scores, test_scores = learning_curve(estimator, X, y, train_sizes=train_sizes, cv=cv,\n",
    "                                                            scoring=scorer, n_jobs=-1, shuffle=shuffle,\n",
    "                                                            random_state=random_state)\n",
    "\n",
    "    mean_train_score = np.mean(train_scores, axis=1)\n",
    "    std_train_score = np.std(train_scores, axis=1)\n",
    "    mean_test_score = np.mean(test_scores, axis=1)\n",
    "    std_test_score = np.std(test_scores, axis=1)\n",
    "\n",
    "    plt.title(str(estimator.__class__.__name__) + ' learning curve')\n",
    "    plt.xlabel('training set size')\n",
    "    plt.ylabel('score')\n",
    "\n",
    "    plt.plot(train_sizes, mean_train_score, label='train score', color='navy', marker='.', lw=2)\n",
    "    plt.fill_between(train_sizes, mean_train_score + std_train_score,\n",
    "                     mean_train_score - std_train_score, color='navy', alpha=0.2)\n",
    "    plt.plot(train_sizes, mean_test_score, label='cross-validation score', color='darkorange', marker='.', lw=2)\n",
    "    plt.fill_between(train_sizes, mean_test_score + std_test_score,\n",
    "                     mean_test_score - std_test_score, color='darkorange', alpha=0.2)\n",
    "\n",
    "    plt.legend().get_frame().set_facecolor('white')\n",
    "    plt.show()\n",
    "    \n",
    "def highlight_equal(s, value, column):\n",
    "    is_max = pd.Series(data=False, index=s.index)\n",
    "    is_max[column] = s.loc[column] == value\n",
    "    return ['background-color: lightyellow' if is_max.any() else '' for v in is_max]"
   ]
  },
  {
   "cell_type": "markdown",
   "metadata": {},
   "source": [
    "## SVC"
   ]
  },
  {
   "cell_type": "code",
   "execution_count": 5,
   "metadata": {},
   "outputs": [],
   "source": [
    "from sklearn.svm import SVC"
   ]
  },
  {
   "cell_type": "code",
   "execution_count": 6,
   "metadata": {},
   "outputs": [
    {
     "name": "stdout",
     "output_type": "stream",
     "text": [
      "Fitting 5 folds for each of 15 candidates, totalling 75 fits\n"
     ]
    },
    {
     "name": "stderr",
     "output_type": "stream",
     "text": [
      "[Parallel(n_jobs=-1)]: Using backend LokyBackend with 8 concurrent workers.\n",
      "[Parallel(n_jobs=-1)]: Done  34 tasks      | elapsed:    1.4s\n",
      "[Parallel(n_jobs=-1)]: Done  60 out of  75 | elapsed:    1.8s remaining:    0.4s\n",
      "[Parallel(n_jobs=-1)]: Done  75 out of  75 | elapsed:    1.8s finished\n"
     ]
    }
   ],
   "source": [
    "X, y = customer_profile[:, :-1], customer_profile[:, -1]\n",
    "\n",
    "X_train, X_test, y_train, y_test = train_test_split(X, y, test_size=0.25, stratify=y)\n",
    "\n",
    "tuned_parameters = {'kernel': ('linear', 'poly', 'rbf'),\n",
    "                    'C': (0.1, 1, 10, 100, 1000)}\n",
    "\n",
    "grid = GridSearchCV(SVC(),\n",
    "                    param_grid=tuned_parameters,\n",
    "                    scoring='accuracy',\n",
    "                    cv=5,  # 5 fold cross validation\n",
    "                    n_jobs=-1,  # use all processors\n",
    "                    refit=True,  # refit the best model on the full development set\n",
    "                    return_train_score=True,\n",
    "                    verbose=True).fit(X_train, y_train)"
   ]
  },
  {
   "cell_type": "code",
   "execution_count": 7,
   "metadata": {},
   "outputs": [
    {
     "data": {
      "text/html": [
       "<style  type=\"text/css\" >\n",
       "    #T_8e95c108_2b95_11eb_9194_1396418f0ff5row0_col0 {\n",
       "            background-color:  lightyellow;\n",
       "        }    #T_8e95c108_2b95_11eb_9194_1396418f0ff5row0_col1 {\n",
       "            background-color:  lightyellow;\n",
       "        }    #T_8e95c108_2b95_11eb_9194_1396418f0ff5row0_col2 {\n",
       "            background-color:  lightyellow;\n",
       "        }    #T_8e95c108_2b95_11eb_9194_1396418f0ff5row0_col3 {\n",
       "            background-color:  lightyellow;\n",
       "        }</style><table id=\"T_8e95c108_2b95_11eb_9194_1396418f0ff5\" ><thead>    <tr>        <th class=\"col_heading level0 col0\" >params</th>        <th class=\"col_heading level0 col1\" >mean_train_score</th>        <th class=\"col_heading level0 col2\" >mean_val_score</th>        <th class=\"col_heading level0 col3\" >rank_val_score</th>    </tr></thead><tbody>\n",
       "                <tr>\n",
       "                                <td id=\"T_8e95c108_2b95_11eb_9194_1396418f0ff5row0_col0\" class=\"data row0 col0\" >{'C': 100, 'kernel': 'linear'}</td>\n",
       "                        <td id=\"T_8e95c108_2b95_11eb_9194_1396418f0ff5row0_col1\" class=\"data row0 col1\" >0.999207</td>\n",
       "                        <td id=\"T_8e95c108_2b95_11eb_9194_1396418f0ff5row0_col2\" class=\"data row0 col2\" >0.996512</td>\n",
       "                        <td id=\"T_8e95c108_2b95_11eb_9194_1396418f0ff5row0_col3\" class=\"data row0 col3\" >1</td>\n",
       "            </tr>\n",
       "            <tr>\n",
       "                                <td id=\"T_8e95c108_2b95_11eb_9194_1396418f0ff5row1_col0\" class=\"data row1 col0\" >{'C': 1000, 'kernel': 'linear'}</td>\n",
       "                        <td id=\"T_8e95c108_2b95_11eb_9194_1396418f0ff5row1_col1\" class=\"data row1 col1\" >0.999524</td>\n",
       "                        <td id=\"T_8e95c108_2b95_11eb_9194_1396418f0ff5row1_col2\" class=\"data row1 col2\" >0.996196</td>\n",
       "                        <td id=\"T_8e95c108_2b95_11eb_9194_1396418f0ff5row1_col3\" class=\"data row1 col3\" >2</td>\n",
       "            </tr>\n",
       "            <tr>\n",
       "                                <td id=\"T_8e95c108_2b95_11eb_9194_1396418f0ff5row2_col0\" class=\"data row2 col0\" >{'C': 10, 'kernel': 'linear'}</td>\n",
       "                        <td id=\"T_8e95c108_2b95_11eb_9194_1396418f0ff5row2_col1\" class=\"data row2 col1\" >0.997939</td>\n",
       "                        <td id=\"T_8e95c108_2b95_11eb_9194_1396418f0ff5row2_col2\" class=\"data row2 col2\" >0.994293</td>\n",
       "                        <td id=\"T_8e95c108_2b95_11eb_9194_1396418f0ff5row2_col3\" class=\"data row2 col3\" >3</td>\n",
       "            </tr>\n",
       "            <tr>\n",
       "                                <td id=\"T_8e95c108_2b95_11eb_9194_1396418f0ff5row3_col0\" class=\"data row3 col0\" >{'C': 1, 'kernel': 'linear'}</td>\n",
       "                        <td id=\"T_8e95c108_2b95_11eb_9194_1396418f0ff5row3_col1\" class=\"data row3 col1\" >0.995561</td>\n",
       "                        <td id=\"T_8e95c108_2b95_11eb_9194_1396418f0ff5row3_col2\" class=\"data row3 col2\" >0.993659</td>\n",
       "                        <td id=\"T_8e95c108_2b95_11eb_9194_1396418f0ff5row3_col3\" class=\"data row3 col3\" >4</td>\n",
       "            </tr>\n",
       "            <tr>\n",
       "                                <td id=\"T_8e95c108_2b95_11eb_9194_1396418f0ff5row4_col0\" class=\"data row4 col0\" >{'C': 0.1, 'kernel': 'linear'}</td>\n",
       "                        <td id=\"T_8e95c108_2b95_11eb_9194_1396418f0ff5row4_col1\" class=\"data row4 col1\" >0.991598</td>\n",
       "                        <td id=\"T_8e95c108_2b95_11eb_9194_1396418f0ff5row4_col2\" class=\"data row4 col2\" >0.991755</td>\n",
       "                        <td id=\"T_8e95c108_2b95_11eb_9194_1396418f0ff5row4_col3\" class=\"data row4 col3\" >5</td>\n",
       "            </tr>\n",
       "            <tr>\n",
       "                                <td id=\"T_8e95c108_2b95_11eb_9194_1396418f0ff5row5_col0\" class=\"data row5 col0\" >{'C': 1000, 'kernel': 'rbf'}</td>\n",
       "                        <td id=\"T_8e95c108_2b95_11eb_9194_1396418f0ff5row5_col1\" class=\"data row5 col1\" >0.999841</td>\n",
       "                        <td id=\"T_8e95c108_2b95_11eb_9194_1396418f0ff5row5_col2\" class=\"data row5 col2\" >0.990170</td>\n",
       "                        <td id=\"T_8e95c108_2b95_11eb_9194_1396418f0ff5row5_col3\" class=\"data row5 col3\" >6</td>\n",
       "            </tr>\n",
       "            <tr>\n",
       "                                <td id=\"T_8e95c108_2b95_11eb_9194_1396418f0ff5row6_col0\" class=\"data row6 col0\" >{'C': 10, 'kernel': 'rbf'}</td>\n",
       "                        <td id=\"T_8e95c108_2b95_11eb_9194_1396418f0ff5row6_col1\" class=\"data row6 col1\" >0.995720</td>\n",
       "                        <td id=\"T_8e95c108_2b95_11eb_9194_1396418f0ff5row6_col2\" class=\"data row6 col2\" >0.989221</td>\n",
       "                        <td id=\"T_8e95c108_2b95_11eb_9194_1396418f0ff5row6_col3\" class=\"data row6 col3\" >7</td>\n",
       "            </tr>\n",
       "            <tr>\n",
       "                                <td id=\"T_8e95c108_2b95_11eb_9194_1396418f0ff5row7_col0\" class=\"data row7 col0\" >{'C': 100, 'kernel': 'poly'}</td>\n",
       "                        <td id=\"T_8e95c108_2b95_11eb_9194_1396418f0ff5row7_col1\" class=\"data row7 col1\" >0.998018</td>\n",
       "                        <td id=\"T_8e95c108_2b95_11eb_9194_1396418f0ff5row7_col2\" class=\"data row7 col2\" >0.988270</td>\n",
       "                        <td id=\"T_8e95c108_2b95_11eb_9194_1396418f0ff5row7_col3\" class=\"data row7 col3\" >8</td>\n",
       "            </tr>\n",
       "            <tr>\n",
       "                                <td id=\"T_8e95c108_2b95_11eb_9194_1396418f0ff5row8_col0\" class=\"data row8 col0\" >{'C': 100, 'kernel': 'rbf'}</td>\n",
       "                        <td id=\"T_8e95c108_2b95_11eb_9194_1396418f0ff5row8_col1\" class=\"data row8 col1\" >0.999128</td>\n",
       "                        <td id=\"T_8e95c108_2b95_11eb_9194_1396418f0ff5row8_col2\" class=\"data row8 col2\" >0.987636</td>\n",
       "                        <td id=\"T_8e95c108_2b95_11eb_9194_1396418f0ff5row8_col3\" class=\"data row8 col3\" >9</td>\n",
       "            </tr>\n",
       "            <tr>\n",
       "                                <td id=\"T_8e95c108_2b95_11eb_9194_1396418f0ff5row9_col0\" class=\"data row9 col0\" >{'C': 1, 'kernel': 'rbf'}</td>\n",
       "                        <td id=\"T_8e95c108_2b95_11eb_9194_1396418f0ff5row9_col1\" class=\"data row9 col1\" >0.991202</td>\n",
       "                        <td id=\"T_8e95c108_2b95_11eb_9194_1396418f0ff5row9_col2\" class=\"data row9 col2\" >0.987319</td>\n",
       "                        <td id=\"T_8e95c108_2b95_11eb_9194_1396418f0ff5row9_col3\" class=\"data row9 col3\" >10</td>\n",
       "            </tr>\n",
       "            <tr>\n",
       "                                <td id=\"T_8e95c108_2b95_11eb_9194_1396418f0ff5row10_col0\" class=\"data row10 col0\" >{'C': 1000, 'kernel': 'poly'}</td>\n",
       "                        <td id=\"T_8e95c108_2b95_11eb_9194_1396418f0ff5row10_col1\" class=\"data row10 col1\" >0.999762</td>\n",
       "                        <td id=\"T_8e95c108_2b95_11eb_9194_1396418f0ff5row10_col2\" class=\"data row10 col2\" >0.985731</td>\n",
       "                        <td id=\"T_8e95c108_2b95_11eb_9194_1396418f0ff5row10_col3\" class=\"data row10 col3\" >11</td>\n",
       "            </tr>\n",
       "            <tr>\n",
       "                                <td id=\"T_8e95c108_2b95_11eb_9194_1396418f0ff5row11_col0\" class=\"data row11 col0\" >{'C': 0.1, 'kernel': 'rbf'}</td>\n",
       "                        <td id=\"T_8e95c108_2b95_11eb_9194_1396418f0ff5row11_col1\" class=\"data row11 col1\" >0.983672</td>\n",
       "                        <td id=\"T_8e95c108_2b95_11eb_9194_1396418f0ff5row11_col2\" class=\"data row11 col2\" >0.981292</td>\n",
       "                        <td id=\"T_8e95c108_2b95_11eb_9194_1396418f0ff5row11_col3\" class=\"data row11 col3\" >12</td>\n",
       "            </tr>\n",
       "            <tr>\n",
       "                                <td id=\"T_8e95c108_2b95_11eb_9194_1396418f0ff5row12_col0\" class=\"data row12 col0\" >{'C': 10, 'kernel': 'poly'}</td>\n",
       "                        <td id=\"T_8e95c108_2b95_11eb_9194_1396418f0ff5row12_col1\" class=\"data row12 col1\" >0.985019</td>\n",
       "                        <td id=\"T_8e95c108_2b95_11eb_9194_1396418f0ff5row12_col2\" class=\"data row12 col2\" >0.976856</td>\n",
       "                        <td id=\"T_8e95c108_2b95_11eb_9194_1396418f0ff5row12_col3\" class=\"data row12 col3\" >13</td>\n",
       "            </tr>\n",
       "            <tr>\n",
       "                                <td id=\"T_8e95c108_2b95_11eb_9194_1396418f0ff5row13_col0\" class=\"data row13 col0\" >{'C': 1, 'kernel': 'poly'}</td>\n",
       "                        <td id=\"T_8e95c108_2b95_11eb_9194_1396418f0ff5row13_col1\" class=\"data row13 col1\" >0.951807</td>\n",
       "                        <td id=\"T_8e95c108_2b95_11eb_9194_1396418f0ff5row13_col2\" class=\"data row13 col2\" >0.946416</td>\n",
       "                        <td id=\"T_8e95c108_2b95_11eb_9194_1396418f0ff5row13_col3\" class=\"data row13 col3\" >14</td>\n",
       "            </tr>\n",
       "            <tr>\n",
       "                                <td id=\"T_8e95c108_2b95_11eb_9194_1396418f0ff5row14_col0\" class=\"data row14 col0\" >{'C': 0.1, 'kernel': 'poly'}</td>\n",
       "                        <td id=\"T_8e95c108_2b95_11eb_9194_1396418f0ff5row14_col1\" class=\"data row14 col1\" >0.883006</td>\n",
       "                        <td id=\"T_8e95c108_2b95_11eb_9194_1396418f0ff5row14_col2\" class=\"data row14 col2\" >0.879517</td>\n",
       "                        <td id=\"T_8e95c108_2b95_11eb_9194_1396418f0ff5row14_col3\" class=\"data row14 col3\" >15</td>\n",
       "            </tr>\n",
       "    </tbody></table>"
      ],
      "text/plain": [
       "<pandas.io.formats.style.Styler at 0x7f22c41d4f10>"
      ]
     },
     "execution_count": 7,
     "metadata": {},
     "output_type": "execute_result"
    }
   ],
   "source": [
    "df = pd.DataFrame(grid.cv_results_)[['params', 'mean_train_score', 'mean_test_score', 'rank_test_score']].sort_values(by='rank_test_score')\n",
    "df.rename(columns={'mean_test_score': 'mean_val_score', \n",
    "                   'rank_test_score': 'rank_val_score'}, inplace=True)\n",
    "\n",
    "df.head(15).style.apply(highlight_equal, value=1, column=['rank_val_score'], axis=1).hide_index()"
   ]
  },
  {
   "cell_type": "code",
   "execution_count": 8,
   "metadata": {},
   "outputs": [
    {
     "data": {
      "text/plain": [
       "0.9980988593155894"
      ]
     },
     "execution_count": 8,
     "metadata": {},
     "output_type": "execute_result"
    }
   ],
   "source": [
    "accuracy_score(grid.best_estimator_.predict(X_test), y_test)"
   ]
  },
  {
   "cell_type": "code",
   "execution_count": 9,
   "metadata": {},
   "outputs": [
    {
     "data": {
      "image/png": "[encoded data removed]",
      "text/plain": [
       "<Figure size 432x288 with 1 Axes>"
      ]
     },
     "metadata": {
      "needs_background": "light"
     },
     "output_type": "display_data"
    }
   ],
   "source": [
    "plot_learning_curve(grid.best_estimator_, X, y)"
   ]
  },
  {
   "cell_type": "markdown",
   "metadata": {},
   "source": [
    "## Naive Bayes"
   ]
  },
  {
   "cell_type": "code",
   "execution_count": null,
   "metadata": {},
   "outputs": [],
   "source": []
  },
  {
   "cell_type": "markdown",
   "metadata": {},
   "source": [
    "## Random Forest"
   ]
  },
  {
   "cell_type": "code",
   "execution_count": null,
   "metadata": {},
   "outputs": [],
   "source": []
  },
  {
   "cell_type": "markdown",
   "metadata": {},
   "source": [
    "## Gradient Boosting"
   ]
  },
  {
   "cell_type": "code",
   "execution_count": null,
   "metadata": {},
   "outputs": [],
   "source": []
  },
  {
   "cell_type": "markdown",
   "metadata": {},
   "source": [
    "## Decision Tree"
   ]
  },
  {
   "cell_type": "code",
   "execution_count": null,
   "metadata": {},
   "outputs": [],
   "source": []
  },
  {
   "cell_type": "markdown",
   "metadata": {},
   "source": [
    "## K-Nearest Neighbors"
   ]
  },
  {
   "cell_type": "code",
   "execution_count": null,
   "metadata": {},
   "outputs": [],
   "source": []
  },
  {
   "cell_type": "markdown",
   "metadata": {},
   "source": [
    "## Logistic Regression"
   ]
  },
  {
   "cell_type": "code",
   "execution_count": null,
   "metadata": {},
   "outputs": [],
   "source": []
  }
 ],
 "metadata": {
  "kernelspec": {
   "display_name": "Python 3",
   "language": "python",
   "name": "python3"
  },
  "language_info": {
   "codemirror_mode": {
    "name": "ipython",
    "version": 3
   },
   "file_extension": ".py",
   "mimetype": "text/x-python",
   "name": "python",
   "nbconvert_exporter": "python",
   "pygments_lexer": "ipython3",
   "version": "3.8.6"
  }
 },
 "nbformat": 4,
 "nbformat_minor": 4
}
