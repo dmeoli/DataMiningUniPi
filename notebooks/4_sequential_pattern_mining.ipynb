{
 "cells": [
  {
   "cell_type": "markdown",
   "metadata": {},
   "source": [
    "# Task 4: Sequential Pattern Mining"
   ]
  },
  {
   "cell_type": "code",
   "execution_count": 1,
   "metadata": {},
   "outputs": [],
   "source": [
    "import numpy as np\n",
    "import pandas as pd\n",
    "import copy"
   ]
  },
  {
   "cell_type": "markdown",
   "metadata": {},
   "source": [
    "## Loading the new dataset"
   ]
  },
  {
   "cell_type": "code",
   "execution_count": 2,
   "metadata": {},
   "outputs": [
    {
     "data": {
      "text/html": [
       "<div>\n",
       "<style scoped>\n",
       "    .dataframe tbody tr th:only-of-type {\n",
       "        vertical-align: middle;\n",
       "    }\n",
       "\n",
       "    .dataframe tbody tr th {\n",
       "        vertical-align: top;\n",
       "    }\n",
       "\n",
       "    .dataframe thead th {\n",
       "        text-align: right;\n",
       "    }\n",
       "</style>\n",
       "<table border=\"1\" class=\"dataframe\">\n",
       "  <thead>\n",
       "    <tr style=\"text-align: right;\">\n",
       "      <th></th>\n",
       "      <th>BasketID</th>\n",
       "      <th>BasketDate</th>\n",
       "      <th>Sale</th>\n",
       "      <th>CustomerID</th>\n",
       "      <th>ProdID</th>\n",
       "      <th>ProdDescr</th>\n",
       "      <th>Qta</th>\n",
       "      <th>TotSale</th>\n",
       "    </tr>\n",
       "  </thead>\n",
       "  <tbody>\n",
       "    <tr>\n",
       "      <th>0</th>\n",
       "      <td>539993</td>\n",
       "      <td>2011-04-01 10:00:00</td>\n",
       "      <td>1.95</td>\n",
       "      <td>13313.0</td>\n",
       "      <td>22386</td>\n",
       "      <td>JUMBO BAG PINK POLKADOT</td>\n",
       "      <td>10</td>\n",
       "      <td>19.50</td>\n",
       "    </tr>\n",
       "    <tr>\n",
       "      <th>1</th>\n",
       "      <td>539993</td>\n",
       "      <td>2011-04-01 10:00:00</td>\n",
       "      <td>0.42</td>\n",
       "      <td>13313.0</td>\n",
       "      <td>21499</td>\n",
       "      <td>BLUE POLKADOT WRAP</td>\n",
       "      <td>25</td>\n",
       "      <td>10.50</td>\n",
       "    </tr>\n",
       "    <tr>\n",
       "      <th>2</th>\n",
       "      <td>539993</td>\n",
       "      <td>2011-04-01 10:00:00</td>\n",
       "      <td>0.42</td>\n",
       "      <td>13313.0</td>\n",
       "      <td>21498</td>\n",
       "      <td>RED RETROSPOT WRAP</td>\n",
       "      <td>25</td>\n",
       "      <td>10.50</td>\n",
       "    </tr>\n",
       "    <tr>\n",
       "      <th>3</th>\n",
       "      <td>539993</td>\n",
       "      <td>2011-04-01 10:00:00</td>\n",
       "      <td>2.10</td>\n",
       "      <td>13313.0</td>\n",
       "      <td>22379</td>\n",
       "      <td>RECYCLING BAG RETROSPOT</td>\n",
       "      <td>5</td>\n",
       "      <td>10.50</td>\n",
       "    </tr>\n",
       "    <tr>\n",
       "      <th>4</th>\n",
       "      <td>539993</td>\n",
       "      <td>2011-04-01 10:00:00</td>\n",
       "      <td>1.25</td>\n",
       "      <td>13313.0</td>\n",
       "      <td>20718</td>\n",
       "      <td>RED RETROSPOT SHOPPER BAG</td>\n",
       "      <td>10</td>\n",
       "      <td>12.50</td>\n",
       "    </tr>\n",
       "    <tr>\n",
       "      <th>...</th>\n",
       "      <td>...</td>\n",
       "      <td>...</td>\n",
       "      <td>...</td>\n",
       "      <td>...</td>\n",
       "      <td>...</td>\n",
       "      <td>...</td>\n",
       "      <td>...</td>\n",
       "      <td>...</td>\n",
       "    </tr>\n",
       "    <tr>\n",
       "      <th>363572</th>\n",
       "      <td>581587</td>\n",
       "      <td>2011-09-12 12:50:00</td>\n",
       "      <td>0.85</td>\n",
       "      <td>12680.0</td>\n",
       "      <td>22613</td>\n",
       "      <td>PACK OF SPACEBOY NAPKINS</td>\n",
       "      <td>12</td>\n",
       "      <td>10.20</td>\n",
       "    </tr>\n",
       "    <tr>\n",
       "      <th>363573</th>\n",
       "      <td>581587</td>\n",
       "      <td>2011-09-12 12:50:00</td>\n",
       "      <td>2.10</td>\n",
       "      <td>12680.0</td>\n",
       "      <td>22899</td>\n",
       "      <td>CHILDRENS APRON DOLLY GIRL</td>\n",
       "      <td>6</td>\n",
       "      <td>12.60</td>\n",
       "    </tr>\n",
       "    <tr>\n",
       "      <th>363574</th>\n",
       "      <td>581587</td>\n",
       "      <td>2011-09-12 12:50:00</td>\n",
       "      <td>4.15</td>\n",
       "      <td>12680.0</td>\n",
       "      <td>23254</td>\n",
       "      <td>CHILDRENS CUTLERY DOLLY GIRL</td>\n",
       "      <td>4</td>\n",
       "      <td>16.60</td>\n",
       "    </tr>\n",
       "    <tr>\n",
       "      <th>363575</th>\n",
       "      <td>581587</td>\n",
       "      <td>2011-09-12 12:50:00</td>\n",
       "      <td>4.15</td>\n",
       "      <td>12680.0</td>\n",
       "      <td>23255</td>\n",
       "      <td>CHILDRENS CUTLERY CIRCUS PARADE</td>\n",
       "      <td>4</td>\n",
       "      <td>16.60</td>\n",
       "    </tr>\n",
       "    <tr>\n",
       "      <th>363576</th>\n",
       "      <td>581587</td>\n",
       "      <td>2011-09-12 12:50:00</td>\n",
       "      <td>4.95</td>\n",
       "      <td>12680.0</td>\n",
       "      <td>22138</td>\n",
       "      <td>BAKING SET PIECE RETROSPOT</td>\n",
       "      <td>3</td>\n",
       "      <td>14.85</td>\n",
       "    </tr>\n",
       "  </tbody>\n",
       "</table>\n",
       "<p>363577 rows × 8 columns</p>\n",
       "</div>"
      ],
      "text/plain": [
       "        BasketID           BasketDate  Sale  CustomerID ProdID  \\\n",
       "0         539993  2011-04-01 10:00:00  1.95     13313.0  22386   \n",
       "1         539993  2011-04-01 10:00:00  0.42     13313.0  21499   \n",
       "2         539993  2011-04-01 10:00:00  0.42     13313.0  21498   \n",
       "3         539993  2011-04-01 10:00:00  2.10     13313.0  22379   \n",
       "4         539993  2011-04-01 10:00:00  1.25     13313.0  20718   \n",
       "...          ...                  ...   ...         ...    ...   \n",
       "363572    581587  2011-09-12 12:50:00  0.85     12680.0  22613   \n",
       "363573    581587  2011-09-12 12:50:00  2.10     12680.0  22899   \n",
       "363574    581587  2011-09-12 12:50:00  4.15     12680.0  23254   \n",
       "363575    581587  2011-09-12 12:50:00  4.15     12680.0  23255   \n",
       "363576    581587  2011-09-12 12:50:00  4.95     12680.0  22138   \n",
       "\n",
       "                              ProdDescr  Qta  TotSale  \n",
       "0               JUMBO BAG PINK POLKADOT   10    19.50  \n",
       "1                    BLUE POLKADOT WRAP   25    10.50  \n",
       "2                    RED RETROSPOT WRAP   25    10.50  \n",
       "3               RECYCLING BAG RETROSPOT    5    10.50  \n",
       "4             RED RETROSPOT SHOPPER BAG   10    12.50  \n",
       "...                                 ...  ...      ...  \n",
       "363572         PACK OF SPACEBOY NAPKINS   12    10.20  \n",
       "363573       CHILDRENS APRON DOLLY GIRL    6    12.60  \n",
       "363574     CHILDRENS CUTLERY DOLLY GIRL    4    16.60  \n",
       "363575  CHILDRENS CUTLERY CIRCUS PARADE    4    16.60  \n",
       "363576       BAKING SET PIECE RETROSPOT    3    14.85  \n",
       "\n",
       "[363577 rows x 8 columns]"
      ]
     },
     "execution_count": 2,
     "metadata": {},
     "output_type": "execute_result"
    }
   ],
   "source": [
    "df = pd.read_csv('../dataset/new_customer_supermarket.csv', sep='\\t', index_col=0)\n",
    "df"
   ]
  },
  {
   "cell_type": "code",
   "execution_count": 3,
   "metadata": {},
   "outputs": [
    {
     "data": {
      "text/plain": [
       "BasketID        int64\n",
       "BasketDate     object\n",
       "Sale          float64\n",
       "CustomerID    float64\n",
       "ProdID         object\n",
       "ProdDescr      object\n",
       "Qta             int64\n",
       "TotSale       float64\n",
       "dtype: object"
      ]
     },
     "execution_count": 3,
     "metadata": {},
     "output_type": "execute_result"
    }
   ],
   "source": [
    "df.dtypes"
   ]
  },
  {
   "cell_type": "code",
   "execution_count": 4,
   "metadata": {},
   "outputs": [],
   "source": [
    "df = df.astype({'BasketDate': 'datetime64',\n",
    "                'BasketID': 'object',\n",
    "                'CustomerID': 'object'})"
   ]
  },
  {
   "cell_type": "markdown",
   "metadata": {},
   "source": [
    "## AprioriAll"
   ]
  },
  {
   "cell_type": "code",
   "execution_count": 5,
   "metadata": {},
   "outputs": [],
   "source": [
    "dataset = [\n",
    "    # sequence: list of events\n",
    "    {1 : ['a'],  # event {timestamp : list of strings}\n",
    "     2 : ['a', 'b', 'c'], \n",
    "     3 : ['a', 'c'], \n",
    "     4 : ['c']}, \n",
    "    {1 : ['a'], \n",
    "     3 : ['c'], \n",
    "     4 : ['b', 'c']}, \n",
    "    {1 : ['a', 'b'], \n",
    "     2 : ['d'], \n",
    "     4 : ['c'], \n",
    "     5 : ['b'], \n",
    "     6 : ['c']}, \n",
    "    {1 : ['a'], \n",
    "     2 : ['c'], \n",
    "     3 : ['b'], \n",
    "     4 : ['c']}\n",
    "]"
   ]
  },
  {
   "cell_type": "code",
   "execution_count": 6,
   "metadata": {},
   "outputs": [],
   "source": [
    "\"\"\"\n",
    "Recursive method that checks if `subsequence` is a subsequence of `main_sequence`\n",
    "\"\"\"\n",
    "def is_subsequence(main_sequence, subsequence):\n",
    "    \n",
    "    \"\"\"\n",
    "    Function for the recursive call of is_subsequence\n",
    "    \"\"\"\n",
    "    def is_subsequence_recursive(subsequence_clone, start=0):\n",
    "        # check if empty: end of recursion, all itemsets have been found\n",
    "        if not subsequence_clone:\n",
    "            return True\n",
    "        # retrieves element of the subsequence and removes is from subsequence \n",
    "        first_elem = set(subsequence_clone.pop(0))\n",
    "        # search for the first itemset...\n",
    "        for i in range(start, len(main_sequence)):\n",
    "            if set(main_sequence[i]).issuperset(first_elem):\n",
    "                # and recurse\n",
    "                return is_subsequence_recursive(subsequence_clone, i + 1)\n",
    "        return False\n",
    "\n",
    "    return is_subsequence_recursive(subsequence.copy()) # start recursion"
   ]
  },
  {
   "cell_type": "code",
   "execution_count": 7,
   "metadata": {},
   "outputs": [],
   "source": [
    "sequence = [['a'], ['b', 'c'], ['d'], ['a', 'e']]"
   ]
  },
  {
   "cell_type": "code",
   "execution_count": 8,
   "metadata": {
    "collapsed": false,
    "jupyter": {
     "outputs_hidden": false
    }
   },
   "outputs": [
    {
     "data": {
      "text/plain": [
       "True"
      ]
     },
     "execution_count": 8,
     "metadata": {},
     "output_type": "execute_result"
    }
   ],
   "source": [
    "is_subsequence(sequence, [['a'], ['b', 'c'], ['e']])"
   ]
  },
  {
   "cell_type": "code",
   "execution_count": 9,
   "metadata": {
    "collapsed": false,
    "jupyter": {
     "outputs_hidden": false
    }
   },
   "outputs": [
    {
     "data": {
      "text/plain": [
       "False"
      ]
     },
     "execution_count": 9,
     "metadata": {},
     "output_type": "execute_result"
    }
   ],
   "source": [
    "is_subsequence(sequence, [['a'], ['b', 'd']])"
   ]
  },
  {
   "cell_type": "code",
   "execution_count": 10,
   "metadata": {},
   "outputs": [],
   "source": [
    "\"\"\"\n",
    "Computes the length of the sequence (sum of the length of the contained itemsets)\n",
    "\"\"\"\n",
    "def sequence_length(sequence):\n",
    "    return sum(len(i) for i in sequence)"
   ]
  },
  {
   "cell_type": "code",
   "execution_count": 11,
   "metadata": {
    "collapsed": false,
    "jupyter": {
     "outputs_hidden": false
    }
   },
   "outputs": [
    {
     "data": {
      "text/plain": [
       "7"
      ]
     },
     "execution_count": 11,
     "metadata": {},
     "output_type": "execute_result"
    }
   ],
   "source": [
    "sequence_length([['a'], ['b', 'c'], ['a'], ['b', 'c', 'd']])"
   ]
  },
  {
   "cell_type": "code",
   "execution_count": 12,
   "metadata": {},
   "outputs": [],
   "source": [
    "\"\"\"\n",
    "Computes the support of a sequence in a dataset\n",
    "\"\"\"\n",
    "def count_support(dataset, cand_seq):\n",
    "    return sum(1 for seq in dataset if is_subsequence(seq, cand_seq))"
   ]
  },
  {
   "cell_type": "code",
   "execution_count": 13,
   "metadata": {
    "collapsed": false,
    "jupyter": {
     "outputs_hidden": false
    }
   },
   "outputs": [
    {
     "data": {
      "text/plain": [
       "4"
      ]
     },
     "execution_count": 13,
     "metadata": {},
     "output_type": "execute_result"
    }
   ],
   "source": [
    "count_support(dataset, [['b']])"
   ]
  },
  {
   "cell_type": "code",
   "execution_count": 14,
   "metadata": {
    "collapsed": false,
    "jupyter": {
     "outputs_hidden": false
    }
   },
   "outputs": [
    {
     "data": {
      "text/plain": [
       "2"
      ]
     },
     "execution_count": 14,
     "metadata": {},
     "output_type": "execute_result"
    }
   ],
   "source": [
    "count_support(dataset, [['a'], ['b', 'c']])"
   ]
  },
  {
   "cell_type": "code",
   "execution_count": 15,
   "metadata": {},
   "outputs": [],
   "source": [
    "\"\"\"\n",
    "Generates one candidate of length k from two candidates of length (k-1)\n",
    "\"\"\"\n",
    "def gen_cands_for_pair(cand1, cand2):\n",
    "    cand1_clone = copy.deepcopy(cand1)\n",
    "    cand2_clone = copy.deepcopy(cand2)\n",
    "    # drop the leftmost item from cand1:\n",
    "    if len(cand1[0]) == 1:\n",
    "        cand1_clone.pop(0)\n",
    "    else:\n",
    "        cand1_clone[0] = cand1_clone[0][1:]\n",
    "    # drop the rightmost item from cand2:\n",
    "    if len(cand2[-1]) == 1:\n",
    "        cand2_clone.pop(-1)\n",
    "    else:\n",
    "        cand2_clone[-1] = cand2_clone[-1][:-1]\n",
    "    \n",
    "    # if the result is not the same, then we dont need to join\n",
    "    if not cand1_clone == cand2_clone:\n",
    "        return []\n",
    "    else:\n",
    "        new_cand = copy.deepcopy(cand1)\n",
    "        if len(cand2[-1]) == 1:\n",
    "            new_cand.append(cand2[-1])\n",
    "        else:\n",
    "            new_cand[-1].extend(cand2[-1][-1])\n",
    "        return new_cand"
   ]
  },
  {
   "cell_type": "code",
   "execution_count": 16,
   "metadata": {
    "collapsed": false,
    "jupyter": {
     "outputs_hidden": false
    }
   },
   "outputs": [
    {
     "data": {
      "text/plain": [
       "[['a'], ['b', 'c'], ['d', 'e']]"
      ]
     },
     "execution_count": 16,
     "metadata": {},
     "output_type": "execute_result"
    }
   ],
   "source": [
    "candA = [['a'], ['b', 'c'], ['d']]\n",
    "candB = [['b', 'c'], ['d', 'e']]\n",
    "gen_cands_for_pair(candA, candB)"
   ]
  },
  {
   "cell_type": "code",
   "execution_count": 17,
   "metadata": {
    "collapsed": false,
    "jupyter": {
     "outputs_hidden": false
    }
   },
   "outputs": [
    {
     "data": {
      "text/plain": [
       "[['a'], ['b', 'c'], ['d'], ['e']]"
      ]
     },
     "execution_count": 17,
     "metadata": {},
     "output_type": "execute_result"
    }
   ],
   "source": [
    "candA = [['a'], ['b', 'c'], ['d']]\n",
    "candC = [['b', 'c'], ['d'], ['e']]\n",
    "gen_cands_for_pair(candA, candC)"
   ]
  },
  {
   "cell_type": "code",
   "execution_count": 18,
   "metadata": {
    "collapsed": false,
    "jupyter": {
     "outputs_hidden": false
    }
   },
   "outputs": [
    {
     "data": {
      "text/plain": [
       "[]"
      ]
     },
     "execution_count": 18,
     "metadata": {},
     "output_type": "execute_result"
    }
   ],
   "source": [
    "candA = [['a'], ['b', 'c'], ['d']]\n",
    "candD = [['a'], ['b', 'c'], ['e']]\n",
    "gen_cands_for_pair(candA, candD)"
   ]
  },
  {
   "cell_type": "code",
   "execution_count": 19,
   "metadata": {},
   "outputs": [],
   "source": [
    "\"\"\"\n",
    "Generates the set of candidates of length k from the set of frequent sequences with length (k-1)\n",
    "\"\"\"\n",
    "def gen_cands(last_lvl_cands):\n",
    "    k = sequence_length(last_lvl_cands[0]) + 1\n",
    "    if k == 2:\n",
    "        flat_short_cands = [item for sublist2 in last_lvl_cands for sublist1 in sublist2 for item in sublist1]\n",
    "        result = [[[a, b]] for a in flat_short_cands for b in flat_short_cands if b > a]\n",
    "        result.extend([[[a], [b]] for a in flat_short_cands for b in flat_short_cands])\n",
    "        return result\n",
    "    else:\n",
    "        cands = []\n",
    "        for i in range(0, len(last_lvl_cands)):\n",
    "            for j in range(0, len(last_lvl_cands)):\n",
    "                new_cand = gen_cands_for_pair(last_lvl_cands[i], last_lvl_cands[j])\n",
    "                if not new_cand == []:\n",
    "                    cands.append(new_cand)\n",
    "        cands.sort()\n",
    "        return cands"
   ]
  },
  {
   "cell_type": "markdown",
   "metadata": {},
   "source": [
    "Lets assume we know the frequent sequences of level 2:"
   ]
  },
  {
   "cell_type": "code",
   "execution_count": 20,
   "metadata": {},
   "outputs": [],
   "source": [
    "last_lvl_freq_patterns = [\n",
    "    [['a', 'b']], \n",
    "    [['b', 'c']], \n",
    "    [['a'], ['b']], \n",
    "    [['a'], ['c']], \n",
    "    [['b'], ['c']], \n",
    "    [['c'], ['b']], \n",
    "    [['c'], ['c']]\n",
    "]"
   ]
  },
  {
   "cell_type": "markdown",
   "metadata": {},
   "source": [
    "Then we can compute the generate candidates for level 3:"
   ]
  },
  {
   "cell_type": "code",
   "execution_count": 21,
   "metadata": {
    "collapsed": false,
    "jupyter": {
     "outputs_hidden": false
    }
   },
   "outputs": [
    {
     "data": {
      "text/plain": [
       "[[['a'], ['b'], ['c']],\n",
       " [['a'], ['b', 'c']],\n",
       " [['a'], ['c'], ['b']],\n",
       " [['a'], ['c'], ['c']],\n",
       " [['a', 'b'], ['c']],\n",
       " [['a', 'b', 'c']],\n",
       " [['b'], ['c'], ['b']],\n",
       " [['b'], ['c'], ['c']],\n",
       " [['b', 'c'], ['b']],\n",
       " [['b', 'c'], ['c']],\n",
       " [['c'], ['b'], ['c']],\n",
       " [['c'], ['b', 'c']],\n",
       " [['c'], ['c'], ['b']],\n",
       " [['c'], ['c'], ['c']]]"
      ]
     },
     "execution_count": 21,
     "metadata": {},
     "output_type": "execute_result"
    }
   ],
   "source": [
    "new_cands = gen_cands(last_lvl_freq_patterns)\n",
    "new_cands"
   ]
  },
  {
   "cell_type": "code",
   "execution_count": 23,
   "metadata": {},
   "outputs": [],
   "source": [
    "\"\"\"\n",
    "Computes all direct subsequence for a given sequence.\n",
    "A direct subsequence is any sequence that originates from deleting exactly one item from any event in the original sequence.\n",
    "\"\"\"\n",
    "def gen_direct_subsequences(sequence):\n",
    "    result = []\n",
    "    for i, itemset in enumerate(sequence):\n",
    "        if len(itemset) == 1:\n",
    "            seq_clone = copy.deepcopy(sequence)\n",
    "            seq_clone.pop(i)\n",
    "            result.append(seq_clone)\n",
    "        else:\n",
    "            for j in range(len(itemset)):\n",
    "                seq_clone = copy.deepcopy(sequence)\n",
    "                seq_clone[i].pop(j)\n",
    "                result.append(seq_clone)\n",
    "    return result\n",
    "\n",
    "\"\"\"\n",
    "Prunes the set of candidates generated for length k given all frequent sequence of level (k-1)\n",
    "\"\"\"\n",
    "def prune_cands(cands_last_lvl, cands_gen):\n",
    "    return [cand for cand in cands_gen if all(x in cands_last_lvl for x in gen_direct_subsequences(cand))]"
   ]
  },
  {
   "cell_type": "markdown",
   "metadata": {},
   "source": [
    "We apply this on example dataset:"
   ]
  },
  {
   "cell_type": "code",
   "execution_count": 24,
   "metadata": {
    "collapsed": false,
    "jupyter": {
     "outputs_hidden": false
    }
   },
   "outputs": [
    {
     "data": {
      "text/plain": [
       "[[['a'], ['b'], ['c']],\n",
       " [['a'], ['b', 'c']],\n",
       " [['a'], ['c'], ['b']],\n",
       " [['a'], ['c'], ['c']],\n",
       " [['a', 'b'], ['c']],\n",
       " [['b'], ['c'], ['c']],\n",
       " [['b', 'c'], ['c']],\n",
       " [['c'], ['b'], ['c']],\n",
       " [['c'], ['b', 'c']],\n",
       " [['c'], ['c'], ['b']],\n",
       " [['c'], ['c'], ['c']]]"
      ]
     },
     "execution_count": 24,
     "metadata": {},
     "output_type": "execute_result"
    }
   ],
   "source": [
    "cands_pruned = prune_cands(last_lvl_freq_patterns, new_cands)\n",
    "cands_pruned"
   ]
  },
  {
   "cell_type": "code",
   "execution_count": 41,
   "metadata": {
    "collapsed": false,
    "jupyter": {
     "outputs_hidden": false
    }
   },
   "outputs": [],
   "source": [
    "def check_cands(dataset, cands_pruned, min_sup):\n",
    "    cands_counts = [(i, count_support(dataset, i)) for i in cands_pruned]\n",
    "    return [(i, count) for i, count in cands_counts if count >= min_sup]"
   ]
  },
  {
   "cell_type": "code",
   "execution_count": 42,
   "metadata": {},
   "outputs": [
    {
     "data": {
      "text/plain": [
       "[([['a'], ['b'], ['c']], 3),\n",
       " ([['a'], ['b', 'c']], 2),\n",
       " ([['a'], ['c'], ['b']], 3),\n",
       " ([['a'], ['c'], ['c']], 4),\n",
       " ([['a', 'b'], ['c']], 2),\n",
       " ([['b'], ['c'], ['c']], 2),\n",
       " ([['c'], ['b'], ['c']], 2)]"
      ]
     },
     "execution_count": 42,
     "metadata": {},
     "output_type": "execute_result"
    }
   ],
   "source": [
    "result_lvl = check_cands(dataset, cands_pruned, 2)\n",
    "result_lvl"
   ]
  },
  {
   "cell_type": "code",
   "execution_count": 43,
   "metadata": {
    "collapsed": false,
    "jupyter": {
     "outputs_hidden": false
    }
   },
   "outputs": [],
   "source": [
    "\"\"\"\n",
    "The AprioriAll algorithm with time constraints. Computes the frequent sequences in a seqeunce dataset.\n",
    "\n",
    "Args:\n",
    "    dataset: a list of sequences, for which the frequent (sub-)sequences are computed\n",
    "    min_sup: the minimum support that makes a sequence frequent\n",
    "    max_span: this constraint specifies the maximum allowed time difference between the latest \n",
    "              and the earliest occurrences of events in the entire sequence\n",
    "    min_gap: this constraint specifies the minimum allowed time difference between the latest \n",
    "             and the earliest element of the pattern instance\n",
    "    max_gap: this constraint specifies the maximum allowed time difference between the latest \n",
    "             and the earliest element of the pattern instance\n",
    "    verbose: if True, additional informations on the mining process are printed (i.e., results \n",
    "             for each level if is True, candidates generated and pruned on each level otherwise)\n",
    "\n",
    "Returns:\n",
    "    A list of tuples (s, c), where s is a frequent sequence and c is the count for that sequence\n",
    "\"\"\"\n",
    "def aprioriall(dataset, min_sup, max_span=np.inf, min_gap=1, max_gap=np.inf, verbose=False):\n",
    "    overall = []\n",
    "    items = sorted(set([item for sublist1 in dataset for sublist2 in sublist1 for item in sublist2]))\n",
    "    single_item_sequences = [[[item]] for item in items]\n",
    "    single_item_counts = [(i, count_support(dataset, i)) for i in single_item_sequences \n",
    "                        if count_support(dataset, i) >= min_sup]\n",
    "    overall.append(single_item_counts)\n",
    "    if verbose > 0:\n",
    "        print('Result, lvl 1: ' + str(overall[0]))\n",
    "    k = 1\n",
    "    while True:\n",
    "        if not overall[k-1]:\n",
    "            break\n",
    "        # 1. candidate generation\n",
    "        cands_last_lvl = [x[0] for x in overall[k-1]]\n",
    "        cands_gen = gen_cands(cands_last_lvl)\n",
    "        # 2. candidate pruning (using a \"containsall\" subsequences)\n",
    "        cands_pruned = prune_cands(cands_last_lvl, cands_gen)\n",
    "        # 3. candidate checking\n",
    "        result_lvl = check_cands(dataset, cands_pruned, min_sup)\n",
    "        if verbose > 0:\n",
    "            print('Result, lvl ' + str(k+1) + ': ' + str(result_lvl))\n",
    "            if verbose > 1:\n",
    "                print('Candidates generated, lvl ' + str(k+1) + ': ' + str(cands_gen))\n",
    "                print('Candidates pruned, lvl ' + str(k+1) + ': ' + str(cands_pruned))\n",
    "        overall.append(result_lvl)\n",
    "        k += 1\n",
    "    # \"flatten\" overall\n",
    "    overall = overall[:-1]\n",
    "    overall = [item for sublist in overall for item in sublist]\n",
    "    return overall"
   ]
  },
  {
   "cell_type": "code",
   "execution_count": 54,
   "metadata": {
    "collapsed": false,
    "jupyter": {
     "outputs_hidden": false
    }
   },
   "outputs": [
    {
     "name": "stdout",
     "output_type": "stream",
     "text": [
      "Result, lvl 1: [([['a']], 4), ([['b']], 4), ([['c']], 4)]\n",
      "Result, lvl 2: [([['a', 'b']], 2), ([['b', 'c']], 2), ([['a'], ['b']], 4), ([['a'], ['c']], 4), ([['b'], ['c']], 3), ([['c'], ['b']], 3), ([['c'], ['c']], 4)]\n",
      "Candidates generated, lvl 2: [[['a', 'b']], [['a', 'c']], [['b', 'c']], [['a'], ['a']], [['a'], ['b']], [['a'], ['c']], [['b'], ['a']], [['b'], ['b']], [['b'], ['c']], [['c'], ['a']], [['c'], ['b']], [['c'], ['c']]]\n",
      "Candidates pruned, lvl 2: [[['a', 'b']], [['a', 'c']], [['b', 'c']], [['a'], ['a']], [['a'], ['b']], [['a'], ['c']], [['b'], ['a']], [['b'], ['b']], [['b'], ['c']], [['c'], ['a']], [['c'], ['b']], [['c'], ['c']]]\n",
      "Result, lvl 3: [([['a'], ['b'], ['c']], 3), ([['a'], ['b', 'c']], 2), ([['a'], ['c'], ['b']], 3), ([['a'], ['c'], ['c']], 4), ([['a', 'b'], ['c']], 2), ([['b'], ['c'], ['c']], 2), ([['c'], ['b'], ['c']], 2)]\n",
      "Candidates generated, lvl 3: [[['a'], ['b'], ['c']], [['a'], ['b', 'c']], [['a'], ['c'], ['b']], [['a'], ['c'], ['c']], [['a', 'b'], ['c']], [['a', 'b', 'c']], [['b'], ['c'], ['b']], [['b'], ['c'], ['c']], [['b', 'c'], ['b']], [['b', 'c'], ['c']], [['c'], ['b'], ['c']], [['c'], ['b', 'c']], [['c'], ['c'], ['b']], [['c'], ['c'], ['c']]]\n",
      "Candidates pruned, lvl 3: [[['a'], ['b'], ['c']], [['a'], ['b', 'c']], [['a'], ['c'], ['b']], [['a'], ['c'], ['c']], [['a', 'b'], ['c']], [['b'], ['c'], ['c']], [['b', 'c'], ['c']], [['c'], ['b'], ['c']], [['c'], ['b', 'c']], [['c'], ['c'], ['b']], [['c'], ['c'], ['c']]]\n",
      "Result, lvl 4: [([['a'], ['c'], ['b'], ['c']], 2), ([['a', 'b'], ['c'], ['c']], 2)]\n",
      "Candidates generated, lvl 4: [[['a'], ['b'], ['c'], ['c']], [['a'], ['c'], ['b'], ['c']], [['a', 'b'], ['c'], ['c']], [['c'], ['b'], ['c'], ['c']]]\n",
      "Candidates pruned, lvl 4: [[['a'], ['b'], ['c'], ['c']], [['a'], ['c'], ['b'], ['c']], [['a', 'b'], ['c'], ['c']]]\n",
      "Result, lvl 5: []\n",
      "Candidates generated, lvl 5: []\n",
      "Candidates pruned, lvl 5: []\n"
     ]
    },
    {
     "data": {
      "text/plain": [
       "[([['a']], 4),\n",
       " ([['b']], 4),\n",
       " ([['c']], 4),\n",
       " ([['a', 'b']], 2),\n",
       " ([['b', 'c']], 2),\n",
       " ([['a'], ['b']], 4),\n",
       " ([['a'], ['c']], 4),\n",
       " ([['b'], ['c']], 3),\n",
       " ([['c'], ['b']], 3),\n",
       " ([['c'], ['c']], 4),\n",
       " ([['a'], ['b'], ['c']], 3),\n",
       " ([['a'], ['b', 'c']], 2),\n",
       " ([['a'], ['c'], ['b']], 3),\n",
       " ([['a'], ['c'], ['c']], 4),\n",
       " ([['a', 'b'], ['c']], 2),\n",
       " ([['b'], ['c'], ['c']], 2),\n",
       " ([['c'], ['b'], ['c']], 2),\n",
       " ([['a'], ['c'], ['b'], ['c']], 2),\n",
       " ([['a', 'b'], ['c'], ['c']], 2)]"
      ]
     },
     "execution_count": 54,
     "metadata": {},
     "output_type": "execute_result"
    }
   ],
   "source": [
    "aprioriall(dataset, min_sup=2, verbose=2)"
   ]
  },
  {
   "cell_type": "code",
   "execution_count": 50,
   "metadata": {},
   "outputs": [],
   "source": [
    "\"\"\"\n",
    "Given a list of all frequent sequences and their counts, compute the set of closed frequent sequence\n",
    "\"\"\"\n",
    "def filter_closed(result):\n",
    "    for supersequence, count_seq in copy.deepcopy(result):\n",
    "        for subsequence, count_subseq in copy.deepcopy(result):\n",
    "            if is_subsequence(supersequence, subsequence) and count_seq == count_subseq and subsequence != supersequence:\n",
    "                result.remove((subsequence, count_subseq))"
   ]
  },
  {
   "cell_type": "code",
   "execution_count": 51,
   "metadata": {},
   "outputs": [
    {
     "data": {
      "text/plain": [
       "[([['a'], ['b']], 4),\n",
       " ([['a'], ['b'], ['c']], 3),\n",
       " ([['a'], ['b', 'c']], 2),\n",
       " ([['a'], ['c'], ['b']], 3),\n",
       " ([['a'], ['c'], ['c']], 4),\n",
       " ([['a'], ['c'], ['b'], ['c']], 2),\n",
       " ([['a', 'b'], ['c'], ['c']], 2)]"
      ]
     },
     "execution_count": 51,
     "metadata": {},
     "output_type": "execute_result"
    }
   ],
   "source": [
    "result = aprioriall(dataset, min_sup=2, verbose=False)\n",
    "filter_closed(result)\n",
    "result"
   ]
  },
  {
   "cell_type": "code",
   "execution_count": 52,
   "metadata": {},
   "outputs": [],
   "source": [
    "\"\"\"\n",
    "Given a list of all frequent sequences and their counts, compute the set of maximal frequent sequence\n",
    "\"\"\"\n",
    "def filter_maximal(result):\n",
    "    for supersequence, count_seq in copy.deepcopy(result):\n",
    "        for subsequence, count_subseq in copy.deepcopy(result):\n",
    "            if is_subsequence(supersequence, subsequence) and subsequence != supersequence:\n",
    "                result.remove((subsequence, count_subseq))"
   ]
  },
  {
   "cell_type": "code",
   "execution_count": 53,
   "metadata": {},
   "outputs": [
    {
     "data": {
      "text/plain": [
       "[([['a'], ['b', 'c']], 2),\n",
       " ([['a'], ['c'], ['b'], ['c']], 2),\n",
       " ([['a', 'b'], ['c'], ['c']], 2)]"
      ]
     },
     "execution_count": 53,
     "metadata": {},
     "output_type": "execute_result"
    }
   ],
   "source": [
    "result = aprioriall(dataset, min_sup=2, verbose=False)\n",
    "filter_maximal(result)\n",
    "result"
   ]
  },
  {
   "cell_type": "markdown",
   "metadata": {},
   "source": [
    "### Supermarket dataset"
   ]
  },
  {
   "cell_type": "raw",
   "metadata": {},
   "source": [
    "dataset = [\n",
    "    # customer_1: sequence of baskets\n",
    "    [['item_x', 'item_y', 'item_z', etc.], # basket_a\n",
    "     ['item_p', 'item_q', 'item_r', etc.], # basket_b\n",
    "     [etc.]], # basket_c\n",
    "    # customer_2\n",
    "     etc.\n",
    "]"
   ]
  },
  {
   "cell_type": "code",
   "execution_count": 45,
   "metadata": {},
   "outputs": [
    {
     "data": {
      "text/html": [
       "<div>\n",
       "<style scoped>\n",
       "    .dataframe tbody tr th:only-of-type {\n",
       "        vertical-align: middle;\n",
       "    }\n",
       "\n",
       "    .dataframe tbody tr th {\n",
       "        vertical-align: top;\n",
       "    }\n",
       "\n",
       "    .dataframe thead th {\n",
       "        text-align: right;\n",
       "    }\n",
       "</style>\n",
       "<table border=\"1\" class=\"dataframe\">\n",
       "  <thead>\n",
       "    <tr style=\"text-align: right;\">\n",
       "      <th></th>\n",
       "      <th></th>\n",
       "      <th></th>\n",
       "      <th>ProdDescr</th>\n",
       "    </tr>\n",
       "    <tr>\n",
       "      <th>CustomerID</th>\n",
       "      <th>BasketID</th>\n",
       "      <th>BasketDate</th>\n",
       "      <th></th>\n",
       "    </tr>\n",
       "  </thead>\n",
       "  <tbody>\n",
       "    <tr>\n",
       "      <th rowspan=\"5\" valign=\"top\">12347.0</th>\n",
       "      <th>542237</th>\n",
       "      <th>2011-01-26 14:30:00</th>\n",
       "      <td>[PACK OF SPACEBOY CAKE CASES, TEA TIME OVEN GL...</td>\n",
       "    </tr>\n",
       "    <tr>\n",
       "      <th>549222</th>\n",
       "      <th>2011-07-04 10:43:00</th>\n",
       "      <td>[SET OF TINS VINTAGE BATHROOM, GIFT BAG PSYCHE...</td>\n",
       "    </tr>\n",
       "    <tr>\n",
       "      <th>556201</th>\n",
       "      <th>2011-09-06 13:01:00</th>\n",
       "      <td>[ALARM CLOCK BAKELIKE RED, FEATHER PENCOAL BLA...</td>\n",
       "    </tr>\n",
       "    <tr>\n",
       "      <th>562032</th>\n",
       "      <th>2011-02-08 08:48:00</th>\n",
       "      <td>[SWEETHEART FAIRY CAKE CASES, RED REFECTORY CL...</td>\n",
       "    </tr>\n",
       "    <tr>\n",
       "      <th>573511</th>\n",
       "      <th>2011-10-31 12:25:00</th>\n",
       "      <td>[ALARM CLOCK BAKELIKE GREEN, ALARM CLOCK BAKEL...</td>\n",
       "    </tr>\n",
       "    <tr>\n",
       "      <th>...</th>\n",
       "      <th>...</th>\n",
       "      <th>...</th>\n",
       "      <td>...</td>\n",
       "    </tr>\n",
       "    <tr>\n",
       "      <th rowspan=\"2\" valign=\"top\">18283.0</th>\n",
       "      <th>579673</th>\n",
       "      <th>2011-11-30 12:59:00</th>\n",
       "      <td>[LUNCH BAG DOLLY GIRL DESIGN, LUNCH BAG SUKI D...</td>\n",
       "    </tr>\n",
       "    <tr>\n",
       "      <th>580872</th>\n",
       "      <th>2011-06-12 12:02:00</th>\n",
       "      <td>[STRAWBERRY SHOPPER BAG, RED RETROSPOT SHOPPER...</td>\n",
       "    </tr>\n",
       "    <tr>\n",
       "      <th rowspan=\"3\" valign=\"top\">18287.0</th>\n",
       "      <th>554065</th>\n",
       "      <th>2011-05-22 10:39:00</th>\n",
       "      <td>[SET SPRING FLOWER DECORATION, CERAMIC CHERRY ...</td>\n",
       "    </tr>\n",
       "    <tr>\n",
       "      <th>570715</th>\n",
       "      <th>2011-12-10 10:23:00</th>\n",
       "      <td>[SET FROG PRINCE TLIGHT CANDLES, ASSORTED MONK...</td>\n",
       "    </tr>\n",
       "    <tr>\n",
       "      <th>573167</th>\n",
       "      <th>2011-10-28 09:29:00</th>\n",
       "      <td>[SWISS CHALET TREE DECORATION, SET OF WOODEN S...</td>\n",
       "    </tr>\n",
       "  </tbody>\n",
       "</table>\n",
       "<p>16950 rows × 1 columns</p>\n",
       "</div>"
      ],
      "text/plain": [
       "                                                                                 ProdDescr\n",
       "CustomerID BasketID BasketDate                                                            \n",
       "12347.0    542237   2011-01-26 14:30:00  [PACK OF SPACEBOY CAKE CASES, TEA TIME OVEN GL...\n",
       "           549222   2011-07-04 10:43:00  [SET OF TINS VINTAGE BATHROOM, GIFT BAG PSYCHE...\n",
       "           556201   2011-09-06 13:01:00  [ALARM CLOCK BAKELIKE RED, FEATHER PENCOAL BLA...\n",
       "           562032   2011-02-08 08:48:00  [SWEETHEART FAIRY CAKE CASES, RED REFECTORY CL...\n",
       "           573511   2011-10-31 12:25:00  [ALARM CLOCK BAKELIKE GREEN, ALARM CLOCK BAKEL...\n",
       "...                                                                                    ...\n",
       "18283.0    579673   2011-11-30 12:59:00  [LUNCH BAG DOLLY GIRL DESIGN, LUNCH BAG SUKI D...\n",
       "           580872   2011-06-12 12:02:00  [STRAWBERRY SHOPPER BAG, RED RETROSPOT SHOPPER...\n",
       "18287.0    554065   2011-05-22 10:39:00  [SET SPRING FLOWER DECORATION, CERAMIC CHERRY ...\n",
       "           570715   2011-12-10 10:23:00  [SET FROG PRINCE TLIGHT CANDLES, ASSORTED MONK...\n",
       "           573167   2011-10-28 09:29:00  [SWISS CHALET TREE DECORATION, SET OF WOODEN S...\n",
       "\n",
       "[16950 rows x 1 columns]"
      ]
     },
     "execution_count": 45,
     "metadata": {},
     "output_type": "execute_result"
    }
   ],
   "source": [
    "baskets_sequence = pd.DataFrame(df.sort_values('BasketDate').groupby(['CustomerID', 'BasketID', 'BasketDate'])['ProdDescr'].apply(list))\n",
    "baskets_sequence"
   ]
  },
  {
   "cell_type": "code",
   "execution_count": 46,
   "metadata": {},
   "outputs": [
    {
     "data": {
      "text/html": [
       "<div>\n",
       "<style scoped>\n",
       "    .dataframe tbody tr th:only-of-type {\n",
       "        vertical-align: middle;\n",
       "    }\n",
       "\n",
       "    .dataframe tbody tr th {\n",
       "        vertical-align: top;\n",
       "    }\n",
       "\n",
       "    .dataframe thead th {\n",
       "        text-align: right;\n",
       "    }\n",
       "</style>\n",
       "<table border=\"1\" class=\"dataframe\">\n",
       "  <thead>\n",
       "    <tr style=\"text-align: right;\">\n",
       "      <th></th>\n",
       "      <th>ProdDescr</th>\n",
       "    </tr>\n",
       "    <tr>\n",
       "      <th>CustomerID</th>\n",
       "      <th></th>\n",
       "    </tr>\n",
       "  </thead>\n",
       "  <tbody>\n",
       "    <tr>\n",
       "      <th>12347.0</th>\n",
       "      <td>[[PACK OF SPACEBOY CAKE CASES, TEA TIME OVEN G...</td>\n",
       "    </tr>\n",
       "    <tr>\n",
       "      <th>12348.0</th>\n",
       "      <td>[[PACK OF SKULL TISSUES, MULTI HEARTS STICKERS...</td>\n",
       "    </tr>\n",
       "    <tr>\n",
       "      <th>12349.0</th>\n",
       "      <td>[[PANTRY CHOPPING BOARD, SMALL WHITE RETROSPOT...</td>\n",
       "    </tr>\n",
       "    <tr>\n",
       "      <th>12350.0</th>\n",
       "      <td>[[BLUE POLKADOT PASSPORT COVER, RED HARMONICA ...</td>\n",
       "    </tr>\n",
       "    <tr>\n",
       "      <th>12352.0</th>\n",
       "      <td>[[DELUXE SEWING KIT, PINK HEART SHAPE EGG FRYI...</td>\n",
       "    </tr>\n",
       "    <tr>\n",
       "      <th>...</th>\n",
       "      <td>...</td>\n",
       "    </tr>\n",
       "    <tr>\n",
       "      <th>18280.0</th>\n",
       "      <td>[[SET OF ROUND TINS CAMEMBERT, KINGS CHOICE TE...</td>\n",
       "    </tr>\n",
       "    <tr>\n",
       "      <th>18281.0</th>\n",
       "      <td>[[ROBOT BIRTHDAY CARD, CARD CIRCUS PARADE, PEN...</td>\n",
       "    </tr>\n",
       "    <tr>\n",
       "      <th>18282.0</th>\n",
       "      <td>[[REGENCY SUGAR BOWL GREEN, CARD CHRISTMAS VIL...</td>\n",
       "    </tr>\n",
       "    <tr>\n",
       "      <th>18283.0</th>\n",
       "      <td>[[BLUE PIECE POLKADOT CUTLERY SET, TEA TIME OV...</td>\n",
       "    </tr>\n",
       "    <tr>\n",
       "      <th>18287.0</th>\n",
       "      <td>[[SET SPRING FLOWER DECORATION, CERAMIC CHERRY...</td>\n",
       "    </tr>\n",
       "  </tbody>\n",
       "</table>\n",
       "<p>4206 rows × 1 columns</p>\n",
       "</div>"
      ],
      "text/plain": [
       "                                                    ProdDescr\n",
       "CustomerID                                                   \n",
       "12347.0     [[PACK OF SPACEBOY CAKE CASES, TEA TIME OVEN G...\n",
       "12348.0     [[PACK OF SKULL TISSUES, MULTI HEARTS STICKERS...\n",
       "12349.0     [[PANTRY CHOPPING BOARD, SMALL WHITE RETROSPOT...\n",
       "12350.0     [[BLUE POLKADOT PASSPORT COVER, RED HARMONICA ...\n",
       "12352.0     [[DELUXE SEWING KIT, PINK HEART SHAPE EGG FRYI...\n",
       "...                                                       ...\n",
       "18280.0     [[SET OF ROUND TINS CAMEMBERT, KINGS CHOICE TE...\n",
       "18281.0     [[ROBOT BIRTHDAY CARD, CARD CIRCUS PARADE, PEN...\n",
       "18282.0     [[REGENCY SUGAR BOWL GREEN, CARD CHRISTMAS VIL...\n",
       "18283.0     [[BLUE PIECE POLKADOT CUTLERY SET, TEA TIME OV...\n",
       "18287.0     [[SET SPRING FLOWER DECORATION, CERAMIC CHERRY...\n",
       "\n",
       "[4206 rows x 1 columns]"
      ]
     },
     "execution_count": 46,
     "metadata": {},
     "output_type": "execute_result"
    }
   ],
   "source": [
    "baskets_sequence = pd.DataFrame(baskets_sequence.sort_values('BasketDate').groupby('CustomerID')['ProdDescr'].apply(list))\n",
    "baskets_sequence"
   ]
  },
  {
   "cell_type": "code",
   "execution_count": 47,
   "metadata": {},
   "outputs": [
    {
     "data": {
      "text/plain": [
       "[[['PACK OF SPACEBOY CAKE CASES',\n",
       "   'TEA TIME OVEN GLOVE',\n",
       "   'RED RETROSPOT OVEN GLOVE',\n",
       "   'RED RETROSPOT OVEN GLOVE DOUBLE',\n",
       "   'SET RED RETROSPOT TEA TOWELS',\n",
       "   'REGENCY CAKESTAND TIER',\n",
       "   'TOOTHPASTE TUBE PEN',\n",
       "   'MINI LADLE LOVE HEART RED',\n",
       "   'CHOCOLATE CALCULATOR',\n",
       "   'SET OF TINS VINTAGE BATHROOM',\n",
       "   'RED TOADSTOOL LED NIGHT LIGHT',\n",
       "   'DOG PICTURE PLAYING CARDS',\n",
       "   'BOX OF ASSORTED COLOUR TEASPOONS',\n",
       "   'TEATIME FAIRY CAKE CASES',\n",
       "   'PACK OF MUSHROOM CAKE CASES',\n",
       "   'SMALL HEART MEASURING SPOONS',\n",
       "   'SWEETHEART FAIRY CAKE CASES',\n",
       "   'BLUE NEW BAROQUE CANDLESTICK CANDLE',\n",
       "   'BLACK CANDELABRA TLIGHT HOLDER',\n",
       "   'WOODLAND CHARLOTTE BAG',\n",
       "   'AIRLINE BAG VINTAGE JET SET BROWN',\n",
       "   'AIRLINE BAG VINTAGE JET SET WHITE',\n",
       "   'PINK NEW BAROQUECANDLESTICK CANDLE',\n",
       "   'ALARM CLOCK BAKELIKE CHOCOLATE',\n",
       "   'ALARM CLOCK BAKELIKE GREEN',\n",
       "   'ALARM CLOCK BAKELIKE RED',\n",
       "   'ALARM CLOCK BAKELIKE PINK',\n",
       "   'ALARM CLOCK BAKELIKE ORANGE',\n",
       "   'SANDWICH BATH SPONGE'],\n",
       "  ['SWEETHEART FAIRY CAKE CASES',\n",
       "   'RED REFECTORY CLOCK',\n",
       "   'VINTAGE HEADS AND TAILS CARD GAME',\n",
       "   'DOG PICTURE PLAYING CARDS',\n",
       "   'REGENCY MILK JUG PINK',\n",
       "   'REGENCY CAKESTAND TIER',\n",
       "   'PACK OF DINOSAUR CAKE CASES',\n",
       "   'TEATIME FAIRY CAKE CASES',\n",
       "   'TEA TIME OVEN GLOVE',\n",
       "   'REVOLVER WOODEN RULER',\n",
       "   'TRIPLE HOOK ANTIQUE IVORY ROSE',\n",
       "   'SET HEART SHAPE PETIT FOUR CASES',\n",
       "   'AIRLINE BAG VINTAGE JET SET BROWN',\n",
       "   'SINGLE ANTIQUE ROSE HOOK IVORY',\n",
       "   'SET OF VINTAGE LEAF CAKE CASES',\n",
       "   'AIRLINE BAG VINTAGE JET SET WHITE',\n",
       "   'AIRLINE BAG VINTAGE JET SET RED',\n",
       "   'AIRLINE BAG VINTAGE WORLD CHAMPION',\n",
       "   'WOODLAND DESIGN COTTON TOTE BAG',\n",
       "   'WOODLAND CHARLOTTE BAG',\n",
       "   'ALARM CLOCK BAKELIKE RED',\n",
       "   'AIRLINE BAG VINTAGE TOKYO'],\n",
       "  ['SET OF TINS VINTAGE BATHROOM',\n",
       "   'GIFT BAG PSYCHEDELIC APPLES',\n",
       "   'SMALL FOLDING SCISSORPOINTED EDGE',\n",
       "   'SHEET OF CAT STICKERS',\n",
       "   'SHEET OF DOG STICKERS',\n",
       "   'RED TOADSTOOL LED NIGHT LIGHT',\n",
       "   'ROSES REGENCY TEACUP AND SAUCER',\n",
       "   'REGENCY CAKESTAND TIER',\n",
       "   'RED RETROSPOT OVEN GLOVE DOUBLE',\n",
       "   'PACK OF DINOSAUR CAKE CASES',\n",
       "   'LARGE HEART MEASURING SPOONS',\n",
       "   'RED DRAWER KNOB ACRYLIC EDWARDIAN',\n",
       "   'WATERING CAN PINK BUNNY',\n",
       "   'TREASURE ISLAND BOOK BOX',\n",
       "   'HOLIDAY FUN LUDO',\n",
       "   'VINTAGE HEADS AND TAILS CARD GAME',\n",
       "   'RED RETROSPOT PURSE',\n",
       "   'AIRLINE BAG VINTAGE JET SET BROWN',\n",
       "   'AIRLINE BAG VINTAGE TOKYO',\n",
       "   'AIRLINE BAG VINTAGE JET SET RED',\n",
       "   'AIRLINE BAG VINTAGE JET SET WHITE',\n",
       "   'SMALL HEART MEASURING SPOONS',\n",
       "   'ICE CREAM SUNDAE LIP GLOSS',\n",
       "   'MINI PAINT SET VINTAGE'],\n",
       "  ['PINK GOOSE FEATHER TREE',\n",
       "   'MINI PLAYING CARDS DOLLY GIRL',\n",
       "   'MINI PLAYING CARDS SPACEBOY',\n",
       "   'CHRISTMAS TABLE SILVER CANDLE SPIKE',\n",
       "   'WOODLAND CHARLOTTE BAG',\n",
       "   'CLASSIC CHROME BICYCLE BELL',\n",
       "   'RED TOADSTOOL LED NIGHT LIGHT',\n",
       "   'PINK NEW BAROQUECANDLESTICK CANDLE',\n",
       "   'BOOM BOX SPEAKER BOYS',\n",
       "   'BICYCLE PUNCTURE REPAIR KIT',\n",
       "   'RABBIT NIGHT LIGHT'],\n",
       "  ['ALARM CLOCK BAKELIKE RED',\n",
       "   'FEATHER PENCOAL BLACK',\n",
       "   'DOG PICTURE PLAYING CARDS',\n",
       "   'SMALL HEART MEASURING SPOONS',\n",
       "   'TRIPLE HOOK ANTIQUE IVORY ROSE',\n",
       "   'ALARM CLOCK BAKELIKE CHOCOLATE',\n",
       "   'NAMASTE SWAGAT INCENSE',\n",
       "   'VICTORIAN SEWING KIT',\n",
       "   'AIRLINE BAG VINTAGE JET SET BROWN',\n",
       "   'REGENCY TEA PLATE ROSES',\n",
       "   'REGENCY MILK JUG PINK',\n",
       "   'REGENCY SUGAR BOWL GREEN',\n",
       "   'REGENCY TEAPOT ROSES',\n",
       "   'REGENCY TEA PLATE PINK',\n",
       "   'REGENCY TEA PLATE GREEN',\n",
       "   'REGENCY TEA STRAINER',\n",
       "   'RABBIT NIGHT LIGHT',\n",
       "   'AIRLINE BAG VINTAGE TOKYO'],\n",
       "  ['ALARM CLOCK BAKELIKE GREEN',\n",
       "   'ALARM CLOCK BAKELIKE RED',\n",
       "   'PACK OF MUSHROOM CAKE CASES',\n",
       "   'PACK OF SPACEBOY CAKE CASES',\n",
       "   'SET OF VINTAGE LEAF CAKE CASES',\n",
       "   'LARGE HEART MEASURING SPOONS',\n",
       "   'SWEETHEART FAIRY CAKE CASES',\n",
       "   'SMALL HEART MEASURING SPOONS',\n",
       "   'WOODLAND CHARLOTTE BAG',\n",
       "   'FOOD CONTAINER SET LOVE HEART',\n",
       "   'ALARM CLOCK BAKELIKE PINK',\n",
       "   'TEATIME FAIRY CAKE CASES',\n",
       "   'ALARM CLOCK BAKELIKE CHOCOLATE',\n",
       "   'REGENCY TEA STRAINER',\n",
       "   'PANTRY HOOK TEA STRAINER',\n",
       "   'DOG PICTURE PLAYING CARDS',\n",
       "   'GREEN REGENCY TEACUP AND SAUCER',\n",
       "   'PINK REGENCY TEACUP AND SAUCER',\n",
       "   'TEA TIME OVEN GLOVE',\n",
       "   'TEA TIME KITCHEN APRON',\n",
       "   'TEA TIME DES TEA COSY',\n",
       "   'REGENCY TEAPOT ROSES',\n",
       "   'REGENCY CAKESTAND TIER',\n",
       "   'CHRISTMAS METAL TAGS ASSORTED',\n",
       "   'BIRDCAGE DECORATION TEALIGHT HOLDER',\n",
       "   'AIRLINE BAG VINTAGE JET SET RED',\n",
       "   'AIRLINE BAG VINTAGE TOKYO',\n",
       "   'AIRLINE BAG VINTAGE JET SET BROWN',\n",
       "   'AIRLINE BAG VINTAGE WORLD CHAMPION',\n",
       "   'MADRAS NOTEBOOK MEDIUM',\n",
       "   'PINK GOOSE FEATHER TREE',\n",
       "   'MINI LIGHTS WOODLAND MUSHROOMS',\n",
       "   'RED TOADSTOOL LED NIGHT LIGHT',\n",
       "   'ROSES REGENCY TEACUP AND SAUCER',\n",
       "   'RABBIT NIGHT LIGHT',\n",
       "   'MINI PLAYING CARDS DOLLY GIRL',\n",
       "   'WOODEN SCHOOL COLOURING SET',\n",
       "   'MINI PLAYING CARDS SPACEBOY',\n",
       "   'MINI PAINT SET VINTAGE',\n",
       "   'TRADITIONAL KNITTING NANCY',\n",
       "   'TRIPLE HOOK ANTIQUE IVORY ROSE',\n",
       "   'PANTRY HOOK SPATULA',\n",
       "   'PANTRY HOOK BALLOON WHISK',\n",
       "   'REVOLVER WOODEN RULER',\n",
       "   'PLAYING CARDS KEEP CALM CARRY ON',\n",
       "   'TREASURE ISLAND BOOK BOX',\n",
       "   'VINTAGE HEADS AND TAILS CARD GAME']]]"
      ]
     },
     "execution_count": 47,
     "metadata": {},
     "output_type": "execute_result"
    }
   ],
   "source": [
    "baskets_sequence = baskets_sequence['ProdDescr'].tolist()\n",
    "baskets_sequence[:1]"
   ]
  },
  {
   "cell_type": "code",
   "execution_count": null,
   "metadata": {},
   "outputs": [],
   "source": [
    "result = aprioriall(baskets_sequence, min_sup=100, verbose=False)\n",
    "filter_closed(result)\n",
    "result"
   ]
  },
  {
   "cell_type": "code",
   "execution_count": null,
   "metadata": {},
   "outputs": [],
   "source": [
    "result = aprioriall(baskets_sequence, min_sup=100, verbose=True)\n",
    "filter_maximal(result)\n",
    "result"
   ]
  }
 ],
 "metadata": {
  "kernelspec": {
   "display_name": "Python 3",
   "language": "python",
   "name": "python3"
  },
  "language_info": {
   "codemirror_mode": {
    "name": "ipython",
    "version": 3
   },
   "file_extension": ".py",
   "mimetype": "text/x-python",
   "name": "python",
   "nbconvert_exporter": "python",
   "pygments_lexer": "ipython3",
   "version": "3.8.6"
  }
 },
 "nbformat": 4,
 "nbformat_minor": 4
}
