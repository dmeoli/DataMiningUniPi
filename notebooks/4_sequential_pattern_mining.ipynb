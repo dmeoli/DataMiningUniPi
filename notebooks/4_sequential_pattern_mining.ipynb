{
 "cells": [
  {
   "cell_type": "markdown",
   "metadata": {},
   "source": [
    "# Task 4: Sequential Pattern Mining"
   ]
  },
  {
   "cell_type": "code",
   "execution_count": 130,
   "metadata": {},
   "outputs": [],
   "source": [
    "import pandas as pd\n",
    "import copy"
   ]
  },
  {
   "cell_type": "markdown",
   "metadata": {},
   "source": [
    "## Loading the new dataset"
   ]
  },
  {
   "cell_type": "code",
   "execution_count": 177,
   "metadata": {},
   "outputs": [
    {
     "data": {
      "text/html": [
       "<div>\n",
       "<style scoped>\n",
       "    .dataframe tbody tr th:only-of-type {\n",
       "        vertical-align: middle;\n",
       "    }\n",
       "\n",
       "    .dataframe tbody tr th {\n",
       "        vertical-align: top;\n",
       "    }\n",
       "\n",
       "    .dataframe thead th {\n",
       "        text-align: right;\n",
       "    }\n",
       "</style>\n",
       "<table border=\"1\" class=\"dataframe\">\n",
       "  <thead>\n",
       "    <tr style=\"text-align: right;\">\n",
       "      <th></th>\n",
       "      <th>BasketID</th>\n",
       "      <th>BasketDate</th>\n",
       "      <th>Sale</th>\n",
       "      <th>CustomerID</th>\n",
       "      <th>ProdID</th>\n",
       "      <th>ProdDescr</th>\n",
       "      <th>Qta</th>\n",
       "      <th>TotSale</th>\n",
       "    </tr>\n",
       "  </thead>\n",
       "  <tbody>\n",
       "    <tr>\n",
       "      <th>0</th>\n",
       "      <td>539993</td>\n",
       "      <td>2011-04-01 10:00:00</td>\n",
       "      <td>1.95</td>\n",
       "      <td>13313.0</td>\n",
       "      <td>22386</td>\n",
       "      <td>JUMBO BAG PINK POLKADOT</td>\n",
       "      <td>10</td>\n",
       "      <td>19.50</td>\n",
       "    </tr>\n",
       "    <tr>\n",
       "      <th>1</th>\n",
       "      <td>539993</td>\n",
       "      <td>2011-04-01 10:00:00</td>\n",
       "      <td>0.42</td>\n",
       "      <td>13313.0</td>\n",
       "      <td>21499</td>\n",
       "      <td>BLUE POLKADOT WRAP</td>\n",
       "      <td>25</td>\n",
       "      <td>10.50</td>\n",
       "    </tr>\n",
       "    <tr>\n",
       "      <th>2</th>\n",
       "      <td>539993</td>\n",
       "      <td>2011-04-01 10:00:00</td>\n",
       "      <td>0.42</td>\n",
       "      <td>13313.0</td>\n",
       "      <td>21498</td>\n",
       "      <td>RED RETROSPOT WRAP</td>\n",
       "      <td>25</td>\n",
       "      <td>10.50</td>\n",
       "    </tr>\n",
       "    <tr>\n",
       "      <th>3</th>\n",
       "      <td>539993</td>\n",
       "      <td>2011-04-01 10:00:00</td>\n",
       "      <td>2.10</td>\n",
       "      <td>13313.0</td>\n",
       "      <td>22379</td>\n",
       "      <td>RECYCLING BAG RETROSPOT</td>\n",
       "      <td>5</td>\n",
       "      <td>10.50</td>\n",
       "    </tr>\n",
       "    <tr>\n",
       "      <th>4</th>\n",
       "      <td>539993</td>\n",
       "      <td>2011-04-01 10:00:00</td>\n",
       "      <td>1.25</td>\n",
       "      <td>13313.0</td>\n",
       "      <td>20718</td>\n",
       "      <td>RED RETROSPOT SHOPPER BAG</td>\n",
       "      <td>10</td>\n",
       "      <td>12.50</td>\n",
       "    </tr>\n",
       "    <tr>\n",
       "      <th>...</th>\n",
       "      <td>...</td>\n",
       "      <td>...</td>\n",
       "      <td>...</td>\n",
       "      <td>...</td>\n",
       "      <td>...</td>\n",
       "      <td>...</td>\n",
       "      <td>...</td>\n",
       "      <td>...</td>\n",
       "    </tr>\n",
       "    <tr>\n",
       "      <th>363572</th>\n",
       "      <td>581587</td>\n",
       "      <td>2011-09-12 12:50:00</td>\n",
       "      <td>0.85</td>\n",
       "      <td>12680.0</td>\n",
       "      <td>22613</td>\n",
       "      <td>PACK OF SPACEBOY NAPKINS</td>\n",
       "      <td>12</td>\n",
       "      <td>10.20</td>\n",
       "    </tr>\n",
       "    <tr>\n",
       "      <th>363573</th>\n",
       "      <td>581587</td>\n",
       "      <td>2011-09-12 12:50:00</td>\n",
       "      <td>2.10</td>\n",
       "      <td>12680.0</td>\n",
       "      <td>22899</td>\n",
       "      <td>CHILDRENS APRON DOLLY GIRL</td>\n",
       "      <td>6</td>\n",
       "      <td>12.60</td>\n",
       "    </tr>\n",
       "    <tr>\n",
       "      <th>363574</th>\n",
       "      <td>581587</td>\n",
       "      <td>2011-09-12 12:50:00</td>\n",
       "      <td>4.15</td>\n",
       "      <td>12680.0</td>\n",
       "      <td>23254</td>\n",
       "      <td>CHILDRENS CUTLERY DOLLY GIRL</td>\n",
       "      <td>4</td>\n",
       "      <td>16.60</td>\n",
       "    </tr>\n",
       "    <tr>\n",
       "      <th>363575</th>\n",
       "      <td>581587</td>\n",
       "      <td>2011-09-12 12:50:00</td>\n",
       "      <td>4.15</td>\n",
       "      <td>12680.0</td>\n",
       "      <td>23255</td>\n",
       "      <td>CHILDRENS CUTLERY CIRCUS PARADE</td>\n",
       "      <td>4</td>\n",
       "      <td>16.60</td>\n",
       "    </tr>\n",
       "    <tr>\n",
       "      <th>363576</th>\n",
       "      <td>581587</td>\n",
       "      <td>2011-09-12 12:50:00</td>\n",
       "      <td>4.95</td>\n",
       "      <td>12680.0</td>\n",
       "      <td>22138</td>\n",
       "      <td>BAKING SET PIECE RETROSPOT</td>\n",
       "      <td>3</td>\n",
       "      <td>14.85</td>\n",
       "    </tr>\n",
       "  </tbody>\n",
       "</table>\n",
       "<p>363577 rows × 8 columns</p>\n",
       "</div>"
      ],
      "text/plain": [
       "        BasketID           BasketDate  Sale  CustomerID ProdID  \\\n",
       "0         539993  2011-04-01 10:00:00  1.95     13313.0  22386   \n",
       "1         539993  2011-04-01 10:00:00  0.42     13313.0  21499   \n",
       "2         539993  2011-04-01 10:00:00  0.42     13313.0  21498   \n",
       "3         539993  2011-04-01 10:00:00  2.10     13313.0  22379   \n",
       "4         539993  2011-04-01 10:00:00  1.25     13313.0  20718   \n",
       "...          ...                  ...   ...         ...    ...   \n",
       "363572    581587  2011-09-12 12:50:00  0.85     12680.0  22613   \n",
       "363573    581587  2011-09-12 12:50:00  2.10     12680.0  22899   \n",
       "363574    581587  2011-09-12 12:50:00  4.15     12680.0  23254   \n",
       "363575    581587  2011-09-12 12:50:00  4.15     12680.0  23255   \n",
       "363576    581587  2011-09-12 12:50:00  4.95     12680.0  22138   \n",
       "\n",
       "                              ProdDescr  Qta  TotSale  \n",
       "0               JUMBO BAG PINK POLKADOT   10    19.50  \n",
       "1                    BLUE POLKADOT WRAP   25    10.50  \n",
       "2                    RED RETROSPOT WRAP   25    10.50  \n",
       "3               RECYCLING BAG RETROSPOT    5    10.50  \n",
       "4             RED RETROSPOT SHOPPER BAG   10    12.50  \n",
       "...                                 ...  ...      ...  \n",
       "363572         PACK OF SPACEBOY NAPKINS   12    10.20  \n",
       "363573       CHILDRENS APRON DOLLY GIRL    6    12.60  \n",
       "363574     CHILDRENS CUTLERY DOLLY GIRL    4    16.60  \n",
       "363575  CHILDRENS CUTLERY CIRCUS PARADE    4    16.60  \n",
       "363576       BAKING SET PIECE RETROSPOT    3    14.85  \n",
       "\n",
       "[363577 rows x 8 columns]"
      ]
     },
     "execution_count": 177,
     "metadata": {},
     "output_type": "execute_result"
    }
   ],
   "source": [
    "df = pd.read_csv('../dataset/new_customer_supermarket.csv', sep='\\t', index_col=0)\n",
    "df"
   ]
  },
  {
   "cell_type": "code",
   "execution_count": 178,
   "metadata": {},
   "outputs": [
    {
     "data": {
      "text/plain": [
       "BasketID        int64\n",
       "BasketDate     object\n",
       "Sale          float64\n",
       "CustomerID    float64\n",
       "ProdID         object\n",
       "ProdDescr      object\n",
       "Qta             int64\n",
       "TotSale       float64\n",
       "dtype: object"
      ]
     },
     "execution_count": 178,
     "metadata": {},
     "output_type": "execute_result"
    }
   ],
   "source": [
    "df.dtypes"
   ]
  },
  {
   "cell_type": "code",
   "execution_count": 179,
   "metadata": {},
   "outputs": [],
   "source": [
    "df = df.astype({'BasketDate': 'datetime64',\n",
    "                'BasketID': 'object',\n",
    "                'CustomerID': 'object'})"
   ]
  },
  {
   "cell_type": "code",
   "execution_count": 180,
   "metadata": {},
   "outputs": [
    {
     "data": {
      "text/plain": [
       "3678"
      ]
     },
     "execution_count": 180,
     "metadata": {},
     "output_type": "execute_result"
    }
   ],
   "source": [
    "df['ProdDescr'].nunique()"
   ]
  },
  {
   "cell_type": "code",
   "execution_count": 181,
   "metadata": {},
   "outputs": [],
   "source": [
    "import webcolors\n",
    "from nltk.corpus import stopwords\n",
    "from nltk import word_tokenize, pos_tag\n",
    "from nltk.stem import WordNetLemmatizer\n",
    "\n",
    "lemmatizer = WordNetLemmatizer()\n",
    "stop_words = set(stopwords.words('english'))\n",
    "colors = webcolors.CSS3_NAMES_TO_HEX.keys()\n",
    "\n",
    "def lemmatize_descr(descr):\n",
    "    return ' '.join(lemmatizer.lemmatize(token) for token in word_tokenize(descr.lower()) \n",
    "                    if not token in stop_words and \n",
    "                    not any(color in token for color in colors) and \n",
    "                    len(token) >= 3)"
   ]
  },
  {
   "cell_type": "code",
   "execution_count": 182,
   "metadata": {},
   "outputs": [
    {
     "data": {
      "text/html": [
       "<div>\n",
       "<style scoped>\n",
       "    .dataframe tbody tr th:only-of-type {\n",
       "        vertical-align: middle;\n",
       "    }\n",
       "\n",
       "    .dataframe tbody tr th {\n",
       "        vertical-align: top;\n",
       "    }\n",
       "\n",
       "    .dataframe thead th {\n",
       "        text-align: right;\n",
       "    }\n",
       "</style>\n",
       "<table border=\"1\" class=\"dataframe\">\n",
       "  <thead>\n",
       "    <tr style=\"text-align: right;\">\n",
       "      <th></th>\n",
       "      <th>BasketID</th>\n",
       "      <th>BasketDate</th>\n",
       "      <th>Sale</th>\n",
       "      <th>CustomerID</th>\n",
       "      <th>ProdID</th>\n",
       "      <th>ProdDescr</th>\n",
       "      <th>Qta</th>\n",
       "      <th>TotSale</th>\n",
       "    </tr>\n",
       "  </thead>\n",
       "  <tbody>\n",
       "    <tr>\n",
       "      <th>0</th>\n",
       "      <td>539993</td>\n",
       "      <td>2011-04-01 10:00:00</td>\n",
       "      <td>1.95</td>\n",
       "      <td>13313</td>\n",
       "      <td>22386</td>\n",
       "      <td>jumbo bag polkadot</td>\n",
       "      <td>10</td>\n",
       "      <td>19.50</td>\n",
       "    </tr>\n",
       "    <tr>\n",
       "      <th>1</th>\n",
       "      <td>539993</td>\n",
       "      <td>2011-04-01 10:00:00</td>\n",
       "      <td>0.42</td>\n",
       "      <td>13313</td>\n",
       "      <td>21499</td>\n",
       "      <td>polkadot wrap</td>\n",
       "      <td>25</td>\n",
       "      <td>10.50</td>\n",
       "    </tr>\n",
       "    <tr>\n",
       "      <th>2</th>\n",
       "      <td>539993</td>\n",
       "      <td>2011-04-01 10:00:00</td>\n",
       "      <td>0.42</td>\n",
       "      <td>13313</td>\n",
       "      <td>21498</td>\n",
       "      <td>retrospot wrap</td>\n",
       "      <td>25</td>\n",
       "      <td>10.50</td>\n",
       "    </tr>\n",
       "    <tr>\n",
       "      <th>3</th>\n",
       "      <td>539993</td>\n",
       "      <td>2011-04-01 10:00:00</td>\n",
       "      <td>2.10</td>\n",
       "      <td>13313</td>\n",
       "      <td>22379</td>\n",
       "      <td>recycling bag retrospot</td>\n",
       "      <td>5</td>\n",
       "      <td>10.50</td>\n",
       "    </tr>\n",
       "    <tr>\n",
       "      <th>4</th>\n",
       "      <td>539993</td>\n",
       "      <td>2011-04-01 10:00:00</td>\n",
       "      <td>1.25</td>\n",
       "      <td>13313</td>\n",
       "      <td>20718</td>\n",
       "      <td>retrospot shopper bag</td>\n",
       "      <td>10</td>\n",
       "      <td>12.50</td>\n",
       "    </tr>\n",
       "    <tr>\n",
       "      <th>...</th>\n",
       "      <td>...</td>\n",
       "      <td>...</td>\n",
       "      <td>...</td>\n",
       "      <td>...</td>\n",
       "      <td>...</td>\n",
       "      <td>...</td>\n",
       "      <td>...</td>\n",
       "      <td>...</td>\n",
       "    </tr>\n",
       "    <tr>\n",
       "      <th>363572</th>\n",
       "      <td>581587</td>\n",
       "      <td>2011-09-12 12:50:00</td>\n",
       "      <td>0.85</td>\n",
       "      <td>12680</td>\n",
       "      <td>22613</td>\n",
       "      <td>pack spaceboy napkin</td>\n",
       "      <td>12</td>\n",
       "      <td>10.20</td>\n",
       "    </tr>\n",
       "    <tr>\n",
       "      <th>363573</th>\n",
       "      <td>581587</td>\n",
       "      <td>2011-09-12 12:50:00</td>\n",
       "      <td>2.10</td>\n",
       "      <td>12680</td>\n",
       "      <td>22899</td>\n",
       "      <td>childrens apron dolly girl</td>\n",
       "      <td>6</td>\n",
       "      <td>12.60</td>\n",
       "    </tr>\n",
       "    <tr>\n",
       "      <th>363574</th>\n",
       "      <td>581587</td>\n",
       "      <td>2011-09-12 12:50:00</td>\n",
       "      <td>4.15</td>\n",
       "      <td>12680</td>\n",
       "      <td>23254</td>\n",
       "      <td>childrens cutlery dolly girl</td>\n",
       "      <td>4</td>\n",
       "      <td>16.60</td>\n",
       "    </tr>\n",
       "    <tr>\n",
       "      <th>363575</th>\n",
       "      <td>581587</td>\n",
       "      <td>2011-09-12 12:50:00</td>\n",
       "      <td>4.15</td>\n",
       "      <td>12680</td>\n",
       "      <td>23255</td>\n",
       "      <td>childrens cutlery circus parade</td>\n",
       "      <td>4</td>\n",
       "      <td>16.60</td>\n",
       "    </tr>\n",
       "    <tr>\n",
       "      <th>363576</th>\n",
       "      <td>581587</td>\n",
       "      <td>2011-09-12 12:50:00</td>\n",
       "      <td>4.95</td>\n",
       "      <td>12680</td>\n",
       "      <td>22138</td>\n",
       "      <td>baking set piece retrospot</td>\n",
       "      <td>3</td>\n",
       "      <td>14.85</td>\n",
       "    </tr>\n",
       "  </tbody>\n",
       "</table>\n",
       "<p>363577 rows × 8 columns</p>\n",
       "</div>"
      ],
      "text/plain": [
       "       BasketID          BasketDate  Sale CustomerID ProdID  \\\n",
       "0        539993 2011-04-01 10:00:00  1.95      13313  22386   \n",
       "1        539993 2011-04-01 10:00:00  0.42      13313  21499   \n",
       "2        539993 2011-04-01 10:00:00  0.42      13313  21498   \n",
       "3        539993 2011-04-01 10:00:00  2.10      13313  22379   \n",
       "4        539993 2011-04-01 10:00:00  1.25      13313  20718   \n",
       "...         ...                 ...   ...        ...    ...   \n",
       "363572   581587 2011-09-12 12:50:00  0.85      12680  22613   \n",
       "363573   581587 2011-09-12 12:50:00  2.10      12680  22899   \n",
       "363574   581587 2011-09-12 12:50:00  4.15      12680  23254   \n",
       "363575   581587 2011-09-12 12:50:00  4.15      12680  23255   \n",
       "363576   581587 2011-09-12 12:50:00  4.95      12680  22138   \n",
       "\n",
       "                              ProdDescr  Qta  TotSale  \n",
       "0                    jumbo bag polkadot   10    19.50  \n",
       "1                         polkadot wrap   25    10.50  \n",
       "2                        retrospot wrap   25    10.50  \n",
       "3               recycling bag retrospot    5    10.50  \n",
       "4                 retrospot shopper bag   10    12.50  \n",
       "...                                 ...  ...      ...  \n",
       "363572             pack spaceboy napkin   12    10.20  \n",
       "363573       childrens apron dolly girl    6    12.60  \n",
       "363574     childrens cutlery dolly girl    4    16.60  \n",
       "363575  childrens cutlery circus parade    4    16.60  \n",
       "363576       baking set piece retrospot    3    14.85  \n",
       "\n",
       "[363577 rows x 8 columns]"
      ]
     },
     "execution_count": 182,
     "metadata": {},
     "output_type": "execute_result"
    }
   ],
   "source": [
    "df['ProdDescr'] = df['ProdDescr'].apply(lemmatize_descr)\n",
    "df"
   ]
  },
  {
   "cell_type": "code",
   "execution_count": 183,
   "metadata": {},
   "outputs": [
    {
     "data": {
      "text/plain": [
       "3259"
      ]
     },
     "execution_count": 183,
     "metadata": {},
     "output_type": "execute_result"
    }
   ],
   "source": [
    "df['ProdDescr'].nunique()"
   ]
  },
  {
   "cell_type": "markdown",
   "metadata": {},
   "source": [
    "## AprioriAll"
   ]
  },
  {
   "cell_type": "code",
   "execution_count": 138,
   "metadata": {},
   "outputs": [],
   "source": [
    "# An event is a list of strings.\n",
    "# A sequence is a list of events.\n",
    "# A dataset is a list of sequences.\n",
    "# Thus, a dataset is a list of lists of lists of strings.\n",
    "\n",
    "dataset = [\n",
    "    [['a'], ['a', 'b', 'c'], ['a', 'c'], ['c']],\n",
    "    [['a'], ['c'], ['b', 'c']],\n",
    "    [['a', 'b'], ['d'], ['c'], ['b'], ['c']],\n",
    "    [['a'], ['c'], ['b'], ['c']]\n",
    "]"
   ]
  },
  {
   "cell_type": "code",
   "execution_count": 139,
   "metadata": {},
   "outputs": [],
   "source": [
    "\"\"\"\n",
    "This is a simple recursive method that checks if subsequence is a subSequence of mainSequence\n",
    "\"\"\"\n",
    "def isSubsequence(mainSequence, subSequence):\n",
    "    subSequenceClone = list(subSequence) # clone the sequence, because we will alter it\n",
    "    return isSubsequenceRecursive(mainSequence, subSequenceClone) # start recursion\n",
    "\n",
    "\"\"\"\n",
    "Function for the recursive call of isSubsequence, not intended for external calls\n",
    "\"\"\"\n",
    "def isSubsequenceRecursive(mainSequence, subSequenceClone, start=0):\n",
    "    # check if empty: end of recursion, all itemsets have been found\n",
    "    if not subSequenceClone:\n",
    "        return True\n",
    "    # retrieves element of the subsequence and removes is from subsequence \n",
    "    firstElem = set(subSequenceClone.pop(0))\n",
    "    # search for the first itemset...\n",
    "    for i in range(start, len(mainSequence)):\n",
    "        if set(mainSequence[i]).issuperset(firstElem):\n",
    "            # and recurse\n",
    "            return isSubsequenceRecursive(mainSequence, subSequenceClone, i + 1)\n",
    "    return False"
   ]
  },
  {
   "cell_type": "code",
   "execution_count": 140,
   "metadata": {},
   "outputs": [],
   "source": [
    "aSequence = [['a'], ['b', 'c'], ['d'], ['a', 'e']]"
   ]
  },
  {
   "cell_type": "code",
   "execution_count": 141,
   "metadata": {
    "collapsed": false,
    "jupyter": {
     "outputs_hidden": false
    }
   },
   "outputs": [
    {
     "data": {
      "text/plain": [
       "True"
      ]
     },
     "execution_count": 141,
     "metadata": {},
     "output_type": "execute_result"
    }
   ],
   "source": [
    "isSubsequence(aSequence, [['a'], ['d'], ['e']])"
   ]
  },
  {
   "cell_type": "code",
   "execution_count": 142,
   "metadata": {
    "collapsed": false,
    "jupyter": {
     "outputs_hidden": false
    }
   },
   "outputs": [
    {
     "data": {
      "text/plain": [
       "True"
      ]
     },
     "execution_count": 142,
     "metadata": {},
     "output_type": "execute_result"
    }
   ],
   "source": [
    "isSubsequence(aSequence, [['a'], ['b', 'c'], ['e']])"
   ]
  },
  {
   "cell_type": "code",
   "execution_count": 143,
   "metadata": {
    "collapsed": false,
    "jupyter": {
     "outputs_hidden": false
    }
   },
   "outputs": [
    {
     "data": {
      "text/plain": [
       "False"
      ]
     },
     "execution_count": 143,
     "metadata": {},
     "output_type": "execute_result"
    }
   ],
   "source": [
    "isSubsequence(aSequence, [['a'], ['b', 'd']])"
   ]
  },
  {
   "cell_type": "code",
   "execution_count": 144,
   "metadata": {},
   "outputs": [],
   "source": [
    "\"\"\"\n",
    "Computes the length of the sequence (sum of the length of the contained itemsets)\n",
    "\"\"\"\n",
    "def sequenceLength(sequence):\n",
    "    return sum(len(i) for i in sequence)"
   ]
  },
  {
   "cell_type": "code",
   "execution_count": 145,
   "metadata": {
    "collapsed": false,
    "jupyter": {
     "outputs_hidden": false
    }
   },
   "outputs": [
    {
     "name": "stdout",
     "output_type": "stream",
     "text": [
      "7\n"
     ]
    }
   ],
   "source": [
    "print(sequenceLength([['a'], ['b', 'c'], ['a'], ['b', 'c', 'd']]))"
   ]
  },
  {
   "cell_type": "code",
   "execution_count": 146,
   "metadata": {},
   "outputs": [],
   "source": [
    "\"\"\"\n",
    "Computes the support of a sequence in a dataset\n",
    "\"\"\"\n",
    "def countSupport(dataset, candidateSequence):\n",
    "    return sum(1 for seq in dataset if isSubsequence(seq, candidateSequence))"
   ]
  },
  {
   "cell_type": "code",
   "execution_count": 147,
   "metadata": {
    "collapsed": false,
    "jupyter": {
     "outputs_hidden": false
    }
   },
   "outputs": [
    {
     "data": {
      "text/plain": [
       "4"
      ]
     },
     "execution_count": 147,
     "metadata": {},
     "output_type": "execute_result"
    }
   ],
   "source": [
    "countSupport(dataset, [['b']])"
   ]
  },
  {
   "cell_type": "code",
   "execution_count": 148,
   "metadata": {
    "collapsed": false,
    "jupyter": {
     "outputs_hidden": false
    }
   },
   "outputs": [
    {
     "data": {
      "text/plain": [
       "2"
      ]
     },
     "execution_count": 148,
     "metadata": {},
     "output_type": "execute_result"
    }
   ],
   "source": [
    "countSupport(dataset, [['a'], ['b', 'c']])"
   ]
  },
  {
   "cell_type": "code",
   "execution_count": 149,
   "metadata": {},
   "outputs": [],
   "source": [
    "\"\"\"\n",
    "Generates one candidate of length k from two candidates of length (k-1) as used in the AprioriAll algorithm\n",
    "\"\"\"\n",
    "def generateCandidatesForPair(cand1, cand2):\n",
    "    cand1Clone = copy.deepcopy(cand1)\n",
    "    cand2Clone = copy.deepcopy(cand2)\n",
    "    # drop the leftmost item from cand1:\n",
    "    if len(cand1[0]) == 1:\n",
    "        cand1Clone.pop(0)\n",
    "    else:\n",
    "        cand1Clone[0] = cand1Clone[0][1:]\n",
    "    # drop the rightmost item from cand2:\n",
    "    if len(cand2[-1]) == 1:\n",
    "        cand2Clone.pop(-1)\n",
    "    else:\n",
    "        cand2Clone[-1] = cand2Clone[-1][:-1]\n",
    "    \n",
    "    # if the result is not the same, then we dont need to join\n",
    "    if not cand1Clone == cand2Clone:\n",
    "        return []\n",
    "    else:\n",
    "        newCandidate = copy.deepcopy(cand1)\n",
    "        if len(cand2[-1]) == 1:\n",
    "            newCandidate.append(cand2[-1])\n",
    "        else:\n",
    "            newCandidate[-1].extend(cand2[-1][-1])\n",
    "        return newCandidate"
   ]
  },
  {
   "cell_type": "code",
   "execution_count": 150,
   "metadata": {
    "collapsed": false,
    "jupyter": {
     "outputs_hidden": false
    }
   },
   "outputs": [
    {
     "data": {
      "text/plain": [
       "[['a'], ['b', 'c'], ['d', 'e']]"
      ]
     },
     "execution_count": 150,
     "metadata": {},
     "output_type": "execute_result"
    }
   ],
   "source": [
    "candidateA = [['a'], ['b', 'c'], ['d']]\n",
    "candidateB = [['b', 'c'], ['d', 'e']]\n",
    "generateCandidatesForPair(candidateA, candidateB)"
   ]
  },
  {
   "cell_type": "code",
   "execution_count": 151,
   "metadata": {
    "collapsed": false,
    "jupyter": {
     "outputs_hidden": false
    }
   },
   "outputs": [
    {
     "data": {
      "text/plain": [
       "[['a'], ['b', 'c'], ['d'], ['e']]"
      ]
     },
     "execution_count": 151,
     "metadata": {},
     "output_type": "execute_result"
    }
   ],
   "source": [
    "candidateA = [['a'], ['b', 'c'], ['d']]\n",
    "candidateC = [['b', 'c'], ['d'], ['e']]\n",
    "generateCandidatesForPair(candidateA, candidateC)"
   ]
  },
  {
   "cell_type": "code",
   "execution_count": 152,
   "metadata": {
    "collapsed": false,
    "jupyter": {
     "outputs_hidden": false
    }
   },
   "outputs": [
    {
     "data": {
      "text/plain": [
       "[]"
      ]
     },
     "execution_count": 152,
     "metadata": {},
     "output_type": "execute_result"
    }
   ],
   "source": [
    "candidateA = [['a'], ['b', 'c'], ['d']]\n",
    "candidateD = [['a'], ['b', 'c'], ['e']]\n",
    "generateCandidatesForPair(candidateA, candidateD)"
   ]
  },
  {
   "cell_type": "code",
   "execution_count": 153,
   "metadata": {},
   "outputs": [],
   "source": [
    "\"\"\"\n",
    "Generates the set of candidates of length k from the set of frequent sequences with length (k-1)\n",
    "\"\"\"\n",
    "def generateCandidates(lastLevelCandidates):\n",
    "    k = sequenceLength(lastLevelCandidates[0]) + 1\n",
    "    if k == 2:\n",
    "        flatShortCandidates = [item for sublist2 in lastLevelCandidates for sublist1 in sublist2 for item in sublist1]\n",
    "        result = [[[a, b]] for a in flatShortCandidates for b in flatShortCandidates if b > a]\n",
    "        result.extend([[[a], [b]] for a in flatShortCandidates for b in flatShortCandidates])\n",
    "        return result\n",
    "    else:\n",
    "        candidates = []\n",
    "        for i in range(0, len(lastLevelCandidates)):\n",
    "            for j in range(0, len(lastLevelCandidates)):\n",
    "                newCand = generateCandidatesForPair(lastLevelCandidates[i], lastLevelCandidates[j])\n",
    "                if not newCand == []:\n",
    "                    candidates.append(newCand)\n",
    "        candidates.sort()\n",
    "        return candidates"
   ]
  },
  {
   "cell_type": "markdown",
   "metadata": {},
   "source": [
    "An example; lets assume, we know the frequent sequences of level 2:"
   ]
  },
  {
   "cell_type": "code",
   "execution_count": 154,
   "metadata": {},
   "outputs": [],
   "source": [
    "lastLevelFrequentPatterns = [\n",
    "    [['a', 'b']], \n",
    "    [['b', 'c']], \n",
    "    [['a'], ['b']], \n",
    "    [['a'], ['c']], \n",
    "    [['b'], ['c']], \n",
    "    [['c'], ['b']], \n",
    "    [['c'], ['c']]\n",
    "]"
   ]
  },
  {
   "cell_type": "markdown",
   "metadata": {},
   "source": [
    "Then we can compute the generate candidates for level 3"
   ]
  },
  {
   "cell_type": "code",
   "execution_count": 155,
   "metadata": {
    "collapsed": false,
    "jupyter": {
     "outputs_hidden": false
    }
   },
   "outputs": [
    {
     "data": {
      "text/plain": [
       "[[['a'], ['b'], ['c']],\n",
       " [['a'], ['b', 'c']],\n",
       " [['a'], ['c'], ['b']],\n",
       " [['a'], ['c'], ['c']],\n",
       " [['a', 'b'], ['c']],\n",
       " [['a', 'b', 'c']],\n",
       " [['b'], ['c'], ['b']],\n",
       " [['b'], ['c'], ['c']],\n",
       " [['b', 'c'], ['b']],\n",
       " [['b', 'c'], ['c']],\n",
       " [['c'], ['b'], ['c']],\n",
       " [['c'], ['b', 'c']],\n",
       " [['c'], ['c'], ['b']],\n",
       " [['c'], ['c'], ['c']]]"
      ]
     },
     "execution_count": 155,
     "metadata": {},
     "output_type": "execute_result"
    }
   ],
   "source": [
    "newCandidates = generateCandidates(lastLevelFrequentPatterns)\n",
    "newCandidates"
   ]
  },
  {
   "cell_type": "code",
   "execution_count": 156,
   "metadata": {},
   "outputs": [],
   "source": [
    "\"\"\"\n",
    "Computes all direct subsequence for a given sequence.\n",
    "A direct subsequence is any sequence that originates from deleting exactly one item from any event in the original sequence.\n",
    "\"\"\"\n",
    "def generateDirectSubsequences(sequence):\n",
    "    result = []\n",
    "    for i, itemset in enumerate(sequence):\n",
    "        if len(itemset) == 1:\n",
    "            sequenceClone = copy.deepcopy(sequence)\n",
    "            sequenceClone.pop(i)\n",
    "            result.append(sequenceClone)\n",
    "        else:\n",
    "            for j in range(len(itemset)):\n",
    "                sequenceClone = copy.deepcopy(sequence)\n",
    "                sequenceClone[i].pop(j)\n",
    "                result.append(sequenceClone)\n",
    "    return result"
   ]
  },
  {
   "cell_type": "code",
   "execution_count": 157,
   "metadata": {
    "collapsed": false,
    "jupyter": {
     "outputs_hidden": false
    }
   },
   "outputs": [],
   "source": [
    "\"\"\"\n",
    "Prunes the set of candidates generated for length k given all frequent sequence of level (k-1), as done in AprioriAll\n",
    "\"\"\"\n",
    "def pruneCandidates(candidatesLastLevel, candidatesGenerated):\n",
    "    return [cand for cand in candidatesGenerated if all(x in candidatesLastLevel for x in generateDirectSubsequences(cand))]"
   ]
  },
  {
   "cell_type": "markdown",
   "metadata": {},
   "source": [
    "We apply this on example dataset:"
   ]
  },
  {
   "cell_type": "code",
   "execution_count": 158,
   "metadata": {
    "collapsed": false,
    "jupyter": {
     "outputs_hidden": false
    }
   },
   "outputs": [
    {
     "data": {
      "text/plain": [
       "[[['a'], ['b'], ['c']],\n",
       " [['a'], ['b', 'c']],\n",
       " [['a'], ['c'], ['b']],\n",
       " [['a'], ['c'], ['c']],\n",
       " [['a', 'b'], ['c']],\n",
       " [['b'], ['c'], ['c']],\n",
       " [['b', 'c'], ['c']],\n",
       " [['c'], ['b'], ['c']],\n",
       " [['c'], ['b', 'c']],\n",
       " [['c'], ['c'], ['b']],\n",
       " [['c'], ['c'], ['c']]]"
      ]
     },
     "execution_count": 158,
     "metadata": {},
     "output_type": "execute_result"
    }
   ],
   "source": [
    "candidatesPruned = pruneCandidates(lastLevelFrequentPatterns, newCandidates)\n",
    "candidatesPruned"
   ]
  },
  {
   "cell_type": "code",
   "execution_count": 159,
   "metadata": {
    "collapsed": false,
    "jupyter": {
     "outputs_hidden": false
    }
   },
   "outputs": [
    {
     "data": {
      "text/plain": [
       "[([['a'], ['b'], ['c']], 3),\n",
       " ([['a'], ['b', 'c']], 2),\n",
       " ([['a'], ['c'], ['b']], 3),\n",
       " ([['a'], ['c'], ['c']], 4),\n",
       " ([['a', 'b'], ['c']], 2),\n",
       " ([['b'], ['c'], ['c']], 2),\n",
       " ([['c'], ['b'], ['c']], 2)]"
      ]
     },
     "execution_count": 159,
     "metadata": {},
     "output_type": "execute_result"
    }
   ],
   "source": [
    "minSupport = 2\n",
    "candidatesCounts = [(i, countSupport(dataset, i)) for i in candidatesPruned]\n",
    "resultLvl = [(i, count) for i, count in candidatesCounts if count >= minSupport]\n",
    "resultLvl"
   ]
  },
  {
   "cell_type": "code",
   "execution_count": 160,
   "metadata": {
    "collapsed": false,
    "jupyter": {
     "outputs_hidden": false
    }
   },
   "outputs": [],
   "source": [
    "\"\"\"\n",
    "The AprioriAll algorithm. Computes the frequent sequences in a seqeunce dataset for a given minSupport.\n",
    "\n",
    "Args:\n",
    "    dataset: a list of sequences, for which the frequent (sub-)sequences are computed\n",
    "    minSupport: the minimum support that makes a sequence frequent\n",
    "    verbose: if true, additional information on the mining process is printed (i.e., candidates on each level)\n",
    "\n",
    "Returns:\n",
    "    A list of tuples (s, c), where s is a frequent sequence, and c is the count for that sequence\n",
    "\"\"\"\n",
    "def aprioriall(dataset, minSupport, verbose=False):\n",
    "    global numberOfCountingOperations\n",
    "    numberOfCountingOperations = 0\n",
    "    overall = []\n",
    "    itemsInDataset = sorted(set([item for sublist1 in dataset for sublist2 in sublist1 for item in sublist2]))\n",
    "    singleItemSequences = [[[item]] for item in itemsInDataset]\n",
    "    singleItemCounts = [(i, countSupport(dataset, i)) for i in singleItemSequences if countSupport(dataset, i) >= minSupport]\n",
    "    overall.append(singleItemCounts)\n",
    "    print('Result, lvl 1: ' + str(overall[0]))\n",
    "    k = 1\n",
    "    while True:\n",
    "        if not overall[k - 1]:\n",
    "            break\n",
    "        # 1. candidate generation\n",
    "        candidatesLastLevel = [x[0] for x in overall[k - 1]]\n",
    "        candidatesGenerated = generateCandidates(candidatesLastLevel)\n",
    "        # 2. candidate pruning (using a \"containsall\" subsequences)\n",
    "        candidatesPruned = [cand for cand in candidatesGenerated if all(x in candidatesLastLevel for x in generateDirectSubsequences(cand))]\n",
    "        # 3. candidate checking\n",
    "        candidatesCounts = [(i, countSupport(dataset, i)) for i in candidatesPruned]\n",
    "        resultLvl = [(i, count) for i, count in candidatesCounts if count >= minSupport]\n",
    "        if verbose:\n",
    "            print('Candidates generated, lvl ' + str(k + 1) + ': ' + str(candidatesGenerated))\n",
    "            print('Candidates pruned, lvl ' + str(k + 1) + ': ' + str(candidatesPruned))\n",
    "            print('Result, lvl ' + str(k + 1) + ': ' + str(resultLvl))\n",
    "        overall.append(resultLvl)\n",
    "        k = k + 1\n",
    "    # \"flatten\" overall\n",
    "    overall = overall[:-1]\n",
    "    overall = [item for sublist in overall for item in sublist]\n",
    "    return overall"
   ]
  },
  {
   "cell_type": "code",
   "execution_count": 161,
   "metadata": {
    "collapsed": false,
    "jupyter": {
     "outputs_hidden": false
    }
   },
   "outputs": [
    {
     "name": "stdout",
     "output_type": "stream",
     "text": [
      "Result, lvl 1: [([['a']], 4), ([['b']], 4), ([['c']], 4)]\n"
     ]
    },
    {
     "data": {
      "text/plain": [
       "[([['a']], 4),\n",
       " ([['b']], 4),\n",
       " ([['c']], 4),\n",
       " ([['a', 'b']], 2),\n",
       " ([['b', 'c']], 2),\n",
       " ([['a'], ['b']], 4),\n",
       " ([['a'], ['c']], 4),\n",
       " ([['b'], ['c']], 3),\n",
       " ([['c'], ['b']], 3),\n",
       " ([['c'], ['c']], 4),\n",
       " ([['a'], ['b'], ['c']], 3),\n",
       " ([['a'], ['b', 'c']], 2),\n",
       " ([['a'], ['c'], ['b']], 3),\n",
       " ([['a'], ['c'], ['c']], 4),\n",
       " ([['a', 'b'], ['c']], 2),\n",
       " ([['b'], ['c'], ['c']], 2),\n",
       " ([['c'], ['b'], ['c']], 2),\n",
       " ([['a'], ['c'], ['b'], ['c']], 2),\n",
       " ([['a', 'b'], ['c'], ['c']], 2)]"
      ]
     },
     "execution_count": 161,
     "metadata": {},
     "output_type": "execute_result"
    }
   ],
   "source": [
    "aprioriall(dataset, minSupport=2, verbose=False)"
   ]
  },
  {
   "cell_type": "markdown",
   "metadata": {},
   "source": [
    "### Supermarket dataset"
   ]
  },
  {
   "cell_type": "raw",
   "metadata": {},
   "source": [
    "supermarket = [\n",
    "    # customer_1: sequence of baskets\n",
    "    [['item_x', 'item_y', 'item_z', etc.], # basket_a\n",
    "     ['item_p', 'item_q', 'item_r', etc.], # basket_b\n",
    "     [etc.]], # basket_c\n",
    "    # customer_2\n",
    "     etc.\n",
    "]"
   ]
  },
  {
   "cell_type": "code",
   "execution_count": 184,
   "metadata": {},
   "outputs": [
    {
     "data": {
      "text/html": [
       "<div>\n",
       "<style scoped>\n",
       "    .dataframe tbody tr th:only-of-type {\n",
       "        vertical-align: middle;\n",
       "    }\n",
       "\n",
       "    .dataframe tbody tr th {\n",
       "        vertical-align: top;\n",
       "    }\n",
       "\n",
       "    .dataframe thead th {\n",
       "        text-align: right;\n",
       "    }\n",
       "</style>\n",
       "<table border=\"1\" class=\"dataframe\">\n",
       "  <thead>\n",
       "    <tr style=\"text-align: right;\">\n",
       "      <th></th>\n",
       "      <th></th>\n",
       "      <th>ProdDescr</th>\n",
       "    </tr>\n",
       "    <tr>\n",
       "      <th>CustomerID</th>\n",
       "      <th>BasketID</th>\n",
       "      <th></th>\n",
       "    </tr>\n",
       "  </thead>\n",
       "  <tbody>\n",
       "    <tr>\n",
       "      <th rowspan=\"5\" valign=\"top\">12347.0</th>\n",
       "      <th>542237</th>\n",
       "      <td>[new baroquecandlestick candle, new baroque ca...</td>\n",
       "    </tr>\n",
       "    <tr>\n",
       "      <th>549222</th>\n",
       "      <td>[airline bag vintage jet set, airline bag vint...</td>\n",
       "    </tr>\n",
       "    <tr>\n",
       "      <th>556201</th>\n",
       "      <td>[rabbit night light, regency tea strainer, reg...</td>\n",
       "    </tr>\n",
       "    <tr>\n",
       "      <th>562032</th>\n",
       "      <td>[set vintage leaf cake case, set heart shape p...</td>\n",
       "    </tr>\n",
       "    <tr>\n",
       "      <th>573511</th>\n",
       "      <td>[mini light woodland mushroom, goose feather t...</td>\n",
       "    </tr>\n",
       "    <tr>\n",
       "      <th>...</th>\n",
       "      <th>...</th>\n",
       "      <td>...</td>\n",
       "    </tr>\n",
       "    <tr>\n",
       "      <th rowspan=\"2\" valign=\"top\">18283.0</th>\n",
       "      <th>579673</th>\n",
       "      <td>[set snack loaf baking case, colour spaceboy p...</td>\n",
       "    </tr>\n",
       "    <tr>\n",
       "      <th>580872</th>\n",
       "      <td>[feltcraft hairband, pack dolly girl tissue, p...</td>\n",
       "    </tr>\n",
       "    <tr>\n",
       "      <th rowspan=\"3\" valign=\"top\">18287.0</th>\n",
       "      <th>554065</th>\n",
       "      <td>[small babushka notebook, small babushka noteb...</td>\n",
       "    </tr>\n",
       "    <tr>\n",
       "      <th>570715</th>\n",
       "      <td>[hand warmer owl design, set wooden sleigh dec...</td>\n",
       "    </tr>\n",
       "    <tr>\n",
       "      <th>573167</th>\n",
       "      <td>[set wooden sleigh decoration, painted metal s...</td>\n",
       "    </tr>\n",
       "  </tbody>\n",
       "</table>\n",
       "<p>16921 rows × 1 columns</p>\n",
       "</div>"
      ],
      "text/plain": [
       "                                                             ProdDescr\n",
       "CustomerID BasketID                                                   \n",
       "12347.0    542237    [new baroquecandlestick candle, new baroque ca...\n",
       "           549222    [airline bag vintage jet set, airline bag vint...\n",
       "           556201    [rabbit night light, regency tea strainer, reg...\n",
       "           562032    [set vintage leaf cake case, set heart shape p...\n",
       "           573511    [mini light woodland mushroom, goose feather t...\n",
       "...                                                                ...\n",
       "18283.0    579673    [set snack loaf baking case, colour spaceboy p...\n",
       "           580872    [feltcraft hairband, pack dolly girl tissue, p...\n",
       "18287.0    554065    [small babushka notebook, small babushka noteb...\n",
       "           570715    [hand warmer owl design, set wooden sleigh dec...\n",
       "           573167    [set wooden sleigh decoration, painted metal s...\n",
       "\n",
       "[16921 rows x 1 columns]"
      ]
     },
     "execution_count": 184,
     "metadata": {},
     "output_type": "execute_result"
    }
   ],
   "source": [
    "grouped = pd.DataFrame(df.groupby(['CustomerID', 'BasketID'])['ProdDescr'].apply(list))\n",
    "grouped"
   ]
  },
  {
   "cell_type": "code",
   "execution_count": 185,
   "metadata": {},
   "outputs": [
    {
     "data": {
      "text/html": [
       "<div>\n",
       "<style scoped>\n",
       "    .dataframe tbody tr th:only-of-type {\n",
       "        vertical-align: middle;\n",
       "    }\n",
       "\n",
       "    .dataframe tbody tr th {\n",
       "        vertical-align: top;\n",
       "    }\n",
       "\n",
       "    .dataframe thead th {\n",
       "        text-align: right;\n",
       "    }\n",
       "</style>\n",
       "<table border=\"1\" class=\"dataframe\">\n",
       "  <thead>\n",
       "    <tr style=\"text-align: right;\">\n",
       "      <th></th>\n",
       "      <th>ProdDescr</th>\n",
       "    </tr>\n",
       "    <tr>\n",
       "      <th>CustomerID</th>\n",
       "      <th></th>\n",
       "    </tr>\n",
       "  </thead>\n",
       "  <tbody>\n",
       "    <tr>\n",
       "      <th>12347.0</th>\n",
       "      <td>[[new baroquecandlestick candle, new baroque c...</td>\n",
       "    </tr>\n",
       "    <tr>\n",
       "      <th>12348.0</th>\n",
       "      <td>[[pack retrospot tissue, pack heart design tis...</td>\n",
       "    </tr>\n",
       "    <tr>\n",
       "      <th>12349.0</th>\n",
       "      <td>[[parisienne curio cabinet, sweetheart wall ti...</td>\n",
       "    </tr>\n",
       "    <tr>\n",
       "      <th>12350.0</th>\n",
       "      <td>[[way metal sign, metal sign neighbourhood wit...</td>\n",
       "    </tr>\n",
       "    <tr>\n",
       "      <th>12352.0</th>\n",
       "      <td>[[wooden happy birthday garland, doughnut trin...</td>\n",
       "    </tr>\n",
       "    <tr>\n",
       "      <th>...</th>\n",
       "      <td>...</td>\n",
       "    </tr>\n",
       "    <tr>\n",
       "      <th>18280.0</th>\n",
       "      <td>[[wood board ant finish, retrospot lamp, gumba...</td>\n",
       "    </tr>\n",
       "    <tr>\n",
       "      <th>18281.0</th>\n",
       "      <td>[[robot birthday card, card circus parade, pen...</td>\n",
       "    </tr>\n",
       "    <tr>\n",
       "      <th>18282.0</th>\n",
       "      <td>[[antique cream cutlery cupboard, french style...</td>\n",
       "    </tr>\n",
       "    <tr>\n",
       "      <th>18283.0</th>\n",
       "      <td>[[charlotte bag polkadot, lunch bag woodland, ...</td>\n",
       "    </tr>\n",
       "    <tr>\n",
       "      <th>18287.0</th>\n",
       "      <td>[[small babushka notebook, small babushka note...</td>\n",
       "    </tr>\n",
       "  </tbody>\n",
       "</table>\n",
       "<p>4206 rows × 1 columns</p>\n",
       "</div>"
      ],
      "text/plain": [
       "                                                    ProdDescr\n",
       "CustomerID                                                   \n",
       "12347.0     [[new baroquecandlestick candle, new baroque c...\n",
       "12348.0     [[pack retrospot tissue, pack heart design tis...\n",
       "12349.0     [[parisienne curio cabinet, sweetheart wall ti...\n",
       "12350.0     [[way metal sign, metal sign neighbourhood wit...\n",
       "12352.0     [[wooden happy birthday garland, doughnut trin...\n",
       "...                                                       ...\n",
       "18280.0     [[wood board ant finish, retrospot lamp, gumba...\n",
       "18281.0     [[robot birthday card, card circus parade, pen...\n",
       "18282.0     [[antique cream cutlery cupboard, french style...\n",
       "18283.0     [[charlotte bag polkadot, lunch bag woodland, ...\n",
       "18287.0     [[small babushka notebook, small babushka note...\n",
       "\n",
       "[4206 rows x 1 columns]"
      ]
     },
     "execution_count": 185,
     "metadata": {},
     "output_type": "execute_result"
    }
   ],
   "source": [
    "grouped = pd.DataFrame(grouped.groupby('CustomerID')['ProdDescr'].apply(list))\n",
    "grouped"
   ]
  },
  {
   "cell_type": "code",
   "execution_count": 186,
   "metadata": {},
   "outputs": [],
   "source": [
    "supermarket = grouped['ProdDescr'].tolist()"
   ]
  },
  {
   "cell_type": "code",
   "execution_count": 190,
   "metadata": {},
   "outputs": [
    {
     "name": "stdout",
     "output_type": "stream",
     "text": [
      "Result, lvl 1: [([['alarm clock bakelike']], 496), ([['assorted colour bird ornament']], 651), ([['baking set piece retrospot']], 576), ([['gardener kneeling pad keep calm']], 405), ([['hanging heart tlight holder']], 883), ([['harmonica box']], 426), ([['heart wicker large']], 440), ([['heart wicker small']], 529), ([['hot water bottle keep calm']], 473), ([['jam making set jar']], 530), ([['jam making set printed']], 477), ([['jumbo bag retrospot']], 609), ([['kitchen scale']], 470), ([['lunch bag apple design']], 400), ([['lunch bag car']], 466), ([['lunch bag polkadot']], 436), ([['lunch bag retrospot']], 518), ([['lunch bag skull']], 449), ([['lunch bag spaceboy design']], 476), ([['lunch bag suki design']], 423), ([['natural slate heart chalkboard']], 556), ([['pack retrospot cake case']], 602), ([['paper chain kit christmas']], 553), ([['paper chain kit vintage christmas']], 414), ([['party bunting']], 699), ([['rabbit night light']], 449), ([['recipe box pantry design']], 450), ([['regency tier']], 836), ([['retrospot tea set ceramic']], 486), ([['rex cashcarry jumbo shopper']], 447), ([['rose regency teacup saucer']], 408), ([['set cake tin pantry design']], 621), ([['set pantry jelly mould']], 430), ([['set regency cake tin']], 470), ([['set retrospot paper napkin']], 404), ([['spotty bunting']], 571), ([['vintage snap card']], 423)]\n"
     ]
    },
    {
     "data": {
      "text/plain": [
       "[([['alarm clock bakelike']], 496),\n",
       " ([['assorted colour bird ornament']], 651),\n",
       " ([['baking set piece retrospot']], 576),\n",
       " ([['gardener kneeling pad keep calm']], 405),\n",
       " ([['hanging heart tlight holder']], 883),\n",
       " ([['harmonica box']], 426),\n",
       " ([['heart wicker large']], 440),\n",
       " ([['heart wicker small']], 529),\n",
       " ([['hot water bottle keep calm']], 473),\n",
       " ([['jam making set jar']], 530),\n",
       " ([['jam making set printed']], 477),\n",
       " ([['jumbo bag retrospot']], 609),\n",
       " ([['kitchen scale']], 470),\n",
       " ([['lunch bag apple design']], 400),\n",
       " ([['lunch bag car']], 466),\n",
       " ([['lunch bag polkadot']], 436),\n",
       " ([['lunch bag retrospot']], 518),\n",
       " ([['lunch bag skull']], 449),\n",
       " ([['lunch bag spaceboy design']], 476),\n",
       " ([['lunch bag suki design']], 423),\n",
       " ([['natural slate heart chalkboard']], 556),\n",
       " ([['pack retrospot cake case']], 602),\n",
       " ([['paper chain kit christmas']], 553),\n",
       " ([['paper chain kit vintage christmas']], 414),\n",
       " ([['party bunting']], 699),\n",
       " ([['rabbit night light']], 449),\n",
       " ([['recipe box pantry design']], 450),\n",
       " ([['regency tier']], 836),\n",
       " ([['retrospot tea set ceramic']], 486),\n",
       " ([['rex cashcarry jumbo shopper']], 447),\n",
       " ([['rose regency teacup saucer']], 408),\n",
       " ([['set cake tin pantry design']], 621),\n",
       " ([['set pantry jelly mould']], 430),\n",
       " ([['set regency cake tin']], 470),\n",
       " ([['set retrospot paper napkin']], 404),\n",
       " ([['spotty bunting']], 571),\n",
       " ([['vintage snap card']], 423),\n",
       " ([['hanging heart tlight holder'], ['hanging heart tlight holder']], 406)]"
      ]
     },
     "execution_count": 190,
     "metadata": {},
     "output_type": "execute_result"
    }
   ],
   "source": [
    "aprioriall(supermarket, minSupport=400, verbose=False)"
   ]
  }
 ],
 "metadata": {
  "kernelspec": {
   "display_name": "Python 3",
   "language": "python",
   "name": "python3"
  },
  "language_info": {
   "codemirror_mode": {
    "name": "ipython",
    "version": 3
   },
   "file_extension": ".py",
   "mimetype": "text/x-python",
   "name": "python",
   "nbconvert_exporter": "python",
   "pygments_lexer": "ipython3",
   "version": "3.8.6"
  }
 },
 "nbformat": 4,
 "nbformat_minor": 4
}
