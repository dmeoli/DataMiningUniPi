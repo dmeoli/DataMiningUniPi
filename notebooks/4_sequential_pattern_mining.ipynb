{
 "cells": [
  {
   "cell_type": "markdown",
   "metadata": {},
   "source": [
    "# Task 4: Sequential Pattern Mining"
   ]
  },
  {
   "cell_type": "code",
   "execution_count": 130,
   "metadata": {},
   "outputs": [],
   "source": [
    "import pandas as pd\n",
    "import copy"
   ]
  },
  {
   "cell_type": "markdown",
   "metadata": {},
   "source": [
    "## Loading the new dataset"
   ]
  },
  {
   "cell_type": "code",
   "execution_count": 177,
   "metadata": {},
   "outputs": [
    {
     "data": {
      "text/html": [
       "<div>\n",
       "<style scoped>\n",
       "    .dataframe tbody tr th:only-of-type {\n",
       "        vertical-align: middle;\n",
       "    }\n",
       "\n",
       "    .dataframe tbody tr th {\n",
       "        vertical-align: top;\n",
       "    }\n",
       "\n",
       "    .dataframe thead th {\n",
       "        text-align: right;\n",
       "    }\n",
       "</style>\n",
       "<table border=\"1\" class=\"dataframe\">\n",
       "  <thead>\n",
       "    <tr style=\"text-align: right;\">\n",
       "      <th></th>\n",
       "      <th>BasketID</th>\n",
       "      <th>BasketDate</th>\n",
       "      <th>Sale</th>\n",
       "      <th>CustomerID</th>\n",
       "      <th>ProdID</th>\n",
       "      <th>ProdDescr</th>\n",
       "      <th>Qta</th>\n",
       "      <th>TotSale</th>\n",
       "    </tr>\n",
       "  </thead>\n",
       "  <tbody>\n",
       "    <tr>\n",
       "      <th>0</th>\n",
       "      <td>539993</td>\n",
       "      <td>2011-04-01 10:00:00</td>\n",
       "      <td>1.95</td>\n",
       "      <td>13313.0</td>\n",
       "      <td>22386</td>\n",
       "      <td>JUMBO BAG PINK POLKADOT</td>\n",
       "      <td>10</td>\n",
       "      <td>19.50</td>\n",
       "    </tr>\n",
       "    <tr>\n",
       "      <th>1</th>\n",
       "      <td>539993</td>\n",
       "      <td>2011-04-01 10:00:00</td>\n",
       "      <td>0.42</td>\n",
       "      <td>13313.0</td>\n",
       "      <td>21499</td>\n",
       "      <td>BLUE POLKADOT WRAP</td>\n",
       "      <td>25</td>\n",
       "      <td>10.50</td>\n",
       "    </tr>\n",
       "    <tr>\n",
       "      <th>2</th>\n",
       "      <td>539993</td>\n",
       "      <td>2011-04-01 10:00:00</td>\n",
       "      <td>0.42</td>\n",
       "      <td>13313.0</td>\n",
       "      <td>21498</td>\n",
       "      <td>RED RETROSPOT WRAP</td>\n",
       "      <td>25</td>\n",
       "      <td>10.50</td>\n",
       "    </tr>\n",
       "    <tr>\n",
       "      <th>3</th>\n",
       "      <td>539993</td>\n",
       "      <td>2011-04-01 10:00:00</td>\n",
       "      <td>2.10</td>\n",
       "      <td>13313.0</td>\n",
       "      <td>22379</td>\n",
       "      <td>RECYCLING BAG RETROSPOT</td>\n",
       "      <td>5</td>\n",
       "      <td>10.50</td>\n",
       "    </tr>\n",
       "    <tr>\n",
       "      <th>4</th>\n",
       "      <td>539993</td>\n",
       "      <td>2011-04-01 10:00:00</td>\n",
       "      <td>1.25</td>\n",
       "      <td>13313.0</td>\n",
       "      <td>20718</td>\n",
       "      <td>RED RETROSPOT SHOPPER BAG</td>\n",
       "      <td>10</td>\n",
       "      <td>12.50</td>\n",
       "    </tr>\n",
       "    <tr>\n",
       "      <th>...</th>\n",
       "      <td>...</td>\n",
       "      <td>...</td>\n",
       "      <td>...</td>\n",
       "      <td>...</td>\n",
       "      <td>...</td>\n",
       "      <td>...</td>\n",
       "      <td>...</td>\n",
       "      <td>...</td>\n",
       "    </tr>\n",
       "    <tr>\n",
       "      <th>363572</th>\n",
       "      <td>581587</td>\n",
       "      <td>2011-09-12 12:50:00</td>\n",
       "      <td>0.85</td>\n",
       "      <td>12680.0</td>\n",
       "      <td>22613</td>\n",
       "      <td>PACK OF SPACEBOY NAPKINS</td>\n",
       "      <td>12</td>\n",
       "      <td>10.20</td>\n",
       "    </tr>\n",
       "    <tr>\n",
       "      <th>363573</th>\n",
       "      <td>581587</td>\n",
       "      <td>2011-09-12 12:50:00</td>\n",
       "      <td>2.10</td>\n",
       "      <td>12680.0</td>\n",
       "      <td>22899</td>\n",
       "      <td>CHILDRENS APRON DOLLY GIRL</td>\n",
       "      <td>6</td>\n",
       "      <td>12.60</td>\n",
       "    </tr>\n",
       "    <tr>\n",
       "      <th>363574</th>\n",
       "      <td>581587</td>\n",
       "      <td>2011-09-12 12:50:00</td>\n",
       "      <td>4.15</td>\n",
       "      <td>12680.0</td>\n",
       "      <td>23254</td>\n",
       "      <td>CHILDRENS CUTLERY DOLLY GIRL</td>\n",
       "      <td>4</td>\n",
       "      <td>16.60</td>\n",
       "    </tr>\n",
       "    <tr>\n",
       "      <th>363575</th>\n",
       "      <td>581587</td>\n",
       "      <td>2011-09-12 12:50:00</td>\n",
       "      <td>4.15</td>\n",
       "      <td>12680.0</td>\n",
       "      <td>23255</td>\n",
       "      <td>CHILDRENS CUTLERY CIRCUS PARADE</td>\n",
       "      <td>4</td>\n",
       "      <td>16.60</td>\n",
       "    </tr>\n",
       "    <tr>\n",
       "      <th>363576</th>\n",
       "      <td>581587</td>\n",
       "      <td>2011-09-12 12:50:00</td>\n",
       "      <td>4.95</td>\n",
       "      <td>12680.0</td>\n",
       "      <td>22138</td>\n",
       "      <td>BAKING SET PIECE RETROSPOT</td>\n",
       "      <td>3</td>\n",
       "      <td>14.85</td>\n",
       "    </tr>\n",
       "  </tbody>\n",
       "</table>\n",
       "<p>363577 rows × 8 columns</p>\n",
       "</div>"
      ],
      "text/plain": [
       "        BasketID           BasketDate  Sale  CustomerID ProdID  \\\n",
       "0         539993  2011-04-01 10:00:00  1.95     13313.0  22386   \n",
       "1         539993  2011-04-01 10:00:00  0.42     13313.0  21499   \n",
       "2         539993  2011-04-01 10:00:00  0.42     13313.0  21498   \n",
       "3         539993  2011-04-01 10:00:00  2.10     13313.0  22379   \n",
       "4         539993  2011-04-01 10:00:00  1.25     13313.0  20718   \n",
       "...          ...                  ...   ...         ...    ...   \n",
       "363572    581587  2011-09-12 12:50:00  0.85     12680.0  22613   \n",
       "363573    581587  2011-09-12 12:50:00  2.10     12680.0  22899   \n",
       "363574    581587  2011-09-12 12:50:00  4.15     12680.0  23254   \n",
       "363575    581587  2011-09-12 12:50:00  4.15     12680.0  23255   \n",
       "363576    581587  2011-09-12 12:50:00  4.95     12680.0  22138   \n",
       "\n",
       "                              ProdDescr  Qta  TotSale  \n",
       "0               JUMBO BAG PINK POLKADOT   10    19.50  \n",
       "1                    BLUE POLKADOT WRAP   25    10.50  \n",
       "2                    RED RETROSPOT WRAP   25    10.50  \n",
       "3               RECYCLING BAG RETROSPOT    5    10.50  \n",
       "4             RED RETROSPOT SHOPPER BAG   10    12.50  \n",
       "...                                 ...  ...      ...  \n",
       "363572         PACK OF SPACEBOY NAPKINS   12    10.20  \n",
       "363573       CHILDRENS APRON DOLLY GIRL    6    12.60  \n",
       "363574     CHILDRENS CUTLERY DOLLY GIRL    4    16.60  \n",
       "363575  CHILDRENS CUTLERY CIRCUS PARADE    4    16.60  \n",
       "363576       BAKING SET PIECE RETROSPOT    3    14.85  \n",
       "\n",
       "[363577 rows x 8 columns]"
      ]
     },
     "execution_count": 177,
     "metadata": {},
     "output_type": "execute_result"
    }
   ],
   "source": [
    "df = pd.read_csv('../dataset/new_customer_supermarket.csv', sep='\\t', index_col=0)\n",
    "df"
   ]
  },
  {
   "cell_type": "code",
   "execution_count": 178,
   "metadata": {},
   "outputs": [
    {
     "data": {
      "text/plain": [
       "BasketID        int64\n",
       "BasketDate     object\n",
       "Sale          float64\n",
       "CustomerID    float64\n",
       "ProdID         object\n",
       "ProdDescr      object\n",
       "Qta             int64\n",
       "TotSale       float64\n",
       "dtype: object"
      ]
     },
     "execution_count": 178,
     "metadata": {},
     "output_type": "execute_result"
    }
   ],
   "source": [
    "df.dtypes"
   ]
  },
  {
   "cell_type": "code",
   "execution_count": 179,
   "metadata": {},
   "outputs": [],
   "source": [
    "df = df.astype({'BasketDate': 'datetime64',\n",
    "                'BasketID': 'object',\n",
    "                'CustomerID': 'object'})"
   ]
  },
  {
   "cell_type": "code",
   "execution_count": 180,
   "metadata": {},
   "outputs": [
    {
     "data": {
      "text/plain": [
       "3678"
      ]
     },
     "execution_count": 180,
     "metadata": {},
     "output_type": "execute_result"
    }
   ],
   "source": [
    "df['ProdDescr'].nunique()"
   ]
  },
  {
   "cell_type": "code",
   "execution_count": 181,
   "metadata": {},
   "outputs": [],
   "source": [
    "import webcolors\n",
    "from nltk.corpus import stopwords\n",
    "from nltk import word_tokenize, pos_tag\n",
    "from nltk.stem import WordNetLemmatizer\n",
    "\n",
    "lemmatizer = WordNetLemmatizer()\n",
    "stop_words = set(stopwords.words('english'))\n",
    "colors = webcolors.CSS3_NAMES_TO_HEX.keys()\n",
    "\n",
    "def lemmatize_descr(descr):\n",
    "    return ' '.join(lemmatizer.lemmatize(token) for token in word_tokenize(descr.lower()) \n",
    "                    if not token in stop_words and \n",
    "                    not any(color in token for color in colors) and \n",
    "                    len(token) >= 3)"
   ]
  },
  {
   "cell_type": "code",
   "execution_count": 182,
   "metadata": {},
   "outputs": [
    {
     "data": {
      "text/html": [
       "<div>\n",
       "<style scoped>\n",
       "    .dataframe tbody tr th:only-of-type {\n",
       "        vertical-align: middle;\n",
       "    }\n",
       "\n",
       "    .dataframe tbody tr th {\n",
       "        vertical-align: top;\n",
       "    }\n",
       "\n",
       "    .dataframe thead th {\n",
       "        text-align: right;\n",
       "    }\n",
       "</style>\n",
       "<table border=\"1\" class=\"dataframe\">\n",
       "  <thead>\n",
       "    <tr style=\"text-align: right;\">\n",
       "      <th></th>\n",
       "      <th>BasketID</th>\n",
       "      <th>BasketDate</th>\n",
       "      <th>Sale</th>\n",
       "      <th>CustomerID</th>\n",
       "      <th>ProdID</th>\n",
       "      <th>ProdDescr</th>\n",
       "      <th>Qta</th>\n",
       "      <th>TotSale</th>\n",
       "    </tr>\n",
       "  </thead>\n",
       "  <tbody>\n",
       "    <tr>\n",
       "      <th>0</th>\n",
       "      <td>539993</td>\n",
       "      <td>2011-04-01 10:00:00</td>\n",
       "      <td>1.95</td>\n",
       "      <td>13313</td>\n",
       "      <td>22386</td>\n",
       "      <td>jumbo bag polkadot</td>\n",
       "      <td>10</td>\n",
       "      <td>19.50</td>\n",
       "    </tr>\n",
       "    <tr>\n",
       "      <th>1</th>\n",
       "      <td>539993</td>\n",
       "      <td>2011-04-01 10:00:00</td>\n",
       "      <td>0.42</td>\n",
       "      <td>13313</td>\n",
       "      <td>21499</td>\n",
       "      <td>polkadot wrap</td>\n",
       "      <td>25</td>\n",
       "      <td>10.50</td>\n",
       "    </tr>\n",
       "    <tr>\n",
       "      <th>2</th>\n",
       "      <td>539993</td>\n",
       "      <td>2011-04-01 10:00:00</td>\n",
       "      <td>0.42</td>\n",
       "      <td>13313</td>\n",
       "      <td>21498</td>\n",
       "      <td>retrospot wrap</td>\n",
       "      <td>25</td>\n",
       "      <td>10.50</td>\n",
       "    </tr>\n",
       "    <tr>\n",
       "      <th>3</th>\n",
       "      <td>539993</td>\n",
       "      <td>2011-04-01 10:00:00</td>\n",
       "      <td>2.10</td>\n",
       "      <td>13313</td>\n",
       "      <td>22379</td>\n",
       "      <td>recycling bag retrospot</td>\n",
       "      <td>5</td>\n",
       "      <td>10.50</td>\n",
       "    </tr>\n",
       "    <tr>\n",
       "      <th>4</th>\n",
       "      <td>539993</td>\n",
       "      <td>2011-04-01 10:00:00</td>\n",
       "      <td>1.25</td>\n",
       "      <td>13313</td>\n",
       "      <td>20718</td>\n",
       "      <td>retrospot shopper bag</td>\n",
       "      <td>10</td>\n",
       "      <td>12.50</td>\n",
       "    </tr>\n",
       "    <tr>\n",
       "      <th>...</th>\n",
       "      <td>...</td>\n",
       "      <td>...</td>\n",
       "      <td>...</td>\n",
       "      <td>...</td>\n",
       "      <td>...</td>\n",
       "      <td>...</td>\n",
       "      <td>...</td>\n",
       "      <td>...</td>\n",
       "    </tr>\n",
       "    <tr>\n",
       "      <th>363572</th>\n",
       "      <td>581587</td>\n",
       "      <td>2011-09-12 12:50:00</td>\n",
       "      <td>0.85</td>\n",
       "      <td>12680</td>\n",
       "      <td>22613</td>\n",
       "      <td>pack spaceboy napkin</td>\n",
       "      <td>12</td>\n",
       "      <td>10.20</td>\n",
       "    </tr>\n",
       "    <tr>\n",
       "      <th>363573</th>\n",
       "      <td>581587</td>\n",
       "      <td>2011-09-12 12:50:00</td>\n",
       "      <td>2.10</td>\n",
       "      <td>12680</td>\n",
       "      <td>22899</td>\n",
       "      <td>childrens apron dolly girl</td>\n",
       "      <td>6</td>\n",
       "      <td>12.60</td>\n",
       "    </tr>\n",
       "    <tr>\n",
       "      <th>363574</th>\n",
       "      <td>581587</td>\n",
       "      <td>2011-09-12 12:50:00</td>\n",
       "      <td>4.15</td>\n",
       "      <td>12680</td>\n",
       "      <td>23254</td>\n",
       "      <td>childrens cutlery dolly girl</td>\n",
       "      <td>4</td>\n",
       "      <td>16.60</td>\n",
       "    </tr>\n",
       "    <tr>\n",
       "      <th>363575</th>\n",
       "      <td>581587</td>\n",
       "      <td>2011-09-12 12:50:00</td>\n",
       "      <td>4.15</td>\n",
       "      <td>12680</td>\n",
       "      <td>23255</td>\n",
       "      <td>childrens cutlery circus parade</td>\n",
       "      <td>4</td>\n",
       "      <td>16.60</td>\n",
       "    </tr>\n",
       "    <tr>\n",
       "      <th>363576</th>\n",
       "      <td>581587</td>\n",
       "      <td>2011-09-12 12:50:00</td>\n",
       "      <td>4.95</td>\n",
       "      <td>12680</td>\n",
       "      <td>22138</td>\n",
       "      <td>baking set piece retrospot</td>\n",
       "      <td>3</td>\n",
       "      <td>14.85</td>\n",
       "    </tr>\n",
       "  </tbody>\n",
       "</table>\n",
       "<p>363577 rows × 8 columns</p>\n",
       "</div>"
      ],
      "text/plain": [
       "       BasketID          BasketDate  Sale CustomerID ProdID  \\\n",
       "0        539993 2011-04-01 10:00:00  1.95      13313  22386   \n",
       "1        539993 2011-04-01 10:00:00  0.42      13313  21499   \n",
       "2        539993 2011-04-01 10:00:00  0.42      13313  21498   \n",
       "3        539993 2011-04-01 10:00:00  2.10      13313  22379   \n",
       "4        539993 2011-04-01 10:00:00  1.25      13313  20718   \n",
       "...         ...                 ...   ...        ...    ...   \n",
       "363572   581587 2011-09-12 12:50:00  0.85      12680  22613   \n",
       "363573   581587 2011-09-12 12:50:00  2.10      12680  22899   \n",
       "363574   581587 2011-09-12 12:50:00  4.15      12680  23254   \n",
       "363575   581587 2011-09-12 12:50:00  4.15      12680  23255   \n",
       "363576   581587 2011-09-12 12:50:00  4.95      12680  22138   \n",
       "\n",
       "                              ProdDescr  Qta  TotSale  \n",
       "0                    jumbo bag polkadot   10    19.50  \n",
       "1                         polkadot wrap   25    10.50  \n",
       "2                        retrospot wrap   25    10.50  \n",
       "3               recycling bag retrospot    5    10.50  \n",
       "4                 retrospot shopper bag   10    12.50  \n",
       "...                                 ...  ...      ...  \n",
       "363572             pack spaceboy napkin   12    10.20  \n",
       "363573       childrens apron dolly girl    6    12.60  \n",
       "363574     childrens cutlery dolly girl    4    16.60  \n",
       "363575  childrens cutlery circus parade    4    16.60  \n",
       "363576       baking set piece retrospot    3    14.85  \n",
       "\n",
       "[363577 rows x 8 columns]"
      ]
     },
     "execution_count": 182,
     "metadata": {},
     "output_type": "execute_result"
    }
   ],
   "source": [
    "df['ProdDescr'] = df['ProdDescr'].apply(lemmatize_descr)\n",
    "df"
   ]
  },
  {
   "cell_type": "code",
   "execution_count": 183,
   "metadata": {},
   "outputs": [
    {
     "data": {
      "text/plain": [
       "3259"
      ]
     },
     "execution_count": 183,
     "metadata": {},
     "output_type": "execute_result"
    }
   ],
   "source": [
    "df['ProdDescr'].nunique()"
   ]
  },
  {
   "cell_type": "markdown",
   "metadata": {},
   "source": [
    "## AprioriAll"
   ]
  },
  {
   "cell_type": "code",
   "execution_count": 230,
   "metadata": {},
   "outputs": [],
   "source": [
    "# An event is a list of strings.\n",
    "# A sequence is a list of events.\n",
    "# A dataset is a list of sequences.\n",
    "# Thus, a dataset is a list of lists of lists of strings.\n",
    "\n",
    "dataset = [\n",
    "    [['a'], ['a', 'b', 'c'], ['a', 'c'], ['c']],\n",
    "    [['a'], ['c'], ['b', 'c']],\n",
    "    [['a', 'b'], ['d'], ['c'], ['b'], ['c']],\n",
    "    [['a'], ['c'], ['b'], ['c']]\n",
    "]"
   ]
  },
  {
   "cell_type": "code",
   "execution_count": 231,
   "metadata": {},
   "outputs": [],
   "source": [
    "\"\"\"\n",
    "This is a simple recursive method that checks if subsequence is a subSequence of mainSequence\n",
    "\"\"\"\n",
    "def isSubsequence(mainSequence, subSequence):\n",
    "    subSequenceClone = list(subSequence) # clone the sequence, because we will alter it\n",
    "    return isSubsequenceRecursive(mainSequence, subSequenceClone) # start recursion\n",
    "\n",
    "\"\"\"\n",
    "Function for the recursive call of isSubsequence, not intended for external calls\n",
    "\"\"\"\n",
    "def isSubsequenceRecursive(mainSequence, subSequenceClone, start=0):\n",
    "    # check if empty: end of recursion, all itemsets have been found\n",
    "    if not subSequenceClone:\n",
    "        return True\n",
    "    # retrieves element of the subsequence and removes is from subsequence \n",
    "    firstElem = set(subSequenceClone.pop(0))\n",
    "    # search for the first itemset...\n",
    "    for i in range(start, len(mainSequence)):\n",
    "        if set(mainSequence[i]).issuperset(firstElem):\n",
    "            # and recurse\n",
    "            return isSubsequenceRecursive(mainSequence, subSequenceClone, i + 1)\n",
    "    return False"
   ]
  },
  {
   "cell_type": "code",
   "execution_count": 232,
   "metadata": {},
   "outputs": [],
   "source": [
    "aSequence = [['a'], ['b', 'c'], ['d'], ['a', 'e']]"
   ]
  },
  {
   "cell_type": "code",
   "execution_count": 233,
   "metadata": {
    "collapsed": false,
    "jupyter": {
     "outputs_hidden": false
    }
   },
   "outputs": [
    {
     "data": {
      "text/plain": [
       "True"
      ]
     },
     "execution_count": 233,
     "metadata": {},
     "output_type": "execute_result"
    }
   ],
   "source": [
    "isSubsequence(aSequence, [['a'], ['d'], ['e']])"
   ]
  },
  {
   "cell_type": "code",
   "execution_count": 234,
   "metadata": {
    "collapsed": false,
    "jupyter": {
     "outputs_hidden": false
    }
   },
   "outputs": [
    {
     "data": {
      "text/plain": [
       "True"
      ]
     },
     "execution_count": 234,
     "metadata": {},
     "output_type": "execute_result"
    }
   ],
   "source": [
    "isSubsequence(aSequence, [['a'], ['b', 'c'], ['e']])"
   ]
  },
  {
   "cell_type": "code",
   "execution_count": 235,
   "metadata": {
    "collapsed": false,
    "jupyter": {
     "outputs_hidden": false
    }
   },
   "outputs": [
    {
     "data": {
      "text/plain": [
       "False"
      ]
     },
     "execution_count": 235,
     "metadata": {},
     "output_type": "execute_result"
    }
   ],
   "source": [
    "isSubsequence(aSequence, [['a'], ['b', 'd']])"
   ]
  },
  {
   "cell_type": "code",
   "execution_count": 236,
   "metadata": {},
   "outputs": [],
   "source": [
    "\"\"\"\n",
    "Computes the length of the sequence (sum of the length of the contained itemsets)\n",
    "\"\"\"\n",
    "def sequenceLength(sequence):\n",
    "    return sum(len(i) for i in sequence)"
   ]
  },
  {
   "cell_type": "code",
   "execution_count": 237,
   "metadata": {
    "collapsed": false,
    "jupyter": {
     "outputs_hidden": false
    }
   },
   "outputs": [
    {
     "name": "stdout",
     "output_type": "stream",
     "text": [
      "7\n"
     ]
    }
   ],
   "source": [
    "sequenceLength([['a'], ['b', 'c'], ['a'], ['b', 'c', 'd']])"
   ]
  },
  {
   "cell_type": "code",
   "execution_count": 238,
   "metadata": {},
   "outputs": [],
   "source": [
    "\"\"\"\n",
    "Computes the support of a sequence in a dataset\n",
    "\"\"\"\n",
    "def countSupport(dataset, candidateSequence):\n",
    "    return sum(1 for seq in dataset if isSubsequence(seq, candidateSequence))"
   ]
  },
  {
   "cell_type": "code",
   "execution_count": 239,
   "metadata": {
    "collapsed": false,
    "jupyter": {
     "outputs_hidden": false
    }
   },
   "outputs": [
    {
     "data": {
      "text/plain": [
       "4"
      ]
     },
     "execution_count": 239,
     "metadata": {},
     "output_type": "execute_result"
    }
   ],
   "source": [
    "countSupport(dataset, [['b']])"
   ]
  },
  {
   "cell_type": "code",
   "execution_count": 240,
   "metadata": {
    "collapsed": false,
    "jupyter": {
     "outputs_hidden": false
    }
   },
   "outputs": [
    {
     "data": {
      "text/plain": [
       "2"
      ]
     },
     "execution_count": 240,
     "metadata": {},
     "output_type": "execute_result"
    }
   ],
   "source": [
    "countSupport(dataset, [['a'], ['b', 'c']])"
   ]
  },
  {
   "cell_type": "code",
   "execution_count": 241,
   "metadata": {},
   "outputs": [],
   "source": [
    "\"\"\"\n",
    "Generates one candidate of length k from two candidates of length (k-1) as used in the AprioriAll algorithm\n",
    "\"\"\"\n",
    "def generateCandidatesForPair(cand1, cand2):\n",
    "    cand1Clone = copy.deepcopy(cand1)\n",
    "    cand2Clone = copy.deepcopy(cand2)\n",
    "    # drop the leftmost item from cand1:\n",
    "    if len(cand1[0]) == 1:\n",
    "        cand1Clone.pop(0)\n",
    "    else:\n",
    "        cand1Clone[0] = cand1Clone[0][1:]\n",
    "    # drop the rightmost item from cand2:\n",
    "    if len(cand2[-1]) == 1:\n",
    "        cand2Clone.pop(-1)\n",
    "    else:\n",
    "        cand2Clone[-1] = cand2Clone[-1][:-1]\n",
    "    \n",
    "    # if the result is not the same, then we dont need to join\n",
    "    if not cand1Clone == cand2Clone:\n",
    "        return []\n",
    "    else:\n",
    "        newCandidate = copy.deepcopy(cand1)\n",
    "        if len(cand2[-1]) == 1:\n",
    "            newCandidate.append(cand2[-1])\n",
    "        else:\n",
    "            newCandidate[-1].extend(cand2[-1][-1])\n",
    "        return newCandidate"
   ]
  },
  {
   "cell_type": "code",
   "execution_count": 242,
   "metadata": {
    "collapsed": false,
    "jupyter": {
     "outputs_hidden": false
    }
   },
   "outputs": [
    {
     "data": {
      "text/plain": [
       "[['a'], ['b', 'c'], ['d', 'e']]"
      ]
     },
     "execution_count": 242,
     "metadata": {},
     "output_type": "execute_result"
    }
   ],
   "source": [
    "candidateA = [['a'], ['b', 'c'], ['d']]\n",
    "candidateB = [['b', 'c'], ['d', 'e']]\n",
    "generateCandidatesForPair(candidateA, candidateB)"
   ]
  },
  {
   "cell_type": "code",
   "execution_count": 243,
   "metadata": {
    "collapsed": false,
    "jupyter": {
     "outputs_hidden": false
    }
   },
   "outputs": [
    {
     "data": {
      "text/plain": [
       "[['a'], ['b', 'c'], ['d'], ['e']]"
      ]
     },
     "execution_count": 243,
     "metadata": {},
     "output_type": "execute_result"
    }
   ],
   "source": [
    "candidateA = [['a'], ['b', 'c'], ['d']]\n",
    "candidateC = [['b', 'c'], ['d'], ['e']]\n",
    "generateCandidatesForPair(candidateA, candidateC)"
   ]
  },
  {
   "cell_type": "code",
   "execution_count": 244,
   "metadata": {
    "collapsed": false,
    "jupyter": {
     "outputs_hidden": false
    }
   },
   "outputs": [
    {
     "data": {
      "text/plain": [
       "[]"
      ]
     },
     "execution_count": 244,
     "metadata": {},
     "output_type": "execute_result"
    }
   ],
   "source": [
    "candidateA = [['a'], ['b', 'c'], ['d']]\n",
    "candidateD = [['a'], ['b', 'c'], ['e']]\n",
    "generateCandidatesForPair(candidateA, candidateD)"
   ]
  },
  {
   "cell_type": "code",
   "execution_count": 245,
   "metadata": {},
   "outputs": [],
   "source": [
    "\"\"\"\n",
    "Generates the set of candidates of length k from the set of frequent sequences with length (k-1)\n",
    "\"\"\"\n",
    "def generateCandidates(lastLevelCandidates):\n",
    "    k = sequenceLength(lastLevelCandidates[0]) + 1\n",
    "    if k == 2:\n",
    "        flatShortCandidates = [item for sublist2 in lastLevelCandidates for sublist1 in sublist2 for item in sublist1]\n",
    "        result = [[[a, b]] for a in flatShortCandidates for b in flatShortCandidates if b > a]\n",
    "        result.extend([[[a], [b]] for a in flatShortCandidates for b in flatShortCandidates])\n",
    "        return result\n",
    "    else:\n",
    "        candidates = []\n",
    "        for i in range(0, len(lastLevelCandidates)):\n",
    "            for j in range(0, len(lastLevelCandidates)):\n",
    "                newCand = generateCandidatesForPair(lastLevelCandidates[i], lastLevelCandidates[j])\n",
    "                if not newCand == []:\n",
    "                    candidates.append(newCand)\n",
    "        candidates.sort()\n",
    "        return candidates"
   ]
  },
  {
   "cell_type": "markdown",
   "metadata": {},
   "source": [
    "An example; lets assume, we know the frequent sequences of level 2:"
   ]
  },
  {
   "cell_type": "code",
   "execution_count": 246,
   "metadata": {},
   "outputs": [],
   "source": [
    "lastLevelFrequentPatterns = [\n",
    "    [['a', 'b']], \n",
    "    [['b', 'c']], \n",
    "    [['a'], ['b']], \n",
    "    [['a'], ['c']], \n",
    "    [['b'], ['c']], \n",
    "    [['c'], ['b']], \n",
    "    [['c'], ['c']]\n",
    "]"
   ]
  },
  {
   "cell_type": "markdown",
   "metadata": {},
   "source": [
    "Then we can compute the generate candidates for level 3"
   ]
  },
  {
   "cell_type": "code",
   "execution_count": 247,
   "metadata": {
    "collapsed": false,
    "jupyter": {
     "outputs_hidden": false
    }
   },
   "outputs": [
    {
     "data": {
      "text/plain": [
       "[[['a'], ['b'], ['c']],\n",
       " [['a'], ['b', 'c']],\n",
       " [['a'], ['c'], ['b']],\n",
       " [['a'], ['c'], ['c']],\n",
       " [['a', 'b'], ['c']],\n",
       " [['a', 'b', 'c']],\n",
       " [['b'], ['c'], ['b']],\n",
       " [['b'], ['c'], ['c']],\n",
       " [['b', 'c'], ['b']],\n",
       " [['b', 'c'], ['c']],\n",
       " [['c'], ['b'], ['c']],\n",
       " [['c'], ['b', 'c']],\n",
       " [['c'], ['c'], ['b']],\n",
       " [['c'], ['c'], ['c']]]"
      ]
     },
     "execution_count": 247,
     "metadata": {},
     "output_type": "execute_result"
    }
   ],
   "source": [
    "newCandidates = generateCandidates(lastLevelFrequentPatterns)\n",
    "newCandidates"
   ]
  },
  {
   "cell_type": "code",
   "execution_count": 248,
   "metadata": {},
   "outputs": [],
   "source": [
    "\"\"\"\n",
    "Computes all direct subsequence for a given sequence.\n",
    "A direct subsequence is any sequence that originates from deleting exactly one item from any event in the original sequence.\n",
    "\"\"\"\n",
    "def generateDirectSubsequences(sequence):\n",
    "    result = []\n",
    "    for i, itemset in enumerate(sequence):\n",
    "        if len(itemset) == 1:\n",
    "            sequenceClone = copy.deepcopy(sequence)\n",
    "            sequenceClone.pop(i)\n",
    "            result.append(sequenceClone)\n",
    "        else:\n",
    "            for j in range(len(itemset)):\n",
    "                sequenceClone = copy.deepcopy(sequence)\n",
    "                sequenceClone[i].pop(j)\n",
    "                result.append(sequenceClone)\n",
    "    return result"
   ]
  },
  {
   "cell_type": "code",
   "execution_count": 249,
   "metadata": {
    "collapsed": false,
    "jupyter": {
     "outputs_hidden": false
    }
   },
   "outputs": [],
   "source": [
    "\"\"\"\n",
    "Prunes the set of candidates generated for length k given all frequent sequence of level (k-1), as done in AprioriAll\n",
    "\"\"\"\n",
    "def pruneCandidates(candidatesLastLevel, candidatesGenerated):\n",
    "    return [cand for cand in candidatesGenerated if all(x in candidatesLastLevel for x in generateDirectSubsequences(cand))]"
   ]
  },
  {
   "cell_type": "markdown",
   "metadata": {},
   "source": [
    "We apply this on example dataset:"
   ]
  },
  {
   "cell_type": "code",
   "execution_count": 250,
   "metadata": {
    "collapsed": false,
    "jupyter": {
     "outputs_hidden": false
    }
   },
   "outputs": [
    {
     "data": {
      "text/plain": [
       "[[['a'], ['b'], ['c']],\n",
       " [['a'], ['b', 'c']],\n",
       " [['a'], ['c'], ['b']],\n",
       " [['a'], ['c'], ['c']],\n",
       " [['a', 'b'], ['c']],\n",
       " [['b'], ['c'], ['c']],\n",
       " [['b', 'c'], ['c']],\n",
       " [['c'], ['b'], ['c']],\n",
       " [['c'], ['b', 'c']],\n",
       " [['c'], ['c'], ['b']],\n",
       " [['c'], ['c'], ['c']]]"
      ]
     },
     "execution_count": 250,
     "metadata": {},
     "output_type": "execute_result"
    }
   ],
   "source": [
    "candidatesPruned = pruneCandidates(lastLevelFrequentPatterns, newCandidates)\n",
    "candidatesPruned"
   ]
  },
  {
   "cell_type": "code",
   "execution_count": 251,
   "metadata": {
    "collapsed": false,
    "jupyter": {
     "outputs_hidden": false
    }
   },
   "outputs": [
    {
     "data": {
      "text/plain": [
       "[([['a'], ['b'], ['c']], 3),\n",
       " ([['a'], ['b', 'c']], 2),\n",
       " ([['a'], ['c'], ['b']], 3),\n",
       " ([['a'], ['c'], ['c']], 4),\n",
       " ([['a', 'b'], ['c']], 2),\n",
       " ([['b'], ['c'], ['c']], 2),\n",
       " ([['c'], ['b'], ['c']], 2)]"
      ]
     },
     "execution_count": 251,
     "metadata": {},
     "output_type": "execute_result"
    }
   ],
   "source": [
    "minSupport = 2\n",
    "candidatesCounts = [(i, countSupport(dataset, i)) for i in candidatesPruned]\n",
    "resultLvl = [(i, count) for i, count in candidatesCounts if count >= minSupport]\n",
    "resultLvl"
   ]
  },
  {
   "cell_type": "code",
   "execution_count": 252,
   "metadata": {
    "collapsed": false,
    "jupyter": {
     "outputs_hidden": false
    }
   },
   "outputs": [],
   "source": [
    "\"\"\"\n",
    "The AprioriAll algorithm with time constraints. Computes the frequent sequences in a seqeunce dataset.\n",
    "\n",
    "Args:\n",
    "    dataset: a list of sequences, for which the frequent (sub-)sequences are computed\n",
    "    minSupport: the minimum support that makes a sequence frequent\n",
    "    max_span: this constraint specifies the maximum allowed time difference between the latest \n",
    "              and the earliest occurrences of events in the entire sequence\n",
    "    min_gap: this constraint specifies the minimum allowed time difference between the latest \n",
    "              and the earliest element of the pattern instance\n",
    "    max_gap: this constraint specifies the maximum allowed time difference between the latest \n",
    "              and the earliest element of the pattern instance\n",
    "    verbose: if true, additional information on the mining process is printed (i.e., candidates on each level)\n",
    "\n",
    "Returns:\n",
    "    A list of tuples (s, c), where s is a frequent sequence and c is the count for that sequence\n",
    "\"\"\"\n",
    "def aprioriall(dataset, minSupport, max_span, min_gap=1, max_gap=np.inf, verbose=False):\n",
    "    global numberOfCountingOperations\n",
    "    numberOfCountingOperations = 0\n",
    "    overall = []\n",
    "    itemsInDataset = sorted(set([item for sublist1 in dataset for sublist2 in sublist1 for item in sublist2]))\n",
    "    singleItemSequences = [[[item]] for item in itemsInDataset]\n",
    "    singleItemCounts = [(i, countSupport(dataset, i)) for i in singleItemSequences if countSupport(dataset, i) >= minSupport]\n",
    "    overall.append(singleItemCounts)\n",
    "    print('Result, lvl 1: ' + str(overall[0]))\n",
    "    k = 1\n",
    "    while True:\n",
    "        if not overall[k - 1]:\n",
    "            break\n",
    "        # 1. candidate generation\n",
    "        candidatesLastLevel = [x[0] for x in overall[k - 1]]\n",
    "        candidatesGenerated = generateCandidates(candidatesLastLevel)\n",
    "        # 2. candidate pruning (using a \"containsall\" subsequences)\n",
    "        candidatesPruned = [cand for cand in candidatesGenerated if all(x in candidatesLastLevel for x in generateDirectSubsequences(cand))]\n",
    "        # 3. candidate checking\n",
    "        candidatesCounts = [(i, countSupport(dataset, i)) for i in candidatesPruned]\n",
    "        resultLvl = [(i, count) for i, count in candidatesCounts if count >= minSupport]\n",
    "        if verbose:\n",
    "            print('Candidates generated, lvl ' + str(k + 1) + ': ' + str(candidatesGenerated))\n",
    "            print('Candidates pruned, lvl ' + str(k + 1) + ': ' + str(candidatesPruned))\n",
    "            print('Result, lvl ' + str(k + 1) + ': ' + str(resultLvl))\n",
    "        overall.append(resultLvl)\n",
    "        k = k + 1\n",
    "    # \"flatten\" overall\n",
    "    overall = overall[:-1]\n",
    "    overall = [item for sublist in overall for item in sublist]\n",
    "    return overall"
   ]
  },
  {
   "cell_type": "code",
   "execution_count": 253,
   "metadata": {
    "collapsed": false,
    "jupyter": {
     "outputs_hidden": false
    }
   },
   "outputs": [
    {
     "name": "stdout",
     "output_type": "stream",
     "text": [
      "Result, lvl 1: [([['a']], 4), ([['b']], 4), ([['c']], 4)]\n"
     ]
    },
    {
     "data": {
      "text/plain": [
       "[([['a']], 4),\n",
       " ([['b']], 4),\n",
       " ([['c']], 4),\n",
       " ([['a', 'b']], 2),\n",
       " ([['b', 'c']], 2),\n",
       " ([['a'], ['b']], 4),\n",
       " ([['a'], ['c']], 4),\n",
       " ([['b'], ['c']], 3),\n",
       " ([['c'], ['b']], 3),\n",
       " ([['c'], ['c']], 4),\n",
       " ([['a'], ['b'], ['c']], 3),\n",
       " ([['a'], ['b', 'c']], 2),\n",
       " ([['a'], ['c'], ['b']], 3),\n",
       " ([['a'], ['c'], ['c']], 4),\n",
       " ([['a', 'b'], ['c']], 2),\n",
       " ([['b'], ['c'], ['c']], 2),\n",
       " ([['c'], ['b'], ['c']], 2),\n",
       " ([['a'], ['c'], ['b'], ['c']], 2),\n",
       " ([['a', 'b'], ['c'], ['c']], 2)]"
      ]
     },
     "execution_count": 253,
     "metadata": {},
     "output_type": "execute_result"
    }
   ],
   "source": [
    "aprioriall(dataset, minSupport=2, verbose=False)"
   ]
  },
  {
   "cell_type": "markdown",
   "metadata": {},
   "source": [
    "### Supermarket dataset"
   ]
  },
  {
   "cell_type": "raw",
   "metadata": {},
   "source": [
    "dataset = [\n",
    "    # customer_1: sequence of baskets\n",
    "    [['item_x', 'item_y', 'item_z', etc.], # basket_a\n",
    "     ['item_p', 'item_q', 'item_r', etc.], # basket_b\n",
    "     [etc.]], # basket_c\n",
    "    # customer_2\n",
    "     etc.\n",
    "]"
   ]
  },
  {
   "cell_type": "code",
   "execution_count": 286,
   "metadata": {},
   "outputs": [
    {
     "data": {
      "text/html": [
       "<div>\n",
       "<style scoped>\n",
       "    .dataframe tbody tr th:only-of-type {\n",
       "        vertical-align: middle;\n",
       "    }\n",
       "\n",
       "    .dataframe tbody tr th {\n",
       "        vertical-align: top;\n",
       "    }\n",
       "\n",
       "    .dataframe thead th {\n",
       "        text-align: right;\n",
       "    }\n",
       "</style>\n",
       "<table border=\"1\" class=\"dataframe\">\n",
       "  <thead>\n",
       "    <tr style=\"text-align: right;\">\n",
       "      <th></th>\n",
       "      <th></th>\n",
       "      <th></th>\n",
       "      <th>ProdDescr</th>\n",
       "    </tr>\n",
       "    <tr>\n",
       "      <th>CustomerID</th>\n",
       "      <th>BasketID</th>\n",
       "      <th>BasketDate</th>\n",
       "      <th></th>\n",
       "    </tr>\n",
       "  </thead>\n",
       "  <tbody>\n",
       "    <tr>\n",
       "      <th>15240.0</th>\n",
       "      <th>542776</th>\n",
       "      <th>2011-01-02 08:23:00</th>\n",
       "      <td>[spot ceramic drawer knob, stripe ceramic draw...</td>\n",
       "    </tr>\n",
       "    <tr>\n",
       "      <th>14911.0</th>\n",
       "      <th>542777</th>\n",
       "      <th>2011-01-02 08:31:00</th>\n",
       "      <td>[airline bag vintage jet set, airline bag vint...</td>\n",
       "    </tr>\n",
       "    <tr>\n",
       "      <th>14496.0</th>\n",
       "      <th>542778</th>\n",
       "      <th>2011-01-02 09:01:00</th>\n",
       "      <td>[strawberry raffia food cover, clear drawer kn...</td>\n",
       "    </tr>\n",
       "    <tr>\n",
       "      <th>17147.0</th>\n",
       "      <th>542779</th>\n",
       "      <th>2011-01-02 09:36:00</th>\n",
       "      <td>[set polkadot party candle, set polkadot party...</td>\n",
       "    </tr>\n",
       "    <tr>\n",
       "      <th>17675.0</th>\n",
       "      <th>542780</th>\n",
       "      <th>2011-01-02 09:38:00</th>\n",
       "      <td>[hot bath metal sign, lady gentleman metal sig...</td>\n",
       "    </tr>\n",
       "    <tr>\n",
       "      <th>...</th>\n",
       "      <th>...</th>\n",
       "      <th>...</th>\n",
       "      <td>...</td>\n",
       "    </tr>\n",
       "    <tr>\n",
       "      <th rowspan=\"2\" valign=\"top\">16945.0</th>\n",
       "      <th>570864</th>\n",
       "      <th>2011-12-10 15:41:00</th>\n",
       "      <td>[feltcraft butterfly heart, christmas pudding ...</td>\n",
       "    </tr>\n",
       "    <tr>\n",
       "      <th>570865</th>\n",
       "      <th>2011-12-10 15:42:00</th>\n",
       "      <td>[mini playing card gymkhana, mini playing card...</td>\n",
       "    </tr>\n",
       "    <tr>\n",
       "      <th>17096.0</th>\n",
       "      <th>570866</th>\n",
       "      <th>2011-12-10 15:49:00</th>\n",
       "      <td>[retrospot heart hot water bottle, scottie dog...</td>\n",
       "    </tr>\n",
       "    <tr>\n",
       "      <th>12667.0</th>\n",
       "      <th>570875</th>\n",
       "      <th>2011-12-10 17:00:00</th>\n",
       "      <td>[baking set spaceboy design, retrospot sugar j...</td>\n",
       "    </tr>\n",
       "    <tr>\n",
       "      <th>16085.0</th>\n",
       "      <th>570876</th>\n",
       "      <th>2011-12-10 17:19:00</th>\n",
       "      <td>[polyester filler pad, polyester filler pad, p...</td>\n",
       "    </tr>\n",
       "  </tbody>\n",
       "</table>\n",
       "<p>16950 rows × 1 columns</p>\n",
       "</div>"
      ],
      "text/plain": [
       "                                                                                 ProdDescr\n",
       "CustomerID BasketID BasketDate                                                            \n",
       "15240.0    542776   2011-01-02 08:23:00  [spot ceramic drawer knob, stripe ceramic draw...\n",
       "14911.0    542777   2011-01-02 08:31:00  [airline bag vintage jet set, airline bag vint...\n",
       "14496.0    542778   2011-01-02 09:01:00  [strawberry raffia food cover, clear drawer kn...\n",
       "17147.0    542779   2011-01-02 09:36:00  [set polkadot party candle, set polkadot party...\n",
       "17675.0    542780   2011-01-02 09:38:00  [hot bath metal sign, lady gentleman metal sig...\n",
       "...                                                                                    ...\n",
       "16945.0    570864   2011-12-10 15:41:00  [feltcraft butterfly heart, christmas pudding ...\n",
       "           570865   2011-12-10 15:42:00  [mini playing card gymkhana, mini playing card...\n",
       "17096.0    570866   2011-12-10 15:49:00  [retrospot heart hot water bottle, scottie dog...\n",
       "12667.0    570875   2011-12-10 17:00:00  [baking set spaceboy design, retrospot sugar j...\n",
       "16085.0    570876   2011-12-10 17:19:00  [polyester filler pad, polyester filler pad, p...\n",
       "\n",
       "[16950 rows x 1 columns]"
      ]
     },
     "execution_count": 286,
     "metadata": {},
     "output_type": "execute_result"
    }
   ],
   "source": [
    "baskets_sequence = pd.DataFrame(df.groupby(['CustomerID', 'BasketID', 'BasketDate'])['ProdDescr'].apply(list)).sort_values('BasketDate')\n",
    "baskets_sequence"
   ]
  },
  {
   "cell_type": "code",
   "execution_count": 287,
   "metadata": {},
   "outputs": [
    {
     "data": {
      "text/html": [
       "<div>\n",
       "<style scoped>\n",
       "    .dataframe tbody tr th:only-of-type {\n",
       "        vertical-align: middle;\n",
       "    }\n",
       "\n",
       "    .dataframe tbody tr th {\n",
       "        vertical-align: top;\n",
       "    }\n",
       "\n",
       "    .dataframe thead th {\n",
       "        text-align: right;\n",
       "    }\n",
       "</style>\n",
       "<table border=\"1\" class=\"dataframe\">\n",
       "  <thead>\n",
       "    <tr style=\"text-align: right;\">\n",
       "      <th></th>\n",
       "      <th></th>\n",
       "      <th></th>\n",
       "      <th>ProdDescr</th>\n",
       "    </tr>\n",
       "    <tr>\n",
       "      <th>CustomerID</th>\n",
       "      <th>BasketID</th>\n",
       "      <th>BasketDate</th>\n",
       "      <th></th>\n",
       "    </tr>\n",
       "  </thead>\n",
       "  <tbody>\n",
       "    <tr>\n",
       "      <th>15240.0</th>\n",
       "      <th>542776</th>\n",
       "      <th>2011-01-02 08:23:00</th>\n",
       "      <td>[spot ceramic drawer knob, stripe ceramic draw...</td>\n",
       "    </tr>\n",
       "    <tr>\n",
       "      <th>14911.0</th>\n",
       "      <th>542777</th>\n",
       "      <th>2011-01-02 08:31:00</th>\n",
       "      <td>[airline bag vintage jet set, airline bag vint...</td>\n",
       "    </tr>\n",
       "    <tr>\n",
       "      <th>14496.0</th>\n",
       "      <th>542778</th>\n",
       "      <th>2011-01-02 09:01:00</th>\n",
       "      <td>[strawberry raffia food cover, clear drawer kn...</td>\n",
       "    </tr>\n",
       "    <tr>\n",
       "      <th>17147.0</th>\n",
       "      <th>542779</th>\n",
       "      <th>2011-01-02 09:36:00</th>\n",
       "      <td>[set polkadot party candle, easter tin keepsak...</td>\n",
       "    </tr>\n",
       "    <tr>\n",
       "      <th>17675.0</th>\n",
       "      <th>542780</th>\n",
       "      <th>2011-01-02 09:38:00</th>\n",
       "      <td>[hot bath metal sign, lady gentleman metal sig...</td>\n",
       "    </tr>\n",
       "    <tr>\n",
       "      <th>...</th>\n",
       "      <th>...</th>\n",
       "      <th>...</th>\n",
       "      <td>...</td>\n",
       "    </tr>\n",
       "    <tr>\n",
       "      <th rowspan=\"2\" valign=\"top\">16945.0</th>\n",
       "      <th>570864</th>\n",
       "      <th>2011-12-10 15:41:00</th>\n",
       "      <td>[feltcraft butterfly heart, christmas pudding ...</td>\n",
       "    </tr>\n",
       "    <tr>\n",
       "      <th>570865</th>\n",
       "      <th>2011-12-10 15:42:00</th>\n",
       "      <td>[mini playing card gymkhana, mini playing card...</td>\n",
       "    </tr>\n",
       "    <tr>\n",
       "      <th>17096.0</th>\n",
       "      <th>570866</th>\n",
       "      <th>2011-12-10 15:49:00</th>\n",
       "      <td>[retrospot heart hot water bottle, scottie dog...</td>\n",
       "    </tr>\n",
       "    <tr>\n",
       "      <th>12667.0</th>\n",
       "      <th>570875</th>\n",
       "      <th>2011-12-10 17:00:00</th>\n",
       "      <td>[baking set spaceboy design, retrospot sugar j...</td>\n",
       "    </tr>\n",
       "    <tr>\n",
       "      <th>16085.0</th>\n",
       "      <th>570876</th>\n",
       "      <th>2011-12-10 17:19:00</th>\n",
       "      <td>[polyester filler pad, poste france cushion co...</td>\n",
       "    </tr>\n",
       "  </tbody>\n",
       "</table>\n",
       "<p>16950 rows × 1 columns</p>\n",
       "</div>"
      ],
      "text/plain": [
       "                                                                                 ProdDescr\n",
       "CustomerID BasketID BasketDate                                                            \n",
       "15240.0    542776   2011-01-02 08:23:00  [spot ceramic drawer knob, stripe ceramic draw...\n",
       "14911.0    542777   2011-01-02 08:31:00  [airline bag vintage jet set, airline bag vint...\n",
       "14496.0    542778   2011-01-02 09:01:00  [strawberry raffia food cover, clear drawer kn...\n",
       "17147.0    542779   2011-01-02 09:36:00  [set polkadot party candle, easter tin keepsak...\n",
       "17675.0    542780   2011-01-02 09:38:00  [hot bath metal sign, lady gentleman metal sig...\n",
       "...                                                                                    ...\n",
       "16945.0    570864   2011-12-10 15:41:00  [feltcraft butterfly heart, christmas pudding ...\n",
       "           570865   2011-12-10 15:42:00  [mini playing card gymkhana, mini playing card...\n",
       "17096.0    570866   2011-12-10 15:49:00  [retrospot heart hot water bottle, scottie dog...\n",
       "12667.0    570875   2011-12-10 17:00:00  [baking set spaceboy design, retrospot sugar j...\n",
       "16085.0    570876   2011-12-10 17:19:00  [polyester filler pad, poste france cushion co...\n",
       "\n",
       "[16950 rows x 1 columns]"
      ]
     },
     "execution_count": 287,
     "metadata": {},
     "output_type": "execute_result"
    }
   ],
   "source": [
    "from itertools import groupby\n",
    "\n",
    "baskets_sequence['ProdDescr'] = baskets_sequence['ProdDescr'].apply(lambda prods: [prod[0] for prod in groupby(prods)]) # removing consecutive duplicates\n",
    "baskets_sequence"
   ]
  },
  {
   "cell_type": "code",
   "execution_count": 288,
   "metadata": {},
   "outputs": [
    {
     "data": {
      "text/html": [
       "<div>\n",
       "<style scoped>\n",
       "    .dataframe tbody tr th:only-of-type {\n",
       "        vertical-align: middle;\n",
       "    }\n",
       "\n",
       "    .dataframe tbody tr th {\n",
       "        vertical-align: top;\n",
       "    }\n",
       "\n",
       "    .dataframe thead th {\n",
       "        text-align: right;\n",
       "    }\n",
       "</style>\n",
       "<table border=\"1\" class=\"dataframe\">\n",
       "  <thead>\n",
       "    <tr style=\"text-align: right;\">\n",
       "      <th></th>\n",
       "      <th>ProdDescr</th>\n",
       "    </tr>\n",
       "    <tr>\n",
       "      <th>CustomerID</th>\n",
       "      <th></th>\n",
       "    </tr>\n",
       "  </thead>\n",
       "  <tbody>\n",
       "    <tr>\n",
       "      <th>12347.0</th>\n",
       "      <td>[[new baroquecandlestick candle, new baroque c...</td>\n",
       "    </tr>\n",
       "    <tr>\n",
       "      <th>12348.0</th>\n",
       "      <td>[[pack retrospot tissue, pack heart design tis...</td>\n",
       "    </tr>\n",
       "    <tr>\n",
       "      <th>12349.0</th>\n",
       "      <td>[[parisienne curio cabinet, sweetheart wall ti...</td>\n",
       "    </tr>\n",
       "    <tr>\n",
       "      <th>12350.0</th>\n",
       "      <td>[[way metal sign, metal sign neighbourhood wit...</td>\n",
       "    </tr>\n",
       "    <tr>\n",
       "      <th>12352.0</th>\n",
       "      <td>[[deluxe sewing kit, heart shape egg frying pa...</td>\n",
       "    </tr>\n",
       "    <tr>\n",
       "      <th>...</th>\n",
       "      <td>...</td>\n",
       "    </tr>\n",
       "    <tr>\n",
       "      <th>18280.0</th>\n",
       "      <td>[[wood board ant finish, retrospot lamp, gumba...</td>\n",
       "    </tr>\n",
       "    <tr>\n",
       "      <th>18281.0</th>\n",
       "      <td>[[robot birthday card, card circus parade, pen...</td>\n",
       "    </tr>\n",
       "    <tr>\n",
       "      <th>18282.0</th>\n",
       "      <td>[[regency tier, rose regency teacup saucer, ca...</td>\n",
       "    </tr>\n",
       "    <tr>\n",
       "      <th>18283.0</th>\n",
       "      <td>[[tea time oven glove, feltcraft butterfly hea...</td>\n",
       "    </tr>\n",
       "    <tr>\n",
       "      <th>18287.0</th>\n",
       "      <td>[[small babushka notebook, large babushka note...</td>\n",
       "    </tr>\n",
       "  </tbody>\n",
       "</table>\n",
       "<p>4206 rows × 1 columns</p>\n",
       "</div>"
      ],
      "text/plain": [
       "                                                    ProdDescr\n",
       "CustomerID                                                   \n",
       "12347.0     [[new baroquecandlestick candle, new baroque c...\n",
       "12348.0     [[pack retrospot tissue, pack heart design tis...\n",
       "12349.0     [[parisienne curio cabinet, sweetheart wall ti...\n",
       "12350.0     [[way metal sign, metal sign neighbourhood wit...\n",
       "12352.0     [[deluxe sewing kit, heart shape egg frying pa...\n",
       "...                                                       ...\n",
       "18280.0     [[wood board ant finish, retrospot lamp, gumba...\n",
       "18281.0     [[robot birthday card, card circus parade, pen...\n",
       "18282.0     [[regency tier, rose regency teacup saucer, ca...\n",
       "18283.0     [[tea time oven glove, feltcraft butterfly hea...\n",
       "18287.0     [[small babushka notebook, large babushka note...\n",
       "\n",
       "[4206 rows x 1 columns]"
      ]
     },
     "execution_count": 288,
     "metadata": {},
     "output_type": "execute_result"
    }
   ],
   "source": [
    "baskets_sequence = pd.DataFrame(baskets_sequence.groupby('CustomerID')['ProdDescr'].apply(list))\n",
    "baskets_sequence"
   ]
  },
  {
   "cell_type": "code",
   "execution_count": 295,
   "metadata": {},
   "outputs": [
    {
     "data": {
      "text/plain": [
       "[[['new baroquecandlestick candle',\n",
       "   'new baroque candlestick candle',\n",
       "   'candelabra tlight holder',\n",
       "   'woodland charlotte bag',\n",
       "   'airline bag vintage jet set',\n",
       "   'sandwich bath sponge',\n",
       "   'alarm clock bakelike',\n",
       "   'small heart measuring spoon',\n",
       "   'sweetheart fairy cake case',\n",
       "   'teatime fairy cake case',\n",
       "   'pack mushroom cake case',\n",
       "   'pack spaceboy cake case',\n",
       "   'tea time oven glove',\n",
       "   'retrospot oven glove',\n",
       "   'retrospot oven glove double',\n",
       "   'set retrospot tea towel',\n",
       "   'regency tier',\n",
       "   'box assorted colour teaspoon',\n",
       "   'mini ladle love heart',\n",
       "   'calculator',\n",
       "   'toothpaste tube pen',\n",
       "   'set tin vintage bathroom',\n",
       "   'toadstool led night light',\n",
       "   'dog picture playing card'],\n",
       "  ['set vintage leaf cake case',\n",
       "   'set heart shape petit four case',\n",
       "   'airline bag vintage jet set',\n",
       "   'airline bag vintage tokyo',\n",
       "   'airline bag vintage world champion',\n",
       "   'woodland design cotton tote bag',\n",
       "   'woodland charlotte bag',\n",
       "   'alarm clock bakelike',\n",
       "   'triple hook antique rose',\n",
       "   'single antique rose hook',\n",
       "   'tea time oven glove',\n",
       "   'sweetheart fairy cake case',\n",
       "   'teatime fairy cake case',\n",
       "   'pack dinosaur cake case',\n",
       "   'regency tier',\n",
       "   'regency milk jug',\n",
       "   'dog picture playing card',\n",
       "   'revolver wooden ruler',\n",
       "   'vintage head tail card game',\n",
       "   'refectory clock'],\n",
       "  ['airline bag vintage jet set',\n",
       "   'airline bag vintage tokyo',\n",
       "   'airline bag vintage jet set',\n",
       "   'retrospot purse',\n",
       "   'ice cream sundae lip gloss',\n",
       "   'vintage head tail card game',\n",
       "   'holiday fun ludo',\n",
       "   'treasure island book box',\n",
       "   'watering bunny',\n",
       "   'drawer knob acrylic edwardian',\n",
       "   'large heart measuring spoon',\n",
       "   'small heart measuring spoon',\n",
       "   'pack dinosaur cake case',\n",
       "   'retrospot oven glove double',\n",
       "   'regency tier',\n",
       "   'rose regency teacup saucer',\n",
       "   'toadstool led night light',\n",
       "   'mini paint set vintage',\n",
       "   'sheet dog sticker',\n",
       "   'sheet cat sticker',\n",
       "   'small folding scissorpointed edge',\n",
       "   'gift bag psychedelic apple',\n",
       "   'set tin vintage bathroom'],\n",
       "  ['classic chrome bicycle bell',\n",
       "   'bicycle puncture repair kit',\n",
       "   'boom box speaker boy',\n",
       "   'new baroquecandlestick candle',\n",
       "   'toadstool led night light',\n",
       "   'rabbit night light',\n",
       "   'woodland charlotte bag',\n",
       "   'goose feather tree',\n",
       "   'christmas table candle spike',\n",
       "   'mini playing card spaceboy',\n",
       "   'mini playing card dolly girl'],\n",
       "  ['rabbit night light',\n",
       "   'regency tea strainer',\n",
       "   'regency tea plate',\n",
       "   'regency tea plate rose',\n",
       "   'regency teapot rose',\n",
       "   'regency sugar bowl',\n",
       "   'regency milk jug',\n",
       "   'airline bag vintage tokyo',\n",
       "   'airline bag vintage jet set',\n",
       "   'victorian sewing kit',\n",
       "   'namaste swagat incense',\n",
       "   'triple hook antique rose',\n",
       "   'small heart measuring spoon',\n",
       "   'dog picture playing card',\n",
       "   'feather pencoal',\n",
       "   'alarm clock bakelike'],\n",
       "  ['mini light woodland mushroom',\n",
       "   'goose feather tree',\n",
       "   'madras notebook medium',\n",
       "   'airline bag vintage world champion',\n",
       "   'airline bag vintage jet set',\n",
       "   'airline bag vintage tokyo',\n",
       "   'airline bag vintage jet set',\n",
       "   'birdcage decoration holder',\n",
       "   'christmas metal tag assorted',\n",
       "   'regency tier',\n",
       "   'regency teapot rose',\n",
       "   'tea time de tea cosy',\n",
       "   'tea time kitchen apron',\n",
       "   'tea time oven glove',\n",
       "   'regency teacup saucer',\n",
       "   'dog picture playing card',\n",
       "   'rabbit night light',\n",
       "   'toadstool led night light',\n",
       "   'treasure island book box',\n",
       "   'vintage head tail card game',\n",
       "   'mini playing card dolly girl',\n",
       "   'mini playing card spaceboy',\n",
       "   'playing card keep calm carry',\n",
       "   'revolver wooden ruler',\n",
       "   'wooden school colouring set',\n",
       "   'mini paint set vintage',\n",
       "   'traditional knitting nancy',\n",
       "   'triple hook antique rose',\n",
       "   'pantry hook spatula',\n",
       "   'pantry hook balloon whisk',\n",
       "   'pantry hook tea strainer',\n",
       "   'rose regency teacup saucer',\n",
       "   'alarm clock bakelike',\n",
       "   'pack mushroom cake case',\n",
       "   'pack spaceboy cake case',\n",
       "   'set vintage leaf cake case',\n",
       "   'teatime fairy cake case',\n",
       "   'sweetheart fairy cake case',\n",
       "   'small heart measuring spoon',\n",
       "   'large heart measuring spoon',\n",
       "   'woodland charlotte bag',\n",
       "   'regency tea strainer',\n",
       "   'food container set love heart']],\n",
       " [['pack retrospot tissue',\n",
       "   'pack heart design tissue',\n",
       "   'multi heart sticker',\n",
       "   'pack paisley tissue',\n",
       "   'pack skull tissue'],\n",
       "  ['doughnut lip gloss',\n",
       "   'ice cream pen lip gloss',\n",
       "   'ice cream sundae lip gloss',\n",
       "   'set skull balloon'],\n",
       "  ['doughnut lip gloss', 'ice cream pen lip gloss']],\n",
       " [['parisienne curio cabinet',\n",
       "   'sweetheart wall tidy',\n",
       "   'heart shape love bucket',\n",
       "   'gingham heart doorstop',\n",
       "   'heart shape love bucket',\n",
       "   'food container set love heart',\n",
       "   'large heart measuring spoon',\n",
       "   'doormat heart',\n",
       "   'hanging heart jar tlight holder',\n",
       "   'brocante shelf hook',\n",
       "   'plaster tin vintage paisley',\n",
       "   'pantry magnetic shopping list',\n",
       "   'recipe box pantry design',\n",
       "   'set cake tin pantry design',\n",
       "   'jam making set jar',\n",
       "   'set spice tin pantry design',\n",
       "   'pantry chopping board',\n",
       "   'doormat welcome home',\n",
       "   'piece cutlery set pantry design',\n",
       "   'small retrospot mug box',\n",
       "   'polkadot umbrella',\n",
       "   'dolly peg retrospot',\n",
       "   'set retro storage cube',\n",
       "   'regency tier',\n",
       "   'set retrospot lid glass bowl',\n",
       "   'doormat retrospot',\n",
       "   'set spotty paper cup',\n",
       "   'retrospot small milk jug',\n",
       "   'retrospot sugar jam bowl',\n",
       "   'retrospot large milk jug',\n",
       "   'small retrospot mug box',\n",
       "   'rain poncho retrospot',\n",
       "   'retrospot umbrella',\n",
       "   'plaster tin skull',\n",
       "   'glass songbird storage jar',\n",
       "   'set fairy cake baking case',\n",
       "   'set tea time baking case',\n",
       "   'set snack loaf baking case',\n",
       "   'wrap vintage doily',\n",
       "   'set mini loaf baking case',\n",
       "   'storage tin vintage doily',\n",
       "   'set knick knack tin doily',\n",
       "   'doormat vintage leaf',\n",
       "   'round snack box set woodland',\n",
       "   'plaster tin woodland animal',\n",
       "   'plaster tin strongman',\n",
       "   'retrospot party bag sticker set',\n",
       "   'vintage doily travel sewing kit',\n",
       "   'vintage doily deluxe sewing kit',\n",
       "   'classic chrome bicycle bell',\n",
       "   'ribbon reel sally',\n",
       "   'painted metal pear assorted',\n",
       "   'wrap apple',\n",
       "   'christmas retrospot angel wood',\n",
       "   'set wooden heart decoration',\n",
       "   'heart tlight holder willie winkie',\n",
       "   'hand warmer love heart',\n",
       "   'zinc folkart sleigh bell',\n",
       "   'plaster tin circus parade',\n",
       "   'english rose spirit level',\n",
       "   'set led dolly light',\n",
       "   'french enamel candleholder',\n",
       "   'grow basil enamel mug',\n",
       "   'enamel watering cream',\n",
       "   'doormat english rose',\n",
       "   'ceramic strawberry design mug',\n",
       "   'sweetheart ceramic trinket box',\n",
       "   'strawberry ceramic trinket pot',\n",
       "   'doughnut trinket pot',\n",
       "   'ceramic cake design spotted mug',\n",
       "   'tea time teapot gift box',\n",
       "   'doormat fairy cake']]]"
      ]
     },
     "execution_count": 295,
     "metadata": {},
     "output_type": "execute_result"
    }
   ],
   "source": [
    "baskets_sequence['ProdDescr'].tolist()[:3]"
   ]
  },
  {
   "cell_type": "code",
   "execution_count": 289,
   "metadata": {},
   "outputs": [
    {
     "name": "stdout",
     "output_type": "stream",
     "text": [
      "Result, lvl 1: [([['alarm clock bakelike']], 496), ([['assorted colour bird ornament']], 651), ([['baking set piece retrospot']], 576), ([['gardener kneeling pad keep calm']], 405), ([['hanging heart tlight holder']], 883), ([['harmonica box']], 426), ([['heart wicker large']], 440), ([['heart wicker small']], 529), ([['hot water bottle keep calm']], 473), ([['jam making set jar']], 530), ([['jam making set printed']], 477), ([['jumbo bag retrospot']], 609), ([['kitchen scale']], 470), ([['lunch bag apple design']], 400), ([['lunch bag car']], 466), ([['lunch bag polkadot']], 436), ([['lunch bag retrospot']], 518), ([['lunch bag skull']], 449), ([['lunch bag spaceboy design']], 476), ([['lunch bag suki design']], 423), ([['natural slate heart chalkboard']], 556), ([['pack retrospot cake case']], 602), ([['paper chain kit christmas']], 553), ([['paper chain kit vintage christmas']], 414), ([['party bunting']], 699), ([['rabbit night light']], 449), ([['recipe box pantry design']], 450), ([['regency tier']], 836), ([['retrospot tea set ceramic']], 486), ([['rex cashcarry jumbo shopper']], 447), ([['rose regency teacup saucer']], 408), ([['set cake tin pantry design']], 621), ([['set pantry jelly mould']], 430), ([['set regency cake tin']], 470), ([['set retrospot paper napkin']], 404), ([['spotty bunting']], 571), ([['vintage snap card']], 423)]\n"
     ]
    },
    {
     "data": {
      "text/plain": [
       "[([['alarm clock bakelike']], 496),\n",
       " ([['assorted colour bird ornament']], 651),\n",
       " ([['baking set piece retrospot']], 576),\n",
       " ([['gardener kneeling pad keep calm']], 405),\n",
       " ([['hanging heart tlight holder']], 883),\n",
       " ([['harmonica box']], 426),\n",
       " ([['heart wicker large']], 440),\n",
       " ([['heart wicker small']], 529),\n",
       " ([['hot water bottle keep calm']], 473),\n",
       " ([['jam making set jar']], 530),\n",
       " ([['jam making set printed']], 477),\n",
       " ([['jumbo bag retrospot']], 609),\n",
       " ([['kitchen scale']], 470),\n",
       " ([['lunch bag apple design']], 400),\n",
       " ([['lunch bag car']], 466),\n",
       " ([['lunch bag polkadot']], 436),\n",
       " ([['lunch bag retrospot']], 518),\n",
       " ([['lunch bag skull']], 449),\n",
       " ([['lunch bag spaceboy design']], 476),\n",
       " ([['lunch bag suki design']], 423),\n",
       " ([['natural slate heart chalkboard']], 556),\n",
       " ([['pack retrospot cake case']], 602),\n",
       " ([['paper chain kit christmas']], 553),\n",
       " ([['paper chain kit vintage christmas']], 414),\n",
       " ([['party bunting']], 699),\n",
       " ([['rabbit night light']], 449),\n",
       " ([['recipe box pantry design']], 450),\n",
       " ([['regency tier']], 836),\n",
       " ([['retrospot tea set ceramic']], 486),\n",
       " ([['rex cashcarry jumbo shopper']], 447),\n",
       " ([['rose regency teacup saucer']], 408),\n",
       " ([['set cake tin pantry design']], 621),\n",
       " ([['set pantry jelly mould']], 430),\n",
       " ([['set regency cake tin']], 470),\n",
       " ([['set retrospot paper napkin']], 404),\n",
       " ([['spotty bunting']], 571),\n",
       " ([['vintage snap card']], 423),\n",
       " ([['hanging heart tlight holder'], ['hanging heart tlight holder']], 406)]"
      ]
     },
     "execution_count": 289,
     "metadata": {},
     "output_type": "execute_result"
    }
   ],
   "source": [
    "aprioriall(baskets_sequence['ProdDescr'].tolist(), minSupport=400, verbose=False)"
   ]
  },
  {
   "cell_type": "code",
   "execution_count": 296,
   "metadata": {},
   "outputs": [],
   "source": [
    "import re\n",
    "from collections import defaultdict\n",
    "from functools import lru_cache\n",
    "from itertools import product\n",
    "from math import floor\n",
    "\n",
    "class DataSequence(object):\n",
    "    \"\"\"Represents a data sequence.\"\"\"\n",
    "    def __init__(self, elements):\n",
    "        self.elements = elements\n",
    "        self.items = set(flatten(elements))\n",
    "\n",
    "    def __repr__(self):\n",
    "        return repr(self.elements)\n",
    "\n",
    "class SequentialPattern(object):\n",
    "    \"\"\"Represents a sequential pattern.\"\"\"\n",
    "\n",
    "    def __init__(self, items, support):\n",
    "        self.items = items\n",
    "        self.support = support\n",
    "\n",
    "    def __repr__(self):\n",
    "        return \"< {} > ({:.3g})\".format(\", \".join(self.items), self.support)\n",
    "\n",
    "class ResultSet(object):\n",
    "    \"\"\"The results of a run of the apriori algorithm.\"\"\"\n",
    "    def __init__(self, frequent_sequences):\n",
    "        self.frequent_sequences = frequent_sequences\n",
    "        self.max_len = len(frequent_sequences)\n",
    "        self.num_of_sequences = len(flatten(self.frequent_sequences))\n",
    "\n",
    "    def all(self):\n",
    "        return ResultSet.__sort(flatten(self.frequent_sequences))\n",
    "\n",
    "    def __getitem__(self, i):\n",
    "        return ResultSet.__sort(self.frequent_sequences[i])\n",
    "\n",
    "    @staticmethod\n",
    "    def __sort(sequences):\n",
    "        return sorted(sequences, key=lambda x: x.support, reverse=True)\n",
    "\n",
    "    def __repr__(self):\n",
    "        s = \"\"\n",
    "        for pattern in self.all():\n",
    "            s += repr(pattern) + \"\\n\"\n",
    "        s += \"Number of patterns {}\\n\".format(self.num_of_sequences)\n",
    "        s += \"Largest pattern is of size {}\\n\".format(self.max_len)\n",
    "        return s\n",
    "\n",
    "\n",
    "def read_data_sequences(filename):\n",
    "    \"\"\"Read data sequences from a file containing lines of the format:\n",
    "        { item_id item_id }{ item_id }...{item_id item_id item_id} etc.\"\"\"\n",
    "    data_sequences = []\n",
    "    for f in open(filename, \"r\"):\n",
    "        elements = []\n",
    "        for element in re.findall(r\"{[\\w\\s]+}\", f):\n",
    "            elements.append(set(re.findall(r\"\\w+\", element)))\n",
    "        data_sequences.append(DataSequence(elements))\n",
    "    return data_sequences\n",
    "\n",
    "def apriori(data_sequences, minsup, maxgap=999, mingap=1):\n",
    "    \"\"\"Apriori-like algorithm for mining sequential patterns.\"\"\"\n",
    "    frequent_seqs = []\n",
    "    n = len(data_sequences)\n",
    "    min_support_count = floor(minsup * n)\n",
    "\n",
    "    frequent_seqs.append(find_frequent_1_subsequences(data_sequences,\n",
    "        min_support_count))\n",
    "\n",
    "    k = 2\n",
    "    while frequent_seqs[-1]:\n",
    "        frequent_seqs.append([])\n",
    "        candidates = apriori_gen(frequent_seqs[-2])\n",
    "\n",
    "        for candidate in candidates:\n",
    "            support_count = calculate_support(candidate, data_sequences,\n",
    "                    maxgap, mingap)\n",
    "            if support_count >= min_support_count:\n",
    "                pattern = SequentialPattern(candidate, support_count / n)\n",
    "                frequent_seqs[-1].append(pattern)\n",
    "        print(\"... of which {} are {}-patterns.\\n\".format(len(frequent_seqs[-1]), k))\n",
    "        k += 1\n",
    "\n",
    "    return ResultSet(frequent_seqs)\n",
    "\n",
    "\n",
    "def find_frequent_1_subsequences(data_sequences, min_support_count):\n",
    "    \"\"\"Find all frequent 1-subsequences.\"\"\"\n",
    "    support_counts = defaultdict(int)\n",
    "    n = len(data_sequences)\n",
    "\n",
    "    # Calculate support counts\n",
    "    for data_sequence in data_sequences:\n",
    "        for item in data_sequence.items:\n",
    "            support_counts[item] += 1\n",
    "\n",
    "    # Filter subsequences above minsup\n",
    "    frequent_seqs = []\n",
    "    for k,v in support_counts.items():\n",
    "        if v >= min_support_count:\n",
    "            frequent_seqs.append(SequentialPattern([k], v / n))\n",
    "    print(\"Generated {} frequent 1-patterns.\\n\".format(len(frequent_seqs)))\n",
    "    return frequent_seqs\n",
    "\n",
    "def apriori_gen(prev_subsequences):\n",
    "    \"\"\"Generate candidate k-subsequences given frequent k-1 subsequences.\"\"\"\n",
    "    candidates = []\n",
    "    prev_subsequences = map(lambda pattern: pattern.items, prev_subsequences)\n",
    "    for seq1, seq2 in product(prev_subsequences, repeat=2):\n",
    "        if seq1[1:] == seq2[:-1]:\n",
    "            candidates.append(seq1 + [seq2[-1]])\n",
    "    print(\"Generated {} candidates...\".format(len(candidates)))\n",
    "    return candidates\n",
    "\n",
    "def calculate_support(candidate, data_sequences, maxgap, mingap):\n",
    "    \"\"\"Calculate a candidate's support given a list of data sequences.\"\"\"\n",
    "    support_count = 0\n",
    "    for data_sequence in data_sequences:\n",
    "        if occurs(candidate, data_sequence, maxgap, mingap):\n",
    "            support_count += 1\n",
    "    return support_count\n",
    "\n",
    "def occurs(candidate, data_sequence, maxgap, mingap):\n",
    "    \"\"\"Check whether given candidate sequence occurs in given data sequence.\"\"\"\n",
    "    matchings = list_matchings(candidate, data_sequence)\n",
    "    if matchings:\n",
    "        return find_occurrence(candidate, matchings, maxgap, mingap)\n",
    "    else:\n",
    "        return False\n",
    "\n",
    "\n",
    "def list_matchings(candidate, data_sequence):\n",
    "    \"\"\"Find all matchings of candidate events in data sequence.\"\"\"\n",
    "\n",
    "    for item in candidate:\n",
    "        if item not in data_sequence.items:\n",
    "            return False\n",
    "\n",
    "    matchings = []\n",
    "    last_min = 0\n",
    "    for item in candidate:\n",
    "        matching = []\n",
    "        for j in range(last_min, len(data_sequence.elements)):\n",
    "            if item in data_sequence.elements[j]:\n",
    "                matching.append(j)\n",
    "        if matching:\n",
    "            matchings.append(matching)\n",
    "            last_min = matching[0] + 1\n",
    "        else:\n",
    "            return False\n",
    "    return matchings\n",
    "\n",
    "def find_occurrence(candidate, matchings, maxgap, mingap):\n",
    "    \"\"\"Find an occurrence of a candidate pattern against given matchings, also\n",
    "    satisfying maxgap and mingap constraints.\"\"\"\n",
    "    stack = []\n",
    "    level = 0\n",
    "    index = 0\n",
    "    while len(stack) != len(candidate):\n",
    "        if level == 0:\n",
    "            if index == len(matchings[0]):\n",
    "                return False\n",
    "            stack.append(index)\n",
    "            level += 1\n",
    "            index = 0\n",
    "        elif index == len(matchings[level]):\n",
    "            level -= 1\n",
    "            index = stack.pop() + 1\n",
    "        elif matchings[level][index] > matchings[level-1][stack[-1]]:\n",
    "            diff = matchings[level][index] - matchings[level-1][stack[-1]]\n",
    "            if diff > maxgap: # Max gap\n",
    "                level -= 1\n",
    "                index = stack.pop() + 1\n",
    "            elif diff < mingap: # Min gap\n",
    "                index += 1\n",
    "            else:\n",
    "                stack.append(index)\n",
    "                level += 1\n",
    "                index = 0\n",
    "        else:\n",
    "            index += 1\n",
    "    return stack"
   ]
  },
  {
   "cell_type": "code",
   "execution_count": 298,
   "metadata": {},
   "outputs": [
    {
     "ename": "AttributeError",
     "evalue": "'list' object has no attribute 'items'",
     "output_type": "error",
     "traceback": [
      "\u001b[0;31m---------------------------------------------------------------------------\u001b[0m",
      "\u001b[0;31mAttributeError\u001b[0m                            Traceback (most recent call last)",
      "\u001b[0;32m<ipython-input-298-f0c1f790403d>\u001b[0m in \u001b[0;36m<module>\u001b[0;34m\u001b[0m\n\u001b[0;32m----> 1\u001b[0;31m \u001b[0mapriori\u001b[0m\u001b[0;34m(\u001b[0m\u001b[0mbaskets_sequence\u001b[0m\u001b[0;34m[\u001b[0m\u001b[0;34m'ProdDescr'\u001b[0m\u001b[0;34m]\u001b[0m\u001b[0;34m.\u001b[0m\u001b[0mtolist\u001b[0m\u001b[0;34m(\u001b[0m\u001b[0;34m)\u001b[0m\u001b[0;34m,\u001b[0m \u001b[0mminsup\u001b[0m\u001b[0;34m=\u001b[0m\u001b[0;36m10\u001b[0m\u001b[0;34m)\u001b[0m\u001b[0;34m\u001b[0m\u001b[0;34m\u001b[0m\u001b[0m\n\u001b[0m",
      "\u001b[0;32m<ipython-input-296-a8ffd709819c>\u001b[0m in \u001b[0;36mapriori\u001b[0;34m(data_sequences, minsup, maxgap, mingap)\u001b[0m\n\u001b[1;32m     67\u001b[0m     \u001b[0mmin_support_count\u001b[0m \u001b[0;34m=\u001b[0m \u001b[0mfloor\u001b[0m\u001b[0;34m(\u001b[0m\u001b[0mminsup\u001b[0m \u001b[0;34m*\u001b[0m \u001b[0mn\u001b[0m\u001b[0;34m)\u001b[0m\u001b[0;34m\u001b[0m\u001b[0;34m\u001b[0m\u001b[0m\n\u001b[1;32m     68\u001b[0m \u001b[0;34m\u001b[0m\u001b[0m\n\u001b[0;32m---> 69\u001b[0;31m     frequent_seqs.append(find_frequent_1_subsequences(data_sequences,\n\u001b[0m\u001b[1;32m     70\u001b[0m         min_support_count))\n\u001b[1;32m     71\u001b[0m \u001b[0;34m\u001b[0m\u001b[0m\n",
      "\u001b[0;32m<ipython-input-296-a8ffd709819c>\u001b[0m in \u001b[0;36mfind_frequent_1_subsequences\u001b[0;34m(data_sequences, min_support_count)\u001b[0m\n\u001b[1;32m     94\u001b[0m     \u001b[0;31m# Calculate support counts\u001b[0m\u001b[0;34m\u001b[0m\u001b[0;34m\u001b[0m\u001b[0;34m\u001b[0m\u001b[0m\n\u001b[1;32m     95\u001b[0m     \u001b[0;32mfor\u001b[0m \u001b[0mdata_sequence\u001b[0m \u001b[0;32min\u001b[0m \u001b[0mdata_sequences\u001b[0m\u001b[0;34m:\u001b[0m\u001b[0;34m\u001b[0m\u001b[0;34m\u001b[0m\u001b[0m\n\u001b[0;32m---> 96\u001b[0;31m         \u001b[0;32mfor\u001b[0m \u001b[0mitem\u001b[0m \u001b[0;32min\u001b[0m \u001b[0mdata_sequence\u001b[0m\u001b[0;34m.\u001b[0m\u001b[0mitems\u001b[0m\u001b[0;34m:\u001b[0m\u001b[0;34m\u001b[0m\u001b[0;34m\u001b[0m\u001b[0m\n\u001b[0m\u001b[1;32m     97\u001b[0m             \u001b[0msupport_counts\u001b[0m\u001b[0;34m[\u001b[0m\u001b[0mitem\u001b[0m\u001b[0;34m]\u001b[0m \u001b[0;34m+=\u001b[0m \u001b[0;36m1\u001b[0m\u001b[0;34m\u001b[0m\u001b[0;34m\u001b[0m\u001b[0m\n\u001b[1;32m     98\u001b[0m \u001b[0;34m\u001b[0m\u001b[0m\n",
      "\u001b[0;31mAttributeError\u001b[0m: 'list' object has no attribute 'items'"
     ]
    }
   ],
   "source": [
    "apriori(baskets_sequence['ProdDescr'].tolist(), minsup=10)"
   ]
  },
  {
   "cell_type": "code",
   "execution_count": null,
   "metadata": {},
   "outputs": [],
   "source": []
  }
 ],
 "metadata": {
  "kernelspec": {
   "display_name": "Python 3",
   "language": "python",
   "name": "python3"
  },
  "language_info": {
   "codemirror_mode": {
    "name": "ipython",
    "version": 3
   },
   "file_extension": ".py",
   "mimetype": "text/x-python",
   "name": "python",
   "nbconvert_exporter": "python",
   "pygments_lexer": "ipython3",
   "version": "3.8.6"
  }
 },
 "nbformat": 4,
 "nbformat_minor": 4
}
