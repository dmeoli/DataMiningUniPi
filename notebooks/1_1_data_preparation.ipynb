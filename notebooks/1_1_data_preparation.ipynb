{
 "cells": [
  {
   "cell_type": "markdown",
   "metadata": {},
   "source": [
    "# Task 1: Data Understanding \\& Preparation"
   ]
  },
  {
   "cell_type": "code",
   "execution_count": 499,
   "metadata": {},
   "outputs": [],
   "source": [
    "import numpy as np\n",
    "import pandas as pd\n",
    "import seaborn as sns\n",
    "import matplotlib.pyplot as plt"
   ]
  },
  {
   "cell_type": "code",
   "execution_count": 500,
   "metadata": {},
   "outputs": [],
   "source": [
    "import warnings \n",
    "\n",
    "warnings.filterwarnings('ignore')"
   ]
  },
  {
   "cell_type": "markdown",
   "metadata": {},
   "source": [
    "## Loading the dataset"
   ]
  },
  {
   "cell_type": "code",
   "execution_count": 501,
   "metadata": {},
   "outputs": [
    {
     "data": {
      "text/html": [
       "<div>\n",
       "<style scoped>\n",
       "    .dataframe tbody tr th:only-of-type {\n",
       "        vertical-align: middle;\n",
       "    }\n",
       "\n",
       "    .dataframe tbody tr th {\n",
       "        vertical-align: top;\n",
       "    }\n",
       "\n",
       "    .dataframe thead th {\n",
       "        text-align: right;\n",
       "    }\n",
       "</style>\n",
       "<table border=\"1\" class=\"dataframe\">\n",
       "  <thead>\n",
       "    <tr style=\"text-align: right;\">\n",
       "      <th></th>\n",
       "      <th>BasketID</th>\n",
       "      <th>BasketDate</th>\n",
       "      <th>Sale</th>\n",
       "      <th>CustomerID</th>\n",
       "      <th>CustomerCountry</th>\n",
       "      <th>ProdID</th>\n",
       "      <th>ProdDescr</th>\n",
       "      <th>Qta</th>\n",
       "    </tr>\n",
       "  </thead>\n",
       "  <tbody>\n",
       "    <tr>\n",
       "      <th>0</th>\n",
       "      <td>536365</td>\n",
       "      <td>01/12/10 08:26</td>\n",
       "      <td>2,55</td>\n",
       "      <td>17850.0</td>\n",
       "      <td>United Kingdom</td>\n",
       "      <td>85123A</td>\n",
       "      <td>WHITE HANGING HEART T-LIGHT HOLDER</td>\n",
       "      <td>6</td>\n",
       "    </tr>\n",
       "    <tr>\n",
       "      <th>1</th>\n",
       "      <td>536365</td>\n",
       "      <td>01/12/10 08:26</td>\n",
       "      <td>3,39</td>\n",
       "      <td>17850.0</td>\n",
       "      <td>United Kingdom</td>\n",
       "      <td>71053</td>\n",
       "      <td>WHITE METAL LANTERN</td>\n",
       "      <td>6</td>\n",
       "    </tr>\n",
       "    <tr>\n",
       "      <th>2</th>\n",
       "      <td>536365</td>\n",
       "      <td>01/12/10 08:26</td>\n",
       "      <td>2,75</td>\n",
       "      <td>17850.0</td>\n",
       "      <td>United Kingdom</td>\n",
       "      <td>84406B</td>\n",
       "      <td>CREAM CUPID HEARTS COAT HANGER</td>\n",
       "      <td>8</td>\n",
       "    </tr>\n",
       "    <tr>\n",
       "      <th>3</th>\n",
       "      <td>536365</td>\n",
       "      <td>01/12/10 08:26</td>\n",
       "      <td>3,39</td>\n",
       "      <td>17850.0</td>\n",
       "      <td>United Kingdom</td>\n",
       "      <td>84029G</td>\n",
       "      <td>KNITTED UNION FLAG HOT WATER BOTTLE</td>\n",
       "      <td>6</td>\n",
       "    </tr>\n",
       "    <tr>\n",
       "      <th>4</th>\n",
       "      <td>536365</td>\n",
       "      <td>01/12/10 08:26</td>\n",
       "      <td>3,39</td>\n",
       "      <td>17850.0</td>\n",
       "      <td>United Kingdom</td>\n",
       "      <td>84029E</td>\n",
       "      <td>RED WOOLLY HOTTIE WHITE HEART.</td>\n",
       "      <td>6</td>\n",
       "    </tr>\n",
       "    <tr>\n",
       "      <th>...</th>\n",
       "      <td>...</td>\n",
       "      <td>...</td>\n",
       "      <td>...</td>\n",
       "      <td>...</td>\n",
       "      <td>...</td>\n",
       "      <td>...</td>\n",
       "      <td>...</td>\n",
       "      <td>...</td>\n",
       "    </tr>\n",
       "    <tr>\n",
       "      <th>541905</th>\n",
       "      <td>581587</td>\n",
       "      <td>09/12/11 12:50</td>\n",
       "      <td>2,1</td>\n",
       "      <td>12680.0</td>\n",
       "      <td>France</td>\n",
       "      <td>22899</td>\n",
       "      <td>CHILDREN'S APRON DOLLY GIRL</td>\n",
       "      <td>6</td>\n",
       "    </tr>\n",
       "    <tr>\n",
       "      <th>541906</th>\n",
       "      <td>581587</td>\n",
       "      <td>09/12/11 12:50</td>\n",
       "      <td>4,15</td>\n",
       "      <td>12680.0</td>\n",
       "      <td>France</td>\n",
       "      <td>23254</td>\n",
       "      <td>CHILDRENS CUTLERY DOLLY GIRL</td>\n",
       "      <td>4</td>\n",
       "    </tr>\n",
       "    <tr>\n",
       "      <th>541907</th>\n",
       "      <td>581587</td>\n",
       "      <td>09/12/11 12:50</td>\n",
       "      <td>4,15</td>\n",
       "      <td>12680.0</td>\n",
       "      <td>France</td>\n",
       "      <td>23255</td>\n",
       "      <td>CHILDRENS CUTLERY CIRCUS PARADE</td>\n",
       "      <td>4</td>\n",
       "    </tr>\n",
       "    <tr>\n",
       "      <th>541908</th>\n",
       "      <td>581587</td>\n",
       "      <td>09/12/11 12:50</td>\n",
       "      <td>4,95</td>\n",
       "      <td>12680.0</td>\n",
       "      <td>France</td>\n",
       "      <td>22138</td>\n",
       "      <td>BAKING SET 9 PIECE RETROSPOT</td>\n",
       "      <td>3</td>\n",
       "    </tr>\n",
       "    <tr>\n",
       "      <th>541909</th>\n",
       "      <td>581587</td>\n",
       "      <td>09/12/11 12:50</td>\n",
       "      <td>18</td>\n",
       "      <td>12680.0</td>\n",
       "      <td>France</td>\n",
       "      <td>POST</td>\n",
       "      <td>POSTAGE</td>\n",
       "      <td>1</td>\n",
       "    </tr>\n",
       "  </tbody>\n",
       "</table>\n",
       "<p>471910 rows × 8 columns</p>\n",
       "</div>"
      ],
      "text/plain": [
       "       BasketID      BasketDate  Sale  CustomerID CustomerCountry  ProdID  \\\n",
       "0        536365  01/12/10 08:26  2,55     17850.0  United Kingdom  85123A   \n",
       "1        536365  01/12/10 08:26  3,39     17850.0  United Kingdom   71053   \n",
       "2        536365  01/12/10 08:26  2,75     17850.0  United Kingdom  84406B   \n",
       "3        536365  01/12/10 08:26  3,39     17850.0  United Kingdom  84029G   \n",
       "4        536365  01/12/10 08:26  3,39     17850.0  United Kingdom  84029E   \n",
       "...         ...             ...   ...         ...             ...     ...   \n",
       "541905   581587  09/12/11 12:50   2,1     12680.0          France   22899   \n",
       "541906   581587  09/12/11 12:50  4,15     12680.0          France   23254   \n",
       "541907   581587  09/12/11 12:50  4,15     12680.0          France   23255   \n",
       "541908   581587  09/12/11 12:50  4,95     12680.0          France   22138   \n",
       "541909   581587  09/12/11 12:50    18     12680.0          France    POST   \n",
       "\n",
       "                                  ProdDescr  Qta  \n",
       "0        WHITE HANGING HEART T-LIGHT HOLDER    6  \n",
       "1                       WHITE METAL LANTERN    6  \n",
       "2            CREAM CUPID HEARTS COAT HANGER    8  \n",
       "3       KNITTED UNION FLAG HOT WATER BOTTLE    6  \n",
       "4            RED WOOLLY HOTTIE WHITE HEART.    6  \n",
       "...                                     ...  ...  \n",
       "541905         CHILDREN'S APRON DOLLY GIRL     6  \n",
       "541906        CHILDRENS CUTLERY DOLLY GIRL     4  \n",
       "541907      CHILDRENS CUTLERY CIRCUS PARADE    4  \n",
       "541908        BAKING SET 9 PIECE RETROSPOT     3  \n",
       "541909                              POSTAGE    1  \n",
       "\n",
       "[471910 rows x 8 columns]"
      ]
     },
     "execution_count": 501,
     "metadata": {},
     "output_type": "execute_result"
    }
   ],
   "source": [
    "df = pd.read_csv('../dataset/customer_supermarket.csv', sep='\\t', index_col=0)\n",
    "df"
   ]
  },
  {
   "cell_type": "markdown",
   "metadata": {},
   "source": [
    "## Basic checks"
   ]
  },
  {
   "cell_type": "code",
   "execution_count": 502,
   "metadata": {},
   "outputs": [
    {
     "name": "stdout",
     "output_type": "stream",
     "text": [
      "Number of canceled duplicates: 5232/471910 (1.11%)\n"
     ]
    }
   ],
   "source": [
    "n_samples = df.shape[0]\n",
    "df.drop_duplicates(ignore_index=True, inplace=True)\n",
    "duplicates = n_samples - df.shape[0]\n",
    "print('Number of canceled duplicates: {}/{} ({:.2f}%)'.format(duplicates, n_samples, duplicates / n_samples * 100))"
   ]
  },
  {
   "cell_type": "code",
   "execution_count": 503,
   "metadata": {},
   "outputs": [
    {
     "data": {
      "text/plain": [
       "BasketID            object\n",
       "BasketDate          object\n",
       "Sale                object\n",
       "CustomerID         float64\n",
       "CustomerCountry     object\n",
       "ProdID              object\n",
       "ProdDescr           object\n",
       "Qta                  int64\n",
       "dtype: object"
      ]
     },
     "execution_count": 503,
     "metadata": {},
     "output_type": "execute_result"
    }
   ],
   "source": [
    "df.dtypes"
   ]
  },
  {
   "cell_type": "code",
   "execution_count": 504,
   "metadata": {},
   "outputs": [],
   "source": [
    "df['Sale'] = df['Sale'].str.replace(',', '.')\n",
    "df['Sale'] = pd.to_numeric(df['Sale'])\n",
    "df = df.astype({'BasketDate': 'datetime64',\n",
    "                'CustomerID': 'object'})"
   ]
  },
  {
   "cell_type": "code",
   "execution_count": 505,
   "metadata": {},
   "outputs": [
    {
     "data": {
      "text/plain": [
       "BasketID                   object\n",
       "BasketDate         datetime64[ns]\n",
       "Sale                      float64\n",
       "CustomerID                 object\n",
       "CustomerCountry            object\n",
       "ProdID                     object\n",
       "ProdDescr                  object\n",
       "Qta                         int64\n",
       "dtype: object"
      ]
     },
     "execution_count": 505,
     "metadata": {},
     "output_type": "execute_result"
    }
   ],
   "source": [
    "df.dtypes"
   ]
  },
  {
   "cell_type": "markdown",
   "metadata": {},
   "source": [
    "This dataset contains 8 variables that correspond to:\n",
    "\n",
    "- *BasketID*: Invoice number. Nominal, a 6-digit integral number uniquely assigned to each transaction. If this code starts with letter 'C', it indicates a cancellation;\n",
    "- *BasketDate*: Invice Date and time. Numeric, the day and time when each transaction was generated;\n",
    "- *Sale*: Unit price. Numeric, Product price per unit in sterling;\n",
    "- *CustomerID*: Customer number. Nominal, a 5-digit integral number uniquely assigned to each customer;\n",
    "- *CustomerCountry*: Country name. Nominal, the name of the country where each customer resides;\n",
    "- *ProdID*: Product (item) code. Nominal, a 5-digit integral number uniquely assigned to each distinct product;\n",
    "- *ProdDescr*: Product (item) name. Nominal;\n",
    "- *Qta*: The quantities of each product (item) per transaction. Numeric."
   ]
  },
  {
   "cell_type": "code",
   "execution_count": 506,
   "metadata": {},
   "outputs": [
    {
     "data": {
      "text/plain": [
       "BasketID               0\n",
       "BasketDate             0\n",
       "Sale                   0\n",
       "CustomerID         65073\n",
       "CustomerCountry        0\n",
       "ProdID                 0\n",
       "ProdDescr            753\n",
       "Qta                    0\n",
       "dtype: int64"
      ]
     },
     "execution_count": 506,
     "metadata": {},
     "output_type": "execute_result"
    }
   ],
   "source": [
    "df.isnull().sum()"
   ]
  },
  {
   "cell_type": "code",
   "execution_count": 507,
   "metadata": {},
   "outputs": [
    {
     "data": {
      "image/png": "[encoded data removed]",
      "text/plain": [
       "<Figure size 432x288 with 1 Axes>"
      ]
     },
     "metadata": {
      "needs_background": "light"
     },
     "output_type": "display_data"
    }
   ],
   "source": [
    "sns.heatmap(df.isnull(), cbar=False);"
   ]
  },
  {
   "cell_type": "code",
   "execution_count": 508,
   "metadata": {},
   "outputs": [
    {
     "data": {
      "text/html": [
       "<div>\n",
       "<style scoped>\n",
       "    .dataframe tbody tr th:only-of-type {\n",
       "        vertical-align: middle;\n",
       "    }\n",
       "\n",
       "    .dataframe tbody tr th {\n",
       "        vertical-align: top;\n",
       "    }\n",
       "\n",
       "    .dataframe thead th {\n",
       "        text-align: right;\n",
       "    }\n",
       "</style>\n",
       "<table border=\"1\" class=\"dataframe\">\n",
       "  <thead>\n",
       "    <tr style=\"text-align: right;\">\n",
       "      <th></th>\n",
       "      <th>Sale</th>\n",
       "      <th>Qta</th>\n",
       "    </tr>\n",
       "  </thead>\n",
       "  <tbody>\n",
       "    <tr>\n",
       "      <th>count</th>\n",
       "      <td>466678.000000</td>\n",
       "      <td>466678.000000</td>\n",
       "    </tr>\n",
       "    <tr>\n",
       "      <th>mean</th>\n",
       "      <td>4.049057</td>\n",
       "      <td>10.806528</td>\n",
       "    </tr>\n",
       "    <tr>\n",
       "      <th>std</th>\n",
       "      <td>84.237135</td>\n",
       "      <td>232.627771</td>\n",
       "    </tr>\n",
       "    <tr>\n",
       "      <th>min</th>\n",
       "      <td>-11062.060000</td>\n",
       "      <td>-80995.000000</td>\n",
       "    </tr>\n",
       "    <tr>\n",
       "      <th>25%</th>\n",
       "      <td>1.250000</td>\n",
       "      <td>2.000000</td>\n",
       "    </tr>\n",
       "    <tr>\n",
       "      <th>50%</th>\n",
       "      <td>2.080000</td>\n",
       "      <td>4.000000</td>\n",
       "    </tr>\n",
       "    <tr>\n",
       "      <th>75%</th>\n",
       "      <td>3.750000</td>\n",
       "      <td>12.000000</td>\n",
       "    </tr>\n",
       "    <tr>\n",
       "      <th>max</th>\n",
       "      <td>38970.000000</td>\n",
       "      <td>80995.000000</td>\n",
       "    </tr>\n",
       "  </tbody>\n",
       "</table>\n",
       "</div>"
      ],
      "text/plain": [
       "                Sale            Qta\n",
       "count  466678.000000  466678.000000\n",
       "mean        4.049057      10.806528\n",
       "std        84.237135     232.627771\n",
       "min    -11062.060000  -80995.000000\n",
       "25%         1.250000       2.000000\n",
       "50%         2.080000       4.000000\n",
       "75%         3.750000      12.000000\n",
       "max     38970.000000   80995.000000"
      ]
     },
     "execution_count": 508,
     "metadata": {},
     "output_type": "execute_result"
    }
   ],
   "source": [
    "df.describe()"
   ]
  },
  {
   "cell_type": "markdown",
   "metadata": {},
   "source": [
    "## Data Cleaning and Integration"
   ]
  },
  {
   "cell_type": "markdown",
   "metadata": {},
   "source": [
    "### Customer IDs"
   ]
  },
  {
   "cell_type": "markdown",
   "metadata": {},
   "source": [
    "First of all, we are going to remove the entries for which the *CustomerID* variable is null:"
   ]
  },
  {
   "cell_type": "code",
   "execution_count": 509,
   "metadata": {},
   "outputs": [
    {
     "data": {
      "text/plain": [
       "False"
      ]
     },
     "execution_count": 509,
     "metadata": {},
     "output_type": "execute_result"
    }
   ],
   "source": [
    "df = df[~df['CustomerID'].isnull()]\n",
    "df.reset_index(drop=True, inplace=True)\n",
    "df['CustomerID'].isnull().any()"
   ]
  },
  {
   "cell_type": "markdown",
   "metadata": {},
   "source": [
    "### Product IDs"
   ]
  },
  {
   "cell_type": "markdown",
   "metadata": {},
   "source": [
    "Above, it has been seen that some values of the *ProdID* variable indicate a particular transaction (i.e., *D* for *Discount*). We check the contents of this variable by looking for the set of codes that would contain only letters:"
   ]
  },
  {
   "cell_type": "code",
   "execution_count": 510,
   "metadata": {},
   "outputs": [
    {
     "name": "stdout",
     "output_type": "stream",
     "text": [
      "POST            -> POSTAGE                       \n",
      "D               -> Discount                      \n",
      "C2              -> CARRIAGE                      \n",
      "M               -> Manual                        \n",
      "BANK CHARGES    -> Bank Charges                  \n",
      "PADS            -> PADS TO MATCH ALL CUSHIONS    \n",
      "DOT             -> DOTCOM POSTAGE                \n",
      "CRUK            -> CRUK Commission               \n"
     ]
    }
   ],
   "source": [
    "special_codes = df[df['ProdID'].str.contains('^[a-zA-Z]+', regex=True)]['ProdID'].unique()\n",
    "for code in special_codes:\n",
    "    print(\"{:<15} -> {:<30}\".format(code, df[df['ProdID'] == code]['ProdDescr'].unique()[0]))"
   ]
  },
  {
   "cell_type": "markdown",
   "metadata": {},
   "source": [
    "We see that there are several types of peculiar transactions, connected e.g., to *port charges* or *bank charges*."
   ]
  },
  {
   "cell_type": "code",
   "execution_count": 511,
   "metadata": {},
   "outputs": [
    {
     "data": {
      "text/plain": [
       "False"
      ]
     },
     "execution_count": 511,
     "metadata": {},
     "output_type": "execute_result"
    }
   ],
   "source": [
    "df = df[~df.ProdID.isin(special_codes)]\n",
    "df.reset_index(drop=True, inplace=True)\n",
    "df.ProdID.isin(special_codes).any()"
   ]
  },
  {
   "cell_type": "markdown",
   "metadata": {},
   "source": [
    "### Basket IDs"
   ]
  },
  {
   "cell_type": "markdown",
   "metadata": {},
   "source": [
    "Then, we examined the existence of entries with the prefix *C* for the *BasketID* variable which indicates transactions that have been canceled since for each of those correspond a negative quantity:"
   ]
  },
  {
   "cell_type": "code",
   "execution_count": 512,
   "metadata": {},
   "outputs": [
    {
     "data": {
      "text/html": [
       "<div>\n",
       "<style scoped>\n",
       "    .dataframe tbody tr th:only-of-type {\n",
       "        vertical-align: middle;\n",
       "    }\n",
       "\n",
       "    .dataframe tbody tr th {\n",
       "        vertical-align: top;\n",
       "    }\n",
       "\n",
       "    .dataframe thead th {\n",
       "        text-align: right;\n",
       "    }\n",
       "</style>\n",
       "<table border=\"1\" class=\"dataframe\">\n",
       "  <thead>\n",
       "    <tr style=\"text-align: right;\">\n",
       "      <th></th>\n",
       "      <th>BasketID</th>\n",
       "      <th>BasketDate</th>\n",
       "      <th>Sale</th>\n",
       "      <th>CustomerID</th>\n",
       "      <th>CustomerCountry</th>\n",
       "      <th>ProdID</th>\n",
       "      <th>ProdDescr</th>\n",
       "      <th>Qta</th>\n",
       "    </tr>\n",
       "  </thead>\n",
       "  <tbody>\n",
       "    <tr>\n",
       "      <th>152</th>\n",
       "      <td>C536383</td>\n",
       "      <td>2010-01-12 09:49:00</td>\n",
       "      <td>4.65</td>\n",
       "      <td>15311</td>\n",
       "      <td>United Kingdom</td>\n",
       "      <td>35004C</td>\n",
       "      <td>SET OF 3 COLOURED  FLYING DUCKS</td>\n",
       "      <td>-1</td>\n",
       "    </tr>\n",
       "    <tr>\n",
       "      <th>233</th>\n",
       "      <td>C536391</td>\n",
       "      <td>2010-01-12 10:24:00</td>\n",
       "      <td>1.65</td>\n",
       "      <td>17548</td>\n",
       "      <td>United Kingdom</td>\n",
       "      <td>22556</td>\n",
       "      <td>PLASTERS IN TIN CIRCUS PARADE</td>\n",
       "      <td>-12</td>\n",
       "    </tr>\n",
       "    <tr>\n",
       "      <th>234</th>\n",
       "      <td>C536391</td>\n",
       "      <td>2010-01-12 10:24:00</td>\n",
       "      <td>0.29</td>\n",
       "      <td>17548</td>\n",
       "      <td>United Kingdom</td>\n",
       "      <td>21984</td>\n",
       "      <td>PACK OF 12 PINK PAISLEY TISSUES</td>\n",
       "      <td>-24</td>\n",
       "    </tr>\n",
       "    <tr>\n",
       "      <th>235</th>\n",
       "      <td>C536391</td>\n",
       "      <td>2010-01-12 10:24:00</td>\n",
       "      <td>0.29</td>\n",
       "      <td>17548</td>\n",
       "      <td>United Kingdom</td>\n",
       "      <td>21983</td>\n",
       "      <td>PACK OF 12 BLUE PAISLEY TISSUES</td>\n",
       "      <td>-24</td>\n",
       "    </tr>\n",
       "    <tr>\n",
       "      <th>236</th>\n",
       "      <td>C536391</td>\n",
       "      <td>2010-01-12 10:24:00</td>\n",
       "      <td>0.29</td>\n",
       "      <td>17548</td>\n",
       "      <td>United Kingdom</td>\n",
       "      <td>21980</td>\n",
       "      <td>PACK OF 12 RED RETROSPOT TISSUES</td>\n",
       "      <td>-24</td>\n",
       "    </tr>\n",
       "    <tr>\n",
       "      <th>...</th>\n",
       "      <td>...</td>\n",
       "      <td>...</td>\n",
       "      <td>...</td>\n",
       "      <td>...</td>\n",
       "      <td>...</td>\n",
       "      <td>...</td>\n",
       "      <td>...</td>\n",
       "      <td>...</td>\n",
       "    </tr>\n",
       "    <tr>\n",
       "      <th>399249</th>\n",
       "      <td>C581490</td>\n",
       "      <td>2011-09-12 09:57:00</td>\n",
       "      <td>1.95</td>\n",
       "      <td>14397</td>\n",
       "      <td>United Kingdom</td>\n",
       "      <td>22178</td>\n",
       "      <td>VICTORIAN GLASS HANGING T-LIGHT</td>\n",
       "      <td>-12</td>\n",
       "    </tr>\n",
       "    <tr>\n",
       "      <th>399250</th>\n",
       "      <td>C581490</td>\n",
       "      <td>2011-09-12 09:57:00</td>\n",
       "      <td>0.83</td>\n",
       "      <td>14397</td>\n",
       "      <td>United Kingdom</td>\n",
       "      <td>23144</td>\n",
       "      <td>ZINC T-LIGHT HOLDER STARS SMALL</td>\n",
       "      <td>-11</td>\n",
       "    </tr>\n",
       "    <tr>\n",
       "      <th>399498</th>\n",
       "      <td>C581568</td>\n",
       "      <td>2011-09-12 11:57:00</td>\n",
       "      <td>10.95</td>\n",
       "      <td>15311</td>\n",
       "      <td>United Kingdom</td>\n",
       "      <td>21258</td>\n",
       "      <td>VICTORIAN SEWING BOX LARGE</td>\n",
       "      <td>-5</td>\n",
       "    </tr>\n",
       "    <tr>\n",
       "      <th>399499</th>\n",
       "      <td>C581569</td>\n",
       "      <td>2011-09-12 11:58:00</td>\n",
       "      <td>1.25</td>\n",
       "      <td>17315</td>\n",
       "      <td>United Kingdom</td>\n",
       "      <td>84978</td>\n",
       "      <td>HANGING HEART JAR T-LIGHT HOLDER</td>\n",
       "      <td>-1</td>\n",
       "    </tr>\n",
       "    <tr>\n",
       "      <th>399500</th>\n",
       "      <td>C581569</td>\n",
       "      <td>2011-09-12 11:58:00</td>\n",
       "      <td>1.25</td>\n",
       "      <td>17315</td>\n",
       "      <td>United Kingdom</td>\n",
       "      <td>20979</td>\n",
       "      <td>36 PENCILS TUBE RED RETROSPOT</td>\n",
       "      <td>-5</td>\n",
       "    </tr>\n",
       "  </tbody>\n",
       "</table>\n",
       "<p>8506 rows × 8 columns</p>\n",
       "</div>"
      ],
      "text/plain": [
       "       BasketID          BasketDate   Sale CustomerID CustomerCountry  ProdID  \\\n",
       "152     C536383 2010-01-12 09:49:00   4.65      15311  United Kingdom  35004C   \n",
       "233     C536391 2010-01-12 10:24:00   1.65      17548  United Kingdom   22556   \n",
       "234     C536391 2010-01-12 10:24:00   0.29      17548  United Kingdom   21984   \n",
       "235     C536391 2010-01-12 10:24:00   0.29      17548  United Kingdom   21983   \n",
       "236     C536391 2010-01-12 10:24:00   0.29      17548  United Kingdom   21980   \n",
       "...         ...                 ...    ...        ...             ...     ...   \n",
       "399249  C581490 2011-09-12 09:57:00   1.95      14397  United Kingdom   22178   \n",
       "399250  C581490 2011-09-12 09:57:00   0.83      14397  United Kingdom   23144   \n",
       "399498  C581568 2011-09-12 11:57:00  10.95      15311  United Kingdom   21258   \n",
       "399499  C581569 2011-09-12 11:58:00   1.25      17315  United Kingdom   84978   \n",
       "399500  C581569 2011-09-12 11:58:00   1.25      17315  United Kingdom   20979   \n",
       "\n",
       "                                ProdDescr  Qta  \n",
       "152       SET OF 3 COLOURED  FLYING DUCKS   -1  \n",
       "233        PLASTERS IN TIN CIRCUS PARADE   -12  \n",
       "234      PACK OF 12 PINK PAISLEY TISSUES   -24  \n",
       "235      PACK OF 12 BLUE PAISLEY TISSUES   -24  \n",
       "236     PACK OF 12 RED RETROSPOT TISSUES   -24  \n",
       "...                                   ...  ...  \n",
       "399249    VICTORIAN GLASS HANGING T-LIGHT  -12  \n",
       "399250    ZINC T-LIGHT HOLDER STARS SMALL  -11  \n",
       "399498         VICTORIAN SEWING BOX LARGE   -5  \n",
       "399499   HANGING HEART JAR T-LIGHT HOLDER   -1  \n",
       "399500      36 PENCILS TUBE RED RETROSPOT   -5  \n",
       "\n",
       "[8506 rows x 8 columns]"
      ]
     },
     "execution_count": 512,
     "metadata": {},
     "output_type": "execute_result"
    }
   ],
   "source": [
    "cancelled_orders = df[df['BasketID'].str.contains('C')]\n",
    "cancelled_orders"
   ]
  },
  {
   "cell_type": "code",
   "execution_count": 513,
   "metadata": {},
   "outputs": [
    {
     "data": {
      "text/plain": [
       "True"
      ]
     },
     "execution_count": 513,
     "metadata": {},
     "output_type": "execute_result"
    }
   ],
   "source": [
    "(cancelled_orders['Qta'] < 0).all()"
   ]
  },
  {
   "cell_type": "code",
   "execution_count": 514,
   "metadata": {},
   "outputs": [
    {
     "data": {
      "text/html": [
       "<div>\n",
       "<style scoped>\n",
       "    .dataframe tbody tr th:only-of-type {\n",
       "        vertical-align: middle;\n",
       "    }\n",
       "\n",
       "    .dataframe tbody tr th {\n",
       "        vertical-align: top;\n",
       "    }\n",
       "\n",
       "    .dataframe thead th {\n",
       "        text-align: right;\n",
       "    }\n",
       "</style>\n",
       "<table border=\"1\" class=\"dataframe\">\n",
       "  <thead>\n",
       "    <tr style=\"text-align: right;\">\n",
       "      <th></th>\n",
       "      <th>BasketID</th>\n",
       "      <th>BasketDate</th>\n",
       "      <th>Sale</th>\n",
       "      <th>CustomerID</th>\n",
       "      <th>CustomerCountry</th>\n",
       "      <th>ProdID</th>\n",
       "      <th>ProdDescr</th>\n",
       "      <th>Qta</th>\n",
       "    </tr>\n",
       "  </thead>\n",
       "  <tbody>\n",
       "    <tr>\n",
       "      <th>6816</th>\n",
       "      <td>537197</td>\n",
       "      <td>2010-05-12 14:02:00</td>\n",
       "      <td>0.0</td>\n",
       "      <td>12647</td>\n",
       "      <td>Germany</td>\n",
       "      <td>22841</td>\n",
       "      <td>ROUND CAKE TIN VINTAGE GREEN</td>\n",
       "      <td>1</td>\n",
       "    </tr>\n",
       "    <tr>\n",
       "      <th>22536</th>\n",
       "      <td>539263</td>\n",
       "      <td>2010-12-16 14:36:00</td>\n",
       "      <td>0.0</td>\n",
       "      <td>16560</td>\n",
       "      <td>United Kingdom</td>\n",
       "      <td>22580</td>\n",
       "      <td>ADVENT CALENDAR GINGHAM SACK</td>\n",
       "      <td>4</td>\n",
       "    </tr>\n",
       "    <tr>\n",
       "      <th>25442</th>\n",
       "      <td>539722</td>\n",
       "      <td>2010-12-21 13:45:00</td>\n",
       "      <td>0.0</td>\n",
       "      <td>14911</td>\n",
       "      <td>EIRE</td>\n",
       "      <td>22423</td>\n",
       "      <td>REGENCY CAKESTAND 3 TIER</td>\n",
       "      <td>10</td>\n",
       "    </tr>\n",
       "    <tr>\n",
       "      <th>29243</th>\n",
       "      <td>540372</td>\n",
       "      <td>2011-06-01 16:41:00</td>\n",
       "      <td>0.0</td>\n",
       "      <td>13081</td>\n",
       "      <td>United Kingdom</td>\n",
       "      <td>22090</td>\n",
       "      <td>PAPER BUNTING RETROSPOT</td>\n",
       "      <td>24</td>\n",
       "    </tr>\n",
       "    <tr>\n",
       "      <th>29245</th>\n",
       "      <td>540372</td>\n",
       "      <td>2011-06-01 16:41:00</td>\n",
       "      <td>0.0</td>\n",
       "      <td>13081</td>\n",
       "      <td>United Kingdom</td>\n",
       "      <td>22553</td>\n",
       "      <td>PLASTERS IN TIN SKULLS</td>\n",
       "      <td>24</td>\n",
       "    </tr>\n",
       "    <tr>\n",
       "      <th>34743</th>\n",
       "      <td>541109</td>\n",
       "      <td>2011-01-13 15:10:00</td>\n",
       "      <td>0.0</td>\n",
       "      <td>15107</td>\n",
       "      <td>United Kingdom</td>\n",
       "      <td>22168</td>\n",
       "      <td>ORGANISER WOOD ANTIQUE WHITE</td>\n",
       "      <td>1</td>\n",
       "    </tr>\n",
       "    <tr>\n",
       "      <th>54228</th>\n",
       "      <td>543599</td>\n",
       "      <td>2011-10-02 13:08:00</td>\n",
       "      <td>0.0</td>\n",
       "      <td>17560</td>\n",
       "      <td>United Kingdom</td>\n",
       "      <td>84535B</td>\n",
       "      <td>FAIRY CAKES NOTEBOOK A6 SIZE</td>\n",
       "      <td>16</td>\n",
       "    </tr>\n",
       "    <tr>\n",
       "      <th>86338</th>\n",
       "      <td>547417</td>\n",
       "      <td>2011-03-23 10:25:00</td>\n",
       "      <td>0.0</td>\n",
       "      <td>13239</td>\n",
       "      <td>United Kingdom</td>\n",
       "      <td>22062</td>\n",
       "      <td>CERAMIC BOWL WITH LOVE HEART DESIGN</td>\n",
       "      <td>36</td>\n",
       "    </tr>\n",
       "    <tr>\n",
       "      <th>93491</th>\n",
       "      <td>548318</td>\n",
       "      <td>2011-03-30 12:45:00</td>\n",
       "      <td>0.0</td>\n",
       "      <td>13113</td>\n",
       "      <td>United Kingdom</td>\n",
       "      <td>22055</td>\n",
       "      <td>MINI CAKE STAND  HANGING STRAWBERY</td>\n",
       "      <td>5</td>\n",
       "    </tr>\n",
       "    <tr>\n",
       "      <th>98139</th>\n",
       "      <td>548871</td>\n",
       "      <td>2011-04-04 14:42:00</td>\n",
       "      <td>0.0</td>\n",
       "      <td>14410</td>\n",
       "      <td>United Kingdom</td>\n",
       "      <td>22162</td>\n",
       "      <td>HEART GARLAND RUSTIC PADDED</td>\n",
       "      <td>2</td>\n",
       "    </tr>\n",
       "    <tr>\n",
       "      <th>108049</th>\n",
       "      <td>550188</td>\n",
       "      <td>2011-04-14 18:57:00</td>\n",
       "      <td>0.0</td>\n",
       "      <td>12457</td>\n",
       "      <td>Switzerland</td>\n",
       "      <td>22636</td>\n",
       "      <td>CHILDS BREAKFAST SET CIRCUS PARADE</td>\n",
       "      <td>1</td>\n",
       "    </tr>\n",
       "    <tr>\n",
       "      <th>129646</th>\n",
       "      <td>553000</td>\n",
       "      <td>2011-12-05 15:21:00</td>\n",
       "      <td>0.0</td>\n",
       "      <td>17667</td>\n",
       "      <td>United Kingdom</td>\n",
       "      <td>47566</td>\n",
       "      <td>PARTY BUNTING</td>\n",
       "      <td>4</td>\n",
       "    </tr>\n",
       "    <tr>\n",
       "      <th>138180</th>\n",
       "      <td>554037</td>\n",
       "      <td>2011-05-20 14:13:00</td>\n",
       "      <td>0.0</td>\n",
       "      <td>12415</td>\n",
       "      <td>Australia</td>\n",
       "      <td>22619</td>\n",
       "      <td>SET OF 6 SOLDIER SKITTLES</td>\n",
       "      <td>80</td>\n",
       "    </tr>\n",
       "    <tr>\n",
       "      <th>196312</th>\n",
       "      <td>561284</td>\n",
       "      <td>2011-07-26 12:24:00</td>\n",
       "      <td>0.0</td>\n",
       "      <td>16818</td>\n",
       "      <td>United Kingdom</td>\n",
       "      <td>22167</td>\n",
       "      <td>OVAL WALL MIRROR DIAMANTE</td>\n",
       "      <td>1</td>\n",
       "    </tr>\n",
       "    <tr>\n",
       "      <th>198864</th>\n",
       "      <td>561669</td>\n",
       "      <td>2011-07-28 17:09:00</td>\n",
       "      <td>0.0</td>\n",
       "      <td>12507</td>\n",
       "      <td>Spain</td>\n",
       "      <td>22960</td>\n",
       "      <td>JAM MAKING SET WITH JARS</td>\n",
       "      <td>11</td>\n",
       "    </tr>\n",
       "    <tr>\n",
       "      <th>210782</th>\n",
       "      <td>562973</td>\n",
       "      <td>2011-11-08 11:42:00</td>\n",
       "      <td>0.0</td>\n",
       "      <td>14911</td>\n",
       "      <td>EIRE</td>\n",
       "      <td>23157</td>\n",
       "      <td>SET OF 6 NATIVITY MAGNETS</td>\n",
       "      <td>240</td>\n",
       "    </tr>\n",
       "    <tr>\n",
       "      <th>225838</th>\n",
       "      <td>564651</td>\n",
       "      <td>2011-08-26 14:19:00</td>\n",
       "      <td>0.0</td>\n",
       "      <td>14646</td>\n",
       "      <td>Netherlands</td>\n",
       "      <td>23270</td>\n",
       "      <td>SET OF 2 CERAMIC PAINTED HEARTS</td>\n",
       "      <td>96</td>\n",
       "    </tr>\n",
       "    <tr>\n",
       "      <th>225839</th>\n",
       "      <td>564651</td>\n",
       "      <td>2011-08-26 14:19:00</td>\n",
       "      <td>0.0</td>\n",
       "      <td>14646</td>\n",
       "      <td>Netherlands</td>\n",
       "      <td>23268</td>\n",
       "      <td>SET OF 2 CERAMIC CHRISTMAS REINDEER</td>\n",
       "      <td>192</td>\n",
       "    </tr>\n",
       "    <tr>\n",
       "      <th>225840</th>\n",
       "      <td>564651</td>\n",
       "      <td>2011-08-26 14:19:00</td>\n",
       "      <td>0.0</td>\n",
       "      <td>14646</td>\n",
       "      <td>Netherlands</td>\n",
       "      <td>22955</td>\n",
       "      <td>36 FOIL STAR CAKE CASES</td>\n",
       "      <td>144</td>\n",
       "    </tr>\n",
       "    <tr>\n",
       "      <th>225841</th>\n",
       "      <td>564651</td>\n",
       "      <td>2011-08-26 14:19:00</td>\n",
       "      <td>0.0</td>\n",
       "      <td>14646</td>\n",
       "      <td>Netherlands</td>\n",
       "      <td>21786</td>\n",
       "      <td>POLKADOT RAIN HAT</td>\n",
       "      <td>144</td>\n",
       "    </tr>\n",
       "    <tr>\n",
       "      <th>276077</th>\n",
       "      <td>569716</td>\n",
       "      <td>2011-06-10 08:17:00</td>\n",
       "      <td>0.0</td>\n",
       "      <td>15804</td>\n",
       "      <td>United Kingdom</td>\n",
       "      <td>22778</td>\n",
       "      <td>GLASS CLOCHE SMALL</td>\n",
       "      <td>2</td>\n",
       "    </tr>\n",
       "    <tr>\n",
       "      <th>309501</th>\n",
       "      <td>572893</td>\n",
       "      <td>2011-10-26 14:36:00</td>\n",
       "      <td>0.0</td>\n",
       "      <td>18059</td>\n",
       "      <td>United Kingdom</td>\n",
       "      <td>21208</td>\n",
       "      <td>PASTEL COLOUR HONEYCOMB FAN</td>\n",
       "      <td>5</td>\n",
       "    </tr>\n",
       "    <tr>\n",
       "      <th>322268</th>\n",
       "      <td>574138</td>\n",
       "      <td>2011-03-11 11:26:00</td>\n",
       "      <td>0.0</td>\n",
       "      <td>12415</td>\n",
       "      <td>Australia</td>\n",
       "      <td>23234</td>\n",
       "      <td>BISCUIT TIN VINTAGE CHRISTMAS</td>\n",
       "      <td>216</td>\n",
       "    </tr>\n",
       "    <tr>\n",
       "      <th>322433</th>\n",
       "      <td>574175</td>\n",
       "      <td>2011-03-11 11:47:00</td>\n",
       "      <td>0.0</td>\n",
       "      <td>14110</td>\n",
       "      <td>United Kingdom</td>\n",
       "      <td>22065</td>\n",
       "      <td>CHRISTMAS PUDDING TRINKET POT</td>\n",
       "      <td>12</td>\n",
       "    </tr>\n",
       "    <tr>\n",
       "      <th>324646</th>\n",
       "      <td>574469</td>\n",
       "      <td>2011-04-11 11:55:00</td>\n",
       "      <td>0.0</td>\n",
       "      <td>12431</td>\n",
       "      <td>Australia</td>\n",
       "      <td>22385</td>\n",
       "      <td>JUMBO BAG SPACEBOY DESIGN</td>\n",
       "      <td>12</td>\n",
       "    </tr>\n",
       "    <tr>\n",
       "      <th>330671</th>\n",
       "      <td>574879</td>\n",
       "      <td>2011-07-11 13:22:00</td>\n",
       "      <td>0.0</td>\n",
       "      <td>13014</td>\n",
       "      <td>United Kingdom</td>\n",
       "      <td>22625</td>\n",
       "      <td>RED KITCHEN SCALES</td>\n",
       "      <td>2</td>\n",
       "    </tr>\n",
       "    <tr>\n",
       "      <th>331290</th>\n",
       "      <td>574920</td>\n",
       "      <td>2011-07-11 16:34:00</td>\n",
       "      <td>0.0</td>\n",
       "      <td>13985</td>\n",
       "      <td>United Kingdom</td>\n",
       "      <td>22899</td>\n",
       "      <td>CHILDREN'S APRON DOLLY GIRL</td>\n",
       "      <td>1</td>\n",
       "    </tr>\n",
       "    <tr>\n",
       "      <th>331291</th>\n",
       "      <td>574920</td>\n",
       "      <td>2011-07-11 16:34:00</td>\n",
       "      <td>0.0</td>\n",
       "      <td>13985</td>\n",
       "      <td>United Kingdom</td>\n",
       "      <td>23480</td>\n",
       "      <td>MINI LIGHTS WOODLAND MUSHROOMS</td>\n",
       "      <td>1</td>\n",
       "    </tr>\n",
       "    <tr>\n",
       "      <th>336544</th>\n",
       "      <td>575579</td>\n",
       "      <td>2011-10-11 11:49:00</td>\n",
       "      <td>0.0</td>\n",
       "      <td>13081</td>\n",
       "      <td>United Kingdom</td>\n",
       "      <td>22437</td>\n",
       "      <td>SET OF 9 BLACK SKULL BALLOONS</td>\n",
       "      <td>20</td>\n",
       "    </tr>\n",
       "    <tr>\n",
       "      <th>336545</th>\n",
       "      <td>575579</td>\n",
       "      <td>2011-10-11 11:49:00</td>\n",
       "      <td>0.0</td>\n",
       "      <td>13081</td>\n",
       "      <td>United Kingdom</td>\n",
       "      <td>22089</td>\n",
       "      <td>PAPER BUNTING VINTAGE PAISLEY</td>\n",
       "      <td>24</td>\n",
       "    </tr>\n",
       "    <tr>\n",
       "      <th>354851</th>\n",
       "      <td>577129</td>\n",
       "      <td>2011-11-17 19:52:00</td>\n",
       "      <td>0.0</td>\n",
       "      <td>15602</td>\n",
       "      <td>United Kingdom</td>\n",
       "      <td>22464</td>\n",
       "      <td>HANGING METAL HEART LANTERN</td>\n",
       "      <td>4</td>\n",
       "    </tr>\n",
       "    <tr>\n",
       "      <th>356266</th>\n",
       "      <td>577314</td>\n",
       "      <td>2011-11-18 13:23:00</td>\n",
       "      <td>0.0</td>\n",
       "      <td>12444</td>\n",
       "      <td>Norway</td>\n",
       "      <td>23407</td>\n",
       "      <td>SET OF 2 TRAYS HOME SWEET HOME</td>\n",
       "      <td>2</td>\n",
       "    </tr>\n",
       "    <tr>\n",
       "      <th>372403</th>\n",
       "      <td>578841</td>\n",
       "      <td>2011-11-25 15:57:00</td>\n",
       "      <td>0.0</td>\n",
       "      <td>13256</td>\n",
       "      <td>United Kingdom</td>\n",
       "      <td>84826</td>\n",
       "      <td>ASSTD DESIGN 3D PAPER STICKERS</td>\n",
       "      <td>12540</td>\n",
       "    </tr>\n",
       "  </tbody>\n",
       "</table>\n",
       "</div>"
      ],
      "text/plain": [
       "       BasketID          BasketDate  Sale CustomerID CustomerCountry  ProdID  \\\n",
       "6816     537197 2010-05-12 14:02:00   0.0      12647         Germany   22841   \n",
       "22536    539263 2010-12-16 14:36:00   0.0      16560  United Kingdom   22580   \n",
       "25442    539722 2010-12-21 13:45:00   0.0      14911            EIRE   22423   \n",
       "29243    540372 2011-06-01 16:41:00   0.0      13081  United Kingdom   22090   \n",
       "29245    540372 2011-06-01 16:41:00   0.0      13081  United Kingdom   22553   \n",
       "34743    541109 2011-01-13 15:10:00   0.0      15107  United Kingdom   22168   \n",
       "54228    543599 2011-10-02 13:08:00   0.0      17560  United Kingdom  84535B   \n",
       "86338    547417 2011-03-23 10:25:00   0.0      13239  United Kingdom   22062   \n",
       "93491    548318 2011-03-30 12:45:00   0.0      13113  United Kingdom   22055   \n",
       "98139    548871 2011-04-04 14:42:00   0.0      14410  United Kingdom   22162   \n",
       "108049   550188 2011-04-14 18:57:00   0.0      12457     Switzerland   22636   \n",
       "129646   553000 2011-12-05 15:21:00   0.0      17667  United Kingdom   47566   \n",
       "138180   554037 2011-05-20 14:13:00   0.0      12415       Australia   22619   \n",
       "196312   561284 2011-07-26 12:24:00   0.0      16818  United Kingdom   22167   \n",
       "198864   561669 2011-07-28 17:09:00   0.0      12507           Spain   22960   \n",
       "210782   562973 2011-11-08 11:42:00   0.0      14911            EIRE   23157   \n",
       "225838   564651 2011-08-26 14:19:00   0.0      14646     Netherlands   23270   \n",
       "225839   564651 2011-08-26 14:19:00   0.0      14646     Netherlands   23268   \n",
       "225840   564651 2011-08-26 14:19:00   0.0      14646     Netherlands   22955   \n",
       "225841   564651 2011-08-26 14:19:00   0.0      14646     Netherlands   21786   \n",
       "276077   569716 2011-06-10 08:17:00   0.0      15804  United Kingdom   22778   \n",
       "309501   572893 2011-10-26 14:36:00   0.0      18059  United Kingdom   21208   \n",
       "322268   574138 2011-03-11 11:26:00   0.0      12415       Australia   23234   \n",
       "322433   574175 2011-03-11 11:47:00   0.0      14110  United Kingdom   22065   \n",
       "324646   574469 2011-04-11 11:55:00   0.0      12431       Australia   22385   \n",
       "330671   574879 2011-07-11 13:22:00   0.0      13014  United Kingdom   22625   \n",
       "331290   574920 2011-07-11 16:34:00   0.0      13985  United Kingdom   22899   \n",
       "331291   574920 2011-07-11 16:34:00   0.0      13985  United Kingdom   23480   \n",
       "336544   575579 2011-10-11 11:49:00   0.0      13081  United Kingdom   22437   \n",
       "336545   575579 2011-10-11 11:49:00   0.0      13081  United Kingdom   22089   \n",
       "354851   577129 2011-11-17 19:52:00   0.0      15602  United Kingdom   22464   \n",
       "356266   577314 2011-11-18 13:23:00   0.0      12444          Norway   23407   \n",
       "372403   578841 2011-11-25 15:57:00   0.0      13256  United Kingdom   84826   \n",
       "\n",
       "                                  ProdDescr    Qta  \n",
       "6816           ROUND CAKE TIN VINTAGE GREEN      1  \n",
       "22536          ADVENT CALENDAR GINGHAM SACK      4  \n",
       "25442              REGENCY CAKESTAND 3 TIER     10  \n",
       "29243               PAPER BUNTING RETROSPOT     24  \n",
       "29245                PLASTERS IN TIN SKULLS     24  \n",
       "34743         ORGANISER WOOD ANTIQUE WHITE       1  \n",
       "54228          FAIRY CAKES NOTEBOOK A6 SIZE     16  \n",
       "86338   CERAMIC BOWL WITH LOVE HEART DESIGN     36  \n",
       "93491    MINI CAKE STAND  HANGING STRAWBERY      5  \n",
       "98139           HEART GARLAND RUSTIC PADDED      2  \n",
       "108049   CHILDS BREAKFAST SET CIRCUS PARADE      1  \n",
       "129646                        PARTY BUNTING      4  \n",
       "138180            SET OF 6 SOLDIER SKITTLES     80  \n",
       "196312           OVAL WALL MIRROR DIAMANTE       1  \n",
       "198864             JAM MAKING SET WITH JARS     11  \n",
       "210782           SET OF 6 NATIVITY MAGNETS     240  \n",
       "225838     SET OF 2 CERAMIC PAINTED HEARTS      96  \n",
       "225839  SET OF 2 CERAMIC CHRISTMAS REINDEER    192  \n",
       "225840             36 FOIL STAR CAKE CASES     144  \n",
       "225841                   POLKADOT RAIN HAT     144  \n",
       "276077                   GLASS CLOCHE SMALL      2  \n",
       "309501          PASTEL COLOUR HONEYCOMB FAN      5  \n",
       "322268        BISCUIT TIN VINTAGE CHRISTMAS    216  \n",
       "322433       CHRISTMAS PUDDING TRINKET POT      12  \n",
       "324646            JUMBO BAG SPACEBOY DESIGN     12  \n",
       "330671                   RED KITCHEN SCALES      2  \n",
       "331290         CHILDREN'S APRON DOLLY GIRL       1  \n",
       "331291       MINI LIGHTS WOODLAND MUSHROOMS      1  \n",
       "336544        SET OF 9 BLACK SKULL BALLOONS     20  \n",
       "336545        PAPER BUNTING VINTAGE PAISLEY     24  \n",
       "354851          HANGING METAL HEART LANTERN      4  \n",
       "356266       SET OF 2 TRAYS HOME SWEET HOME      2  \n",
       "372403       ASSTD DESIGN 3D PAPER STICKERS  12540  "
      ]
     },
     "execution_count": 514,
     "metadata": {},
     "output_type": "execute_result"
    }
   ],
   "source": [
    "df[df['Sale'] == 0]"
   ]
  },
  {
   "cell_type": "code",
   "execution_count": 515,
   "metadata": {},
   "outputs": [
    {
     "data": {
      "text/plain": [
       "False"
      ]
     },
     "execution_count": 515,
     "metadata": {},
     "output_type": "execute_result"
    }
   ],
   "source": [
    "df['Sale'].replace(0, np.nan, inplace=True)\n",
    "df['Sale'] = df.groupby('ProdID')['Sale'].transform(lambda x: x.replace(to_replace=np.nan, value=x.mean()))\n",
    "df['Sale'].isnull().any()"
   ]
  },
  {
   "cell_type": "code",
   "execution_count": 516,
   "metadata": {},
   "outputs": [
    {
     "data": {
      "text/html": [
       "<div>\n",
       "<style scoped>\n",
       "    .dataframe tbody tr th:only-of-type {\n",
       "        vertical-align: middle;\n",
       "    }\n",
       "\n",
       "    .dataframe tbody tr th {\n",
       "        vertical-align: top;\n",
       "    }\n",
       "\n",
       "    .dataframe thead th {\n",
       "        text-align: right;\n",
       "    }\n",
       "</style>\n",
       "<table border=\"1\" class=\"dataframe\">\n",
       "  <thead>\n",
       "    <tr style=\"text-align: right;\">\n",
       "      <th></th>\n",
       "      <th>BasketID</th>\n",
       "      <th>BasketDate</th>\n",
       "      <th>Sale</th>\n",
       "      <th>CustomerID</th>\n",
       "      <th>CustomerCountry</th>\n",
       "      <th>ProdID</th>\n",
       "      <th>ProdDescr</th>\n",
       "      <th>Qta</th>\n",
       "      <th>TotSale</th>\n",
       "    </tr>\n",
       "  </thead>\n",
       "  <tbody>\n",
       "    <tr>\n",
       "      <th>0</th>\n",
       "      <td>536365</td>\n",
       "      <td>2010-01-12 08:26:00</td>\n",
       "      <td>2.55</td>\n",
       "      <td>17850</td>\n",
       "      <td>United Kingdom</td>\n",
       "      <td>85123A</td>\n",
       "      <td>WHITE HANGING HEART T-LIGHT HOLDER</td>\n",
       "      <td>6</td>\n",
       "      <td>15.30</td>\n",
       "    </tr>\n",
       "    <tr>\n",
       "      <th>1</th>\n",
       "      <td>536365</td>\n",
       "      <td>2010-01-12 08:26:00</td>\n",
       "      <td>3.39</td>\n",
       "      <td>17850</td>\n",
       "      <td>United Kingdom</td>\n",
       "      <td>71053</td>\n",
       "      <td>WHITE METAL LANTERN</td>\n",
       "      <td>6</td>\n",
       "      <td>20.34</td>\n",
       "    </tr>\n",
       "    <tr>\n",
       "      <th>2</th>\n",
       "      <td>536365</td>\n",
       "      <td>2010-01-12 08:26:00</td>\n",
       "      <td>2.75</td>\n",
       "      <td>17850</td>\n",
       "      <td>United Kingdom</td>\n",
       "      <td>84406B</td>\n",
       "      <td>CREAM CUPID HEARTS COAT HANGER</td>\n",
       "      <td>8</td>\n",
       "      <td>22.00</td>\n",
       "    </tr>\n",
       "    <tr>\n",
       "      <th>3</th>\n",
       "      <td>536365</td>\n",
       "      <td>2010-01-12 08:26:00</td>\n",
       "      <td>3.39</td>\n",
       "      <td>17850</td>\n",
       "      <td>United Kingdom</td>\n",
       "      <td>84029G</td>\n",
       "      <td>KNITTED UNION FLAG HOT WATER BOTTLE</td>\n",
       "      <td>6</td>\n",
       "      <td>20.34</td>\n",
       "    </tr>\n",
       "    <tr>\n",
       "      <th>4</th>\n",
       "      <td>536365</td>\n",
       "      <td>2010-01-12 08:26:00</td>\n",
       "      <td>3.39</td>\n",
       "      <td>17850</td>\n",
       "      <td>United Kingdom</td>\n",
       "      <td>84029E</td>\n",
       "      <td>RED WOOLLY HOTTIE WHITE HEART.</td>\n",
       "      <td>6</td>\n",
       "      <td>20.34</td>\n",
       "    </tr>\n",
       "    <tr>\n",
       "      <th>...</th>\n",
       "      <td>...</td>\n",
       "      <td>...</td>\n",
       "      <td>...</td>\n",
       "      <td>...</td>\n",
       "      <td>...</td>\n",
       "      <td>...</td>\n",
       "      <td>...</td>\n",
       "      <td>...</td>\n",
       "      <td>...</td>\n",
       "    </tr>\n",
       "    <tr>\n",
       "      <th>399684</th>\n",
       "      <td>581587</td>\n",
       "      <td>2011-09-12 12:50:00</td>\n",
       "      <td>0.85</td>\n",
       "      <td>12680</td>\n",
       "      <td>France</td>\n",
       "      <td>22613</td>\n",
       "      <td>PACK OF 20 SPACEBOY NAPKINS</td>\n",
       "      <td>12</td>\n",
       "      <td>10.20</td>\n",
       "    </tr>\n",
       "    <tr>\n",
       "      <th>399685</th>\n",
       "      <td>581587</td>\n",
       "      <td>2011-09-12 12:50:00</td>\n",
       "      <td>2.10</td>\n",
       "      <td>12680</td>\n",
       "      <td>France</td>\n",
       "      <td>22899</td>\n",
       "      <td>CHILDREN'S APRON DOLLY GIRL</td>\n",
       "      <td>6</td>\n",
       "      <td>12.60</td>\n",
       "    </tr>\n",
       "    <tr>\n",
       "      <th>399686</th>\n",
       "      <td>581587</td>\n",
       "      <td>2011-09-12 12:50:00</td>\n",
       "      <td>4.15</td>\n",
       "      <td>12680</td>\n",
       "      <td>France</td>\n",
       "      <td>23254</td>\n",
       "      <td>CHILDRENS CUTLERY DOLLY GIRL</td>\n",
       "      <td>4</td>\n",
       "      <td>16.60</td>\n",
       "    </tr>\n",
       "    <tr>\n",
       "      <th>399687</th>\n",
       "      <td>581587</td>\n",
       "      <td>2011-09-12 12:50:00</td>\n",
       "      <td>4.15</td>\n",
       "      <td>12680</td>\n",
       "      <td>France</td>\n",
       "      <td>23255</td>\n",
       "      <td>CHILDRENS CUTLERY CIRCUS PARADE</td>\n",
       "      <td>4</td>\n",
       "      <td>16.60</td>\n",
       "    </tr>\n",
       "    <tr>\n",
       "      <th>399688</th>\n",
       "      <td>581587</td>\n",
       "      <td>2011-09-12 12:50:00</td>\n",
       "      <td>4.95</td>\n",
       "      <td>12680</td>\n",
       "      <td>France</td>\n",
       "      <td>22138</td>\n",
       "      <td>BAKING SET 9 PIECE RETROSPOT</td>\n",
       "      <td>3</td>\n",
       "      <td>14.85</td>\n",
       "    </tr>\n",
       "  </tbody>\n",
       "</table>\n",
       "<p>399689 rows × 9 columns</p>\n",
       "</div>"
      ],
      "text/plain": [
       "       BasketID          BasketDate  Sale CustomerID CustomerCountry  ProdID  \\\n",
       "0        536365 2010-01-12 08:26:00  2.55      17850  United Kingdom  85123A   \n",
       "1        536365 2010-01-12 08:26:00  3.39      17850  United Kingdom   71053   \n",
       "2        536365 2010-01-12 08:26:00  2.75      17850  United Kingdom  84406B   \n",
       "3        536365 2010-01-12 08:26:00  3.39      17850  United Kingdom  84029G   \n",
       "4        536365 2010-01-12 08:26:00  3.39      17850  United Kingdom  84029E   \n",
       "...         ...                 ...   ...        ...             ...     ...   \n",
       "399684   581587 2011-09-12 12:50:00  0.85      12680          France   22613   \n",
       "399685   581587 2011-09-12 12:50:00  2.10      12680          France   22899   \n",
       "399686   581587 2011-09-12 12:50:00  4.15      12680          France   23254   \n",
       "399687   581587 2011-09-12 12:50:00  4.15      12680          France   23255   \n",
       "399688   581587 2011-09-12 12:50:00  4.95      12680          France   22138   \n",
       "\n",
       "                                  ProdDescr  Qta  TotSale  \n",
       "0        WHITE HANGING HEART T-LIGHT HOLDER    6    15.30  \n",
       "1                       WHITE METAL LANTERN    6    20.34  \n",
       "2            CREAM CUPID HEARTS COAT HANGER    8    22.00  \n",
       "3       KNITTED UNION FLAG HOT WATER BOTTLE    6    20.34  \n",
       "4            RED WOOLLY HOTTIE WHITE HEART.    6    20.34  \n",
       "...                                     ...  ...      ...  \n",
       "399684          PACK OF 20 SPACEBOY NAPKINS   12    10.20  \n",
       "399685         CHILDREN'S APRON DOLLY GIRL     6    12.60  \n",
       "399686        CHILDRENS CUTLERY DOLLY GIRL     4    16.60  \n",
       "399687      CHILDRENS CUTLERY CIRCUS PARADE    4    16.60  \n",
       "399688        BAKING SET 9 PIECE RETROSPOT     3    14.85  \n",
       "\n",
       "[399689 rows x 9 columns]"
      ]
     },
     "execution_count": 516,
     "metadata": {},
     "output_type": "execute_result"
    }
   ],
   "source": [
    "df['TotSale'] = df['Qta'] * df['Sale']\n",
    "df"
   ]
  },
  {
   "cell_type": "code",
   "execution_count": 517,
   "metadata": {},
   "outputs": [
    {
     "data": {
      "text/html": [
       "<div>\n",
       "<style scoped>\n",
       "    .dataframe tbody tr th:only-of-type {\n",
       "        vertical-align: middle;\n",
       "    }\n",
       "\n",
       "    .dataframe tbody tr th {\n",
       "        vertical-align: top;\n",
       "    }\n",
       "\n",
       "    .dataframe thead th {\n",
       "        text-align: right;\n",
       "    }\n",
       "</style>\n",
       "<table border=\"1\" class=\"dataframe\">\n",
       "  <thead>\n",
       "    <tr style=\"text-align: right;\">\n",
       "      <th></th>\n",
       "      <th>CustomerID</th>\n",
       "      <th>Monetary</th>\n",
       "    </tr>\n",
       "  </thead>\n",
       "  <tbody>\n",
       "    <tr>\n",
       "      <th>0</th>\n",
       "      <td>12346.0</td>\n",
       "      <td>0.0</td>\n",
       "    </tr>\n",
       "    <tr>\n",
       "      <th>1639</th>\n",
       "      <td>14557.0</td>\n",
       "      <td>0.0</td>\n",
       "    </tr>\n",
       "    <tr>\n",
       "      <th>1806</th>\n",
       "      <td>14792.0</td>\n",
       "      <td>0.0</td>\n",
       "    </tr>\n",
       "    <tr>\n",
       "      <th>3343</th>\n",
       "      <td>16878.0</td>\n",
       "      <td>0.0</td>\n",
       "    </tr>\n",
       "    <tr>\n",
       "      <th>4349</th>\n",
       "      <td>18268.0</td>\n",
       "      <td>0.0</td>\n",
       "    </tr>\n",
       "  </tbody>\n",
       "</table>\n",
       "</div>"
      ],
      "text/plain": [
       "      CustomerID  Monetary\n",
       "0        12346.0       0.0\n",
       "1639     14557.0       0.0\n",
       "1806     14792.0       0.0\n",
       "3343     16878.0       0.0\n",
       "4349     18268.0       0.0"
      ]
     },
     "execution_count": 517,
     "metadata": {},
     "output_type": "execute_result"
    }
   ],
   "source": [
    "monetary = df.groupby('CustomerID', as_index=False)['TotSale'].sum()\n",
    "monetary.columns = ['CustomerID', 'Monetary']\n",
    "zero_monetary = monetary[monetary['Monetary'] == 0]\n",
    "zero_monetary"
   ]
  },
  {
   "cell_type": "code",
   "execution_count": 518,
   "metadata": {},
   "outputs": [
    {
     "data": {
      "text/plain": [
       "False"
      ]
     },
     "execution_count": 518,
     "metadata": {},
     "output_type": "execute_result"
    }
   ],
   "source": [
    "df = df[~df.CustomerID.isin(zero_monetary.index)]\n",
    "df.reset_index(drop=True, inplace=True)\n",
    "df.CustomerID.isin(zero_monetary.index).any()"
   ]
  },
  {
   "cell_type": "code",
   "execution_count": 519,
   "metadata": {},
   "outputs": [
    {
     "data": {
      "text/plain": [
       "False"
      ]
     },
     "execution_count": 519,
     "metadata": {},
     "output_type": "execute_result"
    }
   ],
   "source": [
    "df = df[~df['BasketID'].str.contains('C')]\n",
    "df.reset_index(drop=True, inplace=True)\n",
    "df['BasketID'].str.contains('C').any()"
   ]
  },
  {
   "cell_type": "markdown",
   "metadata": {},
   "source": [
    "### Customers Country"
   ]
  },
  {
   "cell_type": "code",
   "execution_count": 520,
   "metadata": {},
   "outputs": [
    {
     "data": {
      "text/plain": [
       "United Kingdom          348892\n",
       "Germany                   8644\n",
       "France                    8019\n",
       "EIRE                      7128\n",
       "Spain                     2418\n",
       "Netherlands               2326\n",
       "Belgium                   1935\n",
       "Switzerland               1811\n",
       "Portugal                  1416\n",
       "Australia                 1183\n",
       "Norway                    1049\n",
       "Channel Islands            743\n",
       "Italy                      741\n",
       "Finland                    647\n",
       "Cyprus                     601\n",
       "Sweden                     427\n",
       "Austria                    384\n",
       "Denmark                    367\n",
       "Poland                     325\n",
       "Japan                      321\n",
       "Israel                     245\n",
       "Unspecified                241\n",
       "Singapore                  215\n",
       "Iceland                    182\n",
       "USA                        179\n",
       "Canada                     150\n",
       "Greece                     142\n",
       "Malta                      109\n",
       "United Arab Emirates        67\n",
       "RSA                         57\n",
       "European Community          57\n",
       "Lebanon                     45\n",
       "Lithuania                   35\n",
       "Brazil                      32\n",
       "Czech Republic              24\n",
       "Bahrain                     17\n",
       "Saudi Arabia                 9\n",
       "Name: CustomerCountry, dtype: int64"
      ]
     },
     "execution_count": 520,
     "metadata": {},
     "output_type": "execute_result"
    }
   ],
   "source": [
    "df['CustomerCountry'].value_counts()"
   ]
  },
  {
   "cell_type": "code",
   "execution_count": 521,
   "metadata": {},
   "outputs": [
    {
     "data": {
      "image/png": "[encoded data removed]",
      "text/plain": [
       "<Figure size 432x288 with 1 Axes>"
      ]
     },
     "metadata": {
      "needs_background": "light"
     },
     "output_type": "display_data"
    }
   ],
   "source": [
    "df['CustomerCountry'].groupby(df['CustomerCountry']).count().plot(kind='bar');"
   ]
  },
  {
   "cell_type": "markdown",
   "metadata": {},
   "source": [
    "As customer clusters may vary by geography, we’ll restrict the data to only United Kingdom customers, which contains most of our customers historical data."
   ]
  },
  {
   "cell_type": "code",
   "execution_count": 522,
   "metadata": {},
   "outputs": [
    {
     "data": {
      "text/plain": [
       "False"
      ]
     },
     "execution_count": 522,
     "metadata": {},
     "output_type": "execute_result"
    }
   ],
   "source": [
    "df = df[df['CustomerCountry'] == 'United Kingdom']\n",
    "df.reset_index(drop=True, inplace=True)\n",
    "(df['CustomerCountry'] != 'United Kingdom').any()"
   ]
  },
  {
   "cell_type": "code",
   "execution_count": 523,
   "metadata": {},
   "outputs": [],
   "source": [
    "df.drop('CustomerCountry', axis=1, inplace=True)"
   ]
  },
  {
   "cell_type": "markdown",
   "metadata": {},
   "source": [
    "### Baskets Date"
   ]
  },
  {
   "cell_type": "markdown",
   "metadata": {},
   "source": [
    "We noticed that 2010 data aren't enough representative, they are only a small fraction of the dataset and they appear to be only around the 12th of the month; in contrast 2011's data are more uniformely distributed, so we decide to keep only the latter:"
   ]
  },
  {
   "cell_type": "code",
   "execution_count": 524,
   "metadata": {},
   "outputs": [
    {
     "data": {
      "image/png": "[encoded data removed]",
      "text/plain": [
       "<Figure size 432x288 with 1 Axes>"
      ]
     },
     "metadata": {
      "needs_background": "light"
     },
     "output_type": "display_data"
    }
   ],
   "source": [
    "df['BasketDate'].groupby(df['BasketDate'].dt.year).count().plot(kind='bar');"
   ]
  },
  {
   "cell_type": "code",
   "execution_count": 525,
   "metadata": {},
   "outputs": [
    {
     "data": {
      "image/png": "[encoded data removed]",
      "text/plain": [
       "<Figure size 432x288 with 1 Axes>"
      ]
     },
     "metadata": {
      "needs_background": "light"
     },
     "output_type": "display_data"
    }
   ],
   "source": [
    "fig, ax = plt.subplots(1,1)\n",
    "df[df['BasketDate'].dt.year == 2010]['BasketDate'].dt.day.plot(kind='kde', ax=ax);\n",
    "df[df['BasketDate'].dt.year == 2011]['BasketDate'].dt.day.plot(kind='kde', ax=ax);"
   ]
  },
  {
   "cell_type": "code",
   "execution_count": 526,
   "metadata": {},
   "outputs": [
    {
     "data": {
      "text/plain": [
       "False"
      ]
     },
     "execution_count": 526,
     "metadata": {},
     "output_type": "execute_result"
    }
   ],
   "source": [
    "df = df[df['BasketDate'].dt.year == 2011]\n",
    "df.reset_index(drop=True, inplace=True)\n",
    "(df['BasketDate'].dt.year == 2010).any()"
   ]
  },
  {
   "cell_type": "code",
   "execution_count": 527,
   "metadata": {},
   "outputs": [
    {
     "data": {
      "image/png": "[encoded data removed]",
      "text/plain": [
       "<Figure size 432x288 with 1 Axes>"
      ]
     },
     "metadata": {
      "needs_background": "light"
     },
     "output_type": "display_data"
    }
   ],
   "source": [
    "df['BasketDate'].groupby(df['BasketDate'].dt.hour).count().plot(kind='bar');"
   ]
  },
  {
   "cell_type": "markdown",
   "metadata": {},
   "source": [
    "### Sales"
   ]
  },
  {
   "cell_type": "code",
   "execution_count": 528,
   "metadata": {},
   "outputs": [
    {
     "data": {
      "image/png": "[encoded data removed]",
      "text/plain": [
       "<Figure size 432x288 with 1 Axes>"
      ]
     },
     "metadata": {
      "needs_background": "light"
     },
     "output_type": "display_data"
    }
   ],
   "source": [
    "sns.distplot(df['Sale'])\n",
    "plt.title('Sale distribution')\n",
    "plt.xlabel('Sale')\n",
    "plt.ylabel('count');"
   ]
  },
  {
   "cell_type": "code",
   "execution_count": 529,
   "metadata": {},
   "outputs": [
    {
     "data": {
      "image/png": "[encoded data removed]",
      "text/plain": [
       "<Figure size 432x288 with 1 Axes>"
      ]
     },
     "metadata": {
      "needs_background": "light"
     },
     "output_type": "display_data"
    }
   ],
   "source": [
    "df.boxplot('Sale');"
   ]
  },
  {
   "cell_type": "markdown",
   "metadata": {},
   "source": [
    "We can use the interquartile range method to reduce the outliers and distribution skewness:\n",
    "\n",
    "- IQR = Q3 - Q1\n",
    "- lower bound = Q1 - 1.5 * IQR\n",
    "- upper bound = Q3 + 1.5 * IQR"
   ]
  },
  {
   "cell_type": "code",
   "execution_count": 530,
   "metadata": {},
   "outputs": [
    {
     "name": "stdout",
     "output_type": "stream",
     "text": [
      "Q1 = 1.25\n",
      "Q3 = 3.75\n",
      "IQR = Q3 - Q1 = 2.5\n",
      "lower bound = Q1 - 1.5 * IQR = -2.5\n",
      "upper bound = Q1 - 1.5 * IQR = 7.5\n"
     ]
    }
   ],
   "source": [
    "q1 = df['Sale'].quantile(0.25)\n",
    "q3 = df['Sale'].quantile(0.75)\n",
    "iqr = q3 - q1 \n",
    "lb = q1 - 1.5 * iqr\n",
    "ub = q3 + 1.5 * iqr\n",
    "\n",
    "print('Q1 = {}'.format(q1))\n",
    "print('Q3 = {}'.format(q3))\n",
    "print('IQR = Q3 - Q1 = {}'.format(iqr))\n",
    "print('lower bound = Q1 - 1.5 * IQR = {}'.format(lb))\n",
    "print('upper bound = Q1 - 1.5 * IQR = {}'.format(ub))"
   ]
  },
  {
   "cell_type": "code",
   "execution_count": 531,
   "metadata": {},
   "outputs": [
    {
     "data": {
      "text/html": [
       "<div>\n",
       "<style scoped>\n",
       "    .dataframe tbody tr th:only-of-type {\n",
       "        vertical-align: middle;\n",
       "    }\n",
       "\n",
       "    .dataframe tbody tr th {\n",
       "        vertical-align: top;\n",
       "    }\n",
       "\n",
       "    .dataframe thead th {\n",
       "        text-align: right;\n",
       "    }\n",
       "</style>\n",
       "<table border=\"1\" class=\"dataframe\">\n",
       "  <thead>\n",
       "    <tr style=\"text-align: right;\">\n",
       "      <th></th>\n",
       "      <th>BasketID</th>\n",
       "      <th>BasketDate</th>\n",
       "      <th>Sale</th>\n",
       "      <th>CustomerID</th>\n",
       "      <th>ProdID</th>\n",
       "      <th>ProdDescr</th>\n",
       "      <th>Qta</th>\n",
       "      <th>TotSale</th>\n",
       "    </tr>\n",
       "  </thead>\n",
       "  <tbody>\n",
       "    <tr>\n",
       "      <th>0</th>\n",
       "      <td>539993</td>\n",
       "      <td>2011-04-01 10:00:00</td>\n",
       "      <td>1.95</td>\n",
       "      <td>13313</td>\n",
       "      <td>22386</td>\n",
       "      <td>JUMBO BAG PINK POLKADOT</td>\n",
       "      <td>10</td>\n",
       "      <td>19.5</td>\n",
       "    </tr>\n",
       "    <tr>\n",
       "      <th>1</th>\n",
       "      <td>539993</td>\n",
       "      <td>2011-04-01 10:00:00</td>\n",
       "      <td>0.42</td>\n",
       "      <td>13313</td>\n",
       "      <td>21499</td>\n",
       "      <td>BLUE POLKADOT WRAP</td>\n",
       "      <td>25</td>\n",
       "      <td>10.5</td>\n",
       "    </tr>\n",
       "    <tr>\n",
       "      <th>2</th>\n",
       "      <td>539993</td>\n",
       "      <td>2011-04-01 10:00:00</td>\n",
       "      <td>0.42</td>\n",
       "      <td>13313</td>\n",
       "      <td>21498</td>\n",
       "      <td>RED RETROSPOT WRAP</td>\n",
       "      <td>25</td>\n",
       "      <td>10.5</td>\n",
       "    </tr>\n",
       "    <tr>\n",
       "      <th>3</th>\n",
       "      <td>539993</td>\n",
       "      <td>2011-04-01 10:00:00</td>\n",
       "      <td>2.10</td>\n",
       "      <td>13313</td>\n",
       "      <td>22379</td>\n",
       "      <td>RECYCLING BAG RETROSPOT</td>\n",
       "      <td>5</td>\n",
       "      <td>10.5</td>\n",
       "    </tr>\n",
       "    <tr>\n",
       "      <th>4</th>\n",
       "      <td>539993</td>\n",
       "      <td>2011-04-01 10:00:00</td>\n",
       "      <td>1.25</td>\n",
       "      <td>13313</td>\n",
       "      <td>20718</td>\n",
       "      <td>RED RETROSPOT SHOPPER BAG</td>\n",
       "      <td>10</td>\n",
       "      <td>12.5</td>\n",
       "    </tr>\n",
       "    <tr>\n",
       "      <th>...</th>\n",
       "      <td>...</td>\n",
       "      <td>...</td>\n",
       "      <td>...</td>\n",
       "      <td>...</td>\n",
       "      <td>...</td>\n",
       "      <td>...</td>\n",
       "      <td>...</td>\n",
       "      <td>...</td>\n",
       "    </tr>\n",
       "    <tr>\n",
       "      <th>325457</th>\n",
       "      <td>581585</td>\n",
       "      <td>2011-09-12 12:31:00</td>\n",
       "      <td>0.95</td>\n",
       "      <td>15804</td>\n",
       "      <td>23145</td>\n",
       "      <td>ZINC T-LIGHT HOLDER STAR LARGE</td>\n",
       "      <td>12</td>\n",
       "      <td>11.4</td>\n",
       "    </tr>\n",
       "    <tr>\n",
       "      <th>325458</th>\n",
       "      <td>581585</td>\n",
       "      <td>2011-09-12 12:31:00</td>\n",
       "      <td>1.95</td>\n",
       "      <td>15804</td>\n",
       "      <td>22466</td>\n",
       "      <td>FAIRY TALE COTTAGE NIGHT LIGHT</td>\n",
       "      <td>12</td>\n",
       "      <td>23.4</td>\n",
       "    </tr>\n",
       "    <tr>\n",
       "      <th>325459</th>\n",
       "      <td>581586</td>\n",
       "      <td>2011-09-12 12:49:00</td>\n",
       "      <td>2.95</td>\n",
       "      <td>13113</td>\n",
       "      <td>22061</td>\n",
       "      <td>LARGE CAKE STAND  HANGING STRAWBERY</td>\n",
       "      <td>8</td>\n",
       "      <td>23.6</td>\n",
       "    </tr>\n",
       "    <tr>\n",
       "      <th>325460</th>\n",
       "      <td>581586</td>\n",
       "      <td>2011-09-12 12:49:00</td>\n",
       "      <td>1.25</td>\n",
       "      <td>13113</td>\n",
       "      <td>23275</td>\n",
       "      <td>SET OF 3 HANGING OWLS OLLIE BEAK</td>\n",
       "      <td>24</td>\n",
       "      <td>30.0</td>\n",
       "    </tr>\n",
       "    <tr>\n",
       "      <th>325462</th>\n",
       "      <td>581586</td>\n",
       "      <td>2011-09-12 12:49:00</td>\n",
       "      <td>7.08</td>\n",
       "      <td>13113</td>\n",
       "      <td>20685</td>\n",
       "      <td>DOORMAT RED RETROSPOT</td>\n",
       "      <td>10</td>\n",
       "      <td>70.8</td>\n",
       "    </tr>\n",
       "  </tbody>\n",
       "</table>\n",
       "<p>298721 rows × 8 columns</p>\n",
       "</div>"
      ],
      "text/plain": [
       "       BasketID          BasketDate  Sale CustomerID ProdID  \\\n",
       "0        539993 2011-04-01 10:00:00  1.95      13313  22386   \n",
       "1        539993 2011-04-01 10:00:00  0.42      13313  21499   \n",
       "2        539993 2011-04-01 10:00:00  0.42      13313  21498   \n",
       "3        539993 2011-04-01 10:00:00  2.10      13313  22379   \n",
       "4        539993 2011-04-01 10:00:00  1.25      13313  20718   \n",
       "...         ...                 ...   ...        ...    ...   \n",
       "325457   581585 2011-09-12 12:31:00  0.95      15804  23145   \n",
       "325458   581585 2011-09-12 12:31:00  1.95      15804  22466   \n",
       "325459   581586 2011-09-12 12:49:00  2.95      13113  22061   \n",
       "325460   581586 2011-09-12 12:49:00  1.25      13113  23275   \n",
       "325462   581586 2011-09-12 12:49:00  7.08      13113  20685   \n",
       "\n",
       "                                  ProdDescr  Qta  TotSale  \n",
       "0                   JUMBO BAG PINK POLKADOT   10     19.5  \n",
       "1                        BLUE POLKADOT WRAP   25     10.5  \n",
       "2                       RED RETROSPOT WRAP    25     10.5  \n",
       "3                  RECYCLING BAG RETROSPOT     5     10.5  \n",
       "4                 RED RETROSPOT SHOPPER BAG   10     12.5  \n",
       "...                                     ...  ...      ...  \n",
       "325457       ZINC T-LIGHT HOLDER STAR LARGE   12     11.4  \n",
       "325458       FAIRY TALE COTTAGE NIGHT LIGHT   12     23.4  \n",
       "325459  LARGE CAKE STAND  HANGING STRAWBERY    8     23.6  \n",
       "325460     SET OF 3 HANGING OWLS OLLIE BEAK   24     30.0  \n",
       "325462                DOORMAT RED RETROSPOT   10     70.8  \n",
       "\n",
       "[298721 rows x 8 columns]"
      ]
     },
     "execution_count": 531,
     "metadata": {},
     "output_type": "execute_result"
    }
   ],
   "source": [
    "df = df[~((df['Sale'] < lb) | (df['Sale'] > ub))]\n",
    "df"
   ]
  },
  {
   "cell_type": "code",
   "execution_count": 532,
   "metadata": {},
   "outputs": [
    {
     "data": {
      "image/png": "[encoded data removed]",
      "text/plain": [
       "<Figure size 432x288 with 1 Axes>"
      ]
     },
     "metadata": {
      "needs_background": "light"
     },
     "output_type": "display_data"
    }
   ],
   "source": [
    "sns.distplot(df['Sale'])\n",
    "plt.title('Sale distribution')\n",
    "plt.xlabel('Sale')\n",
    "plt.ylabel('count');"
   ]
  },
  {
   "cell_type": "code",
   "execution_count": 533,
   "metadata": {},
   "outputs": [
    {
     "data": {
      "image/png": "[encoded data removed]",
      "text/plain": [
       "<Figure size 432x288 with 1 Axes>"
      ]
     },
     "metadata": {
      "needs_background": "light"
     },
     "output_type": "display_data"
    }
   ],
   "source": [
    "df.boxplot('Sale');"
   ]
  },
  {
   "cell_type": "markdown",
   "metadata": {},
   "source": [
    "### Quantities"
   ]
  },
  {
   "cell_type": "code",
   "execution_count": 534,
   "metadata": {},
   "outputs": [
    {
     "data": {
      "image/png": "[encoded data removed]",
      "text/plain": [
       "<Figure size 432x288 with 1 Axes>"
      ]
     },
     "metadata": {
      "needs_background": "light"
     },
     "output_type": "display_data"
    }
   ],
   "source": [
    "sns.distplot(df['Qta'])\n",
    "plt.title('Qta distribution')\n",
    "plt.xlabel('Qta')\n",
    "plt.ylabel('count');"
   ]
  },
  {
   "cell_type": "code",
   "execution_count": 535,
   "metadata": {},
   "outputs": [
    {
     "data": {
      "image/png": "[encoded data removed]",
      "text/plain": [
       "<Figure size 432x288 with 1 Axes>"
      ]
     },
     "metadata": {
      "needs_background": "light"
     },
     "output_type": "display_data"
    }
   ],
   "source": [
    "df.boxplot('Qta');"
   ]
  },
  {
   "cell_type": "markdown",
   "metadata": {},
   "source": [
    "Also, we notice the presence of some negative quantities which can be considered as a canceled orders or refund:"
   ]
  },
  {
   "cell_type": "markdown",
   "metadata": {},
   "source": [
    "We can use the interquartile range method to reduce the outliers and distribution skewness:\n",
    "\n",
    "- IQR = Q3 - Q1\n",
    "- lower bound = Q1 - 1.5 * IQR\n",
    "- upper bound = Q3 + 1.5 * IQR"
   ]
  },
  {
   "cell_type": "code",
   "execution_count": 536,
   "metadata": {},
   "outputs": [
    {
     "name": "stdout",
     "output_type": "stream",
     "text": [
      "Q1 = 2.0\n",
      "Q3 = 12.0\n",
      "IQR = Q3 - Q1 = 10.0\n",
      "lower bound = Q1 - 1.5 * IQR = -13.0\n",
      "upper bound = Q3 + 1.5 * IQR = 27.0\n"
     ]
    }
   ],
   "source": [
    "q1 = df['Qta'].quantile(0.25)\n",
    "q3 = df['Qta'].quantile(0.75)\n",
    "iqr = q3 - q1\n",
    "lb = q1 - 1.5 * iqr\n",
    "ub = q3 + 1.5 * iqr\n",
    "\n",
    "print('Q1 = {}'.format(q1))\n",
    "print('Q3 = {}'.format(q3))\n",
    "print('IQR = Q3 - Q1 = {}'.format(iqr))\n",
    "print('lower bound = Q1 - 1.5 * IQR = {}'.format(lb))\n",
    "print('upper bound = Q3 + 1.5 * IQR = {}'.format(ub))"
   ]
  },
  {
   "cell_type": "code",
   "execution_count": 537,
   "metadata": {},
   "outputs": [
    {
     "data": {
      "text/html": [
       "<div>\n",
       "<style scoped>\n",
       "    .dataframe tbody tr th:only-of-type {\n",
       "        vertical-align: middle;\n",
       "    }\n",
       "\n",
       "    .dataframe tbody tr th {\n",
       "        vertical-align: top;\n",
       "    }\n",
       "\n",
       "    .dataframe thead th {\n",
       "        text-align: right;\n",
       "    }\n",
       "</style>\n",
       "<table border=\"1\" class=\"dataframe\">\n",
       "  <thead>\n",
       "    <tr style=\"text-align: right;\">\n",
       "      <th></th>\n",
       "      <th>BasketID</th>\n",
       "      <th>BasketDate</th>\n",
       "      <th>Sale</th>\n",
       "      <th>CustomerID</th>\n",
       "      <th>ProdID</th>\n",
       "      <th>ProdDescr</th>\n",
       "      <th>Qta</th>\n",
       "      <th>TotSale</th>\n",
       "    </tr>\n",
       "  </thead>\n",
       "  <tbody>\n",
       "    <tr>\n",
       "      <th>0</th>\n",
       "      <td>539993</td>\n",
       "      <td>2011-04-01 10:00:00</td>\n",
       "      <td>1.95</td>\n",
       "      <td>13313</td>\n",
       "      <td>22386</td>\n",
       "      <td>JUMBO BAG PINK POLKADOT</td>\n",
       "      <td>10</td>\n",
       "      <td>19.5</td>\n",
       "    </tr>\n",
       "    <tr>\n",
       "      <th>1</th>\n",
       "      <td>539993</td>\n",
       "      <td>2011-04-01 10:00:00</td>\n",
       "      <td>0.42</td>\n",
       "      <td>13313</td>\n",
       "      <td>21499</td>\n",
       "      <td>BLUE POLKADOT WRAP</td>\n",
       "      <td>25</td>\n",
       "      <td>10.5</td>\n",
       "    </tr>\n",
       "    <tr>\n",
       "      <th>2</th>\n",
       "      <td>539993</td>\n",
       "      <td>2011-04-01 10:00:00</td>\n",
       "      <td>0.42</td>\n",
       "      <td>13313</td>\n",
       "      <td>21498</td>\n",
       "      <td>RED RETROSPOT WRAP</td>\n",
       "      <td>25</td>\n",
       "      <td>10.5</td>\n",
       "    </tr>\n",
       "    <tr>\n",
       "      <th>3</th>\n",
       "      <td>539993</td>\n",
       "      <td>2011-04-01 10:00:00</td>\n",
       "      <td>2.10</td>\n",
       "      <td>13313</td>\n",
       "      <td>22379</td>\n",
       "      <td>RECYCLING BAG RETROSPOT</td>\n",
       "      <td>5</td>\n",
       "      <td>10.5</td>\n",
       "    </tr>\n",
       "    <tr>\n",
       "      <th>4</th>\n",
       "      <td>539993</td>\n",
       "      <td>2011-04-01 10:00:00</td>\n",
       "      <td>1.25</td>\n",
       "      <td>13313</td>\n",
       "      <td>20718</td>\n",
       "      <td>RED RETROSPOT SHOPPER BAG</td>\n",
       "      <td>10</td>\n",
       "      <td>12.5</td>\n",
       "    </tr>\n",
       "    <tr>\n",
       "      <th>...</th>\n",
       "      <td>...</td>\n",
       "      <td>...</td>\n",
       "      <td>...</td>\n",
       "      <td>...</td>\n",
       "      <td>...</td>\n",
       "      <td>...</td>\n",
       "      <td>...</td>\n",
       "      <td>...</td>\n",
       "    </tr>\n",
       "    <tr>\n",
       "      <th>325457</th>\n",
       "      <td>581585</td>\n",
       "      <td>2011-09-12 12:31:00</td>\n",
       "      <td>0.95</td>\n",
       "      <td>15804</td>\n",
       "      <td>23145</td>\n",
       "      <td>ZINC T-LIGHT HOLDER STAR LARGE</td>\n",
       "      <td>12</td>\n",
       "      <td>11.4</td>\n",
       "    </tr>\n",
       "    <tr>\n",
       "      <th>325458</th>\n",
       "      <td>581585</td>\n",
       "      <td>2011-09-12 12:31:00</td>\n",
       "      <td>1.95</td>\n",
       "      <td>15804</td>\n",
       "      <td>22466</td>\n",
       "      <td>FAIRY TALE COTTAGE NIGHT LIGHT</td>\n",
       "      <td>12</td>\n",
       "      <td>23.4</td>\n",
       "    </tr>\n",
       "    <tr>\n",
       "      <th>325459</th>\n",
       "      <td>581586</td>\n",
       "      <td>2011-09-12 12:49:00</td>\n",
       "      <td>2.95</td>\n",
       "      <td>13113</td>\n",
       "      <td>22061</td>\n",
       "      <td>LARGE CAKE STAND  HANGING STRAWBERY</td>\n",
       "      <td>8</td>\n",
       "      <td>23.6</td>\n",
       "    </tr>\n",
       "    <tr>\n",
       "      <th>325460</th>\n",
       "      <td>581586</td>\n",
       "      <td>2011-09-12 12:49:00</td>\n",
       "      <td>1.25</td>\n",
       "      <td>13113</td>\n",
       "      <td>23275</td>\n",
       "      <td>SET OF 3 HANGING OWLS OLLIE BEAK</td>\n",
       "      <td>24</td>\n",
       "      <td>30.0</td>\n",
       "    </tr>\n",
       "    <tr>\n",
       "      <th>325462</th>\n",
       "      <td>581586</td>\n",
       "      <td>2011-09-12 12:49:00</td>\n",
       "      <td>7.08</td>\n",
       "      <td>13113</td>\n",
       "      <td>20685</td>\n",
       "      <td>DOORMAT RED RETROSPOT</td>\n",
       "      <td>10</td>\n",
       "      <td>70.8</td>\n",
       "    </tr>\n",
       "  </tbody>\n",
       "</table>\n",
       "<p>280148 rows × 8 columns</p>\n",
       "</div>"
      ],
      "text/plain": [
       "       BasketID          BasketDate  Sale CustomerID ProdID  \\\n",
       "0        539993 2011-04-01 10:00:00  1.95      13313  22386   \n",
       "1        539993 2011-04-01 10:00:00  0.42      13313  21499   \n",
       "2        539993 2011-04-01 10:00:00  0.42      13313  21498   \n",
       "3        539993 2011-04-01 10:00:00  2.10      13313  22379   \n",
       "4        539993 2011-04-01 10:00:00  1.25      13313  20718   \n",
       "...         ...                 ...   ...        ...    ...   \n",
       "325457   581585 2011-09-12 12:31:00  0.95      15804  23145   \n",
       "325458   581585 2011-09-12 12:31:00  1.95      15804  22466   \n",
       "325459   581586 2011-09-12 12:49:00  2.95      13113  22061   \n",
       "325460   581586 2011-09-12 12:49:00  1.25      13113  23275   \n",
       "325462   581586 2011-09-12 12:49:00  7.08      13113  20685   \n",
       "\n",
       "                                  ProdDescr  Qta  TotSale  \n",
       "0                   JUMBO BAG PINK POLKADOT   10     19.5  \n",
       "1                        BLUE POLKADOT WRAP   25     10.5  \n",
       "2                       RED RETROSPOT WRAP    25     10.5  \n",
       "3                  RECYCLING BAG RETROSPOT     5     10.5  \n",
       "4                 RED RETROSPOT SHOPPER BAG   10     12.5  \n",
       "...                                     ...  ...      ...  \n",
       "325457       ZINC T-LIGHT HOLDER STAR LARGE   12     11.4  \n",
       "325458       FAIRY TALE COTTAGE NIGHT LIGHT   12     23.4  \n",
       "325459  LARGE CAKE STAND  HANGING STRAWBERY    8     23.6  \n",
       "325460     SET OF 3 HANGING OWLS OLLIE BEAK   24     30.0  \n",
       "325462                DOORMAT RED RETROSPOT   10     70.8  \n",
       "\n",
       "[280148 rows x 8 columns]"
      ]
     },
     "execution_count": 537,
     "metadata": {},
     "output_type": "execute_result"
    }
   ],
   "source": [
    "df = df[~((df['Qta'] < lb) | (df['Qta'] > ub))]\n",
    "df"
   ]
  },
  {
   "cell_type": "code",
   "execution_count": 538,
   "metadata": {},
   "outputs": [
    {
     "data": {
      "image/png": "[encoded data removed]",
      "text/plain": [
       "<Figure size 432x288 with 1 Axes>"
      ]
     },
     "metadata": {
      "needs_background": "light"
     },
     "output_type": "display_data"
    }
   ],
   "source": [
    "sns.distplot(df['Qta'])\n",
    "plt.title('Qta distribution')\n",
    "plt.xlabel('Qta')\n",
    "plt.ylabel('count');"
   ]
  },
  {
   "cell_type": "code",
   "execution_count": 539,
   "metadata": {},
   "outputs": [
    {
     "data": {
      "image/png": "[encoded data removed]",
      "text/plain": [
       "<Figure size 432x288 with 1 Axes>"
      ]
     },
     "metadata": {
      "needs_background": "light"
     },
     "output_type": "display_data"
    }
   ],
   "source": [
    "df.boxplot('Qta');"
   ]
  },
  {
   "cell_type": "markdown",
   "metadata": {},
   "source": [
    "### Products Description"
   ]
  },
  {
   "cell_type": "code",
   "execution_count": 540,
   "metadata": {},
   "outputs": [
    {
     "data": {
      "text/plain": [
       "False"
      ]
     },
     "execution_count": 540,
     "metadata": {},
     "output_type": "execute_result"
    }
   ],
   "source": [
    "df['ProdDescr'].isnull().any()"
   ]
  },
  {
   "cell_type": "markdown",
   "metadata": {},
   "source": [
    "Now we need to remove the entries corresponding to lower or mixed case *ProdDescr* variable which will be not effective for the feature extraction step since they don't represent a product description:"
   ]
  },
  {
   "cell_type": "code",
   "execution_count": 541,
   "metadata": {},
   "outputs": [
    {
     "data": {
      "text/plain": [
       "array(['BAG 125g SWIRLY MARBLES', 'BAG 500g SWIRLY MARBLES',\n",
       "       '3 TRADITIONAl BISCUIT CUTTERS  SET',\n",
       "       'FRENCH BLUE METAL DOOR SIGN No', 'NUMBER TILE VINTAGE FONT No ',\n",
       "       'BAG 250g SWIRLY MARBLES', 'POLYESTER FILLER PAD 40x40cm',\n",
       "       'POLYESTER FILLER PAD 45x45cm', 'FOLK ART GREETING CARD,pack/12',\n",
       "       'POLYESTER FILLER PAD 45x30cm', 'POLYESTER FILLER PAD 30CMx30CM',\n",
       "       'ESSENTIAL BALM 3.5g TIN IN ENVELOPE',\n",
       "       'NUMBER TILE COTTAGE GARDEN No', 'POLYESTER FILLER PAD 65CMx65CM',\n",
       "       'POLYESTER FILLER PAD 60x40cm', 'FLOWERS HANDBAG blue and orange',\n",
       "       'THE KING GIFT BAG 25x24x12cm', 'High Resolution Image'],\n",
       "      dtype=object)"
      ]
     },
     "execution_count": 541,
     "metadata": {},
     "output_type": "execute_result"
    }
   ],
   "source": [
    "df[(df['ProdDescr'].str.islower()) | # lower case\n",
    "   (~df['ProdDescr'].str.islower() & ~df['ProdDescr'].str.isupper())]['ProdDescr'].unique() # mixed case"
   ]
  },
  {
   "cell_type": "code",
   "execution_count": 542,
   "metadata": {},
   "outputs": [
    {
     "data": {
      "text/plain": [
       "array(['High Resolution Image'], dtype=object)"
      ]
     },
     "execution_count": 542,
     "metadata": {},
     "output_type": "execute_result"
    }
   ],
   "source": [
    "df['ProdDescr'] = df['ProdDescr'].str.replace('[^\\w\\s]', '') # removing non-word chars (+, -, /, etc.) but leaving spaces\n",
    "df['ProdDescr'] = df['ProdDescr'].str.replace('[0-9]+[a-zA-Z]*', '') # removing words containing numbers\n",
    "\n",
    "df['ProdDescr'] = df['ProdDescr'].apply(lambda descr: ' '.join(descr.split())) # removing multiple whitespaces\n",
    "\n",
    "# adjusting specific errors\n",
    "df['ProdDescr'] = df['ProdDescr'].str.replace('No', '') # removing 'No'\n",
    "df['ProdDescr'].replace({'TRADITIONAl BISCUIT CUTTERS SET': 'TRADITIONAl BISCUIT CUTTERS SET'.upper()}, inplace=True)\n",
    "df['ProdDescr'].replace({'FLOWERS HANDBAG blue and orange': 'FLOWERS HANDBAG blue and orange'.upper()}, inplace=True)\n",
    "df['ProdDescr'].replace({'FOLK ART GREETING CARDpack': 'FOLK ART GREETING CARD'}, inplace=True)\n",
    "\n",
    "bad_descr = df[(df['ProdDescr'].str.islower()) | # lower case\n",
    "               (~df['ProdDescr'].str.islower() & ~df['ProdDescr'].str.isupper())]['ProdDescr'].unique() # mixed case\n",
    "bad_descr"
   ]
  },
  {
   "cell_type": "code",
   "execution_count": 543,
   "metadata": {},
   "outputs": [
    {
     "data": {
      "text/plain": [
       "False"
      ]
     },
     "execution_count": 543,
     "metadata": {},
     "output_type": "execute_result"
    }
   ],
   "source": [
    "df = df[~df['ProdDescr'].isin(bad_descr)]\n",
    "df.reset_index(drop=True, inplace=True)\n",
    "df['ProdDescr'].isin(bad_descr).any()"
   ]
  },
  {
   "cell_type": "markdown",
   "metadata": {},
   "source": [
    "## Saving the new dataset"
   ]
  },
  {
   "cell_type": "code",
   "execution_count": 544,
   "metadata": {},
   "outputs": [],
   "source": [
    "df.to_csv('../dataset/new_customer_supermarket.csv', sep='\\t', float_format='%.2f')"
   ]
  }
 ],
 "metadata": {
  "kernelspec": {
   "display_name": "Python 3",
   "language": "python",
   "name": "python3"
  },
  "language_info": {
   "codemirror_mode": {
    "name": "ipython",
    "version": 3
   },
   "file_extension": ".py",
   "mimetype": "text/x-python",
   "name": "python",
   "nbconvert_exporter": "python",
   "pygments_lexer": "ipython3",
   "version": "3.8.6"
  }
 },
 "nbformat": 4,
 "nbformat_minor": 4
}
