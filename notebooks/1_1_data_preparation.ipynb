{
 "cells": [
  {
   "cell_type": "markdown",
   "metadata": {},
   "source": [
    "# Task 1: Data Understanding \\& Preparation"
   ]
  },
  {
   "cell_type": "code",
   "execution_count": 139,
   "metadata": {},
   "outputs": [],
   "source": [
    "import numpy as np\n",
    "import pandas as pd\n",
    "import seaborn as sns\n",
    "import matplotlib.pyplot as plt"
   ]
  },
  {
   "cell_type": "code",
   "execution_count": 140,
   "metadata": {},
   "outputs": [],
   "source": [
    "import warnings \n",
    "\n",
    "warnings.filterwarnings('ignore')"
   ]
  },
  {
   "cell_type": "markdown",
   "metadata": {},
   "source": [
    "## Loading the dataset"
   ]
  },
  {
   "cell_type": "code",
   "execution_count": 141,
   "metadata": {},
   "outputs": [
    {
     "data": {
      "text/html": [
       "<div>\n",
       "<style scoped>\n",
       "    .dataframe tbody tr th:only-of-type {\n",
       "        vertical-align: middle;\n",
       "    }\n",
       "\n",
       "    .dataframe tbody tr th {\n",
       "        vertical-align: top;\n",
       "    }\n",
       "\n",
       "    .dataframe thead th {\n",
       "        text-align: right;\n",
       "    }\n",
       "</style>\n",
       "<table border=\"1\" class=\"dataframe\">\n",
       "  <thead>\n",
       "    <tr style=\"text-align: right;\">\n",
       "      <th></th>\n",
       "      <th>BasketID</th>\n",
       "      <th>BasketDate</th>\n",
       "      <th>Sale</th>\n",
       "      <th>CustomerID</th>\n",
       "      <th>CustomerCountry</th>\n",
       "      <th>ProdID</th>\n",
       "      <th>ProdDescr</th>\n",
       "      <th>Qta</th>\n",
       "    </tr>\n",
       "  </thead>\n",
       "  <tbody>\n",
       "    <tr>\n",
       "      <th>0</th>\n",
       "      <td>536365</td>\n",
       "      <td>01/12/10 08:26</td>\n",
       "      <td>2,55</td>\n",
       "      <td>17850.0</td>\n",
       "      <td>United Kingdom</td>\n",
       "      <td>85123A</td>\n",
       "      <td>WHITE HANGING HEART T-LIGHT HOLDER</td>\n",
       "      <td>6</td>\n",
       "    </tr>\n",
       "    <tr>\n",
       "      <th>1</th>\n",
       "      <td>536365</td>\n",
       "      <td>01/12/10 08:26</td>\n",
       "      <td>3,39</td>\n",
       "      <td>17850.0</td>\n",
       "      <td>United Kingdom</td>\n",
       "      <td>71053</td>\n",
       "      <td>WHITE METAL LANTERN</td>\n",
       "      <td>6</td>\n",
       "    </tr>\n",
       "    <tr>\n",
       "      <th>2</th>\n",
       "      <td>536365</td>\n",
       "      <td>01/12/10 08:26</td>\n",
       "      <td>2,75</td>\n",
       "      <td>17850.0</td>\n",
       "      <td>United Kingdom</td>\n",
       "      <td>84406B</td>\n",
       "      <td>CREAM CUPID HEARTS COAT HANGER</td>\n",
       "      <td>8</td>\n",
       "    </tr>\n",
       "    <tr>\n",
       "      <th>3</th>\n",
       "      <td>536365</td>\n",
       "      <td>01/12/10 08:26</td>\n",
       "      <td>3,39</td>\n",
       "      <td>17850.0</td>\n",
       "      <td>United Kingdom</td>\n",
       "      <td>84029G</td>\n",
       "      <td>KNITTED UNION FLAG HOT WATER BOTTLE</td>\n",
       "      <td>6</td>\n",
       "    </tr>\n",
       "    <tr>\n",
       "      <th>4</th>\n",
       "      <td>536365</td>\n",
       "      <td>01/12/10 08:26</td>\n",
       "      <td>3,39</td>\n",
       "      <td>17850.0</td>\n",
       "      <td>United Kingdom</td>\n",
       "      <td>84029E</td>\n",
       "      <td>RED WOOLLY HOTTIE WHITE HEART.</td>\n",
       "      <td>6</td>\n",
       "    </tr>\n",
       "    <tr>\n",
       "      <th>...</th>\n",
       "      <td>...</td>\n",
       "      <td>...</td>\n",
       "      <td>...</td>\n",
       "      <td>...</td>\n",
       "      <td>...</td>\n",
       "      <td>...</td>\n",
       "      <td>...</td>\n",
       "      <td>...</td>\n",
       "    </tr>\n",
       "    <tr>\n",
       "      <th>541905</th>\n",
       "      <td>581587</td>\n",
       "      <td>09/12/11 12:50</td>\n",
       "      <td>2,1</td>\n",
       "      <td>12680.0</td>\n",
       "      <td>France</td>\n",
       "      <td>22899</td>\n",
       "      <td>CHILDREN'S APRON DOLLY GIRL</td>\n",
       "      <td>6</td>\n",
       "    </tr>\n",
       "    <tr>\n",
       "      <th>541906</th>\n",
       "      <td>581587</td>\n",
       "      <td>09/12/11 12:50</td>\n",
       "      <td>4,15</td>\n",
       "      <td>12680.0</td>\n",
       "      <td>France</td>\n",
       "      <td>23254</td>\n",
       "      <td>CHILDRENS CUTLERY DOLLY GIRL</td>\n",
       "      <td>4</td>\n",
       "    </tr>\n",
       "    <tr>\n",
       "      <th>541907</th>\n",
       "      <td>581587</td>\n",
       "      <td>09/12/11 12:50</td>\n",
       "      <td>4,15</td>\n",
       "      <td>12680.0</td>\n",
       "      <td>France</td>\n",
       "      <td>23255</td>\n",
       "      <td>CHILDRENS CUTLERY CIRCUS PARADE</td>\n",
       "      <td>4</td>\n",
       "    </tr>\n",
       "    <tr>\n",
       "      <th>541908</th>\n",
       "      <td>581587</td>\n",
       "      <td>09/12/11 12:50</td>\n",
       "      <td>4,95</td>\n",
       "      <td>12680.0</td>\n",
       "      <td>France</td>\n",
       "      <td>22138</td>\n",
       "      <td>BAKING SET 9 PIECE RETROSPOT</td>\n",
       "      <td>3</td>\n",
       "    </tr>\n",
       "    <tr>\n",
       "      <th>541909</th>\n",
       "      <td>581587</td>\n",
       "      <td>09/12/11 12:50</td>\n",
       "      <td>18</td>\n",
       "      <td>12680.0</td>\n",
       "      <td>France</td>\n",
       "      <td>POST</td>\n",
       "      <td>POSTAGE</td>\n",
       "      <td>1</td>\n",
       "    </tr>\n",
       "  </tbody>\n",
       "</table>\n",
       "<p>471910 rows × 8 columns</p>\n",
       "</div>"
      ],
      "text/plain": [
       "       BasketID      BasketDate  Sale  CustomerID CustomerCountry  ProdID  \\\n",
       "0        536365  01/12/10 08:26  2,55     17850.0  United Kingdom  85123A   \n",
       "1        536365  01/12/10 08:26  3,39     17850.0  United Kingdom   71053   \n",
       "2        536365  01/12/10 08:26  2,75     17850.0  United Kingdom  84406B   \n",
       "3        536365  01/12/10 08:26  3,39     17850.0  United Kingdom  84029G   \n",
       "4        536365  01/12/10 08:26  3,39     17850.0  United Kingdom  84029E   \n",
       "...         ...             ...   ...         ...             ...     ...   \n",
       "541905   581587  09/12/11 12:50   2,1     12680.0          France   22899   \n",
       "541906   581587  09/12/11 12:50  4,15     12680.0          France   23254   \n",
       "541907   581587  09/12/11 12:50  4,15     12680.0          France   23255   \n",
       "541908   581587  09/12/11 12:50  4,95     12680.0          France   22138   \n",
       "541909   581587  09/12/11 12:50    18     12680.0          France    POST   \n",
       "\n",
       "                                  ProdDescr  Qta  \n",
       "0        WHITE HANGING HEART T-LIGHT HOLDER    6  \n",
       "1                       WHITE METAL LANTERN    6  \n",
       "2            CREAM CUPID HEARTS COAT HANGER    8  \n",
       "3       KNITTED UNION FLAG HOT WATER BOTTLE    6  \n",
       "4            RED WOOLLY HOTTIE WHITE HEART.    6  \n",
       "...                                     ...  ...  \n",
       "541905         CHILDREN'S APRON DOLLY GIRL     6  \n",
       "541906        CHILDRENS CUTLERY DOLLY GIRL     4  \n",
       "541907      CHILDRENS CUTLERY CIRCUS PARADE    4  \n",
       "541908        BAKING SET 9 PIECE RETROSPOT     3  \n",
       "541909                              POSTAGE    1  \n",
       "\n",
       "[471910 rows x 8 columns]"
      ]
     },
     "execution_count": 141,
     "metadata": {},
     "output_type": "execute_result"
    }
   ],
   "source": [
    "df = pd.read_csv('../dataset/customer_supermarket.csv', sep='\\t', index_col=0)\n",
    "df"
   ]
  },
  {
   "cell_type": "markdown",
   "metadata": {},
   "source": [
    "## Basic checks"
   ]
  },
  {
   "cell_type": "code",
   "execution_count": 142,
   "metadata": {},
   "outputs": [
    {
     "name": "stdout",
     "output_type": "stream",
     "text": [
      "Number of canceled duplicates: 5232/471910 (1.11%)\n"
     ]
    }
   ],
   "source": [
    "n_samples = df.shape[0]\n",
    "df.drop_duplicates(ignore_index=True, inplace=True)\n",
    "duplicates = n_samples - df.shape[0]\n",
    "print('Number of canceled duplicates: {}/{} ({:.2f}%)'.format(duplicates, n_samples, duplicates / n_samples * 100))"
   ]
  },
  {
   "cell_type": "code",
   "execution_count": 143,
   "metadata": {},
   "outputs": [
    {
     "data": {
      "text/plain": [
       "BasketID            object\n",
       "BasketDate          object\n",
       "Sale                object\n",
       "CustomerID         float64\n",
       "CustomerCountry     object\n",
       "ProdID              object\n",
       "ProdDescr           object\n",
       "Qta                  int64\n",
       "dtype: object"
      ]
     },
     "execution_count": 143,
     "metadata": {},
     "output_type": "execute_result"
    }
   ],
   "source": [
    "df.dtypes"
   ]
  },
  {
   "cell_type": "code",
   "execution_count": 144,
   "metadata": {},
   "outputs": [],
   "source": [
    "df['Sale'] = df['Sale'].str.replace(',', '.')\n",
    "df['Sale'] = pd.to_numeric(df['Sale'])\n",
    "df = df.astype({'BasketDate': 'datetime64',\n",
    "                'CustomerID': 'object'})"
   ]
  },
  {
   "cell_type": "code",
   "execution_count": 145,
   "metadata": {},
   "outputs": [
    {
     "data": {
      "text/plain": [
       "BasketID                   object\n",
       "BasketDate         datetime64[ns]\n",
       "Sale                      float64\n",
       "CustomerID                 object\n",
       "CustomerCountry            object\n",
       "ProdID                     object\n",
       "ProdDescr                  object\n",
       "Qta                         int64\n",
       "dtype: object"
      ]
     },
     "execution_count": 145,
     "metadata": {},
     "output_type": "execute_result"
    }
   ],
   "source": [
    "df.dtypes"
   ]
  },
  {
   "cell_type": "markdown",
   "metadata": {},
   "source": [
    "This dataset contains 8 variables that correspond to:\n",
    "\n",
    "- *BasketID*: a 6-digit integer number uniquely assigned to each order; if it starts with a *C*, it indicates a cancellation;\n",
    "- *BasketDate*: the day and time when each order was placed;\n",
    "- *Sale*: the unit product price, all in the same currency, probably in sterling;\n",
    "- *CustomerID*: a 5-digit integer number uniquely assigned to each customer;\n",
    "- *CustomerCountry*: the name of the country where each customer resides;\n",
    "- *ProdID*: a 5-digit + 1-letter identifier uniquely assigned to each distinct product; identical codes with different letters identify the same products with different characteristics (e.g., 84997D: PINK PIECE POLKADOT CUTLERY SET - 84997C: BLUE PIECE POLKADOT CUTLERY SET)\n",
    "- *ProdDescr*: the description of the product;\n",
    "- *Qta*: the purchased quantities of each product per order."
   ]
  },
  {
   "cell_type": "code",
   "execution_count": 146,
   "metadata": {},
   "outputs": [
    {
     "data": {
      "text/plain": [
       "BasketID               0\n",
       "BasketDate             0\n",
       "Sale                   0\n",
       "CustomerID         65073\n",
       "CustomerCountry        0\n",
       "ProdID                 0\n",
       "ProdDescr            753\n",
       "Qta                    0\n",
       "dtype: int64"
      ]
     },
     "execution_count": 146,
     "metadata": {},
     "output_type": "execute_result"
    }
   ],
   "source": [
    "df.isnull().sum()"
   ]
  },
  {
   "cell_type": "code",
   "execution_count": 147,
   "metadata": {},
   "outputs": [
    {
     "data": {
      "image/png": "[encoded data removed]",
      "text/plain": [
       "<Figure size 432x288 with 1 Axes>"
      ]
     },
     "metadata": {
      "needs_background": "light"
     },
     "output_type": "display_data"
    }
   ],
   "source": [
    "sns.heatmap(df.isnull(), cbar=False);"
   ]
  },
  {
   "cell_type": "code",
   "execution_count": 148,
   "metadata": {},
   "outputs": [
    {
     "data": {
      "text/html": [
       "<div>\n",
       "<style scoped>\n",
       "    .dataframe tbody tr th:only-of-type {\n",
       "        vertical-align: middle;\n",
       "    }\n",
       "\n",
       "    .dataframe tbody tr th {\n",
       "        vertical-align: top;\n",
       "    }\n",
       "\n",
       "    .dataframe thead th {\n",
       "        text-align: right;\n",
       "    }\n",
       "</style>\n",
       "<table border=\"1\" class=\"dataframe\">\n",
       "  <thead>\n",
       "    <tr style=\"text-align: right;\">\n",
       "      <th></th>\n",
       "      <th>Sale</th>\n",
       "      <th>Qta</th>\n",
       "    </tr>\n",
       "  </thead>\n",
       "  <tbody>\n",
       "    <tr>\n",
       "      <th>count</th>\n",
       "      <td>466678.000000</td>\n",
       "      <td>466678.000000</td>\n",
       "    </tr>\n",
       "    <tr>\n",
       "      <th>mean</th>\n",
       "      <td>4.049057</td>\n",
       "      <td>10.806528</td>\n",
       "    </tr>\n",
       "    <tr>\n",
       "      <th>std</th>\n",
       "      <td>84.237135</td>\n",
       "      <td>232.627771</td>\n",
       "    </tr>\n",
       "    <tr>\n",
       "      <th>min</th>\n",
       "      <td>-11062.060000</td>\n",
       "      <td>-80995.000000</td>\n",
       "    </tr>\n",
       "    <tr>\n",
       "      <th>25%</th>\n",
       "      <td>1.250000</td>\n",
       "      <td>2.000000</td>\n",
       "    </tr>\n",
       "    <tr>\n",
       "      <th>50%</th>\n",
       "      <td>2.080000</td>\n",
       "      <td>4.000000</td>\n",
       "    </tr>\n",
       "    <tr>\n",
       "      <th>75%</th>\n",
       "      <td>3.750000</td>\n",
       "      <td>12.000000</td>\n",
       "    </tr>\n",
       "    <tr>\n",
       "      <th>max</th>\n",
       "      <td>38970.000000</td>\n",
       "      <td>80995.000000</td>\n",
       "    </tr>\n",
       "  </tbody>\n",
       "</table>\n",
       "</div>"
      ],
      "text/plain": [
       "                Sale            Qta\n",
       "count  466678.000000  466678.000000\n",
       "mean        4.049057      10.806528\n",
       "std        84.237135     232.627771\n",
       "min    -11062.060000  -80995.000000\n",
       "25%         1.250000       2.000000\n",
       "50%         2.080000       4.000000\n",
       "75%         3.750000      12.000000\n",
       "max     38970.000000   80995.000000"
      ]
     },
     "execution_count": 148,
     "metadata": {},
     "output_type": "execute_result"
    }
   ],
   "source": [
    "df.describe()"
   ]
  },
  {
   "cell_type": "markdown",
   "metadata": {},
   "source": [
    "## Data Cleaning and Integration"
   ]
  },
  {
   "cell_type": "markdown",
   "metadata": {},
   "source": [
    "### Customer IDs"
   ]
  },
  {
   "cell_type": "markdown",
   "metadata": {},
   "source": [
    "First of all, we are going to remove the entries for which the *CustomerID* variable is null:"
   ]
  },
  {
   "cell_type": "code",
   "execution_count": 149,
   "metadata": {},
   "outputs": [
    {
     "data": {
      "text/plain": [
       "False"
      ]
     },
     "execution_count": 149,
     "metadata": {},
     "output_type": "execute_result"
    }
   ],
   "source": [
    "df = df[~df['CustomerID'].isnull()]\n",
    "df.reset_index(drop=True, inplace=True)\n",
    "df['CustomerID'].isnull().any()"
   ]
  },
  {
   "cell_type": "markdown",
   "metadata": {},
   "source": [
    "### Product IDs"
   ]
  },
  {
   "cell_type": "markdown",
   "metadata": {},
   "source": [
    "Above, it has been seen that some values of the *ProdID* variable indicate a particular transaction (i.e., *D* for *Discount*). We check the contents of this variable by looking for the set of codes that would contain only letters:"
   ]
  },
  {
   "cell_type": "code",
   "execution_count": 150,
   "metadata": {},
   "outputs": [
    {
     "name": "stdout",
     "output_type": "stream",
     "text": [
      "POST            -> POSTAGE                       \n",
      "D               -> Discount                      \n",
      "C2              -> CARRIAGE                      \n",
      "M               -> Manual                        \n",
      "BANK CHARGES    -> Bank Charges                  \n",
      "PADS            -> PADS TO MATCH ALL CUSHIONS    \n",
      "DOT             -> DOTCOM POSTAGE                \n",
      "CRUK            -> CRUK Commission               \n"
     ]
    }
   ],
   "source": [
    "special_codes = df[df['ProdID'].str.contains('^[a-zA-Z]+', regex=True)]['ProdID'].unique()\n",
    "for code in special_codes:\n",
    "    print(\"{:<15} -> {:<30}\".format(code, df[df['ProdID'] == code]['ProdDescr'].unique()[0]))"
   ]
  },
  {
   "cell_type": "markdown",
   "metadata": {},
   "source": [
    "We see that there are several types of peculiar transactions, connected e.g., to *port charges* or *bank charges*."
   ]
  },
  {
   "cell_type": "code",
   "execution_count": 151,
   "metadata": {},
   "outputs": [
    {
     "data": {
      "text/plain": [
       "False"
      ]
     },
     "execution_count": 151,
     "metadata": {},
     "output_type": "execute_result"
    }
   ],
   "source": [
    "df = df[~df.ProdID.isin(special_codes)]\n",
    "df.reset_index(drop=True, inplace=True)\n",
    "df.ProdID.isin(special_codes).any()"
   ]
  },
  {
   "cell_type": "markdown",
   "metadata": {},
   "source": [
    "### Basket IDs"
   ]
  },
  {
   "cell_type": "markdown",
   "metadata": {},
   "source": [
    "Then, we examined the existence of entries with the prefix *C* for the *BasketID* variable which indicates transactions that have been canceled since for each of those correspond a negative quantity:"
   ]
  },
  {
   "cell_type": "code",
   "execution_count": 152,
   "metadata": {},
   "outputs": [
    {
     "data": {
      "text/html": [
       "<div>\n",
       "<style scoped>\n",
       "    .dataframe tbody tr th:only-of-type {\n",
       "        vertical-align: middle;\n",
       "    }\n",
       "\n",
       "    .dataframe tbody tr th {\n",
       "        vertical-align: top;\n",
       "    }\n",
       "\n",
       "    .dataframe thead th {\n",
       "        text-align: right;\n",
       "    }\n",
       "</style>\n",
       "<table border=\"1\" class=\"dataframe\">\n",
       "  <thead>\n",
       "    <tr style=\"text-align: right;\">\n",
       "      <th></th>\n",
       "      <th>BasketID</th>\n",
       "      <th>BasketDate</th>\n",
       "      <th>Sale</th>\n",
       "      <th>CustomerID</th>\n",
       "      <th>CustomerCountry</th>\n",
       "      <th>ProdID</th>\n",
       "      <th>ProdDescr</th>\n",
       "      <th>Qta</th>\n",
       "    </tr>\n",
       "  </thead>\n",
       "  <tbody>\n",
       "    <tr>\n",
       "      <th>152</th>\n",
       "      <td>C536383</td>\n",
       "      <td>2010-01-12 09:49:00</td>\n",
       "      <td>4.65</td>\n",
       "      <td>15311</td>\n",
       "      <td>United Kingdom</td>\n",
       "      <td>35004C</td>\n",
       "      <td>SET OF 3 COLOURED  FLYING DUCKS</td>\n",
       "      <td>-1</td>\n",
       "    </tr>\n",
       "    <tr>\n",
       "      <th>233</th>\n",
       "      <td>C536391</td>\n",
       "      <td>2010-01-12 10:24:00</td>\n",
       "      <td>1.65</td>\n",
       "      <td>17548</td>\n",
       "      <td>United Kingdom</td>\n",
       "      <td>22556</td>\n",
       "      <td>PLASTERS IN TIN CIRCUS PARADE</td>\n",
       "      <td>-12</td>\n",
       "    </tr>\n",
       "    <tr>\n",
       "      <th>234</th>\n",
       "      <td>C536391</td>\n",
       "      <td>2010-01-12 10:24:00</td>\n",
       "      <td>0.29</td>\n",
       "      <td>17548</td>\n",
       "      <td>United Kingdom</td>\n",
       "      <td>21984</td>\n",
       "      <td>PACK OF 12 PINK PAISLEY TISSUES</td>\n",
       "      <td>-24</td>\n",
       "    </tr>\n",
       "    <tr>\n",
       "      <th>235</th>\n",
       "      <td>C536391</td>\n",
       "      <td>2010-01-12 10:24:00</td>\n",
       "      <td>0.29</td>\n",
       "      <td>17548</td>\n",
       "      <td>United Kingdom</td>\n",
       "      <td>21983</td>\n",
       "      <td>PACK OF 12 BLUE PAISLEY TISSUES</td>\n",
       "      <td>-24</td>\n",
       "    </tr>\n",
       "    <tr>\n",
       "      <th>236</th>\n",
       "      <td>C536391</td>\n",
       "      <td>2010-01-12 10:24:00</td>\n",
       "      <td>0.29</td>\n",
       "      <td>17548</td>\n",
       "      <td>United Kingdom</td>\n",
       "      <td>21980</td>\n",
       "      <td>PACK OF 12 RED RETROSPOT TISSUES</td>\n",
       "      <td>-24</td>\n",
       "    </tr>\n",
       "    <tr>\n",
       "      <th>...</th>\n",
       "      <td>...</td>\n",
       "      <td>...</td>\n",
       "      <td>...</td>\n",
       "      <td>...</td>\n",
       "      <td>...</td>\n",
       "      <td>...</td>\n",
       "      <td>...</td>\n",
       "      <td>...</td>\n",
       "    </tr>\n",
       "    <tr>\n",
       "      <th>399249</th>\n",
       "      <td>C581490</td>\n",
       "      <td>2011-09-12 09:57:00</td>\n",
       "      <td>1.95</td>\n",
       "      <td>14397</td>\n",
       "      <td>United Kingdom</td>\n",
       "      <td>22178</td>\n",
       "      <td>VICTORIAN GLASS HANGING T-LIGHT</td>\n",
       "      <td>-12</td>\n",
       "    </tr>\n",
       "    <tr>\n",
       "      <th>399250</th>\n",
       "      <td>C581490</td>\n",
       "      <td>2011-09-12 09:57:00</td>\n",
       "      <td>0.83</td>\n",
       "      <td>14397</td>\n",
       "      <td>United Kingdom</td>\n",
       "      <td>23144</td>\n",
       "      <td>ZINC T-LIGHT HOLDER STARS SMALL</td>\n",
       "      <td>-11</td>\n",
       "    </tr>\n",
       "    <tr>\n",
       "      <th>399498</th>\n",
       "      <td>C581568</td>\n",
       "      <td>2011-09-12 11:57:00</td>\n",
       "      <td>10.95</td>\n",
       "      <td>15311</td>\n",
       "      <td>United Kingdom</td>\n",
       "      <td>21258</td>\n",
       "      <td>VICTORIAN SEWING BOX LARGE</td>\n",
       "      <td>-5</td>\n",
       "    </tr>\n",
       "    <tr>\n",
       "      <th>399499</th>\n",
       "      <td>C581569</td>\n",
       "      <td>2011-09-12 11:58:00</td>\n",
       "      <td>1.25</td>\n",
       "      <td>17315</td>\n",
       "      <td>United Kingdom</td>\n",
       "      <td>84978</td>\n",
       "      <td>HANGING HEART JAR T-LIGHT HOLDER</td>\n",
       "      <td>-1</td>\n",
       "    </tr>\n",
       "    <tr>\n",
       "      <th>399500</th>\n",
       "      <td>C581569</td>\n",
       "      <td>2011-09-12 11:58:00</td>\n",
       "      <td>1.25</td>\n",
       "      <td>17315</td>\n",
       "      <td>United Kingdom</td>\n",
       "      <td>20979</td>\n",
       "      <td>36 PENCILS TUBE RED RETROSPOT</td>\n",
       "      <td>-5</td>\n",
       "    </tr>\n",
       "  </tbody>\n",
       "</table>\n",
       "<p>8506 rows × 8 columns</p>\n",
       "</div>"
      ],
      "text/plain": [
       "       BasketID          BasketDate   Sale CustomerID CustomerCountry  ProdID  \\\n",
       "152     C536383 2010-01-12 09:49:00   4.65      15311  United Kingdom  35004C   \n",
       "233     C536391 2010-01-12 10:24:00   1.65      17548  United Kingdom   22556   \n",
       "234     C536391 2010-01-12 10:24:00   0.29      17548  United Kingdom   21984   \n",
       "235     C536391 2010-01-12 10:24:00   0.29      17548  United Kingdom   21983   \n",
       "236     C536391 2010-01-12 10:24:00   0.29      17548  United Kingdom   21980   \n",
       "...         ...                 ...    ...        ...             ...     ...   \n",
       "399249  C581490 2011-09-12 09:57:00   1.95      14397  United Kingdom   22178   \n",
       "399250  C581490 2011-09-12 09:57:00   0.83      14397  United Kingdom   23144   \n",
       "399498  C581568 2011-09-12 11:57:00  10.95      15311  United Kingdom   21258   \n",
       "399499  C581569 2011-09-12 11:58:00   1.25      17315  United Kingdom   84978   \n",
       "399500  C581569 2011-09-12 11:58:00   1.25      17315  United Kingdom   20979   \n",
       "\n",
       "                                ProdDescr  Qta  \n",
       "152       SET OF 3 COLOURED  FLYING DUCKS   -1  \n",
       "233        PLASTERS IN TIN CIRCUS PARADE   -12  \n",
       "234      PACK OF 12 PINK PAISLEY TISSUES   -24  \n",
       "235      PACK OF 12 BLUE PAISLEY TISSUES   -24  \n",
       "236     PACK OF 12 RED RETROSPOT TISSUES   -24  \n",
       "...                                   ...  ...  \n",
       "399249    VICTORIAN GLASS HANGING T-LIGHT  -12  \n",
       "399250    ZINC T-LIGHT HOLDER STARS SMALL  -11  \n",
       "399498         VICTORIAN SEWING BOX LARGE   -5  \n",
       "399499   HANGING HEART JAR T-LIGHT HOLDER   -1  \n",
       "399500      36 PENCILS TUBE RED RETROSPOT   -5  \n",
       "\n",
       "[8506 rows x 8 columns]"
      ]
     },
     "execution_count": 152,
     "metadata": {},
     "output_type": "execute_result"
    }
   ],
   "source": [
    "canceled_orders = df[df['BasketID'].str.contains('C')]\n",
    "canceled_orders"
   ]
  },
  {
   "cell_type": "code",
   "execution_count": 153,
   "metadata": {},
   "outputs": [
    {
     "data": {
      "text/plain": [
       "True"
      ]
     },
     "execution_count": 153,
     "metadata": {},
     "output_type": "execute_result"
    }
   ],
   "source": [
    "(canceled_orders['Qta'] < 0).all()"
   ]
  },
  {
   "cell_type": "markdown",
   "metadata": {},
   "source": [
    "We decide to create a new variable in the dataframe that indicate if part of the order has been canceled."
   ]
  },
  {
   "cell_type": "code",
   "execution_count": 154,
   "metadata": {},
   "outputs": [],
   "source": [
    "df['QtaCanc'] = 0"
   ]
  },
  {
   "cell_type": "markdown",
   "metadata": {},
   "source": [
    "For the cancellations without counterparts, they are probably due to the fact that the buy orders were performed before December 2010, the point of entry of the dataset. Below, we make a census of the cancel orders and check for the existence of counterparts:"
   ]
  },
  {
   "cell_type": "code",
   "execution_count": 155,
   "metadata": {},
   "outputs": [],
   "source": [
    "counterpart_entries = []\n",
    "no_counterpart_entries = []\n",
    "\n",
    "for index, col in canceled_orders.iterrows():\n",
    "        \n",
    "    df_test = df[(df['CustomerID'] == col['CustomerID']) &\n",
    "                 (df['ProdID'] == col['ProdID']) & \n",
    "                 (df['BasketDate'] <= col['BasketDate']) & \n",
    "                 (df['Qta'] > 0)].copy()\n",
    "    \n",
    "    # cancelation without a counterpart\n",
    "    if df_test.shape[0] == 0:\n",
    "        no_counterpart_entries.append(index)\n",
    "    \n",
    "    # cancelation with a counterpart\n",
    "    elif df_test.shape[0] == 1:\n",
    "        index_order = df_test.index[0]\n",
    "        df.loc[index_order, 'QtaCanc'] = -col['Qta']\n",
    "        counterpart_entries.append(index)\n",
    "    \n",
    "    # multiple counterparts exist: we delete the most recent\n",
    "    elif df_test.shape[0] > 1:\n",
    "        df_test.sort_index(ascending=False, inplace=True)\n",
    "        for idx, val in df_test.iterrows():\n",
    "            if val['Qta'] >= -col['Qta']:\n",
    "                df.loc[idx, 'QtaCanc'] = -col['Qta']\n",
    "                counterpart_entries.append(index)\n",
    "                break"
   ]
  },
  {
   "cell_type": "code",
   "execution_count": 83,
   "metadata": {},
   "outputs": [
    {
     "name": "stdout",
     "output_type": "stream",
     "text": [
      "Number of canceled orders with a counterpart: 6109/8506 (71.82%)\n",
      "Number of canceled orders without a counterpart: 2358/8506 (27.72%)\n",
      "Number of remaining canceled orders (before December 2010)): 39/8506 (0.46%)\n"
     ]
    }
   ],
   "source": [
    "n_canceled = canceled_orders.shape[0]\n",
    "print('Number of canceled orders with a counterpart: {}/{} ({:.2f}%)'.format(\n",
    "    len(counterpart_entries), n_canceled, len(counterpart_entries) / n_canceled * 100))\n",
    "print('Number of canceled orders without a counterpart: {}/{} ({:.2f}%)'.format(\n",
    "    len(no_counterpart_entries), n_canceled, len(no_counterpart_entries) / n_canceled * 100))\n",
    "\n",
    "df.drop(counterpart_entries, inplace=True)\n",
    "df.drop(no_counterpart_entries, inplace=True)\n",
    "df.reset_index(drop=True, inplace=True)\n",
    "\n",
    "remaining_canceled = df[df['Qta'] < 0].shape[0]\n",
    "print('Number of remaining canceled orders (before December 2010)): {}/{} ({:.2f}%)'.format(\n",
    "    remaining_canceled, n_canceled, remaining_canceled / n_canceled * 100))"
   ]
  },
  {
   "cell_type": "code",
   "execution_count": 157,
   "metadata": {},
   "outputs": [
    {
     "data": {
      "text/plain": [
       "False"
      ]
     },
     "execution_count": 157,
     "metadata": {},
     "output_type": "execute_result"
    }
   ],
   "source": [
    "df = df[~(df['Qta'] == df['QtaCanc'])]\n",
    "df.reset_index(drop=True, inplace=True)\n",
    "(df['Qta'] == df['QtaCanc']).any()"
   ]
  },
  {
   "cell_type": "code",
   "execution_count": 158,
   "metadata": {},
   "outputs": [
    {
     "data": {
      "text/plain": [
       "False"
      ]
     },
     "execution_count": 158,
     "metadata": {},
     "output_type": "execute_result"
    }
   ],
   "source": [
    "df = df[~df['Qta'] < 0]\n",
    "df.reset_index(drop=True, inplace=True)\n",
    "(df['Qta'] < 0).any()"
   ]
  },
  {
   "cell_type": "code",
   "execution_count": 159,
   "metadata": {},
   "outputs": [],
   "source": [
    "df['Qta'] = df['Qta'] - df['QtaCanc']\n",
    "df.drop('QtaCanc', axis=1, inplace=True)"
   ]
  },
  {
   "cell_type": "markdown",
   "metadata": {},
   "source": [
    "### Customers Country"
   ]
  },
  {
   "cell_type": "code",
   "execution_count": 95,
   "metadata": {},
   "outputs": [
    {
     "data": {
      "text/plain": [
       "United Kingdom          347225\n",
       "Germany                   8606\n",
       "France                    7973\n",
       "EIRE                      7016\n",
       "Spain                     2400\n",
       "Netherlands               2322\n",
       "Belgium                   1931\n",
       "Switzerland               1807\n",
       "Portugal                  1411\n",
       "Australia                 1126\n",
       "Norway                    1042\n",
       "Channel Islands            743\n",
       "Italy                      736\n",
       "Finland                    647\n",
       "Cyprus                     600\n",
       "Sweden                     425\n",
       "Austria                    384\n",
       "Denmark                    365\n",
       "Poland                     325\n",
       "Japan                      320\n",
       "Israel                     245\n",
       "Unspecified                241\n",
       "Singapore                  215\n",
       "Iceland                    182\n",
       "Canada                     150\n",
       "Greece                     142\n",
       "Malta                      108\n",
       "United Arab Emirates        67\n",
       "USA                         67\n",
       "European Community          57\n",
       "RSA                         57\n",
       "Lebanon                     45\n",
       "Lithuania                   35\n",
       "Brazil                      32\n",
       "Czech Republic              23\n",
       "Bahrain                     17\n",
       "Saudi Arabia                 9\n",
       "Name: CustomerCountry, dtype: int64"
      ]
     },
     "execution_count": 95,
     "metadata": {},
     "output_type": "execute_result"
    }
   ],
   "source": [
    "df['CustomerCountry'].value_counts()"
   ]
  },
  {
   "cell_type": "code",
   "execution_count": 96,
   "metadata": {},
   "outputs": [
    {
     "data": {
      "image/png": "[encoded data removed]",
      "text/plain": [
       "<Figure size 432x288 with 1 Axes>"
      ]
     },
     "metadata": {
      "needs_background": "light"
     },
     "output_type": "display_data"
    }
   ],
   "source": [
    "df['CustomerCountry'].groupby(df['CustomerCountry']).count().plot(kind='bar');"
   ]
  },
  {
   "cell_type": "markdown",
   "metadata": {},
   "source": [
    "As customer clusters may vary by geography, we’ll restrict the data to only United Kingdom customers, which contains most of our customers historical data."
   ]
  },
  {
   "cell_type": "code",
   "execution_count": 97,
   "metadata": {},
   "outputs": [
    {
     "data": {
      "text/plain": [
       "False"
      ]
     },
     "execution_count": 97,
     "metadata": {},
     "output_type": "execute_result"
    }
   ],
   "source": [
    "df = df[df['CustomerCountry'] == 'United Kingdom']\n",
    "df.reset_index(drop=True, inplace=True)\n",
    "(df['CustomerCountry'] != 'United Kingdom').any()"
   ]
  },
  {
   "cell_type": "code",
   "execution_count": 98,
   "metadata": {},
   "outputs": [],
   "source": [
    "df.drop('CustomerCountry', axis=1, inplace=True)"
   ]
  },
  {
   "cell_type": "markdown",
   "metadata": {},
   "source": [
    "### Baskets Date"
   ]
  },
  {
   "cell_type": "markdown",
   "metadata": {},
   "source": [
    "We noticed that 2010 data aren't enough representative, they are only a small fraction of the dataset and they appear to be only around the 12th of the month; in contrast 2011's data are more uniformely distributed, so we decide to keep only the latter:"
   ]
  },
  {
   "cell_type": "code",
   "execution_count": 99,
   "metadata": {},
   "outputs": [
    {
     "data": {
      "image/png": "[encoded data removed]",
      "text/plain": [
       "<Figure size 432x288 with 1 Axes>"
      ]
     },
     "metadata": {
      "needs_background": "light"
     },
     "output_type": "display_data"
    }
   ],
   "source": [
    "df['BasketDate'].groupby(df['BasketDate'].dt.year).count().plot(kind='bar');"
   ]
  },
  {
   "cell_type": "code",
   "execution_count": 100,
   "metadata": {},
   "outputs": [
    {
     "data": {
      "image/png": "[encoded data removed]",
      "text/plain": [
       "<Figure size 432x288 with 1 Axes>"
      ]
     },
     "metadata": {
      "needs_background": "light"
     },
     "output_type": "display_data"
    }
   ],
   "source": [
    "fig, ax = plt.subplots(1,1)\n",
    "df[df['BasketDate'].dt.year == 2010]['BasketDate'].dt.day.plot(kind='kde', ax=ax);\n",
    "df[df['BasketDate'].dt.year == 2011]['BasketDate'].dt.day.plot(kind='kde', ax=ax);"
   ]
  },
  {
   "cell_type": "code",
   "execution_count": 101,
   "metadata": {},
   "outputs": [
    {
     "data": {
      "text/plain": [
       "False"
      ]
     },
     "execution_count": 101,
     "metadata": {},
     "output_type": "execute_result"
    }
   ],
   "source": [
    "df = df[df['BasketDate'].dt.year == 2011]\n",
    "df.reset_index(drop=True, inplace=True)\n",
    "(df['BasketDate'].dt.year == 2010).any()"
   ]
  },
  {
   "cell_type": "code",
   "execution_count": 102,
   "metadata": {},
   "outputs": [
    {
     "data": {
      "image/png": "[encoded data removed]",
      "text/plain": [
       "<Figure size 432x288 with 1 Axes>"
      ]
     },
     "metadata": {
      "needs_background": "light"
     },
     "output_type": "display_data"
    }
   ],
   "source": [
    "df['BasketDate'].groupby(df['BasketDate'].dt.hour).count().plot(kind='bar');"
   ]
  },
  {
   "cell_type": "markdown",
   "metadata": {},
   "source": [
    "### Sales"
   ]
  },
  {
   "cell_type": "code",
   "execution_count": 103,
   "metadata": {},
   "outputs": [
    {
     "data": {
      "text/html": [
       "<div>\n",
       "<style scoped>\n",
       "    .dataframe tbody tr th:only-of-type {\n",
       "        vertical-align: middle;\n",
       "    }\n",
       "\n",
       "    .dataframe tbody tr th {\n",
       "        vertical-align: top;\n",
       "    }\n",
       "\n",
       "    .dataframe thead th {\n",
       "        text-align: right;\n",
       "    }\n",
       "</style>\n",
       "<table border=\"1\" class=\"dataframe\">\n",
       "  <thead>\n",
       "    <tr style=\"text-align: right;\">\n",
       "      <th></th>\n",
       "      <th>BasketID</th>\n",
       "      <th>BasketDate</th>\n",
       "      <th>Sale</th>\n",
       "      <th>CustomerID</th>\n",
       "      <th>ProdID</th>\n",
       "      <th>ProdDescr</th>\n",
       "      <th>Qta</th>\n",
       "    </tr>\n",
       "  </thead>\n",
       "  <tbody>\n",
       "    <tr>\n",
       "      <th>2694</th>\n",
       "      <td>540372</td>\n",
       "      <td>2011-06-01 16:41:00</td>\n",
       "      <td>0.0</td>\n",
       "      <td>13081</td>\n",
       "      <td>22090</td>\n",
       "      <td>PAPER BUNTING RETROSPOT</td>\n",
       "      <td>24</td>\n",
       "    </tr>\n",
       "    <tr>\n",
       "      <th>2696</th>\n",
       "      <td>540372</td>\n",
       "      <td>2011-06-01 16:41:00</td>\n",
       "      <td>0.0</td>\n",
       "      <td>13081</td>\n",
       "      <td>22553</td>\n",
       "      <td>PLASTERS IN TIN SKULLS</td>\n",
       "      <td>24</td>\n",
       "    </tr>\n",
       "    <tr>\n",
       "      <th>23344</th>\n",
       "      <td>543599</td>\n",
       "      <td>2011-10-02 13:08:00</td>\n",
       "      <td>0.0</td>\n",
       "      <td>17560</td>\n",
       "      <td>84535B</td>\n",
       "      <td>FAIRY CAKES NOTEBOOK A6 SIZE</td>\n",
       "      <td>16</td>\n",
       "    </tr>\n",
       "    <tr>\n",
       "      <th>51046</th>\n",
       "      <td>547417</td>\n",
       "      <td>2011-03-23 10:25:00</td>\n",
       "      <td>0.0</td>\n",
       "      <td>13239</td>\n",
       "      <td>22062</td>\n",
       "      <td>CERAMIC BOWL WITH LOVE HEART DESIGN</td>\n",
       "      <td>36</td>\n",
       "    </tr>\n",
       "    <tr>\n",
       "      <th>57267</th>\n",
       "      <td>548318</td>\n",
       "      <td>2011-03-30 12:45:00</td>\n",
       "      <td>0.0</td>\n",
       "      <td>13113</td>\n",
       "      <td>22055</td>\n",
       "      <td>MINI CAKE STAND  HANGING STRAWBERY</td>\n",
       "      <td>5</td>\n",
       "    </tr>\n",
       "    <tr>\n",
       "      <th>61409</th>\n",
       "      <td>548871</td>\n",
       "      <td>2011-04-04 14:42:00</td>\n",
       "      <td>0.0</td>\n",
       "      <td>14410</td>\n",
       "      <td>22162</td>\n",
       "      <td>HEART GARLAND RUSTIC PADDED</td>\n",
       "      <td>2</td>\n",
       "    </tr>\n",
       "    <tr>\n",
       "      <th>89324</th>\n",
       "      <td>553000</td>\n",
       "      <td>2011-12-05 15:21:00</td>\n",
       "      <td>0.0</td>\n",
       "      <td>17667</td>\n",
       "      <td>47566</td>\n",
       "      <td>PARTY BUNTING</td>\n",
       "      <td>4</td>\n",
       "    </tr>\n",
       "    <tr>\n",
       "      <th>146507</th>\n",
       "      <td>561284</td>\n",
       "      <td>2011-07-26 12:24:00</td>\n",
       "      <td>0.0</td>\n",
       "      <td>16818</td>\n",
       "      <td>22167</td>\n",
       "      <td>OVAL WALL MIRROR DIAMANTE</td>\n",
       "      <td>1</td>\n",
       "    </tr>\n",
       "    <tr>\n",
       "      <th>215068</th>\n",
       "      <td>569716</td>\n",
       "      <td>2011-06-10 08:17:00</td>\n",
       "      <td>0.0</td>\n",
       "      <td>15804</td>\n",
       "      <td>22778</td>\n",
       "      <td>GLASS CLOCHE SMALL</td>\n",
       "      <td>1</td>\n",
       "    </tr>\n",
       "    <tr>\n",
       "      <th>243218</th>\n",
       "      <td>572893</td>\n",
       "      <td>2011-10-26 14:36:00</td>\n",
       "      <td>0.0</td>\n",
       "      <td>18059</td>\n",
       "      <td>21208</td>\n",
       "      <td>PASTEL COLOUR HONEYCOMB FAN</td>\n",
       "      <td>5</td>\n",
       "    </tr>\n",
       "    <tr>\n",
       "      <th>254718</th>\n",
       "      <td>574175</td>\n",
       "      <td>2011-03-11 11:47:00</td>\n",
       "      <td>0.0</td>\n",
       "      <td>14110</td>\n",
       "      <td>22065</td>\n",
       "      <td>CHRISTMAS PUDDING TRINKET POT</td>\n",
       "      <td>12</td>\n",
       "    </tr>\n",
       "    <tr>\n",
       "      <th>262139</th>\n",
       "      <td>574879</td>\n",
       "      <td>2011-07-11 13:22:00</td>\n",
       "      <td>0.0</td>\n",
       "      <td>13014</td>\n",
       "      <td>22625</td>\n",
       "      <td>RED KITCHEN SCALES</td>\n",
       "      <td>2</td>\n",
       "    </tr>\n",
       "    <tr>\n",
       "      <th>262736</th>\n",
       "      <td>574920</td>\n",
       "      <td>2011-07-11 16:34:00</td>\n",
       "      <td>0.0</td>\n",
       "      <td>13985</td>\n",
       "      <td>22899</td>\n",
       "      <td>CHILDREN'S APRON DOLLY GIRL</td>\n",
       "      <td>1</td>\n",
       "    </tr>\n",
       "    <tr>\n",
       "      <th>262737</th>\n",
       "      <td>574920</td>\n",
       "      <td>2011-07-11 16:34:00</td>\n",
       "      <td>0.0</td>\n",
       "      <td>13985</td>\n",
       "      <td>23480</td>\n",
       "      <td>MINI LIGHTS WOODLAND MUSHROOMS</td>\n",
       "      <td>1</td>\n",
       "    </tr>\n",
       "    <tr>\n",
       "      <th>267534</th>\n",
       "      <td>575579</td>\n",
       "      <td>2011-10-11 11:49:00</td>\n",
       "      <td>0.0</td>\n",
       "      <td>13081</td>\n",
       "      <td>22437</td>\n",
       "      <td>SET OF 9 BLACK SKULL BALLOONS</td>\n",
       "      <td>20</td>\n",
       "    </tr>\n",
       "    <tr>\n",
       "      <th>267535</th>\n",
       "      <td>575579</td>\n",
       "      <td>2011-10-11 11:49:00</td>\n",
       "      <td>0.0</td>\n",
       "      <td>13081</td>\n",
       "      <td>22089</td>\n",
       "      <td>PAPER BUNTING VINTAGE PAISLEY</td>\n",
       "      <td>24</td>\n",
       "    </tr>\n",
       "    <tr>\n",
       "      <th>283701</th>\n",
       "      <td>577129</td>\n",
       "      <td>2011-11-17 19:52:00</td>\n",
       "      <td>0.0</td>\n",
       "      <td>15602</td>\n",
       "      <td>22464</td>\n",
       "      <td>HANGING METAL HEART LANTERN</td>\n",
       "      <td>4</td>\n",
       "    </tr>\n",
       "    <tr>\n",
       "      <th>299326</th>\n",
       "      <td>578841</td>\n",
       "      <td>2011-11-25 15:57:00</td>\n",
       "      <td>0.0</td>\n",
       "      <td>13256</td>\n",
       "      <td>84826</td>\n",
       "      <td>ASSTD DESIGN 3D PAPER STICKERS</td>\n",
       "      <td>12540</td>\n",
       "    </tr>\n",
       "  </tbody>\n",
       "</table>\n",
       "</div>"
      ],
      "text/plain": [
       "       BasketID          BasketDate  Sale CustomerID  ProdID  \\\n",
       "2694     540372 2011-06-01 16:41:00   0.0      13081   22090   \n",
       "2696     540372 2011-06-01 16:41:00   0.0      13081   22553   \n",
       "23344    543599 2011-10-02 13:08:00   0.0      17560  84535B   \n",
       "51046    547417 2011-03-23 10:25:00   0.0      13239   22062   \n",
       "57267    548318 2011-03-30 12:45:00   0.0      13113   22055   \n",
       "61409    548871 2011-04-04 14:42:00   0.0      14410   22162   \n",
       "89324    553000 2011-12-05 15:21:00   0.0      17667   47566   \n",
       "146507   561284 2011-07-26 12:24:00   0.0      16818   22167   \n",
       "215068   569716 2011-06-10 08:17:00   0.0      15804   22778   \n",
       "243218   572893 2011-10-26 14:36:00   0.0      18059   21208   \n",
       "254718   574175 2011-03-11 11:47:00   0.0      14110   22065   \n",
       "262139   574879 2011-07-11 13:22:00   0.0      13014   22625   \n",
       "262736   574920 2011-07-11 16:34:00   0.0      13985   22899   \n",
       "262737   574920 2011-07-11 16:34:00   0.0      13985   23480   \n",
       "267534   575579 2011-10-11 11:49:00   0.0      13081   22437   \n",
       "267535   575579 2011-10-11 11:49:00   0.0      13081   22089   \n",
       "283701   577129 2011-11-17 19:52:00   0.0      15602   22464   \n",
       "299326   578841 2011-11-25 15:57:00   0.0      13256   84826   \n",
       "\n",
       "                                  ProdDescr    Qta  \n",
       "2694                PAPER BUNTING RETROSPOT     24  \n",
       "2696                 PLASTERS IN TIN SKULLS     24  \n",
       "23344          FAIRY CAKES NOTEBOOK A6 SIZE     16  \n",
       "51046   CERAMIC BOWL WITH LOVE HEART DESIGN     36  \n",
       "57267    MINI CAKE STAND  HANGING STRAWBERY      5  \n",
       "61409           HEART GARLAND RUSTIC PADDED      2  \n",
       "89324                         PARTY BUNTING      4  \n",
       "146507           OVAL WALL MIRROR DIAMANTE       1  \n",
       "215068                   GLASS CLOCHE SMALL      1  \n",
       "243218          PASTEL COLOUR HONEYCOMB FAN      5  \n",
       "254718       CHRISTMAS PUDDING TRINKET POT      12  \n",
       "262139                   RED KITCHEN SCALES      2  \n",
       "262736         CHILDREN'S APRON DOLLY GIRL       1  \n",
       "262737       MINI LIGHTS WOODLAND MUSHROOMS      1  \n",
       "267534        SET OF 9 BLACK SKULL BALLOONS     20  \n",
       "267535        PAPER BUNTING VINTAGE PAISLEY     24  \n",
       "283701          HANGING METAL HEART LANTERN      4  \n",
       "299326       ASSTD DESIGN 3D PAPER STICKERS  12540  "
      ]
     },
     "execution_count": 103,
     "metadata": {},
     "output_type": "execute_result"
    }
   ],
   "source": [
    "df[df['Sale'] == 0]"
   ]
  },
  {
   "cell_type": "code",
   "execution_count": 104,
   "metadata": {},
   "outputs": [
    {
     "data": {
      "text/plain": [
       "False"
      ]
     },
     "execution_count": 104,
     "metadata": {},
     "output_type": "execute_result"
    }
   ],
   "source": [
    "df['Sale'].replace(0, np.nan, inplace=True)\n",
    "df['Sale'] = df.groupby('ProdID')['Sale'].transform(lambda x: x.replace(to_replace=np.nan, value=x.mean()))\n",
    "df['Sale'].isnull().any()"
   ]
  },
  {
   "cell_type": "code",
   "execution_count": 105,
   "metadata": {},
   "outputs": [
    {
     "data": {
      "image/png": "[encoded data removed]",
      "text/plain": [
       "<Figure size 432x288 with 1 Axes>"
      ]
     },
     "metadata": {
      "needs_background": "light"
     },
     "output_type": "display_data"
    }
   ],
   "source": [
    "sns.distplot(df['Sale'])\n",
    "plt.title('Sale distribution')\n",
    "plt.xlabel('Sale')\n",
    "plt.ylabel('count');"
   ]
  },
  {
   "cell_type": "code",
   "execution_count": 106,
   "metadata": {},
   "outputs": [
    {
     "data": {
      "image/png": "[encoded data removed]",
      "text/plain": [
       "<Figure size 432x288 with 1 Axes>"
      ]
     },
     "metadata": {
      "needs_background": "light"
     },
     "output_type": "display_data"
    }
   ],
   "source": [
    "df.boxplot('Sale');"
   ]
  },
  {
   "cell_type": "code",
   "execution_count": 130,
   "metadata": {},
   "outputs": [
    {
     "data": {
      "text/html": [
       "<div>\n",
       "<style scoped>\n",
       "    .dataframe tbody tr th:only-of-type {\n",
       "        vertical-align: middle;\n",
       "    }\n",
       "\n",
       "    .dataframe tbody tr th {\n",
       "        vertical-align: top;\n",
       "    }\n",
       "\n",
       "    .dataframe thead th {\n",
       "        text-align: right;\n",
       "    }\n",
       "</style>\n",
       "<table border=\"1\" class=\"dataframe\">\n",
       "  <thead>\n",
       "    <tr style=\"text-align: right;\">\n",
       "      <th></th>\n",
       "      <th>BasketID</th>\n",
       "      <th>BasketDate</th>\n",
       "      <th>Sale</th>\n",
       "      <th>CustomerID</th>\n",
       "      <th>ProdID</th>\n",
       "      <th>ProdDescr</th>\n",
       "      <th>Qta</th>\n",
       "    </tr>\n",
       "  </thead>\n",
       "  <tbody>\n",
       "    <tr>\n",
       "      <th>44144</th>\n",
       "      <td>546480</td>\n",
       "      <td>2011-03-14 11:38:00</td>\n",
       "      <td>295.0</td>\n",
       "      <td>13452</td>\n",
       "      <td>22656</td>\n",
       "      <td>VINTAGE BLUE KITCHEN CABINET</td>\n",
       "      <td>1</td>\n",
       "    </tr>\n",
       "    <tr>\n",
       "      <th>53851</th>\n",
       "      <td>547814</td>\n",
       "      <td>2011-03-25 14:19:00</td>\n",
       "      <td>295.0</td>\n",
       "      <td>13452</td>\n",
       "      <td>22656</td>\n",
       "      <td>VINTAGE BLUE KITCHEN CABINET</td>\n",
       "      <td>1</td>\n",
       "    </tr>\n",
       "    <tr>\n",
       "      <th>78673</th>\n",
       "      <td>551393</td>\n",
       "      <td>2011-04-28 12:22:00</td>\n",
       "      <td>295.0</td>\n",
       "      <td>14973</td>\n",
       "      <td>22656</td>\n",
       "      <td>VINTAGE BLUE KITCHEN CABINET</td>\n",
       "      <td>1</td>\n",
       "    </tr>\n",
       "    <tr>\n",
       "      <th>101864</th>\n",
       "      <td>554836</td>\n",
       "      <td>2011-05-26 16:25:00</td>\n",
       "      <td>295.0</td>\n",
       "      <td>13015</td>\n",
       "      <td>22655</td>\n",
       "      <td>VINTAGE RED KITCHEN CABINET</td>\n",
       "      <td>1</td>\n",
       "    </tr>\n",
       "    <tr>\n",
       "      <th>112556</th>\n",
       "      <td>556446</td>\n",
       "      <td>2011-10-06 15:33:00</td>\n",
       "      <td>649.5</td>\n",
       "      <td>15098</td>\n",
       "      <td>22502</td>\n",
       "      <td>PICNIC BASKET WICKER 60 PIECES</td>\n",
       "      <td>1</td>\n",
       "    </tr>\n",
       "  </tbody>\n",
       "</table>\n",
       "</div>"
      ],
      "text/plain": [
       "       BasketID          BasketDate   Sale CustomerID ProdID  \\\n",
       "44144    546480 2011-03-14 11:38:00  295.0      13452  22656   \n",
       "53851    547814 2011-03-25 14:19:00  295.0      13452  22656   \n",
       "78673    551393 2011-04-28 12:22:00  295.0      14973  22656   \n",
       "101864   554836 2011-05-26 16:25:00  295.0      13015  22655   \n",
       "112556   556446 2011-10-06 15:33:00  649.5      15098  22502   \n",
       "\n",
       "                             ProdDescr  Qta  \n",
       "44144     VINTAGE BLUE KITCHEN CABINET    1  \n",
       "53851     VINTAGE BLUE KITCHEN CABINET    1  \n",
       "78673     VINTAGE BLUE KITCHEN CABINET    1  \n",
       "101864     VINTAGE RED KITCHEN CABINET    1  \n",
       "112556  PICNIC BASKET WICKER 60 PIECES    1  "
      ]
     },
     "execution_count": 130,
     "metadata": {},
     "output_type": "execute_result"
    }
   ],
   "source": [
    "df[df['Sale'] > 200]"
   ]
  },
  {
   "cell_type": "markdown",
   "metadata": {},
   "source": [
    "We can use the interquartile range method to reduce the outliers and distribution skewness:\n",
    "\n",
    "- IQR = Q3 - Q1\n",
    "- lower bound = Q1 - 1.5 * IQR\n",
    "- upper bound = Q3 + 1.5 * IQR"
   ]
  },
  {
   "cell_type": "code",
   "execution_count": 107,
   "metadata": {},
   "outputs": [],
   "source": [
    "# q1 = df['Sale'].quantile(0.25)\n",
    "# q3 = df['Sale'].quantile(0.75)\n",
    "# iqr = q3 - q1 \n",
    "# lb = q1 - 1.5 * iqr\n",
    "# ub = q3 + 1.5 * iqr\n",
    "\n",
    "# print('Q1 = {}'.format(q1))\n",
    "# print('Q3 = {}'.format(q3))\n",
    "# print('IQR = Q3 - Q1 = {}'.format(iqr))\n",
    "# print('lower bound = Q1 - 1.5 * IQR = {}'.format(lb))\n",
    "# print('upper bound = Q1 - 1.5 * IQR = {}'.format(ub))"
   ]
  },
  {
   "cell_type": "code",
   "execution_count": 108,
   "metadata": {},
   "outputs": [],
   "source": [
    "# df = df[~((df['Sale'] < lb) | (df['Sale'] > ub))]\n",
    "# df"
   ]
  },
  {
   "cell_type": "code",
   "execution_count": 119,
   "metadata": {},
   "outputs": [],
   "source": [
    "# sns.distplot(df['Sale'])\n",
    "# plt.title('Sale distribution')\n",
    "# plt.xlabel('Sale')\n",
    "# plt.ylabel('count');"
   ]
  },
  {
   "cell_type": "code",
   "execution_count": 120,
   "metadata": {},
   "outputs": [],
   "source": [
    "# df.boxplot('Sale');"
   ]
  },
  {
   "cell_type": "markdown",
   "metadata": {},
   "source": [
    "### Quantities"
   ]
  },
  {
   "cell_type": "code",
   "execution_count": 121,
   "metadata": {},
   "outputs": [
    {
     "data": {
      "image/png": "[encoded data removed]",
      "text/plain": [
       "<Figure size 432x288 with 1 Axes>"
      ]
     },
     "metadata": {
      "needs_background": "light"
     },
     "output_type": "display_data"
    }
   ],
   "source": [
    "sns.distplot(df['Qta'])\n",
    "plt.title('Qta distribution')\n",
    "plt.xlabel('Qta')\n",
    "plt.ylabel('count');"
   ]
  },
  {
   "cell_type": "code",
   "execution_count": 122,
   "metadata": {},
   "outputs": [
    {
     "data": {
      "image/png": "[encoded data removed]",
      "text/plain": [
       "<Figure size 432x288 with 1 Axes>"
      ]
     },
     "metadata": {
      "needs_background": "light"
     },
     "output_type": "display_data"
    }
   ],
   "source": [
    "df.boxplot('Qta');"
   ]
  },
  {
   "cell_type": "code",
   "execution_count": 131,
   "metadata": {},
   "outputs": [
    {
     "data": {
      "text/html": [
       "<div>\n",
       "<style scoped>\n",
       "    .dataframe tbody tr th:only-of-type {\n",
       "        vertical-align: middle;\n",
       "    }\n",
       "\n",
       "    .dataframe tbody tr th {\n",
       "        vertical-align: top;\n",
       "    }\n",
       "\n",
       "    .dataframe thead th {\n",
       "        text-align: right;\n",
       "    }\n",
       "</style>\n",
       "<table border=\"1\" class=\"dataframe\">\n",
       "  <thead>\n",
       "    <tr style=\"text-align: right;\">\n",
       "      <th></th>\n",
       "      <th>BasketID</th>\n",
       "      <th>BasketDate</th>\n",
       "      <th>Sale</th>\n",
       "      <th>CustomerID</th>\n",
       "      <th>ProdID</th>\n",
       "      <th>ProdDescr</th>\n",
       "      <th>Qta</th>\n",
       "    </tr>\n",
       "  </thead>\n",
       "  <tbody>\n",
       "    <tr>\n",
       "      <th>29933</th>\n",
       "      <td>544612</td>\n",
       "      <td>2011-02-22 10:43:00</td>\n",
       "      <td>0.82000</td>\n",
       "      <td>18087</td>\n",
       "      <td>22053</td>\n",
       "      <td>EMPIRE DESIGN ROSETTE</td>\n",
       "      <td>3906</td>\n",
       "    </tr>\n",
       "    <tr>\n",
       "      <th>102147</th>\n",
       "      <td>554868</td>\n",
       "      <td>2011-05-27 10:52:00</td>\n",
       "      <td>0.72000</td>\n",
       "      <td>13135</td>\n",
       "      <td>22197</td>\n",
       "      <td>SMALL POPCORN HOLDER</td>\n",
       "      <td>4300</td>\n",
       "    </tr>\n",
       "    <tr>\n",
       "      <th>244096</th>\n",
       "      <td>573008</td>\n",
       "      <td>2011-10-27 12:26:00</td>\n",
       "      <td>0.21000</td>\n",
       "      <td>12901</td>\n",
       "      <td>84077</td>\n",
       "      <td>WORLD WAR 2 GLIDERS ASSTD DESIGNS</td>\n",
       "      <td>4800</td>\n",
       "    </tr>\n",
       "    <tr>\n",
       "      <th>299326</th>\n",
       "      <td>578841</td>\n",
       "      <td>2011-11-25 15:57:00</td>\n",
       "      <td>0.57381</td>\n",
       "      <td>13256</td>\n",
       "      <td>84826</td>\n",
       "      <td>ASSTD DESIGN 3D PAPER STICKERS</td>\n",
       "      <td>12540</td>\n",
       "    </tr>\n",
       "  </tbody>\n",
       "</table>\n",
       "</div>"
      ],
      "text/plain": [
       "       BasketID          BasketDate     Sale CustomerID ProdID  \\\n",
       "29933    544612 2011-02-22 10:43:00  0.82000      18087  22053   \n",
       "102147   554868 2011-05-27 10:52:00  0.72000      13135  22197   \n",
       "244096   573008 2011-10-27 12:26:00  0.21000      12901  84077   \n",
       "299326   578841 2011-11-25 15:57:00  0.57381      13256  84826   \n",
       "\n",
       "                                ProdDescr    Qta  \n",
       "29933               EMPIRE DESIGN ROSETTE   3906  \n",
       "102147               SMALL POPCORN HOLDER   4300  \n",
       "244096  WORLD WAR 2 GLIDERS ASSTD DESIGNS   4800  \n",
       "299326     ASSTD DESIGN 3D PAPER STICKERS  12540  "
      ]
     },
     "execution_count": 131,
     "metadata": {},
     "output_type": "execute_result"
    }
   ],
   "source": [
    "df[df['Qta'] > 3800]"
   ]
  },
  {
   "cell_type": "markdown",
   "metadata": {},
   "source": [
    "We can use the interquartile range method to reduce the outliers and distribution skewness:\n",
    "\n",
    "- IQR = Q3 - Q1\n",
    "- lower bound = Q1 - 1.5 * IQR\n",
    "- upper bound = Q3 + 1.5 * IQR"
   ]
  },
  {
   "cell_type": "code",
   "execution_count": 123,
   "metadata": {},
   "outputs": [],
   "source": [
    "# q1 = df['Qta'].quantile(0.25)\n",
    "# q3 = df['Qta'].quantile(0.75)\n",
    "# iqr = q3 - q1\n",
    "# lb = q1 - 1.5 * iqr\n",
    "# ub = q3 + 1.5 * iqr\n",
    "\n",
    "# print('Q1 = {}'.format(q1))\n",
    "# print('Q3 = {}'.format(q3))\n",
    "# print('IQR = Q3 - Q1 = {}'.format(iqr))\n",
    "# print('lower bound = Q1 - 1.5 * IQR = {}'.format(lb))\n",
    "# print('upper bound = Q3 + 1.5 * IQR = {}'.format(ub))"
   ]
  },
  {
   "cell_type": "code",
   "execution_count": 124,
   "metadata": {},
   "outputs": [],
   "source": [
    "# df = df[~((df['Qta'] < lb) | (df['Qta'] > ub))]\n",
    "# df"
   ]
  },
  {
   "cell_type": "code",
   "execution_count": 125,
   "metadata": {},
   "outputs": [],
   "source": [
    "# sns.distplot(df['Qta'])\n",
    "# plt.title('Qta distribution')\n",
    "# plt.xlabel('Qta')\n",
    "# plt.ylabel('count');"
   ]
  },
  {
   "cell_type": "code",
   "execution_count": 126,
   "metadata": {},
   "outputs": [],
   "source": [
    "# df.boxplot('Qta');"
   ]
  },
  {
   "cell_type": "markdown",
   "metadata": {},
   "source": [
    "### Products Description"
   ]
  },
  {
   "cell_type": "code",
   "execution_count": 132,
   "metadata": {},
   "outputs": [
    {
     "data": {
      "text/plain": [
       "False"
      ]
     },
     "execution_count": 132,
     "metadata": {},
     "output_type": "execute_result"
    }
   ],
   "source": [
    "df['ProdDescr'].isnull().any()"
   ]
  },
  {
   "cell_type": "markdown",
   "metadata": {},
   "source": [
    "Now we need to remove the entries corresponding to lower or mixed case *ProdDescr* variable which will be not effective for the feature extraction step since they don't represent a product description:"
   ]
  },
  {
   "cell_type": "code",
   "execution_count": 133,
   "metadata": {},
   "outputs": [
    {
     "data": {
      "text/plain": [
       "array(['BAG 125g SWIRLY MARBLES', 'BAG 500g SWIRLY MARBLES',\n",
       "       '3 TRADITIONAl BISCUIT CUTTERS  SET',\n",
       "       'FRENCH BLUE METAL DOOR SIGN No', 'NUMBER TILE VINTAGE FONT No ',\n",
       "       'BAG 250g SWIRLY MARBLES', 'POLYESTER FILLER PAD 40x40cm',\n",
       "       'POLYESTER FILLER PAD 45x45cm', 'FOLK ART GREETING CARD,pack/12',\n",
       "       'POLYESTER FILLER PAD 45x30cm', 'POLYESTER FILLER PAD 30CMx30CM',\n",
       "       'ESSENTIAL BALM 3.5g TIN IN ENVELOPE',\n",
       "       'NUMBER TILE COTTAGE GARDEN No', 'POLYESTER FILLER PAD 65CMx65CM',\n",
       "       'POLYESTER FILLER PAD 60x40cm', 'FLOWERS HANDBAG blue and orange',\n",
       "       'Next Day Carriage', 'THE KING GIFT BAG 25x24x12cm',\n",
       "       'High Resolution Image'], dtype=object)"
      ]
     },
     "execution_count": 133,
     "metadata": {},
     "output_type": "execute_result"
    }
   ],
   "source": [
    "df[(df['ProdDescr'].str.islower()) | # lower case\n",
    "   (~df['ProdDescr'].str.islower() & ~df['ProdDescr'].str.isupper())]['ProdDescr'].unique() # mixed case"
   ]
  },
  {
   "cell_type": "code",
   "execution_count": 134,
   "metadata": {},
   "outputs": [
    {
     "data": {
      "text/plain": [
       "array(['Next Day Carriage', 'High Resolution Image'], dtype=object)"
      ]
     },
     "execution_count": 134,
     "metadata": {},
     "output_type": "execute_result"
    }
   ],
   "source": [
    "df['ProdDescr'] = df['ProdDescr'].str.replace('[^\\w\\s]', '') # removing non-word chars (+, -, /, etc.) but leaving spaces\n",
    "df['ProdDescr'] = df['ProdDescr'].str.replace('[0-9]+[a-zA-Z]*', '') # removing words containing numbers\n",
    "\n",
    "df['ProdDescr'] = df['ProdDescr'].apply(lambda descr: ' '.join(descr.split())) # removing multiple whitespaces\n",
    "\n",
    "# adjusting specific errors\n",
    "df['ProdDescr'] = df['ProdDescr'].str.replace('No', '') # removing 'No'\n",
    "df['ProdDescr'].replace({'TRADITIONAl BISCUIT CUTTERS SET': 'TRADITIONAl BISCUIT CUTTERS SET'.upper()}, inplace=True)\n",
    "df['ProdDescr'].replace({'FLOWERS HANDBAG blue and orange': 'FLOWERS HANDBAG blue and orange'.upper()}, inplace=True)\n",
    "df['ProdDescr'].replace({'FOLK ART GREETING CARDpack': 'FOLK ART GREETING CARD'}, inplace=True)\n",
    "\n",
    "bad_descr = df[(df['ProdDescr'].str.islower()) | # lower case\n",
    "               (~df['ProdDescr'].str.islower() & ~df['ProdDescr'].str.isupper())]['ProdDescr'].unique() # mixed case\n",
    "bad_descr"
   ]
  },
  {
   "cell_type": "code",
   "execution_count": 135,
   "metadata": {},
   "outputs": [
    {
     "data": {
      "text/plain": [
       "False"
      ]
     },
     "execution_count": 135,
     "metadata": {},
     "output_type": "execute_result"
    }
   ],
   "source": [
    "df = df[~df['ProdDescr'].isin(bad_descr)]\n",
    "df.reset_index(drop=True, inplace=True)\n",
    "df['ProdDescr'].isin(bad_descr).any()"
   ]
  },
  {
   "cell_type": "markdown",
   "metadata": {},
   "source": [
    "## Saving the new dataset"
   ]
  },
  {
   "cell_type": "code",
   "execution_count": 138,
   "metadata": {},
   "outputs": [],
   "source": [
    "df.to_csv('../dataset/new_customer_supermarket.csv', sep='\\t', float_format='%.2f')"
   ]
  }
 ],
 "metadata": {
  "kernelspec": {
   "display_name": "Python 3",
   "language": "python",
   "name": "python3"
  },
  "language_info": {
   "codemirror_mode": {
    "name": "ipython",
    "version": 3
   },
   "file_extension": ".py",
   "mimetype": "text/x-python",
   "name": "python",
   "nbconvert_exporter": "python",
   "pygments_lexer": "ipython3",
   "version": "3.8.6"
  }
 },
 "nbformat": 4,
 "nbformat_minor": 4
}
