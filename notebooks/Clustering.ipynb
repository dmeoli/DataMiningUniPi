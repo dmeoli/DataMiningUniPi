{
 "cells": [
  {
   "cell_type": "markdown",
   "metadata": {},
   "source": [
    "# Task 2: Clustering"
   ]
  },
  {
   "cell_type": "code",
   "execution_count": 196,
   "metadata": {},
   "outputs": [],
   "source": [
    "import numpy as np\n",
    "import pandas as pd\n",
    "import matplotlib.pyplot as plt"
   ]
  },
  {
   "cell_type": "markdown",
   "metadata": {},
   "source": [
    "## Loading the Customer Profile model"
   ]
  },
  {
   "cell_type": "code",
   "execution_count": 197,
   "metadata": {},
   "outputs": [
    {
     "data": {
      "text/html": [
       "<div>\n",
       "<style scoped>\n",
       "    .dataframe tbody tr th:only-of-type {\n",
       "        vertical-align: middle;\n",
       "    }\n",
       "\n",
       "    .dataframe tbody tr th {\n",
       "        vertical-align: top;\n",
       "    }\n",
       "\n",
       "    .dataframe thead th {\n",
       "        text-align: right;\n",
       "    }\n",
       "</style>\n",
       "<table border=\"1\" class=\"dataframe\">\n",
       "  <thead>\n",
       "    <tr style=\"text-align: right;\">\n",
       "      <th></th>\n",
       "      <th>I</th>\n",
       "      <th>Iu</th>\n",
       "      <th>Imax</th>\n",
       "      <th>E</th>\n",
       "      <th>Monetary</th>\n",
       "      <th>Recency</th>\n",
       "      <th>T</th>\n",
       "      <th>Frequency</th>\n",
       "    </tr>\n",
       "    <tr>\n",
       "      <th>CustomerID</th>\n",
       "      <th></th>\n",
       "      <th></th>\n",
       "      <th></th>\n",
       "      <th></th>\n",
       "      <th></th>\n",
       "      <th></th>\n",
       "      <th></th>\n",
       "      <th></th>\n",
       "    </tr>\n",
       "  </thead>\n",
       "  <tbody>\n",
       "    <tr>\n",
       "      <th>12747.0</th>\n",
       "      <td>6.674561</td>\n",
       "      <td>3.367296</td>\n",
       "      <td>4.941642</td>\n",
       "      <td>1.465815</td>\n",
       "      <td>5.762366</td>\n",
       "      <td>2.079442</td>\n",
       "      <td>5.831882</td>\n",
       "      <td>5.467828</td>\n",
       "    </tr>\n",
       "    <tr>\n",
       "      <th>12748.0</th>\n",
       "      <td>9.485925</td>\n",
       "      <td>7.273786</td>\n",
       "      <td>7.108244</td>\n",
       "      <td>1.899053</td>\n",
       "      <td>5.814429</td>\n",
       "      <td>4.553877</td>\n",
       "      <td>5.828946</td>\n",
       "      <td>5.230059</td>\n",
       "    </tr>\n",
       "    <tr>\n",
       "      <th>12749.0</th>\n",
       "      <td>7.110696</td>\n",
       "      <td>4.787492</td>\n",
       "      <td>6.439350</td>\n",
       "      <td>1.557404</td>\n",
       "      <td>5.746523</td>\n",
       "      <td>1.098612</td>\n",
       "      <td>5.817111</td>\n",
       "      <td>6.259486</td>\n",
       "    </tr>\n",
       "    <tr>\n",
       "      <th>12820.0</th>\n",
       "      <td>6.513230</td>\n",
       "      <td>3.988984</td>\n",
       "      <td>5.497168</td>\n",
       "      <td>1.410074</td>\n",
       "      <td>5.642262</td>\n",
       "      <td>1.098612</td>\n",
       "      <td>5.789960</td>\n",
       "      <td>5.526064</td>\n",
       "    </tr>\n",
       "    <tr>\n",
       "      <th>12822.0</th>\n",
       "      <td>6.122493</td>\n",
       "      <td>3.610918</td>\n",
       "      <td>5.913503</td>\n",
       "      <td>1.413603</td>\n",
       "      <td>2.839078</td>\n",
       "      <td>0.000000</td>\n",
       "      <td>4.477337</td>\n",
       "      <td>5.050369</td>\n",
       "    </tr>\n",
       "    <tr>\n",
       "      <th>...</th>\n",
       "      <td>...</td>\n",
       "      <td>...</td>\n",
       "      <td>...</td>\n",
       "      <td>...</td>\n",
       "      <td>...</td>\n",
       "      <td>...</td>\n",
       "      <td>...</td>\n",
       "      <td>...</td>\n",
       "    </tr>\n",
       "    <tr>\n",
       "      <th>18272.0</th>\n",
       "      <td>7.367709</td>\n",
       "      <td>4.477337</td>\n",
       "      <td>5.863631</td>\n",
       "      <td>1.557192</td>\n",
       "      <td>5.407620</td>\n",
       "      <td>1.609438</td>\n",
       "      <td>5.420535</td>\n",
       "      <td>6.203935</td>\n",
       "    </tr>\n",
       "    <tr>\n",
       "      <th>18273.0</th>\n",
       "      <td>3.688879</td>\n",
       "      <td>0.000000</td>\n",
       "      <td>2.995732</td>\n",
       "      <td>-2.302585</td>\n",
       "      <td>4.673763</td>\n",
       "      <td>0.000000</td>\n",
       "      <td>5.552960</td>\n",
       "      <td>3.933784</td>\n",
       "    </tr>\n",
       "    <tr>\n",
       "      <th>18282.0</th>\n",
       "      <td>3.931826</td>\n",
       "      <td>2.079442</td>\n",
       "      <td>3.258097</td>\n",
       "      <td>1.047319</td>\n",
       "      <td>4.443827</td>\n",
       "      <td>0.000000</td>\n",
       "      <td>5.707110</td>\n",
       "      <td>4.109069</td>\n",
       "    </tr>\n",
       "    <tr>\n",
       "      <th>18283.0</th>\n",
       "      <td>7.208600</td>\n",
       "      <td>5.552960</td>\n",
       "      <td>5.484797</td>\n",
       "      <td>1.636882</td>\n",
       "      <td>5.740114</td>\n",
       "      <td>2.564949</td>\n",
       "      <td>5.771441</td>\n",
       "      <td>4.980800</td>\n",
       "    </tr>\n",
       "    <tr>\n",
       "      <th>18287.0</th>\n",
       "      <td>6.656727</td>\n",
       "      <td>3.828641</td>\n",
       "      <td>6.161207</td>\n",
       "      <td>1.431758</td>\n",
       "      <td>5.308763</td>\n",
       "      <td>0.693147</td>\n",
       "      <td>5.308268</td>\n",
       "      <td>5.561988</td>\n",
       "    </tr>\n",
       "  </tbody>\n",
       "</table>\n",
       "<p>2281 rows × 8 columns</p>\n",
       "</div>"
      ],
      "text/plain": [
       "                   I        Iu      Imax         E  Monetary   Recency  \\\n",
       "CustomerID                                                               \n",
       "12747.0     6.674561  3.367296  4.941642  1.465815  5.762366  2.079442   \n",
       "12748.0     9.485925  7.273786  7.108244  1.899053  5.814429  4.553877   \n",
       "12749.0     7.110696  4.787492  6.439350  1.557404  5.746523  1.098612   \n",
       "12820.0     6.513230  3.988984  5.497168  1.410074  5.642262  1.098612   \n",
       "12822.0     6.122493  3.610918  5.913503  1.413603  2.839078  0.000000   \n",
       "...              ...       ...       ...       ...       ...       ...   \n",
       "18272.0     7.367709  4.477337  5.863631  1.557192  5.407620  1.609438   \n",
       "18273.0     3.688879  0.000000  2.995732 -2.302585  4.673763  0.000000   \n",
       "18282.0     3.931826  2.079442  3.258097  1.047319  4.443827  0.000000   \n",
       "18283.0     7.208600  5.552960  5.484797  1.636882  5.740114  2.564949   \n",
       "18287.0     6.656727  3.828641  6.161207  1.431758  5.308763  0.693147   \n",
       "\n",
       "                   T  Frequency  \n",
       "CustomerID                       \n",
       "12747.0     5.831882   5.467828  \n",
       "12748.0     5.828946   5.230059  \n",
       "12749.0     5.817111   6.259486  \n",
       "12820.0     5.789960   5.526064  \n",
       "12822.0     4.477337   5.050369  \n",
       "...              ...        ...  \n",
       "18272.0     5.420535   6.203935  \n",
       "18273.0     5.552960   3.933784  \n",
       "18282.0     5.707110   4.109069  \n",
       "18283.0     5.771441   4.980800  \n",
       "18287.0     5.308268   5.561988  \n",
       "\n",
       "[2281 rows x 8 columns]"
      ]
     },
     "execution_count": 197,
     "metadata": {},
     "output_type": "execute_result"
    }
   ],
   "source": [
    "customer_profile = pd.read_csv('../dataset/customer_profile_model.csv', sep='\\t', index_col=0)\n",
    "customer_profile"
   ]
  },
  {
   "cell_type": "code",
   "execution_count": 198,
   "metadata": {},
   "outputs": [],
   "source": [
    "customer_profile = customer_profile.to_numpy()"
   ]
  },
  {
   "cell_type": "markdown",
   "metadata": {},
   "source": [
    "## Standardization \\& Dimensionality Reduction"
   ]
  },
  {
   "cell_type": "code",
   "execution_count": 199,
   "metadata": {},
   "outputs": [
    {
     "data": {
      "image/png": "[encoded data removed]",
      "text/plain": [
       "<Figure size 432x288 with 1 Axes>"
      ]
     },
     "metadata": {
      "needs_background": "light"
     },
     "output_type": "display_data"
    }
   ],
   "source": [
    "from sklearn.preprocessing import StandardScaler\n",
    "from sklearn.decomposition import PCA\n",
    "\n",
    "scaler = StandardScaler()\n",
    "std_customer_profile = scaler.fit_transform(customer_profile)\n",
    "\n",
    "pca = PCA()\n",
    "pca.fit(std_customer_profile)\n",
    "\n",
    "plt.plot(range(1, customer_profile.shape[1] + 1), pca.explained_variance_ratio_.cumsum(), marker='o', linestyle='--')\n",
    "plt.title('Explained Variance by Components')\n",
    "plt.xlabel('Number of Components')\n",
    "plt.ylabel('Cumulative Explained Variance');"
   ]
  },
  {
   "cell_type": "markdown",
   "metadata": {},
   "source": [
    "The graph shows the amount of variance captured depending on the number of components we include. A rule of thumb is to preserve around 80% of the variance. So, in this instance, we decide to keep 2 components."
   ]
  },
  {
   "cell_type": "code",
   "execution_count": 200,
   "metadata": {},
   "outputs": [],
   "source": [
    "pca = PCA(n_components=2)\n",
    "pca_customer_profile = pca.fit_transform(std_customer_profile)"
   ]
  },
  {
   "cell_type": "markdown",
   "metadata": {},
   "source": [
    "## K-means"
   ]
  },
  {
   "cell_type": "code",
   "execution_count": 201,
   "metadata": {},
   "outputs": [],
   "source": [
    "from sklearn.cluster import KMeans\n",
    "from sklearn.metrics import silhouette_score"
   ]
  },
  {
   "cell_type": "code",
   "execution_count": 202,
   "metadata": {},
   "outputs": [
    {
     "name": "stdout",
     "output_type": "stream",
     "text": [
      "For k = 2 the silhouette score is: 0.4130335405322879\n",
      "For k = 3 the silhouette score is: 0.3486158511440857\n",
      "For k = 4 the silhouette score is: 0.37150551133265913\n",
      "For k = 5 the silhouette score is: 0.33194235742170536\n",
      "For k = 6 the silhouette score is: 0.34034021629279476\n",
      "For k = 7 the silhouette score is: 0.33938011295910125\n",
      "For k = 8 the silhouette score is: 0.33001396448740095\n",
      "For k = 9 the silhouette score is: 0.32741025295950266\n"
     ]
    }
   ],
   "source": [
    "score = []\n",
    "for k in range(2, 10):\n",
    "    kmeans = KMeans(init='k-means++', n_clusters=k)\n",
    "    clusters = kmeans.fit_predict(pca_customer_profile)\n",
    "    score.append(kmeans.inertia_)\n",
    "    print(\"For k =\", k, \"the silhouette score is:\", silhouette_score(pca_customer_profile, clusters))"
   ]
  },
  {
   "cell_type": "markdown",
   "metadata": {},
   "source": [
    "The best silhouette score obtained is when the number of clusters is 2."
   ]
  },
  {
   "cell_type": "code",
   "execution_count": 203,
   "metadata": {},
   "outputs": [
    {
     "data": {
      "image/png": "[encoded data removed]",
      "text/plain": [
       "<Figure size 432x288 with 1 Axes>"
      ]
     },
     "metadata": {
      "needs_background": "light"
     },
     "output_type": "display_data"
    }
   ],
   "source": [
    "plt.plot(range(2, 10), score, marker='o', linestyle='--')\n",
    "plt.title('Elbow Method for Optimal k')\n",
    "plt.ylabel('Inertia')\n",
    "plt.xlabel('k');"
   ]
  },
  {
   "cell_type": "code",
   "execution_count": 204,
   "metadata": {},
   "outputs": [],
   "source": [
    "kmeans = KMeans(init='k-means++', n_clusters=2)\n",
    "clusters_customers = kmeans.fit_predict(pca_customer_profile)"
   ]
  },
  {
   "cell_type": "code",
   "execution_count": 205,
   "metadata": {},
   "outputs": [
    {
     "data": {
      "image/png": "[encoded data removed]",
      "text/plain": [
       "<Figure size 432x288 with 1 Axes>"
      ]
     },
     "metadata": {
      "needs_background": "light"
     },
     "output_type": "display_data"
    }
   ],
   "source": [
    "# create a scatter plot\n",
    "plt.scatter(pca_customer_profile[:, 0], pca_customer_profile[:, 1], c=clusters_customers, s=20)\n",
    "# select cluster centers\n",
    "centroids = kmeans.cluster_centers_\n",
    "plt.scatter(centroids[:, 0], centroids[:, 1], c='black', s=70, alpha=0.5);"
   ]
  },
  {
   "cell_type": "markdown",
   "metadata": {},
   "source": [
    "What's the number of customers in each cluster?"
   ]
  },
  {
   "cell_type": "code",
   "execution_count": 206,
   "metadata": {},
   "outputs": [
    {
     "data": {
      "text/html": [
       "<div>\n",
       "<style scoped>\n",
       "    .dataframe tbody tr th:only-of-type {\n",
       "        vertical-align: middle;\n",
       "    }\n",
       "\n",
       "    .dataframe tbody tr th {\n",
       "        vertical-align: top;\n",
       "    }\n",
       "\n",
       "    .dataframe thead th {\n",
       "        text-align: right;\n",
       "    }\n",
       "</style>\n",
       "<table border=\"1\" class=\"dataframe\">\n",
       "  <thead>\n",
       "    <tr style=\"text-align: right;\">\n",
       "      <th></th>\n",
       "      <th>1</th>\n",
       "      <th>0</th>\n",
       "    </tr>\n",
       "  </thead>\n",
       "  <tbody>\n",
       "    <tr>\n",
       "      <th>CustomersNo</th>\n",
       "      <td>1404</td>\n",
       "      <td>877</td>\n",
       "    </tr>\n",
       "  </tbody>\n",
       "</table>\n",
       "</div>"
      ],
      "text/plain": [
       "                1    0\n",
       "CustomersNo  1404  877"
      ]
     },
     "execution_count": 206,
     "metadata": {},
     "output_type": "execute_result"
    }
   ],
   "source": [
    "pd.DataFrame(pd.Series(clusters_customers).value_counts(), columns=['CustomersNo']).T"
   ]
  },
  {
   "cell_type": "markdown",
   "metadata": {},
   "source": [
    "For comparison, if we run only the k-means algorithm without the PCA step, the result would be the following:"
   ]
  },
  {
   "cell_type": "code",
   "execution_count": 207,
   "metadata": {},
   "outputs": [
    {
     "data": {
      "image/png": "[encoded data removed]",
      "text/plain": [
       "<Figure size 432x288 with 1 Axes>"
      ]
     },
     "metadata": {
      "needs_background": "light"
     },
     "output_type": "display_data"
    }
   ],
   "source": [
    "# create a scatter plot\n",
    "plt.scatter(std_customer_profile[:, 0], std_customer_profile[:, 1], c=clusters_customers, s=20)\n",
    "# select cluster centers\n",
    "centroids = pca.inverse_transform(kmeans.cluster_centers_)\n",
    "plt.scatter(centroids[:, 0], centroids[:, 1], c='black', s=70, alpha=0.5);"
   ]
  },
  {
   "cell_type": "markdown",
   "metadata": {},
   "source": [
    "## DBSCAN"
   ]
  },
  {
   "cell_type": "code",
   "execution_count": 208,
   "metadata": {},
   "outputs": [],
   "source": [
    "from sklearn.cluster import DBSCAN\n",
    "from sklearn.metrics import silhouette_score"
   ]
  },
  {
   "cell_type": "code",
   "execution_count": 209,
   "metadata": {},
   "outputs": [
    {
     "name": "stdout",
     "output_type": "stream",
     "text": [
      "For eps = 0.1 the silhouette score is: -0.4918100907842501\n",
      "For eps = 0.15 the silhouette score is: -0.426145644476397\n",
      "For eps = 0.2 the silhouette score is: -0.2712228738751761\n",
      "For eps = 0.25 the silhouette score is: -0.06124137595714174\n",
      "For eps = 0.3 the silhouette score is: 0.2459351431418358\n",
      "For eps = 0.35 the silhouette score is: 0.4328829080621841\n",
      "For eps = 0.4 the silhouette score is: 0.4507804235377279\n",
      "For eps = 0.45 the silhouette score is: 0.35237645135964907\n",
      "For eps = 0.5 the silhouette score is: 0.39228585871922855\n"
     ]
    }
   ],
   "source": [
    "for eps in (0.1, 0.15, 0.2, 0.25, 0.3, 0.35, 0.4, 0.45, 0.5):\n",
    "    dbscan = DBSCAN(eps=eps, min_samples=10)\n",
    "    clusters = dbscan.fit_predict(pca_customer_profile)\n",
    "    print(\"For eps =\", eps, \"the silhouette score is:\", silhouette_score(pca_customer_profile, clusters))"
   ]
  },
  {
   "cell_type": "markdown",
   "metadata": {},
   "source": [
    "The best silhouette score obtained is when the eps is 0.4."
   ]
  },
  {
   "cell_type": "code",
   "execution_count": 210,
   "metadata": {},
   "outputs": [],
   "source": [
    "dbscan = DBSCAN(eps=0.4, min_samples=10)\n",
    "clusters_customers = dbscan.fit_predict(pca_customer_profile)"
   ]
  },
  {
   "cell_type": "code",
   "execution_count": 211,
   "metadata": {},
   "outputs": [
    {
     "data": {
      "image/png": "[encoded data removed]",
      "text/plain": [
       "<Figure size 432x288 with 1 Axes>"
      ]
     },
     "metadata": {
      "needs_background": "light"
     },
     "output_type": "display_data"
    }
   ],
   "source": [
    "# create a scatter plot\n",
    "plt.scatter(pca_customer_profile[:, 0], pca_customer_profile[:, 1], c=clusters_customers, s=20);"
   ]
  },
  {
   "cell_type": "markdown",
   "metadata": {},
   "source": [
    "What's the number of customers in each cluster?"
   ]
  },
  {
   "cell_type": "code",
   "execution_count": 212,
   "metadata": {},
   "outputs": [
    {
     "data": {
      "text/html": [
       "<div>\n",
       "<style scoped>\n",
       "    .dataframe tbody tr th:only-of-type {\n",
       "        vertical-align: middle;\n",
       "    }\n",
       "\n",
       "    .dataframe tbody tr th {\n",
       "        vertical-align: top;\n",
       "    }\n",
       "\n",
       "    .dataframe thead th {\n",
       "        text-align: right;\n",
       "    }\n",
       "</style>\n",
       "<table border=\"1\" class=\"dataframe\">\n",
       "  <thead>\n",
       "    <tr style=\"text-align: right;\">\n",
       "      <th></th>\n",
       "      <th>0</th>\n",
       "      <th>-1</th>\n",
       "    </tr>\n",
       "  </thead>\n",
       "  <tbody>\n",
       "    <tr>\n",
       "      <th>CustomersNo</th>\n",
       "      <td>2045</td>\n",
       "      <td>236</td>\n",
       "    </tr>\n",
       "  </tbody>\n",
       "</table>\n",
       "</div>"
      ],
      "text/plain": [
       "                0   -1\n",
       "CustomersNo  2045  236"
      ]
     },
     "execution_count": 212,
     "metadata": {},
     "output_type": "execute_result"
    }
   ],
   "source": [
    "pd.DataFrame(pd.Series(clusters_customers).value_counts(), columns=['CustomersNo']).T"
   ]
  },
  {
   "cell_type": "markdown",
   "metadata": {},
   "source": [
    "For comparison, if we run only the DBSCAN algorithm without the PCA step, the result would be the following:"
   ]
  },
  {
   "cell_type": "code",
   "execution_count": 214,
   "metadata": {},
   "outputs": [
    {
     "data": {
      "image/png": "[encoded data removed]",
      "text/plain": [
       "<Figure size 432x288 with 1 Axes>"
      ]
     },
     "metadata": {
      "needs_background": "light"
     },
     "output_type": "display_data"
    }
   ],
   "source": [
    "# create a scatter plot\n",
    "plt.scatter(std_customer_profile[:, 0], std_customer_profile[:, 1], c=clusters_customers, s=20);"
   ]
  },
  {
   "cell_type": "markdown",
   "metadata": {},
   "source": [
    "## Agglomerative Clustering"
   ]
  },
  {
   "cell_type": "markdown",
   "metadata": {},
   "source": [
    "The linkage criterion determines which distance to use between sets of observation. The algorithm will merge the pairs of cluster that minimize this criterion:\n",
    "\n",
    "- *Ward* minimizes the euclidean distance of the clusters being merged (is the hierarchical analogue of K-means, so it can be used to initialize it)\n",
    "    - strength: less susceptible to noise and outliers\n",
    "    - limitations: biased towards globular clusters\n",
    "- *single* or *maximum linkage* uses the minimum of the distances between all observations of the two sets\n",
    "    - strength: can handle non-elliptical shapes\n",
    "    - limitations: sensitive to noise and outliers\n",
    "- *complete* or *maximum linkage* uses the maximum distances between all observations of the two sets\n",
    "    - strength: less susceptible to noise and outliers\n",
    "    - limitations: tends to break large clusters, biased towards globular clusters\n",
    "- *average* linkage is a compromise between *single* and *complete* linkage by using the average of the distances of each observation of the two sets\n",
    "    - strength: less susceptible to noise and outliers\n",
    "    - limitations: biased towards globular clusters"
   ]
  },
  {
   "cell_type": "markdown",
   "metadata": {},
   "source": [
    "### Ward Linkage"
   ]
  },
  {
   "cell_type": "code",
   "execution_count": 107,
   "metadata": {},
   "outputs": [
    {
     "name": "stdout",
     "output_type": "stream",
     "text": [
      "Fitting 1 folds for each of 8 candidates, totalling 8 fits\n"
     ]
    },
    {
     "name": "stderr",
     "output_type": "stream",
     "text": [
      "[Parallel(n_jobs=-1)]: Using backend LokyBackend with 8 concurrent workers.\n",
      "[Parallel(n_jobs=-1)]: Done   2 out of   8 | elapsed:    1.9s remaining:    5.6s\n",
      "[Parallel(n_jobs=-1)]: Done   8 out of   8 | elapsed:    2.1s finished\n"
     ]
    }
   ],
   "source": [
    "pipeline = Pipeline(steps=[('scaler', StandardScaler()),\n",
    "                           # skipping PCA since agglomerative clustering uses the Feature Agglomeration to group together features \n",
    "                           # that look very similar, thus decreasing the number of features. It is a dimensionality reduction tool.\n",
    "                           ('clustering', AgglomerativeClustering(linkage='ward'))])\n",
    "\n",
    "n_features = customer_profile.shape[1]\n",
    "\n",
    "# parameters of pipelines can be set using ‘__’ separated parameter names\n",
    "tuned_parameters = {\n",
    "    'clustering__n_clusters' : range(2, 10)}\n",
    "\n",
    "search = GridSearchCV(estimator=pipeline, \n",
    "                      param_grid=tuned_parameters, \n",
    "                      scoring=silhouette_scorer, \n",
    "                      cv=[(slice(None), slice(None))],  # https://stackoverflow.com/a/44682305/5555994\n",
    "                      n_jobs=-1,  # use all processors\n",
    "                      refit=True, \n",
    "                      verbose=True).fit(customer_profile)"
   ]
  },
  {
   "cell_type": "code",
   "execution_count": 108,
   "metadata": {},
   "outputs": [
    {
     "data": {
      "text/html": [
       "<style  type=\"text/css\" >\n",
       "    #T_7ca58d7c_244f_11eb_acf4_9169b01bf258row0_col0 {\n",
       "            background-color:  lightyellow;\n",
       "        }    #T_7ca58d7c_244f_11eb_acf4_9169b01bf258row0_col1 {\n",
       "            background-color:  lightyellow;\n",
       "        }    #T_7ca58d7c_244f_11eb_acf4_9169b01bf258row0_col2 {\n",
       "            background-color:  lightyellow;\n",
       "        }</style><table id=\"T_7ca58d7c_244f_11eb_acf4_9169b01bf258\" ><thead>    <tr>        <th class=\"col_heading level0 col0\" >params</th>        <th class=\"col_heading level0 col1\" >mean_test_score</th>        <th class=\"col_heading level0 col2\" >rank_test_score</th>    </tr></thead><tbody>\n",
       "                <tr>\n",
       "                                <td id=\"T_7ca58d7c_244f_11eb_acf4_9169b01bf258row0_col0\" class=\"data row0 col0\" >{'clustering__n_clusters': 2}</td>\n",
       "                        <td id=\"T_7ca58d7c_244f_11eb_acf4_9169b01bf258row0_col1\" class=\"data row0 col1\" >0.310335</td>\n",
       "                        <td id=\"T_7ca58d7c_244f_11eb_acf4_9169b01bf258row0_col2\" class=\"data row0 col2\" >1</td>\n",
       "            </tr>\n",
       "            <tr>\n",
       "                                <td id=\"T_7ca58d7c_244f_11eb_acf4_9169b01bf258row1_col0\" class=\"data row1 col0\" >{'clustering__n_clusters': 3}</td>\n",
       "                        <td id=\"T_7ca58d7c_244f_11eb_acf4_9169b01bf258row1_col1\" class=\"data row1 col1\" >0.297844</td>\n",
       "                        <td id=\"T_7ca58d7c_244f_11eb_acf4_9169b01bf258row1_col2\" class=\"data row1 col2\" >2</td>\n",
       "            </tr>\n",
       "            <tr>\n",
       "                                <td id=\"T_7ca58d7c_244f_11eb_acf4_9169b01bf258row2_col0\" class=\"data row2 col0\" >{'clustering__n_clusters': 4}</td>\n",
       "                        <td id=\"T_7ca58d7c_244f_11eb_acf4_9169b01bf258row2_col1\" class=\"data row2 col1\" >0.269474</td>\n",
       "                        <td id=\"T_7ca58d7c_244f_11eb_acf4_9169b01bf258row2_col2\" class=\"data row2 col2\" >3</td>\n",
       "            </tr>\n",
       "            <tr>\n",
       "                                <td id=\"T_7ca58d7c_244f_11eb_acf4_9169b01bf258row3_col0\" class=\"data row3 col0\" >{'clustering__n_clusters': 5}</td>\n",
       "                        <td id=\"T_7ca58d7c_244f_11eb_acf4_9169b01bf258row3_col1\" class=\"data row3 col1\" >0.174692</td>\n",
       "                        <td id=\"T_7ca58d7c_244f_11eb_acf4_9169b01bf258row3_col2\" class=\"data row3 col2\" >4</td>\n",
       "            </tr>\n",
       "            <tr>\n",
       "                                <td id=\"T_7ca58d7c_244f_11eb_acf4_9169b01bf258row4_col0\" class=\"data row4 col0\" >{'clustering__n_clusters': 7}</td>\n",
       "                        <td id=\"T_7ca58d7c_244f_11eb_acf4_9169b01bf258row4_col1\" class=\"data row4 col1\" >0.172166</td>\n",
       "                        <td id=\"T_7ca58d7c_244f_11eb_acf4_9169b01bf258row4_col2\" class=\"data row4 col2\" >5</td>\n",
       "            </tr>\n",
       "            <tr>\n",
       "                                <td id=\"T_7ca58d7c_244f_11eb_acf4_9169b01bf258row5_col0\" class=\"data row5 col0\" >{'clustering__n_clusters': 6}</td>\n",
       "                        <td id=\"T_7ca58d7c_244f_11eb_acf4_9169b01bf258row5_col1\" class=\"data row5 col1\" >0.168517</td>\n",
       "                        <td id=\"T_7ca58d7c_244f_11eb_acf4_9169b01bf258row5_col2\" class=\"data row5 col2\" >6</td>\n",
       "            </tr>\n",
       "            <tr>\n",
       "                                <td id=\"T_7ca58d7c_244f_11eb_acf4_9169b01bf258row6_col0\" class=\"data row6 col0\" >{'clustering__n_clusters': 9}</td>\n",
       "                        <td id=\"T_7ca58d7c_244f_11eb_acf4_9169b01bf258row6_col1\" class=\"data row6 col1\" >0.146249</td>\n",
       "                        <td id=\"T_7ca58d7c_244f_11eb_acf4_9169b01bf258row6_col2\" class=\"data row6 col2\" >7</td>\n",
       "            </tr>\n",
       "            <tr>\n",
       "                                <td id=\"T_7ca58d7c_244f_11eb_acf4_9169b01bf258row7_col0\" class=\"data row7 col0\" >{'clustering__n_clusters': 8}</td>\n",
       "                        <td id=\"T_7ca58d7c_244f_11eb_acf4_9169b01bf258row7_col1\" class=\"data row7 col1\" >0.145412</td>\n",
       "                        <td id=\"T_7ca58d7c_244f_11eb_acf4_9169b01bf258row7_col2\" class=\"data row7 col2\" >8</td>\n",
       "            </tr>\n",
       "    </tbody></table>"
      ],
      "text/plain": [
       "<pandas.io.formats.style.Styler at 0x7f72a02cd700>"
      ]
     },
     "execution_count": 108,
     "metadata": {},
     "output_type": "execute_result"
    }
   ],
   "source": [
    "agglomerative_results = pd.DataFrame(search.cv_results_)[['params', 'mean_test_score', 'rank_test_score']].sort_values('rank_test_score')\n",
    "agglomerative_results.head(10).style.apply(highlight_equal, value=1, column=['rank_test_score'], axis=1).hide_index()"
   ]
  },
  {
   "cell_type": "markdown",
   "metadata": {},
   "source": [
    "What's the number of customers in each cluster?"
   ]
  },
  {
   "cell_type": "code",
   "execution_count": 110,
   "metadata": {},
   "outputs": [
    {
     "data": {
      "text/html": [
       "<div>\n",
       "<style scoped>\n",
       "    .dataframe tbody tr th:only-of-type {\n",
       "        vertical-align: middle;\n",
       "    }\n",
       "\n",
       "    .dataframe tbody tr th {\n",
       "        vertical-align: top;\n",
       "    }\n",
       "\n",
       "    .dataframe thead th {\n",
       "        text-align: right;\n",
       "    }\n",
       "</style>\n",
       "<table border=\"1\" class=\"dataframe\">\n",
       "  <thead>\n",
       "    <tr style=\"text-align: right;\">\n",
       "      <th></th>\n",
       "      <th>1</th>\n",
       "      <th>0</th>\n",
       "    </tr>\n",
       "  </thead>\n",
       "  <tbody>\n",
       "    <tr>\n",
       "      <th>CustomersNo</th>\n",
       "      <td>1342</td>\n",
       "      <td>939</td>\n",
       "    </tr>\n",
       "  </tbody>\n",
       "</table>\n",
       "</div>"
      ],
      "text/plain": [
       "                1    0\n",
       "CustomersNo  1342  939"
      ]
     },
     "execution_count": 110,
     "metadata": {},
     "output_type": "execute_result"
    }
   ],
   "source": [
    "scaled_customer_profile = search.best_estimator_['scaler'].transform(customer_profile)\n",
    "clusters_customers = search.best_estimator_['clustering'].fit_predict(scaled_customer_profile)\n",
    "pd.DataFrame(pd.Series(clusters_customers).value_counts(), columns=['CustomersNo']).T"
   ]
  },
  {
   "cell_type": "markdown",
   "metadata": {},
   "source": [
    "### Single Linkage"
   ]
  },
  {
   "cell_type": "code",
   "execution_count": 85,
   "metadata": {},
   "outputs": [
    {
     "name": "stdout",
     "output_type": "stream",
     "text": [
      "Fitting 1 folds for each of 24 candidates, totalling 24 fits\n"
     ]
    },
    {
     "name": "stderr",
     "output_type": "stream",
     "text": [
      "[Parallel(n_jobs=-1)]: Using backend LokyBackend with 8 concurrent workers.\n",
      "[Parallel(n_jobs=-1)]: Done  24 out of  24 | elapsed:    1.2s finished\n"
     ]
    }
   ],
   "source": [
    "pipeline = Pipeline(steps=[('scaler', StandardScaler()),\n",
    "                           # skipping PCA since agglomerative clustering uses the Feature Agglomeration to group together features \n",
    "                           # that look very similar, thus decreasing the number of features. It is a dimensionality reduction tool.\n",
    "                           ('clustering', AgglomerativeClustering(linkage='single'))])\n",
    "\n",
    "n_features = customer_profile.shape[1]\n",
    "\n",
    "# parameters of pipelines can be set using ‘__’ separated parameter names\n",
    "tuned_parameters = {\n",
    "    'clustering__n_clusters' : range(2, 10),\n",
    "    'clustering__affinity': ('euclidean', 'manhattan', 'cosine')}\n",
    "\n",
    "search = GridSearchCV(estimator=pipeline, \n",
    "                      param_grid=tuned_parameters, \n",
    "                      scoring=silhouette_scorer, \n",
    "                      cv=[(slice(None), slice(None))],  # https://stackoverflow.com/a/44682305/5555994\n",
    "                      n_jobs=-1,  # use all processors\n",
    "                      refit=True, \n",
    "                      verbose=True).fit(customer_profile)"
   ]
  },
  {
   "cell_type": "code",
   "execution_count": 86,
   "metadata": {},
   "outputs": [
    {
     "data": {
      "text/html": [
       "<style  type=\"text/css\" >\n",
       "    #T_7c5927e2_2419_11eb_acf4_9169b01bf258row0_col0 {\n",
       "            background-color:  lightyellow;\n",
       "        }    #T_7c5927e2_2419_11eb_acf4_9169b01bf258row0_col1 {\n",
       "            background-color:  lightyellow;\n",
       "        }    #T_7c5927e2_2419_11eb_acf4_9169b01bf258row0_col2 {\n",
       "            background-color:  lightyellow;\n",
       "        }    #T_7c5927e2_2419_11eb_acf4_9169b01bf258row1_col0 {\n",
       "            background-color:  lightyellow;\n",
       "        }    #T_7c5927e2_2419_11eb_acf4_9169b01bf258row1_col1 {\n",
       "            background-color:  lightyellow;\n",
       "        }    #T_7c5927e2_2419_11eb_acf4_9169b01bf258row1_col2 {\n",
       "            background-color:  lightyellow;\n",
       "        }</style><table id=\"T_7c5927e2_2419_11eb_acf4_9169b01bf258\" ><thead>    <tr>        <th class=\"col_heading level0 col0\" >params</th>        <th class=\"col_heading level0 col1\" >mean_test_score</th>        <th class=\"col_heading level0 col2\" >rank_test_score</th>    </tr></thead><tbody>\n",
       "                <tr>\n",
       "                                <td id=\"T_7c5927e2_2419_11eb_acf4_9169b01bf258row0_col0\" class=\"data row0 col0\" >{'clustering__affinity': 'euclidean', 'clustering__n_clusters': 2}</td>\n",
       "                        <td id=\"T_7c5927e2_2419_11eb_acf4_9169b01bf258row0_col1\" class=\"data row0 col1\" >0.521929</td>\n",
       "                        <td id=\"T_7c5927e2_2419_11eb_acf4_9169b01bf258row0_col2\" class=\"data row0 col2\" >1</td>\n",
       "            </tr>\n",
       "            <tr>\n",
       "                                <td id=\"T_7c5927e2_2419_11eb_acf4_9169b01bf258row1_col0\" class=\"data row1 col0\" >{'clustering__affinity': 'manhattan', 'clustering__n_clusters': 2}</td>\n",
       "                        <td id=\"T_7c5927e2_2419_11eb_acf4_9169b01bf258row1_col1\" class=\"data row1 col1\" >0.521929</td>\n",
       "                        <td id=\"T_7c5927e2_2419_11eb_acf4_9169b01bf258row1_col2\" class=\"data row1 col2\" >1</td>\n",
       "            </tr>\n",
       "            <tr>\n",
       "                                <td id=\"T_7c5927e2_2419_11eb_acf4_9169b01bf258row2_col0\" class=\"data row2 col0\" >{'clustering__affinity': 'manhattan', 'clustering__n_clusters': 3}</td>\n",
       "                        <td id=\"T_7c5927e2_2419_11eb_acf4_9169b01bf258row2_col1\" class=\"data row2 col1\" >0.490630</td>\n",
       "                        <td id=\"T_7c5927e2_2419_11eb_acf4_9169b01bf258row2_col2\" class=\"data row2 col2\" >3</td>\n",
       "            </tr>\n",
       "            <tr>\n",
       "                                <td id=\"T_7c5927e2_2419_11eb_acf4_9169b01bf258row3_col0\" class=\"data row3 col0\" >{'clustering__affinity': 'euclidean', 'clustering__n_clusters': 3}</td>\n",
       "                        <td id=\"T_7c5927e2_2419_11eb_acf4_9169b01bf258row3_col1\" class=\"data row3 col1\" >0.489306</td>\n",
       "                        <td id=\"T_7c5927e2_2419_11eb_acf4_9169b01bf258row3_col2\" class=\"data row3 col2\" >4</td>\n",
       "            </tr>\n",
       "            <tr>\n",
       "                                <td id=\"T_7c5927e2_2419_11eb_acf4_9169b01bf258row4_col0\" class=\"data row4 col0\" >{'clustering__affinity': 'manhattan', 'clustering__n_clusters': 4}</td>\n",
       "                        <td id=\"T_7c5927e2_2419_11eb_acf4_9169b01bf258row4_col1\" class=\"data row4 col1\" >0.487810</td>\n",
       "                        <td id=\"T_7c5927e2_2419_11eb_acf4_9169b01bf258row4_col2\" class=\"data row4 col2\" >5</td>\n",
       "            </tr>\n",
       "            <tr>\n",
       "                                <td id=\"T_7c5927e2_2419_11eb_acf4_9169b01bf258row5_col0\" class=\"data row5 col0\" >{'clustering__affinity': 'manhattan', 'clustering__n_clusters': 5}</td>\n",
       "                        <td id=\"T_7c5927e2_2419_11eb_acf4_9169b01bf258row5_col1\" class=\"data row5 col1\" >0.487353</td>\n",
       "                        <td id=\"T_7c5927e2_2419_11eb_acf4_9169b01bf258row5_col2\" class=\"data row5 col2\" >6</td>\n",
       "            </tr>\n",
       "            <tr>\n",
       "                                <td id=\"T_7c5927e2_2419_11eb_acf4_9169b01bf258row6_col0\" class=\"data row6 col0\" >{'clustering__affinity': 'euclidean', 'clustering__n_clusters': 4}</td>\n",
       "                        <td id=\"T_7c5927e2_2419_11eb_acf4_9169b01bf258row6_col1\" class=\"data row6 col1\" >0.466385</td>\n",
       "                        <td id=\"T_7c5927e2_2419_11eb_acf4_9169b01bf258row6_col2\" class=\"data row6 col2\" >7</td>\n",
       "            </tr>\n",
       "            <tr>\n",
       "                                <td id=\"T_7c5927e2_2419_11eb_acf4_9169b01bf258row7_col0\" class=\"data row7 col0\" >{'clustering__affinity': 'euclidean', 'clustering__n_clusters': 5}</td>\n",
       "                        <td id=\"T_7c5927e2_2419_11eb_acf4_9169b01bf258row7_col1\" class=\"data row7 col1\" >0.465995</td>\n",
       "                        <td id=\"T_7c5927e2_2419_11eb_acf4_9169b01bf258row7_col2\" class=\"data row7 col2\" >8</td>\n",
       "            </tr>\n",
       "            <tr>\n",
       "                                <td id=\"T_7c5927e2_2419_11eb_acf4_9169b01bf258row8_col0\" class=\"data row8 col0\" >{'clustering__affinity': 'manhattan', 'clustering__n_clusters': 6}</td>\n",
       "                        <td id=\"T_7c5927e2_2419_11eb_acf4_9169b01bf258row8_col1\" class=\"data row8 col1\" >0.465993</td>\n",
       "                        <td id=\"T_7c5927e2_2419_11eb_acf4_9169b01bf258row8_col2\" class=\"data row8 col2\" >9</td>\n",
       "            </tr>\n",
       "            <tr>\n",
       "                                <td id=\"T_7c5927e2_2419_11eb_acf4_9169b01bf258row9_col0\" class=\"data row9 col0\" >{'clustering__affinity': 'manhattan', 'clustering__n_clusters': 8}</td>\n",
       "                        <td id=\"T_7c5927e2_2419_11eb_acf4_9169b01bf258row9_col1\" class=\"data row9 col1\" >0.436374</td>\n",
       "                        <td id=\"T_7c5927e2_2419_11eb_acf4_9169b01bf258row9_col2\" class=\"data row9 col2\" >10</td>\n",
       "            </tr>\n",
       "    </tbody></table>"
      ],
      "text/plain": [
       "<pandas.io.formats.style.Styler at 0x7f72a03e4430>"
      ]
     },
     "execution_count": 86,
     "metadata": {},
     "output_type": "execute_result"
    }
   ],
   "source": [
    "agglomerative_results = pd.DataFrame(search.cv_results_)[['params', 'mean_test_score', 'rank_test_score']].sort_values('rank_test_score')\n",
    "agglomerative_results.head(10).style.apply(highlight_equal, value=1, column=['rank_test_score'], axis=1).hide_index()"
   ]
  },
  {
   "cell_type": "markdown",
   "metadata": {},
   "source": [
    "What's the number of customers in each cluster?"
   ]
  },
  {
   "cell_type": "code",
   "execution_count": 56,
   "metadata": {},
   "outputs": [
    {
     "data": {
      "text/html": [
       "<div>\n",
       "<style scoped>\n",
       "    .dataframe tbody tr th:only-of-type {\n",
       "        vertical-align: middle;\n",
       "    }\n",
       "\n",
       "    .dataframe tbody tr th {\n",
       "        vertical-align: top;\n",
       "    }\n",
       "\n",
       "    .dataframe thead th {\n",
       "        text-align: right;\n",
       "    }\n",
       "</style>\n",
       "<table border=\"1\" class=\"dataframe\">\n",
       "  <thead>\n",
       "    <tr style=\"text-align: right;\">\n",
       "      <th></th>\n",
       "      <th>0</th>\n",
       "      <th>1</th>\n",
       "    </tr>\n",
       "  </thead>\n",
       "  <tbody>\n",
       "    <tr>\n",
       "      <th>CustomersNo</th>\n",
       "      <td>2280</td>\n",
       "      <td>1</td>\n",
       "    </tr>\n",
       "  </tbody>\n",
       "</table>\n",
       "</div>"
      ],
      "text/plain": [
       "                0  1\n",
       "CustomersNo  2280  1"
      ]
     },
     "execution_count": 56,
     "metadata": {},
     "output_type": "execute_result"
    }
   ],
   "source": [
    "scaled_customer_profile = search.best_estimator_['scaler'].transform(customer_profile)\n",
    "clusters_customers = search.best_estimator_['clustering'].fit_predict(scaled_customer_profile)\n",
    "pd.DataFrame(pd.Series(clusters_customers).value_counts(), columns=['CustomersNo']).T"
   ]
  },
  {
   "cell_type": "markdown",
   "metadata": {},
   "source": [
    "### Complete Linkage"
   ]
  },
  {
   "cell_type": "code",
   "execution_count": 77,
   "metadata": {},
   "outputs": [
    {
     "name": "stdout",
     "output_type": "stream",
     "text": [
      "Fitting 1 folds for each of 24 candidates, totalling 24 fits\n"
     ]
    },
    {
     "name": "stderr",
     "output_type": "stream",
     "text": [
      "[Parallel(n_jobs=-1)]: Using backend LokyBackend with 8 concurrent workers.\n",
      "[Parallel(n_jobs=-1)]: Done  24 out of  24 | elapsed:    2.4s finished\n"
     ]
    }
   ],
   "source": [
    "pipeline = Pipeline(steps=[('scaler', StandardScaler()),\n",
    "                           # skipping PCA since agglomerative clustering uses the Feature Agglomeration to group together features \n",
    "                           # that look very similar, thus decreasing the number of features. It is a dimensionality reduction tool.\n",
    "                           ('clustering', AgglomerativeClustering(linkage='complete'))])\n",
    "\n",
    "n_features = customer_profile.shape[1]\n",
    "\n",
    "# parameters of pipelines can be set using ‘__’ separated parameter names\n",
    "tuned_parameters = {\n",
    "    'clustering__n_clusters' : range(2, 10),\n",
    "    'clustering__affinity': ('euclidean', 'manhattan', 'cosine')}\n",
    "\n",
    "search = GridSearchCV(estimator=pipeline, \n",
    "                      param_grid=tuned_parameters, \n",
    "                      scoring=silhouette_scorer, \n",
    "                      cv=[(slice(None), slice(None))],  # https://stackoverflow.com/a/44682305/5555994\n",
    "                      n_jobs=-1,  # use all processors\n",
    "                      refit=True, \n",
    "                      verbose=True).fit(customer_profile)"
   ]
  },
  {
   "cell_type": "code",
   "execution_count": 78,
   "metadata": {},
   "outputs": [
    {
     "data": {
      "text/html": [
       "<style  type=\"text/css\" >\n",
       "    #T_706e354e_2419_11eb_acf4_9169b01bf258row0_col0 {\n",
       "            background-color:  lightyellow;\n",
       "        }    #T_706e354e_2419_11eb_acf4_9169b01bf258row0_col1 {\n",
       "            background-color:  lightyellow;\n",
       "        }    #T_706e354e_2419_11eb_acf4_9169b01bf258row0_col2 {\n",
       "            background-color:  lightyellow;\n",
       "        }</style><table id=\"T_706e354e_2419_11eb_acf4_9169b01bf258\" ><thead>    <tr>        <th class=\"col_heading level0 col0\" >params</th>        <th class=\"col_heading level0 col1\" >mean_test_score</th>        <th class=\"col_heading level0 col2\" >rank_test_score</th>    </tr></thead><tbody>\n",
       "                <tr>\n",
       "                                <td id=\"T_706e354e_2419_11eb_acf4_9169b01bf258row0_col0\" class=\"data row0 col0\" >{'clustering__affinity': 'euclidean', 'clustering__n_clusters': 2}</td>\n",
       "                        <td id=\"T_706e354e_2419_11eb_acf4_9169b01bf258row0_col1\" class=\"data row0 col1\" >0.521929</td>\n",
       "                        <td id=\"T_706e354e_2419_11eb_acf4_9169b01bf258row0_col2\" class=\"data row0 col2\" >1</td>\n",
       "            </tr>\n",
       "            <tr>\n",
       "                                <td id=\"T_706e354e_2419_11eb_acf4_9169b01bf258row1_col0\" class=\"data row1 col0\" >{'clustering__affinity': 'cosine', 'clustering__n_clusters': 2}</td>\n",
       "                        <td id=\"T_706e354e_2419_11eb_acf4_9169b01bf258row1_col1\" class=\"data row1 col1\" >0.316967</td>\n",
       "                        <td id=\"T_706e354e_2419_11eb_acf4_9169b01bf258row1_col2\" class=\"data row1 col2\" >2</td>\n",
       "            </tr>\n",
       "            <tr>\n",
       "                                <td id=\"T_706e354e_2419_11eb_acf4_9169b01bf258row2_col0\" class=\"data row2 col0\" >{'clustering__affinity': 'euclidean', 'clustering__n_clusters': 4}</td>\n",
       "                        <td id=\"T_706e354e_2419_11eb_acf4_9169b01bf258row2_col1\" class=\"data row2 col1\" >0.270796</td>\n",
       "                        <td id=\"T_706e354e_2419_11eb_acf4_9169b01bf258row2_col2\" class=\"data row2 col2\" >3</td>\n",
       "            </tr>\n",
       "            <tr>\n",
       "                                <td id=\"T_706e354e_2419_11eb_acf4_9169b01bf258row3_col0\" class=\"data row3 col0\" >{'clustering__affinity': 'euclidean', 'clustering__n_clusters': 5}</td>\n",
       "                        <td id=\"T_706e354e_2419_11eb_acf4_9169b01bf258row3_col1\" class=\"data row3 col1\" >0.267267</td>\n",
       "                        <td id=\"T_706e354e_2419_11eb_acf4_9169b01bf258row3_col2\" class=\"data row3 col2\" >4</td>\n",
       "            </tr>\n",
       "            <tr>\n",
       "                                <td id=\"T_706e354e_2419_11eb_acf4_9169b01bf258row4_col0\" class=\"data row4 col0\" >{'clustering__affinity': 'manhattan', 'clustering__n_clusters': 3}</td>\n",
       "                        <td id=\"T_706e354e_2419_11eb_acf4_9169b01bf258row4_col1\" class=\"data row4 col1\" >0.266818</td>\n",
       "                        <td id=\"T_706e354e_2419_11eb_acf4_9169b01bf258row4_col2\" class=\"data row4 col2\" >5</td>\n",
       "            </tr>\n",
       "            <tr>\n",
       "                                <td id=\"T_706e354e_2419_11eb_acf4_9169b01bf258row5_col0\" class=\"data row5 col0\" >{'clustering__affinity': 'manhattan', 'clustering__n_clusters': 4}</td>\n",
       "                        <td id=\"T_706e354e_2419_11eb_acf4_9169b01bf258row5_col1\" class=\"data row5 col1\" >0.262950</td>\n",
       "                        <td id=\"T_706e354e_2419_11eb_acf4_9169b01bf258row5_col2\" class=\"data row5 col2\" >6</td>\n",
       "            </tr>\n",
       "            <tr>\n",
       "                                <td id=\"T_706e354e_2419_11eb_acf4_9169b01bf258row6_col0\" class=\"data row6 col0\" >{'clustering__affinity': 'manhattan', 'clustering__n_clusters': 2}</td>\n",
       "                        <td id=\"T_706e354e_2419_11eb_acf4_9169b01bf258row6_col1\" class=\"data row6 col1\" >0.262778</td>\n",
       "                        <td id=\"T_706e354e_2419_11eb_acf4_9169b01bf258row6_col2\" class=\"data row6 col2\" >7</td>\n",
       "            </tr>\n",
       "            <tr>\n",
       "                                <td id=\"T_706e354e_2419_11eb_acf4_9169b01bf258row7_col0\" class=\"data row7 col0\" >{'clustering__affinity': 'euclidean', 'clustering__n_clusters': 6}</td>\n",
       "                        <td id=\"T_706e354e_2419_11eb_acf4_9169b01bf258row7_col1\" class=\"data row7 col1\" >0.257808</td>\n",
       "                        <td id=\"T_706e354e_2419_11eb_acf4_9169b01bf258row7_col2\" class=\"data row7 col2\" >8</td>\n",
       "            </tr>\n",
       "            <tr>\n",
       "                                <td id=\"T_706e354e_2419_11eb_acf4_9169b01bf258row8_col0\" class=\"data row8 col0\" >{'clustering__affinity': 'manhattan', 'clustering__n_clusters': 5}</td>\n",
       "                        <td id=\"T_706e354e_2419_11eb_acf4_9169b01bf258row8_col1\" class=\"data row8 col1\" >0.256803</td>\n",
       "                        <td id=\"T_706e354e_2419_11eb_acf4_9169b01bf258row8_col2\" class=\"data row8 col2\" >9</td>\n",
       "            </tr>\n",
       "            <tr>\n",
       "                                <td id=\"T_706e354e_2419_11eb_acf4_9169b01bf258row9_col0\" class=\"data row9 col0\" >{'clustering__affinity': 'euclidean', 'clustering__n_clusters': 3}</td>\n",
       "                        <td id=\"T_706e354e_2419_11eb_acf4_9169b01bf258row9_col1\" class=\"data row9 col1\" >0.246599</td>\n",
       "                        <td id=\"T_706e354e_2419_11eb_acf4_9169b01bf258row9_col2\" class=\"data row9 col2\" >10</td>\n",
       "            </tr>\n",
       "    </tbody></table>"
      ],
      "text/plain": [
       "<pandas.io.formats.style.Styler at 0x7f72a04ad280>"
      ]
     },
     "execution_count": 78,
     "metadata": {},
     "output_type": "execute_result"
    }
   ],
   "source": [
    "agglomerative_results = pd.DataFrame(search.cv_results_)[['params', 'mean_test_score', 'rank_test_score']].sort_values('rank_test_score')\n",
    "agglomerative_results.head(10).style.apply(highlight_equal, value=1, column=['rank_test_score'], axis=1).hide_index()"
   ]
  },
  {
   "cell_type": "markdown",
   "metadata": {},
   "source": [
    "What's the number of customers in each cluster?"
   ]
  },
  {
   "cell_type": "code",
   "execution_count": 80,
   "metadata": {},
   "outputs": [
    {
     "data": {
      "text/html": [
       "<div>\n",
       "<style scoped>\n",
       "    .dataframe tbody tr th:only-of-type {\n",
       "        vertical-align: middle;\n",
       "    }\n",
       "\n",
       "    .dataframe tbody tr th {\n",
       "        vertical-align: top;\n",
       "    }\n",
       "\n",
       "    .dataframe thead th {\n",
       "        text-align: right;\n",
       "    }\n",
       "</style>\n",
       "<table border=\"1\" class=\"dataframe\">\n",
       "  <thead>\n",
       "    <tr style=\"text-align: right;\">\n",
       "      <th></th>\n",
       "      <th>0</th>\n",
       "      <th>1</th>\n",
       "    </tr>\n",
       "  </thead>\n",
       "  <tbody>\n",
       "    <tr>\n",
       "      <th>CustomersNo</th>\n",
       "      <td>2276</td>\n",
       "      <td>5</td>\n",
       "    </tr>\n",
       "  </tbody>\n",
       "</table>\n",
       "</div>"
      ],
      "text/plain": [
       "                0  1\n",
       "CustomersNo  2276  5"
      ]
     },
     "execution_count": 80,
     "metadata": {},
     "output_type": "execute_result"
    }
   ],
   "source": [
    "scaled_customer_profile = search.best_estimator_['scaler'].transform(customer_profile)\n",
    "clusters_customers = search.best_estimator_['clustering'].fit_predict(scaled_customer_profile)\n",
    "pd.DataFrame(pd.Series(clusters_customers).value_counts(), columns=['CustomersNo']).T"
   ]
  },
  {
   "cell_type": "markdown",
   "metadata": {},
   "source": [
    "### Average Linkage"
   ]
  },
  {
   "cell_type": "code",
   "execution_count": 81,
   "metadata": {},
   "outputs": [
    {
     "name": "stdout",
     "output_type": "stream",
     "text": [
      "Fitting 1 folds for each of 24 candidates, totalling 24 fits\n"
     ]
    },
    {
     "name": "stderr",
     "output_type": "stream",
     "text": [
      "[Parallel(n_jobs=-1)]: Using backend LokyBackend with 8 concurrent workers.\n",
      "[Parallel(n_jobs=-1)]: Done  24 out of  24 | elapsed:    2.6s finished\n"
     ]
    }
   ],
   "source": [
    "pipeline = Pipeline(steps=[('scaler', StandardScaler()),\n",
    "                           # skipping PCA since agglomerative clustering uses the Feature Agglomeration to group together features \n",
    "                           # that look very similar, thus decreasing the number of features. It is a dimensionality reduction tool.\n",
    "                           ('clustering', AgglomerativeClustering(linkage='average'))])\n",
    "\n",
    "n_features = customer_profile.shape[1]\n",
    "\n",
    "# parameters of pipelines can be set using ‘__’ separated parameter names\n",
    "tuned_parameters = {\n",
    "    'clustering__n_clusters' : range(2, 10),\n",
    "    'clustering__affinity': ('euclidean', 'manhattan', 'cosine')}\n",
    "\n",
    "search = GridSearchCV(estimator=pipeline, \n",
    "                      param_grid=tuned_parameters, \n",
    "                      scoring=silhouette_scorer, \n",
    "                      cv=[(slice(None), slice(None))],  # https://stackoverflow.com/a/44682305/5555994\n",
    "                      n_jobs=-1,  # use all processors\n",
    "                      refit=True, \n",
    "                      verbose=True).fit(customer_profile)"
   ]
  },
  {
   "cell_type": "code",
   "execution_count": 82,
   "metadata": {},
   "outputs": [
    {
     "data": {
      "text/html": [
       "<style  type=\"text/css\" >\n",
       "    #T_78425a84_2419_11eb_acf4_9169b01bf258row0_col0 {\n",
       "            background-color:  lightyellow;\n",
       "        }    #T_78425a84_2419_11eb_acf4_9169b01bf258row0_col1 {\n",
       "            background-color:  lightyellow;\n",
       "        }    #T_78425a84_2419_11eb_acf4_9169b01bf258row0_col2 {\n",
       "            background-color:  lightyellow;\n",
       "        }</style><table id=\"T_78425a84_2419_11eb_acf4_9169b01bf258\" ><thead>    <tr>        <th class=\"col_heading level0 col0\" >params</th>        <th class=\"col_heading level0 col1\" >mean_test_score</th>        <th class=\"col_heading level0 col2\" >rank_test_score</th>    </tr></thead><tbody>\n",
       "                <tr>\n",
       "                                <td id=\"T_78425a84_2419_11eb_acf4_9169b01bf258row0_col0\" class=\"data row0 col0\" >{'clustering__affinity': 'euclidean', 'clustering__n_clusters': 2}</td>\n",
       "                        <td id=\"T_78425a84_2419_11eb_acf4_9169b01bf258row0_col1\" class=\"data row0 col1\" >0.521929</td>\n",
       "                        <td id=\"T_78425a84_2419_11eb_acf4_9169b01bf258row0_col2\" class=\"data row0 col2\" >1</td>\n",
       "            </tr>\n",
       "            <tr>\n",
       "                                <td id=\"T_78425a84_2419_11eb_acf4_9169b01bf258row1_col0\" class=\"data row1 col0\" >{'clustering__affinity': 'manhattan', 'clustering__n_clusters': 2}</td>\n",
       "                        <td id=\"T_78425a84_2419_11eb_acf4_9169b01bf258row1_col1\" class=\"data row1 col1\" >0.458164</td>\n",
       "                        <td id=\"T_78425a84_2419_11eb_acf4_9169b01bf258row1_col2\" class=\"data row1 col2\" >2</td>\n",
       "            </tr>\n",
       "            <tr>\n",
       "                                <td id=\"T_78425a84_2419_11eb_acf4_9169b01bf258row2_col0\" class=\"data row2 col0\" >{'clustering__affinity': 'manhattan', 'clustering__n_clusters': 3}</td>\n",
       "                        <td id=\"T_78425a84_2419_11eb_acf4_9169b01bf258row2_col1\" class=\"data row2 col1\" >0.445733</td>\n",
       "                        <td id=\"T_78425a84_2419_11eb_acf4_9169b01bf258row2_col2\" class=\"data row2 col2\" >3</td>\n",
       "            </tr>\n",
       "            <tr>\n",
       "                                <td id=\"T_78425a84_2419_11eb_acf4_9169b01bf258row3_col0\" class=\"data row3 col0\" >{'clustering__affinity': 'manhattan', 'clustering__n_clusters': 4}</td>\n",
       "                        <td id=\"T_78425a84_2419_11eb_acf4_9169b01bf258row3_col1\" class=\"data row3 col1\" >0.428713</td>\n",
       "                        <td id=\"T_78425a84_2419_11eb_acf4_9169b01bf258row3_col2\" class=\"data row3 col2\" >4</td>\n",
       "            </tr>\n",
       "            <tr>\n",
       "                                <td id=\"T_78425a84_2419_11eb_acf4_9169b01bf258row4_col0\" class=\"data row4 col0\" >{'clustering__affinity': 'euclidean', 'clustering__n_clusters': 3}</td>\n",
       "                        <td id=\"T_78425a84_2419_11eb_acf4_9169b01bf258row4_col1\" class=\"data row4 col1\" >0.422432</td>\n",
       "                        <td id=\"T_78425a84_2419_11eb_acf4_9169b01bf258row4_col2\" class=\"data row4 col2\" >5</td>\n",
       "            </tr>\n",
       "            <tr>\n",
       "                                <td id=\"T_78425a84_2419_11eb_acf4_9169b01bf258row5_col0\" class=\"data row5 col0\" >{'clustering__affinity': 'euclidean', 'clustering__n_clusters': 4}</td>\n",
       "                        <td id=\"T_78425a84_2419_11eb_acf4_9169b01bf258row5_col1\" class=\"data row5 col1\" >0.342600</td>\n",
       "                        <td id=\"T_78425a84_2419_11eb_acf4_9169b01bf258row5_col2\" class=\"data row5 col2\" >6</td>\n",
       "            </tr>\n",
       "            <tr>\n",
       "                                <td id=\"T_78425a84_2419_11eb_acf4_9169b01bf258row6_col0\" class=\"data row6 col0\" >{'clustering__affinity': 'euclidean', 'clustering__n_clusters': 5}</td>\n",
       "                        <td id=\"T_78425a84_2419_11eb_acf4_9169b01bf258row6_col1\" class=\"data row6 col1\" >0.340761</td>\n",
       "                        <td id=\"T_78425a84_2419_11eb_acf4_9169b01bf258row6_col2\" class=\"data row6 col2\" >7</td>\n",
       "            </tr>\n",
       "            <tr>\n",
       "                                <td id=\"T_78425a84_2419_11eb_acf4_9169b01bf258row7_col0\" class=\"data row7 col0\" >{'clustering__affinity': 'manhattan', 'clustering__n_clusters': 5}</td>\n",
       "                        <td id=\"T_78425a84_2419_11eb_acf4_9169b01bf258row7_col1\" class=\"data row7 col1\" >0.335329</td>\n",
       "                        <td id=\"T_78425a84_2419_11eb_acf4_9169b01bf258row7_col2\" class=\"data row7 col2\" >8</td>\n",
       "            </tr>\n",
       "            <tr>\n",
       "                                <td id=\"T_78425a84_2419_11eb_acf4_9169b01bf258row8_col0\" class=\"data row8 col0\" >{'clustering__affinity': 'manhattan', 'clustering__n_clusters': 6}</td>\n",
       "                        <td id=\"T_78425a84_2419_11eb_acf4_9169b01bf258row8_col1\" class=\"data row8 col1\" >0.329052</td>\n",
       "                        <td id=\"T_78425a84_2419_11eb_acf4_9169b01bf258row8_col2\" class=\"data row8 col2\" >9</td>\n",
       "            </tr>\n",
       "            <tr>\n",
       "                                <td id=\"T_78425a84_2419_11eb_acf4_9169b01bf258row9_col0\" class=\"data row9 col0\" >{'clustering__affinity': 'euclidean', 'clustering__n_clusters': 6}</td>\n",
       "                        <td id=\"T_78425a84_2419_11eb_acf4_9169b01bf258row9_col1\" class=\"data row9 col1\" >0.315041</td>\n",
       "                        <td id=\"T_78425a84_2419_11eb_acf4_9169b01bf258row9_col2\" class=\"data row9 col2\" >10</td>\n",
       "            </tr>\n",
       "    </tbody></table>"
      ],
      "text/plain": [
       "<pandas.io.formats.style.Styler at 0x7f72a03f1f40>"
      ]
     },
     "execution_count": 82,
     "metadata": {},
     "output_type": "execute_result"
    }
   ],
   "source": [
    "agglomerative_results = pd.DataFrame(search.cv_results_)[['params', 'mean_test_score', 'rank_test_score']].sort_values('rank_test_score')\n",
    "agglomerative_results.head(10).style.apply(highlight_equal, value=1, column=['rank_test_score'], axis=1).hide_index()"
   ]
  },
  {
   "cell_type": "markdown",
   "metadata": {},
   "source": [
    "What's the number of customers in each cluster?"
   ]
  },
  {
   "cell_type": "code",
   "execution_count": 84,
   "metadata": {},
   "outputs": [
    {
     "data": {
      "text/html": [
       "<div>\n",
       "<style scoped>\n",
       "    .dataframe tbody tr th:only-of-type {\n",
       "        vertical-align: middle;\n",
       "    }\n",
       "\n",
       "    .dataframe tbody tr th {\n",
       "        vertical-align: top;\n",
       "    }\n",
       "\n",
       "    .dataframe thead th {\n",
       "        text-align: right;\n",
       "    }\n",
       "</style>\n",
       "<table border=\"1\" class=\"dataframe\">\n",
       "  <thead>\n",
       "    <tr style=\"text-align: right;\">\n",
       "      <th></th>\n",
       "      <th>0</th>\n",
       "      <th>1</th>\n",
       "    </tr>\n",
       "  </thead>\n",
       "  <tbody>\n",
       "    <tr>\n",
       "      <th>CustomersNo</th>\n",
       "      <td>2276</td>\n",
       "      <td>5</td>\n",
       "    </tr>\n",
       "  </tbody>\n",
       "</table>\n",
       "</div>"
      ],
      "text/plain": [
       "                0  1\n",
       "CustomersNo  2276  5"
      ]
     },
     "execution_count": 84,
     "metadata": {},
     "output_type": "execute_result"
    }
   ],
   "source": [
    "scaled_customer_profile = search.best_estimator_['scaler'].transform(customer_profile)\n",
    "clusters_customers = search.best_estimator_['clustering'].fit_predict(scaled_customer_profile)\n",
    "pd.DataFrame(pd.Series(clusters_customers).value_counts(), columns=['CustomersNo']).T"
   ]
  }
 ],
 "metadata": {
  "kernelspec": {
   "display_name": "Python 3",
   "language": "python",
   "name": "python3"
  },
  "language_info": {
   "codemirror_mode": {
    "name": "ipython",
    "version": 3
   },
   "file_extension": ".py",
   "mimetype": "text/x-python",
   "name": "python",
   "nbconvert_exporter": "python",
   "pygments_lexer": "ipython3",
   "version": "3.8.6"
  }
 },
 "nbformat": 4,
 "nbformat_minor": 4
}
