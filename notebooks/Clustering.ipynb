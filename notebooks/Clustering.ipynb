{
 "cells": [
  {
   "cell_type": "markdown",
   "metadata": {},
   "source": [
    "# Task 2: Clustering"
   ]
  },
  {
   "cell_type": "code",
   "execution_count": 20,
   "metadata": {},
   "outputs": [],
   "source": [
    "import pandas as pd\n",
    "import matplotlib.pyplot as plt"
   ]
  },
  {
   "cell_type": "markdown",
   "metadata": {},
   "source": [
    "## Loading the Customer Profile model"
   ]
  },
  {
   "cell_type": "code",
   "execution_count": 21,
   "metadata": {},
   "outputs": [
    {
     "data": {
      "text/html": [
       "<div>\n",
       "<style scoped>\n",
       "    .dataframe tbody tr th:only-of-type {\n",
       "        vertical-align: middle;\n",
       "    }\n",
       "\n",
       "    .dataframe tbody tr th {\n",
       "        vertical-align: top;\n",
       "    }\n",
       "\n",
       "    .dataframe thead th {\n",
       "        text-align: right;\n",
       "    }\n",
       "</style>\n",
       "<table border=\"1\" class=\"dataframe\">\n",
       "  <thead>\n",
       "    <tr style=\"text-align: right;\">\n",
       "      <th></th>\n",
       "      <th>I</th>\n",
       "      <th>Iu</th>\n",
       "      <th>Imax</th>\n",
       "      <th>monetary</th>\n",
       "      <th>recency</th>\n",
       "      <th>T</th>\n",
       "      <th>frequency</th>\n",
       "    </tr>\n",
       "    <tr>\n",
       "      <th>CustomerID</th>\n",
       "      <th></th>\n",
       "      <th></th>\n",
       "      <th></th>\n",
       "      <th></th>\n",
       "      <th></th>\n",
       "      <th></th>\n",
       "      <th></th>\n",
       "    </tr>\n",
       "  </thead>\n",
       "  <tbody>\n",
       "    <tr>\n",
       "      <th>12747.0</th>\n",
       "      <td>6.967909</td>\n",
       "      <td>3.663562</td>\n",
       "      <td>5.337538</td>\n",
       "      <td>5.762366</td>\n",
       "      <td>2.079442</td>\n",
       "      <td>5.831882</td>\n",
       "      <td>5.985119</td>\n",
       "    </tr>\n",
       "    <tr>\n",
       "      <th>12748.0</th>\n",
       "      <td>10.012656</td>\n",
       "      <td>7.378384</td>\n",
       "      <td>7.396949</td>\n",
       "      <td>5.814429</td>\n",
       "      <td>4.584967</td>\n",
       "      <td>5.828946</td>\n",
       "      <td>5.636840</td>\n",
       "    </tr>\n",
       "    <tr>\n",
       "      <th>12749.0</th>\n",
       "      <td>7.293698</td>\n",
       "      <td>5.075174</td>\n",
       "      <td>6.699500</td>\n",
       "      <td>5.746523</td>\n",
       "      <td>1.098612</td>\n",
       "      <td>5.817111</td>\n",
       "      <td>6.595348</td>\n",
       "    </tr>\n",
       "    <tr>\n",
       "      <th>12820.0</th>\n",
       "      <td>6.582025</td>\n",
       "      <td>4.007333</td>\n",
       "      <td>5.497168</td>\n",
       "      <td>5.642262</td>\n",
       "      <td>1.098612</td>\n",
       "      <td>5.789960</td>\n",
       "      <td>5.550605</td>\n",
       "    </tr>\n",
       "    <tr>\n",
       "      <th>12822.0</th>\n",
       "      <td>6.309918</td>\n",
       "      <td>3.713572</td>\n",
       "      <td>6.049733</td>\n",
       "      <td>2.839078</td>\n",
       "      <td>0.000000</td>\n",
       "      <td>4.477337</td>\n",
       "      <td>5.553270</td>\n",
       "    </tr>\n",
       "    <tr>\n",
       "      <th>...</th>\n",
       "      <td>...</td>\n",
       "      <td>...</td>\n",
       "      <td>...</td>\n",
       "      <td>...</td>\n",
       "      <td>...</td>\n",
       "      <td>...</td>\n",
       "      <td>...</td>\n",
       "    </tr>\n",
       "    <tr>\n",
       "      <th>18272.0</th>\n",
       "      <td>7.625595</td>\n",
       "      <td>4.595120</td>\n",
       "      <td>6.238325</td>\n",
       "      <td>5.407620</td>\n",
       "      <td>1.609438</td>\n",
       "      <td>5.420535</td>\n",
       "      <td>6.305677</td>\n",
       "    </tr>\n",
       "    <tr>\n",
       "      <th>18273.0</th>\n",
       "      <td>4.382027</td>\n",
       "      <td>0.000000</td>\n",
       "      <td>3.688879</td>\n",
       "      <td>4.673763</td>\n",
       "      <td>0.693147</td>\n",
       "      <td>5.552960</td>\n",
       "      <td>4.338597</td>\n",
       "    </tr>\n",
       "    <tr>\n",
       "      <th>18282.0</th>\n",
       "      <td>4.634729</td>\n",
       "      <td>2.484907</td>\n",
       "      <td>4.317488</td>\n",
       "      <td>4.443827</td>\n",
       "      <td>0.000000</td>\n",
       "      <td>5.707110</td>\n",
       "      <td>4.608265</td>\n",
       "    </tr>\n",
       "    <tr>\n",
       "      <th>18283.0</th>\n",
       "      <td>7.211557</td>\n",
       "      <td>5.568345</td>\n",
       "      <td>5.484797</td>\n",
       "      <td>5.740114</td>\n",
       "      <td>2.564949</td>\n",
       "      <td>5.771441</td>\n",
       "      <td>5.003213</td>\n",
       "    </tr>\n",
       "    <tr>\n",
       "      <th>18287.0</th>\n",
       "      <td>7.368970</td>\n",
       "      <td>4.077537</td>\n",
       "      <td>6.897705</td>\n",
       "      <td>5.308763</td>\n",
       "      <td>0.693147</td>\n",
       "      <td>5.308268</td>\n",
       "      <td>6.284321</td>\n",
       "    </tr>\n",
       "  </tbody>\n",
       "</table>\n",
       "<p>2393 rows × 7 columns</p>\n",
       "</div>"
      ],
      "text/plain": [
       "                    I        Iu      Imax  monetary   recency         T  \\\n",
       "CustomerID                                                                \n",
       "12747.0      6.967909  3.663562  5.337538  5.762366  2.079442  5.831882   \n",
       "12748.0     10.012656  7.378384  7.396949  5.814429  4.584967  5.828946   \n",
       "12749.0      7.293698  5.075174  6.699500  5.746523  1.098612  5.817111   \n",
       "12820.0      6.582025  4.007333  5.497168  5.642262  1.098612  5.789960   \n",
       "12822.0      6.309918  3.713572  6.049733  2.839078  0.000000  4.477337   \n",
       "...               ...       ...       ...       ...       ...       ...   \n",
       "18272.0      7.625595  4.595120  6.238325  5.407620  1.609438  5.420535   \n",
       "18273.0      4.382027  0.000000  3.688879  4.673763  0.693147  5.552960   \n",
       "18282.0      4.634729  2.484907  4.317488  4.443827  0.000000  5.707110   \n",
       "18283.0      7.211557  5.568345  5.484797  5.740114  2.564949  5.771441   \n",
       "18287.0      7.368970  4.077537  6.897705  5.308763  0.693147  5.308268   \n",
       "\n",
       "            frequency  \n",
       "CustomerID             \n",
       "12747.0      5.985119  \n",
       "12748.0      5.636840  \n",
       "12749.0      6.595348  \n",
       "12820.0      5.550605  \n",
       "12822.0      5.553270  \n",
       "...               ...  \n",
       "18272.0      6.305677  \n",
       "18273.0      4.338597  \n",
       "18282.0      4.608265  \n",
       "18283.0      5.003213  \n",
       "18287.0      6.284321  \n",
       "\n",
       "[2393 rows x 7 columns]"
      ]
     },
     "execution_count": 21,
     "metadata": {},
     "output_type": "execute_result"
    }
   ],
   "source": [
    "customer_profile = pd.read_csv('../dataset/customer_profile_model.csv', sep='\\t', index_col=0)\n",
    "customer_profile"
   ]
  },
  {
   "cell_type": "code",
   "execution_count": 22,
   "metadata": {},
   "outputs": [],
   "source": [
    "customer_profile = customer_profile.to_numpy()"
   ]
  },
  {
   "cell_type": "markdown",
   "metadata": {},
   "source": [
    "## K-means"
   ]
  },
  {
   "cell_type": "code",
   "execution_count": 33,
   "metadata": {},
   "outputs": [],
   "source": [
    "from sklearn.preprocessing import StandardScaler\n",
    "from sklearn.decomposition import PCA\n",
    "from sklearn.cluster import KMeans\n",
    "from sklearn.pipeline import Pipeline\n",
    "from sklearn.model_selection import GridSearchCV\n",
    "from sklearn.metrics import silhouette_score"
   ]
  },
  {
   "cell_type": "code",
   "execution_count": 34,
   "metadata": {},
   "outputs": [
    {
     "name": "stdout",
     "output_type": "stream",
     "text": [
      "Fitting 1 folds for each of 48 candidates, totalling 48 fits\n"
     ]
    },
    {
     "name": "stderr",
     "output_type": "stream",
     "text": [
      "[Parallel(n_jobs=-1)]: Using backend LokyBackend with 8 concurrent workers.\n",
      "[Parallel(n_jobs=-1)]: Done  48 out of  48 | elapsed:    3.3s finished\n"
     ]
    }
   ],
   "source": [
    "def silhouette_scorer(pipeline, X):\n",
    "    pipeline.fit(X)\n",
    "    cluster_labels = pipeline['kmeans'].labels_\n",
    "    return silhouette_score(X, cluster_labels)\n",
    "    \n",
    "# define a pipeline to search for the best combination of PCA truncation, scaler and the number of kmeans clusters\n",
    "pipeline = Pipeline(steps=[('pca', PCA()), # a common practice before doing clustering: PCA which calculates the dimensions which best maximize variance; \n",
    "                           # it does dimensionality reduction while keeping the most important features, i.e. combinations of features best describe customers.\n",
    "                           ('scaler', StandardScaler()),\n",
    "                           ('kmeans', KMeans(init='k-means++'))])\n",
    "\n",
    "n_features = customer_profile.shape[1]\n",
    "\n",
    "# parameters of pipelines can be set using ‘__’ separated parameter names\n",
    "tuned_parameters = {\n",
    "    'pca__n_components': range(2, n_features + 1),\n",
    "    'kmeans__n_clusters': range(2, 10)}\n",
    "    # 'kmeans__n_init': [100]}\n",
    "\n",
    "search = GridSearchCV(estimator=pipeline, \n",
    "                      param_grid=tuned_parameters, \n",
    "                      scoring=silhouette_scorer, \n",
    "                      cv=[(slice(None), slice(None))],  # https://stackoverflow.com/a/44682305/5555994\n",
    "                      n_jobs=-1,  # use all processors\n",
    "                      refit=True, \n",
    "                      verbose=True).fit(customer_profile)"
   ]
  },
  {
   "cell_type": "code",
   "execution_count": 35,
   "metadata": {},
   "outputs": [
    {
     "data": {
      "text/html": [
       "<style  type=\"text/css\" >\n",
       "    #T_b79a87c4_2234_11eb_82b1_05ce84ce29c8row0_col0 {\n",
       "            background-color:  lightyellow;\n",
       "        }    #T_b79a87c4_2234_11eb_82b1_05ce84ce29c8row0_col1 {\n",
       "            background-color:  lightyellow;\n",
       "        }    #T_b79a87c4_2234_11eb_82b1_05ce84ce29c8row0_col2 {\n",
       "            background-color:  lightyellow;\n",
       "        }</style><table id=\"T_b79a87c4_2234_11eb_82b1_05ce84ce29c8\" ><thead>    <tr>        <th class=\"col_heading level0 col0\" >params</th>        <th class=\"col_heading level0 col1\" >mean_test_score</th>        <th class=\"col_heading level0 col2\" >rank_test_score</th>    </tr></thead><tbody>\n",
       "                <tr>\n",
       "                                <td id=\"T_b79a87c4_2234_11eb_82b1_05ce84ce29c8row0_col0\" class=\"data row0 col0\" >{'kmeans__n_clusters': 2, 'pca__n_components': 2}</td>\n",
       "                        <td id=\"T_b79a87c4_2234_11eb_82b1_05ce84ce29c8row0_col1\" class=\"data row0 col1\" >0.297943</td>\n",
       "                        <td id=\"T_b79a87c4_2234_11eb_82b1_05ce84ce29c8row0_col2\" class=\"data row0 col2\" >1</td>\n",
       "            </tr>\n",
       "            <tr>\n",
       "                                <td id=\"T_b79a87c4_2234_11eb_82b1_05ce84ce29c8row1_col0\" class=\"data row1 col0\" >{'kmeans__n_clusters': 2, 'pca__n_components': 3}</td>\n",
       "                        <td id=\"T_b79a87c4_2234_11eb_82b1_05ce84ce29c8row1_col1\" class=\"data row1 col1\" >0.291906</td>\n",
       "                        <td id=\"T_b79a87c4_2234_11eb_82b1_05ce84ce29c8row1_col2\" class=\"data row1 col2\" >2</td>\n",
       "            </tr>\n",
       "            <tr>\n",
       "                                <td id=\"T_b79a87c4_2234_11eb_82b1_05ce84ce29c8row2_col0\" class=\"data row2 col0\" >{'kmeans__n_clusters': 3, 'pca__n_components': 2}</td>\n",
       "                        <td id=\"T_b79a87c4_2234_11eb_82b1_05ce84ce29c8row2_col1\" class=\"data row2 col1\" >0.268755</td>\n",
       "                        <td id=\"T_b79a87c4_2234_11eb_82b1_05ce84ce29c8row2_col2\" class=\"data row2 col2\" >3</td>\n",
       "            </tr>\n",
       "            <tr>\n",
       "                                <td id=\"T_b79a87c4_2234_11eb_82b1_05ce84ce29c8row3_col0\" class=\"data row3 col0\" >{'kmeans__n_clusters': 3, 'pca__n_components': 3}</td>\n",
       "                        <td id=\"T_b79a87c4_2234_11eb_82b1_05ce84ce29c8row3_col1\" class=\"data row3 col1\" >0.258139</td>\n",
       "                        <td id=\"T_b79a87c4_2234_11eb_82b1_05ce84ce29c8row3_col2\" class=\"data row3 col2\" >4</td>\n",
       "            </tr>\n",
       "            <tr>\n",
       "                                <td id=\"T_b79a87c4_2234_11eb_82b1_05ce84ce29c8row4_col0\" class=\"data row4 col0\" >{'kmeans__n_clusters': 2, 'pca__n_components': 5}</td>\n",
       "                        <td id=\"T_b79a87c4_2234_11eb_82b1_05ce84ce29c8row4_col1\" class=\"data row4 col1\" >0.253291</td>\n",
       "                        <td id=\"T_b79a87c4_2234_11eb_82b1_05ce84ce29c8row4_col2\" class=\"data row4 col2\" >5</td>\n",
       "            </tr>\n",
       "            <tr>\n",
       "                                <td id=\"T_b79a87c4_2234_11eb_82b1_05ce84ce29c8row5_col0\" class=\"data row5 col0\" >{'kmeans__n_clusters': 2, 'pca__n_components': 4}</td>\n",
       "                        <td id=\"T_b79a87c4_2234_11eb_82b1_05ce84ce29c8row5_col1\" class=\"data row5 col1\" >0.250819</td>\n",
       "                        <td id=\"T_b79a87c4_2234_11eb_82b1_05ce84ce29c8row5_col2\" class=\"data row5 col2\" >6</td>\n",
       "            </tr>\n",
       "            <tr>\n",
       "                                <td id=\"T_b79a87c4_2234_11eb_82b1_05ce84ce29c8row6_col0\" class=\"data row6 col0\" >{'kmeans__n_clusters': 2, 'pca__n_components': 7}</td>\n",
       "                        <td id=\"T_b79a87c4_2234_11eb_82b1_05ce84ce29c8row6_col1\" class=\"data row6 col1\" >0.250373</td>\n",
       "                        <td id=\"T_b79a87c4_2234_11eb_82b1_05ce84ce29c8row6_col2\" class=\"data row6 col2\" >7</td>\n",
       "            </tr>\n",
       "            <tr>\n",
       "                                <td id=\"T_b79a87c4_2234_11eb_82b1_05ce84ce29c8row7_col0\" class=\"data row7 col0\" >{'kmeans__n_clusters': 4, 'pca__n_components': 3}</td>\n",
       "                        <td id=\"T_b79a87c4_2234_11eb_82b1_05ce84ce29c8row7_col1\" class=\"data row7 col1\" >0.246678</td>\n",
       "                        <td id=\"T_b79a87c4_2234_11eb_82b1_05ce84ce29c8row7_col2\" class=\"data row7 col2\" >8</td>\n",
       "            </tr>\n",
       "            <tr>\n",
       "                                <td id=\"T_b79a87c4_2234_11eb_82b1_05ce84ce29c8row8_col0\" class=\"data row8 col0\" >{'kmeans__n_clusters': 2, 'pca__n_components': 6}</td>\n",
       "                        <td id=\"T_b79a87c4_2234_11eb_82b1_05ce84ce29c8row8_col1\" class=\"data row8 col1\" >0.237995</td>\n",
       "                        <td id=\"T_b79a87c4_2234_11eb_82b1_05ce84ce29c8row8_col2\" class=\"data row8 col2\" >9</td>\n",
       "            </tr>\n",
       "            <tr>\n",
       "                                <td id=\"T_b79a87c4_2234_11eb_82b1_05ce84ce29c8row9_col0\" class=\"data row9 col0\" >{'kmeans__n_clusters': 3, 'pca__n_components': 4}</td>\n",
       "                        <td id=\"T_b79a87c4_2234_11eb_82b1_05ce84ce29c8row9_col1\" class=\"data row9 col1\" >0.222178</td>\n",
       "                        <td id=\"T_b79a87c4_2234_11eb_82b1_05ce84ce29c8row9_col2\" class=\"data row9 col2\" >10</td>\n",
       "            </tr>\n",
       "    </tbody></table>"
      ],
      "text/plain": [
       "<pandas.io.formats.style.Styler at 0x7f92d30fefa0>"
      ]
     },
     "execution_count": 35,
     "metadata": {},
     "output_type": "execute_result"
    }
   ],
   "source": [
    "results = pd.DataFrame(search.cv_results_)[['params', 'mean_test_score', 'rank_test_score']].sort_values('rank_test_score')\n",
    "\n",
    "def highlight_equal(s, value, column):\n",
    "    is_max = pd.Series(data=False, index=s.index)\n",
    "    is_max[column] = s.loc[column] == value\n",
    "    return ['background-color: lightyellow' if is_max.any() else '' for v in is_max]\n",
    "\n",
    "results.head(10).style.apply(highlight_equal, value=1, column=['rank_test_score'], axis=1).hide_index()"
   ]
  },
  {
   "cell_type": "code",
   "execution_count": 36,
   "metadata": {},
   "outputs": [
    {
     "data": {
      "image/png": "[encoded data removed]",
      "text/plain": [
       "<Figure size 432x288 with 1 Axes>"
      ]
     },
     "metadata": {
      "needs_background": "light"
     },
     "output_type": "display_data"
    }
   ],
   "source": [
    "# create a scatter plot\n",
    "clusters_customers = search.predict(customer_profile)\n",
    "pca_customer_profile = search.best_estimator_['pca'].transform(customer_profile)\n",
    "plt.scatter(pca_customer_profile[:, 0], pca_customer_profile[:, 1], c=clusters_customers, s=20)\n",
    "# select cluster centers\n",
    "centroids = search.best_estimator_['kmeans'].cluster_centers_\n",
    "plt.scatter(centroids[:, 0], centroids[:, 1], c='black', s=70, alpha=0.5);"
   ]
  },
  {
   "cell_type": "markdown",
   "metadata": {},
   "source": [
    "What's the number of customers in each cluster?"
   ]
  },
  {
   "cell_type": "code",
   "execution_count": 37,
   "metadata": {},
   "outputs": [
    {
     "data": {
      "text/html": [
       "<div>\n",
       "<style scoped>\n",
       "    .dataframe tbody tr th:only-of-type {\n",
       "        vertical-align: middle;\n",
       "    }\n",
       "\n",
       "    .dataframe tbody tr th {\n",
       "        vertical-align: top;\n",
       "    }\n",
       "\n",
       "    .dataframe thead th {\n",
       "        text-align: right;\n",
       "    }\n",
       "</style>\n",
       "<table border=\"1\" class=\"dataframe\">\n",
       "  <thead>\n",
       "    <tr style=\"text-align: right;\">\n",
       "      <th></th>\n",
       "      <th>0</th>\n",
       "      <th>1</th>\n",
       "    </tr>\n",
       "  </thead>\n",
       "  <tbody>\n",
       "    <tr>\n",
       "      <th>CustomersNumber</th>\n",
       "      <td>1248</td>\n",
       "      <td>1145</td>\n",
       "    </tr>\n",
       "  </tbody>\n",
       "</table>\n",
       "</div>"
      ],
      "text/plain": [
       "                    0     1\n",
       "CustomersNumber  1248  1145"
      ]
     },
     "execution_count": 37,
     "metadata": {},
     "output_type": "execute_result"
    }
   ],
   "source": [
    "pd.DataFrame(pd.Series(clusters_customers).value_counts(), columns=['CustomersNumber']).T"
   ]
  },
  {
   "cell_type": "markdown",
   "metadata": {},
   "source": [
    "## DBSCAN"
   ]
  },
  {
   "cell_type": "code",
   "execution_count": null,
   "metadata": {},
   "outputs": [],
   "source": []
  }
 ],
 "metadata": {
  "kernelspec": {
   "display_name": "Python 3",
   "language": "python",
   "name": "python3"
  },
  "language_info": {
   "codemirror_mode": {
    "name": "ipython",
    "version": 3
   },
   "file_extension": ".py",
   "mimetype": "text/x-python",
   "name": "python",
   "nbconvert_exporter": "python",
   "pygments_lexer": "ipython3",
   "version": "3.8.6"
  }
 },
 "nbformat": 4,
 "nbformat_minor": 4
}
