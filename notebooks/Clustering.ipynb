{
 "cells": [
  {
   "cell_type": "markdown",
   "metadata": {},
   "source": [
    "# Task 2: Clustering"
   ]
  },
  {
   "cell_type": "code",
   "execution_count": 18,
   "metadata": {},
   "outputs": [],
   "source": [
    "import pandas as pd\n",
    "import matplotlib.pyplot as plt"
   ]
  },
  {
   "cell_type": "markdown",
   "metadata": {},
   "source": [
    "## Loading the RFM model"
   ]
  },
  {
   "cell_type": "code",
   "execution_count": 10,
   "metadata": {},
   "outputs": [
    {
     "data": {
      "text/html": [
       "<div>\n",
       "<style scoped>\n",
       "    .dataframe tbody tr th:only-of-type {\n",
       "        vertical-align: middle;\n",
       "    }\n",
       "\n",
       "    .dataframe tbody tr th {\n",
       "        vertical-align: top;\n",
       "    }\n",
       "\n",
       "    .dataframe thead th {\n",
       "        text-align: right;\n",
       "    }\n",
       "</style>\n",
       "<table border=\"1\" class=\"dataframe\">\n",
       "  <thead>\n",
       "    <tr style=\"text-align: right;\">\n",
       "      <th></th>\n",
       "      <th>monetary</th>\n",
       "      <th>recency</th>\n",
       "      <th>T</th>\n",
       "      <th>frequency</th>\n",
       "      <th>R</th>\n",
       "      <th>F</th>\n",
       "      <th>M</th>\n",
       "      <th>RFMScore</th>\n",
       "    </tr>\n",
       "    <tr>\n",
       "      <th>CustomerID</th>\n",
       "      <th></th>\n",
       "      <th></th>\n",
       "      <th></th>\n",
       "      <th></th>\n",
       "      <th></th>\n",
       "      <th></th>\n",
       "      <th></th>\n",
       "      <th></th>\n",
       "    </tr>\n",
       "  </thead>\n",
       "  <tbody>\n",
       "    <tr>\n",
       "      <th>12747.0</th>\n",
       "      <td>5.762366</td>\n",
       "      <td>2.079442</td>\n",
       "      <td>5.831882</td>\n",
       "      <td>5.985119</td>\n",
       "      <td>1</td>\n",
       "      <td>3</td>\n",
       "      <td>4</td>\n",
       "      <td>8</td>\n",
       "    </tr>\n",
       "    <tr>\n",
       "      <th>12748.0</th>\n",
       "      <td>5.814429</td>\n",
       "      <td>4.584967</td>\n",
       "      <td>5.828946</td>\n",
       "      <td>5.636840</td>\n",
       "      <td>1</td>\n",
       "      <td>2</td>\n",
       "      <td>4</td>\n",
       "      <td>7</td>\n",
       "    </tr>\n",
       "    <tr>\n",
       "      <th>12749.0</th>\n",
       "      <td>5.746523</td>\n",
       "      <td>1.098612</td>\n",
       "      <td>5.817111</td>\n",
       "      <td>6.595348</td>\n",
       "      <td>2</td>\n",
       "      <td>4</td>\n",
       "      <td>4</td>\n",
       "      <td>10</td>\n",
       "    </tr>\n",
       "    <tr>\n",
       "      <th>12820.0</th>\n",
       "      <td>5.642262</td>\n",
       "      <td>1.098612</td>\n",
       "      <td>5.789960</td>\n",
       "      <td>5.550605</td>\n",
       "      <td>2</td>\n",
       "      <td>2</td>\n",
       "      <td>4</td>\n",
       "      <td>8</td>\n",
       "    </tr>\n",
       "    <tr>\n",
       "      <th>12822.0</th>\n",
       "      <td>2.839078</td>\n",
       "      <td>0.000000</td>\n",
       "      <td>4.477337</td>\n",
       "      <td>5.553270</td>\n",
       "      <td>4</td>\n",
       "      <td>2</td>\n",
       "      <td>1</td>\n",
       "      <td>7</td>\n",
       "    </tr>\n",
       "    <tr>\n",
       "      <th>...</th>\n",
       "      <td>...</td>\n",
       "      <td>...</td>\n",
       "      <td>...</td>\n",
       "      <td>...</td>\n",
       "      <td>...</td>\n",
       "      <td>...</td>\n",
       "      <td>...</td>\n",
       "      <td>...</td>\n",
       "    </tr>\n",
       "    <tr>\n",
       "      <th>18272.0</th>\n",
       "      <td>5.407620</td>\n",
       "      <td>1.609438</td>\n",
       "      <td>5.420535</td>\n",
       "      <td>6.305677</td>\n",
       "      <td>2</td>\n",
       "      <td>4</td>\n",
       "      <td>3</td>\n",
       "      <td>9</td>\n",
       "    </tr>\n",
       "    <tr>\n",
       "      <th>18273.0</th>\n",
       "      <td>4.673763</td>\n",
       "      <td>0.693147</td>\n",
       "      <td>5.552960</td>\n",
       "      <td>4.338597</td>\n",
       "      <td>3</td>\n",
       "      <td>1</td>\n",
       "      <td>1</td>\n",
       "      <td>5</td>\n",
       "    </tr>\n",
       "    <tr>\n",
       "      <th>18282.0</th>\n",
       "      <td>4.443827</td>\n",
       "      <td>0.000000</td>\n",
       "      <td>5.707110</td>\n",
       "      <td>4.608265</td>\n",
       "      <td>4</td>\n",
       "      <td>1</td>\n",
       "      <td>1</td>\n",
       "      <td>6</td>\n",
       "    </tr>\n",
       "    <tr>\n",
       "      <th>18283.0</th>\n",
       "      <td>5.740114</td>\n",
       "      <td>2.564949</td>\n",
       "      <td>5.771441</td>\n",
       "      <td>5.003213</td>\n",
       "      <td>1</td>\n",
       "      <td>1</td>\n",
       "      <td>4</td>\n",
       "      <td>6</td>\n",
       "    </tr>\n",
       "    <tr>\n",
       "      <th>18287.0</th>\n",
       "      <td>5.308763</td>\n",
       "      <td>0.693147</td>\n",
       "      <td>5.308268</td>\n",
       "      <td>6.284321</td>\n",
       "      <td>3</td>\n",
       "      <td>4</td>\n",
       "      <td>3</td>\n",
       "      <td>10</td>\n",
       "    </tr>\n",
       "  </tbody>\n",
       "</table>\n",
       "<p>2393 rows × 8 columns</p>\n",
       "</div>"
      ],
      "text/plain": [
       "            monetary   recency         T  frequency  R  F  M  RFMScore\n",
       "CustomerID                                                            \n",
       "12747.0     5.762366  2.079442  5.831882   5.985119  1  3  4         8\n",
       "12748.0     5.814429  4.584967  5.828946   5.636840  1  2  4         7\n",
       "12749.0     5.746523  1.098612  5.817111   6.595348  2  4  4        10\n",
       "12820.0     5.642262  1.098612  5.789960   5.550605  2  2  4         8\n",
       "12822.0     2.839078  0.000000  4.477337   5.553270  4  2  1         7\n",
       "...              ...       ...       ...        ... .. .. ..       ...\n",
       "18272.0     5.407620  1.609438  5.420535   6.305677  2  4  3         9\n",
       "18273.0     4.673763  0.693147  5.552960   4.338597  3  1  1         5\n",
       "18282.0     4.443827  0.000000  5.707110   4.608265  4  1  1         6\n",
       "18283.0     5.740114  2.564949  5.771441   5.003213  1  1  4         6\n",
       "18287.0     5.308763  0.693147  5.308268   6.284321  3  4  3        10\n",
       "\n",
       "[2393 rows x 8 columns]"
      ]
     },
     "execution_count": 10,
     "metadata": {},
     "output_type": "execute_result"
    }
   ],
   "source": [
    "rfm = pd.read_csv('../dataset/rfm_customer_supermarket_model.csv', sep='\\t', index_col=0)\n",
    "rfm"
   ]
  },
  {
   "cell_type": "markdown",
   "metadata": {},
   "source": [
    "## K-means"
   ]
  },
  {
   "cell_type": "code",
   "execution_count": 14,
   "metadata": {},
   "outputs": [],
   "source": [
    "from sklearn.cluster import KMeans\n",
    "from sklearn.metrics import silhouette_score"
   ]
  },
  {
   "cell_type": "code",
   "execution_count": 23,
   "metadata": {},
   "outputs": [
    {
     "name": "stdout",
     "output_type": "stream",
     "text": [
      "For n_clusters = 2 The average silhouette_score is : 0.3097132999108547\n",
      "For n_clusters = 3 The average silhouette_score is : 0.3161880850640452\n",
      "For n_clusters = 4 The average silhouette_score is : 0.288467035920146\n",
      "For n_clusters = 5 The average silhouette_score is : 0.28517452422456824\n",
      "For n_clusters = 6 The average silhouette_score is : 0.29476878843844195\n",
      "For n_clusters = 7 The average silhouette_score is : 0.2973145907391089\n",
      "For n_clusters = 8 The average silhouette_score is : 0.30134027246270517\n",
      "For n_clusters = 9 The average silhouette_score is : 0.2953579132273178\n"
     ]
    }
   ],
   "source": [
    "score = []\n",
    "for n_clusters in range(2, 10):\n",
    "    kmeans = KMeans(init='k-means++', n_clusters=n_clusters, n_init=100)\n",
    "    clusters = kmeans.fit_predict(rfm)\n",
    "    score.append(kmeans.inertia_)\n",
    "    silhouette_avg = silhouette_score(rfm, clusters)\n",
    "    print(\"For n_clusters =\", n_clusters, \"The average silhouette_score is :\", silhouette_avg)"
   ]
  },
  {
   "cell_type": "code",
   "execution_count": 24,
   "metadata": {},
   "outputs": [
    {
     "data": {
      "image/png": "[encoded data removed]",
      "text/plain": [
       "<Figure size 720x360 with 1 Axes>"
      ]
     },
     "metadata": {
      "needs_background": "light"
     },
     "output_type": "display_data"
    }
   ],
   "source": [
    "plt.figure(figsize=(10, 5))\n",
    "plt.plot(range(2, 10), score)\n",
    "plt.ylabel('Inertia')\n",
    "plt.xlabel('n_clusters');"
   ]
  },
  {
   "cell_type": "code",
   "execution_count": 25,
   "metadata": {},
   "outputs": [
    {
     "name": "stdout",
     "output_type": "stream",
     "text": [
      "score de silhouette: 0.310\n"
     ]
    }
   ],
   "source": [
    "n_clusters = 2\n",
    "kmeans = KMeans(init='k-means++', n_clusters=n_clusters, n_init=30)\n",
    "clusters_customers = kmeans.fit_predict(rfm)\n",
    "silhouette_avg = silhouette_score(rfm, clusters_customers)\n",
    "print('score de silhouette: {:<.3f}'.format(silhouette_avg))"
   ]
  }
 ],
 "metadata": {
  "kernelspec": {
   "display_name": "Python 3",
   "language": "python",
   "name": "python3"
  },
  "language_info": {
   "codemirror_mode": {
    "name": "ipython",
    "version": 3
   },
   "file_extension": ".py",
   "mimetype": "text/x-python",
   "name": "python",
   "nbconvert_exporter": "python",
   "pygments_lexer": "ipython3",
   "version": "3.8.6"
  }
 },
 "nbformat": 4,
 "nbformat_minor": 4
}
