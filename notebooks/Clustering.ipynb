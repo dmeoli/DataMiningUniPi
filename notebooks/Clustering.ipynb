{
 "cells": [
  {
   "cell_type": "markdown",
   "metadata": {},
   "source": [
    "# Task 2: Clustering"
   ]
  },
  {
   "cell_type": "code",
   "execution_count": 57,
   "metadata": {},
   "outputs": [],
   "source": [
    "import numpy as np\n",
    "import pandas as pd\n",
    "import matplotlib.pyplot as plt"
   ]
  },
  {
   "cell_type": "markdown",
   "metadata": {},
   "source": [
    "## Loading the Customer Profile model"
   ]
  },
  {
   "cell_type": "code",
   "execution_count": 58,
   "metadata": {},
   "outputs": [
    {
     "data": {
      "text/html": [
       "<div>\n",
       "<style scoped>\n",
       "    .dataframe tbody tr th:only-of-type {\n",
       "        vertical-align: middle;\n",
       "    }\n",
       "\n",
       "    .dataframe tbody tr th {\n",
       "        vertical-align: top;\n",
       "    }\n",
       "\n",
       "    .dataframe thead th {\n",
       "        text-align: right;\n",
       "    }\n",
       "</style>\n",
       "<table border=\"1\" class=\"dataframe\">\n",
       "  <thead>\n",
       "    <tr style=\"text-align: right;\">\n",
       "      <th></th>\n",
       "      <th>I</th>\n",
       "      <th>Iu</th>\n",
       "      <th>Imax</th>\n",
       "      <th>E</th>\n",
       "      <th>Monetary</th>\n",
       "      <th>Recency</th>\n",
       "      <th>T</th>\n",
       "      <th>Frequency</th>\n",
       "    </tr>\n",
       "    <tr>\n",
       "      <th>CustomerID</th>\n",
       "      <th></th>\n",
       "      <th></th>\n",
       "      <th></th>\n",
       "      <th></th>\n",
       "      <th></th>\n",
       "      <th></th>\n",
       "      <th></th>\n",
       "      <th></th>\n",
       "    </tr>\n",
       "  </thead>\n",
       "  <tbody>\n",
       "    <tr>\n",
       "      <th>12747.0</th>\n",
       "      <td>6.674561</td>\n",
       "      <td>3.367296</td>\n",
       "      <td>4.941642</td>\n",
       "      <td>1.465815</td>\n",
       "      <td>5.762366</td>\n",
       "      <td>2.079442</td>\n",
       "      <td>5.831882</td>\n",
       "      <td>5.467828</td>\n",
       "    </tr>\n",
       "    <tr>\n",
       "      <th>12748.0</th>\n",
       "      <td>9.485925</td>\n",
       "      <td>7.273786</td>\n",
       "      <td>7.108244</td>\n",
       "      <td>1.899053</td>\n",
       "      <td>5.814429</td>\n",
       "      <td>4.553877</td>\n",
       "      <td>5.828946</td>\n",
       "      <td>5.230059</td>\n",
       "    </tr>\n",
       "    <tr>\n",
       "      <th>12749.0</th>\n",
       "      <td>7.110696</td>\n",
       "      <td>4.787492</td>\n",
       "      <td>6.439350</td>\n",
       "      <td>1.557404</td>\n",
       "      <td>5.746523</td>\n",
       "      <td>1.098612</td>\n",
       "      <td>5.817111</td>\n",
       "      <td>6.259486</td>\n",
       "    </tr>\n",
       "    <tr>\n",
       "      <th>12820.0</th>\n",
       "      <td>6.513230</td>\n",
       "      <td>3.988984</td>\n",
       "      <td>5.497168</td>\n",
       "      <td>1.410074</td>\n",
       "      <td>5.642262</td>\n",
       "      <td>1.098612</td>\n",
       "      <td>5.789960</td>\n",
       "      <td>5.526064</td>\n",
       "    </tr>\n",
       "    <tr>\n",
       "      <th>12822.0</th>\n",
       "      <td>6.122493</td>\n",
       "      <td>3.610918</td>\n",
       "      <td>5.913503</td>\n",
       "      <td>1.413603</td>\n",
       "      <td>2.839078</td>\n",
       "      <td>0.000000</td>\n",
       "      <td>4.477337</td>\n",
       "      <td>5.050369</td>\n",
       "    </tr>\n",
       "    <tr>\n",
       "      <th>...</th>\n",
       "      <td>...</td>\n",
       "      <td>...</td>\n",
       "      <td>...</td>\n",
       "      <td>...</td>\n",
       "      <td>...</td>\n",
       "      <td>...</td>\n",
       "      <td>...</td>\n",
       "      <td>...</td>\n",
       "    </tr>\n",
       "    <tr>\n",
       "      <th>18272.0</th>\n",
       "      <td>7.367709</td>\n",
       "      <td>4.477337</td>\n",
       "      <td>5.863631</td>\n",
       "      <td>1.557192</td>\n",
       "      <td>5.407620</td>\n",
       "      <td>1.609438</td>\n",
       "      <td>5.420535</td>\n",
       "      <td>6.203935</td>\n",
       "    </tr>\n",
       "    <tr>\n",
       "      <th>18273.0</th>\n",
       "      <td>3.688879</td>\n",
       "      <td>0.000000</td>\n",
       "      <td>2.995732</td>\n",
       "      <td>-2.302585</td>\n",
       "      <td>4.673763</td>\n",
       "      <td>0.000000</td>\n",
       "      <td>5.552960</td>\n",
       "      <td>3.933784</td>\n",
       "    </tr>\n",
       "    <tr>\n",
       "      <th>18282.0</th>\n",
       "      <td>3.931826</td>\n",
       "      <td>2.079442</td>\n",
       "      <td>3.258097</td>\n",
       "      <td>1.047319</td>\n",
       "      <td>4.443827</td>\n",
       "      <td>0.000000</td>\n",
       "      <td>5.707110</td>\n",
       "      <td>4.109069</td>\n",
       "    </tr>\n",
       "    <tr>\n",
       "      <th>18283.0</th>\n",
       "      <td>7.208600</td>\n",
       "      <td>5.552960</td>\n",
       "      <td>5.484797</td>\n",
       "      <td>1.636882</td>\n",
       "      <td>5.740114</td>\n",
       "      <td>2.564949</td>\n",
       "      <td>5.771441</td>\n",
       "      <td>4.980800</td>\n",
       "    </tr>\n",
       "    <tr>\n",
       "      <th>18287.0</th>\n",
       "      <td>6.656727</td>\n",
       "      <td>3.828641</td>\n",
       "      <td>6.161207</td>\n",
       "      <td>1.431758</td>\n",
       "      <td>5.308763</td>\n",
       "      <td>0.693147</td>\n",
       "      <td>5.308268</td>\n",
       "      <td>5.561988</td>\n",
       "    </tr>\n",
       "  </tbody>\n",
       "</table>\n",
       "<p>2281 rows × 8 columns</p>\n",
       "</div>"
      ],
      "text/plain": [
       "                   I        Iu      Imax         E  Monetary   Recency  \\\n",
       "CustomerID                                                               \n",
       "12747.0     6.674561  3.367296  4.941642  1.465815  5.762366  2.079442   \n",
       "12748.0     9.485925  7.273786  7.108244  1.899053  5.814429  4.553877   \n",
       "12749.0     7.110696  4.787492  6.439350  1.557404  5.746523  1.098612   \n",
       "12820.0     6.513230  3.988984  5.497168  1.410074  5.642262  1.098612   \n",
       "12822.0     6.122493  3.610918  5.913503  1.413603  2.839078  0.000000   \n",
       "...              ...       ...       ...       ...       ...       ...   \n",
       "18272.0     7.367709  4.477337  5.863631  1.557192  5.407620  1.609438   \n",
       "18273.0     3.688879  0.000000  2.995732 -2.302585  4.673763  0.000000   \n",
       "18282.0     3.931826  2.079442  3.258097  1.047319  4.443827  0.000000   \n",
       "18283.0     7.208600  5.552960  5.484797  1.636882  5.740114  2.564949   \n",
       "18287.0     6.656727  3.828641  6.161207  1.431758  5.308763  0.693147   \n",
       "\n",
       "                   T  Frequency  \n",
       "CustomerID                       \n",
       "12747.0     5.831882   5.467828  \n",
       "12748.0     5.828946   5.230059  \n",
       "12749.0     5.817111   6.259486  \n",
       "12820.0     5.789960   5.526064  \n",
       "12822.0     4.477337   5.050369  \n",
       "...              ...        ...  \n",
       "18272.0     5.420535   6.203935  \n",
       "18273.0     5.552960   3.933784  \n",
       "18282.0     5.707110   4.109069  \n",
       "18283.0     5.771441   4.980800  \n",
       "18287.0     5.308268   5.561988  \n",
       "\n",
       "[2281 rows x 8 columns]"
      ]
     },
     "execution_count": 58,
     "metadata": {},
     "output_type": "execute_result"
    }
   ],
   "source": [
    "customer_profile = pd.read_csv('../dataset/customer_profile_model.csv', sep='\\t', index_col=0)\n",
    "customer_profile"
   ]
  },
  {
   "cell_type": "code",
   "execution_count": 59,
   "metadata": {},
   "outputs": [],
   "source": [
    "customer_profile = customer_profile.to_numpy()"
   ]
  },
  {
   "cell_type": "code",
   "execution_count": 60,
   "metadata": {},
   "outputs": [],
   "source": [
    "from sklearn.metrics import silhouette_score\n",
    "\n",
    "def silhouette_scorer(pipeline, X):\n",
    "    pipeline.fit(X)\n",
    "    cluster_labels = pipeline['clustering'].labels_\n",
    "    n_labels = len(set(cluster_labels))\n",
    "    n_samples = X.shape[0]\n",
    "    if n_labels == 1 or n_labels == n_samples:\n",
    "        return -1\n",
    "    else:\n",
    "        return silhouette_score(X, cluster_labels)"
   ]
  },
  {
   "cell_type": "code",
   "execution_count": 61,
   "metadata": {},
   "outputs": [],
   "source": [
    "def highlight_equal(s, value, column):\n",
    "    is_max = pd.Series(data=False, index=s.index)\n",
    "    is_max[column] = s.loc[column] == value\n",
    "    return ['background-color: lightyellow' if is_max.any() else '' for v in is_max]"
   ]
  },
  {
   "cell_type": "markdown",
   "metadata": {},
   "source": [
    "## K-means"
   ]
  },
  {
   "cell_type": "code",
   "execution_count": 62,
   "metadata": {},
   "outputs": [],
   "source": [
    "from sklearn.preprocessing import StandardScaler\n",
    "from sklearn.decomposition import PCA\n",
    "from sklearn.cluster import KMeans\n",
    "from sklearn.pipeline import Pipeline\n",
    "from sklearn.model_selection import GridSearchCV"
   ]
  },
  {
   "cell_type": "code",
   "execution_count": 63,
   "metadata": {},
   "outputs": [
    {
     "name": "stdout",
     "output_type": "stream",
     "text": [
      "Fitting 1 folds for each of 56 candidates, totalling 56 fits\n"
     ]
    },
    {
     "name": "stderr",
     "output_type": "stream",
     "text": [
      "[Parallel(n_jobs=-1)]: Using backend LokyBackend with 8 concurrent workers.\n",
      "[Parallel(n_jobs=-1)]: Done  34 tasks      | elapsed:    3.4s\n",
      "[Parallel(n_jobs=-1)]: Done  56 out of  56 | elapsed:    4.9s finished\n"
     ]
    }
   ],
   "source": [
    "pipeline = Pipeline(steps=[('scaler', StandardScaler()),\n",
    "                           ('pca', PCA()), # a common practice before doing clustering: PCA which calculates the dimensions which best maximize variance; \n",
    "                           # it does dimensionality reduction while keeping the most important features, i.e. combinations of features best describe customers.\n",
    "                           ('clustering', KMeans(init='k-means++'))])\n",
    "\n",
    "n_features = customer_profile.shape[1]\n",
    "\n",
    "# parameters of pipelines can be set using ‘__’ separated parameter names\n",
    "tuned_parameters = {\n",
    "    'pca__n_components': range(2, n_features + 1),\n",
    "    'clustering__n_clusters': range(2, 10)}\n",
    "\n",
    "search = GridSearchCV(estimator=pipeline, \n",
    "                      param_grid=tuned_parameters, \n",
    "                      scoring=silhouette_scorer, \n",
    "                      cv=[(slice(None), slice(None))],  # https://stackoverflow.com/a/44682305/5555994\n",
    "                      n_jobs=-1,  # use all processors\n",
    "                      refit=True, \n",
    "                      verbose=True).fit(customer_profile)"
   ]
  },
  {
   "cell_type": "code",
   "execution_count": 64,
   "metadata": {},
   "outputs": [
    {
     "data": {
      "text/html": [
       "<style  type=\"text/css\" >\n",
       "    #T_4609e5dc_2419_11eb_acf4_9169b01bf258row0_col0 {\n",
       "            background-color:  lightyellow;\n",
       "        }    #T_4609e5dc_2419_11eb_acf4_9169b01bf258row0_col1 {\n",
       "            background-color:  lightyellow;\n",
       "        }    #T_4609e5dc_2419_11eb_acf4_9169b01bf258row0_col2 {\n",
       "            background-color:  lightyellow;\n",
       "        }</style><table id=\"T_4609e5dc_2419_11eb_acf4_9169b01bf258\" ><thead>    <tr>        <th class=\"col_heading level0 col0\" >params</th>        <th class=\"col_heading level0 col1\" >mean_test_score</th>        <th class=\"col_heading level0 col2\" >rank_test_score</th>    </tr></thead><tbody>\n",
       "                <tr>\n",
       "                                <td id=\"T_4609e5dc_2419_11eb_acf4_9169b01bf258row0_col0\" class=\"data row0 col0\" >{'clustering__n_clusters': 2, 'pca__n_components': 5}</td>\n",
       "                        <td id=\"T_4609e5dc_2419_11eb_acf4_9169b01bf258row0_col1\" class=\"data row0 col1\" >0.339084</td>\n",
       "                        <td id=\"T_4609e5dc_2419_11eb_acf4_9169b01bf258row0_col2\" class=\"data row0 col2\" >1</td>\n",
       "            </tr>\n",
       "            <tr>\n",
       "                                <td id=\"T_4609e5dc_2419_11eb_acf4_9169b01bf258row1_col0\" class=\"data row1 col0\" >{'clustering__n_clusters': 2, 'pca__n_components': 6}</td>\n",
       "                        <td id=\"T_4609e5dc_2419_11eb_acf4_9169b01bf258row1_col1\" class=\"data row1 col1\" >0.337813</td>\n",
       "                        <td id=\"T_4609e5dc_2419_11eb_acf4_9169b01bf258row1_col2\" class=\"data row1 col2\" >2</td>\n",
       "            </tr>\n",
       "            <tr>\n",
       "                                <td id=\"T_4609e5dc_2419_11eb_acf4_9169b01bf258row2_col0\" class=\"data row2 col0\" >{'clustering__n_clusters': 2, 'pca__n_components': 8}</td>\n",
       "                        <td id=\"T_4609e5dc_2419_11eb_acf4_9169b01bf258row2_col1\" class=\"data row2 col1\" >0.337126</td>\n",
       "                        <td id=\"T_4609e5dc_2419_11eb_acf4_9169b01bf258row2_col2\" class=\"data row2 col2\" >3</td>\n",
       "            </tr>\n",
       "            <tr>\n",
       "                                <td id=\"T_4609e5dc_2419_11eb_acf4_9169b01bf258row3_col0\" class=\"data row3 col0\" >{'clustering__n_clusters': 2, 'pca__n_components': 7}</td>\n",
       "                        <td id=\"T_4609e5dc_2419_11eb_acf4_9169b01bf258row3_col1\" class=\"data row3 col1\" >0.337019</td>\n",
       "                        <td id=\"T_4609e5dc_2419_11eb_acf4_9169b01bf258row3_col2\" class=\"data row3 col2\" >4</td>\n",
       "            </tr>\n",
       "            <tr>\n",
       "                                <td id=\"T_4609e5dc_2419_11eb_acf4_9169b01bf258row4_col0\" class=\"data row4 col0\" >{'clustering__n_clusters': 2, 'pca__n_components': 3}</td>\n",
       "                        <td id=\"T_4609e5dc_2419_11eb_acf4_9169b01bf258row4_col1\" class=\"data row4 col1\" >0.336918</td>\n",
       "                        <td id=\"T_4609e5dc_2419_11eb_acf4_9169b01bf258row4_col2\" class=\"data row4 col2\" >5</td>\n",
       "            </tr>\n",
       "            <tr>\n",
       "                                <td id=\"T_4609e5dc_2419_11eb_acf4_9169b01bf258row5_col0\" class=\"data row5 col0\" >{'clustering__n_clusters': 2, 'pca__n_components': 2}</td>\n",
       "                        <td id=\"T_4609e5dc_2419_11eb_acf4_9169b01bf258row5_col1\" class=\"data row5 col1\" >0.335895</td>\n",
       "                        <td id=\"T_4609e5dc_2419_11eb_acf4_9169b01bf258row5_col2\" class=\"data row5 col2\" >6</td>\n",
       "            </tr>\n",
       "            <tr>\n",
       "                                <td id=\"T_4609e5dc_2419_11eb_acf4_9169b01bf258row6_col0\" class=\"data row6 col0\" >{'clustering__n_clusters': 2, 'pca__n_components': 4}</td>\n",
       "                        <td id=\"T_4609e5dc_2419_11eb_acf4_9169b01bf258row6_col1\" class=\"data row6 col1\" >0.333622</td>\n",
       "                        <td id=\"T_4609e5dc_2419_11eb_acf4_9169b01bf258row6_col2\" class=\"data row6 col2\" >7</td>\n",
       "            </tr>\n",
       "            <tr>\n",
       "                                <td id=\"T_4609e5dc_2419_11eb_acf4_9169b01bf258row7_col0\" class=\"data row7 col0\" >{'clustering__n_clusters': 4, 'pca__n_components': 7}</td>\n",
       "                        <td id=\"T_4609e5dc_2419_11eb_acf4_9169b01bf258row7_col1\" class=\"data row7 col1\" >0.263776</td>\n",
       "                        <td id=\"T_4609e5dc_2419_11eb_acf4_9169b01bf258row7_col2\" class=\"data row7 col2\" >8</td>\n",
       "            </tr>\n",
       "            <tr>\n",
       "                                <td id=\"T_4609e5dc_2419_11eb_acf4_9169b01bf258row8_col0\" class=\"data row8 col0\" >{'clustering__n_clusters': 4, 'pca__n_components': 8}</td>\n",
       "                        <td id=\"T_4609e5dc_2419_11eb_acf4_9169b01bf258row8_col1\" class=\"data row8 col1\" >0.263776</td>\n",
       "                        <td id=\"T_4609e5dc_2419_11eb_acf4_9169b01bf258row8_col2\" class=\"data row8 col2\" >8</td>\n",
       "            </tr>\n",
       "            <tr>\n",
       "                                <td id=\"T_4609e5dc_2419_11eb_acf4_9169b01bf258row9_col0\" class=\"data row9 col0\" >{'clustering__n_clusters': 4, 'pca__n_components': 4}</td>\n",
       "                        <td id=\"T_4609e5dc_2419_11eb_acf4_9169b01bf258row9_col1\" class=\"data row9 col1\" >0.263695</td>\n",
       "                        <td id=\"T_4609e5dc_2419_11eb_acf4_9169b01bf258row9_col2\" class=\"data row9 col2\" >10</td>\n",
       "            </tr>\n",
       "    </tbody></table>"
      ],
      "text/plain": [
       "<pandas.io.formats.style.Styler at 0x7f731ac45f70>"
      ]
     },
     "execution_count": 64,
     "metadata": {},
     "output_type": "execute_result"
    }
   ],
   "source": [
    "kmeans_results = pd.DataFrame(search.cv_results_)[['params', 'mean_test_score', 'rank_test_score']].sort_values('rank_test_score')\n",
    "kmeans_results.head(10).style.apply(highlight_equal, value=1, column=['rank_test_score'], axis=1).hide_index()"
   ]
  },
  {
   "cell_type": "code",
   "execution_count": 65,
   "metadata": {},
   "outputs": [
    {
     "data": {
      "image/png": "[encoded data removed]",
      "text/plain": [
       "<Figure size 432x288 with 1 Axes>"
      ]
     },
     "metadata": {
      "needs_background": "light"
     },
     "output_type": "display_data"
    }
   ],
   "source": [
    "# create a scatter plot\n",
    "scaled_customer_profile = search.best_estimator_['scaler'].transform(customer_profile)\n",
    "pca_customer_profile = search.best_estimator_['pca'].transform(scaled_customer_profile)\n",
    "clusters_customers = search.predict(customer_profile) # scaling and pca are done in the pipeline\n",
    "plt.scatter(pca_customer_profile[:, 0], pca_customer_profile[:, 1], c=clusters_customers, s=20)\n",
    "# select cluster centers\n",
    "centroids = search.best_estimator_['clustering'].cluster_centers_\n",
    "plt.scatter(centroids[:, 0], centroids[:, 1], c='black', s=70, alpha=0.5);"
   ]
  },
  {
   "cell_type": "markdown",
   "metadata": {},
   "source": [
    "What's the number of customers in each cluster?"
   ]
  },
  {
   "cell_type": "code",
   "execution_count": 66,
   "metadata": {},
   "outputs": [
    {
     "data": {
      "text/html": [
       "<div>\n",
       "<style scoped>\n",
       "    .dataframe tbody tr th:only-of-type {\n",
       "        vertical-align: middle;\n",
       "    }\n",
       "\n",
       "    .dataframe tbody tr th {\n",
       "        vertical-align: top;\n",
       "    }\n",
       "\n",
       "    .dataframe thead th {\n",
       "        text-align: right;\n",
       "    }\n",
       "</style>\n",
       "<table border=\"1\" class=\"dataframe\">\n",
       "  <thead>\n",
       "    <tr style=\"text-align: right;\">\n",
       "      <th></th>\n",
       "      <th>0</th>\n",
       "      <th>1</th>\n",
       "    </tr>\n",
       "  </thead>\n",
       "  <tbody>\n",
       "    <tr>\n",
       "      <th>CustomersNo</th>\n",
       "      <td>1396</td>\n",
       "      <td>885</td>\n",
       "    </tr>\n",
       "  </tbody>\n",
       "</table>\n",
       "</div>"
      ],
      "text/plain": [
       "                0    1\n",
       "CustomersNo  1396  885"
      ]
     },
     "execution_count": 66,
     "metadata": {},
     "output_type": "execute_result"
    }
   ],
   "source": [
    "pd.DataFrame(pd.Series(clusters_customers).value_counts(), columns=['CustomersNo']).T"
   ]
  },
  {
   "cell_type": "markdown",
   "metadata": {},
   "source": [
    "## DBSCAN"
   ]
  },
  {
   "cell_type": "code",
   "execution_count": 67,
   "metadata": {},
   "outputs": [],
   "source": [
    "from sklearn.preprocessing import StandardScaler\n",
    "from sklearn.decomposition import PCA\n",
    "from sklearn.cluster import DBSCAN\n",
    "from sklearn.pipeline import Pipeline\n",
    "from sklearn.model_selection import GridSearchCV"
   ]
  },
  {
   "cell_type": "code",
   "execution_count": 68,
   "metadata": {},
   "outputs": [
    {
     "name": "stdout",
     "output_type": "stream",
     "text": [
      "Fitting 1 folds for each of 294 candidates, totalling 294 fits\n"
     ]
    },
    {
     "name": "stderr",
     "output_type": "stream",
     "text": [
      "[Parallel(n_jobs=-1)]: Using backend LokyBackend with 8 concurrent workers.\n",
      "[Parallel(n_jobs=-1)]: Done  58 tasks      | elapsed:    1.3s\n",
      "[Parallel(n_jobs=-1)]: Done 294 out of 294 | elapsed:    7.3s finished\n"
     ]
    }
   ],
   "source": [
    "pipeline = Pipeline(steps=[('scaler', StandardScaler()),\n",
    "                           ('pca', PCA()), # a common practice before doing clustering: PCA which calculates the dimensions which best maximize variance; \n",
    "                           # it does dimensionality reduction while keeping the most important features, i.e. combinations of features best describe customers.\n",
    "                           ('clustering', DBSCAN())])\n",
    "\n",
    "n_features = customer_profile.shape[1]\n",
    "\n",
    "# parameters of pipelines can be set using ‘__’ separated parameter names\n",
    "tuned_parameters = {\n",
    "    'pca__n_components': range(2, n_features + 1),\n",
    "    'clustering__eps': (0.1, 0.15, 0.2, 0.25, 0.3, 0.35, 0.4),\n",
    "    'clustering__metric': ('euclidean', 'manhattan', 'cosine'),\n",
    "    'clustering__min_samples': (5, 10)}\n",
    "\n",
    "search = GridSearchCV(estimator=pipeline, \n",
    "                      param_grid=tuned_parameters, \n",
    "                      scoring=silhouette_scorer, \n",
    "                      cv=[(slice(None), slice(None))],  # https://stackoverflow.com/a/44682305/5555994\n",
    "                      n_jobs=-1,  # use all processors\n",
    "                      refit=True, \n",
    "                      verbose=True).fit(customer_profile)"
   ]
  },
  {
   "cell_type": "code",
   "execution_count": 69,
   "metadata": {},
   "outputs": [
    {
     "data": {
      "text/html": [
       "<style  type=\"text/css\" >\n",
       "    #T_56dc5d36_2419_11eb_acf4_9169b01bf258row0_col0 {\n",
       "            background-color:  lightyellow;\n",
       "        }    #T_56dc5d36_2419_11eb_acf4_9169b01bf258row0_col1 {\n",
       "            background-color:  lightyellow;\n",
       "        }    #T_56dc5d36_2419_11eb_acf4_9169b01bf258row0_col2 {\n",
       "            background-color:  lightyellow;\n",
       "        }</style><table id=\"T_56dc5d36_2419_11eb_acf4_9169b01bf258\" ><thead>    <tr>        <th class=\"col_heading level0 col0\" >params</th>        <th class=\"col_heading level0 col1\" >mean_test_score</th>        <th class=\"col_heading level0 col2\" >rank_test_score</th>    </tr></thead><tbody>\n",
       "                <tr>\n",
       "                                <td id=\"T_56dc5d36_2419_11eb_acf4_9169b01bf258row0_col0\" class=\"data row0 col0\" >{'clustering__eps': 0.4, 'clustering__metric': 'euclidean', 'clustering__min_samples': 10, 'pca__n_components': 2}</td>\n",
       "                        <td id=\"T_56dc5d36_2419_11eb_acf4_9169b01bf258row0_col1\" class=\"data row0 col1\" >0.386179</td>\n",
       "                        <td id=\"T_56dc5d36_2419_11eb_acf4_9169b01bf258row0_col2\" class=\"data row0 col2\" >1</td>\n",
       "            </tr>\n",
       "            <tr>\n",
       "                                <td id=\"T_56dc5d36_2419_11eb_acf4_9169b01bf258row1_col0\" class=\"data row1 col0\" >{'clustering__eps': 0.35, 'clustering__metric': 'euclidean', 'clustering__min_samples': 10, 'pca__n_components': 2}</td>\n",
       "                        <td id=\"T_56dc5d36_2419_11eb_acf4_9169b01bf258row1_col1\" class=\"data row1 col1\" >0.363638</td>\n",
       "                        <td id=\"T_56dc5d36_2419_11eb_acf4_9169b01bf258row1_col2\" class=\"data row1 col2\" >2</td>\n",
       "            </tr>\n",
       "            <tr>\n",
       "                                <td id=\"T_56dc5d36_2419_11eb_acf4_9169b01bf258row2_col0\" class=\"data row2 col0\" >{'clustering__eps': 0.3, 'clustering__metric': 'euclidean', 'clustering__min_samples': 10, 'pca__n_components': 2}</td>\n",
       "                        <td id=\"T_56dc5d36_2419_11eb_acf4_9169b01bf258row2_col1\" class=\"data row2 col1\" >0.191375</td>\n",
       "                        <td id=\"T_56dc5d36_2419_11eb_acf4_9169b01bf258row2_col2\" class=\"data row2 col2\" >3</td>\n",
       "            </tr>\n",
       "            <tr>\n",
       "                                <td id=\"T_56dc5d36_2419_11eb_acf4_9169b01bf258row3_col0\" class=\"data row3 col0\" >{'clustering__eps': 0.4, 'clustering__metric': 'euclidean', 'clustering__min_samples': 5, 'pca__n_components': 2}</td>\n",
       "                        <td id=\"T_56dc5d36_2419_11eb_acf4_9169b01bf258row3_col1\" class=\"data row3 col1\" >0.091342</td>\n",
       "                        <td id=\"T_56dc5d36_2419_11eb_acf4_9169b01bf258row3_col2\" class=\"data row3 col2\" >4</td>\n",
       "            </tr>\n",
       "            <tr>\n",
       "                                <td id=\"T_56dc5d36_2419_11eb_acf4_9169b01bf258row4_col0\" class=\"data row4 col0\" >{'clustering__eps': 0.35, 'clustering__metric': 'manhattan', 'clustering__min_samples': 5, 'pca__n_components': 2}</td>\n",
       "                        <td id=\"T_56dc5d36_2419_11eb_acf4_9169b01bf258row4_col1\" class=\"data row4 col1\" >0.089925</td>\n",
       "                        <td id=\"T_56dc5d36_2419_11eb_acf4_9169b01bf258row4_col2\" class=\"data row4 col2\" >5</td>\n",
       "            </tr>\n",
       "            <tr>\n",
       "                                <td id=\"T_56dc5d36_2419_11eb_acf4_9169b01bf258row5_col0\" class=\"data row5 col0\" >{'clustering__eps': 0.4, 'clustering__metric': 'manhattan', 'clustering__min_samples': 10, 'pca__n_components': 2}</td>\n",
       "                        <td id=\"T_56dc5d36_2419_11eb_acf4_9169b01bf258row5_col1\" class=\"data row5 col1\" >0.085833</td>\n",
       "                        <td id=\"T_56dc5d36_2419_11eb_acf4_9169b01bf258row5_col2\" class=\"data row5 col2\" >6</td>\n",
       "            </tr>\n",
       "            <tr>\n",
       "                                <td id=\"T_56dc5d36_2419_11eb_acf4_9169b01bf258row6_col0\" class=\"data row6 col0\" >{'clustering__eps': 0.35, 'clustering__metric': 'manhattan', 'clustering__min_samples': 10, 'pca__n_components': 2}</td>\n",
       "                        <td id=\"T_56dc5d36_2419_11eb_acf4_9169b01bf258row6_col1\" class=\"data row6 col1\" >-0.000472</td>\n",
       "                        <td id=\"T_56dc5d36_2419_11eb_acf4_9169b01bf258row6_col2\" class=\"data row6 col2\" >7</td>\n",
       "            </tr>\n",
       "            <tr>\n",
       "                                <td id=\"T_56dc5d36_2419_11eb_acf4_9169b01bf258row7_col0\" class=\"data row7 col0\" >{'clustering__eps': 0.4, 'clustering__metric': 'euclidean', 'clustering__min_samples': 5, 'pca__n_components': 3}</td>\n",
       "                        <td id=\"T_56dc5d36_2419_11eb_acf4_9169b01bf258row7_col1\" class=\"data row7 col1\" >-0.044542</td>\n",
       "                        <td id=\"T_56dc5d36_2419_11eb_acf4_9169b01bf258row7_col2\" class=\"data row7 col2\" >8</td>\n",
       "            </tr>\n",
       "            <tr>\n",
       "                                <td id=\"T_56dc5d36_2419_11eb_acf4_9169b01bf258row8_col0\" class=\"data row8 col0\" >{'clustering__eps': 0.3, 'clustering__metric': 'manhattan', 'clustering__min_samples': 10, 'pca__n_components': 2}</td>\n",
       "                        <td id=\"T_56dc5d36_2419_11eb_acf4_9169b01bf258row8_col1\" class=\"data row8 col1\" >-0.060467</td>\n",
       "                        <td id=\"T_56dc5d36_2419_11eb_acf4_9169b01bf258row8_col2\" class=\"data row8 col2\" >9</td>\n",
       "            </tr>\n",
       "            <tr>\n",
       "                                <td id=\"T_56dc5d36_2419_11eb_acf4_9169b01bf258row9_col0\" class=\"data row9 col0\" >{'clustering__eps': 0.25, 'clustering__metric': 'euclidean', 'clustering__min_samples': 10, 'pca__n_components': 2}</td>\n",
       "                        <td id=\"T_56dc5d36_2419_11eb_acf4_9169b01bf258row9_col1\" class=\"data row9 col1\" >-0.071277</td>\n",
       "                        <td id=\"T_56dc5d36_2419_11eb_acf4_9169b01bf258row9_col2\" class=\"data row9 col2\" >10</td>\n",
       "            </tr>\n",
       "    </tbody></table>"
      ],
      "text/plain": [
       "<pandas.io.formats.style.Styler at 0x7f731ac1cc40>"
      ]
     },
     "execution_count": 69,
     "metadata": {},
     "output_type": "execute_result"
    }
   ],
   "source": [
    "dbscan_results = pd.DataFrame(search.cv_results_)[['params', 'mean_test_score', 'rank_test_score']].sort_values('rank_test_score')\n",
    "dbscan_results.head(10).style.apply(highlight_equal, value=1, column=['rank_test_score'], axis=1).hide_index()"
   ]
  },
  {
   "cell_type": "code",
   "execution_count": 70,
   "metadata": {},
   "outputs": [
    {
     "data": {
      "image/png": "[encoded data removed]",
      "text/plain": [
       "<Figure size 432x288 with 1 Axes>"
      ]
     },
     "metadata": {
      "needs_background": "light"
     },
     "output_type": "display_data"
    }
   ],
   "source": [
    "# create a scatter plot\n",
    "scaled_customer_profile = search.best_estimator_['scaler'].transform(customer_profile)\n",
    "pca_customer_profile = search.best_estimator_['pca'].transform(scaled_customer_profile)\n",
    "clusters_customers = search.best_estimator_['clustering'].fit_predict(pca_customer_profile)\n",
    "plt.scatter(pca_customer_profile[:, 0], pca_customer_profile[:, 1], c=clusters_customers, s=20);"
   ]
  },
  {
   "cell_type": "markdown",
   "metadata": {},
   "source": [
    "What's the number of customers in each cluster?"
   ]
  },
  {
   "cell_type": "code",
   "execution_count": 71,
   "metadata": {},
   "outputs": [
    {
     "data": {
      "text/html": [
       "<div>\n",
       "<style scoped>\n",
       "    .dataframe tbody tr th:only-of-type {\n",
       "        vertical-align: middle;\n",
       "    }\n",
       "\n",
       "    .dataframe tbody tr th {\n",
       "        vertical-align: top;\n",
       "    }\n",
       "\n",
       "    .dataframe thead th {\n",
       "        text-align: right;\n",
       "    }\n",
       "</style>\n",
       "<table border=\"1\" class=\"dataframe\">\n",
       "  <thead>\n",
       "    <tr style=\"text-align: right;\">\n",
       "      <th></th>\n",
       "      <th>0</th>\n",
       "      <th>-1</th>\n",
       "    </tr>\n",
       "  </thead>\n",
       "  <tbody>\n",
       "    <tr>\n",
       "      <th>CustomersNo</th>\n",
       "      <td>2045</td>\n",
       "      <td>236</td>\n",
       "    </tr>\n",
       "  </tbody>\n",
       "</table>\n",
       "</div>"
      ],
      "text/plain": [
       "                0   -1\n",
       "CustomersNo  2045  236"
      ]
     },
     "execution_count": 71,
     "metadata": {},
     "output_type": "execute_result"
    }
   ],
   "source": [
    "pd.DataFrame(pd.Series(clusters_customers).value_counts(), columns=['CustomersNo']).T"
   ]
  },
  {
   "cell_type": "markdown",
   "metadata": {},
   "source": [
    "## Agglomerative Clustering"
   ]
  },
  {
   "cell_type": "code",
   "execution_count": 72,
   "metadata": {},
   "outputs": [],
   "source": [
    "from sklearn.preprocessing import StandardScaler\n",
    "from sklearn.cluster import AgglomerativeClustering\n",
    "from sklearn.neighbors import kneighbors_graph\n",
    "from sklearn.pipeline import Pipeline\n",
    "from sklearn.model_selection import GridSearchCV"
   ]
  },
  {
   "cell_type": "markdown",
   "metadata": {},
   "source": [
    "The linkage criterion determines which distance to use between sets of observation. The algorithm will merge the pairs of cluster that minimize this criterion.\n",
    "\n",
    "- *Ward* minimizes the squared distance of the clusters being merged (is the hierarchical analogue of K-means, so it can be used to initialize it)\n",
    "    - strength: less susceptible to noise and outliers\n",
    "    - limitations: biased towards globular clusters\n",
    "- *single* or *maximum linkage* uses the minimum of the distances between all observations of the two sets\n",
    "    - strength: can handle non-elliptical shapes\n",
    "    - limitations: sensitive to noise and outliers\n",
    "- *complete* or *maximum linkage* uses the maximum distances between all observations of the two sets\n",
    "    - strength: less susceptible to noise and outliers\n",
    "    - limitations: tends to break large clusters, biased towards globular clusters\n",
    "- *average* is a compromise between *single* and *complete* linkage by using the average of the distances of each observation of the two sets\n",
    "    - strength: less susceptible to noise and outliers\n",
    "    - limitations: biased towards globular clusters"
   ]
  },
  {
   "cell_type": "code",
   "execution_count": 121,
   "metadata": {},
   "outputs": [],
   "source": [
    "from scipy.cluster.hierarchy import dendrogram\n",
    "\n",
    "def plot_dendrogram(model, **kwargs):\n",
    "    # Create linkage matrix and then plot the dendrogram\n",
    "\n",
    "    # create the counts of samples under each node\n",
    "    counts = np.zeros(model.children_.shape[0])\n",
    "    n_samples = len(model.labels_)\n",
    "    for i, merge in enumerate(model.children_):\n",
    "        current_count = 0\n",
    "        for child_idx in merge:\n",
    "            if child_idx < n_samples:\n",
    "                current_count += 1  # leaf node\n",
    "            else:\n",
    "                current_count += counts[child_idx - n_samples]\n",
    "        counts[i] = current_count\n",
    "    \n",
    "    # Distances between each pair of children\n",
    "    # Since we don't have this information, we can use a uniform one for plotting\n",
    "    distances = np.arange(model.children_.shape[0])\n",
    "    \n",
    "    linkage_matrix = np.column_stack([model.children_, distances, counts]).astype(float)\n",
    "\n",
    "    # Plot the corresponding dendrogram\n",
    "    dendrogram(linkage_matrix, **kwargs)"
   ]
  },
  {
   "cell_type": "markdown",
   "metadata": {},
   "source": [
    "### Ward Linkage"
   ]
  },
  {
   "cell_type": "code",
   "execution_count": 107,
   "metadata": {},
   "outputs": [
    {
     "name": "stdout",
     "output_type": "stream",
     "text": [
      "Fitting 1 folds for each of 8 candidates, totalling 8 fits\n"
     ]
    },
    {
     "name": "stderr",
     "output_type": "stream",
     "text": [
      "[Parallel(n_jobs=-1)]: Using backend LokyBackend with 8 concurrent workers.\n",
      "[Parallel(n_jobs=-1)]: Done   2 out of   8 | elapsed:    1.9s remaining:    5.6s\n",
      "[Parallel(n_jobs=-1)]: Done   8 out of   8 | elapsed:    2.1s finished\n"
     ]
    }
   ],
   "source": [
    "pipeline = Pipeline(steps=[('scaler', StandardScaler()),\n",
    "                           # skipping PCA since agglomerative clustering uses the Feature Agglomeration to group together features \n",
    "                           # that look very similar, thus decreasing the number of features. It is a dimensionality reduction tool.\n",
    "                           ('clustering', AgglomerativeClustering(linkage='ward'))])\n",
    "\n",
    "n_features = customer_profile.shape[1]\n",
    "\n",
    "# parameters of pipelines can be set using ‘__’ separated parameter names\n",
    "tuned_parameters = {\n",
    "    'clustering__n_clusters' : range(2, 10)}\n",
    "\n",
    "search = GridSearchCV(estimator=pipeline, \n",
    "                      param_grid=tuned_parameters, \n",
    "                      scoring=silhouette_scorer, \n",
    "                      cv=[(slice(None), slice(None))],  # https://stackoverflow.com/a/44682305/5555994\n",
    "                      n_jobs=-1,  # use all processors\n",
    "                      refit=True, \n",
    "                      verbose=True).fit(customer_profile)"
   ]
  },
  {
   "cell_type": "code",
   "execution_count": 108,
   "metadata": {},
   "outputs": [
    {
     "data": {
      "text/html": [
       "<style  type=\"text/css\" >\n",
       "    #T_7ca58d7c_244f_11eb_acf4_9169b01bf258row0_col0 {\n",
       "            background-color:  lightyellow;\n",
       "        }    #T_7ca58d7c_244f_11eb_acf4_9169b01bf258row0_col1 {\n",
       "            background-color:  lightyellow;\n",
       "        }    #T_7ca58d7c_244f_11eb_acf4_9169b01bf258row0_col2 {\n",
       "            background-color:  lightyellow;\n",
       "        }</style><table id=\"T_7ca58d7c_244f_11eb_acf4_9169b01bf258\" ><thead>    <tr>        <th class=\"col_heading level0 col0\" >params</th>        <th class=\"col_heading level0 col1\" >mean_test_score</th>        <th class=\"col_heading level0 col2\" >rank_test_score</th>    </tr></thead><tbody>\n",
       "                <tr>\n",
       "                                <td id=\"T_7ca58d7c_244f_11eb_acf4_9169b01bf258row0_col0\" class=\"data row0 col0\" >{'clustering__n_clusters': 2}</td>\n",
       "                        <td id=\"T_7ca58d7c_244f_11eb_acf4_9169b01bf258row0_col1\" class=\"data row0 col1\" >0.310335</td>\n",
       "                        <td id=\"T_7ca58d7c_244f_11eb_acf4_9169b01bf258row0_col2\" class=\"data row0 col2\" >1</td>\n",
       "            </tr>\n",
       "            <tr>\n",
       "                                <td id=\"T_7ca58d7c_244f_11eb_acf4_9169b01bf258row1_col0\" class=\"data row1 col0\" >{'clustering__n_clusters': 3}</td>\n",
       "                        <td id=\"T_7ca58d7c_244f_11eb_acf4_9169b01bf258row1_col1\" class=\"data row1 col1\" >0.297844</td>\n",
       "                        <td id=\"T_7ca58d7c_244f_11eb_acf4_9169b01bf258row1_col2\" class=\"data row1 col2\" >2</td>\n",
       "            </tr>\n",
       "            <tr>\n",
       "                                <td id=\"T_7ca58d7c_244f_11eb_acf4_9169b01bf258row2_col0\" class=\"data row2 col0\" >{'clustering__n_clusters': 4}</td>\n",
       "                        <td id=\"T_7ca58d7c_244f_11eb_acf4_9169b01bf258row2_col1\" class=\"data row2 col1\" >0.269474</td>\n",
       "                        <td id=\"T_7ca58d7c_244f_11eb_acf4_9169b01bf258row2_col2\" class=\"data row2 col2\" >3</td>\n",
       "            </tr>\n",
       "            <tr>\n",
       "                                <td id=\"T_7ca58d7c_244f_11eb_acf4_9169b01bf258row3_col0\" class=\"data row3 col0\" >{'clustering__n_clusters': 5}</td>\n",
       "                        <td id=\"T_7ca58d7c_244f_11eb_acf4_9169b01bf258row3_col1\" class=\"data row3 col1\" >0.174692</td>\n",
       "                        <td id=\"T_7ca58d7c_244f_11eb_acf4_9169b01bf258row3_col2\" class=\"data row3 col2\" >4</td>\n",
       "            </tr>\n",
       "            <tr>\n",
       "                                <td id=\"T_7ca58d7c_244f_11eb_acf4_9169b01bf258row4_col0\" class=\"data row4 col0\" >{'clustering__n_clusters': 7}</td>\n",
       "                        <td id=\"T_7ca58d7c_244f_11eb_acf4_9169b01bf258row4_col1\" class=\"data row4 col1\" >0.172166</td>\n",
       "                        <td id=\"T_7ca58d7c_244f_11eb_acf4_9169b01bf258row4_col2\" class=\"data row4 col2\" >5</td>\n",
       "            </tr>\n",
       "            <tr>\n",
       "                                <td id=\"T_7ca58d7c_244f_11eb_acf4_9169b01bf258row5_col0\" class=\"data row5 col0\" >{'clustering__n_clusters': 6}</td>\n",
       "                        <td id=\"T_7ca58d7c_244f_11eb_acf4_9169b01bf258row5_col1\" class=\"data row5 col1\" >0.168517</td>\n",
       "                        <td id=\"T_7ca58d7c_244f_11eb_acf4_9169b01bf258row5_col2\" class=\"data row5 col2\" >6</td>\n",
       "            </tr>\n",
       "            <tr>\n",
       "                                <td id=\"T_7ca58d7c_244f_11eb_acf4_9169b01bf258row6_col0\" class=\"data row6 col0\" >{'clustering__n_clusters': 9}</td>\n",
       "                        <td id=\"T_7ca58d7c_244f_11eb_acf4_9169b01bf258row6_col1\" class=\"data row6 col1\" >0.146249</td>\n",
       "                        <td id=\"T_7ca58d7c_244f_11eb_acf4_9169b01bf258row6_col2\" class=\"data row6 col2\" >7</td>\n",
       "            </tr>\n",
       "            <tr>\n",
       "                                <td id=\"T_7ca58d7c_244f_11eb_acf4_9169b01bf258row7_col0\" class=\"data row7 col0\" >{'clustering__n_clusters': 8}</td>\n",
       "                        <td id=\"T_7ca58d7c_244f_11eb_acf4_9169b01bf258row7_col1\" class=\"data row7 col1\" >0.145412</td>\n",
       "                        <td id=\"T_7ca58d7c_244f_11eb_acf4_9169b01bf258row7_col2\" class=\"data row7 col2\" >8</td>\n",
       "            </tr>\n",
       "    </tbody></table>"
      ],
      "text/plain": [
       "<pandas.io.formats.style.Styler at 0x7f72a02cd700>"
      ]
     },
     "execution_count": 108,
     "metadata": {},
     "output_type": "execute_result"
    }
   ],
   "source": [
    "agglomerative_results = pd.DataFrame(search.cv_results_)[['params', 'mean_test_score', 'rank_test_score']].sort_values('rank_test_score')\n",
    "agglomerative_results.head(10).style.apply(highlight_equal, value=1, column=['rank_test_score'], axis=1).hide_index()"
   ]
  },
  {
   "cell_type": "markdown",
   "metadata": {},
   "source": [
    "What's the number of customers in each cluster?"
   ]
  },
  {
   "cell_type": "code",
   "execution_count": 110,
   "metadata": {},
   "outputs": [
    {
     "data": {
      "text/html": [
       "<div>\n",
       "<style scoped>\n",
       "    .dataframe tbody tr th:only-of-type {\n",
       "        vertical-align: middle;\n",
       "    }\n",
       "\n",
       "    .dataframe tbody tr th {\n",
       "        vertical-align: top;\n",
       "    }\n",
       "\n",
       "    .dataframe thead th {\n",
       "        text-align: right;\n",
       "    }\n",
       "</style>\n",
       "<table border=\"1\" class=\"dataframe\">\n",
       "  <thead>\n",
       "    <tr style=\"text-align: right;\">\n",
       "      <th></th>\n",
       "      <th>1</th>\n",
       "      <th>0</th>\n",
       "    </tr>\n",
       "  </thead>\n",
       "  <tbody>\n",
       "    <tr>\n",
       "      <th>CustomersNo</th>\n",
       "      <td>1342</td>\n",
       "      <td>939</td>\n",
       "    </tr>\n",
       "  </tbody>\n",
       "</table>\n",
       "</div>"
      ],
      "text/plain": [
       "                1    0\n",
       "CustomersNo  1342  939"
      ]
     },
     "execution_count": 110,
     "metadata": {},
     "output_type": "execute_result"
    }
   ],
   "source": [
    "scaled_customer_profile = search.best_estimator_['scaler'].transform(customer_profile)\n",
    "clusters_customers = search.best_estimator_['clustering'].fit_predict(scaled_customer_profile)\n",
    "pd.DataFrame(pd.Series(clusters_customers).value_counts(), columns=['CustomersNo']).T"
   ]
  },
  {
   "cell_type": "markdown",
   "metadata": {},
   "source": [
    "### Single Linkage"
   ]
  },
  {
   "cell_type": "code",
   "execution_count": 85,
   "metadata": {},
   "outputs": [
    {
     "name": "stdout",
     "output_type": "stream",
     "text": [
      "Fitting 1 folds for each of 24 candidates, totalling 24 fits\n"
     ]
    },
    {
     "name": "stderr",
     "output_type": "stream",
     "text": [
      "[Parallel(n_jobs=-1)]: Using backend LokyBackend with 8 concurrent workers.\n",
      "[Parallel(n_jobs=-1)]: Done  24 out of  24 | elapsed:    1.2s finished\n"
     ]
    }
   ],
   "source": [
    "pipeline = Pipeline(steps=[('scaler', StandardScaler()),\n",
    "                           # skipping PCA since agglomerative clustering uses the Feature Agglomeration to group together features \n",
    "                           # that look very similar, thus decreasing the number of features. It is a dimensionality reduction tool.\n",
    "                           ('clustering', AgglomerativeClustering(linkage='single'))])\n",
    "\n",
    "n_features = customer_profile.shape[1]\n",
    "\n",
    "# parameters of pipelines can be set using ‘__’ separated parameter names\n",
    "tuned_parameters = {\n",
    "    'clustering__n_clusters' : range(2, 10),\n",
    "    'clustering__affinity': ('euclidean', 'manhattan', 'cosine')}\n",
    "\n",
    "search = GridSearchCV(estimator=pipeline, \n",
    "                      param_grid=tuned_parameters, \n",
    "                      scoring=silhouette_scorer, \n",
    "                      cv=[(slice(None), slice(None))],  # https://stackoverflow.com/a/44682305/5555994\n",
    "                      n_jobs=-1,  # use all processors\n",
    "                      refit=True, \n",
    "                      verbose=True).fit(customer_profile)"
   ]
  },
  {
   "cell_type": "code",
   "execution_count": 86,
   "metadata": {},
   "outputs": [
    {
     "data": {
      "text/html": [
       "<style  type=\"text/css\" >\n",
       "    #T_7c5927e2_2419_11eb_acf4_9169b01bf258row0_col0 {\n",
       "            background-color:  lightyellow;\n",
       "        }    #T_7c5927e2_2419_11eb_acf4_9169b01bf258row0_col1 {\n",
       "            background-color:  lightyellow;\n",
       "        }    #T_7c5927e2_2419_11eb_acf4_9169b01bf258row0_col2 {\n",
       "            background-color:  lightyellow;\n",
       "        }    #T_7c5927e2_2419_11eb_acf4_9169b01bf258row1_col0 {\n",
       "            background-color:  lightyellow;\n",
       "        }    #T_7c5927e2_2419_11eb_acf4_9169b01bf258row1_col1 {\n",
       "            background-color:  lightyellow;\n",
       "        }    #T_7c5927e2_2419_11eb_acf4_9169b01bf258row1_col2 {\n",
       "            background-color:  lightyellow;\n",
       "        }</style><table id=\"T_7c5927e2_2419_11eb_acf4_9169b01bf258\" ><thead>    <tr>        <th class=\"col_heading level0 col0\" >params</th>        <th class=\"col_heading level0 col1\" >mean_test_score</th>        <th class=\"col_heading level0 col2\" >rank_test_score</th>    </tr></thead><tbody>\n",
       "                <tr>\n",
       "                                <td id=\"T_7c5927e2_2419_11eb_acf4_9169b01bf258row0_col0\" class=\"data row0 col0\" >{'clustering__affinity': 'euclidean', 'clustering__n_clusters': 2}</td>\n",
       "                        <td id=\"T_7c5927e2_2419_11eb_acf4_9169b01bf258row0_col1\" class=\"data row0 col1\" >0.521929</td>\n",
       "                        <td id=\"T_7c5927e2_2419_11eb_acf4_9169b01bf258row0_col2\" class=\"data row0 col2\" >1</td>\n",
       "            </tr>\n",
       "            <tr>\n",
       "                                <td id=\"T_7c5927e2_2419_11eb_acf4_9169b01bf258row1_col0\" class=\"data row1 col0\" >{'clustering__affinity': 'manhattan', 'clustering__n_clusters': 2}</td>\n",
       "                        <td id=\"T_7c5927e2_2419_11eb_acf4_9169b01bf258row1_col1\" class=\"data row1 col1\" >0.521929</td>\n",
       "                        <td id=\"T_7c5927e2_2419_11eb_acf4_9169b01bf258row1_col2\" class=\"data row1 col2\" >1</td>\n",
       "            </tr>\n",
       "            <tr>\n",
       "                                <td id=\"T_7c5927e2_2419_11eb_acf4_9169b01bf258row2_col0\" class=\"data row2 col0\" >{'clustering__affinity': 'manhattan', 'clustering__n_clusters': 3}</td>\n",
       "                        <td id=\"T_7c5927e2_2419_11eb_acf4_9169b01bf258row2_col1\" class=\"data row2 col1\" >0.490630</td>\n",
       "                        <td id=\"T_7c5927e2_2419_11eb_acf4_9169b01bf258row2_col2\" class=\"data row2 col2\" >3</td>\n",
       "            </tr>\n",
       "            <tr>\n",
       "                                <td id=\"T_7c5927e2_2419_11eb_acf4_9169b01bf258row3_col0\" class=\"data row3 col0\" >{'clustering__affinity': 'euclidean', 'clustering__n_clusters': 3}</td>\n",
       "                        <td id=\"T_7c5927e2_2419_11eb_acf4_9169b01bf258row3_col1\" class=\"data row3 col1\" >0.489306</td>\n",
       "                        <td id=\"T_7c5927e2_2419_11eb_acf4_9169b01bf258row3_col2\" class=\"data row3 col2\" >4</td>\n",
       "            </tr>\n",
       "            <tr>\n",
       "                                <td id=\"T_7c5927e2_2419_11eb_acf4_9169b01bf258row4_col0\" class=\"data row4 col0\" >{'clustering__affinity': 'manhattan', 'clustering__n_clusters': 4}</td>\n",
       "                        <td id=\"T_7c5927e2_2419_11eb_acf4_9169b01bf258row4_col1\" class=\"data row4 col1\" >0.487810</td>\n",
       "                        <td id=\"T_7c5927e2_2419_11eb_acf4_9169b01bf258row4_col2\" class=\"data row4 col2\" >5</td>\n",
       "            </tr>\n",
       "            <tr>\n",
       "                                <td id=\"T_7c5927e2_2419_11eb_acf4_9169b01bf258row5_col0\" class=\"data row5 col0\" >{'clustering__affinity': 'manhattan', 'clustering__n_clusters': 5}</td>\n",
       "                        <td id=\"T_7c5927e2_2419_11eb_acf4_9169b01bf258row5_col1\" class=\"data row5 col1\" >0.487353</td>\n",
       "                        <td id=\"T_7c5927e2_2419_11eb_acf4_9169b01bf258row5_col2\" class=\"data row5 col2\" >6</td>\n",
       "            </tr>\n",
       "            <tr>\n",
       "                                <td id=\"T_7c5927e2_2419_11eb_acf4_9169b01bf258row6_col0\" class=\"data row6 col0\" >{'clustering__affinity': 'euclidean', 'clustering__n_clusters': 4}</td>\n",
       "                        <td id=\"T_7c5927e2_2419_11eb_acf4_9169b01bf258row6_col1\" class=\"data row6 col1\" >0.466385</td>\n",
       "                        <td id=\"T_7c5927e2_2419_11eb_acf4_9169b01bf258row6_col2\" class=\"data row6 col2\" >7</td>\n",
       "            </tr>\n",
       "            <tr>\n",
       "                                <td id=\"T_7c5927e2_2419_11eb_acf4_9169b01bf258row7_col0\" class=\"data row7 col0\" >{'clustering__affinity': 'euclidean', 'clustering__n_clusters': 5}</td>\n",
       "                        <td id=\"T_7c5927e2_2419_11eb_acf4_9169b01bf258row7_col1\" class=\"data row7 col1\" >0.465995</td>\n",
       "                        <td id=\"T_7c5927e2_2419_11eb_acf4_9169b01bf258row7_col2\" class=\"data row7 col2\" >8</td>\n",
       "            </tr>\n",
       "            <tr>\n",
       "                                <td id=\"T_7c5927e2_2419_11eb_acf4_9169b01bf258row8_col0\" class=\"data row8 col0\" >{'clustering__affinity': 'manhattan', 'clustering__n_clusters': 6}</td>\n",
       "                        <td id=\"T_7c5927e2_2419_11eb_acf4_9169b01bf258row8_col1\" class=\"data row8 col1\" >0.465993</td>\n",
       "                        <td id=\"T_7c5927e2_2419_11eb_acf4_9169b01bf258row8_col2\" class=\"data row8 col2\" >9</td>\n",
       "            </tr>\n",
       "            <tr>\n",
       "                                <td id=\"T_7c5927e2_2419_11eb_acf4_9169b01bf258row9_col0\" class=\"data row9 col0\" >{'clustering__affinity': 'manhattan', 'clustering__n_clusters': 8}</td>\n",
       "                        <td id=\"T_7c5927e2_2419_11eb_acf4_9169b01bf258row9_col1\" class=\"data row9 col1\" >0.436374</td>\n",
       "                        <td id=\"T_7c5927e2_2419_11eb_acf4_9169b01bf258row9_col2\" class=\"data row9 col2\" >10</td>\n",
       "            </tr>\n",
       "    </tbody></table>"
      ],
      "text/plain": [
       "<pandas.io.formats.style.Styler at 0x7f72a03e4430>"
      ]
     },
     "execution_count": 86,
     "metadata": {},
     "output_type": "execute_result"
    }
   ],
   "source": [
    "agglomerative_results = pd.DataFrame(search.cv_results_)[['params', 'mean_test_score', 'rank_test_score']].sort_values('rank_test_score')\n",
    "agglomerative_results.head(10).style.apply(highlight_equal, value=1, column=['rank_test_score'], axis=1).hide_index()"
   ]
  },
  {
   "cell_type": "markdown",
   "metadata": {},
   "source": [
    "What's the number of customers in each cluster?"
   ]
  },
  {
   "cell_type": "code",
   "execution_count": 56,
   "metadata": {},
   "outputs": [
    {
     "data": {
      "text/html": [
       "<div>\n",
       "<style scoped>\n",
       "    .dataframe tbody tr th:only-of-type {\n",
       "        vertical-align: middle;\n",
       "    }\n",
       "\n",
       "    .dataframe tbody tr th {\n",
       "        vertical-align: top;\n",
       "    }\n",
       "\n",
       "    .dataframe thead th {\n",
       "        text-align: right;\n",
       "    }\n",
       "</style>\n",
       "<table border=\"1\" class=\"dataframe\">\n",
       "  <thead>\n",
       "    <tr style=\"text-align: right;\">\n",
       "      <th></th>\n",
       "      <th>0</th>\n",
       "      <th>1</th>\n",
       "    </tr>\n",
       "  </thead>\n",
       "  <tbody>\n",
       "    <tr>\n",
       "      <th>CustomersNo</th>\n",
       "      <td>2280</td>\n",
       "      <td>1</td>\n",
       "    </tr>\n",
       "  </tbody>\n",
       "</table>\n",
       "</div>"
      ],
      "text/plain": [
       "                0  1\n",
       "CustomersNo  2280  1"
      ]
     },
     "execution_count": 56,
     "metadata": {},
     "output_type": "execute_result"
    }
   ],
   "source": [
    "scaled_customer_profile = search.best_estimator_['scaler'].transform(customer_profile)\n",
    "clusters_customers = search.best_estimator_['clustering'].fit_predict(scaled_customer_profile)\n",
    "pd.DataFrame(pd.Series(clusters_customers).value_counts(), columns=['CustomersNo']).T"
   ]
  },
  {
   "cell_type": "markdown",
   "metadata": {},
   "source": [
    "### Complete Linkage"
   ]
  },
  {
   "cell_type": "code",
   "execution_count": 77,
   "metadata": {},
   "outputs": [
    {
     "name": "stdout",
     "output_type": "stream",
     "text": [
      "Fitting 1 folds for each of 24 candidates, totalling 24 fits\n"
     ]
    },
    {
     "name": "stderr",
     "output_type": "stream",
     "text": [
      "[Parallel(n_jobs=-1)]: Using backend LokyBackend with 8 concurrent workers.\n",
      "[Parallel(n_jobs=-1)]: Done  24 out of  24 | elapsed:    2.4s finished\n"
     ]
    }
   ],
   "source": [
    "pipeline = Pipeline(steps=[('scaler', StandardScaler()),\n",
    "                           # skipping PCA since agglomerative clustering uses the Feature Agglomeration to group together features \n",
    "                           # that look very similar, thus decreasing the number of features. It is a dimensionality reduction tool.\n",
    "                           ('clustering', AgglomerativeClustering(linkage='complete'))])\n",
    "\n",
    "n_features = customer_profile.shape[1]\n",
    "\n",
    "# parameters of pipelines can be set using ‘__’ separated parameter names\n",
    "tuned_parameters = {\n",
    "    'clustering__n_clusters' : range(2, 10),\n",
    "    'clustering__affinity': ('euclidean', 'manhattan', 'cosine')}\n",
    "\n",
    "search = GridSearchCV(estimator=pipeline, \n",
    "                      param_grid=tuned_parameters, \n",
    "                      scoring=silhouette_scorer, \n",
    "                      cv=[(slice(None), slice(None))],  # https://stackoverflow.com/a/44682305/5555994\n",
    "                      n_jobs=-1,  # use all processors\n",
    "                      refit=True, \n",
    "                      verbose=True).fit(customer_profile)"
   ]
  },
  {
   "cell_type": "code",
   "execution_count": 78,
   "metadata": {},
   "outputs": [
    {
     "data": {
      "text/html": [
       "<style  type=\"text/css\" >\n",
       "    #T_706e354e_2419_11eb_acf4_9169b01bf258row0_col0 {\n",
       "            background-color:  lightyellow;\n",
       "        }    #T_706e354e_2419_11eb_acf4_9169b01bf258row0_col1 {\n",
       "            background-color:  lightyellow;\n",
       "        }    #T_706e354e_2419_11eb_acf4_9169b01bf258row0_col2 {\n",
       "            background-color:  lightyellow;\n",
       "        }</style><table id=\"T_706e354e_2419_11eb_acf4_9169b01bf258\" ><thead>    <tr>        <th class=\"col_heading level0 col0\" >params</th>        <th class=\"col_heading level0 col1\" >mean_test_score</th>        <th class=\"col_heading level0 col2\" >rank_test_score</th>    </tr></thead><tbody>\n",
       "                <tr>\n",
       "                                <td id=\"T_706e354e_2419_11eb_acf4_9169b01bf258row0_col0\" class=\"data row0 col0\" >{'clustering__affinity': 'euclidean', 'clustering__n_clusters': 2}</td>\n",
       "                        <td id=\"T_706e354e_2419_11eb_acf4_9169b01bf258row0_col1\" class=\"data row0 col1\" >0.521929</td>\n",
       "                        <td id=\"T_706e354e_2419_11eb_acf4_9169b01bf258row0_col2\" class=\"data row0 col2\" >1</td>\n",
       "            </tr>\n",
       "            <tr>\n",
       "                                <td id=\"T_706e354e_2419_11eb_acf4_9169b01bf258row1_col0\" class=\"data row1 col0\" >{'clustering__affinity': 'cosine', 'clustering__n_clusters': 2}</td>\n",
       "                        <td id=\"T_706e354e_2419_11eb_acf4_9169b01bf258row1_col1\" class=\"data row1 col1\" >0.316967</td>\n",
       "                        <td id=\"T_706e354e_2419_11eb_acf4_9169b01bf258row1_col2\" class=\"data row1 col2\" >2</td>\n",
       "            </tr>\n",
       "            <tr>\n",
       "                                <td id=\"T_706e354e_2419_11eb_acf4_9169b01bf258row2_col0\" class=\"data row2 col0\" >{'clustering__affinity': 'euclidean', 'clustering__n_clusters': 4}</td>\n",
       "                        <td id=\"T_706e354e_2419_11eb_acf4_9169b01bf258row2_col1\" class=\"data row2 col1\" >0.270796</td>\n",
       "                        <td id=\"T_706e354e_2419_11eb_acf4_9169b01bf258row2_col2\" class=\"data row2 col2\" >3</td>\n",
       "            </tr>\n",
       "            <tr>\n",
       "                                <td id=\"T_706e354e_2419_11eb_acf4_9169b01bf258row3_col0\" class=\"data row3 col0\" >{'clustering__affinity': 'euclidean', 'clustering__n_clusters': 5}</td>\n",
       "                        <td id=\"T_706e354e_2419_11eb_acf4_9169b01bf258row3_col1\" class=\"data row3 col1\" >0.267267</td>\n",
       "                        <td id=\"T_706e354e_2419_11eb_acf4_9169b01bf258row3_col2\" class=\"data row3 col2\" >4</td>\n",
       "            </tr>\n",
       "            <tr>\n",
       "                                <td id=\"T_706e354e_2419_11eb_acf4_9169b01bf258row4_col0\" class=\"data row4 col0\" >{'clustering__affinity': 'manhattan', 'clustering__n_clusters': 3}</td>\n",
       "                        <td id=\"T_706e354e_2419_11eb_acf4_9169b01bf258row4_col1\" class=\"data row4 col1\" >0.266818</td>\n",
       "                        <td id=\"T_706e354e_2419_11eb_acf4_9169b01bf258row4_col2\" class=\"data row4 col2\" >5</td>\n",
       "            </tr>\n",
       "            <tr>\n",
       "                                <td id=\"T_706e354e_2419_11eb_acf4_9169b01bf258row5_col0\" class=\"data row5 col0\" >{'clustering__affinity': 'manhattan', 'clustering__n_clusters': 4}</td>\n",
       "                        <td id=\"T_706e354e_2419_11eb_acf4_9169b01bf258row5_col1\" class=\"data row5 col1\" >0.262950</td>\n",
       "                        <td id=\"T_706e354e_2419_11eb_acf4_9169b01bf258row5_col2\" class=\"data row5 col2\" >6</td>\n",
       "            </tr>\n",
       "            <tr>\n",
       "                                <td id=\"T_706e354e_2419_11eb_acf4_9169b01bf258row6_col0\" class=\"data row6 col0\" >{'clustering__affinity': 'manhattan', 'clustering__n_clusters': 2}</td>\n",
       "                        <td id=\"T_706e354e_2419_11eb_acf4_9169b01bf258row6_col1\" class=\"data row6 col1\" >0.262778</td>\n",
       "                        <td id=\"T_706e354e_2419_11eb_acf4_9169b01bf258row6_col2\" class=\"data row6 col2\" >7</td>\n",
       "            </tr>\n",
       "            <tr>\n",
       "                                <td id=\"T_706e354e_2419_11eb_acf4_9169b01bf258row7_col0\" class=\"data row7 col0\" >{'clustering__affinity': 'euclidean', 'clustering__n_clusters': 6}</td>\n",
       "                        <td id=\"T_706e354e_2419_11eb_acf4_9169b01bf258row7_col1\" class=\"data row7 col1\" >0.257808</td>\n",
       "                        <td id=\"T_706e354e_2419_11eb_acf4_9169b01bf258row7_col2\" class=\"data row7 col2\" >8</td>\n",
       "            </tr>\n",
       "            <tr>\n",
       "                                <td id=\"T_706e354e_2419_11eb_acf4_9169b01bf258row8_col0\" class=\"data row8 col0\" >{'clustering__affinity': 'manhattan', 'clustering__n_clusters': 5}</td>\n",
       "                        <td id=\"T_706e354e_2419_11eb_acf4_9169b01bf258row8_col1\" class=\"data row8 col1\" >0.256803</td>\n",
       "                        <td id=\"T_706e354e_2419_11eb_acf4_9169b01bf258row8_col2\" class=\"data row8 col2\" >9</td>\n",
       "            </tr>\n",
       "            <tr>\n",
       "                                <td id=\"T_706e354e_2419_11eb_acf4_9169b01bf258row9_col0\" class=\"data row9 col0\" >{'clustering__affinity': 'euclidean', 'clustering__n_clusters': 3}</td>\n",
       "                        <td id=\"T_706e354e_2419_11eb_acf4_9169b01bf258row9_col1\" class=\"data row9 col1\" >0.246599</td>\n",
       "                        <td id=\"T_706e354e_2419_11eb_acf4_9169b01bf258row9_col2\" class=\"data row9 col2\" >10</td>\n",
       "            </tr>\n",
       "    </tbody></table>"
      ],
      "text/plain": [
       "<pandas.io.formats.style.Styler at 0x7f72a04ad280>"
      ]
     },
     "execution_count": 78,
     "metadata": {},
     "output_type": "execute_result"
    }
   ],
   "source": [
    "agglomerative_results = pd.DataFrame(search.cv_results_)[['params', 'mean_test_score', 'rank_test_score']].sort_values('rank_test_score')\n",
    "agglomerative_results.head(10).style.apply(highlight_equal, value=1, column=['rank_test_score'], axis=1).hide_index()"
   ]
  },
  {
   "cell_type": "markdown",
   "metadata": {},
   "source": [
    "What's the number of customers in each cluster?"
   ]
  },
  {
   "cell_type": "code",
   "execution_count": 80,
   "metadata": {},
   "outputs": [
    {
     "data": {
      "text/html": [
       "<div>\n",
       "<style scoped>\n",
       "    .dataframe tbody tr th:only-of-type {\n",
       "        vertical-align: middle;\n",
       "    }\n",
       "\n",
       "    .dataframe tbody tr th {\n",
       "        vertical-align: top;\n",
       "    }\n",
       "\n",
       "    .dataframe thead th {\n",
       "        text-align: right;\n",
       "    }\n",
       "</style>\n",
       "<table border=\"1\" class=\"dataframe\">\n",
       "  <thead>\n",
       "    <tr style=\"text-align: right;\">\n",
       "      <th></th>\n",
       "      <th>0</th>\n",
       "      <th>1</th>\n",
       "    </tr>\n",
       "  </thead>\n",
       "  <tbody>\n",
       "    <tr>\n",
       "      <th>CustomersNo</th>\n",
       "      <td>2276</td>\n",
       "      <td>5</td>\n",
       "    </tr>\n",
       "  </tbody>\n",
       "</table>\n",
       "</div>"
      ],
      "text/plain": [
       "                0  1\n",
       "CustomersNo  2276  5"
      ]
     },
     "execution_count": 80,
     "metadata": {},
     "output_type": "execute_result"
    }
   ],
   "source": [
    "scaled_customer_profile = search.best_estimator_['scaler'].transform(customer_profile)\n",
    "clusters_customers = search.best_estimator_['clustering'].fit_predict(scaled_customer_profile)\n",
    "pd.DataFrame(pd.Series(clusters_customers).value_counts(), columns=['CustomersNo']).T"
   ]
  },
  {
   "cell_type": "markdown",
   "metadata": {},
   "source": [
    "### Average Linkage"
   ]
  },
  {
   "cell_type": "code",
   "execution_count": 81,
   "metadata": {},
   "outputs": [
    {
     "name": "stdout",
     "output_type": "stream",
     "text": [
      "Fitting 1 folds for each of 24 candidates, totalling 24 fits\n"
     ]
    },
    {
     "name": "stderr",
     "output_type": "stream",
     "text": [
      "[Parallel(n_jobs=-1)]: Using backend LokyBackend with 8 concurrent workers.\n",
      "[Parallel(n_jobs=-1)]: Done  24 out of  24 | elapsed:    2.6s finished\n"
     ]
    }
   ],
   "source": [
    "pipeline = Pipeline(steps=[('scaler', StandardScaler()),\n",
    "                           # skipping PCA since agglomerative clustering uses the Feature Agglomeration to group together features \n",
    "                           # that look very similar, thus decreasing the number of features. It is a dimensionality reduction tool.\n",
    "                           ('clustering', AgglomerativeClustering(linkage='average'))])\n",
    "\n",
    "n_features = customer_profile.shape[1]\n",
    "\n",
    "# parameters of pipelines can be set using ‘__’ separated parameter names\n",
    "tuned_parameters = {\n",
    "    'clustering__n_clusters' : range(2, 10),\n",
    "    'clustering__affinity': ('euclidean', 'manhattan', 'cosine')}\n",
    "\n",
    "search = GridSearchCV(estimator=pipeline, \n",
    "                      param_grid=tuned_parameters, \n",
    "                      scoring=silhouette_scorer, \n",
    "                      cv=[(slice(None), slice(None))],  # https://stackoverflow.com/a/44682305/5555994\n",
    "                      n_jobs=-1,  # use all processors\n",
    "                      refit=True, \n",
    "                      verbose=True).fit(customer_profile)"
   ]
  },
  {
   "cell_type": "code",
   "execution_count": 82,
   "metadata": {},
   "outputs": [
    {
     "data": {
      "text/html": [
       "<style  type=\"text/css\" >\n",
       "    #T_78425a84_2419_11eb_acf4_9169b01bf258row0_col0 {\n",
       "            background-color:  lightyellow;\n",
       "        }    #T_78425a84_2419_11eb_acf4_9169b01bf258row0_col1 {\n",
       "            background-color:  lightyellow;\n",
       "        }    #T_78425a84_2419_11eb_acf4_9169b01bf258row0_col2 {\n",
       "            background-color:  lightyellow;\n",
       "        }</style><table id=\"T_78425a84_2419_11eb_acf4_9169b01bf258\" ><thead>    <tr>        <th class=\"col_heading level0 col0\" >params</th>        <th class=\"col_heading level0 col1\" >mean_test_score</th>        <th class=\"col_heading level0 col2\" >rank_test_score</th>    </tr></thead><tbody>\n",
       "                <tr>\n",
       "                                <td id=\"T_78425a84_2419_11eb_acf4_9169b01bf258row0_col0\" class=\"data row0 col0\" >{'clustering__affinity': 'euclidean', 'clustering__n_clusters': 2}</td>\n",
       "                        <td id=\"T_78425a84_2419_11eb_acf4_9169b01bf258row0_col1\" class=\"data row0 col1\" >0.521929</td>\n",
       "                        <td id=\"T_78425a84_2419_11eb_acf4_9169b01bf258row0_col2\" class=\"data row0 col2\" >1</td>\n",
       "            </tr>\n",
       "            <tr>\n",
       "                                <td id=\"T_78425a84_2419_11eb_acf4_9169b01bf258row1_col0\" class=\"data row1 col0\" >{'clustering__affinity': 'manhattan', 'clustering__n_clusters': 2}</td>\n",
       "                        <td id=\"T_78425a84_2419_11eb_acf4_9169b01bf258row1_col1\" class=\"data row1 col1\" >0.458164</td>\n",
       "                        <td id=\"T_78425a84_2419_11eb_acf4_9169b01bf258row1_col2\" class=\"data row1 col2\" >2</td>\n",
       "            </tr>\n",
       "            <tr>\n",
       "                                <td id=\"T_78425a84_2419_11eb_acf4_9169b01bf258row2_col0\" class=\"data row2 col0\" >{'clustering__affinity': 'manhattan', 'clustering__n_clusters': 3}</td>\n",
       "                        <td id=\"T_78425a84_2419_11eb_acf4_9169b01bf258row2_col1\" class=\"data row2 col1\" >0.445733</td>\n",
       "                        <td id=\"T_78425a84_2419_11eb_acf4_9169b01bf258row2_col2\" class=\"data row2 col2\" >3</td>\n",
       "            </tr>\n",
       "            <tr>\n",
       "                                <td id=\"T_78425a84_2419_11eb_acf4_9169b01bf258row3_col0\" class=\"data row3 col0\" >{'clustering__affinity': 'manhattan', 'clustering__n_clusters': 4}</td>\n",
       "                        <td id=\"T_78425a84_2419_11eb_acf4_9169b01bf258row3_col1\" class=\"data row3 col1\" >0.428713</td>\n",
       "                        <td id=\"T_78425a84_2419_11eb_acf4_9169b01bf258row3_col2\" class=\"data row3 col2\" >4</td>\n",
       "            </tr>\n",
       "            <tr>\n",
       "                                <td id=\"T_78425a84_2419_11eb_acf4_9169b01bf258row4_col0\" class=\"data row4 col0\" >{'clustering__affinity': 'euclidean', 'clustering__n_clusters': 3}</td>\n",
       "                        <td id=\"T_78425a84_2419_11eb_acf4_9169b01bf258row4_col1\" class=\"data row4 col1\" >0.422432</td>\n",
       "                        <td id=\"T_78425a84_2419_11eb_acf4_9169b01bf258row4_col2\" class=\"data row4 col2\" >5</td>\n",
       "            </tr>\n",
       "            <tr>\n",
       "                                <td id=\"T_78425a84_2419_11eb_acf4_9169b01bf258row5_col0\" class=\"data row5 col0\" >{'clustering__affinity': 'euclidean', 'clustering__n_clusters': 4}</td>\n",
       "                        <td id=\"T_78425a84_2419_11eb_acf4_9169b01bf258row5_col1\" class=\"data row5 col1\" >0.342600</td>\n",
       "                        <td id=\"T_78425a84_2419_11eb_acf4_9169b01bf258row5_col2\" class=\"data row5 col2\" >6</td>\n",
       "            </tr>\n",
       "            <tr>\n",
       "                                <td id=\"T_78425a84_2419_11eb_acf4_9169b01bf258row6_col0\" class=\"data row6 col0\" >{'clustering__affinity': 'euclidean', 'clustering__n_clusters': 5}</td>\n",
       "                        <td id=\"T_78425a84_2419_11eb_acf4_9169b01bf258row6_col1\" class=\"data row6 col1\" >0.340761</td>\n",
       "                        <td id=\"T_78425a84_2419_11eb_acf4_9169b01bf258row6_col2\" class=\"data row6 col2\" >7</td>\n",
       "            </tr>\n",
       "            <tr>\n",
       "                                <td id=\"T_78425a84_2419_11eb_acf4_9169b01bf258row7_col0\" class=\"data row7 col0\" >{'clustering__affinity': 'manhattan', 'clustering__n_clusters': 5}</td>\n",
       "                        <td id=\"T_78425a84_2419_11eb_acf4_9169b01bf258row7_col1\" class=\"data row7 col1\" >0.335329</td>\n",
       "                        <td id=\"T_78425a84_2419_11eb_acf4_9169b01bf258row7_col2\" class=\"data row7 col2\" >8</td>\n",
       "            </tr>\n",
       "            <tr>\n",
       "                                <td id=\"T_78425a84_2419_11eb_acf4_9169b01bf258row8_col0\" class=\"data row8 col0\" >{'clustering__affinity': 'manhattan', 'clustering__n_clusters': 6}</td>\n",
       "                        <td id=\"T_78425a84_2419_11eb_acf4_9169b01bf258row8_col1\" class=\"data row8 col1\" >0.329052</td>\n",
       "                        <td id=\"T_78425a84_2419_11eb_acf4_9169b01bf258row8_col2\" class=\"data row8 col2\" >9</td>\n",
       "            </tr>\n",
       "            <tr>\n",
       "                                <td id=\"T_78425a84_2419_11eb_acf4_9169b01bf258row9_col0\" class=\"data row9 col0\" >{'clustering__affinity': 'euclidean', 'clustering__n_clusters': 6}</td>\n",
       "                        <td id=\"T_78425a84_2419_11eb_acf4_9169b01bf258row9_col1\" class=\"data row9 col1\" >0.315041</td>\n",
       "                        <td id=\"T_78425a84_2419_11eb_acf4_9169b01bf258row9_col2\" class=\"data row9 col2\" >10</td>\n",
       "            </tr>\n",
       "    </tbody></table>"
      ],
      "text/plain": [
       "<pandas.io.formats.style.Styler at 0x7f72a03f1f40>"
      ]
     },
     "execution_count": 82,
     "metadata": {},
     "output_type": "execute_result"
    }
   ],
   "source": [
    "agglomerative_results = pd.DataFrame(search.cv_results_)[['params', 'mean_test_score', 'rank_test_score']].sort_values('rank_test_score')\n",
    "agglomerative_results.head(10).style.apply(highlight_equal, value=1, column=['rank_test_score'], axis=1).hide_index()"
   ]
  },
  {
   "cell_type": "markdown",
   "metadata": {},
   "source": [
    "What's the number of customers in each cluster?"
   ]
  },
  {
   "cell_type": "code",
   "execution_count": 84,
   "metadata": {},
   "outputs": [
    {
     "data": {
      "text/html": [
       "<div>\n",
       "<style scoped>\n",
       "    .dataframe tbody tr th:only-of-type {\n",
       "        vertical-align: middle;\n",
       "    }\n",
       "\n",
       "    .dataframe tbody tr th {\n",
       "        vertical-align: top;\n",
       "    }\n",
       "\n",
       "    .dataframe thead th {\n",
       "        text-align: right;\n",
       "    }\n",
       "</style>\n",
       "<table border=\"1\" class=\"dataframe\">\n",
       "  <thead>\n",
       "    <tr style=\"text-align: right;\">\n",
       "      <th></th>\n",
       "      <th>0</th>\n",
       "      <th>1</th>\n",
       "    </tr>\n",
       "  </thead>\n",
       "  <tbody>\n",
       "    <tr>\n",
       "      <th>CustomersNo</th>\n",
       "      <td>2276</td>\n",
       "      <td>5</td>\n",
       "    </tr>\n",
       "  </tbody>\n",
       "</table>\n",
       "</div>"
      ],
      "text/plain": [
       "                0  1\n",
       "CustomersNo  2276  5"
      ]
     },
     "execution_count": 84,
     "metadata": {},
     "output_type": "execute_result"
    }
   ],
   "source": [
    "scaled_customer_profile = search.best_estimator_['scaler'].transform(customer_profile)\n",
    "clusters_customers = search.best_estimator_['clustering'].fit_predict(scaled_customer_profile)\n",
    "pd.DataFrame(pd.Series(clusters_customers).value_counts(), columns=['CustomersNo']).T"
   ]
  }
 ],
 "metadata": {
  "kernelspec": {
   "display_name": "Python 3",
   "language": "python",
   "name": "python3"
  },
  "language_info": {
   "codemirror_mode": {
    "name": "ipython",
    "version": 3
   },
   "file_extension": ".py",
   "mimetype": "text/x-python",
   "name": "python",
   "nbconvert_exporter": "python",
   "pygments_lexer": "ipython3",
   "version": "3.8.6"
  }
 },
 "nbformat": 4,
 "nbformat_minor": 4
}
