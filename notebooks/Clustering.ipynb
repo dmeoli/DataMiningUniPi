{
 "cells": [
  {
   "cell_type": "markdown",
   "metadata": {},
   "source": [
    "# Task 2: Clustering"
   ]
  },
  {
   "cell_type": "code",
   "execution_count": 101,
   "metadata": {},
   "outputs": [],
   "source": [
    "import pandas as pd\n",
    "import matplotlib.pyplot as plt"
   ]
  },
  {
   "cell_type": "markdown",
   "metadata": {},
   "source": [
    "## Loading the RFM model"
   ]
  },
  {
   "cell_type": "code",
   "execution_count": 102,
   "metadata": {},
   "outputs": [
    {
     "data": {
      "text/html": [
       "<div>\n",
       "<style scoped>\n",
       "    .dataframe tbody tr th:only-of-type {\n",
       "        vertical-align: middle;\n",
       "    }\n",
       "\n",
       "    .dataframe tbody tr th {\n",
       "        vertical-align: top;\n",
       "    }\n",
       "\n",
       "    .dataframe thead th {\n",
       "        text-align: right;\n",
       "    }\n",
       "</style>\n",
       "<table border=\"1\" class=\"dataframe\">\n",
       "  <thead>\n",
       "    <tr style=\"text-align: right;\">\n",
       "      <th></th>\n",
       "      <th>monetary</th>\n",
       "      <th>recency</th>\n",
       "      <th>T</th>\n",
       "      <th>frequency</th>\n",
       "      <th>R</th>\n",
       "      <th>F</th>\n",
       "      <th>M</th>\n",
       "      <th>RFMScore</th>\n",
       "    </tr>\n",
       "    <tr>\n",
       "      <th>CustomerID</th>\n",
       "      <th></th>\n",
       "      <th></th>\n",
       "      <th></th>\n",
       "      <th></th>\n",
       "      <th></th>\n",
       "      <th></th>\n",
       "      <th></th>\n",
       "      <th></th>\n",
       "    </tr>\n",
       "  </thead>\n",
       "  <tbody>\n",
       "    <tr>\n",
       "      <th>12747.0</th>\n",
       "      <td>5.762366</td>\n",
       "      <td>2.079442</td>\n",
       "      <td>5.831882</td>\n",
       "      <td>5.985119</td>\n",
       "      <td>1</td>\n",
       "      <td>3</td>\n",
       "      <td>4</td>\n",
       "      <td>8</td>\n",
       "    </tr>\n",
       "    <tr>\n",
       "      <th>12748.0</th>\n",
       "      <td>5.814429</td>\n",
       "      <td>4.584967</td>\n",
       "      <td>5.828946</td>\n",
       "      <td>5.636840</td>\n",
       "      <td>1</td>\n",
       "      <td>2</td>\n",
       "      <td>4</td>\n",
       "      <td>7</td>\n",
       "    </tr>\n",
       "    <tr>\n",
       "      <th>12749.0</th>\n",
       "      <td>5.746523</td>\n",
       "      <td>1.098612</td>\n",
       "      <td>5.817111</td>\n",
       "      <td>6.595348</td>\n",
       "      <td>2</td>\n",
       "      <td>4</td>\n",
       "      <td>4</td>\n",
       "      <td>10</td>\n",
       "    </tr>\n",
       "    <tr>\n",
       "      <th>12820.0</th>\n",
       "      <td>5.642262</td>\n",
       "      <td>1.098612</td>\n",
       "      <td>5.789960</td>\n",
       "      <td>5.550605</td>\n",
       "      <td>2</td>\n",
       "      <td>2</td>\n",
       "      <td>4</td>\n",
       "      <td>8</td>\n",
       "    </tr>\n",
       "    <tr>\n",
       "      <th>12822.0</th>\n",
       "      <td>2.839078</td>\n",
       "      <td>0.000000</td>\n",
       "      <td>4.477337</td>\n",
       "      <td>5.553270</td>\n",
       "      <td>4</td>\n",
       "      <td>2</td>\n",
       "      <td>1</td>\n",
       "      <td>7</td>\n",
       "    </tr>\n",
       "    <tr>\n",
       "      <th>...</th>\n",
       "      <td>...</td>\n",
       "      <td>...</td>\n",
       "      <td>...</td>\n",
       "      <td>...</td>\n",
       "      <td>...</td>\n",
       "      <td>...</td>\n",
       "      <td>...</td>\n",
       "      <td>...</td>\n",
       "    </tr>\n",
       "    <tr>\n",
       "      <th>18272.0</th>\n",
       "      <td>5.407620</td>\n",
       "      <td>1.609438</td>\n",
       "      <td>5.420535</td>\n",
       "      <td>6.305677</td>\n",
       "      <td>2</td>\n",
       "      <td>4</td>\n",
       "      <td>3</td>\n",
       "      <td>9</td>\n",
       "    </tr>\n",
       "    <tr>\n",
       "      <th>18273.0</th>\n",
       "      <td>4.673763</td>\n",
       "      <td>0.693147</td>\n",
       "      <td>5.552960</td>\n",
       "      <td>4.338597</td>\n",
       "      <td>3</td>\n",
       "      <td>1</td>\n",
       "      <td>1</td>\n",
       "      <td>5</td>\n",
       "    </tr>\n",
       "    <tr>\n",
       "      <th>18282.0</th>\n",
       "      <td>4.443827</td>\n",
       "      <td>0.000000</td>\n",
       "      <td>5.707110</td>\n",
       "      <td>4.608265</td>\n",
       "      <td>4</td>\n",
       "      <td>1</td>\n",
       "      <td>1</td>\n",
       "      <td>6</td>\n",
       "    </tr>\n",
       "    <tr>\n",
       "      <th>18283.0</th>\n",
       "      <td>5.740114</td>\n",
       "      <td>2.564949</td>\n",
       "      <td>5.771441</td>\n",
       "      <td>5.003213</td>\n",
       "      <td>1</td>\n",
       "      <td>1</td>\n",
       "      <td>4</td>\n",
       "      <td>6</td>\n",
       "    </tr>\n",
       "    <tr>\n",
       "      <th>18287.0</th>\n",
       "      <td>5.308763</td>\n",
       "      <td>0.693147</td>\n",
       "      <td>5.308268</td>\n",
       "      <td>6.284321</td>\n",
       "      <td>3</td>\n",
       "      <td>4</td>\n",
       "      <td>3</td>\n",
       "      <td>10</td>\n",
       "    </tr>\n",
       "  </tbody>\n",
       "</table>\n",
       "<p>2393 rows × 8 columns</p>\n",
       "</div>"
      ],
      "text/plain": [
       "            monetary   recency         T  frequency  R  F  M  RFMScore\n",
       "CustomerID                                                            \n",
       "12747.0     5.762366  2.079442  5.831882   5.985119  1  3  4         8\n",
       "12748.0     5.814429  4.584967  5.828946   5.636840  1  2  4         7\n",
       "12749.0     5.746523  1.098612  5.817111   6.595348  2  4  4        10\n",
       "12820.0     5.642262  1.098612  5.789960   5.550605  2  2  4         8\n",
       "12822.0     2.839078  0.000000  4.477337   5.553270  4  2  1         7\n",
       "...              ...       ...       ...        ... .. .. ..       ...\n",
       "18272.0     5.407620  1.609438  5.420535   6.305677  2  4  3         9\n",
       "18273.0     4.673763  0.693147  5.552960   4.338597  3  1  1         5\n",
       "18282.0     4.443827  0.000000  5.707110   4.608265  4  1  1         6\n",
       "18283.0     5.740114  2.564949  5.771441   5.003213  1  1  4         6\n",
       "18287.0     5.308763  0.693147  5.308268   6.284321  3  4  3        10\n",
       "\n",
       "[2393 rows x 8 columns]"
      ]
     },
     "execution_count": 102,
     "metadata": {},
     "output_type": "execute_result"
    }
   ],
   "source": [
    "rfm = pd.read_csv('../dataset/rfm_customer_supermarket_model.csv', sep='\\t', index_col=0)\n",
    "rfm"
   ]
  },
  {
   "cell_type": "code",
   "execution_count": 104,
   "metadata": {},
   "outputs": [],
   "source": [
    "rfm = rfm.to_numpy()"
   ]
  },
  {
   "cell_type": "markdown",
   "metadata": {},
   "source": [
    "## K-means"
   ]
  },
  {
   "cell_type": "code",
   "execution_count": 103,
   "metadata": {},
   "outputs": [],
   "source": [
    "from sklearn.preprocessing import StandardScaler\n",
    "from sklearn.decomposition import PCA\n",
    "from sklearn.cluster import KMeans\n",
    "from sklearn.pipeline import Pipeline\n",
    "from sklearn.model_selection import GridSearchCV\n",
    "from sklearn.metrics import silhouette_score"
   ]
  },
  {
   "cell_type": "code",
   "execution_count": 105,
   "metadata": {},
   "outputs": [
    {
     "name": "stdout",
     "output_type": "stream",
     "text": [
      "average silhouette score: 0.310\n"
     ]
    }
   ],
   "source": [
    "n_clusters = 2\n",
    "kmeans = KMeans(init='k-means++', n_clusters=n_clusters, n_init=30)\n",
    "clusters_customers = kmeans.fit_predict(rfm)\n",
    "silhouette_avg = silhouette_score(rfm, clusters_customers)\n",
    "print('average silhouette score: {:<.3f}'.format(silhouette_avg))"
   ]
  },
  {
   "cell_type": "code",
   "execution_count": 123,
   "metadata": {},
   "outputs": [
    {
     "name": "stdout",
     "output_type": "stream",
     "text": [
      "Fitting 1 folds for each of 56 candidates, totalling 56 fits\n"
     ]
    },
    {
     "name": "stderr",
     "output_type": "stream",
     "text": [
      "[Parallel(n_jobs=-1)]: Using backend LokyBackend with 8 concurrent workers.\n",
      "[Parallel(n_jobs=-1)]: Done  34 tasks      | elapsed:    2.1s\n",
      "[Parallel(n_jobs=-1)]: Done  56 out of  56 | elapsed:    3.5s finished\n"
     ]
    }
   ],
   "source": [
    "def cv_silhouette_scorer(pipeline, X):\n",
    "    pipeline.fit(X)\n",
    "    cluster_labels = pipeline['kmeans'].labels_\n",
    "    return silhouette_score(X, cluster_labels)\n",
    "    \n",
    "# define a pipeline to search for the best combination of PCA truncation, scaler and the number of kmeans clusters\n",
    "pipeline = Pipeline(steps=[('pca', PCA()),\n",
    "                           ('scaler', StandardScaler()),\n",
    "                           ('kmeans', KMeans(init='k-means++'))])\n",
    "\n",
    "n_features = rfm.shape[1]\n",
    "\n",
    "# parameters of pipelines can be set using ‘__’ separated parameter names\n",
    "tuned_parameters = {\n",
    "    'pca__n_components': range(2, n_features + 1),\n",
    "    'kmeans__n_clusters': range(2, 10)}\n",
    "\n",
    "search = GridSearchCV(estimator=pipeline, \n",
    "                      param_grid=tuned_parameters, \n",
    "                      scoring=cv_silhouette_scorer, \n",
    "                      cv=[(slice(None), slice(None))],  # https://stackoverflow.com/a/44682305/5555994\n",
    "                      n_jobs=-1,  # use all processors\n",
    "                      refit=True, \n",
    "                      verbose=True).fit(rfm)"
   ]
  },
  {
   "cell_type": "code",
   "execution_count": 124,
   "metadata": {},
   "outputs": [
    {
     "data": {
      "text/html": [
       "<style  type=\"text/css\" >\n",
       "    #T_beebc6f8_208d_11eb_82b1_05ce84ce29c8row0_col0 {\n",
       "            background-color:  lightyellow;\n",
       "        }    #T_beebc6f8_208d_11eb_82b1_05ce84ce29c8row0_col1 {\n",
       "            background-color:  lightyellow;\n",
       "        }    #T_beebc6f8_208d_11eb_82b1_05ce84ce29c8row0_col2 {\n",
       "            background-color:  lightyellow;\n",
       "        }</style><table id=\"T_beebc6f8_208d_11eb_82b1_05ce84ce29c8\" ><thead>    <tr>        <th class=\"col_heading level0 col0\" >params</th>        <th class=\"col_heading level0 col1\" >mean_test_score</th>        <th class=\"col_heading level0 col2\" >rank_test_score</th>    </tr></thead><tbody>\n",
       "                <tr>\n",
       "                                <td id=\"T_beebc6f8_208d_11eb_82b1_05ce84ce29c8row0_col0\" class=\"data row0 col0\" >{'kmeans__n_clusters': 3, 'pca__n_components': 2}</td>\n",
       "                        <td id=\"T_beebc6f8_208d_11eb_82b1_05ce84ce29c8row0_col1\" class=\"data row0 col1\" >0.300486</td>\n",
       "                        <td id=\"T_beebc6f8_208d_11eb_82b1_05ce84ce29c8row0_col2\" class=\"data row0 col2\" >1</td>\n",
       "            </tr>\n",
       "            <tr>\n",
       "                                <td id=\"T_beebc6f8_208d_11eb_82b1_05ce84ce29c8row1_col0\" class=\"data row1 col0\" >{'kmeans__n_clusters': 4, 'pca__n_components': 2}</td>\n",
       "                        <td id=\"T_beebc6f8_208d_11eb_82b1_05ce84ce29c8row1_col1\" class=\"data row1 col1\" >0.285416</td>\n",
       "                        <td id=\"T_beebc6f8_208d_11eb_82b1_05ce84ce29c8row1_col2\" class=\"data row1 col2\" >2</td>\n",
       "            </tr>\n",
       "            <tr>\n",
       "                                <td id=\"T_beebc6f8_208d_11eb_82b1_05ce84ce29c8row2_col0\" class=\"data row2 col0\" >{'kmeans__n_clusters': 2, 'pca__n_components': 2}</td>\n",
       "                        <td id=\"T_beebc6f8_208d_11eb_82b1_05ce84ce29c8row2_col1\" class=\"data row2 col1\" >0.280776</td>\n",
       "                        <td id=\"T_beebc6f8_208d_11eb_82b1_05ce84ce29c8row2_col2\" class=\"data row2 col2\" >3</td>\n",
       "            </tr>\n",
       "            <tr>\n",
       "                                <td id=\"T_beebc6f8_208d_11eb_82b1_05ce84ce29c8row3_col0\" class=\"data row3 col0\" >{'kmeans__n_clusters': 2, 'pca__n_components': 3}</td>\n",
       "                        <td id=\"T_beebc6f8_208d_11eb_82b1_05ce84ce29c8row3_col1\" class=\"data row3 col1\" >0.274692</td>\n",
       "                        <td id=\"T_beebc6f8_208d_11eb_82b1_05ce84ce29c8row3_col2\" class=\"data row3 col2\" >4</td>\n",
       "            </tr>\n",
       "            <tr>\n",
       "                                <td id=\"T_beebc6f8_208d_11eb_82b1_05ce84ce29c8row4_col0\" class=\"data row4 col0\" >{'kmeans__n_clusters': 2, 'pca__n_components': 7}</td>\n",
       "                        <td id=\"T_beebc6f8_208d_11eb_82b1_05ce84ce29c8row4_col1\" class=\"data row4 col1\" >0.274692</td>\n",
       "                        <td id=\"T_beebc6f8_208d_11eb_82b1_05ce84ce29c8row4_col2\" class=\"data row4 col2\" >4</td>\n",
       "            </tr>\n",
       "            <tr>\n",
       "                                <td id=\"T_beebc6f8_208d_11eb_82b1_05ce84ce29c8row5_col0\" class=\"data row5 col0\" >{'kmeans__n_clusters': 2, 'pca__n_components': 8}</td>\n",
       "                        <td id=\"T_beebc6f8_208d_11eb_82b1_05ce84ce29c8row5_col1\" class=\"data row5 col1\" >0.274030</td>\n",
       "                        <td id=\"T_beebc6f8_208d_11eb_82b1_05ce84ce29c8row5_col2\" class=\"data row5 col2\" >6</td>\n",
       "            </tr>\n",
       "            <tr>\n",
       "                                <td id=\"T_beebc6f8_208d_11eb_82b1_05ce84ce29c8row6_col0\" class=\"data row6 col0\" >{'kmeans__n_clusters': 9, 'pca__n_components': 3}</td>\n",
       "                        <td id=\"T_beebc6f8_208d_11eb_82b1_05ce84ce29c8row6_col1\" class=\"data row6 col1\" >0.272587</td>\n",
       "                        <td id=\"T_beebc6f8_208d_11eb_82b1_05ce84ce29c8row6_col2\" class=\"data row6 col2\" >7</td>\n",
       "            </tr>\n",
       "            <tr>\n",
       "                                <td id=\"T_beebc6f8_208d_11eb_82b1_05ce84ce29c8row7_col0\" class=\"data row7 col0\" >{'kmeans__n_clusters': 2, 'pca__n_components': 5}</td>\n",
       "                        <td id=\"T_beebc6f8_208d_11eb_82b1_05ce84ce29c8row7_col1\" class=\"data row7 col1\" >0.271973</td>\n",
       "                        <td id=\"T_beebc6f8_208d_11eb_82b1_05ce84ce29c8row7_col2\" class=\"data row7 col2\" >8</td>\n",
       "            </tr>\n",
       "            <tr>\n",
       "                                <td id=\"T_beebc6f8_208d_11eb_82b1_05ce84ce29c8row8_col0\" class=\"data row8 col0\" >{'kmeans__n_clusters': 5, 'pca__n_components': 3}</td>\n",
       "                        <td id=\"T_beebc6f8_208d_11eb_82b1_05ce84ce29c8row8_col1\" class=\"data row8 col1\" >0.271833</td>\n",
       "                        <td id=\"T_beebc6f8_208d_11eb_82b1_05ce84ce29c8row8_col2\" class=\"data row8 col2\" >9</td>\n",
       "            </tr>\n",
       "            <tr>\n",
       "                                <td id=\"T_beebc6f8_208d_11eb_82b1_05ce84ce29c8row9_col0\" class=\"data row9 col0\" >{'kmeans__n_clusters': 2, 'pca__n_components': 4}</td>\n",
       "                        <td id=\"T_beebc6f8_208d_11eb_82b1_05ce84ce29c8row9_col1\" class=\"data row9 col1\" >0.271523</td>\n",
       "                        <td id=\"T_beebc6f8_208d_11eb_82b1_05ce84ce29c8row9_col2\" class=\"data row9 col2\" >10</td>\n",
       "            </tr>\n",
       "    </tbody></table>"
      ],
      "text/plain": [
       "<pandas.io.formats.style.Styler at 0x7ff70133fb20>"
      ]
     },
     "execution_count": 124,
     "metadata": {},
     "output_type": "execute_result"
    }
   ],
   "source": [
    "results = pd.DataFrame(search.cv_results_)[['params', 'mean_test_score', 'rank_test_score']].sort_values('rank_test_score')\n",
    "\n",
    "def highlight_equal(s, value, column):\n",
    "    is_max = pd.Series(data=False, index=s.index)\n",
    "    is_max[column] = s.loc[column] == value\n",
    "    return ['background-color: lightyellow' if is_max.any() else '' for v in is_max]\n",
    "\n",
    "results.head(10).style.apply(highlight_equal, value=1, column=['rank_test_score'], axis=1).hide_index()"
   ]
  },
  {
   "cell_type": "code",
   "execution_count": 117,
   "metadata": {},
   "outputs": [
    {
     "data": {
      "image/png": "[encoded data removed]",
      "text/plain": [
       "<Figure size 432x288 with 1 Axes>"
      ]
     },
     "metadata": {
      "needs_background": "light"
     },
     "output_type": "display_data"
    }
   ],
   "source": [
    "# create a scatter plot\n",
    "clusters_customers = search.predict(rfm)\n",
    "plt.scatter(rfm[:, 0], rfm[:, 1], c=clusters_customers, s=50, cmap='viridis')\n",
    "# select cluster centers\n",
    "centroids = search.best_estimator_['kmeans'].cluster_centers_\n",
    "plt.scatter(centroids[:, 0], centroids[:, 1], c='black', s=200, alpha=0.5);"
   ]
  }
 ],
 "metadata": {
  "kernelspec": {
   "display_name": "Python 3",
   "language": "python",
   "name": "python3"
  },
  "language_info": {
   "codemirror_mode": {
    "name": "ipython",
    "version": 3
   },
   "file_extension": ".py",
   "mimetype": "text/x-python",
   "name": "python",
   "nbconvert_exporter": "python",
   "pygments_lexer": "ipython3",
   "version": "3.8.6"
  }
 },
 "nbformat": 4,
 "nbformat_minor": 4
}
