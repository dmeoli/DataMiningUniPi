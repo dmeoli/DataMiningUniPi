{
 "cells": [
  {
   "cell_type": "markdown",
   "metadata": {},
   "source": [
    "# Task 2: Clustering"
   ]
  },
  {
   "cell_type": "code",
   "execution_count": 1,
   "metadata": {},
   "outputs": [],
   "source": [
    "import pandas as pd\n",
    "import matplotlib.pyplot as plt"
   ]
  },
  {
   "cell_type": "markdown",
   "metadata": {},
   "source": [
    "## Loading the Customer Profile model"
   ]
  },
  {
   "cell_type": "code",
   "execution_count": 2,
   "metadata": {},
   "outputs": [
    {
     "data": {
      "text/html": [
       "<div>\n",
       "<style scoped>\n",
       "    .dataframe tbody tr th:only-of-type {\n",
       "        vertical-align: middle;\n",
       "    }\n",
       "\n",
       "    .dataframe tbody tr th {\n",
       "        vertical-align: top;\n",
       "    }\n",
       "\n",
       "    .dataframe thead th {\n",
       "        text-align: right;\n",
       "    }\n",
       "</style>\n",
       "<table border=\"1\" class=\"dataframe\">\n",
       "  <thead>\n",
       "    <tr style=\"text-align: right;\">\n",
       "      <th></th>\n",
       "      <th>I</th>\n",
       "      <th>Iu</th>\n",
       "      <th>Imax</th>\n",
       "      <th>Monetary</th>\n",
       "      <th>Recency</th>\n",
       "      <th>T</th>\n",
       "      <th>Frequency</th>\n",
       "    </tr>\n",
       "    <tr>\n",
       "      <th>CustomerID</th>\n",
       "      <th></th>\n",
       "      <th></th>\n",
       "      <th></th>\n",
       "      <th></th>\n",
       "      <th></th>\n",
       "      <th></th>\n",
       "      <th></th>\n",
       "    </tr>\n",
       "  </thead>\n",
       "  <tbody>\n",
       "    <tr>\n",
       "      <th>12747.0</th>\n",
       "      <td>6.674561</td>\n",
       "      <td>3.367296</td>\n",
       "      <td>4.941642</td>\n",
       "      <td>5.762366</td>\n",
       "      <td>2.079442</td>\n",
       "      <td>5.831882</td>\n",
       "      <td>5.467828</td>\n",
       "    </tr>\n",
       "    <tr>\n",
       "      <th>12748.0</th>\n",
       "      <td>9.485925</td>\n",
       "      <td>7.273786</td>\n",
       "      <td>7.108244</td>\n",
       "      <td>5.814429</td>\n",
       "      <td>4.553877</td>\n",
       "      <td>5.828946</td>\n",
       "      <td>5.230059</td>\n",
       "    </tr>\n",
       "    <tr>\n",
       "      <th>12749.0</th>\n",
       "      <td>7.110696</td>\n",
       "      <td>4.787492</td>\n",
       "      <td>6.439350</td>\n",
       "      <td>5.746523</td>\n",
       "      <td>1.098612</td>\n",
       "      <td>5.817111</td>\n",
       "      <td>6.259486</td>\n",
       "    </tr>\n",
       "    <tr>\n",
       "      <th>12820.0</th>\n",
       "      <td>6.513230</td>\n",
       "      <td>3.988984</td>\n",
       "      <td>5.497168</td>\n",
       "      <td>5.642262</td>\n",
       "      <td>1.098612</td>\n",
       "      <td>5.789960</td>\n",
       "      <td>5.526064</td>\n",
       "    </tr>\n",
       "    <tr>\n",
       "      <th>12822.0</th>\n",
       "      <td>6.122493</td>\n",
       "      <td>3.610918</td>\n",
       "      <td>5.913503</td>\n",
       "      <td>2.839078</td>\n",
       "      <td>0.000000</td>\n",
       "      <td>4.477337</td>\n",
       "      <td>5.050369</td>\n",
       "    </tr>\n",
       "    <tr>\n",
       "      <th>...</th>\n",
       "      <td>...</td>\n",
       "      <td>...</td>\n",
       "      <td>...</td>\n",
       "      <td>...</td>\n",
       "      <td>...</td>\n",
       "      <td>...</td>\n",
       "      <td>...</td>\n",
       "    </tr>\n",
       "    <tr>\n",
       "      <th>18272.0</th>\n",
       "      <td>7.367709</td>\n",
       "      <td>4.477337</td>\n",
       "      <td>5.863631</td>\n",
       "      <td>5.407620</td>\n",
       "      <td>1.609438</td>\n",
       "      <td>5.420535</td>\n",
       "      <td>6.203935</td>\n",
       "    </tr>\n",
       "    <tr>\n",
       "      <th>18273.0</th>\n",
       "      <td>3.688879</td>\n",
       "      <td>0.000000</td>\n",
       "      <td>2.995732</td>\n",
       "      <td>4.673763</td>\n",
       "      <td>0.000000</td>\n",
       "      <td>5.552960</td>\n",
       "      <td>3.933784</td>\n",
       "    </tr>\n",
       "    <tr>\n",
       "      <th>18282.0</th>\n",
       "      <td>3.931826</td>\n",
       "      <td>2.079442</td>\n",
       "      <td>3.258097</td>\n",
       "      <td>4.443827</td>\n",
       "      <td>0.000000</td>\n",
       "      <td>5.707110</td>\n",
       "      <td>4.109069</td>\n",
       "    </tr>\n",
       "    <tr>\n",
       "      <th>18283.0</th>\n",
       "      <td>7.208600</td>\n",
       "      <td>5.552960</td>\n",
       "      <td>5.484797</td>\n",
       "      <td>5.740114</td>\n",
       "      <td>2.564949</td>\n",
       "      <td>5.771441</td>\n",
       "      <td>4.980800</td>\n",
       "    </tr>\n",
       "    <tr>\n",
       "      <th>18287.0</th>\n",
       "      <td>6.656727</td>\n",
       "      <td>3.828641</td>\n",
       "      <td>6.161207</td>\n",
       "      <td>5.308763</td>\n",
       "      <td>0.693147</td>\n",
       "      <td>5.308268</td>\n",
       "      <td>5.561988</td>\n",
       "    </tr>\n",
       "  </tbody>\n",
       "</table>\n",
       "<p>2281 rows × 7 columns</p>\n",
       "</div>"
      ],
      "text/plain": [
       "                   I        Iu      Imax  Monetary   Recency         T  \\\n",
       "CustomerID                                                               \n",
       "12747.0     6.674561  3.367296  4.941642  5.762366  2.079442  5.831882   \n",
       "12748.0     9.485925  7.273786  7.108244  5.814429  4.553877  5.828946   \n",
       "12749.0     7.110696  4.787492  6.439350  5.746523  1.098612  5.817111   \n",
       "12820.0     6.513230  3.988984  5.497168  5.642262  1.098612  5.789960   \n",
       "12822.0     6.122493  3.610918  5.913503  2.839078  0.000000  4.477337   \n",
       "...              ...       ...       ...       ...       ...       ...   \n",
       "18272.0     7.367709  4.477337  5.863631  5.407620  1.609438  5.420535   \n",
       "18273.0     3.688879  0.000000  2.995732  4.673763  0.000000  5.552960   \n",
       "18282.0     3.931826  2.079442  3.258097  4.443827  0.000000  5.707110   \n",
       "18283.0     7.208600  5.552960  5.484797  5.740114  2.564949  5.771441   \n",
       "18287.0     6.656727  3.828641  6.161207  5.308763  0.693147  5.308268   \n",
       "\n",
       "            Frequency  \n",
       "CustomerID             \n",
       "12747.0      5.467828  \n",
       "12748.0      5.230059  \n",
       "12749.0      6.259486  \n",
       "12820.0      5.526064  \n",
       "12822.0      5.050369  \n",
       "...               ...  \n",
       "18272.0      6.203935  \n",
       "18273.0      3.933784  \n",
       "18282.0      4.109069  \n",
       "18283.0      4.980800  \n",
       "18287.0      5.561988  \n",
       "\n",
       "[2281 rows x 7 columns]"
      ]
     },
     "execution_count": 2,
     "metadata": {},
     "output_type": "execute_result"
    }
   ],
   "source": [
    "customer_profile = pd.read_csv('../dataset/customer_profile_model.csv', sep='\\t', index_col=0)\n",
    "customer_profile"
   ]
  },
  {
   "cell_type": "code",
   "execution_count": 3,
   "metadata": {},
   "outputs": [],
   "source": [
    "customer_profile = customer_profile.to_numpy()"
   ]
  },
  {
   "cell_type": "markdown",
   "metadata": {},
   "source": [
    "## K-means"
   ]
  },
  {
   "cell_type": "code",
   "execution_count": 4,
   "metadata": {},
   "outputs": [],
   "source": [
    "from sklearn.preprocessing import StandardScaler\n",
    "from sklearn.decomposition import PCA\n",
    "from sklearn.cluster import KMeans\n",
    "from sklearn.pipeline import Pipeline\n",
    "from sklearn.model_selection import GridSearchCV\n",
    "from sklearn.metrics import silhouette_score"
   ]
  },
  {
   "cell_type": "code",
   "execution_count": 5,
   "metadata": {},
   "outputs": [
    {
     "name": "stdout",
     "output_type": "stream",
     "text": [
      "Fitting 1 folds for each of 48 candidates, totalling 48 fits\n"
     ]
    },
    {
     "name": "stderr",
     "output_type": "stream",
     "text": [
      "[Parallel(n_jobs=-1)]: Using backend LokyBackend with 8 concurrent workers.\n",
      "[Parallel(n_jobs=-1)]: Done  48 out of  48 | elapsed:    4.4s finished\n"
     ]
    }
   ],
   "source": [
    "def silhouette_scorer(pipeline, X):\n",
    "    pipeline.fit(X)\n",
    "    cluster_labels = pipeline['kmeans'].labels_\n",
    "    n_labels = len(set(cluster_labels))\n",
    "    n_samples = X.shape[0]\n",
    "    if n_labels == 1 or n_labels == n_samples:\n",
    "        return -1\n",
    "    else:\n",
    "        return silhouette_score(X, cluster_labels)\n",
    "    \n",
    "# define a pipeline to search for the best combination of PCA truncation, scaler and the number of kmeans clusters\n",
    "pipeline = Pipeline(steps=[('pca', PCA()), # a common practice before doing clustering: PCA which calculates the dimensions which best maximize variance; \n",
    "                           # it does dimensionality reduction while keeping the most important features, i.e. combinations of features best describe customers.\n",
    "                           ('scaler', StandardScaler()),\n",
    "                           ('kmeans', KMeans(init='k-means++'))])\n",
    "\n",
    "n_features = customer_profile.shape[1]\n",
    "\n",
    "# parameters of pipelines can be set using ‘__’ separated parameter names\n",
    "tuned_parameters = {\n",
    "    'pca__n_components': range(2, n_features + 1),\n",
    "    'kmeans__n_clusters': range(2, 10)}\n",
    "    # 'kmeans__n_init': [100]}\n",
    "\n",
    "search = GridSearchCV(estimator=pipeline, \n",
    "                      param_grid=tuned_parameters, \n",
    "                      scoring=silhouette_scorer, \n",
    "                      cv=[(slice(None), slice(None))],  # https://stackoverflow.com/a/44682305/5555994\n",
    "                      n_jobs=-1,  # use all processors\n",
    "                      refit=True, \n",
    "                      verbose=True).fit(customer_profile)"
   ]
  },
  {
   "cell_type": "code",
   "execution_count": 6,
   "metadata": {},
   "outputs": [
    {
     "data": {
      "text/html": [
       "<style  type=\"text/css\" >\n",
       "    #T_cbaa9082_23a7_11eb_acf4_9169b01bf258row0_col0 {\n",
       "            background-color:  lightyellow;\n",
       "        }    #T_cbaa9082_23a7_11eb_acf4_9169b01bf258row0_col1 {\n",
       "            background-color:  lightyellow;\n",
       "        }    #T_cbaa9082_23a7_11eb_acf4_9169b01bf258row0_col2 {\n",
       "            background-color:  lightyellow;\n",
       "        }</style><table id=\"T_cbaa9082_23a7_11eb_acf4_9169b01bf258\" ><thead>    <tr>        <th class=\"col_heading level0 col0\" >params</th>        <th class=\"col_heading level0 col1\" >mean_test_score</th>        <th class=\"col_heading level0 col2\" >rank_test_score</th>    </tr></thead><tbody>\n",
       "                <tr>\n",
       "                                <td id=\"T_cbaa9082_23a7_11eb_acf4_9169b01bf258row0_col0\" class=\"data row0 col0\" >{'kmeans__n_clusters': 2, 'pca__n_components': 2}</td>\n",
       "                        <td id=\"T_cbaa9082_23a7_11eb_acf4_9169b01bf258row0_col1\" class=\"data row0 col1\" >0.317906</td>\n",
       "                        <td id=\"T_cbaa9082_23a7_11eb_acf4_9169b01bf258row0_col2\" class=\"data row0 col2\" >1</td>\n",
       "            </tr>\n",
       "            <tr>\n",
       "                                <td id=\"T_cbaa9082_23a7_11eb_acf4_9169b01bf258row1_col0\" class=\"data row1 col0\" >{'kmeans__n_clusters': 3, 'pca__n_components': 2}</td>\n",
       "                        <td id=\"T_cbaa9082_23a7_11eb_acf4_9169b01bf258row1_col1\" class=\"data row1 col1\" >0.279148</td>\n",
       "                        <td id=\"T_cbaa9082_23a7_11eb_acf4_9169b01bf258row1_col2\" class=\"data row1 col2\" >2</td>\n",
       "            </tr>\n",
       "            <tr>\n",
       "                                <td id=\"T_cbaa9082_23a7_11eb_acf4_9169b01bf258row2_col0\" class=\"data row2 col0\" >{'kmeans__n_clusters': 2, 'pca__n_components': 3}</td>\n",
       "                        <td id=\"T_cbaa9082_23a7_11eb_acf4_9169b01bf258row2_col1\" class=\"data row2 col1\" >0.263642</td>\n",
       "                        <td id=\"T_cbaa9082_23a7_11eb_acf4_9169b01bf258row2_col2\" class=\"data row2 col2\" >3</td>\n",
       "            </tr>\n",
       "            <tr>\n",
       "                                <td id=\"T_cbaa9082_23a7_11eb_acf4_9169b01bf258row3_col0\" class=\"data row3 col0\" >{'kmeans__n_clusters': 2, 'pca__n_components': 4}</td>\n",
       "                        <td id=\"T_cbaa9082_23a7_11eb_acf4_9169b01bf258row3_col1\" class=\"data row3 col1\" >0.262366</td>\n",
       "                        <td id=\"T_cbaa9082_23a7_11eb_acf4_9169b01bf258row3_col2\" class=\"data row3 col2\" >4</td>\n",
       "            </tr>\n",
       "            <tr>\n",
       "                                <td id=\"T_cbaa9082_23a7_11eb_acf4_9169b01bf258row4_col0\" class=\"data row4 col0\" >{'kmeans__n_clusters': 3, 'pca__n_components': 3}</td>\n",
       "                        <td id=\"T_cbaa9082_23a7_11eb_acf4_9169b01bf258row4_col1\" class=\"data row4 col1\" >0.241366</td>\n",
       "                        <td id=\"T_cbaa9082_23a7_11eb_acf4_9169b01bf258row4_col2\" class=\"data row4 col2\" >5</td>\n",
       "            </tr>\n",
       "            <tr>\n",
       "                                <td id=\"T_cbaa9082_23a7_11eb_acf4_9169b01bf258row5_col0\" class=\"data row5 col0\" >{'kmeans__n_clusters': 3, 'pca__n_components': 4}</td>\n",
       "                        <td id=\"T_cbaa9082_23a7_11eb_acf4_9169b01bf258row5_col1\" class=\"data row5 col1\" >0.232022</td>\n",
       "                        <td id=\"T_cbaa9082_23a7_11eb_acf4_9169b01bf258row5_col2\" class=\"data row5 col2\" >6</td>\n",
       "            </tr>\n",
       "            <tr>\n",
       "                                <td id=\"T_cbaa9082_23a7_11eb_acf4_9169b01bf258row6_col0\" class=\"data row6 col0\" >{'kmeans__n_clusters': 2, 'pca__n_components': 7}</td>\n",
       "                        <td id=\"T_cbaa9082_23a7_11eb_acf4_9169b01bf258row6_col1\" class=\"data row6 col1\" >0.227995</td>\n",
       "                        <td id=\"T_cbaa9082_23a7_11eb_acf4_9169b01bf258row6_col2\" class=\"data row6 col2\" >7</td>\n",
       "            </tr>\n",
       "            <tr>\n",
       "                                <td id=\"T_cbaa9082_23a7_11eb_acf4_9169b01bf258row7_col0\" class=\"data row7 col0\" >{'kmeans__n_clusters': 3, 'pca__n_components': 5}</td>\n",
       "                        <td id=\"T_cbaa9082_23a7_11eb_acf4_9169b01bf258row7_col1\" class=\"data row7 col1\" >0.223161</td>\n",
       "                        <td id=\"T_cbaa9082_23a7_11eb_acf4_9169b01bf258row7_col2\" class=\"data row7 col2\" >8</td>\n",
       "            </tr>\n",
       "            <tr>\n",
       "                                <td id=\"T_cbaa9082_23a7_11eb_acf4_9169b01bf258row8_col0\" class=\"data row8 col0\" >{'kmeans__n_clusters': 3, 'pca__n_components': 6}</td>\n",
       "                        <td id=\"T_cbaa9082_23a7_11eb_acf4_9169b01bf258row8_col1\" class=\"data row8 col1\" >0.206547</td>\n",
       "                        <td id=\"T_cbaa9082_23a7_11eb_acf4_9169b01bf258row8_col2\" class=\"data row8 col2\" >9</td>\n",
       "            </tr>\n",
       "            <tr>\n",
       "                                <td id=\"T_cbaa9082_23a7_11eb_acf4_9169b01bf258row9_col0\" class=\"data row9 col0\" >{'kmeans__n_clusters': 4, 'pca__n_components': 2}</td>\n",
       "                        <td id=\"T_cbaa9082_23a7_11eb_acf4_9169b01bf258row9_col1\" class=\"data row9 col1\" >0.199160</td>\n",
       "                        <td id=\"T_cbaa9082_23a7_11eb_acf4_9169b01bf258row9_col2\" class=\"data row9 col2\" >10</td>\n",
       "            </tr>\n",
       "    </tbody></table>"
      ],
      "text/plain": [
       "<pandas.io.formats.style.Styler at 0x7fda20ab5730>"
      ]
     },
     "execution_count": 6,
     "metadata": {},
     "output_type": "execute_result"
    }
   ],
   "source": [
    "kmeans_results = pd.DataFrame(search.cv_results_)[['params', 'mean_test_score', 'rank_test_score']].sort_values('rank_test_score')\n",
    "\n",
    "def highlight_equal(s, value, column):\n",
    "    is_max = pd.Series(data=False, index=s.index)\n",
    "    is_max[column] = s.loc[column] == value\n",
    "    return ['background-color: lightyellow' if is_max.any() else '' for v in is_max]\n",
    "\n",
    "kmeans_results.head(10).style.apply(highlight_equal, value=1, column=['rank_test_score'], axis=1).hide_index()"
   ]
  },
  {
   "cell_type": "code",
   "execution_count": 7,
   "metadata": {},
   "outputs": [
    {
     "data": {
      "image/png": "[encoded data removed]",
      "text/plain": [
       "<Figure size 432x288 with 1 Axes>"
      ]
     },
     "metadata": {
      "needs_background": "light"
     },
     "output_type": "display_data"
    }
   ],
   "source": [
    "# create a scatter plot\n",
    "clusters_customers = search.predict(customer_profile)\n",
    "pca_customer_profile = search.best_estimator_['pca'].transform(customer_profile)\n",
    "plt.scatter(pca_customer_profile[:, 0], pca_customer_profile[:, 1], c=clusters_customers, s=20)\n",
    "# select cluster centers\n",
    "centroids = search.best_estimator_['kmeans'].cluster_centers_\n",
    "plt.scatter(centroids[:, 0], centroids[:, 1], c='black', s=70, alpha=0.5);"
   ]
  },
  {
   "cell_type": "markdown",
   "metadata": {},
   "source": [
    "What's the number of customers in each cluster?"
   ]
  },
  {
   "cell_type": "code",
   "execution_count": 8,
   "metadata": {},
   "outputs": [
    {
     "data": {
      "text/html": [
       "<div>\n",
       "<style scoped>\n",
       "    .dataframe tbody tr th:only-of-type {\n",
       "        vertical-align: middle;\n",
       "    }\n",
       "\n",
       "    .dataframe tbody tr th {\n",
       "        vertical-align: top;\n",
       "    }\n",
       "\n",
       "    .dataframe thead th {\n",
       "        text-align: right;\n",
       "    }\n",
       "</style>\n",
       "<table border=\"1\" class=\"dataframe\">\n",
       "  <thead>\n",
       "    <tr style=\"text-align: right;\">\n",
       "      <th></th>\n",
       "      <th>0</th>\n",
       "      <th>1</th>\n",
       "    </tr>\n",
       "  </thead>\n",
       "  <tbody>\n",
       "    <tr>\n",
       "      <th>CustomersNumber</th>\n",
       "      <td>1217</td>\n",
       "      <td>1064</td>\n",
       "    </tr>\n",
       "  </tbody>\n",
       "</table>\n",
       "</div>"
      ],
      "text/plain": [
       "                    0     1\n",
       "CustomersNumber  1217  1064"
      ]
     },
     "execution_count": 8,
     "metadata": {},
     "output_type": "execute_result"
    }
   ],
   "source": [
    "pd.DataFrame(pd.Series(clusters_customers).value_counts(), columns=['CustomersNumber']).T"
   ]
  },
  {
   "cell_type": "markdown",
   "metadata": {},
   "source": [
    "## DBSCAN"
   ]
  },
  {
   "cell_type": "code",
   "execution_count": 9,
   "metadata": {},
   "outputs": [],
   "source": [
    "from sklearn.preprocessing import StandardScaler\n",
    "from sklearn.decomposition import PCA\n",
    "from sklearn.cluster import DBSCAN\n",
    "from sklearn.pipeline import Pipeline\n",
    "from sklearn.model_selection import GridSearchCV\n",
    "from sklearn.metrics import silhouette_score"
   ]
  },
  {
   "cell_type": "code",
   "execution_count": 23,
   "metadata": {},
   "outputs": [
    {
     "name": "stdout",
     "output_type": "stream",
     "text": [
      "Fitting 1 folds for each of 126 candidates, totalling 126 fits\n"
     ]
    },
    {
     "name": "stderr",
     "output_type": "stream",
     "text": [
      "[Parallel(n_jobs=-1)]: Using backend LokyBackend with 8 concurrent workers.\n",
      "[Parallel(n_jobs=-1)]: Done  52 tasks      | elapsed:    1.6s\n",
      "[Parallel(n_jobs=-1)]: Done 111 out of 126 | elapsed:    3.9s remaining:    0.5s\n",
      "[Parallel(n_jobs=-1)]: Done 126 out of 126 | elapsed:    4.3s finished\n"
     ]
    }
   ],
   "source": [
    "def silhouette_scorer(pipeline, X):\n",
    "    pipeline.fit(X)\n",
    "    cluster_labels = pipeline['dbscan'].labels_\n",
    "    n_labels = len(set(cluster_labels))\n",
    "    n_samples = X.shape[0]\n",
    "    if n_labels == 1 or n_labels == n_samples:\n",
    "        return -1\n",
    "    else:\n",
    "        return silhouette_score(X, cluster_labels)\n",
    "    \n",
    "# define a pipeline to search for the best combination of PCA truncation, scaler and the number of kmeans clusters\n",
    "pipeline = Pipeline(steps=[('pca', PCA()), # a common practice before doing clustering: PCA which calculates the dimensions which best maximize variance; \n",
    "                           # it does dimensionality reduction while keeping the most important features, i.e. combinations of features best describe customers.\n",
    "                           ('scaler', StandardScaler()),\n",
    "                           ('dbscan', DBSCAN())])\n",
    "\n",
    "n_features = customer_profile.shape[1]\n",
    "\n",
    "# parameters of pipelines can be set using ‘__’ separated parameter names\n",
    "tuned_parameters = {\n",
    "    'pca__n_components': range(2, n_features + 1),\n",
    "    'dbscan__eps': [0.2, 0.3, 0.4, 0.5, 0.6, 0.7, 0.8],\n",
    "    'dbscan__metric': ('euclidean', 'manhattan', 'cosine')}\n",
    "    # 'dbscan__n_samples': [100]}\n",
    "\n",
    "search = GridSearchCV(estimator=pipeline, \n",
    "                      param_grid=tuned_parameters, \n",
    "                      scoring=silhouette_scorer, \n",
    "                      cv=[(slice(None), slice(None))],  # https://stackoverflow.com/a/44682305/5555994\n",
    "                      n_jobs=-1,  # use all processors\n",
    "                      refit=True, \n",
    "                      verbose=True).fit(customer_profile)"
   ]
  },
  {
   "cell_type": "code",
   "execution_count": 24,
   "metadata": {},
   "outputs": [
    {
     "data": {
      "text/html": [
       "<style  type=\"text/css\" >\n",
       "    #T_557093c4_23a9_11eb_acf4_9169b01bf258row0_col0 {\n",
       "            background-color:  lightyellow;\n",
       "        }    #T_557093c4_23a9_11eb_acf4_9169b01bf258row0_col1 {\n",
       "            background-color:  lightyellow;\n",
       "        }    #T_557093c4_23a9_11eb_acf4_9169b01bf258row0_col2 {\n",
       "            background-color:  lightyellow;\n",
       "        }</style><table id=\"T_557093c4_23a9_11eb_acf4_9169b01bf258\" ><thead>    <tr>        <th class=\"col_heading level0 col0\" >params</th>        <th class=\"col_heading level0 col1\" >mean_test_score</th>        <th class=\"col_heading level0 col2\" >rank_test_score</th>    </tr></thead><tbody>\n",
       "                <tr>\n",
       "                                <td id=\"T_557093c4_23a9_11eb_acf4_9169b01bf258row0_col0\" class=\"data row0 col0\" >{'dbscan__eps': 0.8, 'dbscan__metric': 'manhattan', 'pca__n_components': 2}</td>\n",
       "                        <td id=\"T_557093c4_23a9_11eb_acf4_9169b01bf258row0_col1\" class=\"data row0 col1\" >0.530665</td>\n",
       "                        <td id=\"T_557093c4_23a9_11eb_acf4_9169b01bf258row0_col2\" class=\"data row0 col2\" >1</td>\n",
       "            </tr>\n",
       "            <tr>\n",
       "                                <td id=\"T_557093c4_23a9_11eb_acf4_9169b01bf258row1_col0\" class=\"data row1 col0\" >{'dbscan__eps': 0.7, 'dbscan__metric': 'euclidean', 'pca__n_components': 2}</td>\n",
       "                        <td id=\"T_557093c4_23a9_11eb_acf4_9169b01bf258row1_col1\" class=\"data row1 col1\" >0.530558</td>\n",
       "                        <td id=\"T_557093c4_23a9_11eb_acf4_9169b01bf258row1_col2\" class=\"data row1 col2\" >2</td>\n",
       "            </tr>\n",
       "            <tr>\n",
       "                                <td id=\"T_557093c4_23a9_11eb_acf4_9169b01bf258row2_col0\" class=\"data row2 col0\" >{'dbscan__eps': 0.5, 'dbscan__metric': 'euclidean', 'pca__n_components': 2}</td>\n",
       "                        <td id=\"T_557093c4_23a9_11eb_acf4_9169b01bf258row2_col1\" class=\"data row2 col1\" >0.528202</td>\n",
       "                        <td id=\"T_557093c4_23a9_11eb_acf4_9169b01bf258row2_col2\" class=\"data row2 col2\" >3</td>\n",
       "            </tr>\n",
       "            <tr>\n",
       "                                <td id=\"T_557093c4_23a9_11eb_acf4_9169b01bf258row3_col0\" class=\"data row3 col0\" >{'dbscan__eps': 0.7, 'dbscan__metric': 'manhattan', 'pca__n_components': 2}</td>\n",
       "                        <td id=\"T_557093c4_23a9_11eb_acf4_9169b01bf258row3_col1\" class=\"data row3 col1\" >0.526537</td>\n",
       "                        <td id=\"T_557093c4_23a9_11eb_acf4_9169b01bf258row3_col2\" class=\"data row3 col2\" >4</td>\n",
       "            </tr>\n",
       "            <tr>\n",
       "                                <td id=\"T_557093c4_23a9_11eb_acf4_9169b01bf258row4_col0\" class=\"data row4 col0\" >{'dbscan__eps': 0.6, 'dbscan__metric': 'euclidean', 'pca__n_components': 2}</td>\n",
       "                        <td id=\"T_557093c4_23a9_11eb_acf4_9169b01bf258row4_col1\" class=\"data row4 col1\" >0.523684</td>\n",
       "                        <td id=\"T_557093c4_23a9_11eb_acf4_9169b01bf258row4_col2\" class=\"data row4 col2\" >5</td>\n",
       "            </tr>\n",
       "            <tr>\n",
       "                                <td id=\"T_557093c4_23a9_11eb_acf4_9169b01bf258row5_col0\" class=\"data row5 col0\" >{'dbscan__eps': 0.6, 'dbscan__metric': 'manhattan', 'pca__n_components': 2}</td>\n",
       "                        <td id=\"T_557093c4_23a9_11eb_acf4_9169b01bf258row5_col1\" class=\"data row5 col1\" >0.522478</td>\n",
       "                        <td id=\"T_557093c4_23a9_11eb_acf4_9169b01bf258row5_col2\" class=\"data row5 col2\" >6</td>\n",
       "            </tr>\n",
       "            <tr>\n",
       "                                <td id=\"T_557093c4_23a9_11eb_acf4_9169b01bf258row6_col0\" class=\"data row6 col0\" >{'dbscan__eps': 0.8, 'dbscan__metric': 'euclidean', 'pca__n_components': 3}</td>\n",
       "                        <td id=\"T_557093c4_23a9_11eb_acf4_9169b01bf258row6_col1\" class=\"data row6 col1\" >0.512151</td>\n",
       "                        <td id=\"T_557093c4_23a9_11eb_acf4_9169b01bf258row6_col2\" class=\"data row6 col2\" >7</td>\n",
       "            </tr>\n",
       "            <tr>\n",
       "                                <td id=\"T_557093c4_23a9_11eb_acf4_9169b01bf258row7_col0\" class=\"data row7 col0\" >{'dbscan__eps': 0.5, 'dbscan__metric': 'manhattan', 'pca__n_components': 2}</td>\n",
       "                        <td id=\"T_557093c4_23a9_11eb_acf4_9169b01bf258row7_col1\" class=\"data row7 col1\" >0.507982</td>\n",
       "                        <td id=\"T_557093c4_23a9_11eb_acf4_9169b01bf258row7_col2\" class=\"data row7 col2\" >8</td>\n",
       "            </tr>\n",
       "            <tr>\n",
       "                                <td id=\"T_557093c4_23a9_11eb_acf4_9169b01bf258row8_col0\" class=\"data row8 col0\" >{'dbscan__eps': 0.8, 'dbscan__metric': 'euclidean', 'pca__n_components': 2}</td>\n",
       "                        <td id=\"T_557093c4_23a9_11eb_acf4_9169b01bf258row8_col1\" class=\"data row8 col1\" >0.500856</td>\n",
       "                        <td id=\"T_557093c4_23a9_11eb_acf4_9169b01bf258row8_col2\" class=\"data row8 col2\" >9</td>\n",
       "            </tr>\n",
       "            <tr>\n",
       "                                <td id=\"T_557093c4_23a9_11eb_acf4_9169b01bf258row9_col0\" class=\"data row9 col0\" >{'dbscan__eps': 0.4, 'dbscan__metric': 'euclidean', 'pca__n_components': 2}</td>\n",
       "                        <td id=\"T_557093c4_23a9_11eb_acf4_9169b01bf258row9_col1\" class=\"data row9 col1\" >0.499438</td>\n",
       "                        <td id=\"T_557093c4_23a9_11eb_acf4_9169b01bf258row9_col2\" class=\"data row9 col2\" >10</td>\n",
       "            </tr>\n",
       "    </tbody></table>"
      ],
      "text/plain": [
       "<pandas.io.formats.style.Styler at 0x7fda634779a0>"
      ]
     },
     "execution_count": 24,
     "metadata": {},
     "output_type": "execute_result"
    }
   ],
   "source": [
    "dbscan_results = pd.DataFrame(search.cv_results_)[['params', 'mean_test_score', 'rank_test_score']].sort_values('rank_test_score')\n",
    "\n",
    "def highlight_equal(s, value, column):\n",
    "    is_max = pd.Series(data=False, index=s.index)\n",
    "    is_max[column] = s.loc[column] == value\n",
    "    return ['background-color: lightyellow' if is_max.any() else '' for v in is_max]\n",
    "\n",
    "dbscan_results.head(10).style.apply(highlight_equal, value=1, column=['rank_test_score'], axis=1).hide_index()"
   ]
  },
  {
   "cell_type": "code",
   "execution_count": 16,
   "metadata": {},
   "outputs": [
    {
     "ename": "AttributeError",
     "evalue": "'DBSCAN' object has no attribute 'predict'",
     "output_type": "error",
     "traceback": [
      "\u001b[0;31m---------------------------------------------------------------------------\u001b[0m",
      "\u001b[0;31mAttributeError\u001b[0m                            Traceback (most recent call last)",
      "\u001b[0;32m<ipython-input-16-cc42eff65464>\u001b[0m in \u001b[0;36m<module>\u001b[0;34m\u001b[0m\n\u001b[1;32m      1\u001b[0m \u001b[0;31m# create a scatter plot\u001b[0m\u001b[0;34m\u001b[0m\u001b[0;34m\u001b[0m\u001b[0;34m\u001b[0m\u001b[0m\n\u001b[0;32m----> 2\u001b[0;31m \u001b[0mclusters_customers\u001b[0m \u001b[0;34m=\u001b[0m \u001b[0msearch\u001b[0m\u001b[0;34m.\u001b[0m\u001b[0mpredict\u001b[0m\u001b[0;34m(\u001b[0m\u001b[0mcustomer_profile\u001b[0m\u001b[0;34m)\u001b[0m\u001b[0;34m\u001b[0m\u001b[0;34m\u001b[0m\u001b[0m\n\u001b[0m\u001b[1;32m      3\u001b[0m \u001b[0mpca_customer_profile\u001b[0m \u001b[0;34m=\u001b[0m \u001b[0msearch\u001b[0m\u001b[0;34m.\u001b[0m\u001b[0mbest_estimator_\u001b[0m\u001b[0;34m[\u001b[0m\u001b[0;34m'pca'\u001b[0m\u001b[0;34m]\u001b[0m\u001b[0;34m.\u001b[0m\u001b[0mtransform\u001b[0m\u001b[0;34m(\u001b[0m\u001b[0mcustomer_profile\u001b[0m\u001b[0;34m)\u001b[0m\u001b[0;34m\u001b[0m\u001b[0;34m\u001b[0m\u001b[0m\n\u001b[1;32m      4\u001b[0m \u001b[0mplt\u001b[0m\u001b[0;34m.\u001b[0m\u001b[0mscatter\u001b[0m\u001b[0;34m(\u001b[0m\u001b[0mpca_customer_profile\u001b[0m\u001b[0;34m[\u001b[0m\u001b[0;34m:\u001b[0m\u001b[0;34m,\u001b[0m \u001b[0;36m0\u001b[0m\u001b[0;34m]\u001b[0m\u001b[0;34m,\u001b[0m \u001b[0mpca_customer_profile\u001b[0m\u001b[0;34m[\u001b[0m\u001b[0;34m:\u001b[0m\u001b[0;34m,\u001b[0m \u001b[0;36m1\u001b[0m\u001b[0;34m]\u001b[0m\u001b[0;34m,\u001b[0m \u001b[0mc\u001b[0m\u001b[0;34m=\u001b[0m\u001b[0mclusters_customers\u001b[0m\u001b[0;34m,\u001b[0m \u001b[0ms\u001b[0m\u001b[0;34m=\u001b[0m\u001b[0;36m20\u001b[0m\u001b[0;34m)\u001b[0m\u001b[0;34m\u001b[0m\u001b[0;34m\u001b[0m\u001b[0m\n\u001b[1;32m      5\u001b[0m \u001b[0;31m# select cluster centers\u001b[0m\u001b[0;34m\u001b[0m\u001b[0;34m\u001b[0m\u001b[0;34m\u001b[0m\u001b[0m\n",
      "\u001b[0;32m/usr/local/lib/python3.8/dist-packages/sklearn/utils/metaestimators.py\u001b[0m in \u001b[0;36m__get__\u001b[0;34m(self, obj, type)\u001b[0m\n\u001b[1;32m    111\u001b[0m                     \u001b[0;32mcontinue\u001b[0m\u001b[0;34m\u001b[0m\u001b[0;34m\u001b[0m\u001b[0m\n\u001b[1;32m    112\u001b[0m                 \u001b[0;32melse\u001b[0m\u001b[0;34m:\u001b[0m\u001b[0;34m\u001b[0m\u001b[0;34m\u001b[0m\u001b[0m\n\u001b[0;32m--> 113\u001b[0;31m                     \u001b[0mgetattr\u001b[0m\u001b[0;34m(\u001b[0m\u001b[0mdelegate\u001b[0m\u001b[0;34m,\u001b[0m \u001b[0mself\u001b[0m\u001b[0;34m.\u001b[0m\u001b[0mattribute_name\u001b[0m\u001b[0;34m)\u001b[0m\u001b[0;34m\u001b[0m\u001b[0;34m\u001b[0m\u001b[0m\n\u001b[0m\u001b[1;32m    114\u001b[0m                     \u001b[0;32mbreak\u001b[0m\u001b[0;34m\u001b[0m\u001b[0;34m\u001b[0m\u001b[0m\n\u001b[1;32m    115\u001b[0m             \u001b[0;32melse\u001b[0m\u001b[0;34m:\u001b[0m\u001b[0;34m\u001b[0m\u001b[0;34m\u001b[0m\u001b[0m\n",
      "\u001b[0;32m/usr/local/lib/python3.8/dist-packages/sklearn/utils/metaestimators.py\u001b[0m in \u001b[0;36m__get__\u001b[0;34m(self, obj, type)\u001b[0m\n\u001b[1;32m    111\u001b[0m                     \u001b[0;32mcontinue\u001b[0m\u001b[0;34m\u001b[0m\u001b[0;34m\u001b[0m\u001b[0m\n\u001b[1;32m    112\u001b[0m                 \u001b[0;32melse\u001b[0m\u001b[0;34m:\u001b[0m\u001b[0;34m\u001b[0m\u001b[0;34m\u001b[0m\u001b[0m\n\u001b[0;32m--> 113\u001b[0;31m                     \u001b[0mgetattr\u001b[0m\u001b[0;34m(\u001b[0m\u001b[0mdelegate\u001b[0m\u001b[0;34m,\u001b[0m \u001b[0mself\u001b[0m\u001b[0;34m.\u001b[0m\u001b[0mattribute_name\u001b[0m\u001b[0;34m)\u001b[0m\u001b[0;34m\u001b[0m\u001b[0;34m\u001b[0m\u001b[0m\n\u001b[0m\u001b[1;32m    114\u001b[0m                     \u001b[0;32mbreak\u001b[0m\u001b[0;34m\u001b[0m\u001b[0;34m\u001b[0m\u001b[0m\n\u001b[1;32m    115\u001b[0m             \u001b[0;32melse\u001b[0m\u001b[0;34m:\u001b[0m\u001b[0;34m\u001b[0m\u001b[0;34m\u001b[0m\u001b[0m\n",
      "\u001b[0;31mAttributeError\u001b[0m: 'DBSCAN' object has no attribute 'predict'"
     ]
    }
   ],
   "source": [
    "# create a scatter plot\n",
    "clusters_customers = search.predict(customer_profile)\n",
    "pca_customer_profile = search.best_estimator_['pca'].transform(customer_profile)\n",
    "plt.scatter(pca_customer_profile[:, 0], pca_customer_profile[:, 1], c=clusters_customers, s=20)\n",
    "# select cluster centers\n",
    "centroids = search.best_estimator_['dbscan'].cluster_centers_\n",
    "plt.scatter(centroids[:, 0], centroids[:, 1], c='black', s=70, alpha=0.5);"
   ]
  },
  {
   "cell_type": "markdown",
   "metadata": {},
   "source": [
    "## Agglomerative Clustering"
   ]
  },
  {
   "cell_type": "code",
   "execution_count": 41,
   "metadata": {},
   "outputs": [],
   "source": [
    "from sklearn.preprocessing import StandardScaler\n",
    "# from sklearn.decomposition import PCA\n",
    "from sklearn.cluster import AgglomerativeClustering\n",
    "from sklearn.pipeline import Pipeline\n",
    "from sklearn.model_selection import GridSearchCV\n",
    "from sklearn.metrics import silhouette_score"
   ]
  },
  {
   "cell_type": "code",
   "execution_count": 45,
   "metadata": {},
   "outputs": [
    {
     "name": "stdout",
     "output_type": "stream",
     "text": [
      "Fitting 1 folds for each of 160 candidates, totalling 160 fits\n"
     ]
    },
    {
     "name": "stderr",
     "output_type": "stream",
     "text": [
      "[Parallel(n_jobs=-1)]: Using backend LokyBackend with 8 concurrent workers.\n",
      "[Parallel(n_jobs=-1)]: Done  34 tasks      | elapsed:    3.9s\n",
      "[Parallel(n_jobs=-1)]: Done 160 out of 160 | elapsed:   12.0s finished\n"
     ]
    }
   ],
   "source": [
    "def silhouette_scorer(pipeline, X):\n",
    "    pipeline.fit(X)\n",
    "    cluster_labels = pipeline['agglomerative'].labels_\n",
    "    return silhouette_score(X, cluster_labels)\n",
    "    \n",
    "# define a pipeline to search for the best combination of PCA truncation, scaler and the number of kmeans clusters\n",
    "pipeline = Pipeline(steps=[# ('pca', PCA()), # skipping PCA since the Feature Agglomeration uses agglomerative clustering to group together features \n",
    "                           # that look very similar, thus decreasing the number of features. It is a dimensionality reduction tool.\n",
    "                           ('scaler', StandardScaler()),\n",
    "                           ('agglomerative', AgglomerativeClustering())])\n",
    "\n",
    "n_features = customer_profile.shape[1]\n",
    "\n",
    "# parameters of pipelines can be set using ‘__’ separated parameter names\n",
    "tuned_parameters = {\n",
    "    # 'pca__n_components': range(2, n_features + 1),\n",
    "    'agglomerative__n_clusters' : range(2, 10),\n",
    "    'agglomerative__affinity': ('euclidean', 'manhattan', 'cosine'),\n",
    "    'agglomerative__linkage': ('ward', 'complete', 'average', 'single')}\n",
    "\n",
    "search = GridSearchCV(estimator=pipeline, \n",
    "                      param_grid=tuned_parameters, \n",
    "                      scoring=silhouette_scorer, \n",
    "                      cv=[(slice(None), slice(None))],  # https://stackoverflow.com/a/44682305/5555994\n",
    "                      n_jobs=-1,  # use all processors\n",
    "                      refit=True, \n",
    "                      verbose=True).fit(customer_profile)"
   ]
  },
  {
   "cell_type": "code",
   "execution_count": 48,
   "metadata": {},
   "outputs": [
    {
     "data": {
      "text/html": [
       "<style  type=\"text/css\" >\n",
       "    #T_9e50fe38_229d_11eb_82b1_05ce84ce29c8row0_col0 {\n",
       "            background-color:  lightyellow;\n",
       "        }    #T_9e50fe38_229d_11eb_82b1_05ce84ce29c8row0_col1 {\n",
       "            background-color:  lightyellow;\n",
       "        }    #T_9e50fe38_229d_11eb_82b1_05ce84ce29c8row0_col2 {\n",
       "            background-color:  lightyellow;\n",
       "        }    #T_9e50fe38_229d_11eb_82b1_05ce84ce29c8row1_col0 {\n",
       "            background-color:  lightyellow;\n",
       "        }    #T_9e50fe38_229d_11eb_82b1_05ce84ce29c8row1_col1 {\n",
       "            background-color:  lightyellow;\n",
       "        }    #T_9e50fe38_229d_11eb_82b1_05ce84ce29c8row1_col2 {\n",
       "            background-color:  lightyellow;\n",
       "        }    #T_9e50fe38_229d_11eb_82b1_05ce84ce29c8row2_col0 {\n",
       "            background-color:  lightyellow;\n",
       "        }    #T_9e50fe38_229d_11eb_82b1_05ce84ce29c8row2_col1 {\n",
       "            background-color:  lightyellow;\n",
       "        }    #T_9e50fe38_229d_11eb_82b1_05ce84ce29c8row2_col2 {\n",
       "            background-color:  lightyellow;\n",
       "        }    #T_9e50fe38_229d_11eb_82b1_05ce84ce29c8row3_col0 {\n",
       "            background-color:  lightyellow;\n",
       "        }    #T_9e50fe38_229d_11eb_82b1_05ce84ce29c8row3_col1 {\n",
       "            background-color:  lightyellow;\n",
       "        }    #T_9e50fe38_229d_11eb_82b1_05ce84ce29c8row3_col2 {\n",
       "            background-color:  lightyellow;\n",
       "        }</style><table id=\"T_9e50fe38_229d_11eb_82b1_05ce84ce29c8\" ><thead>    <tr>        <th class=\"col_heading level0 col0\" >params</th>        <th class=\"col_heading level0 col1\" >mean_test_score</th>        <th class=\"col_heading level0 col2\" >rank_test_score</th>    </tr></thead><tbody>\n",
       "                <tr>\n",
       "                                <td id=\"T_9e50fe38_229d_11eb_82b1_05ce84ce29c8row0_col0\" class=\"data row0 col0\" >{'agglomerative__affinity': 'manhattan', 'agglomerative__linkage': 'single', 'agglomerative__n_clusters': 2}</td>\n",
       "                        <td id=\"T_9e50fe38_229d_11eb_82b1_05ce84ce29c8row0_col1\" class=\"data row0 col1\" >0.675121</td>\n",
       "                        <td id=\"T_9e50fe38_229d_11eb_82b1_05ce84ce29c8row0_col2\" class=\"data row0 col2\" >1</td>\n",
       "            </tr>\n",
       "            <tr>\n",
       "                                <td id=\"T_9e50fe38_229d_11eb_82b1_05ce84ce29c8row1_col0\" class=\"data row1 col0\" >{'agglomerative__affinity': 'l2', 'agglomerative__linkage': 'single', 'agglomerative__n_clusters': 2}</td>\n",
       "                        <td id=\"T_9e50fe38_229d_11eb_82b1_05ce84ce29c8row1_col1\" class=\"data row1 col1\" >0.675121</td>\n",
       "                        <td id=\"T_9e50fe38_229d_11eb_82b1_05ce84ce29c8row1_col2\" class=\"data row1 col2\" >1</td>\n",
       "            </tr>\n",
       "            <tr>\n",
       "                                <td id=\"T_9e50fe38_229d_11eb_82b1_05ce84ce29c8row2_col0\" class=\"data row2 col0\" >{'agglomerative__affinity': 'l1', 'agglomerative__linkage': 'single', 'agglomerative__n_clusters': 2}</td>\n",
       "                        <td id=\"T_9e50fe38_229d_11eb_82b1_05ce84ce29c8row2_col1\" class=\"data row2 col1\" >0.675121</td>\n",
       "                        <td id=\"T_9e50fe38_229d_11eb_82b1_05ce84ce29c8row2_col2\" class=\"data row2 col2\" >1</td>\n",
       "            </tr>\n",
       "            <tr>\n",
       "                                <td id=\"T_9e50fe38_229d_11eb_82b1_05ce84ce29c8row3_col0\" class=\"data row3 col0\" >{'agglomerative__affinity': 'euclidean', 'agglomerative__linkage': 'single', 'agglomerative__n_clusters': 2}</td>\n",
       "                        <td id=\"T_9e50fe38_229d_11eb_82b1_05ce84ce29c8row3_col1\" class=\"data row3 col1\" >0.675121</td>\n",
       "                        <td id=\"T_9e50fe38_229d_11eb_82b1_05ce84ce29c8row3_col2\" class=\"data row3 col2\" >1</td>\n",
       "            </tr>\n",
       "            <tr>\n",
       "                                <td id=\"T_9e50fe38_229d_11eb_82b1_05ce84ce29c8row4_col0\" class=\"data row4 col0\" >{'agglomerative__affinity': 'l1', 'agglomerative__linkage': 'average', 'agglomerative__n_clusters': 2}</td>\n",
       "                        <td id=\"T_9e50fe38_229d_11eb_82b1_05ce84ce29c8row4_col1\" class=\"data row4 col1\" >0.657307</td>\n",
       "                        <td id=\"T_9e50fe38_229d_11eb_82b1_05ce84ce29c8row4_col2\" class=\"data row4 col2\" >5</td>\n",
       "            </tr>\n",
       "            <tr>\n",
       "                                <td id=\"T_9e50fe38_229d_11eb_82b1_05ce84ce29c8row5_col0\" class=\"data row5 col0\" >{'agglomerative__affinity': 'euclidean', 'agglomerative__linkage': 'average', 'agglomerative__n_clusters': 2}</td>\n",
       "                        <td id=\"T_9e50fe38_229d_11eb_82b1_05ce84ce29c8row5_col1\" class=\"data row5 col1\" >0.657307</td>\n",
       "                        <td id=\"T_9e50fe38_229d_11eb_82b1_05ce84ce29c8row5_col2\" class=\"data row5 col2\" >5</td>\n",
       "            </tr>\n",
       "            <tr>\n",
       "                                <td id=\"T_9e50fe38_229d_11eb_82b1_05ce84ce29c8row6_col0\" class=\"data row6 col0\" >{'agglomerative__affinity': 'l2', 'agglomerative__linkage': 'average', 'agglomerative__n_clusters': 2}</td>\n",
       "                        <td id=\"T_9e50fe38_229d_11eb_82b1_05ce84ce29c8row6_col1\" class=\"data row6 col1\" >0.657307</td>\n",
       "                        <td id=\"T_9e50fe38_229d_11eb_82b1_05ce84ce29c8row6_col2\" class=\"data row6 col2\" >5</td>\n",
       "            </tr>\n",
       "            <tr>\n",
       "                                <td id=\"T_9e50fe38_229d_11eb_82b1_05ce84ce29c8row7_col0\" class=\"data row7 col0\" >{'agglomerative__affinity': 'manhattan', 'agglomerative__linkage': 'average', 'agglomerative__n_clusters': 2}</td>\n",
       "                        <td id=\"T_9e50fe38_229d_11eb_82b1_05ce84ce29c8row7_col1\" class=\"data row7 col1\" >0.657307</td>\n",
       "                        <td id=\"T_9e50fe38_229d_11eb_82b1_05ce84ce29c8row7_col2\" class=\"data row7 col2\" >5</td>\n",
       "            </tr>\n",
       "            <tr>\n",
       "                                <td id=\"T_9e50fe38_229d_11eb_82b1_05ce84ce29c8row8_col0\" class=\"data row8 col0\" >{'agglomerative__affinity': 'manhattan', 'agglomerative__linkage': 'single', 'agglomerative__n_clusters': 3}</td>\n",
       "                        <td id=\"T_9e50fe38_229d_11eb_82b1_05ce84ce29c8row8_col1\" class=\"data row8 col1\" >0.652676</td>\n",
       "                        <td id=\"T_9e50fe38_229d_11eb_82b1_05ce84ce29c8row8_col2\" class=\"data row8 col2\" >9</td>\n",
       "            </tr>\n",
       "            <tr>\n",
       "                                <td id=\"T_9e50fe38_229d_11eb_82b1_05ce84ce29c8row9_col0\" class=\"data row9 col0\" >{'agglomerative__affinity': 'l1', 'agglomerative__linkage': 'single', 'agglomerative__n_clusters': 3}</td>\n",
       "                        <td id=\"T_9e50fe38_229d_11eb_82b1_05ce84ce29c8row9_col1\" class=\"data row9 col1\" >0.652676</td>\n",
       "                        <td id=\"T_9e50fe38_229d_11eb_82b1_05ce84ce29c8row9_col2\" class=\"data row9 col2\" >9</td>\n",
       "            </tr>\n",
       "    </tbody></table>"
      ],
      "text/plain": [
       "<pandas.io.formats.style.Styler at 0x7f92d3f20d90>"
      ]
     },
     "execution_count": 48,
     "metadata": {},
     "output_type": "execute_result"
    }
   ],
   "source": [
    "agglomerative_results = pd.DataFrame(search.cv_results_)[['params', 'mean_test_score', 'rank_test_score']].sort_values('rank_test_score')\n",
    "\n",
    "def highlight_equal(s, value, column):\n",
    "    is_max = pd.Series(data=False, index=s.index)\n",
    "    is_max[column] = s.loc[column] == value\n",
    "    return ['background-color: lightyellow' if is_max.any() else '' for v in is_max]\n",
    "\n",
    "agglomerative_results.head(10).style.apply(highlight_equal, value=1, column=['rank_test_score'], axis=1).hide_index()"
   ]
  },
  {
   "cell_type": "code",
   "execution_count": null,
   "metadata": {},
   "outputs": [],
   "source": []
  }
 ],
 "metadata": {
  "kernelspec": {
   "display_name": "Python 3",
   "language": "python",
   "name": "python3"
  },
  "language_info": {
   "codemirror_mode": {
    "name": "ipython",
    "version": 3
   },
   "file_extension": ".py",
   "mimetype": "text/x-python",
   "name": "python",
   "nbconvert_exporter": "python",
   "pygments_lexer": "ipython3",
   "version": "3.8.6"
  }
 },
 "nbformat": 4,
 "nbformat_minor": 4
}
